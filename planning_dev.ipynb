{
 "cells": [
  {
   "cell_type": "code",
   "execution_count": 1,
   "id": "preliminary-reward",
   "metadata": {},
   "outputs": [],
   "source": [
    "# https://ipython.org/ipython-doc/3/config/extensions/autoreload.html\n",
    "%load_ext autoreload\n",
    "%autoreload 2"
   ]
  },
  {
   "cell_type": "markdown",
   "id": "realistic-intake",
   "metadata": {},
   "source": [
    "## Options"
   ]
  },
  {
   "cell_type": "code",
   "execution_count": 61,
   "id": "increased-basis",
   "metadata": {},
   "outputs": [],
   "source": [
    "# parse options\n",
    "problem = 'twelve_pieces_process.json'\n",
    "problem_subdir = 'results'\n",
    "\n",
    "recompute_action_states = False\n",
    "load_external_movements = False"
   ]
  },
  {
   "cell_type": "code",
   "execution_count": 85,
   "id": "fifty-bowling",
   "metadata": {},
   "outputs": [],
   "source": [
    "# generic planning options\n",
    "id_only = None # 'A2_M1' # None | 'A273_M0'\n",
    "\n",
    "low_res = True\n",
    "plan_impacted = False\n",
    "\n",
    "#     'nonlinear',\n",
    "#     'linear',\n",
    "#     'id_only', # 'Compute only for movement with a specific tag, e.g. `A54_M0`.'\n",
    "#     'free_motion_only', # 'Only compute free motions.'\n",
    "#     'propagate_only', # 'Only do state propagation and impacted movement planning.'\n",
    "solve_mode = 'linear'\n",
    "\n",
    "viz_upon_found = False"
   ]
  },
  {
   "cell_type": "code",
   "execution_count": 86,
   "id": "exotic-freeware",
   "metadata": {},
   "outputs": [],
   "source": [
    "# client options\n",
    "viewer = True\n",
    "debug = True\n",
    "verbose = True\n",
    "diagnosis = False\n",
    "\n",
    "watch = True\n",
    "step_sim = True\n",
    "\n",
    "disable_env = False\n",
    "reinit_tool = False\n",
    "\n",
    "write = False\n",
    "save_now = False"
   ]
  },
  {
   "cell_type": "code",
   "execution_count": 87,
   "id": "polished-chorus",
   "metadata": {},
   "outputs": [],
   "source": [
    "from collections import namedtuple\n",
    "PlanningArguments = namedtuple('PlanningArguments', ['problem', 'debug', 'diagnosis', 'id_only', 'solve_mode', 'viz_upon_found', \n",
    "                                             'save_now', 'propagate_only', 'write', 'plan_impacted', 'watch', 'step_sim', 'verbose'])\n",
    "\n",
    "args = PlanningArguments(problem, debug, diagnosis, id_only, solve_mode, viz_upon_found, save_now, propagate_only, write, plan_impacted, watch, step_sim, verbose)"
   ]
  },
  {
   "cell_type": "markdown",
   "id": "closing-pontiac",
   "metadata": {},
   "source": [
    "## Parse process from json"
   ]
  },
  {
   "cell_type": "code",
   "execution_count": 88,
   "id": "theoretical-joint",
   "metadata": {},
   "outputs": [],
   "source": [
    "import os\n",
    "from termcolor import cprint\n",
    "import pybullet_planning as pp\n",
    "from integral_timber_joints.planning.parsing import parse_process, save_process_and_movements, get_process_path, save_process"
   ]
  },
  {
   "cell_type": "code",
   "execution_count": 80,
   "id": "personal-surgery",
   "metadata": {},
   "outputs": [
    {
     "name": "stdout",
     "output_type": "stream",
     "text": [
      "\u001b[34mProcess json parsed from c:\\users\\harry\\dropbox (mit)\\code_ws_dropbox\\itj_ws\\integral_timber_joints\\external\\itj_design_study\\210128_RemodelFredPavilion\\results\\twelve_pieces_process.json\u001b[0m\n"
     ]
    }
   ],
   "source": [
    "process = parse_process(problem, subdir=problem_subdir)\n",
    "result_path = get_process_path(problem, subdir='results')\n",
    "if len(process.movements) == 0:\n",
    "    cprint('No movements found in process, trigger recompute actions.', 'red')\n",
    "    recompute_action_states = True\n",
    "if recompute_action_states:\n",
    "    cprint('Recomputing Actions and States', 'cyan')\n",
    "    recompute_action_states(process)"
   ]
  },
  {
   "cell_type": "code",
   "execution_count": 81,
   "id": "hindu-start",
   "metadata": {},
   "outputs": [],
   "source": [
    "from copy import deepcopy\n",
    "unsolved_process = deepcopy(process)"
   ]
  },
  {
   "cell_type": "code",
   "execution_count": 7,
   "id": "minus-burlington",
   "metadata": {},
   "outputs": [
    {
     "name": "stdout",
     "output_type": "stream",
     "text": [
      "\u001b[36mLoading external movements from c:\\users\\harry\\dropbox (mit)\\code_ws_dropbox\\itj_ws\\integral_timber_joints\\external\\itj_design_study\\210128_RemodelFredPavilion\\results\u001b[0m\n"
     ]
    }
   ],
   "source": [
    "# # force load external if only planning for the free motions\n",
    "# load_external_movements = load_external_movements or free_motion_only or id_only is not None\n",
    "# if load_external_movements:\n",
    "#     ext_movement_path = os.path.dirname(result_path)\n",
    "#     cprint('Loading external movements from {}'.format(ext_movement_path), 'cyan')\n",
    "#     process.load_external_movements(ext_movement_path)\n",
    "#     if recompute_action_states:\n",
    "#         save_process(process, result_path)\n",
    "#         cprint('Recomputed process saved to %s' % result_path, 'green')"
   ]
  },
  {
   "cell_type": "markdown",
   "id": "emerging-compensation",
   "metadata": {},
   "source": [
    "## Start client"
   ]
  },
  {
   "cell_type": "code",
   "execution_count": 95,
   "id": "crazy-progressive",
   "metadata": {},
   "outputs": [],
   "source": [
    "from integral_timber_joints.planning.robot_setup import load_RFL_world\n",
    "from integral_timber_joints.planning.run import set_initial_state\n",
    "\n",
    "# * Connect to path planning backend and initialize robot parameters\n",
    "client, robot, _ = load_RFL_world(viewer=viewer or diagnosis or view_states or watch or step_sim, verbose=False)\n",
    "set_initial_state(client, robot, process, disable_env=disable_env, reinit_tool=reinit_tool)"
   ]
  },
  {
   "cell_type": "code",
   "execution_count": 90,
   "id": "rough-merchandise",
   "metadata": {},
   "outputs": [],
   "source": [
    "from integral_timber_joints.planning.robot_setup import GANTRY_ARM_GROUP, GANTRY_GROUP, BARE_ARM_GROUP\n",
    "from compas.robots import Joint\n",
    "import numpy as np\n",
    "\n",
    "joint_names = robot.get_configurable_joint_names(group=GANTRY_ARM_GROUP)\n",
    "joint_types = robot.get_joint_types_by_names(joint_names)\n",
    "# 0.1 rad = 5.7 deg\n",
    "joint_jump_threshold = {jt_name : np.pi/6 \\\n",
    "        if jt_type in [Joint.REVOLUTE, Joint.CONTINUOUS] else 0.1 \\\n",
    "        for jt_name, jt_type in zip(joint_names, joint_types)}\n",
    "\n",
    "options = {\n",
    "    'debug' : debug,\n",
    "    'diagnosis' : False,\n",
    "    'low_res' : low_res,\n",
    "    'distance_threshold' : 0.0012,\n",
    "    'frame_jump_tolerance' : 0.0012,\n",
    "    'verbose' : verbose,\n",
    "    'jump_threshold' : joint_jump_threshold,\n",
    "#     'max_distance' : args.max_distance,\n",
    "}"
   ]
  },
  {
   "cell_type": "markdown",
   "id": "higher-affect",
   "metadata": {},
   "source": [
    "# Plan only one movement"
   ]
  },
  {
   "cell_type": "code",
   "execution_count": 29,
   "id": "wrong-southwest",
   "metadata": {},
   "outputs": [],
   "source": [
    "# if id_only:\n",
    "#     beam_id = process.get_beam_id_from_movement_id(id_only)\n",
    "#     process.get_movement_summary_by_beam_id(beam_id)"
   ]
  },
  {
   "cell_type": "code",
   "execution_count": 39,
   "id": "understanding-wages",
   "metadata": {},
   "outputs": [
    {
     "name": "stdout",
     "output_type": "stream",
     "text": [
      "\u001b[36mRoboticLinearMovement(#A2_M1, Linear Advance to Final Frame of Beam ('b0'), traj 1)\u001b[0m\n",
      "\u001b[33mend conf FK inconsistent (0.00005 m) with given current frame in end state.\u001b[0m\n",
      "\u001b[33mBoth start/end confs are pre-specified, problem might be too stiff to be solved.\u001b[0m\n",
      "\u001b[34mOne-sided Cartesian planning : start conf set, forward mode\u001b[0m\n",
      "\tcartesian trial #0\n",
      "\u001b[32mPlan found by IterativeIK! After 0 path failure (by IterativeIK) over 1 samples.\u001b[0m\n"
     ]
    },
    {
     "data": {
      "text/plain": [
       "True"
      ]
     },
     "execution_count": 39,
     "metadata": {},
     "output_type": "execute_result"
    }
   ],
   "source": [
    "from integral_timber_joints.planning.stream import compute_free_movement, compute_linear_movement\n",
    "from integral_timber_joints.planning.solve import compute_movement\n",
    "\n",
    "chosen_m = process.get_movement_by_movement_id(id_only)\n",
    "compute_movement(client, robot, process, chosen_m, options=lm_options, diagnosis=diagnosis)"
   ]
  },
  {
   "cell_type": "code",
   "execution_count": 40,
   "id": "incredible-climb",
   "metadata": {},
   "outputs": [
    {
     "name": "stdout",
     "output_type": "stream",
     "text": [
      "===\n",
      "Viz:\u001b[0m\n",
      "\u001b[32mRoboticLinearMovement(#A2_M1, Linear Advance to Final Frame of Beam ('b0'), traj 1)\u001b[0m\n"
     ]
    },
    {
     "name": "stdin",
     "output_type": "stream",
     "text": [
      "Step conf. \n",
      "Step conf. \n",
      "Step conf. \n",
      "Step conf. \n",
      "Step conf. \n",
      "Step conf. \n",
      "Step conf. \n",
      "End state. \n"
     ]
    }
   ],
   "source": [
    "from integral_timber_joints.planning.visualization import visualize_movement_trajectory\n",
    "\n",
    "with pp.WorldSaver():\n",
    "    visualize_movement_trajectory(client, robot, process, chosen_m, step_sim=True)"
   ]
  },
  {
   "cell_type": "markdown",
   "id": "clinical-superior",
   "metadata": {},
   "source": [
    "# Plan movements for a beam"
   ]
  },
  {
   "cell_type": "code",
   "execution_count": 83,
   "id": "equivalent-pavilion",
   "metadata": {},
   "outputs": [],
   "source": [
    "process = deepcopy(unsolved_process)"
   ]
  },
  {
   "cell_type": "code",
   "execution_count": 94,
   "id": "jewish-chase",
   "metadata": {},
   "outputs": [],
   "source": [
    "# process.get_movement_summary_by_beam_id(beam_id)"
   ]
  },
  {
   "cell_type": "code",
   "execution_count": null,
   "id": "shared-network",
   "metadata": {},
   "outputs": [
    {
     "name": "stdout",
     "output_type": "stream",
     "text": [
      "====================\n",
      "\n",
      "\n",
      "\n",
      "\u001b[1m\u001b[47m\u001b[34m* compute movement ids: ['A0_M0', 'A0_M1', 'A0_M2', 'A0_M3', 'A0_M4', 'A1_M0', 'A1_M1', 'A1_M2', 'A1_M3', 'A1_M4', 'A1_M5', 'A2_M0', 'A2_M1', 'A2_M2', 'A2_M3', 'A3_M0', 'A3_M1', 'A3_M2', 'A3_M3', 'A3_M4']\u001b[0m\n",
      "----------\n",
      "(0)\n",
      "\u001b[36mRoboticFreeMovement(#A0_M0, Free Move reach Storage Approach Frame of PG1000 ('g2'), to get tool., traj 0)\u001b[0m\n",
      "\u001b[33mFreeMovement: Robot end conf is NOT specified in RoboticFreeMovement(#A0_M0, Free Move reach Storage Approach Frame of PG1000 ('g2'), to get tool., traj 0), we will sample an IK conf based on the given t0cp frame.\u001b[0m\n",
      "\u001b[32mFree movement found for RoboticFreeMovement(#A0_M0, Free Move reach Storage Approach Frame of PG1000 ('g2'), to get tool., traj 0)!\u001b[0m\n",
      "~~~~~\n",
      "\tPropagate states for (\u001b[36m0\u001b[0m) : RoboticFreeMovement(#A0_M0, Free Move reach Storage Approach Frame of PG1000 ('g2'), to get tool., traj 1)\n",
      "\t$ Impacted (forward): (\u001b[33m1\u001b[0m) RoboticLinearMovement(#A0_M1, Linear Advance to Storage Frame of PG1000 ('g2'), to get tool., traj 0)\n",
      "----------\n",
      "(1)\n",
      "\u001b[36mRoboticLinearMovement(#A0_M1, Linear Advance to Storage Frame of PG1000 ('g2'), to get tool., traj 0)\u001b[0m\n",
      "\u001b[33mend conf FK inconsistent (0.00002 m) with given current frame in end state.\u001b[0m\n",
      "\u001b[33mBoth start/end confs are pre-specified, problem might be too stiff to be solved.\u001b[0m\n",
      "\u001b[34mOne-sided Cartesian planning : start conf set, forward mode\u001b[0m\n",
      "\tcartesian trial #0\n",
      "\u001b[31mNo Cartesian motion found, due to IK plan is not found.!\u001b[0m\n",
      "\tcartesian trial #1\n",
      "\u001b[32mPlan found by IterativeIK! After 1 path failure (by IterativeIK) over 2 samples.\u001b[0m\n",
      "Joint #bridge1_joint_EA_X (revolution) jump: 0.6056 | tol: 0.1000\n",
      "Joint #robot11_joint_EA_Y (revolution) jump: 1.3412 | tol: 0.1000\n",
      "Joint #robot11_joint_EA_Z (revolution) jump: 0.2985 | tol: 0.1000\n",
      "Joint #robot11_joint_3 (revolution) jump: 0.7429 | tol: 0.5236\n",
      "Joint #robot11_joint_4 (revolution) jump: 1.9111 | tol: 0.5236\n",
      "Joint #robot11_joint_5 (revolution) jump: 1.0656 | tol: 0.5236\n",
      "Joint #robot11_joint_6 (revolution) jump: 1.6090 | tol: 0.5236\n",
      "\u001b[31mLinearMovement: given end conf not coincided with traj[-1] - max diff 1.91109\u001b[0m\n",
      "~~~~~\n",
      "\tPropagate states for (\u001b[36m1\u001b[0m) : RoboticLinearMovement(#A0_M1, Linear Advance to Storage Frame of PG1000 ('g2'), to get tool., traj 1)\n",
      "\t- Altered (forward): (\u001b[32m2\u001b[0m) RoboticDigitalOutput(#A0_M2, Toolchanger Lock PG1000 ('g2'))\n",
      "\t- Altered (forward): (\u001b[32m3\u001b[0m) RoboticDigitalOutput(#A0_M3, PG1000 ('g2') Open Gripper to release itself from storage pad.)\n",
      "\t$ Impacted (forward): (\u001b[33m4\u001b[0m) RoboticLinearMovement(#A0_M4, Linear Retract after getting PG1000 ('g2') from storage., traj 0)\n",
      "----------\n",
      "(2)\n",
      "====================\n",
      "\n",
      "\n",
      "\n",
      "\u001b[1m\u001b[47m\u001b[34mVisualize results\u001b[0m\n",
      "===\n",
      "Viz:\u001b[0m\n",
      "\u001b[32mRoboticFreeMovement(#A0_M0, Free Move reach Storage Approach Frame of PG1000 ('g2'), to get tool., traj 1)\u001b[0m\n"
     ]
    },
    {
     "name": "stdin",
     "output_type": "stream",
     "text": [
      "Step conf. \n",
      "Step conf. \n",
      "Step conf. \n",
      "Step conf. \n",
      "End state. \n"
     ]
    },
    {
     "name": "stdout",
     "output_type": "stream",
     "text": [
      "===\n",
      "Viz:\u001b[0m\n",
      "\u001b[32mRoboticLinearMovement(#A0_M1, Linear Advance to Storage Frame of PG1000 ('g2'), to get tool., traj 1)\u001b[0m\n"
     ]
    },
    {
     "name": "stdin",
     "output_type": "stream",
     "text": [
      "Step conf. \n",
      "Step conf. \n",
      "Step conf. \n",
      "Step conf. \n",
      "Step conf. \n",
      "End state. \n"
     ]
    },
    {
     "name": "stdout",
     "output_type": "stream",
     "text": [
      "===\n",
      "Viz:\u001b[0m\n"
     ]
    },
    {
     "name": "stdin",
     "output_type": "stream",
     "text": [
      "End state. \n"
     ]
    },
    {
     "name": "stdout",
     "output_type": "stream",
     "text": [
      "===\n",
      "Viz:\u001b[0m\n"
     ]
    },
    {
     "name": "stdin",
     "output_type": "stream",
     "text": [
      "End state. \n"
     ]
    },
    {
     "name": "stdout",
     "output_type": "stream",
     "text": [
      "===\n",
      "Viz:\u001b[0m\n",
      "\u001b[33mNo traj found for RoboticLinearMovement(#A0_M4, Linear Retract after getting PG1000 ('g2') from storage., traj 0)\n",
      " -- has_start_conf True, has_end_conf False\u001b[0m\n"
     ]
    },
    {
     "name": "stdin",
     "output_type": "stream",
     "text": [
      "End state. \n"
     ]
    },
    {
     "name": "stdout",
     "output_type": "stream",
     "text": [
      "===\n",
      "Viz:\u001b[0m\n",
      "\u001b[33mNo traj found for RoboticFreeMovement(#A1_M0, Free Move to reach Pickup Approach Frame of Beam ('b0'), traj 0)\n",
      " -- has_start_conf False, has_end_conf False\u001b[0m\n"
     ]
    },
    {
     "name": "stdin",
     "output_type": "stream",
     "text": [
      "End state. \n"
     ]
    },
    {
     "name": "stdout",
     "output_type": "stream",
     "text": [
      "===\n",
      "Viz:\u001b[0m\n"
     ]
    }
   ],
   "source": [
    "from integral_timber_joints.planning.run import compute_movements_for_beam_id\n",
    "\n",
    "beam_id = 'b0'\n",
    "# beam_id = process.get_beam_id_from_movement_id(args.id_only)\n",
    "compute_movements_for_beam_id(client, robot, process, beam_id, args, options=options)"
   ]
  },
  {
   "cell_type": "markdown",
   "id": "finnish-explorer",
   "metadata": {},
   "source": [
    "# Disconnect client"
   ]
  },
  {
   "cell_type": "code",
   "execution_count": 93,
   "id": "consistent-fairy",
   "metadata": {},
   "outputs": [],
   "source": [
    "client.disconnect()"
   ]
  }
 ],
 "metadata": {
  "interpreter": {
   "hash": "e316c14abce5fba3fe9c4f8c619f8000a7b0c13889e51eb6196aed0ab3fd7ed0"
  },
  "kernelspec": {
   "display_name": "Python 3",
   "language": "python",
   "name": "python3"
  },
  "language_info": {
   "codemirror_mode": {
    "name": "ipython",
    "version": 3
   },
   "file_extension": ".py",
   "mimetype": "text/x-python",
   "name": "python",
   "nbconvert_exporter": "python",
   "pygments_lexer": "ipython3",
   "version": "3.7.9"
  }
 },
 "nbformat": 4,
 "nbformat_minor": 5
}
