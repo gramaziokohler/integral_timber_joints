{
 "cells": [
  {
   "cell_type": "code",
   "execution_count": 1,
   "id": "lyric-lounge",
   "metadata": {},
   "outputs": [],
   "source": [
    "# https://ipython.org/ipython-doc/3/config/extensions/autoreload.html\n",
    "%load_ext autoreload\n",
    "%autoreload 2"
   ]
  },
  {
   "cell_type": "markdown",
   "id": "selective-assembly",
   "metadata": {},
   "source": [
    "## Options"
   ]
  },
  {
   "cell_type": "code",
   "execution_count": 2,
   "id": "enabling-institute",
   "metadata": {},
   "outputs": [],
   "source": [
    "# parse options\n",
    "problem = 'twelve_pieces_process.json' # 'pavilion_process.json' # 'twelve_pieces_process.json'\n",
    "problem_subdir = 'results'\n",
    "\n",
    "recompute_action_states = False\n",
    "load_external_movements = False"
   ]
  },
  {
   "cell_type": "code",
   "execution_count": 3,
   "id": "christian-single",
   "metadata": {},
   "outputs": [],
   "source": [
    "# generic planning options\n",
    "id_only = None # 'A2_M1' # None | 'A273_M0'\n",
    "\n",
    "low_res = False\n",
    "plan_impacted = False\n",
    "\n",
    "#     'nonlinear',\n",
    "#     'linear',\n",
    "#     'id_only', # 'Compute only for movement with a specific tag, e.g. `A54_M0`.'\n",
    "#     'free_motion_only', # 'Only compute free motions.'\n",
    "#     'propagate_only', # 'Only do state propagation and impacted movement planning.'\n",
    "solve_mode = 'linear'\n",
    "\n",
    "viz_upon_found = False"
   ]
  },
  {
   "cell_type": "code",
   "execution_count": 4,
   "id": "oriental-archives",
   "metadata": {},
   "outputs": [],
   "source": [
    "# client options\n",
    "viewer = True\n",
    "verbose = True\n",
    "\n",
    "debug = False\n",
    "diagnosis = False\n",
    "\n",
    "watch = True\n",
    "step_sim = False\n",
    "\n",
    "disable_env = False\n",
    "reinit_tool = False\n",
    "\n",
    "write = False\n",
    "save_now = False"
   ]
  },
  {
   "cell_type": "code",
   "execution_count": 5,
   "id": "individual-queensland",
   "metadata": {},
   "outputs": [],
   "source": [
    "from collections import namedtuple\n",
    "PlanningArguments = namedtuple('PlanningArguments', ['problem', 'viewer', 'debug', 'diagnosis', 'id_only', 'solve_mode', 'viz_upon_found', \n",
    "                                             'save_now', 'write', 'plan_impacted', 'watch', 'step_sim', 'verbose'])\n",
    "\n",
    "args = PlanningArguments(problem, viewer, debug, diagnosis, id_only, solve_mode, viz_upon_found, save_now, write, plan_impacted, watch, step_sim, verbose)"
   ]
  },
  {
   "cell_type": "markdown",
   "id": "blocked-number",
   "metadata": {},
   "source": [
    "## Parse process from json"
   ]
  },
  {
   "cell_type": "code",
   "execution_count": 6,
   "id": "fiscal-inclusion",
   "metadata": {},
   "outputs": [],
   "source": [
    "import os\n",
    "from termcolor import cprint\n",
    "import pybullet_planning as pp\n",
    "from integral_timber_joints.planning.parsing import parse_process, save_process_and_movements, get_process_path, save_process"
   ]
  },
  {
   "cell_type": "code",
   "execution_count": 7,
   "id": "pregnant-hometown",
   "metadata": {},
   "outputs": [
    {
     "name": "stdout",
     "output_type": "stream",
     "text": [
      "\u001b[34mProcess json parsed from c:\\users\\harry\\dropbox (mit)\\code_ws_dropbox\\itj_ws\\integral_timber_joints\\external\\itj_design_study\\210128_RemodelFredPavilion\\results\\twelve_pieces_process.json\u001b[0m\n"
     ]
    }
   ],
   "source": [
    "process = parse_process(problem, subdir=problem_subdir)\n",
    "result_path = get_process_path(problem, subdir='results')\n",
    "if len(process.movements) == 0:\n",
    "    cprint('No movements found in process, trigger recompute actions.', 'red')\n",
    "    recompute_action_states = True\n",
    "if recompute_action_states:\n",
    "    cprint('Recomputing Actions and States', 'cyan')\n",
    "    recompute_action_states(process)"
   ]
  },
  {
   "cell_type": "code",
   "execution_count": 8,
   "id": "wireless-forth",
   "metadata": {},
   "outputs": [],
   "source": [
    "from copy import deepcopy\n",
    "unsolved_process = deepcopy(process)"
   ]
  },
  {
   "cell_type": "code",
   "execution_count": 10,
   "id": "regional-shape",
   "metadata": {},
   "outputs": [],
   "source": [
    "# # force load external if only planning for the free motions\n",
    "# load_external_movements = load_external_movements or free_motion_only or id_only is not None\n",
    "# if load_external_movements:\n",
    "#     ext_movement_path = os.path.dirname(result_path)\n",
    "#     cprint('Loading external movements from {}'.format(ext_movement_path), 'cyan')\n",
    "#     process.load_external_movements(ext_movement_path)\n",
    "#     if recompute_action_states:\n",
    "#         save_process(process, result_path)\n",
    "#         cprint('Recomputed process saved to %s' % result_path, 'green')"
   ]
  },
  {
   "cell_type": "code",
   "execution_count": 11,
   "id": "tropical-variation",
   "metadata": {},
   "outputs": [
    {
     "ename": "FileNotFoundError",
     "evalue": "[Errno 2] No such file or directory: 'figs/b4_runtime_data.json'",
     "output_type": "error",
     "traceback": [
      "\u001b[1;31m---------------------------------------------------------------------------\u001b[0m",
      "\u001b[1;31mFileNotFoundError\u001b[0m                         Traceback (most recent call last)",
      "\u001b[1;32m<ipython-input-11-79f4995f5413>\u001b[0m in \u001b[0;36m<module>\u001b[1;34m\u001b[0m\n\u001b[0;32m      2\u001b[0m \u001b[1;33m\u001b[0m\u001b[0m\n\u001b[0;32m      3\u001b[0m \u001b[0mruntime_data\u001b[0m \u001b[1;33m=\u001b[0m \u001b[1;33m{\u001b[0m\u001b[1;33m}\u001b[0m\u001b[1;33m\u001b[0m\u001b[1;33m\u001b[0m\u001b[0m\n\u001b[1;32m----> 4\u001b[1;33m \u001b[1;32mwith\u001b[0m \u001b[0mopen\u001b[0m\u001b[1;33m(\u001b[0m\u001b[1;34m'figs/{}_runtime_data.json'\u001b[0m\u001b[1;33m.\u001b[0m\u001b[0mformat\u001b[0m\u001b[1;33m(\u001b[0m\u001b[0mbeam_id\u001b[0m\u001b[1;33m)\u001b[0m\u001b[1;33m,\u001b[0m \u001b[1;34m'r'\u001b[0m\u001b[1;33m)\u001b[0m \u001b[1;32mas\u001b[0m \u001b[0mf\u001b[0m\u001b[1;33m:\u001b[0m\u001b[1;33m\u001b[0m\u001b[1;33m\u001b[0m\u001b[0m\n\u001b[0m\u001b[0;32m      5\u001b[0m     \u001b[0mruntime_data\u001b[0m \u001b[1;33m=\u001b[0m \u001b[0mjson\u001b[0m\u001b[1;33m.\u001b[0m\u001b[0mload\u001b[0m\u001b[1;33m(\u001b[0m\u001b[0mf\u001b[0m\u001b[1;33m)\u001b[0m\u001b[1;33m\u001b[0m\u001b[1;33m\u001b[0m\u001b[0m\n\u001b[0;32m      6\u001b[0m \u001b[1;33m\u001b[0m\u001b[0m\n",
      "\u001b[1;31mFileNotFoundError\u001b[0m: [Errno 2] No such file or directory: 'figs/b4_runtime_data.json'"
     ]
    }
   ],
   "source": [
    "# from collections import defaultdict\n",
    "\n",
    "runtime_data = {}\n",
    "with open('figs/{}_runtime_data.json'.format(beam_id), 'r') as f:\n",
    "    runtime_data = json.load(f)\n",
    "    \n",
    "# runtime_data2 = {}\n",
    "# with open('figs/b4_runtime_data_linear_backward.json', 'r') as f:\n",
    "#     runtime_data2 = json.load(f)\n",
    "# runtime_data.update(runtime_data2)"
   ]
  },
  {
   "cell_type": "code",
   "execution_count": 12,
   "id": "based-token",
   "metadata": {},
   "outputs": [
    {
     "data": {
      "text/plain": [
       "dict_keys([])"
      ]
     },
     "execution_count": 12,
     "metadata": {},
     "output_type": "execute_result"
    }
   ],
   "source": [
    "runtime_data.keys()"
   ]
  },
  {
   "cell_type": "markdown",
   "id": "wired-sympathy",
   "metadata": {},
   "source": [
    "## Start client"
   ]
  },
  {
   "cell_type": "code",
   "execution_count": 9,
   "id": "sensitive-spread",
   "metadata": {},
   "outputs": [],
   "source": [
    "from integral_timber_joints.planning.robot_setup import load_RFL_world\n",
    "from integral_timber_joints.planning.run import set_initial_state\n",
    "\n",
    "# * Connect to path planning backend and initialize robot parameters\n",
    "# viewer or diagnosis or view_states or watch or step_sim,\n",
    "client, robot, _ = load_RFL_world(viewer=False, verbose=False)\n",
    "set_initial_state(client, robot, process, disable_env=disable_env, reinit_tool=reinit_tool)"
   ]
  },
  {
   "cell_type": "code",
   "execution_count": 17,
   "id": "different-terrorism",
   "metadata": {},
   "outputs": [],
   "source": [
    "client.disconnect()"
   ]
  },
  {
   "cell_type": "code",
   "execution_count": 10,
   "id": "physical-veteran",
   "metadata": {},
   "outputs": [],
   "source": [
    "from integral_timber_joints.planning.robot_setup import GANTRY_ARM_GROUP, GANTRY_GROUP, BARE_ARM_GROUP\n",
    "from compas.robots import Joint\n",
    "import numpy as np\n",
    "\n",
    "joint_names = robot.get_configurable_joint_names(group=GANTRY_ARM_GROUP)\n",
    "joint_types = robot.get_joint_types_by_names(joint_names)\n",
    "# 0.1 rad = 5.7 deg\n",
    "joint_jump_threshold = {jt_name : np.pi/6 \\\n",
    "        if jt_type in [Joint.REVOLUTE, Joint.CONTINUOUS] else 0.1 \\\n",
    "        for jt_name, jt_type in zip(joint_names, joint_types)}\n",
    "\n",
    "options = {\n",
    "    'distance_threshold' : 0.0012,\n",
    "    'frame_jump_tolerance' : 0.0012,\n",
    "    'verbose' : verbose,\n",
    "    'jump_threshold' : joint_jump_threshold,\n",
    "#     'max_distance' : args.max_distance,\n",
    "}"
   ]
  },
  {
   "cell_type": "markdown",
   "id": "swiss-gasoline",
   "metadata": {},
   "source": [
    "# Plan movements for a beam"
   ]
  },
  {
   "cell_type": "code",
   "execution_count": 15,
   "id": "palestinian-passport",
   "metadata": {},
   "outputs": [
    {
     "name": "stdout",
     "output_type": "stream",
     "text": [
      "Deepcopy time: 3.91107\n"
     ]
    }
   ],
   "source": [
    "from copy import copy, deepcopy\n",
    "import time\n",
    "\n",
    "# start_time = time.time()\n",
    "# process = copy(unsolved_process)\n",
    "# print('Copy time: {:.5f}'.format(time.time() - start_time))\n",
    "\n",
    "start_time = time.time()\n",
    "process = deepcopy(unsolved_process)\n",
    "print('Deepcopy time: {:.5f}'.format(time.time() - start_time))"
   ]
  },
  {
   "cell_type": "code",
   "execution_count": 16,
   "id": "forward-relay",
   "metadata": {},
   "outputs": [
    {
     "name": "stdout",
     "output_type": "stream",
     "text": [
      "=====\n",
      "Summary:\n",
      "---\n",
      "(0) \u001b[46m\u001b[33mRoboticFreeMovement(#A32_M0, Free Move reach Storage Approach Frame of CL3 ('c1'), to get clamp., traj 0)\u001b[0m \n",
      "priority \u001b[35m0\u001b[0m | has start conf \u001b[31mFalse\u001b[0m, TCP \u001b[32mTrue\u001b[0m | has end conf \u001b[31mFalse\u001b[0m, TCP \u001b[32mTrue\u001b[0m | has traj \u001b[31mNone\u001b[0m\n",
      "---\n",
      "(1) \u001b[44m\u001b[37mRoboticLinearMovement(#A32_M1, Linear Advance to Storage Frame of CL3 ('c1'), to get tool., traj 0)\u001b[0m \n",
      "priority \u001b[35m0\u001b[0m | has start conf \u001b[31mFalse\u001b[0m, TCP \u001b[32mTrue\u001b[0m | has end conf \u001b[32mTrue\u001b[0m, TCP \u001b[32mTrue\u001b[0m | has traj \u001b[31mNone\u001b[0m\n",
      "---\n",
      "(2) RoboticDigitalOutput(#A32_M2, Toolchanger Lock CL3 ('c1')) \n",
      "priority \u001b[37m-1\u001b[0m | has start conf \u001b[32mTrue\u001b[0m, TCP \u001b[32mTrue\u001b[0m | has end conf \u001b[32mTrue\u001b[0m, TCP \u001b[32mTrue\u001b[0m\n",
      "---\n",
      "(3) RoboticDigitalOutput(#A32_M3, CL3 ('c1') Open Gripper to release itself from storage pad.) \n",
      "priority \u001b[37m-1\u001b[0m | has start conf \u001b[32mTrue\u001b[0m, TCP \u001b[32mTrue\u001b[0m | has end conf \u001b[32mTrue\u001b[0m, TCP \u001b[32mTrue\u001b[0m\n",
      "---\n",
      "(4) \u001b[44m\u001b[37mRoboticLinearMovement(#A32_M4, Linear Retract 1 of 2 after getting CL3 ('c1') from storage., traj 0)\u001b[0m \n",
      "priority \u001b[35m0\u001b[0m | has start conf \u001b[32mTrue\u001b[0m, TCP \u001b[32mTrue\u001b[0m | has end conf \u001b[31mFalse\u001b[0m, TCP \u001b[32mTrue\u001b[0m | has traj \u001b[31mNone\u001b[0m\n",
      "---\n",
      "(5) \u001b[44m\u001b[37mRoboticLinearMovement(#A32_M5, Linear Retract 2 of 2 after getting CL3 ('c1') from storage., traj 0)\u001b[0m \n",
      "priority \u001b[35m0\u001b[0m | has start conf \u001b[31mFalse\u001b[0m, TCP \u001b[32mTrue\u001b[0m | has end conf \u001b[31mFalse\u001b[0m, TCP \u001b[32mTrue\u001b[0m | has traj \u001b[31mNone\u001b[0m\n",
      "---\n",
      "(6) \u001b[46m\u001b[33mRoboticFreeMovement(#A33_M0, Free Move to bring CL3 ('c1') to structure., traj 0)\u001b[0m \n",
      "priority \u001b[35m0\u001b[0m | has start conf \u001b[31mFalse\u001b[0m, TCP \u001b[32mTrue\u001b[0m | has end conf \u001b[31mFalse\u001b[0m, TCP \u001b[32mTrue\u001b[0m | has traj \u001b[31mNone\u001b[0m\n",
      "---\n",
      "(7) \u001b[44m\u001b[37mRoboticLinearMovement(#A33_M1, Linear Approach 1 of 2 to attach CL3 ('c1') to structure., traj 0)\u001b[0m \n",
      "priority \u001b[35m0\u001b[0m | has start conf \u001b[31mFalse\u001b[0m, TCP \u001b[32mTrue\u001b[0m | has end conf \u001b[31mFalse\u001b[0m, TCP \u001b[32mTrue\u001b[0m | has traj \u001b[31mNone\u001b[0m\n",
      "---\n",
      "(8) \u001b[44m\u001b[37mRoboticLinearMovement(#A33_M2, Linear Approach 2 of 2 to attach CL3 ('c1') to structure., traj 0)\u001b[0m \n",
      "priority \u001b[35m0\u001b[0m | has start conf \u001b[31mFalse\u001b[0m, TCP \u001b[32mTrue\u001b[0m | has end conf \u001b[31mFalse\u001b[0m, TCP \u001b[32mTrue\u001b[0m | has traj \u001b[31mNone\u001b[0m\n",
      "---\n",
      "(9) RoboticDigitalOutput(#A33_M3, CL3 ('c1') Close Gripper and attach to structure.) \n",
      "priority \u001b[37m-1\u001b[0m | has start conf \u001b[31mFalse\u001b[0m, TCP \u001b[32mTrue\u001b[0m | has end conf \u001b[31mFalse\u001b[0m, TCP \u001b[32mTrue\u001b[0m\n",
      "---\n",
      "(10) RoboticDigitalOutput(#A33_M4, Toolchanger Unlock CL3 ('c1').) \n",
      "priority \u001b[37m-1\u001b[0m | has start conf \u001b[31mFalse\u001b[0m, TCP \u001b[32mTrue\u001b[0m | has end conf \u001b[31mFalse\u001b[0m, TCP \u001b[32mTrue\u001b[0m\n",
      "---\n",
      "(11) \u001b[44m\u001b[37mRoboticLinearMovement(#A33_M5, Linear Retract after attaching CL3 ('c1') on structure, traj 0)\u001b[0m \n",
      "priority \u001b[35m0\u001b[0m | has start conf \u001b[31mFalse\u001b[0m, TCP \u001b[32mTrue\u001b[0m | has end conf \u001b[31mFalse\u001b[0m, TCP \u001b[32mTrue\u001b[0m | has traj \u001b[31mNone\u001b[0m\n",
      "---\n",
      "(12) \u001b[46m\u001b[33mRoboticFreeMovement(#A34_M0, Free Move reach Storage Approach Frame of CL3 ('c2'), to get clamp., traj 0)\u001b[0m \n",
      "priority \u001b[35m0\u001b[0m | has start conf \u001b[31mFalse\u001b[0m, TCP \u001b[32mTrue\u001b[0m | has end conf \u001b[31mFalse\u001b[0m, TCP \u001b[32mTrue\u001b[0m | has traj \u001b[31mNone\u001b[0m\n",
      "---\n",
      "(13) \u001b[44m\u001b[37mRoboticLinearMovement(#A34_M1, Linear Advance to Storage Frame of CL3 ('c2'), to get tool., traj 0)\u001b[0m \n",
      "priority \u001b[35m0\u001b[0m | has start conf \u001b[31mFalse\u001b[0m, TCP \u001b[32mTrue\u001b[0m | has end conf \u001b[32mTrue\u001b[0m, TCP \u001b[32mTrue\u001b[0m | has traj \u001b[31mNone\u001b[0m\n",
      "---\n",
      "(14) RoboticDigitalOutput(#A34_M2, Toolchanger Lock CL3 ('c2')) \n",
      "priority \u001b[37m-1\u001b[0m | has start conf \u001b[32mTrue\u001b[0m, TCP \u001b[32mTrue\u001b[0m | has end conf \u001b[32mTrue\u001b[0m, TCP \u001b[32mTrue\u001b[0m\n",
      "---\n",
      "(15) RoboticDigitalOutput(#A34_M3, CL3 ('c2') Open Gripper to release itself from storage pad.) \n",
      "priority \u001b[37m-1\u001b[0m | has start conf \u001b[32mTrue\u001b[0m, TCP \u001b[32mTrue\u001b[0m | has end conf \u001b[32mTrue\u001b[0m, TCP \u001b[32mTrue\u001b[0m\n",
      "---\n",
      "(16) \u001b[44m\u001b[37mRoboticLinearMovement(#A34_M4, Linear Retract 1 of 2 after getting CL3 ('c2') from storage., traj 0)\u001b[0m \n",
      "priority \u001b[35m0\u001b[0m | has start conf \u001b[32mTrue\u001b[0m, TCP \u001b[32mTrue\u001b[0m | has end conf \u001b[31mFalse\u001b[0m, TCP \u001b[32mTrue\u001b[0m | has traj \u001b[31mNone\u001b[0m\n",
      "---\n",
      "(17) \u001b[44m\u001b[37mRoboticLinearMovement(#A34_M5, Linear Retract 2 of 2 after getting CL3 ('c2') from storage., traj 0)\u001b[0m \n",
      "priority \u001b[35m0\u001b[0m | has start conf \u001b[31mFalse\u001b[0m, TCP \u001b[32mTrue\u001b[0m | has end conf \u001b[31mFalse\u001b[0m, TCP \u001b[32mTrue\u001b[0m | has traj \u001b[31mNone\u001b[0m\n",
      "---\n",
      "(18) \u001b[46m\u001b[33mRoboticFreeMovement(#A35_M0, Free Move to bring CL3 ('c2') to structure., traj 0)\u001b[0m \n",
      "priority \u001b[35m0\u001b[0m | has start conf \u001b[31mFalse\u001b[0m, TCP \u001b[32mTrue\u001b[0m | has end conf \u001b[31mFalse\u001b[0m, TCP \u001b[32mTrue\u001b[0m | has traj \u001b[31mNone\u001b[0m\n",
      "---\n",
      "(19) \u001b[44m\u001b[37mRoboticLinearMovement(#A35_M1, Linear Approach 1 of 2 to attach CL3 ('c2') to structure., traj 0)\u001b[0m \n",
      "priority \u001b[35m0\u001b[0m | has start conf \u001b[31mFalse\u001b[0m, TCP \u001b[32mTrue\u001b[0m | has end conf \u001b[31mFalse\u001b[0m, TCP \u001b[32mTrue\u001b[0m | has traj \u001b[31mNone\u001b[0m\n",
      "---\n",
      "(20) \u001b[44m\u001b[37mRoboticLinearMovement(#A35_M2, Linear Approach 2 of 2 to attach CL3 ('c2') to structure., traj 0)\u001b[0m \n",
      "priority \u001b[35m0\u001b[0m | has start conf \u001b[31mFalse\u001b[0m, TCP \u001b[32mTrue\u001b[0m | has end conf \u001b[31mFalse\u001b[0m, TCP \u001b[32mTrue\u001b[0m | has traj \u001b[31mNone\u001b[0m\n",
      "---\n",
      "(21) RoboticDigitalOutput(#A35_M3, CL3 ('c2') Close Gripper and attach to structure.) \n",
      "priority \u001b[37m-1\u001b[0m | has start conf \u001b[31mFalse\u001b[0m, TCP \u001b[32mTrue\u001b[0m | has end conf \u001b[31mFalse\u001b[0m, TCP \u001b[32mTrue\u001b[0m\n",
      "---\n",
      "(22) RoboticDigitalOutput(#A35_M4, Toolchanger Unlock CL3 ('c2').) \n",
      "priority \u001b[37m-1\u001b[0m | has start conf \u001b[31mFalse\u001b[0m, TCP \u001b[32mTrue\u001b[0m | has end conf \u001b[31mFalse\u001b[0m, TCP \u001b[32mTrue\u001b[0m\n",
      "---\n",
      "(23) \u001b[44m\u001b[37mRoboticLinearMovement(#A35_M5, Linear Retract after attaching CL3 ('c2') on structure, traj 0)\u001b[0m \n",
      "priority \u001b[35m0\u001b[0m | has start conf \u001b[31mFalse\u001b[0m, TCP \u001b[32mTrue\u001b[0m | has end conf \u001b[31mFalse\u001b[0m, TCP \u001b[32mTrue\u001b[0m | has traj \u001b[31mNone\u001b[0m\n",
      "---\n",
      "(24) \u001b[46m\u001b[33mRoboticFreeMovement(#A36_M0, Free Move reach Storage Approach Frame of PG1000 ('g2'), to get tool., traj 0)\u001b[0m \n",
      "priority \u001b[35m0\u001b[0m | has start conf \u001b[31mFalse\u001b[0m, TCP \u001b[32mTrue\u001b[0m | has end conf \u001b[31mFalse\u001b[0m, TCP \u001b[32mTrue\u001b[0m | has traj \u001b[31mNone\u001b[0m\n",
      "---\n",
      "(25) \u001b[44m\u001b[37mRoboticLinearMovement(#A36_M1, Linear Advance to Storage Frame of PG1000 ('g2'), to get tool., traj 0)\u001b[0m \n",
      "priority \u001b[35m0\u001b[0m | has start conf \u001b[31mFalse\u001b[0m, TCP \u001b[32mTrue\u001b[0m | has end conf \u001b[32mTrue\u001b[0m, TCP \u001b[32mTrue\u001b[0m | has traj \u001b[31mNone\u001b[0m\n",
      "---\n",
      "(26) RoboticDigitalOutput(#A36_M2, Toolchanger Lock PG1000 ('g2')) \n",
      "priority \u001b[37m-1\u001b[0m | has start conf \u001b[32mTrue\u001b[0m, TCP \u001b[32mTrue\u001b[0m | has end conf \u001b[32mTrue\u001b[0m, TCP \u001b[32mTrue\u001b[0m\n",
      "---\n",
      "(27) RoboticDigitalOutput(#A36_M3, PG1000 ('g2') Open Gripper to release itself from storage pad.) \n",
      "priority \u001b[37m-1\u001b[0m | has start conf \u001b[32mTrue\u001b[0m, TCP \u001b[32mTrue\u001b[0m | has end conf \u001b[32mTrue\u001b[0m, TCP \u001b[32mTrue\u001b[0m\n",
      "---\n",
      "(28) \u001b[44m\u001b[37mRoboticLinearMovement(#A36_M4, Linear Retract after getting PG1000 ('g2') from storage., traj 0)\u001b[0m \n",
      "priority \u001b[35m0\u001b[0m | has start conf \u001b[32mTrue\u001b[0m, TCP \u001b[32mTrue\u001b[0m | has end conf \u001b[31mFalse\u001b[0m, TCP \u001b[32mTrue\u001b[0m | has traj \u001b[31mNone\u001b[0m\n",
      "---\n",
      "(29) \u001b[46m\u001b[33mRoboticFreeMovement(#A37_M0, Free Move to reach Pickup Approach Frame of Beam ('b4'), traj 0)\u001b[0m \n",
      "priority \u001b[35m0\u001b[0m | has start conf \u001b[31mFalse\u001b[0m, TCP \u001b[32mTrue\u001b[0m | has end conf \u001b[31mFalse\u001b[0m, TCP \u001b[32mTrue\u001b[0m | has traj \u001b[31mNone\u001b[0m\n",
      "---\n",
      "(30) RoboticDigitalOutput(#A37_M1, Gripper ('g2') Open Gripper before gripping Beam ('b4')) \n",
      "priority \u001b[37m-1\u001b[0m | has start conf \u001b[31mFalse\u001b[0m, TCP \u001b[32mTrue\u001b[0m | has end conf \u001b[31mFalse\u001b[0m, TCP \u001b[32mTrue\u001b[0m\n",
      "---\n",
      "(31) \u001b[44m\u001b[37mRoboticLinearMovement(#A37_M2, Linear Advance to Storage Frame of Beam ('b4'), traj 0)\u001b[0m \n",
      "priority \u001b[35m0\u001b[0m | has start conf \u001b[31mFalse\u001b[0m, TCP \u001b[32mTrue\u001b[0m | has end conf \u001b[32mTrue\u001b[0m, TCP \u001b[32mTrue\u001b[0m | has traj \u001b[31mNone\u001b[0m\n",
      "---\n",
      "(32) OperatorLoadBeamMovement(#A37_M3, Opeartor Load Beam to Pickup Location) \n",
      "priority \u001b[37m-1\u001b[0m | has start conf \u001b[32mTrue\u001b[0m, TCP \u001b[32mTrue\u001b[0m | has end conf \u001b[32mTrue\u001b[0m, TCP \u001b[32mTrue\u001b[0m\n",
      "---\n",
      "(33) RoboticDigitalOutput(#A37_M4, Gripper ('g2') Close Gripper to grip Beam ('b4')) \n",
      "priority \u001b[37m-1\u001b[0m | has start conf \u001b[32mTrue\u001b[0m, TCP \u001b[32mTrue\u001b[0m | has end conf \u001b[32mTrue\u001b[0m, TCP \u001b[32mTrue\u001b[0m\n",
      "---\n",
      "(34) \u001b[44m\u001b[37mRoboticLinearMovement(#A37_M5, Linear Retract after picking up Beam ('b4'), traj 0)\u001b[0m \n",
      "priority \u001b[35m0\u001b[0m | has start conf \u001b[32mTrue\u001b[0m, TCP \u001b[32mTrue\u001b[0m | has end conf \u001b[31mFalse\u001b[0m, TCP \u001b[32mTrue\u001b[0m | has traj \u001b[31mNone\u001b[0m\n",
      "---\n",
      "(35) \u001b[46m\u001b[33mRoboticFreeMovement(#A38_M0, Free Move to bring Beam ('b4') to approach clamps on structure., traj 0)\u001b[0m \n",
      "priority \u001b[35m0\u001b[0m | has start conf \u001b[31mFalse\u001b[0m, TCP \u001b[32mTrue\u001b[0m | has end conf \u001b[31mFalse\u001b[0m, TCP \u001b[32mTrue\u001b[0m | has traj \u001b[31mNone\u001b[0m\n",
      "---\n",
      "(36) \u001b[44m\u001b[37mRoboticLinearMovement(#A38_M1, Linear Advance to bring Beam ('b4') into clamp jaws, traj 0)\u001b[0m \n",
      "priority \u001b[35m0\u001b[0m | has start conf \u001b[31mFalse\u001b[0m, TCP \u001b[32mTrue\u001b[0m | has end conf \u001b[31mFalse\u001b[0m, TCP \u001b[32mTrue\u001b[0m | has traj \u001b[31mNone\u001b[0m\n",
      "---\n",
      "(37) ClampsJawMovement(#A38_M2, Clamps (['c1', 'c2']) close slightly to touch Beam ('b4')) \n",
      "priority \u001b[37m-1\u001b[0m | has start conf \u001b[31mFalse\u001b[0m, TCP \u001b[32mTrue\u001b[0m | has end conf \u001b[31mFalse\u001b[0m, TCP \u001b[32mTrue\u001b[0m\n",
      "---\n",
      "(38) RoboticClampSyncLinearMovement(#A38_M3, Robot and Clamps (['c1', 'c2']) syncronously move to clamp Beam ('b4'), traj 0) \n",
      "priority \u001b[34m1\u001b[0m | has start conf \u001b[31mFalse\u001b[0m, TCP \u001b[32mTrue\u001b[0m | has end conf \u001b[31mFalse\u001b[0m, TCP \u001b[32mTrue\u001b[0m | has traj \u001b[31mNone\u001b[0m\n",
      "---\n",
      "(39) RoboticDigitalOutput(#A38_M4, Open Gripper ('g2') and let go of Beam ('b4')) \n",
      "priority \u001b[37m-1\u001b[0m | has start conf \u001b[31mFalse\u001b[0m, TCP \u001b[32mTrue\u001b[0m | has end conf \u001b[31mFalse\u001b[0m, TCP \u001b[32mTrue\u001b[0m\n",
      "---\n",
      "(40) \u001b[44m\u001b[37mRoboticLinearMovement(#A38_M5, Linear retract after placing Beam ('b4'), traj 0)\u001b[0m \n",
      "priority \u001b[35m0\u001b[0m | has start conf \u001b[31mFalse\u001b[0m, TCP \u001b[32mTrue\u001b[0m | has end conf \u001b[31mFalse\u001b[0m, TCP \u001b[32mTrue\u001b[0m | has traj \u001b[31mNone\u001b[0m\n",
      "---\n",
      "(41) \u001b[46m\u001b[33mRoboticFreeMovement(#A39_M0, Free Move to reach Storage Approach Frame of PG1000 ('g2'), to place tool in storage., traj 0)\u001b[0m \n",
      "priority \u001b[35m0\u001b[0m | has start conf \u001b[31mFalse\u001b[0m, TCP \u001b[32mTrue\u001b[0m | has end conf \u001b[31mFalse\u001b[0m, TCP \u001b[32mTrue\u001b[0m | has traj \u001b[31mNone\u001b[0m\n",
      "---\n",
      "(42) \u001b[44m\u001b[37mRoboticLinearMovement(#A39_M1, Linear Advance to Storage Frame of PG1000 ('g2'), to place tool in storage., traj 0)\u001b[0m \n",
      "priority \u001b[35m0\u001b[0m | has start conf \u001b[31mFalse\u001b[0m, TCP \u001b[32mTrue\u001b[0m | has end conf \u001b[32mTrue\u001b[0m, TCP \u001b[32mTrue\u001b[0m | has traj \u001b[31mNone\u001b[0m\n",
      "---\n",
      "(43) RoboticDigitalOutput(#A39_M2, PG1000 ('g2') Close Gripper to lock onto storage pad.) \n",
      "priority \u001b[37m-1\u001b[0m | has start conf \u001b[32mTrue\u001b[0m, TCP \u001b[32mTrue\u001b[0m | has end conf \u001b[32mTrue\u001b[0m, TCP \u001b[32mTrue\u001b[0m\n",
      "---\n",
      "(44) RoboticDigitalOutput(#A39_M3, Toolchanger Unlock PG1000 ('g2')) \n",
      "priority \u001b[37m-1\u001b[0m | has start conf \u001b[32mTrue\u001b[0m, TCP \u001b[32mTrue\u001b[0m | has end conf \u001b[32mTrue\u001b[0m, TCP \u001b[32mTrue\u001b[0m\n",
      "---\n",
      "(45) \u001b[44m\u001b[37mRoboticLinearMovement(#A39_M4, Linear Retract from storage after placing PG1000 ('g2') in storage, traj 0)\u001b[0m \n",
      "priority \u001b[35m0\u001b[0m | has start conf \u001b[32mTrue\u001b[0m, TCP \u001b[32mTrue\u001b[0m | has end conf \u001b[31mFalse\u001b[0m, TCP \u001b[32mTrue\u001b[0m | has traj \u001b[31mNone\u001b[0m\n",
      "---\n",
      "(46) \u001b[46m\u001b[33mRoboticFreeMovement(#A40_M0, Free Move to reach CL3 ('c1') to detach it from structure., traj 0)\u001b[0m \n",
      "priority \u001b[35m0\u001b[0m | has start conf \u001b[31mFalse\u001b[0m, TCP \u001b[32mTrue\u001b[0m | has end conf \u001b[31mFalse\u001b[0m, TCP \u001b[32mTrue\u001b[0m | has traj \u001b[31mNone\u001b[0m\n",
      "---\n",
      "(47) \u001b[44m\u001b[37mRoboticLinearMovement(#A40_M1, Linear Advance to mate toolchanger of CL3 ('c1') to detach it from structure., traj 0)\u001b[0m \n",
      "priority \u001b[35m0\u001b[0m | has start conf \u001b[31mFalse\u001b[0m, TCP \u001b[32mTrue\u001b[0m | has end conf \u001b[31mFalse\u001b[0m, TCP \u001b[32mTrue\u001b[0m | has traj \u001b[31mNone\u001b[0m\n",
      "---\n",
      "(48) RoboticDigitalOutput(#A40_M2, Toolchanger Lock CL3 ('c1')) \n",
      "priority \u001b[37m-1\u001b[0m | has start conf \u001b[31mFalse\u001b[0m, TCP \u001b[32mTrue\u001b[0m | has end conf \u001b[31mFalse\u001b[0m, TCP \u001b[32mTrue\u001b[0m\n",
      "---\n",
      "(49) ClampsJawMovement(#A40_M3, CL3 ('c1') Open Clamp Jaws to be released.) \n",
      "priority \u001b[37m-1\u001b[0m | has start conf \u001b[31mFalse\u001b[0m, TCP \u001b[32mTrue\u001b[0m | has end conf \u001b[31mFalse\u001b[0m, TCP \u001b[32mTrue\u001b[0m\n",
      "---\n",
      "(50) RoboticDigitalOutput(#A40_M4, CL3 ('c1') Open Gripper to be released from structure.) \n",
      "priority \u001b[37m-1\u001b[0m | has start conf \u001b[31mFalse\u001b[0m, TCP \u001b[32mTrue\u001b[0m | has end conf \u001b[31mFalse\u001b[0m, TCP \u001b[32mTrue\u001b[0m\n",
      "---\n",
      "(51) \u001b[44m\u001b[37mRoboticLinearMovement(#A40_M5, Linear Retract 1 of 2 from storage after picking up CL3 ('c1') from structure., traj 0)\u001b[0m \n",
      "priority \u001b[35m0\u001b[0m | has start conf \u001b[31mFalse\u001b[0m, TCP \u001b[32mTrue\u001b[0m | has end conf \u001b[31mFalse\u001b[0m, TCP \u001b[32mTrue\u001b[0m | has traj \u001b[31mNone\u001b[0m\n",
      "---\n",
      "(52) \u001b[44m\u001b[37mRoboticLinearMovement(#A40_M6, Linear Retract 2 of 2 from storage after picking up CL3 ('c1') from structure., traj 0)\u001b[0m \n",
      "priority \u001b[35m0\u001b[0m | has start conf \u001b[31mFalse\u001b[0m, TCP \u001b[32mTrue\u001b[0m | has end conf \u001b[31mFalse\u001b[0m, TCP \u001b[32mTrue\u001b[0m | has traj \u001b[31mNone\u001b[0m\n",
      "---\n",
      "(53) \u001b[46m\u001b[33mRoboticFreeMovement(#A41_M0, Free Move reach Storage Approach Frame of CL3 ('c1'), to place clamp in storage., traj 0)\u001b[0m \n",
      "priority \u001b[35m0\u001b[0m | has start conf \u001b[31mFalse\u001b[0m, TCP \u001b[32mTrue\u001b[0m | has end conf \u001b[31mFalse\u001b[0m, TCP \u001b[32mTrue\u001b[0m | has traj \u001b[31mNone\u001b[0m\n",
      "---\n",
      "(54) \u001b[44m\u001b[37mRoboticLinearMovement(#A41_M1, Linear Approach 1 of 2 to place CL3 ('c1') in storage., traj 0)\u001b[0m \n",
      "priority \u001b[35m0\u001b[0m | has start conf \u001b[31mFalse\u001b[0m, TCP \u001b[32mTrue\u001b[0m | has end conf \u001b[31mFalse\u001b[0m, TCP \u001b[32mTrue\u001b[0m | has traj \u001b[31mNone\u001b[0m\n",
      "---\n",
      "(55) \u001b[44m\u001b[37mRoboticLinearMovement(#A41_M2, Linear Approach 2 of 2 to place CL3 ('c1') in storage., traj 0)\u001b[0m \n",
      "priority \u001b[35m0\u001b[0m | has start conf \u001b[31mFalse\u001b[0m, TCP \u001b[32mTrue\u001b[0m | has end conf \u001b[32mTrue\u001b[0m, TCP \u001b[32mTrue\u001b[0m | has traj \u001b[31mNone\u001b[0m\n",
      "---\n",
      "(56) RoboticDigitalOutput(#A41_M3, Close Gripper to lock CL3 ('c1') onto storage pad.) \n",
      "priority \u001b[37m-1\u001b[0m | has start conf \u001b[32mTrue\u001b[0m, TCP \u001b[32mTrue\u001b[0m | has end conf \u001b[32mTrue\u001b[0m, TCP \u001b[32mTrue\u001b[0m\n",
      "---\n",
      "(57) RoboticDigitalOutput(#A41_M4, Toolchanger Unlock CL3 ('c1')) \n",
      "priority \u001b[37m-1\u001b[0m | has start conf \u001b[32mTrue\u001b[0m, TCP \u001b[32mTrue\u001b[0m | has end conf \u001b[32mTrue\u001b[0m, TCP \u001b[32mTrue\u001b[0m\n",
      "---\n",
      "(58) \u001b[44m\u001b[37mRoboticLinearMovement(#A41_M5, Linear Retract from storage after placing CL3 ('c1') in storage, traj 0)\u001b[0m \n",
      "priority \u001b[35m0\u001b[0m | has start conf \u001b[32mTrue\u001b[0m, TCP \u001b[32mTrue\u001b[0m | has end conf \u001b[31mFalse\u001b[0m, TCP \u001b[32mTrue\u001b[0m | has traj \u001b[31mNone\u001b[0m\n",
      "---\n",
      "(59) \u001b[46m\u001b[33mRoboticFreeMovement(#A42_M0, Free Move to reach CL3 ('c2') to detach it from structure., traj 0)\u001b[0m \n",
      "priority \u001b[35m0\u001b[0m | has start conf \u001b[31mFalse\u001b[0m, TCP \u001b[32mTrue\u001b[0m | has end conf \u001b[31mFalse\u001b[0m, TCP \u001b[32mTrue\u001b[0m | has traj \u001b[31mNone\u001b[0m\n",
      "---\n",
      "(60) \u001b[44m\u001b[37mRoboticLinearMovement(#A42_M1, Linear Advance to mate toolchanger of CL3 ('c2') to detach it from structure., traj 0)\u001b[0m \n",
      "priority \u001b[35m0\u001b[0m | has start conf \u001b[31mFalse\u001b[0m, TCP \u001b[32mTrue\u001b[0m | has end conf \u001b[31mFalse\u001b[0m, TCP \u001b[32mTrue\u001b[0m | has traj \u001b[31mNone\u001b[0m\n",
      "---\n",
      "(61) RoboticDigitalOutput(#A42_M2, Toolchanger Lock CL3 ('c2')) \n",
      "priority \u001b[37m-1\u001b[0m | has start conf \u001b[31mFalse\u001b[0m, TCP \u001b[32mTrue\u001b[0m | has end conf \u001b[31mFalse\u001b[0m, TCP \u001b[32mTrue\u001b[0m\n",
      "---\n",
      "(62) ClampsJawMovement(#A42_M3, CL3 ('c2') Open Clamp Jaws to be released.) \n",
      "priority \u001b[37m-1\u001b[0m | has start conf \u001b[31mFalse\u001b[0m, TCP \u001b[32mTrue\u001b[0m | has end conf \u001b[31mFalse\u001b[0m, TCP \u001b[32mTrue\u001b[0m\n",
      "---\n",
      "(63) RoboticDigitalOutput(#A42_M4, CL3 ('c2') Open Gripper to be released from structure.) \n",
      "priority \u001b[37m-1\u001b[0m | has start conf \u001b[31mFalse\u001b[0m, TCP \u001b[32mTrue\u001b[0m | has end conf \u001b[31mFalse\u001b[0m, TCP \u001b[32mTrue\u001b[0m\n",
      "---\n",
      "(64) \u001b[44m\u001b[37mRoboticLinearMovement(#A42_M5, Linear Retract 1 of 2 from storage after picking up CL3 ('c2') from structure., traj 0)\u001b[0m \n",
      "priority \u001b[35m0\u001b[0m | has start conf \u001b[31mFalse\u001b[0m, TCP \u001b[32mTrue\u001b[0m | has end conf \u001b[31mFalse\u001b[0m, TCP \u001b[32mTrue\u001b[0m | has traj \u001b[31mNone\u001b[0m\n",
      "---\n",
      "(65) \u001b[44m\u001b[37mRoboticLinearMovement(#A42_M6, Linear Retract 2 of 2 from storage after picking up CL3 ('c2') from structure., traj 0)\u001b[0m \n",
      "priority \u001b[35m0\u001b[0m | has start conf \u001b[31mFalse\u001b[0m, TCP \u001b[32mTrue\u001b[0m | has end conf \u001b[31mFalse\u001b[0m, TCP \u001b[32mTrue\u001b[0m | has traj \u001b[31mNone\u001b[0m\n",
      "---\n",
      "(66) \u001b[46m\u001b[33mRoboticFreeMovement(#A43_M0, Free Move reach Storage Approach Frame of CL3 ('c2'), to place clamp in storage., traj 0)\u001b[0m \n",
      "priority \u001b[35m0\u001b[0m | has start conf \u001b[31mFalse\u001b[0m, TCP \u001b[32mTrue\u001b[0m | has end conf \u001b[31mFalse\u001b[0m, TCP \u001b[32mTrue\u001b[0m | has traj \u001b[31mNone\u001b[0m\n",
      "---\n",
      "(67) \u001b[44m\u001b[37mRoboticLinearMovement(#A43_M1, Linear Approach 1 of 2 to place CL3 ('c2') in storage., traj 0)\u001b[0m \n",
      "priority \u001b[35m0\u001b[0m | has start conf \u001b[31mFalse\u001b[0m, TCP \u001b[32mTrue\u001b[0m | has end conf \u001b[31mFalse\u001b[0m, TCP \u001b[32mTrue\u001b[0m | has traj \u001b[31mNone\u001b[0m\n",
      "---\n",
      "(68) \u001b[44m\u001b[37mRoboticLinearMovement(#A43_M2, Linear Approach 2 of 2 to place CL3 ('c2') in storage., traj 0)\u001b[0m \n",
      "priority \u001b[35m0\u001b[0m | has start conf \u001b[31mFalse\u001b[0m, TCP \u001b[32mTrue\u001b[0m | has end conf \u001b[32mTrue\u001b[0m, TCP \u001b[32mTrue\u001b[0m | has traj \u001b[31mNone\u001b[0m\n",
      "---\n",
      "(69) RoboticDigitalOutput(#A43_M3, Close Gripper to lock CL3 ('c2') onto storage pad.) \n",
      "priority \u001b[37m-1\u001b[0m | has start conf \u001b[32mTrue\u001b[0m, TCP \u001b[32mTrue\u001b[0m | has end conf \u001b[32mTrue\u001b[0m, TCP \u001b[32mTrue\u001b[0m\n",
      "---\n",
      "(70) RoboticDigitalOutput(#A43_M4, Toolchanger Unlock CL3 ('c2')) \n",
      "priority \u001b[37m-1\u001b[0m | has start conf \u001b[32mTrue\u001b[0m, TCP \u001b[32mTrue\u001b[0m | has end conf \u001b[32mTrue\u001b[0m, TCP \u001b[32mTrue\u001b[0m\n",
      "---\n",
      "(71) \u001b[44m\u001b[37mRoboticLinearMovement(#A43_M5, Linear Retract from storage after placing CL3 ('c2') in storage, traj 0)\u001b[0m \n",
      "priority \u001b[35m0\u001b[0m | has start conf \u001b[32mTrue\u001b[0m, TCP \u001b[32mTrue\u001b[0m | has end conf \u001b[31mFalse\u001b[0m, TCP \u001b[32mTrue\u001b[0m | has traj \u001b[31mNone\u001b[0m\n"
     ]
    }
   ],
   "source": [
    "beam_id = 'b4'\n",
    "process.get_movement_summary_by_beam_id(beam_id)"
   ]
  },
  {
   "cell_type": "code",
   "execution_count": 62,
   "id": "sticky-canal",
   "metadata": {},
   "outputs": [],
   "source": [
    "client, robot, _ = load_RFL_world(viewer=True, verbose=False)\n",
    "set_initial_state(client, robot, process, disable_env=disable_env, reinit_tool=reinit_tool)"
   ]
  },
  {
   "cell_type": "code",
   "execution_count": 25,
   "id": "informative-paris",
   "metadata": {},
   "outputs": [],
   "source": [
    "pp.remove_all_debug()\n",
    "client.set_robot_configuration(robot, process.robot_initial_config)"
   ]
  },
  {
   "cell_type": "code",
   "execution_count": 18,
   "id": "infinite-delay",
   "metadata": {},
   "outputs": [
    {
     "name": "stdout",
     "output_type": "stream",
     "text": [
      "{'distance_threshold': 0.0012, 'frame_jump_tolerance': 0.0012, 'verbose': True, 'jump_threshold': {'bridge1_joint_EA_X': 0.1, 'robot11_joint_EA_Y': 0.1, 'robot11_joint_EA_Z': 0.1, 'robot11_joint_1': 0.5235987755982988, 'robot11_joint_2': 0.5235987755982988, 'robot11_joint_3': 0.5235987755982988, 'robot11_joint_4': 0.5235987755982988, 'robot11_joint_5': 0.5235987755982988, 'robot11_joint_6': 0.5235987755982988}, 'debug': False, 'diagnosis': False, 'low_res': False, 'movement_planning_reattempts': 1, 'solve_timeout': 1800, 'samplig_order_counter': 0, 'lockrenderer': <pybullet_planning.interfaces.env_manager.simulation.LockRenderer object at 0x0000023F1A747C88>}\n"
     ]
    }
   ],
   "source": [
    "del options['movement_id_filter']\n",
    "print(options)"
   ]
  },
  {
   "cell_type": "code",
   "execution_count": 16,
   "id": "cardiac-sailing",
   "metadata": {},
   "outputs": [
    {
     "name": "stdout",
     "output_type": "stream",
     "text": [
      "====================\n",
      "\n",
      "\n",
      "\n",
      "\u001b[1m\u001b[47m\u001b[34m* compute ['RoboticLinearMovement', 'RoboticClampSyncLinearMovement'] (priority 1, status [<MovementStatus.neither_done: 5>, <MovementStatus.one_sided: 3>])\u001b[0m\n",
      "====================\n",
      "\n",
      "\n",
      "\n",
      "\u001b[1m\u001b[47m\u001b[34m* compute ['RoboticLinearMovement'] (priority 0, status [<MovementStatus.one_sided: 3>])\u001b[0m\n",
      "----------\n",
      "(1)\n",
      "Movement planning attempt 0\n",
      "\u001b[36mRoboticLinearMovement(#A32_M1, Linear Advance to Storage Frame of CL3 ('c1'), to get tool., traj 0)\u001b[0m\n",
      "\u001b[34mOne-sided Cartesian planning : end conf set, backward mode\u001b[0m\n",
      "\tcartesian trial #0\n",
      "\u001b[33mConf disagreement found, FK center point diff 0.00000(m), but still returns a trajectory. Please be cautious.\u001b[0m\n",
      "\u001b[32mPlan found by IterativeIK! After 0 path failure (by IterativeIK) over 1 samples.\u001b[0m\n",
      "~~~~~\n",
      "\tPropagate states for (\u001b[36m1\u001b[0m) : RoboticLinearMovement(#A32_M1, Linear Advance to Storage Frame of CL3 ('c1'), to get tool., traj 1)\n",
      "\t$ Impacted (backward): (\u001b[33m0\u001b[0m) RoboticFreeMovement(#A32_M0, Free Move reach Storage Approach Frame of CL3 ('c1'), to get clamp., traj 0)\n",
      "\t- Altered (forward): (\u001b[32m2\u001b[0m) RoboticDigitalOutput(#A32_M2, Toolchanger Lock CL3 ('c1'))\n",
      "\t- Altered (forward): (\u001b[32m3\u001b[0m) RoboticDigitalOutput(#A32_M3, CL3 ('c1') Open Gripper to release itself from storage pad.)\n",
      "\t$ Impacted (forward): (\u001b[33m4\u001b[0m) RoboticLinearMovement(#A32_M4, Linear Retract 1 of 2 after getting CL3 ('c1') from storage., traj 0)\n",
      "----------\n",
      "(4)\n",
      "Movement planning attempt 0\n",
      "\u001b[36mRoboticLinearMovement(#A32_M4, Linear Retract 1 of 2 after getting CL3 ('c1') from storage., traj 0)\u001b[0m\n",
      "\u001b[34mOne-sided Cartesian planning : start conf set, forward mode\u001b[0m\n",
      "\tcartesian trial #0\n",
      "\u001b[33mConf disagreement found, FK center point diff 0.00000(m), but still returns a trajectory. Please be cautious.\u001b[0m\n",
      "\u001b[32mPlan found by IterativeIK! After 0 path failure (by IterativeIK) over 1 samples.\u001b[0m\n",
      "~~~~~\n",
      "\tPropagate states for (\u001b[36m4\u001b[0m) : RoboticLinearMovement(#A32_M4, Linear Retract 1 of 2 after getting CL3 ('c1') from storage., traj 1)\n",
      "\t- Altered (backward): (\u001b[32m3\u001b[0m) RoboticDigitalOutput(#A32_M3, CL3 ('c1') Open Gripper to release itself from storage pad.)\n",
      "\t- Altered (backward): (\u001b[32m2\u001b[0m) RoboticDigitalOutput(#A32_M2, Toolchanger Lock CL3 ('c1'))\n",
      "\t$ Impacted (forward): (\u001b[33m5\u001b[0m) RoboticLinearMovement(#A32_M5, Linear Retract 2 of 2 after getting CL3 ('c1') from storage., traj 0)\n",
      "----------\n",
      "(5)\n",
      "Movement planning attempt 0\n",
      "\u001b[36mRoboticLinearMovement(#A32_M5, Linear Retract 2 of 2 after getting CL3 ('c1') from storage., traj 0)\u001b[0m\n",
      "\u001b[34mOne-sided Cartesian planning : start conf set, forward mode\u001b[0m\n",
      "\tcartesian trial #0\n",
      "\u001b[33mConf disagreement found, FK center point diff 0.00000(m), but still returns a trajectory. Please be cautious.\u001b[0m\n",
      "\u001b[32mPlan found by IterativeIK! After 0 path failure (by IterativeIK) over 1 samples.\u001b[0m\n",
      "~~~~~\n",
      "\tPropagate states for (\u001b[36m5\u001b[0m) : RoboticLinearMovement(#A32_M5, Linear Retract 2 of 2 after getting CL3 ('c1') from storage., traj 1)\n",
      "\t$ Impacted (forward): (\u001b[33m6\u001b[0m) RoboticFreeMovement(#A33_M0, Free Move to bring CL3 ('c1') to structure., traj 0)\n",
      "----------\n",
      "(13)\n",
      "Movement planning attempt 0\n",
      "\u001b[36mRoboticLinearMovement(#A34_M1, Linear Advance to Storage Frame of CL3 ('c2'), to get tool., traj 0)\u001b[0m\n",
      "\u001b[33mend conf FK inconsistent (0.00002 m) with given current frame in end state.\u001b[0m\n",
      "\u001b[34mOne-sided Cartesian planning : end conf set, backward mode\u001b[0m\n",
      "\tcartesian trial #0\n",
      "\u001b[33mConf disagreement found, FK center point diff 0.00001(m), but still returns a trajectory. Please be cautious.\u001b[0m\n",
      "\u001b[32mPlan found by IterativeIK! After 0 path failure (by IterativeIK) over 1 samples.\u001b[0m\n",
      "~~~~~\n",
      "\tPropagate states for (\u001b[36m13\u001b[0m) : RoboticLinearMovement(#A34_M1, Linear Advance to Storage Frame of CL3 ('c2'), to get tool., traj 1)\n",
      "\t$ Impacted (backward): (\u001b[33m12\u001b[0m) RoboticFreeMovement(#A34_M0, Free Move reach Storage Approach Frame of CL3 ('c2'), to get clamp., traj 0)\n",
      "\t- Altered (forward): (\u001b[32m14\u001b[0m) RoboticDigitalOutput(#A34_M2, Toolchanger Lock CL3 ('c2'))\n",
      "\t- Altered (forward): (\u001b[32m15\u001b[0m) RoboticDigitalOutput(#A34_M3, CL3 ('c2') Open Gripper to release itself from storage pad.)\n",
      "\t$ Impacted (forward): (\u001b[33m16\u001b[0m) RoboticLinearMovement(#A34_M4, Linear Retract 1 of 2 after getting CL3 ('c2') from storage., traj 0)\n",
      "----------\n",
      "(16)\n",
      "Movement planning attempt 0\n",
      "\u001b[36mRoboticLinearMovement(#A34_M4, Linear Retract 1 of 2 after getting CL3 ('c2') from storage., traj 0)\u001b[0m\n",
      "\u001b[34mOne-sided Cartesian planning : start conf set, forward mode\u001b[0m\n",
      "\tcartesian trial #0\n",
      "\u001b[33mConf disagreement found, FK center point diff 0.00000(m), but still returns a trajectory. Please be cautious.\u001b[0m\n",
      "\u001b[32mPlan found by IterativeIK! After 0 path failure (by IterativeIK) over 1 samples.\u001b[0m\n",
      "~~~~~\n",
      "\tPropagate states for (\u001b[36m16\u001b[0m) : RoboticLinearMovement(#A34_M4, Linear Retract 1 of 2 after getting CL3 ('c2') from storage., traj 1)\n",
      "\t- Altered (backward): (\u001b[32m15\u001b[0m) RoboticDigitalOutput(#A34_M3, CL3 ('c2') Open Gripper to release itself from storage pad.)\n",
      "\t- Altered (backward): (\u001b[32m14\u001b[0m) RoboticDigitalOutput(#A34_M2, Toolchanger Lock CL3 ('c2'))\n",
      "\t$ Impacted (forward): (\u001b[33m17\u001b[0m) RoboticLinearMovement(#A34_M5, Linear Retract 2 of 2 after getting CL3 ('c2') from storage., traj 0)\n",
      "----------\n",
      "(17)\n",
      "Movement planning attempt 0\n",
      "\u001b[36mRoboticLinearMovement(#A34_M5, Linear Retract 2 of 2 after getting CL3 ('c2') from storage., traj 0)\u001b[0m\n",
      "\u001b[34mOne-sided Cartesian planning : start conf set, forward mode\u001b[0m\n",
      "\tcartesian trial #0\n",
      "#0/11 waypoint IK fails.\n",
      "\u001b[31mNo Cartesian motion found, due to IK plan is not found.!\u001b[0m\n",
      "\tcartesian trial #1\n",
      "#0/11 waypoint IK fails.\n",
      "\u001b[31mNo Cartesian motion found, due to IK plan is not found.!\u001b[0m\n",
      "\tcartesian trial #2\n",
      "#8/11 waypoint IK fails.\n",
      "\u001b[31mNo Cartesian motion found, due to IK plan is not found.!\u001b[0m\n",
      "\tcartesian trial #3\n",
      "#0/11 waypoint IK fails.\n",
      "\u001b[31mNo Cartesian motion found, due to IK plan is not found.!\u001b[0m\n",
      "\tcartesian trial #4\n",
      "#0/11 waypoint IK fails.\n",
      "\u001b[31mNo Cartesian motion found, due to IK plan is not found.!\u001b[0m\n",
      "Append ladder graph fails: no edge built between 0-1\n",
      "Ladder graph cost: None\n",
      "\u001b[31mNo Cartesian motion found, due to !\u001b[0m\n",
      "\u001b[33mCartesian Path planning (w/ prespecified st or end conf) failure after\n",
      "IterativeIK attempts of 5 + 1 LadderGraph attempt.\u001b[0m\n",
      "\u001b[31mNo linear movement found for RoboticLinearMovement(#A34_M5, Linear Retract 2 of 2 after getting CL3 ('c2') from storage., traj 0).\u001b[0m\n",
      "\u001b[33mPlanning fails! Go back to the command line now!\u001b[0m\n",
      "\u001b[31mNo plan found for A34_M5 after 1 attempts! RoboticLinearMovement(#A34_M5, Linear Retract 2 of 2 after getting CL3 ('c2') from storage., traj 0)\u001b[0m\n"
     ]
    }
   ],
   "source": [
    "from integral_timber_joints.planning.run import compute_movements_for_beam_id\n",
    "\n",
    "debug = False\n",
    "diagnosis = False\n",
    "verbose = True\n",
    "\n",
    "beam_id = 'b4'\n",
    "options.update({\n",
    "    'debug' : debug,\n",
    "    'verbose' : verbose,\n",
    "    'diagnosis' : diagnosis,\n",
    "    'low_res' : False,\n",
    "    'movement_planning_reattempts' : 1,\n",
    "    'solve_timeout' : 1800,\n",
    "})\n",
    "\n",
    "# A38M0\n",
    "# PlanningArguments = namedtuple('PlanningArguments', ['problem', 'viewer', debug', 'diagnosis', 'id_only', 'solve_mode', 'viz_upon_found', \n",
    "#                                              'save_now', 'write', 'plan_impacted', 'watch', 'step_sim', 'verbose'])\n",
    "args = PlanningArguments(problem, True, debug, diagnosis, 'A38_M0', 'nonlinear', viz_upon_found, save_now, write, \n",
    "                         plan_impacted, True, False, verbose)\n",
    "\n",
    "success = compute_movements_for_beam_id(client, robot, process, beam_id, args, options=options)"
   ]
  },
  {
   "cell_type": "code",
   "execution_count": 11,
   "id": "level-fellow",
   "metadata": {},
   "outputs": [
    {
     "ename": "NameError",
     "evalue": "name 'runtime_data' is not defined",
     "output_type": "error",
     "traceback": [
      "\u001b[1;31m---------------------------------------------------------------------------\u001b[0m",
      "\u001b[1;31mNameError\u001b[0m                                 Traceback (most recent call last)",
      "\u001b[1;32m<ipython-input-11-9cb1a893ba59>\u001b[0m in \u001b[0;36m<module>\u001b[1;34m\u001b[0m\n\u001b[0;32m     37\u001b[0m     \u001b[0moptions\u001b[0m\u001b[1;33m[\u001b[0m\u001b[1;34m'movement_id_range'\u001b[0m\u001b[1;33m]\u001b[0m \u001b[1;33m=\u001b[0m \u001b[0mlist\u001b[0m\u001b[1;33m(\u001b[0m\u001b[0mrange\u001b[0m\u001b[1;33m(\u001b[0m\u001b[1;36m0\u001b[0m\u001b[1;33m,\u001b[0m \u001b[0mlen\u001b[0m\u001b[1;33m(\u001b[0m\u001b[0mall_movements\u001b[0m\u001b[1;33m)\u001b[0m\u001b[1;33m)\u001b[0m\u001b[1;33m)\u001b[0m\u001b[1;33m\u001b[0m\u001b[1;33m\u001b[0m\u001b[0m\n\u001b[0;32m     38\u001b[0m \u001b[1;33m\u001b[0m\u001b[0m\n\u001b[1;32m---> 39\u001b[1;33m \u001b[0mruntime_data\u001b[0m\u001b[1;33m[\u001b[0m\u001b[0msolve_mode_\u001b[0m\u001b[1;33m]\u001b[0m \u001b[1;33m=\u001b[0m \u001b[1;33m{\u001b[0m\u001b[1;33m}\u001b[0m\u001b[1;33m\u001b[0m\u001b[1;33m\u001b[0m\u001b[0m\n\u001b[0m\u001b[0;32m     40\u001b[0m \u001b[1;32mfor\u001b[0m \u001b[0mattempt_i\u001b[0m \u001b[1;32min\u001b[0m \u001b[0mrange\u001b[0m\u001b[1;33m(\u001b[0m\u001b[0mnum_trails\u001b[0m\u001b[1;33m)\u001b[0m\u001b[1;33m:\u001b[0m\u001b[1;33m\u001b[0m\u001b[1;33m\u001b[0m\u001b[0m\n\u001b[0;32m     41\u001b[0m     \u001b[0mprocess\u001b[0m \u001b[1;33m=\u001b[0m \u001b[0mdeepcopy\u001b[0m\u001b[1;33m(\u001b[0m\u001b[0munsolved_process\u001b[0m\u001b[1;33m)\u001b[0m\u001b[1;33m\u001b[0m\u001b[1;33m\u001b[0m\u001b[0m\n",
      "\u001b[1;31mNameError\u001b[0m: name 'runtime_data' is not defined"
     ]
    }
   ],
   "source": [
    "import json\n",
    "from collections import defaultdict\n",
    "from integral_timber_joints.planning.run import compute_movements_for_beam_id, plan_for_beam_id_with_restart\n",
    "# beam_id = process.get_beam_id_from_movement_id(args.id_only)\n",
    "\n",
    "debug = False\n",
    "diagnosis = False\n",
    "verbose = True\n",
    "\n",
    "beam_id = 'b4'\n",
    "options.update({\n",
    "    'debug' : debug,\n",
    "    'verbose' : verbose,\n",
    "    'diagnosis' : diagnosis,\n",
    "    'low_res' : False,\n",
    "    'movement_planning_reattempts' : 1,\n",
    "    'solve_timeout' : 1800,\n",
    "})\n",
    "\n",
    "# PlanningArguments = namedtuple('PlanningArguments', ['problem', 'viewer', debug', 'diagnosis', 'id_only', 'solve_mode', 'viz_upon_found', \n",
    "#                                              'save_now', 'write', 'plan_impacted', 'watch', 'step_sim', 'verbose'])\n",
    "\n",
    "num_trails = 10\n",
    "runtime_data = {}\n",
    "\n",
    "#'linear'\n",
    "# for solve_mode_ in ['nonlinear', 'linear']:\n",
    "solve_mode_ = 'nonlinear'\n",
    "\n",
    "args = PlanningArguments(problem, False, debug, diagnosis, None, solve_mode_.split('_')[0], viz_upon_found, save_now, write, \n",
    "                         plan_impacted, False, False, verbose)\n",
    "all_movements = process.get_movements_by_beam_id(beam_id)\n",
    "\n",
    "if solve_mode_ == 'linear_backward':\n",
    "    options['movement_id_range'] = list(reversed(range(0, len(all_movements))))\n",
    "elif solve_mode_ == 'linear_forward':\n",
    "    options['movement_id_range'] = list(range(0, len(all_movements)))\n",
    "    \n",
    "runtime_data[solve_mode_] = {}\n",
    "for attempt_i in range(num_trails):\n",
    "    process = deepcopy(unsolved_process)\n",
    "    success, trial_data = plan_for_beam_id_with_restart(client, robot, process, beam_id, args, options=options)\n",
    "    runtime_data[solve_mode_][attempt_i] = trial_data\n",
    "    with open('figs/{}_runtime_data.json'.format(beam_id), 'w') as f:\n",
    "        json.dump(runtime_data, f)\n",
    "\n",
    "print('Done')\n",
    "client.disconnect()"
   ]
  },
  {
   "cell_type": "code",
   "execution_count": 55,
   "id": "informational-raleigh",
   "metadata": {},
   "outputs": [],
   "source": [
    "with open('figs/{}_runtime_data.json'.format(beam_id), 'w') as f:\n",
    "    json.dump(runtime_data, f)"
   ]
  },
  {
   "cell_type": "code",
   "execution_count": 54,
   "id": "entire-adapter",
   "metadata": {},
   "outputs": [
    {
     "name": "stdout",
     "output_type": "stream",
     "text": [
      "====================\n",
      "#nonlinear-T#0:\n",
      "\u001b[31mFalse - BT 5 | time 1811.02\u001b[0m\n",
      "---\n",
      "#nonlinear-T#1:\n",
      "\u001b[31mFalse - BT 5 | time 2231.90\u001b[0m\n",
      "---\n",
      "#nonlinear-T#2:\n",
      "\u001b[31mFalse - BT 4 | time 2295.43\u001b[0m\n",
      "---\n",
      "#nonlinear-T#3:\n",
      "\u001b[31mFalse - BT 9 | time 2292.07\u001b[0m\n",
      "---\n",
      "#nonlinear-T#4:\n",
      "\u001b[31mFalse - BT 4 | time 2332.44\u001b[0m\n",
      "---\n",
      "#nonlinear-T#5:\n",
      "\u001b[31mFalse - BT 5 | time 1824.16\u001b[0m\n",
      "---\n",
      "#nonlinear-T#6:\n",
      "\u001b[31mFalse - BT 9 | time 2255.36\u001b[0m\n",
      "---\n",
      "#nonlinear-T#7:\n",
      "\u001b[32mTrue - BT 1 | time 561.54\u001b[0m\n",
      "---\n",
      "#nonlinear-T#8:\n",
      "\u001b[31mFalse - BT 11 | time 2290.56\u001b[0m\n",
      "---\n",
      "#nonlinear-T#9:\n",
      "\u001b[32mTrue - BT 3 | time 1081.51\u001b[0m\n",
      "---\n",
      "====================\n",
      "#linear_forward-T#0:\n",
      "\u001b[31mFalse - BT 38 | time 1697.92\u001b[0m\n",
      "---\n",
      "#linear_forward-T#1:\n",
      "\u001b[31mFalse - BT 42 | time 1629.65\u001b[0m\n",
      "---\n",
      "#linear_forward-T#2:\n",
      "\u001b[32mTrue - BT 10 | time 475.35\u001b[0m\n",
      "---\n",
      "#linear_forward-T#3:\n",
      "\u001b[31mFalse - BT 36 | time 1645.06\u001b[0m\n",
      "---\n",
      "#linear_forward-T#4:\n",
      "\u001b[32mTrue - BT 7 | time 418.36\u001b[0m\n",
      "---\n",
      "#linear_forward-T#5:\n",
      "\u001b[32mTrue - BT 36 | time 1414.15\u001b[0m\n",
      "---\n",
      "#linear_forward-T#6:\n",
      "\u001b[32mTrue - BT 6 | time 206.76\u001b[0m\n",
      "---\n",
      "#linear_forward-T#7:\n",
      "\u001b[32mTrue - BT 9 | time 381.17\u001b[0m\n",
      "---\n",
      "#linear_forward-T#8:\n",
      "\u001b[32mTrue - BT 19 | time 771.37\u001b[0m\n",
      "---\n",
      "#linear_forward-T#9:\n",
      "\u001b[32mTrue - BT 3 | time 123.53\u001b[0m\n",
      "---\n",
      "====================\n",
      "#linear_backward-T#0:\n",
      "\u001b[31mFalse - BT 145 | time 1120.36\u001b[0m\n",
      "---\n",
      "#linear_backward-T#1:\n",
      "\u001b[31mFalse - BT 148 | time 1110.77\u001b[0m\n",
      "---\n",
      "#linear_backward-T#2:\n",
      "\u001b[31mFalse - BT 164 | time 1031.11\u001b[0m\n",
      "---\n",
      "#linear_backward-T#3:\n",
      "\u001b[31mFalse - BT 216 | time 786.39\u001b[0m\n",
      "---\n",
      "#linear_backward-T#4:\n",
      "\u001b[31mFalse - BT 214 | time 787.99\u001b[0m\n",
      "---\n",
      "#linear_backward-T#5:\n",
      "\u001b[31mFalse - BT 227 | time 732.75\u001b[0m\n",
      "---\n",
      "#linear_backward-T#6:\n",
      "\u001b[31mFalse - BT 207 | time 830.72\u001b[0m\n",
      "---\n",
      "#linear_backward-T#7:\n",
      "\u001b[31mFalse - BT 207 | time 830.82\u001b[0m\n",
      "---\n"
     ]
    }
   ],
   "source": [
    "for solve_mode_ in ['nonlinear', 'linear_forward', 'linear_backward']:\n",
    "    print('='*20)\n",
    "    for i, tdata in runtime_data[solve_mode_].items():\n",
    "        print('#{}-T#{}:'.format(solve_mode_, i))\n",
    "        sc = any([d['success'] for di, d in tdata.items()])\n",
    "        \n",
    "        total_runtime = []\n",
    "        for i, trial_data in tdata.items():\n",
    "            trial_profiles = trial_data['profiles']\n",
    "            runtime_per_move = [sum(trial_profiles[mid]['plan_time']) for mid in trial_profiles]\n",
    "            total_runtime.append(sum(runtime_per_move))\n",
    "      \n",
    "        cprint('{} - BT {} | time {:.2f}'.format(sc, len(tdata), sum(total_runtime)), 'green' if sc else 'red')\n",
    "        print('---')"
   ]
  },
  {
   "cell_type": "markdown",
   "id": "nominated-patrol",
   "metadata": {},
   "source": [
    "# Diagram"
   ]
  },
  {
   "cell_type": "code",
   "execution_count": 77,
   "id": "tamil-agenda",
   "metadata": {},
   "outputs": [],
   "source": [
    "from plotly.subplots import make_subplots\n",
    "import plotly.graph_objects as go\n",
    "from integral_timber_joints.process import RoboticFreeMovement, RoboticLinearMovement, RoboticClampSyncLinearMovement\n",
    "\n",
    "solve_mode_ = 'nonlinear' # linear_backward | linear_forward | nonlinear\n",
    "\n",
    "# total_rows = 0\n",
    "# for i, d in runtime_data[solve_mode_].items():\n",
    "#     total_rows += len(d)+1\n",
    "max_inner_loop_displayed = 6\n",
    "\n",
    "for attempt_i, s_rdata in runtime_data[solve_mode_].items():\n",
    "    if len(s_rdata) > max_inner_loop_displayed:\n",
    "        num_rows = max_inner_loop_displayed+1\n",
    "        half = int(max_inner_loop_displayed/2)\n",
    "        selected_inners = list(range(0,half)) + list(range(len(s_rdata)-half,len(s_rdata)))\n",
    "    else:\n",
    "        num_rows = len(s_rdata)+1\n",
    "        selected_inners = list(range(len(s_rdata)))\n",
    "    \n",
    "    fig = make_subplots(rows=num_rows, cols=2)\n",
    "    success = any([d['success'] for di, d in s_rdata.items()])\n",
    "    total_runtime = []\n",
    "    failed_m_id = []\n",
    "    for i in s_rdata.keys():\n",
    "        trial_data = s_rdata[i]\n",
    "        trial_profiles = trial_data['profiles']\n",
    "        mid_keys = sorted(trial_profiles.keys(), key=int)\n",
    "        runtime_per_move = [sum(trial_profiles[mid]['plan_time']) for mid in mid_keys]\n",
    "        total_runtime.append(sum(runtime_per_move))\n",
    "        \n",
    "        for mid in mid_keys:\n",
    "            if not any(trial_profiles[mid]['plan_success']):\n",
    "                movement = process.get_movement_by_movement_id(trial_profiles[mid]['movement_id'][0])\n",
    "                m_color = '#ff1b6b' if isinstance(movement, RoboticFreeMovement) else '#45caff'\n",
    "                failed_m_id.append((mid, movement.short_summary, m_color))\n",
    "                break\n",
    "        else:\n",
    "            failed_m_id.append((-1, 'success!', '#00ff87'))\n",
    "        \n",
    "        if i in selected_inners or int(i) in selected_inners:\n",
    "            success_colors = ['#99C24D' if any(trial_profiles[mid]['plan_success']) else '#F18F01' for mid in mid_keys]\n",
    "            row_id = selected_inners.index(int(i))+1\n",
    "            fig.append_trace(go.Scatter(x=mid_keys,\n",
    "                                    y=runtime_per_move,\n",
    "                                    mode='markers',\n",
    "                                    marker_color=success_colors,\n",
    "                                    text=[process.get_movement_by_movement_id(trial_profiles[mid]['movement_id'][0]).short_summary \\\n",
    "                                          for mid in mid_keys], # hover text goes here\n",
    "                                    name='#{}-feasibility'.format(i),\n",
    "                                    ),\n",
    "                          row=row_id, col=1\n",
    "                        )\n",
    "\n",
    "            fig.append_trace(go.Scatter(x=mid_keys,\n",
    "                                            y=runtime_per_move,\n",
    "                                            mode='markers',\n",
    "                                                marker=dict(\n",
    "                                                size=5,\n",
    "                                                color=[trial_profiles[mid]['sample_order'][0] for mid in mid_keys], #set color equal to a variable\n",
    "                                                colorscale='Viridis', # one of plotly colorscales\n",
    "                                                showscale=True\n",
    "                                            ),\n",
    "                                            text=['S#{}-{}'.format(trial_profiles[mid]['sample_order'][0], process.get_movement_by_movement_id(trial_profiles[mid]['movement_id'][0]).short_summary) \\\n",
    "                                                  for mid in mid_keys], # hover text goes here\n",
    "                                            name='#{}-sample order'.format(i),),\n",
    "                          row=row_id, col=2\n",
    "                            )\n",
    "            if row_id == 1:\n",
    "                fig.update_xaxes(title_text=\"m_id\",row=row_id, col=1)\n",
    "                fig.update_yaxes(title_text=\"runtime(s)\",row=row_id, col=1)\n",
    "\n",
    "    fig.append_trace(go.Scatter(x=list(range(len(s_rdata))),y=total_runtime), \n",
    "                     row=num_rows, col=1)\n",
    "    fig.update_xaxes(title_text=\"trials\",row=num_rows, col=1)\n",
    "    fig.update_yaxes(title_text=\"runtime(s)\",row=num_rows, col=1)\n",
    "    \n",
    "    fig.append_trace(go.Scatter(x=list(range(len(failed_m_id))),y=[tt[0] for tt in failed_m_id],\n",
    "                                mode='markers',\n",
    "                                marker_color=[tt[2] for tt in failed_m_id],\n",
    "                                text=[tt[1] for tt in failed_m_id],\n",
    "                               ), row=num_rows, col=2)\n",
    "    fig.update_xaxes(title_text=\"trials\",row=num_rows, col=2)\n",
    "    fig.update_yaxes(title_text=\"failed_movement_id\",row=num_rows, col=2)\n",
    "\n",
    "    \n",
    "    title = \"figs/{}-{}-trail_{}_success-{}_BT-{}_time-{:.1f}\".format(beam_id, solve_mode_, \n",
    "        attempt_i, success, len(s_rdata), sum(total_runtime))\n",
    "    fig.update_layout(title=title)\n",
    "    fig.write_html(title + \".html\")\n",
    "# fig.show()"
   ]
  },
  {
   "cell_type": "code",
   "execution_count": 41,
   "id": "electoral-october",
   "metadata": {},
   "outputs": [
    {
     "data": {
      "text/plain": [
       "207"
      ]
     },
     "execution_count": 41,
     "metadata": {},
     "output_type": "execute_result"
    }
   ],
   "source": [
    "len(failed_m_id)"
   ]
  },
  {
   "cell_type": "markdown",
   "id": "heavy-separate",
   "metadata": {},
   "source": [
    "# Save runtime data"
   ]
  },
  {
   "cell_type": "code",
   "execution_count": 106,
   "id": "conditional-theology",
   "metadata": {},
   "outputs": [
    {
     "data": {
      "text/plain": [
       "dict_keys(['linear', 'nonlinear'])"
      ]
     },
     "execution_count": 106,
     "metadata": {},
     "output_type": "execute_result"
    }
   ],
   "source": [
    "runtime_data.keys()"
   ]
  },
  {
   "cell_type": "code",
   "execution_count": 18,
   "id": "korean-tiffany",
   "metadata": {
    "collapsed": true
   },
   "outputs": [
    {
     "ename": "KeyError",
     "evalue": "'movement_id_range'",
     "output_type": "error",
     "traceback": [
      "\u001b[1;31m---------------------------------------------------------------------------\u001b[0m",
      "\u001b[1;31mKeyError\u001b[0m                                  Traceback (most recent call last)",
      "\u001b[1;32m<ipython-input-18-207700a39328>\u001b[0m in \u001b[0;36m<module>\u001b[1;34m\u001b[0m\n\u001b[0;32m      2\u001b[0m \u001b[1;33m\u001b[0m\u001b[0m\n\u001b[0;32m      3\u001b[0m \u001b[0mbeam_all_movements\u001b[0m \u001b[1;33m=\u001b[0m \u001b[0mprocess\u001b[0m\u001b[1;33m.\u001b[0m\u001b[0mget_movements_by_beam_id\u001b[0m\u001b[1;33m(\u001b[0m\u001b[0mbeam_id\u001b[0m\u001b[1;33m)\u001b[0m\u001b[1;33m\u001b[0m\u001b[1;33m\u001b[0m\u001b[0m\n\u001b[1;32m----> 4\u001b[1;33m \u001b[0maltered_movements\u001b[0m \u001b[1;33m=\u001b[0m \u001b[1;33m[\u001b[0m\u001b[0mbeam_all_movements\u001b[0m\u001b[1;33m[\u001b[0m\u001b[0mmid\u001b[0m\u001b[1;33m]\u001b[0m \u001b[1;32mfor\u001b[0m \u001b[0mmid\u001b[0m \u001b[1;32min\u001b[0m \u001b[0moptions\u001b[0m\u001b[1;33m[\u001b[0m\u001b[1;34m'movement_id_range'\u001b[0m\u001b[1;33m]\u001b[0m\u001b[1;33m]\u001b[0m\u001b[1;33m\u001b[0m\u001b[1;33m\u001b[0m\u001b[0m\n\u001b[0m\u001b[0;32m      5\u001b[0m \u001b[0msave_process_and_movements\u001b[0m\u001b[1;33m(\u001b[0m\u001b[0mproblem\u001b[0m\u001b[1;33m,\u001b[0m \u001b[0mprocess\u001b[0m\u001b[1;33m,\u001b[0m \u001b[0maltered_movements\u001b[0m\u001b[1;33m,\u001b[0m \u001b[0msave_temp\u001b[0m\u001b[1;33m=\u001b[0m\u001b[1;32mTrue\u001b[0m\u001b[1;33m)\u001b[0m\u001b[1;33m\u001b[0m\u001b[1;33m\u001b[0m\u001b[0m\n",
      "\u001b[1;31mKeyError\u001b[0m: 'movement_id_range'"
     ]
    }
   ],
   "source": [
    "from integral_timber_joints.planning.parsing import save_process_and_movements\n",
    "\n",
    "beam_all_movements = process.get_movements_by_beam_id(beam_id)\n",
    "if 'movement_id_range' not in options:\n",
    "    altered_movements = beam_all_movements\n",
    "else:\n",
    "    altered_movements = [beam_all_movements[mid] for mid in options['movement_id_range']]\n",
    "save_process_and_movements(problem, process, altered_movements, save_temp=True)"
   ]
  },
  {
   "cell_type": "markdown",
   "id": "graduate-middle",
   "metadata": {},
   "source": [
    "# Disconnect client"
   ]
  },
  {
   "cell_type": "code",
   "execution_count": 48,
   "id": "junior-standing",
   "metadata": {},
   "outputs": [],
   "source": [
    "client.disconnect()"
   ]
  },
  {
   "cell_type": "markdown",
   "id": "civil-partner",
   "metadata": {},
   "source": [
    "# Plan only one movement"
   ]
  },
  {
   "cell_type": "code",
   "execution_count": 29,
   "id": "ambient-calculator",
   "metadata": {},
   "outputs": [],
   "source": [
    "# if id_only:\n",
    "#     beam_id = process.get_beam_id_from_movement_id(id_only)\n",
    "#     process.get_movement_summary_by_beam_id(beam_id)"
   ]
  },
  {
   "cell_type": "code",
   "execution_count": 39,
   "id": "experienced-industry",
   "metadata": {},
   "outputs": [
    {
     "name": "stdout",
     "output_type": "stream",
     "text": [
      "\u001b[36mRoboticLinearMovement(#A2_M1, Linear Advance to Final Frame of Beam ('b0'), traj 1)\u001b[0m\n",
      "\u001b[33mend conf FK inconsistent (0.00005 m) with given current frame in end state.\u001b[0m\n",
      "\u001b[33mBoth start/end confs are pre-specified, problem might be too stiff to be solved.\u001b[0m\n",
      "\u001b[34mOne-sided Cartesian planning : start conf set, forward mode\u001b[0m\n",
      "\tcartesian trial #0\n",
      "\u001b[32mPlan found by IterativeIK! After 0 path failure (by IterativeIK) over 1 samples.\u001b[0m\n"
     ]
    },
    {
     "data": {
      "text/plain": [
       "True"
      ]
     },
     "execution_count": 39,
     "metadata": {},
     "output_type": "execute_result"
    }
   ],
   "source": [
    "from integral_timber_joints.planning.stream import compute_free_movement, compute_linear_movement\n",
    "from integral_timber_joints.planning.solve import compute_movement\n",
    "\n",
    "chosen_m = process.get_movement_by_movement_id(id_only)\n",
    "compute_movement(client, robot, process, chosen_m, options=lm_options, diagnosis=diagnosis)"
   ]
  },
  {
   "cell_type": "code",
   "execution_count": 40,
   "id": "british-conflict",
   "metadata": {},
   "outputs": [
    {
     "name": "stdout",
     "output_type": "stream",
     "text": [
      "===\n",
      "Viz:\u001b[0m\n",
      "\u001b[32mRoboticLinearMovement(#A2_M1, Linear Advance to Final Frame of Beam ('b0'), traj 1)\u001b[0m\n"
     ]
    },
    {
     "name": "stdin",
     "output_type": "stream",
     "text": [
      "Step conf. \n",
      "Step conf. \n",
      "Step conf. \n",
      "Step conf. \n",
      "Step conf. \n",
      "Step conf. \n",
      "Step conf. \n",
      "End state. \n"
     ]
    }
   ],
   "source": [
    "from integral_timber_joints.planning.visualization import visualize_movement_trajectory\n",
    "\n",
    "with pp.WorldSaver():\n",
    "    visualize_movement_trajectory(client, robot, process, chosen_m, step_sim=True)"
   ]
  }
 ],
 "metadata": {
  "interpreter": {
   "hash": "e316c14abce5fba3fe9c4f8c619f8000a7b0c13889e51eb6196aed0ab3fd7ed0"
  },
  "kernelspec": {
   "display_name": "Python 3",
   "language": "python",
   "name": "python3"
  },
  "language_info": {
   "codemirror_mode": {
    "name": "ipython",
    "version": 3
   },
   "file_extension": ".py",
   "mimetype": "text/x-python",
   "name": "python",
   "nbconvert_exporter": "python",
   "pygments_lexer": "ipython3",
   "version": "3.7.9"
  }
 },
 "nbformat": 4,
 "nbformat_minor": 5
}
