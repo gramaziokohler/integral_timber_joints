{
 "cells": [
  {
   "cell_type": "code",
   "execution_count": 1,
   "id": "behind-characterization",
   "metadata": {},
   "outputs": [],
   "source": [
    "# https://ipython.org/ipython-doc/3/config/extensions/autoreload.html\n",
    "%load_ext autoreload\n",
    "%autoreload 2"
   ]
  },
  {
   "cell_type": "markdown",
   "id": "aging-smoke",
   "metadata": {},
   "source": [
    "## Options"
   ]
  },
  {
   "cell_type": "code",
   "execution_count": 2,
   "id": "driving-genealogy",
   "metadata": {},
   "outputs": [],
   "source": [
    "# parse options\n",
    "problem = 'twelve_pieces_process.json'\n",
    "problem_subdir = 'results'\n",
    "\n",
    "recompute_action_states = False\n",
    "load_external_movements = False"
   ]
  },
  {
   "cell_type": "code",
   "execution_count": 15,
   "id": "fitting-thousand",
   "metadata": {},
   "outputs": [],
   "source": [
    "# generic planning options\n",
    "id_only = 'A2_M1' # None | 'A273_M0'\n",
    "free_motion_only = False\n",
    "low_res = True"
   ]
  },
  {
   "cell_type": "code",
   "execution_count": 17,
   "id": "healthy-genome",
   "metadata": {},
   "outputs": [],
   "source": [
    "# client options\n",
    "viewer = True\n",
    "debug = True\n",
    "verbose = True\n",
    "diagnosis = True\n",
    "watch = False\n",
    "step_sim = False\n",
    "\n",
    "disable_env = False\n",
    "reinit_tool = False"
   ]
  },
  {
   "cell_type": "markdown",
   "id": "vulnerable-pickup",
   "metadata": {},
   "source": [
    "## Parse process from json"
   ]
  },
  {
   "cell_type": "code",
   "execution_count": 5,
   "id": "returning-celebration",
   "metadata": {},
   "outputs": [],
   "source": [
    "import os\n",
    "from termcolor import cprint\n",
    "import pybullet_planning as pp\n",
    "from integral_timber_joints.planning.parsing import parse_process, save_process_and_movements, get_process_path, save_process"
   ]
  },
  {
   "cell_type": "code",
   "execution_count": 6,
   "id": "built-valley",
   "metadata": {},
   "outputs": [
    {
     "name": "stdout",
     "output_type": "stream",
     "text": [
      "\u001b[34mProcess json parsed from c:\\users\\harry\\dropbox (mit)\\code_ws_dropbox\\itj_ws\\integral_timber_joints\\external\\itj_design_study\\210128_RemodelFredPavilion\\results\\twelve_pieces_process.json\u001b[0m\n"
     ]
    }
   ],
   "source": [
    "process = parse_process(problem, subdir=problem_subdir)\n",
    "result_path = get_process_path(problem, subdir='results')\n",
    "if len(process.movements) == 0:\n",
    "    cprint('No movements found in process, trigger recompute actions.', 'red')\n",
    "    recompute_action_states = True\n",
    "if recompute_action_states:\n",
    "    cprint('Recomputing Actions and States', 'cyan')\n",
    "    recompute_action_states(process)"
   ]
  },
  {
   "cell_type": "code",
   "execution_count": 7,
   "id": "statutory-mitchell",
   "metadata": {},
   "outputs": [
    {
     "name": "stdout",
     "output_type": "stream",
     "text": [
      "\u001b[36mLoading external movements from c:\\users\\harry\\dropbox (mit)\\code_ws_dropbox\\itj_ws\\integral_timber_joints\\external\\itj_design_study\\210128_RemodelFredPavilion\\results\u001b[0m\n"
     ]
    }
   ],
   "source": [
    "# # force load external if only planning for the free motions\n",
    "# load_external_movements = load_external_movements or free_motion_only or id_only is not None\n",
    "# if load_external_movements:\n",
    "#     ext_movement_path = os.path.dirname(result_path)\n",
    "#     cprint('Loading external movements from {}'.format(ext_movement_path), 'cyan')\n",
    "#     process.load_external_movements(ext_movement_path)\n",
    "#     if recompute_action_states:\n",
    "#         save_process(process, result_path)\n",
    "#         cprint('Recomputed process saved to %s' % result_path, 'green')"
   ]
  },
  {
   "cell_type": "markdown",
   "id": "collectible-piece",
   "metadata": {},
   "source": [
    "## Start client"
   ]
  },
  {
   "cell_type": "code",
   "execution_count": 30,
   "id": "different-signature",
   "metadata": {},
   "outputs": [],
   "source": [
    "from integral_timber_joints.planning.robot_setup import load_RFL_world\n",
    "from integral_timber_joints.planning.run import set_initial_state\n",
    "\n",
    "# * Connect to path planning backend and initialize robot parameters\n",
    "client, robot, _ = load_RFL_world(viewer=viewer or diagnosis or view_states or watch or step_sim, verbose=False)\n",
    "set_initial_state(client, robot, process, disable_env=disable_env, reinit_tool=reinit_tool)"
   ]
  },
  {
   "cell_type": "code",
   "execution_count": 29,
   "id": "dated-therapy",
   "metadata": {},
   "outputs": [],
   "source": [
    "# if id_only:\n",
    "#     beam_id = process.get_beam_id_from_movement_id(id_only)\n",
    "#     process.get_movement_summary_by_beam_id(beam_id)"
   ]
  },
  {
   "cell_type": "code",
   "execution_count": 31,
   "id": "dynamic-glucose",
   "metadata": {},
   "outputs": [],
   "source": [
    "from integral_timber_joints.planning.robot_setup import GANTRY_ARM_GROUP, GANTRY_GROUP, BARE_ARM_GROUP\n",
    "from compas.robots import Joint\n",
    "import numpy as np\n",
    "\n",
    "joint_names = robot.get_configurable_joint_names(group=GANTRY_ARM_GROUP)\n",
    "joint_types = robot.get_joint_types_by_names(joint_names)\n",
    "# 0.1 rad = 5.7 deg\n",
    "joint_jump_threshold = {jt_name : np.pi/6 \\\n",
    "        if jt_type in [Joint.REVOLUTE, Joint.CONTINUOUS] else 0.1 \\\n",
    "        for jt_name, jt_type in zip(joint_names, joint_types)}\n",
    "\n",
    "options = {\n",
    "    'debug' : debug,\n",
    "    'diagnosis' : diagnosis,\n",
    "    'distance_threshold' : 0.0012,\n",
    "    'frame_jump_tolerance' : 0.0012,\n",
    "    'verbose' : verbose,\n",
    "#     'use_stored_seed' : args.use_stored_seed,\n",
    "    'jump_threshold' : joint_jump_threshold,\n",
    "#     'max_distance' : args.max_distance,\n",
    "}"
   ]
  },
  {
   "cell_type": "code",
   "execution_count": 39,
   "id": "decreased-baghdad",
   "metadata": {},
   "outputs": [
    {
     "name": "stdout",
     "output_type": "stream",
     "text": [
      "\u001b[36mRoboticLinearMovement(#A2_M1, Linear Advance to Final Frame of Beam ('b0'), traj 1)\u001b[0m\n",
      "\u001b[33mend conf FK inconsistent (0.00005 m) with given current frame in end state.\u001b[0m\n",
      "\u001b[33mBoth start/end confs are pre-specified, problem might be too stiff to be solved.\u001b[0m\n",
      "\u001b[34mOne-sided Cartesian planning : start conf set, forward mode\u001b[0m\n",
      "\tcartesian trial #0\n",
      "\u001b[32mPlan found by IterativeIK! After 0 path failure (by IterativeIK) over 1 samples.\u001b[0m\n"
     ]
    },
    {
     "data": {
      "text/plain": [
       "True"
      ]
     },
     "execution_count": 39,
     "metadata": {},
     "output_type": "execute_result"
    }
   ],
   "source": [
    "from integral_timber_joints.planning.stream import compute_free_movement, compute_linear_movement\n",
    "from integral_timber_joints.planning.solve import compute_movement\n",
    "\n",
    "GANTRY_ATTEMPTS = 10\n",
    "\n",
    "chosen_m = process.get_movement_by_movement_id(id_only)\n",
    "\n",
    "lm_options = options.copy()\n",
    "lm_options.update({\n",
    "    'max_step' : 0.01, # interpolation step size, in meter\n",
    "    'distance_threshold':0.002, # collision checking tolerance, in meter\n",
    "    'gantry_attempts' : GANTRY_ATTEMPTS,  # gantry attempt matters more\n",
    "    'cartesian_attempts' : 5, # boosting up cartesian attempt here does not really help\n",
    "    'reachable_range' : (0.2, 2.8), # circle radius for sampling gantry base when computing IK\n",
    "    # -------------------\n",
    "    'planner_id' : 'IterativeIK',\n",
    "    'cartesian_move_group' : GANTRY_ARM_GROUP,\n",
    "    # -------------------\n",
    "    # 'planner_id' : 'LadderGraph',\n",
    "    # 'ik_function' : _get_sample_bare_arm_ik_fn(client, robot),\n",
    "    # 'cartesian_move_group' : BARE_ARM_GROUP,\n",
    "    })\n",
    "\n",
    "compute_movement(client, robot, process, chosen_m, options=options, diagnosis=diagnosis)"
   ]
  },
  {
   "cell_type": "code",
   "execution_count": 40,
   "id": "reasonable-range",
   "metadata": {},
   "outputs": [
    {
     "name": "stdout",
     "output_type": "stream",
     "text": [
      "===\n",
      "Viz:\u001b[0m\n",
      "\u001b[32mRoboticLinearMovement(#A2_M1, Linear Advance to Final Frame of Beam ('b0'), traj 1)\u001b[0m\n"
     ]
    },
    {
     "name": "stdin",
     "output_type": "stream",
     "text": [
      "Step conf. \n",
      "Step conf. \n",
      "Step conf. \n",
      "Step conf. \n",
      "Step conf. \n",
      "Step conf. \n",
      "Step conf. \n",
      "End state. \n"
     ]
    }
   ],
   "source": [
    "from integral_timber_joints.planning.visualization import visualize_movement_trajectory\n",
    "\n",
    "with pp.WorldSaver():\n",
    "    visualize_movement_trajectory(client, robot, process, chosen_m, step_sim=True)"
   ]
  },
  {
   "cell_type": "code",
   "execution_count": 41,
   "id": "injured-liberal",
   "metadata": {},
   "outputs": [],
   "source": [
    "pp.disconnect()"
   ]
  }
 ],
 "metadata": {
  "interpreter": {
   "hash": "e316c14abce5fba3fe9c4f8c619f8000a7b0c13889e51eb6196aed0ab3fd7ed0"
  },
  "kernelspec": {
   "display_name": "Python 3",
   "language": "python",
   "name": "python3"
  },
  "language_info": {
   "codemirror_mode": {
    "name": "ipython",
    "version": 3
   },
   "file_extension": ".py",
   "mimetype": "text/x-python",
   "name": "python",
   "nbconvert_exporter": "python",
   "pygments_lexer": "ipython3",
   "version": "3.7.9"
  }
 },
 "nbformat": 4,
 "nbformat_minor": 5
}
