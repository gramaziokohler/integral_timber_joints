{
 "cells": [
  {
   "cell_type": "code",
   "execution_count": 1,
   "id": "lyric-lounge",
   "metadata": {},
   "outputs": [],
   "source": [
    "# https://ipython.org/ipython-doc/3/config/extensions/autoreload.html\n",
    "%load_ext autoreload\n",
    "%autoreload 2"
   ]
  },
  {
   "cell_type": "markdown",
   "id": "selective-assembly",
   "metadata": {},
   "source": [
    "## Options"
   ]
  },
  {
   "cell_type": "code",
   "execution_count": 2,
   "id": "enabling-institute",
   "metadata": {},
   "outputs": [],
   "source": [
    "# parse options\n",
    "problem = 'twelve_pieces_process.json' # 'pavilion_process.json' # 'twelve_pieces_process.json'\n",
    "problem_subdir = 'results'\n",
    "\n",
    "recompute_action_states = False\n",
    "load_external_movements = False"
   ]
  },
  {
   "cell_type": "code",
   "execution_count": 3,
   "id": "oriental-archives",
   "metadata": {},
   "outputs": [],
   "source": [
    "# client options\n",
    "disable_env = False\n",
    "reinit_tool = False"
   ]
  },
  {
   "cell_type": "code",
   "execution_count": 4,
   "id": "individual-queensland",
   "metadata": {},
   "outputs": [],
   "source": [
    "from collections import namedtuple\n",
    "PlanningArguments = namedtuple('PlanningArguments', ['problem', 'viewer', 'debug', 'diagnosis', 'id_only', 'solve_mode', 'viz_upon_found', \n",
    "                                             'save_now', 'write', 'plan_impacted', 'watch', 'step_sim', 'verbose'])\n",
    "# args = PlanningArguments(problem, viewer, debug, diagnosis, id_only, solve_mode, viz_upon_found, save_now, write, plan_impacted, watch, step_sim, verbose)"
   ]
  },
  {
   "cell_type": "markdown",
   "id": "blocked-number",
   "metadata": {},
   "source": [
    "## Parse process from json"
   ]
  },
  {
   "cell_type": "code",
   "execution_count": 5,
   "id": "fiscal-inclusion",
   "metadata": {},
   "outputs": [
    {
     "name": "stderr",
     "output_type": "stream",
     "text": [
      "pybullet build time: May  8 2021 05:48:13\n"
     ]
    }
   ],
   "source": [
    "import os\n",
    "from termcolor import cprint\n",
    "import pybullet_planning as pp\n",
    "from integral_timber_joints.planning.parsing import parse_process, save_process_and_movements, get_process_path, save_process"
   ]
  },
  {
   "cell_type": "code",
   "execution_count": 6,
   "id": "pregnant-hometown",
   "metadata": {},
   "outputs": [
    {
     "name": "stdout",
     "output_type": "stream",
     "text": [
      "\u001b[34mProcess json parsed from /home/yijiangh/itj_ws/integral_timber_joints/external/itj_design_study/210128_RemodelFredPavilion/results/twelve_pieces_process.json\u001b[0m\n"
     ]
    }
   ],
   "source": [
    "process = parse_process(problem, subdir=problem_subdir)\n",
    "result_path = get_process_path(problem, subdir='results')\n",
    "if len(process.movements) == 0:\n",
    "    cprint('No movements found in process, trigger recompute actions.', 'red')\n",
    "    recompute_action_states = True\n",
    "if recompute_action_states:\n",
    "    cprint('Recomputing Actions and States', 'cyan')\n",
    "    recompute_action_states(process)"
   ]
  },
  {
   "cell_type": "code",
   "execution_count": 7,
   "id": "wireless-forth",
   "metadata": {},
   "outputs": [],
   "source": [
    "from copy import deepcopy\n",
    "unsolved_process = deepcopy(process)"
   ]
  },
  {
   "cell_type": "markdown",
   "id": "wired-sympathy",
   "metadata": {},
   "source": [
    "## Start client"
   ]
  },
  {
   "cell_type": "code",
   "execution_count": 8,
   "id": "sensitive-spread",
   "metadata": {},
   "outputs": [],
   "source": [
    "from integral_timber_joints.planning.robot_setup import load_RFL_world\n",
    "from integral_timber_joints.planning.run import set_initial_state\n",
    "\n",
    "# * Connect to path planning backend and initialize robot parameters\n",
    "# viewer or diagnosis or view_states or watch or step_sim,\n",
    "client, robot, _ = load_RFL_world(viewer=False, verbose=False)\n",
    "set_initial_state(client, robot, process, disable_env=disable_env, reinit_tool=False)"
   ]
  },
  {
   "cell_type": "code",
   "execution_count": 9,
   "id": "italic-elder",
   "metadata": {},
   "outputs": [],
   "source": [
    "# client.disconnect()"
   ]
  },
  {
   "cell_type": "code",
   "execution_count": 10,
   "id": "physical-veteran",
   "metadata": {},
   "outputs": [],
   "source": [
    "from integral_timber_joints.planning.robot_setup import GANTRY_ARM_GROUP, GANTRY_GROUP, BARE_ARM_GROUP\n",
    "from compas.robots import Joint\n",
    "import numpy as np\n",
    "\n",
    "joint_names = robot.get_configurable_joint_names(group=GANTRY_ARM_GROUP)\n",
    "joint_types = robot.get_joint_types_by_names(joint_names)\n",
    "# 0.1 rad = 5.7 deg\n",
    "joint_jump_threshold = {jt_name : np.pi/6 \\\n",
    "        if jt_type in [Joint.REVOLUTE, Joint.CONTINUOUS] else 0.1 \\\n",
    "        for jt_name, jt_type in zip(joint_names, joint_types)}"
   ]
  },
  {
   "cell_type": "markdown",
   "id": "swiss-gasoline",
   "metadata": {},
   "source": [
    "## Reset process and client"
   ]
  },
  {
   "cell_type": "code",
   "execution_count": 21,
   "id": "palestinian-passport",
   "metadata": {},
   "outputs": [
    {
     "name": "stdout",
     "output_type": "stream",
     "text": [
      "Deepcopy time: 23.80780\n"
     ]
    }
   ],
   "source": [
    "from copy import copy, deepcopy\n",
    "import time\n",
    "\n",
    "start_time = time.time()\n",
    "process = deepcopy(unsolved_process)\n",
    "print('Deepcopy time: {:.5f}'.format(time.time() - start_time))"
   ]
  },
  {
   "cell_type": "code",
   "execution_count": 16,
   "id": "d6b67e38",
   "metadata": {},
   "outputs": [],
   "source": [
    "## remove all taught confs\n",
    "for m in process.movements:\n",
    "    m.end_state['robot'].kinematic_config = None"
   ]
  },
  {
   "cell_type": "code",
   "execution_count": 22,
   "id": "forward-relay",
   "metadata": {
    "collapsed": true
   },
   "outputs": [
    {
     "name": "stdout",
     "output_type": "stream",
     "text": [
      "=====\n",
      "Summary:\n",
      "---\n",
      "(0) \u001b[46m\u001b[33mRoboticFreeMovement(#A48_M0, Free Move reach Storage Approach Frame of CL3 ('c1'), to get clamp., traj 0)\u001b[0m \n",
      "priority \u001b[35m0\u001b[0m | has start conf \u001b[31mFalse\u001b[0m, TCP \u001b[32mTrue\u001b[0m | has end conf \u001b[31mFalse\u001b[0m, TCP \u001b[32mTrue\u001b[0m | has traj \u001b[31mNone\u001b[0m\n",
      "---\n",
      "(1) \u001b[44m\u001b[37mRoboticLinearMovement(#A48_M1, Linear Advance to Storage Frame of CL3 ('c1'), to get tool., traj 0)\u001b[0m \n",
      "priority \u001b[35m0\u001b[0m | has start conf \u001b[31mFalse\u001b[0m, TCP \u001b[32mTrue\u001b[0m | has end conf \u001b[32mTrue\u001b[0m, TCP \u001b[32mTrue\u001b[0m | has traj \u001b[31mNone\u001b[0m\n",
      "---\n",
      "(2) RoboticDigitalOutput(#A48_M2, Toolchanger Lock CL3 ('c1')) \n",
      "priority \u001b[37m-1\u001b[0m | has start conf \u001b[32mTrue\u001b[0m, TCP \u001b[32mTrue\u001b[0m | has end conf \u001b[32mTrue\u001b[0m, TCP \u001b[32mTrue\u001b[0m\n",
      "---\n",
      "(3) RoboticDigitalOutput(#A48_M3, CL3 ('c1') Open Gripper to release itself from storage pad.) \n",
      "priority \u001b[37m-1\u001b[0m | has start conf \u001b[32mTrue\u001b[0m, TCP \u001b[32mTrue\u001b[0m | has end conf \u001b[32mTrue\u001b[0m, TCP \u001b[32mTrue\u001b[0m\n",
      "---\n",
      "(4) \u001b[44m\u001b[37mRoboticLinearMovement(#A48_M4, Linear Retract 1 of 2 after getting CL3 ('c1') from storage., traj 0)\u001b[0m \n",
      "priority \u001b[35m0\u001b[0m | has start conf \u001b[32mTrue\u001b[0m, TCP \u001b[32mTrue\u001b[0m | has end conf \u001b[31mFalse\u001b[0m, TCP \u001b[32mTrue\u001b[0m | has traj \u001b[31mNone\u001b[0m\n",
      "---\n",
      "(5) \u001b[44m\u001b[37mRoboticLinearMovement(#A48_M5, Linear Retract 2 of 2 after getting CL3 ('c1') from storage., traj 0)\u001b[0m \n",
      "priority \u001b[35m0\u001b[0m | has start conf \u001b[31mFalse\u001b[0m, TCP \u001b[32mTrue\u001b[0m | has end conf \u001b[31mFalse\u001b[0m, TCP \u001b[32mTrue\u001b[0m | has traj \u001b[31mNone\u001b[0m\n",
      "---\n",
      "(6) \u001b[46m\u001b[33mRoboticFreeMovement(#A49_M0, Free Move to bring CL3 ('c1') to structure., traj 0)\u001b[0m \n",
      "priority \u001b[35m0\u001b[0m | has start conf \u001b[31mFalse\u001b[0m, TCP \u001b[32mTrue\u001b[0m | has end conf \u001b[31mFalse\u001b[0m, TCP \u001b[32mTrue\u001b[0m | has traj \u001b[31mNone\u001b[0m\n",
      "---\n",
      "(7) \u001b[44m\u001b[37mRoboticLinearMovement(#A49_M1, Linear Approach 1 of 2 to attach CL3 ('c1') to structure., traj 0)\u001b[0m \n",
      "priority \u001b[35m0\u001b[0m | has start conf \u001b[31mFalse\u001b[0m, TCP \u001b[32mTrue\u001b[0m | has end conf \u001b[31mFalse\u001b[0m, TCP \u001b[32mTrue\u001b[0m | has traj \u001b[31mNone\u001b[0m\n",
      "---\n",
      "(8) \u001b[44m\u001b[37mRoboticLinearMovement(#A49_M2, Linear Approach 2 of 2 to attach CL3 ('c1') to structure., traj 0)\u001b[0m \n",
      "priority \u001b[35m0\u001b[0m | has start conf \u001b[31mFalse\u001b[0m, TCP \u001b[32mTrue\u001b[0m | has end conf \u001b[31mFalse\u001b[0m, TCP \u001b[32mTrue\u001b[0m | has traj \u001b[31mNone\u001b[0m\n",
      "---\n",
      "(9) RoboticDigitalOutput(#A49_M3, CL3 ('c1') Close Gripper and attach to structure.) \n",
      "priority \u001b[37m-1\u001b[0m | has start conf \u001b[31mFalse\u001b[0m, TCP \u001b[32mTrue\u001b[0m | has end conf \u001b[31mFalse\u001b[0m, TCP \u001b[32mTrue\u001b[0m\n",
      "---\n",
      "(10) RoboticDigitalOutput(#A49_M4, Toolchanger Unlock CL3 ('c1').) \n",
      "priority \u001b[37m-1\u001b[0m | has start conf \u001b[31mFalse\u001b[0m, TCP \u001b[32mTrue\u001b[0m | has end conf \u001b[31mFalse\u001b[0m, TCP \u001b[32mTrue\u001b[0m\n",
      "---\n",
      "(11) \u001b[44m\u001b[37mRoboticLinearMovement(#A49_M5, Linear Retract after attaching CL3 ('c1') on structure, traj 0)\u001b[0m \n",
      "priority \u001b[35m0\u001b[0m | has start conf \u001b[31mFalse\u001b[0m, TCP \u001b[32mTrue\u001b[0m | has end conf \u001b[31mFalse\u001b[0m, TCP \u001b[32mTrue\u001b[0m | has traj \u001b[31mNone\u001b[0m\n",
      "---\n",
      "(12) \u001b[46m\u001b[33mRoboticFreeMovement(#A50_M0, Free Move reach Storage Approach Frame of CL3 ('c2'), to get clamp., traj 0)\u001b[0m \n",
      "priority \u001b[35m0\u001b[0m | has start conf \u001b[31mFalse\u001b[0m, TCP \u001b[32mTrue\u001b[0m | has end conf \u001b[31mFalse\u001b[0m, TCP \u001b[32mTrue\u001b[0m | has traj \u001b[31mNone\u001b[0m\n",
      "---\n",
      "(13) \u001b[44m\u001b[37mRoboticLinearMovement(#A50_M1, Linear Advance to Storage Frame of CL3 ('c2'), to get tool., traj 0)\u001b[0m \n",
      "priority \u001b[35m0\u001b[0m | has start conf \u001b[31mFalse\u001b[0m, TCP \u001b[32mTrue\u001b[0m | has end conf \u001b[32mTrue\u001b[0m, TCP \u001b[32mTrue\u001b[0m | has traj \u001b[31mNone\u001b[0m\n",
      "---\n",
      "(14) RoboticDigitalOutput(#A50_M2, Toolchanger Lock CL3 ('c2')) \n",
      "priority \u001b[37m-1\u001b[0m | has start conf \u001b[32mTrue\u001b[0m, TCP \u001b[32mTrue\u001b[0m | has end conf \u001b[32mTrue\u001b[0m, TCP \u001b[32mTrue\u001b[0m\n",
      "---\n",
      "(15) RoboticDigitalOutput(#A50_M3, CL3 ('c2') Open Gripper to release itself from storage pad.) \n",
      "priority \u001b[37m-1\u001b[0m | has start conf \u001b[32mTrue\u001b[0m, TCP \u001b[32mTrue\u001b[0m | has end conf \u001b[32mTrue\u001b[0m, TCP \u001b[32mTrue\u001b[0m\n",
      "---\n",
      "(16) \u001b[44m\u001b[37mRoboticLinearMovement(#A50_M4, Linear Retract 1 of 2 after getting CL3 ('c2') from storage., traj 0)\u001b[0m \n",
      "priority \u001b[35m0\u001b[0m | has start conf \u001b[32mTrue\u001b[0m, TCP \u001b[32mTrue\u001b[0m | has end conf \u001b[31mFalse\u001b[0m, TCP \u001b[32mTrue\u001b[0m | has traj \u001b[31mNone\u001b[0m\n",
      "---\n",
      "(17) \u001b[44m\u001b[37mRoboticLinearMovement(#A50_M5, Linear Retract 2 of 2 after getting CL3 ('c2') from storage., traj 0)\u001b[0m \n",
      "priority \u001b[35m0\u001b[0m | has start conf \u001b[31mFalse\u001b[0m, TCP \u001b[32mTrue\u001b[0m | has end conf \u001b[31mFalse\u001b[0m, TCP \u001b[32mTrue\u001b[0m | has traj \u001b[31mNone\u001b[0m\n",
      "---\n",
      "(18) \u001b[46m\u001b[33mRoboticFreeMovement(#A51_M0, Free Move to bring CL3 ('c2') to structure., traj 0)\u001b[0m \n",
      "priority \u001b[35m0\u001b[0m | has start conf \u001b[31mFalse\u001b[0m, TCP \u001b[32mTrue\u001b[0m | has end conf \u001b[31mFalse\u001b[0m, TCP \u001b[32mTrue\u001b[0m | has traj \u001b[31mNone\u001b[0m\n",
      "---\n",
      "(19) \u001b[44m\u001b[37mRoboticLinearMovement(#A51_M1, Linear Approach 1 of 2 to attach CL3 ('c2') to structure., traj 0)\u001b[0m \n",
      "priority \u001b[35m0\u001b[0m | has start conf \u001b[31mFalse\u001b[0m, TCP \u001b[32mTrue\u001b[0m | has end conf \u001b[31mFalse\u001b[0m, TCP \u001b[32mTrue\u001b[0m | has traj \u001b[31mNone\u001b[0m\n",
      "---\n",
      "(20) \u001b[44m\u001b[37mRoboticLinearMovement(#A51_M2, Linear Approach 2 of 2 to attach CL3 ('c2') to structure., traj 0)\u001b[0m \n",
      "priority \u001b[35m0\u001b[0m | has start conf \u001b[31mFalse\u001b[0m, TCP \u001b[32mTrue\u001b[0m | has end conf \u001b[31mFalse\u001b[0m, TCP \u001b[32mTrue\u001b[0m | has traj \u001b[31mNone\u001b[0m\n",
      "---\n",
      "(21) RoboticDigitalOutput(#A51_M3, CL3 ('c2') Close Gripper and attach to structure.) \n",
      "priority \u001b[37m-1\u001b[0m | has start conf \u001b[31mFalse\u001b[0m, TCP \u001b[32mTrue\u001b[0m | has end conf \u001b[31mFalse\u001b[0m, TCP \u001b[32mTrue\u001b[0m\n",
      "---\n",
      "(22) RoboticDigitalOutput(#A51_M4, Toolchanger Unlock CL3 ('c2').) \n",
      "priority \u001b[37m-1\u001b[0m | has start conf \u001b[31mFalse\u001b[0m, TCP \u001b[32mTrue\u001b[0m | has end conf \u001b[31mFalse\u001b[0m, TCP \u001b[32mTrue\u001b[0m\n",
      "---\n",
      "(23) \u001b[44m\u001b[37mRoboticLinearMovement(#A51_M5, Linear Retract after attaching CL3 ('c2') on structure, traj 0)\u001b[0m \n",
      "priority \u001b[35m0\u001b[0m | has start conf \u001b[31mFalse\u001b[0m, TCP \u001b[32mTrue\u001b[0m | has end conf \u001b[31mFalse\u001b[0m, TCP \u001b[32mTrue\u001b[0m | has traj \u001b[31mNone\u001b[0m\n",
      "---\n",
      "(24) \u001b[46m\u001b[33mRoboticFreeMovement(#A52_M0, Free Move reach Storage Approach Frame of PG500 ('g1'), to get tool., traj 0)\u001b[0m \n",
      "priority \u001b[35m0\u001b[0m | has start conf \u001b[31mFalse\u001b[0m, TCP \u001b[32mTrue\u001b[0m | has end conf \u001b[31mFalse\u001b[0m, TCP \u001b[32mTrue\u001b[0m | has traj \u001b[31mNone\u001b[0m\n",
      "---\n",
      "(25) \u001b[44m\u001b[37mRoboticLinearMovement(#A52_M1, Linear Advance to Storage Frame of PG500 ('g1'), to get tool., traj 0)\u001b[0m \n",
      "priority \u001b[35m0\u001b[0m | has start conf \u001b[31mFalse\u001b[0m, TCP \u001b[32mTrue\u001b[0m | has end conf \u001b[32mTrue\u001b[0m, TCP \u001b[32mTrue\u001b[0m | has traj \u001b[31mNone\u001b[0m\n",
      "---\n",
      "(26) RoboticDigitalOutput(#A52_M2, Toolchanger Lock PG500 ('g1')) \n",
      "priority \u001b[37m-1\u001b[0m | has start conf \u001b[32mTrue\u001b[0m, TCP \u001b[32mTrue\u001b[0m | has end conf \u001b[32mTrue\u001b[0m, TCP \u001b[32mTrue\u001b[0m\n",
      "---\n",
      "(27) RoboticDigitalOutput(#A52_M3, PG500 ('g1') Open Gripper to release itself from storage pad.) \n",
      "priority \u001b[37m-1\u001b[0m | has start conf \u001b[32mTrue\u001b[0m, TCP \u001b[32mTrue\u001b[0m | has end conf \u001b[32mTrue\u001b[0m, TCP \u001b[32mTrue\u001b[0m\n",
      "---\n",
      "(28) \u001b[44m\u001b[37mRoboticLinearMovement(#A52_M4, Linear Retract after getting PG500 ('g1') from storage., traj 0)\u001b[0m \n",
      "priority \u001b[35m0\u001b[0m | has start conf \u001b[32mTrue\u001b[0m, TCP \u001b[32mTrue\u001b[0m | has end conf \u001b[31mFalse\u001b[0m, TCP \u001b[32mTrue\u001b[0m | has traj \u001b[31mNone\u001b[0m\n",
      "---\n",
      "(29) \u001b[46m\u001b[33mRoboticFreeMovement(#A53_M0, Free Move to reach Pickup Approach Frame of Beam ('b6'), traj 0)\u001b[0m \n",
      "priority \u001b[35m0\u001b[0m | has start conf \u001b[31mFalse\u001b[0m, TCP \u001b[32mTrue\u001b[0m | has end conf \u001b[31mFalse\u001b[0m, TCP \u001b[32mTrue\u001b[0m | has traj \u001b[31mNone\u001b[0m\n",
      "---\n",
      "(30) RoboticDigitalOutput(#A53_M1, Gripper ('g1') Open Gripper before gripping Beam ('b6')) \n",
      "priority \u001b[37m-1\u001b[0m | has start conf \u001b[31mFalse\u001b[0m, TCP \u001b[32mTrue\u001b[0m | has end conf \u001b[31mFalse\u001b[0m, TCP \u001b[32mTrue\u001b[0m\n",
      "---\n",
      "(31) \u001b[44m\u001b[37mRoboticLinearMovement(#A53_M2, Linear Advance to Storage Frame of Beam ('b6'), traj 0)\u001b[0m \n",
      "priority \u001b[35m0\u001b[0m | has start conf \u001b[31mFalse\u001b[0m, TCP \u001b[32mTrue\u001b[0m | has end conf \u001b[32mTrue\u001b[0m, TCP \u001b[32mTrue\u001b[0m | has traj \u001b[31mNone\u001b[0m\n",
      "---\n",
      "(32) OperatorLoadBeamMovement(#A53_M3, Opeartor Load Beam to Pickup Location) \n",
      "priority \u001b[37m-1\u001b[0m | has start conf \u001b[32mTrue\u001b[0m, TCP \u001b[32mTrue\u001b[0m | has end conf \u001b[32mTrue\u001b[0m, TCP \u001b[32mTrue\u001b[0m\n",
      "---\n",
      "(33) RoboticDigitalOutput(#A53_M4, Gripper ('g1') Close Gripper to grip Beam ('b6')) \n",
      "priority \u001b[37m-1\u001b[0m | has start conf \u001b[32mTrue\u001b[0m, TCP \u001b[32mTrue\u001b[0m | has end conf \u001b[32mTrue\u001b[0m, TCP \u001b[32mTrue\u001b[0m\n",
      "---\n",
      "(34) \u001b[44m\u001b[37mRoboticLinearMovement(#A53_M5, Linear Retract after picking up Beam ('b6'), traj 0)\u001b[0m \n",
      "priority \u001b[35m0\u001b[0m | has start conf \u001b[32mTrue\u001b[0m, TCP \u001b[32mTrue\u001b[0m | has end conf \u001b[31mFalse\u001b[0m, TCP \u001b[32mTrue\u001b[0m | has traj \u001b[31mNone\u001b[0m\n",
      "---\n",
      "(35) \u001b[46m\u001b[33mRoboticFreeMovement(#A54_M0, Free Move to bring Beam ('b6') to approach clamps on structure., traj 0)\u001b[0m \n",
      "priority \u001b[35m0\u001b[0m | has start conf \u001b[31mFalse\u001b[0m, TCP \u001b[32mTrue\u001b[0m | has end conf \u001b[31mFalse\u001b[0m, TCP \u001b[32mTrue\u001b[0m | has traj \u001b[31mNone\u001b[0m\n",
      "---\n",
      "(36) \u001b[44m\u001b[37mRoboticLinearMovement(#A54_M1, Linear Advance to bring Beam ('b6') into clamp jaws, traj 0)\u001b[0m \n",
      "priority \u001b[35m0\u001b[0m | has start conf \u001b[31mFalse\u001b[0m, TCP \u001b[32mTrue\u001b[0m | has end conf \u001b[31mFalse\u001b[0m, TCP \u001b[32mTrue\u001b[0m | has traj \u001b[31mNone\u001b[0m\n",
      "---\n",
      "(37) ClampsJawMovement(#A54_M2, Clamps (['c1', 'c2']) close slightly to touch Beam ('b6')) \n",
      "priority \u001b[37m-1\u001b[0m | has start conf \u001b[31mFalse\u001b[0m, TCP \u001b[32mTrue\u001b[0m | has end conf \u001b[31mFalse\u001b[0m, TCP \u001b[32mTrue\u001b[0m\n",
      "---\n",
      "(38) RoboticClampSyncLinearMovement(#A54_M3, Robot and Clamps (['c1', 'c2']) syncronously move to clamp Beam ('b6'), traj 0) \n",
      "priority \u001b[34m1\u001b[0m | has start conf \u001b[31mFalse\u001b[0m, TCP \u001b[32mTrue\u001b[0m | has end conf \u001b[31mFalse\u001b[0m, TCP \u001b[32mTrue\u001b[0m | has traj \u001b[31mNone\u001b[0m\n",
      "---\n",
      "(39) RoboticDigitalOutput(#A54_M4, Open Gripper ('g1') and let go of Beam ('b6')) \n",
      "priority \u001b[37m-1\u001b[0m | has start conf \u001b[31mFalse\u001b[0m, TCP \u001b[32mTrue\u001b[0m | has end conf \u001b[31mFalse\u001b[0m, TCP \u001b[32mTrue\u001b[0m\n",
      "---\n",
      "(40) \u001b[44m\u001b[37mRoboticLinearMovement(#A54_M5, Linear retract after placing Beam ('b6'), traj 0)\u001b[0m \n",
      "priority \u001b[35m0\u001b[0m | has start conf \u001b[31mFalse\u001b[0m, TCP \u001b[32mTrue\u001b[0m | has end conf \u001b[31mFalse\u001b[0m, TCP \u001b[32mTrue\u001b[0m | has traj \u001b[31mNone\u001b[0m\n",
      "---\n",
      "(41) \u001b[46m\u001b[33mRoboticFreeMovement(#A55_M0, Free Move to reach Storage Approach Frame of PG500 ('g1'), to place tool in storage., traj 0)\u001b[0m \n",
      "priority \u001b[35m0\u001b[0m | has start conf \u001b[31mFalse\u001b[0m, TCP \u001b[32mTrue\u001b[0m | has end conf \u001b[31mFalse\u001b[0m, TCP \u001b[32mTrue\u001b[0m | has traj \u001b[31mNone\u001b[0m\n",
      "---\n",
      "(42) \u001b[44m\u001b[37mRoboticLinearMovement(#A55_M1, Linear Advance to Storage Frame of PG500 ('g1'), to place tool in storage., traj 0)\u001b[0m \n",
      "priority \u001b[35m0\u001b[0m | has start conf \u001b[31mFalse\u001b[0m, TCP \u001b[32mTrue\u001b[0m | has end conf \u001b[32mTrue\u001b[0m, TCP \u001b[32mTrue\u001b[0m | has traj \u001b[31mNone\u001b[0m\n",
      "---\n",
      "(43) RoboticDigitalOutput(#A55_M2, PG500 ('g1') Close Gripper to lock onto storage pad.) \n",
      "priority \u001b[37m-1\u001b[0m | has start conf \u001b[32mTrue\u001b[0m, TCP \u001b[32mTrue\u001b[0m | has end conf \u001b[32mTrue\u001b[0m, TCP \u001b[32mTrue\u001b[0m\n",
      "---\n",
      "(44) RoboticDigitalOutput(#A55_M3, Toolchanger Unlock PG500 ('g1')) \n",
      "priority \u001b[37m-1\u001b[0m | has start conf \u001b[32mTrue\u001b[0m, TCP \u001b[32mTrue\u001b[0m | has end conf \u001b[32mTrue\u001b[0m, TCP \u001b[32mTrue\u001b[0m\n",
      "---\n",
      "(45) \u001b[44m\u001b[37mRoboticLinearMovement(#A55_M4, Linear Retract from storage after placing PG500 ('g1') in storage, traj 0)\u001b[0m \n",
      "priority \u001b[35m0\u001b[0m | has start conf \u001b[32mTrue\u001b[0m, TCP \u001b[32mTrue\u001b[0m | has end conf \u001b[31mFalse\u001b[0m, TCP \u001b[32mTrue\u001b[0m | has traj \u001b[31mNone\u001b[0m\n",
      "---\n",
      "(46) \u001b[46m\u001b[33mRoboticFreeMovement(#A56_M0, Free Move to reach CL3 ('c1') to detach it from structure., traj 0)\u001b[0m \n",
      "priority \u001b[35m0\u001b[0m | has start conf \u001b[31mFalse\u001b[0m, TCP \u001b[32mTrue\u001b[0m | has end conf \u001b[31mFalse\u001b[0m, TCP \u001b[32mTrue\u001b[0m | has traj \u001b[31mNone\u001b[0m\n",
      "---\n",
      "(47) \u001b[44m\u001b[37mRoboticLinearMovement(#A56_M1, Linear Advance to mate toolchanger of CL3 ('c1') to detach it from structure., traj 0)\u001b[0m \n",
      "priority \u001b[35m0\u001b[0m | has start conf \u001b[31mFalse\u001b[0m, TCP \u001b[32mTrue\u001b[0m | has end conf \u001b[31mFalse\u001b[0m, TCP \u001b[32mTrue\u001b[0m | has traj \u001b[31mNone\u001b[0m\n",
      "---\n",
      "(48) RoboticDigitalOutput(#A56_M2, Toolchanger Lock CL3 ('c1')) \n",
      "priority \u001b[37m-1\u001b[0m | has start conf \u001b[31mFalse\u001b[0m, TCP \u001b[32mTrue\u001b[0m | has end conf \u001b[31mFalse\u001b[0m, TCP \u001b[32mTrue\u001b[0m\n",
      "---\n",
      "(49) ClampsJawMovement(#A56_M3, CL3 ('c1') Open Clamp Jaws to be released.) \n",
      "priority \u001b[37m-1\u001b[0m | has start conf \u001b[31mFalse\u001b[0m, TCP \u001b[32mTrue\u001b[0m | has end conf \u001b[31mFalse\u001b[0m, TCP \u001b[32mTrue\u001b[0m\n",
      "---\n",
      "(50) RoboticDigitalOutput(#A56_M4, CL3 ('c1') Open Gripper to be released from structure.) \n",
      "priority \u001b[37m-1\u001b[0m | has start conf \u001b[31mFalse\u001b[0m, TCP \u001b[32mTrue\u001b[0m | has end conf \u001b[31mFalse\u001b[0m, TCP \u001b[32mTrue\u001b[0m\n",
      "---\n",
      "(51) \u001b[44m\u001b[37mRoboticLinearMovement(#A56_M5, Linear Retract 1 of 2 from storage after picking up CL3 ('c1') from structure., traj 0)\u001b[0m \n",
      "priority \u001b[35m0\u001b[0m | has start conf \u001b[31mFalse\u001b[0m, TCP \u001b[32mTrue\u001b[0m | has end conf \u001b[31mFalse\u001b[0m, TCP \u001b[32mTrue\u001b[0m | has traj \u001b[31mNone\u001b[0m\n",
      "---\n",
      "(52) \u001b[44m\u001b[37mRoboticLinearMovement(#A56_M6, Linear Retract 2 of 2 from storage after picking up CL3 ('c1') from structure., traj 0)\u001b[0m \n",
      "priority \u001b[35m0\u001b[0m | has start conf \u001b[31mFalse\u001b[0m, TCP \u001b[32mTrue\u001b[0m | has end conf \u001b[31mFalse\u001b[0m, TCP \u001b[32mTrue\u001b[0m | has traj \u001b[31mNone\u001b[0m\n",
      "---\n",
      "(53) \u001b[46m\u001b[33mRoboticFreeMovement(#A57_M0, Free Move reach Storage Approach Frame of CL3 ('c1'), to place clamp in storage., traj 0)\u001b[0m \n",
      "priority \u001b[35m0\u001b[0m | has start conf \u001b[31mFalse\u001b[0m, TCP \u001b[32mTrue\u001b[0m | has end conf \u001b[31mFalse\u001b[0m, TCP \u001b[32mTrue\u001b[0m | has traj \u001b[31mNone\u001b[0m\n",
      "---\n",
      "(54) \u001b[44m\u001b[37mRoboticLinearMovement(#A57_M1, Linear Approach 1 of 2 to place CL3 ('c1') in storage., traj 0)\u001b[0m \n",
      "priority \u001b[35m0\u001b[0m | has start conf \u001b[31mFalse\u001b[0m, TCP \u001b[32mTrue\u001b[0m | has end conf \u001b[31mFalse\u001b[0m, TCP \u001b[32mTrue\u001b[0m | has traj \u001b[31mNone\u001b[0m\n",
      "---\n",
      "(55) \u001b[44m\u001b[37mRoboticLinearMovement(#A57_M2, Linear Approach 2 of 2 to place CL3 ('c1') in storage., traj 0)\u001b[0m \n",
      "priority \u001b[35m0\u001b[0m | has start conf \u001b[31mFalse\u001b[0m, TCP \u001b[32mTrue\u001b[0m | has end conf \u001b[32mTrue\u001b[0m, TCP \u001b[32mTrue\u001b[0m | has traj \u001b[31mNone\u001b[0m\n",
      "---\n",
      "(56) RoboticDigitalOutput(#A57_M3, Close Gripper to lock CL3 ('c1') onto storage pad.) \n",
      "priority \u001b[37m-1\u001b[0m | has start conf \u001b[32mTrue\u001b[0m, TCP \u001b[32mTrue\u001b[0m | has end conf \u001b[32mTrue\u001b[0m, TCP \u001b[32mTrue\u001b[0m\n",
      "---\n",
      "(57) RoboticDigitalOutput(#A57_M4, Toolchanger Unlock CL3 ('c1')) \n",
      "priority \u001b[37m-1\u001b[0m | has start conf \u001b[32mTrue\u001b[0m, TCP \u001b[32mTrue\u001b[0m | has end conf \u001b[32mTrue\u001b[0m, TCP \u001b[32mTrue\u001b[0m\n",
      "---\n",
      "(58) \u001b[44m\u001b[37mRoboticLinearMovement(#A57_M5, Linear Retract from storage after placing CL3 ('c1') in storage, traj 0)\u001b[0m \n",
      "priority \u001b[35m0\u001b[0m | has start conf \u001b[32mTrue\u001b[0m, TCP \u001b[32mTrue\u001b[0m | has end conf \u001b[31mFalse\u001b[0m, TCP \u001b[32mTrue\u001b[0m | has traj \u001b[31mNone\u001b[0m\n",
      "---\n",
      "(59) \u001b[46m\u001b[33mRoboticFreeMovement(#A58_M0, Free Move to reach CL3 ('c2') to detach it from structure., traj 0)\u001b[0m \n",
      "priority \u001b[35m0\u001b[0m | has start conf \u001b[31mFalse\u001b[0m, TCP \u001b[32mTrue\u001b[0m | has end conf \u001b[31mFalse\u001b[0m, TCP \u001b[32mTrue\u001b[0m | has traj \u001b[31mNone\u001b[0m\n",
      "---\n",
      "(60) \u001b[44m\u001b[37mRoboticLinearMovement(#A58_M1, Linear Advance to mate toolchanger of CL3 ('c2') to detach it from structure., traj 0)\u001b[0m \n",
      "priority \u001b[35m0\u001b[0m | has start conf \u001b[31mFalse\u001b[0m, TCP \u001b[32mTrue\u001b[0m | has end conf \u001b[31mFalse\u001b[0m, TCP \u001b[32mTrue\u001b[0m | has traj \u001b[31mNone\u001b[0m\n",
      "---\n",
      "(61) RoboticDigitalOutput(#A58_M2, Toolchanger Lock CL3 ('c2')) \n",
      "priority \u001b[37m-1\u001b[0m | has start conf \u001b[31mFalse\u001b[0m, TCP \u001b[32mTrue\u001b[0m | has end conf \u001b[31mFalse\u001b[0m, TCP \u001b[32mTrue\u001b[0m\n",
      "---\n",
      "(62) ClampsJawMovement(#A58_M3, CL3 ('c2') Open Clamp Jaws to be released.) \n",
      "priority \u001b[37m-1\u001b[0m | has start conf \u001b[31mFalse\u001b[0m, TCP \u001b[32mTrue\u001b[0m | has end conf \u001b[31mFalse\u001b[0m, TCP \u001b[32mTrue\u001b[0m\n",
      "---\n",
      "(63) RoboticDigitalOutput(#A58_M4, CL3 ('c2') Open Gripper to be released from structure.) \n",
      "priority \u001b[37m-1\u001b[0m | has start conf \u001b[31mFalse\u001b[0m, TCP \u001b[32mTrue\u001b[0m | has end conf \u001b[31mFalse\u001b[0m, TCP \u001b[32mTrue\u001b[0m\n",
      "---\n",
      "(64) \u001b[44m\u001b[37mRoboticLinearMovement(#A58_M5, Linear Retract 1 of 2 from storage after picking up CL3 ('c2') from structure., traj 0)\u001b[0m \n",
      "priority \u001b[35m0\u001b[0m | has start conf \u001b[31mFalse\u001b[0m, TCP \u001b[32mTrue\u001b[0m | has end conf \u001b[31mFalse\u001b[0m, TCP \u001b[32mTrue\u001b[0m | has traj \u001b[31mNone\u001b[0m\n",
      "---\n",
      "(65) \u001b[44m\u001b[37mRoboticLinearMovement(#A58_M6, Linear Retract 2 of 2 from storage after picking up CL3 ('c2') from structure., traj 0)\u001b[0m \n",
      "priority \u001b[35m0\u001b[0m | has start conf \u001b[31mFalse\u001b[0m, TCP \u001b[32mTrue\u001b[0m | has end conf \u001b[31mFalse\u001b[0m, TCP \u001b[32mTrue\u001b[0m | has traj \u001b[31mNone\u001b[0m\n",
      "---\n",
      "(66) \u001b[46m\u001b[33mRoboticFreeMovement(#A59_M0, Free Move reach Storage Approach Frame of CL3 ('c2'), to place clamp in storage., traj 0)\u001b[0m \n",
      "priority \u001b[35m0\u001b[0m | has start conf \u001b[31mFalse\u001b[0m, TCP \u001b[32mTrue\u001b[0m | has end conf \u001b[31mFalse\u001b[0m, TCP \u001b[32mTrue\u001b[0m | has traj \u001b[31mNone\u001b[0m\n",
      "---\n",
      "(67) \u001b[44m\u001b[37mRoboticLinearMovement(#A59_M1, Linear Approach 1 of 2 to place CL3 ('c2') in storage., traj 0)\u001b[0m \n",
      "priority \u001b[35m0\u001b[0m | has start conf \u001b[31mFalse\u001b[0m, TCP \u001b[32mTrue\u001b[0m | has end conf \u001b[31mFalse\u001b[0m, TCP \u001b[32mTrue\u001b[0m | has traj \u001b[31mNone\u001b[0m\n",
      "---\n",
      "(68) \u001b[44m\u001b[37mRoboticLinearMovement(#A59_M2, Linear Approach 2 of 2 to place CL3 ('c2') in storage., traj 0)\u001b[0m \n",
      "priority \u001b[35m0\u001b[0m | has start conf \u001b[31mFalse\u001b[0m, TCP \u001b[32mTrue\u001b[0m | has end conf \u001b[32mTrue\u001b[0m, TCP \u001b[32mTrue\u001b[0m | has traj \u001b[31mNone\u001b[0m\n",
      "---\n",
      "(69) RoboticDigitalOutput(#A59_M3, Close Gripper to lock CL3 ('c2') onto storage pad.) \n",
      "priority \u001b[37m-1\u001b[0m | has start conf \u001b[32mTrue\u001b[0m, TCP \u001b[32mTrue\u001b[0m | has end conf \u001b[32mTrue\u001b[0m, TCP \u001b[32mTrue\u001b[0m\n",
      "---\n",
      "(70) RoboticDigitalOutput(#A59_M4, Toolchanger Unlock CL3 ('c2')) \n",
      "priority \u001b[37m-1\u001b[0m | has start conf \u001b[32mTrue\u001b[0m, TCP \u001b[32mTrue\u001b[0m | has end conf \u001b[32mTrue\u001b[0m, TCP \u001b[32mTrue\u001b[0m\n",
      "---\n",
      "(71) \u001b[44m\u001b[37mRoboticLinearMovement(#A59_M5, Linear Retract from storage after placing CL3 ('c2') in storage, traj 0)\u001b[0m \n",
      "priority \u001b[35m0\u001b[0m | has start conf \u001b[32mTrue\u001b[0m, TCP \u001b[32mTrue\u001b[0m | has end conf \u001b[31mFalse\u001b[0m, TCP \u001b[32mTrue\u001b[0m | has traj \u001b[31mNone\u001b[0m\n"
     ]
    }
   ],
   "source": [
    "beam_id = 'b6'\n",
    "process.get_movement_summary_by_beam_id(beam_id)"
   ]
  },
  {
   "cell_type": "code",
   "execution_count": 23,
   "id": "urban-floor",
   "metadata": {},
   "outputs": [],
   "source": [
    "client, robot, _ = load_RFL_world(viewer=True, verbose=False)\n",
    "set_initial_state(client, robot, process, disable_env=disable_env, reinit_tool=reinit_tool)"
   ]
  },
  {
   "cell_type": "code",
   "execution_count": 15,
   "id": "8cf9478c",
   "metadata": {},
   "outputs": [],
   "source": [
    "client.disconnect()"
   ]
  },
  {
   "cell_type": "code",
   "execution_count": 12,
   "id": "documented-holiday",
   "metadata": {
    "collapsed": true
   },
   "outputs": [],
   "source": [
    "pp.remove_all_debug()\n",
    "client.set_robot_configuration(robot, process.robot_initial_config)"
   ]
  },
  {
   "cell_type": "markdown",
   "id": "f273ce28",
   "metadata": {},
   "source": [
    "## One test run"
   ]
  },
  {
   "cell_type": "code",
   "execution_count": 10,
   "id": "conservative-trinity",
   "metadata": {},
   "outputs": [
    {
     "name": "stdout",
     "output_type": "stream",
     "text": [
      "====================\n",
      "\n",
      "\n",
      "\n",
      "\u001b[1m\u001b[47m\u001b[34mVisualize results\u001b[0m\n",
      "\u001b[33mA plan has been found for beam id b6!\u001b[0m\n"
     ]
    }
   ],
   "source": [
    "from integral_timber_joints.planning.run import compute_movements_for_beam_id\n",
    "\n",
    "debug = 1\n",
    "diagnosis = debug\n",
    "verbose = True\n",
    "\n",
    "beam_id = 'b6'\n",
    "options = {\n",
    "    'frame_jump_tolerance' : 0.0012,\n",
    "    'jump_threshold' : joint_jump_threshold,\n",
    "}\n",
    "options.update({\n",
    "    'debug' : debug,\n",
    "    'verbose' : verbose,\n",
    "    'diagnosis' : diagnosis,\n",
    "    'low_res' : False,\n",
    "    'movement_planning_reattempts' : 1,\n",
    "    'solve_timeout' : 1800,\n",
    "    'max_free_retraction_distance' : np.linspace(0.1, 0, 4),\n",
    "})\n",
    "\n",
    "# A38M0\n",
    "# PlanningArguments = namedtuple('PlanningArguments', ['problem', 'viewer', debug', 'diagnosis', 'id_only', 'solve_mode', 'viz_upon_found', \n",
    "#                                              'save_now', 'write', 'plan_impacted', 'watch', 'step_sim', 'verbose'])\n",
    "\n",
    "args = PlanningArguments(problem, False, debug, diagnosis, 'A52_M1', 'id_only', False, False, False, \n",
    "                         False, True, False, verbose)\n",
    "\n",
    "# all_movements = process.get_movements_by_beam_id(beam_id)\n",
    "# options['movement_id_range'] = list(reversed(range(0, len(all_movements))))\n",
    "    \n",
    "success = compute_movements_for_beam_id(client, robot, process, beam_id, args, options=options)"
   ]
  },
  {
   "cell_type": "code",
   "execution_count": 10,
   "id": "c38b2052",
   "metadata": {},
   "outputs": [],
   "source": [
    "ik = ((23.326614379882812, 4.644079685211182, 0.7794598937034607), (-0.7069948315620422, 0.7072187066078186, -2.0577308532665484e-05, 0.00025585800176486373))\n",
    "given = ([23.32661523,  4.64407959,  0.7794599], (0.7071142792701721, -0.7070992588996887, 3.912623469659593e-06, -1.6836227587191388e-05))"
   ]
  },
  {
   "cell_type": "code",
   "execution_count": 15,
   "id": "3af06dc5",
   "metadata": {},
   "outputs": [
    {
     "name": "stdout",
     "output_type": "stream",
     "text": [
      "(-3.141201767695588, 0.00033279903474991556, -1.5711128688804623)\n",
      "(-3.1415633100886082, 1.8276424250548716e-05, -1.5707750845147372)\n"
     ]
    }
   ],
   "source": [
    "print(pp.euler_from_quat(ik[1]))\n",
    "print(pp.euler_from_quat(given[1]))"
   ]
  },
  {
   "cell_type": "code",
   "execution_count": 14,
   "id": "83d9f60b",
   "metadata": {},
   "outputs": [
    {
     "data": {
      "text/plain": [
       "True"
      ]
     },
     "execution_count": 14,
     "metadata": {},
     "output_type": "execute_result"
    }
   ],
   "source": [
    "pp.is_pose_close(ik, given)"
   ]
  },
  {
   "cell_type": "markdown",
   "id": "ef07122a",
   "metadata": {},
   "source": [
    "# Run batch"
   ]
  },
  {
   "cell_type": "code",
   "execution_count": 11,
   "id": "4ccaafbe",
   "metadata": {},
   "outputs": [],
   "source": [
    "import json\n",
    "import pybullet_planning as pp\n",
    "\n",
    "def save_runtime_data(beam_id, runtime_data, suffix=''):\n",
    "    file_name = 'figs/{}_runtime_data_{}.json'.format(beam_id, suffix)\n",
    "    with open(file_name, 'w') as f:\n",
    "        json.dump(runtime_data, f)\n",
    "    cprint('Runtime data saved to {}'.format(file_name), 'green')"
   ]
  },
  {
   "cell_type": "code",
   "execution_count": 12,
   "id": "a86232dd",
   "metadata": {},
   "outputs": [],
   "source": [
    "# full_seq_len = len(process.assembly.sequence)\n",
    "# beam_ids = [process.assembly.sequence[si] for si in range(6, full_seq_len)]\n",
    "\n",
    "beam_ids = ['b4']"
   ]
  },
  {
   "cell_type": "markdown",
   "id": "16475931",
   "metadata": {},
   "source": [
    "# Don't forget to change to `twelve_pieces` if running only for `b4` !"
   ]
  },
  {
   "cell_type": "code",
   "execution_count": null,
   "id": "level-fellow",
   "metadata": {},
   "outputs": [
    {
     "name": "stdout",
     "output_type": "stream",
     "text": [
      "Beam b4 | Outer Trail nonlinear #0\n",
      "##########\n",
      "Beam b4 | nonlinear | Inner Trail #0\n"
     ]
    }
   ],
   "source": [
    "import json\n",
    "from collections import defaultdict\n",
    "from integral_timber_joints.planning.run import compute_movements_for_beam_id, plan_for_beam_id_with_restart\n",
    "# beam_id = process.get_beam_id_from_movement_id(args.id_only)\n",
    "\n",
    "debug = 0\n",
    "diagnosis = debug\n",
    "verbose = False\n",
    "\n",
    "options = {\n",
    "    'frame_jump_tolerance' : 0.0012,\n",
    "    'jump_threshold' : joint_jump_threshold,\n",
    "}\n",
    "options.update({\n",
    "    'debug' : debug,\n",
    "    'verbose' : verbose,\n",
    "    'diagnosis' : diagnosis,\n",
    "    'low_res' : False,\n",
    "    'movement_planning_reattempts' : 1,\n",
    "    'solve_timeout' : 1800,\n",
    "    'max_free_retraction_distance' : np.linspace(0.1, 0, 4),\n",
    "    'ignore_taught_confs' : False,\n",
    "})\n",
    "\n",
    "# PlanningArguments = namedtuple('PlanningArguments', ['problem', 'viewer', debug', 'diagnosis', 'id_only', 'solve_mode', 'viz_upon_found', \n",
    "#                                              'save_now', 'write', 'plan_impacted', 'watch', 'step_sim', 'verbose'])\n",
    "\n",
    "num_trails = 10\n",
    "file_suffix = '{}_{}'.format('No_TC' if options['ignore_taught_confs'] else 'w_TC', pp.get_date())\n",
    "\n",
    "for beam_id in beam_ids:\n",
    "    runtime_data = {}\n",
    "    for solve_mode_ in ['nonlinear']: #'linear_forward', 'linear_backward'\n",
    "        args = PlanningArguments(problem, False, debug, diagnosis, None, solve_mode_.split('_')[0], False, False, False, \n",
    "                                 False, False, False, verbose)\n",
    "        all_movements = process.get_movements_by_beam_id(beam_id)\n",
    "\n",
    "        if solve_mode_ == 'linear_backward':\n",
    "            options['movement_id_range'] = list(reversed(range(0, len(all_movements))))\n",
    "        elif solve_mode_ == 'linear_forward':\n",
    "            options['movement_id_range'] = list(range(0, len(all_movements)))\n",
    "\n",
    "        runtime_data[solve_mode_] = {}\n",
    "        for attempt_i in range(num_trails):\n",
    "            print('Beam {} | Outer Trail {} #{}'.format(beam_id, solve_mode_, attempt_i))\n",
    "            process = deepcopy(unsolved_process)\n",
    "            if options['ignore_taught_confs']:\n",
    "                # remove all taught confs\n",
    "                for m in process.movements:\n",
    "                    m.end_state['robot'].kinematic_config = None\n",
    "            success, trial_data = plan_for_beam_id_with_restart(client, robot, process, beam_id, args, options=options)\n",
    "            runtime_data[solve_mode_][attempt_i] = trial_data\n",
    "            save_runtime_data(beam_id, runtime_data, suffix=file_suffix)\n",
    "        \n",
    "cprint('Done', 'green')\n",
    "client.disconnect()"
   ]
  },
  {
   "cell_type": "code",
   "execution_count": 18,
   "id": "animated-respect",
   "metadata": {},
   "outputs": [],
   "source": [
    "with open('figs/{}_runtime_data.json'.format(beam_id), 'w') as f:\n",
    "    json.dump(runtime_data, f)"
   ]
  },
  {
   "cell_type": "code",
   "execution_count": 19,
   "id": "liberal-today",
   "metadata": {
    "collapsed": true
   },
   "outputs": [
    {
     "name": "stdout",
     "output_type": "stream",
     "text": [
      "====================\n",
      "#nonlinear-T#0:\n",
      "\u001b[32mTrue - BT 1 | time 59.41\u001b[0m\n",
      "---\n",
      "#nonlinear-T#1:\n",
      "\u001b[32mTrue - BT 5 | time 1632.84\u001b[0m\n",
      "---\n",
      "#nonlinear-T#2:\n",
      "\u001b[32mTrue - BT 1 | time 289.08\u001b[0m\n",
      "---\n",
      "#nonlinear-T#3:\n",
      "\u001b[32mTrue - BT 1 | time 56.22\u001b[0m\n",
      "---\n",
      "#nonlinear-T#4:\n",
      "\u001b[32mTrue - BT 3 | time 167.64\u001b[0m\n",
      "---\n",
      "#nonlinear-T#5:\n",
      "\u001b[32mTrue - BT 2 | time 491.24\u001b[0m\n",
      "---\n",
      "#nonlinear-T#6:\n",
      "\u001b[32mTrue - BT 1 | time 573.64\u001b[0m\n",
      "---\n",
      "#nonlinear-T#7:\n",
      "\u001b[32mTrue - BT 1 | time 40.16\u001b[0m\n",
      "---\n",
      "#nonlinear-T#8:\n",
      "\u001b[32mTrue - BT 2 | time 829.80\u001b[0m\n",
      "---\n",
      "#nonlinear-T#9:\n",
      "\u001b[32mTrue - BT 1 | time 462.31\u001b[0m\n",
      "---\n",
      "====================\n",
      "#linear_forward-T#0:\n",
      "\u001b[32mTrue - BT 1 | time 379.09\u001b[0m\n",
      "---\n",
      "#linear_forward-T#1:\n",
      "\u001b[32mTrue - BT 7 | time 1606.12\u001b[0m\n",
      "---\n",
      "#linear_forward-T#2:\n",
      "\u001b[32mTrue - BT 2 | time 420.30\u001b[0m\n",
      "---\n",
      "#linear_forward-T#3:\n",
      "\u001b[32mTrue - BT 8 | time 935.44\u001b[0m\n",
      "---\n",
      "#linear_forward-T#4:\n",
      "\u001b[32mTrue - BT 3 | time 144.78\u001b[0m\n",
      "---\n",
      "#linear_forward-T#5:\n",
      "\u001b[32mTrue - BT 4 | time 340.55\u001b[0m\n",
      "---\n",
      "#linear_forward-T#6:\n",
      "\u001b[32mTrue - BT 6 | time 1277.57\u001b[0m\n",
      "---\n",
      "#linear_forward-T#7:\n",
      "\u001b[31mFalse - BT 7 | time 1788.29\u001b[0m\n",
      "---\n",
      "#linear_forward-T#8:\n",
      "\u001b[32mTrue - BT 3 | time 668.03\u001b[0m\n",
      "---\n",
      "#linear_forward-T#9:\n",
      "\u001b[32mTrue - BT 3 | time 289.43\u001b[0m\n",
      "---\n",
      "====================\n"
     ]
    },
    {
     "ename": "KeyError",
     "evalue": "'linear_backward'",
     "output_type": "error",
     "traceback": [
      "\u001b[0;31m---------------------------------------------------------------------------\u001b[0m",
      "\u001b[0;31mKeyError\u001b[0m                                  Traceback (most recent call last)",
      "\u001b[0;32m/tmp/ipykernel_181342/2564414959.py\u001b[0m in \u001b[0;36m<module>\u001b[0;34m\u001b[0m\n\u001b[1;32m      1\u001b[0m \u001b[0;32mfor\u001b[0m \u001b[0msolve_mode_\u001b[0m \u001b[0;32min\u001b[0m \u001b[0;34m[\u001b[0m\u001b[0;34m'nonlinear'\u001b[0m\u001b[0;34m,\u001b[0m \u001b[0;34m'linear_forward'\u001b[0m\u001b[0;34m,\u001b[0m \u001b[0;34m'linear_backward'\u001b[0m\u001b[0;34m]\u001b[0m\u001b[0;34m:\u001b[0m\u001b[0;34m\u001b[0m\u001b[0;34m\u001b[0m\u001b[0m\n\u001b[1;32m      2\u001b[0m     \u001b[0mprint\u001b[0m\u001b[0;34m(\u001b[0m\u001b[0;34m'='\u001b[0m\u001b[0;34m*\u001b[0m\u001b[0;36m20\u001b[0m\u001b[0;34m)\u001b[0m\u001b[0;34m\u001b[0m\u001b[0;34m\u001b[0m\u001b[0m\n\u001b[0;32m----> 3\u001b[0;31m     \u001b[0;32mfor\u001b[0m \u001b[0mi\u001b[0m\u001b[0;34m,\u001b[0m \u001b[0mtdata\u001b[0m \u001b[0;32min\u001b[0m \u001b[0mruntime_data\u001b[0m\u001b[0;34m[\u001b[0m\u001b[0msolve_mode_\u001b[0m\u001b[0;34m]\u001b[0m\u001b[0;34m.\u001b[0m\u001b[0mitems\u001b[0m\u001b[0;34m(\u001b[0m\u001b[0;34m)\u001b[0m\u001b[0;34m:\u001b[0m\u001b[0;34m\u001b[0m\u001b[0;34m\u001b[0m\u001b[0m\n\u001b[0m\u001b[1;32m      4\u001b[0m         \u001b[0mprint\u001b[0m\u001b[0;34m(\u001b[0m\u001b[0;34m'#{}-T#{}:'\u001b[0m\u001b[0;34m.\u001b[0m\u001b[0mformat\u001b[0m\u001b[0;34m(\u001b[0m\u001b[0msolve_mode_\u001b[0m\u001b[0;34m,\u001b[0m \u001b[0mi\u001b[0m\u001b[0;34m)\u001b[0m\u001b[0;34m)\u001b[0m\u001b[0;34m\u001b[0m\u001b[0;34m\u001b[0m\u001b[0m\n\u001b[1;32m      5\u001b[0m         \u001b[0msc\u001b[0m \u001b[0;34m=\u001b[0m \u001b[0many\u001b[0m\u001b[0;34m(\u001b[0m\u001b[0;34m[\u001b[0m\u001b[0md\u001b[0m\u001b[0;34m[\u001b[0m\u001b[0;34m'success'\u001b[0m\u001b[0;34m]\u001b[0m \u001b[0;32mfor\u001b[0m \u001b[0mdi\u001b[0m\u001b[0;34m,\u001b[0m \u001b[0md\u001b[0m \u001b[0;32min\u001b[0m \u001b[0mtdata\u001b[0m\u001b[0;34m.\u001b[0m\u001b[0mitems\u001b[0m\u001b[0;34m(\u001b[0m\u001b[0;34m)\u001b[0m\u001b[0;34m]\u001b[0m\u001b[0;34m)\u001b[0m\u001b[0;34m\u001b[0m\u001b[0;34m\u001b[0m\u001b[0m\n",
      "\u001b[0;31mKeyError\u001b[0m: 'linear_backward'"
     ]
    }
   ],
   "source": [
    "for solve_mode_ in runtime_data:\n",
    "    print('='*20)\n",
    "    for i, tdata in runtime_data[solve_mode_].items():\n",
    "        print('#{}-T#{}:'.format(solve_mode_, i))\n",
    "        sc = any([d['success'] for di, d in tdata.items()])\n",
    "        \n",
    "        total_runtime = []\n",
    "        for i, trial_data in tdata.items():\n",
    "            trial_profiles = trial_data['profiles']\n",
    "            runtime_per_move = [sum(trial_profiles[mid]['plan_time']) for mid in trial_profiles]\n",
    "            total_runtime.append(sum(runtime_per_move))\n",
    "      \n",
    "        cprint('{} - BT {} | time {:.2f}'.format(sc, len(tdata), sum(total_runtime)), 'green' if sc else 'red')\n",
    "        print('---')"
   ]
  },
  {
   "cell_type": "markdown",
   "id": "b2df3a52",
   "metadata": {},
   "source": [
    "# Save movements"
   ]
  },
  {
   "cell_type": "code",
   "execution_count": 15,
   "id": "79fa8678",
   "metadata": {},
   "outputs": [
    {
     "name": "stdout",
     "output_type": "stream",
     "text": [
      "---\n",
      "\u001b[32m#72 movements written to /home/yijiangh/itj_ws/integral_timber_joints/external/itj_design_study/210128_RemodelFredPavilion/YJ_tmp/movements\u001b[0m\n",
      "---\n",
      "\u001b[32mProcess written to /home/yijiangh/itj_ws/integral_timber_joints/external/itj_design_study/210128_RemodelFredPavilion/YJ_tmp/twelve_pieces_process.json\u001b[0m\n"
     ]
    }
   ],
   "source": [
    "from integral_timber_joints.planning.parsing import save_process_and_movements\n",
    "\n",
    "beam_all_movements = process.get_movements_by_beam_id(beam_id)\n",
    "if 'movement_id_range' not in options:\n",
    "    altered_movements = beam_all_movements\n",
    "else:\n",
    "    altered_movements = [beam_all_movements[mid] for mid in options['movement_id_range']]\n",
    "save_process_and_movements(problem, process, altered_movements, save_temp=True)"
   ]
  },
  {
   "cell_type": "markdown",
   "id": "f8f0ecd8",
   "metadata": {},
   "source": [
    "# Visualize traj"
   ]
  },
  {
   "cell_type": "code",
   "execution_count": 17,
   "id": "a029ac3d",
   "metadata": {},
   "outputs": [
    {
     "name": "stdout",
     "output_type": "stream",
     "text": [
      "===\n",
      "Viz:\u001b[0m\n",
      "\u001b[33mNo traj found for RoboticLinearMovement(#A43_M2, Linear Approach 2 of 2 to place CL3 ('c2') in storage., traj 0)\n",
      " -- has_start_conf False, has_end_conf True\u001b[0m\n",
      "Press enter to continue\n"
     ]
    }
   ],
   "source": [
    "from integral_timber_joints.planning.state import set_state\n",
    "from integral_timber_joints.planning.visualization import visualize_movement_trajectory\n",
    "\n",
    "altered_ms = [process.get_movement_by_movement_id('A43_M2')]\n",
    "set_state(client, robot, process, process.initial_state)\n",
    "for altered_m in altered_ms:\n",
    "    visualize_movement_trajectory(client, robot, process, altered_m, step_sim=False, step_duration=0.05)"
   ]
  },
  {
   "cell_type": "markdown",
   "id": "valid-blanket",
   "metadata": {},
   "source": [
    "# Diagram"
   ]
  },
  {
   "cell_type": "code",
   "execution_count": 77,
   "id": "ranking-moses",
   "metadata": {},
   "outputs": [],
   "source": [
    "from plotly.subplots import make_subplots\n",
    "import plotly.graph_objects as go\n",
    "from integral_timber_joints.process import RoboticFreeMovement, RoboticLinearMovement, RoboticClampSyncLinearMovement\n",
    "\n",
    "solve_mode_ = 'nonlinear' # linear_backward | linear_forward | nonlinear\n",
    "\n",
    "# total_rows = 0\n",
    "# for i, d in runtime_data[solve_mode_].items():\n",
    "#     total_rows += len(d)+1\n",
    "max_inner_loop_displayed = 6\n",
    "\n",
    "for attempt_i, s_rdata in runtime_data[solve_mode_].items():\n",
    "    if len(s_rdata) > max_inner_loop_displayed:\n",
    "        num_rows = max_inner_loop_displayed+1\n",
    "        half = int(max_inner_loop_displayed/2)\n",
    "        selected_inners = list(range(0,half)) + list(range(len(s_rdata)-half,len(s_rdata)))\n",
    "    else:\n",
    "        num_rows = len(s_rdata)+1\n",
    "        selected_inners = list(range(len(s_rdata)))\n",
    "    \n",
    "    fig = make_subplots(rows=num_rows, cols=2)\n",
    "    success = any([d['success'] for di, d in s_rdata.items()])\n",
    "    total_runtime = []\n",
    "    failed_m_id = []\n",
    "    for i in s_rdata.keys():\n",
    "        trial_data = s_rdata[i]\n",
    "        trial_profiles = trial_data['profiles']\n",
    "        mid_keys = sorted(trial_profiles.keys(), key=int)\n",
    "        runtime_per_move = [sum(trial_profiles[mid]['plan_time']) for mid in mid_keys]\n",
    "        total_runtime.append(sum(runtime_per_move))\n",
    "        \n",
    "        for mid in mid_keys:\n",
    "            if not any(trial_profiles[mid]['plan_success']):\n",
    "                movement = process.get_movement_by_movement_id(trial_profiles[mid]['movement_id'][0])\n",
    "                m_color = '#ff1b6b' if isinstance(movement, RoboticFreeMovement) else '#45caff'\n",
    "                failed_m_id.append((mid, movement.short_summary, m_color))\n",
    "                break\n",
    "        else:\n",
    "            failed_m_id.append((-1, 'success!', '#00ff87'))\n",
    "        \n",
    "        if i in selected_inners or int(i) in selected_inners:\n",
    "            success_colors = ['#99C24D' if any(trial_profiles[mid]['plan_success']) else '#F18F01' for mid in mid_keys]\n",
    "            row_id = selected_inners.index(int(i))+1\n",
    "            fig.append_trace(go.Scatter(x=mid_keys,\n",
    "                                    y=runtime_per_move,\n",
    "                                    mode='markers',\n",
    "                                    marker_color=success_colors,\n",
    "                                    text=[process.get_movement_by_movement_id(trial_profiles[mid]['movement_id'][0]).short_summary \\\n",
    "                                          for mid in mid_keys], # hover text goes here\n",
    "                                    name='#{}-feasibility'.format(i),\n",
    "                                    ),\n",
    "                          row=row_id, col=1\n",
    "                        )\n",
    "\n",
    "            fig.append_trace(go.Scatter(x=mid_keys,\n",
    "                                            y=runtime_per_move,\n",
    "                                            mode='markers',\n",
    "                                                marker=dict(\n",
    "                                                size=5,\n",
    "                                                color=[trial_profiles[mid]['sample_order'][0] for mid in mid_keys], #set color equal to a variable\n",
    "                                                colorscale='Viridis', # one of plotly colorscales\n",
    "                                                showscale=True\n",
    "                                            ),\n",
    "                                            text=['S#{}-{}'.format(trial_profiles[mid]['sample_order'][0], process.get_movement_by_movement_id(trial_profiles[mid]['movement_id'][0]).short_summary) \\\n",
    "                                                  for mid in mid_keys], # hover text goes here\n",
    "                                            name='#{}-sample order'.format(i),),\n",
    "                          row=row_id, col=2\n",
    "                            )\n",
    "            if row_id == 1:\n",
    "                fig.update_xaxes(title_text=\"m_id\",row=row_id, col=1)\n",
    "                fig.update_yaxes(title_text=\"runtime(s)\",row=row_id, col=1)\n",
    "\n",
    "    fig.append_trace(go.Scatter(x=list(range(len(s_rdata))),y=total_runtime), \n",
    "                     row=num_rows, col=1)\n",
    "    fig.update_xaxes(title_text=\"trials\",row=num_rows, col=1)\n",
    "    fig.update_yaxes(title_text=\"runtime(s)\",row=num_rows, col=1)\n",
    "    \n",
    "    fig.append_trace(go.Scatter(x=list(range(len(failed_m_id))),y=[tt[0] for tt in failed_m_id],\n",
    "                                mode='markers',\n",
    "                                marker_color=[tt[2] for tt in failed_m_id],\n",
    "                                text=[tt[1] for tt in failed_m_id],\n",
    "                               ), row=num_rows, col=2)\n",
    "    fig.update_xaxes(title_text=\"trials\",row=num_rows, col=2)\n",
    "    fig.update_yaxes(title_text=\"failed_movement_id\",row=num_rows, col=2)\n",
    "\n",
    "    \n",
    "    title = \"figs/{}-{}-trail_{}_success-{}_BT-{}_time-{:.1f}\".format(beam_id, solve_mode_, \n",
    "        attempt_i, success, len(s_rdata), sum(total_runtime))\n",
    "    fig.update_layout(title=title)\n",
    "    fig.write_html(title + \".html\")\n",
    "# fig.show()"
   ]
  },
  {
   "cell_type": "code",
   "execution_count": 41,
   "id": "inappropriate-vienna",
   "metadata": {},
   "outputs": [
    {
     "data": {
      "text/plain": [
       "207"
      ]
     },
     "execution_count": 41,
     "metadata": {},
     "output_type": "execute_result"
    }
   ],
   "source": [
    "len(failed_m_id)"
   ]
  },
  {
   "cell_type": "markdown",
   "id": "empty-heavy",
   "metadata": {},
   "source": [
    "# Save runtime data"
   ]
  },
  {
   "cell_type": "code",
   "execution_count": 106,
   "id": "funded-toddler",
   "metadata": {},
   "outputs": [
    {
     "data": {
      "text/plain": [
       "dict_keys(['linear', 'nonlinear'])"
      ]
     },
     "execution_count": 106,
     "metadata": {},
     "output_type": "execute_result"
    }
   ],
   "source": [
    "runtime_data.keys()"
   ]
  },
  {
   "cell_type": "markdown",
   "id": "graduate-middle",
   "metadata": {},
   "source": [
    "# Disconnect client"
   ]
  },
  {
   "cell_type": "code",
   "execution_count": 48,
   "id": "junior-standing",
   "metadata": {
    "collapsed": true
   },
   "outputs": [],
   "source": [
    "client.disconnect()"
   ]
  },
  {
   "cell_type": "markdown",
   "id": "civil-partner",
   "metadata": {},
   "source": [
    "# Plan only one movement"
   ]
  },
  {
   "cell_type": "code",
   "execution_count": 29,
   "id": "ambient-calculator",
   "metadata": {},
   "outputs": [],
   "source": [
    "# if id_only:\n",
    "#     beam_id = process.get_beam_id_from_movement_id(id_only)\n",
    "#     process.get_movement_summary_by_beam_id(beam_id)"
   ]
  },
  {
   "cell_type": "code",
   "execution_count": 39,
   "id": "experienced-industry",
   "metadata": {},
   "outputs": [
    {
     "name": "stdout",
     "output_type": "stream",
     "text": [
      "\u001b[36mRoboticLinearMovement(#A2_M1, Linear Advance to Final Frame of Beam ('b0'), traj 1)\u001b[0m\n",
      "\u001b[33mend conf FK inconsistent (0.00005 m) with given current frame in end state.\u001b[0m\n",
      "\u001b[33mBoth start/end confs are pre-specified, problem might be too stiff to be solved.\u001b[0m\n",
      "\u001b[34mOne-sided Cartesian planning : start conf set, forward mode\u001b[0m\n",
      "\tcartesian trial #0\n",
      "\u001b[32mPlan found by IterativeIK! After 0 path failure (by IterativeIK) over 1 samples.\u001b[0m\n"
     ]
    },
    {
     "data": {
      "text/plain": [
       "True"
      ]
     },
     "execution_count": 39,
     "metadata": {},
     "output_type": "execute_result"
    }
   ],
   "source": [
    "from integral_timber_joints.planning.stream import compute_free_movement, compute_linear_movement\n",
    "from integral_timber_joints.planning.solve import compute_movement\n",
    "\n",
    "chosen_m = process.get_movement_by_movement_id(id_only)\n",
    "compute_movement(client, robot, process, chosen_m, options=lm_options, diagnosis=diagnosis)"
   ]
  },
  {
   "cell_type": "code",
   "execution_count": 40,
   "id": "british-conflict",
   "metadata": {},
   "outputs": [
    {
     "name": "stdout",
     "output_type": "stream",
     "text": [
      "===\n",
      "Viz:\u001b[0m\n",
      "\u001b[32mRoboticLinearMovement(#A2_M1, Linear Advance to Final Frame of Beam ('b0'), traj 1)\u001b[0m\n"
     ]
    },
    {
     "name": "stdin",
     "output_type": "stream",
     "text": [
      "Step conf. \n",
      "Step conf. \n",
      "Step conf. \n",
      "Step conf. \n",
      "Step conf. \n",
      "Step conf. \n",
      "Step conf. \n",
      "End state. \n"
     ]
    }
   ],
   "source": [
    "from integral_timber_joints.planning.visualization import visualize_movement_trajectory\n",
    "\n",
    "with pp.WorldSaver():\n",
    "    visualize_movement_trajectory(client, robot, process, chosen_m, step_sim=True)"
   ]
  },
  {
   "cell_type": "markdown",
   "id": "ba117a0a",
   "metadata": {},
   "source": [
    "# Debug"
   ]
  },
  {
   "cell_type": "code",
   "execution_count": 114,
   "id": "212fe87b",
   "metadata": {},
   "outputs": [
    {
     "name": "stdout",
     "output_type": "stream",
     "text": [
      "{\n",
      "    \"point\": [\n",
      "        16365.955352783203,\n",
      "        5373.7616539001465,\n",
      "        1185.3845119476318\n",
      "    ],\n",
      "    \"xaxis\": [\n",
      "        -0.2580321229101535,\n",
      "        0.6278875467781188,\n",
      "        0.7342864918731894\n",
      "    ],\n",
      "    \"yaxis\": [\n",
      "        -0.9661363350844321,\n",
      "        -0.1677526279329609,\n",
      "        -0.19606029136775213\n",
      "    ]\n",
      "}\n",
      "{\n",
      "    \"point\": [\n",
      "        16365.955352783203,\n",
      "        5373.7616539001465,\n",
      "        1185.3845119476318\n",
      "    ],\n",
      "    \"xaxis\": [\n",
      "        -0.25803212291015387,\n",
      "        0.6278875467781186,\n",
      "        0.7342864918731893\n",
      "    ],\n",
      "    \"yaxis\": [\n",
      "        -0.9661363350844319,\n",
      "        -0.16775262793296133,\n",
      "        -0.19606029136775227\n",
      "    ]\n",
      "}\n"
     ]
    }
   ],
   "source": [
    "prev_m = process.get_movement_by_movement_id('A40_M6')\n",
    "start_state = process.get_movement_start_state(prev_m)\n",
    "end_state = process.get_movement_end_state(prev_m)\n",
    "\n",
    "# v = end_state['robot'].current_frame.point - start_state['robot'].current_frame.point\n",
    "# list(v)\n",
    "set_state(client, robot, process, end_state)\n",
    "print(end_state['tool_changer'].current_frame)\n",
    "print(client.get_object_frame('^tool_changer$', scale=1e3)[75])"
   ]
  },
  {
   "cell_type": "code",
   "execution_count": 109,
   "id": "d29f18e6",
   "metadata": {},
   "outputs": [
    {
     "name": "stdout",
     "output_type": "stream",
     "text": [
      "{\n",
      "    \"point\": [\n",
      "        16365.961074829102,\n",
      "        5373.770236968994,\n",
      "        1185.3852272033691\n",
      "    ],\n",
      "    \"xaxis\": [\n",
      "        -0.2580321229101535,\n",
      "        0.6278875467781188,\n",
      "        0.7342864918731894\n",
      "    ],\n",
      "    \"yaxis\": [\n",
      "        -0.9661363350844321,\n",
      "        -0.1677526279329609,\n",
      "        -0.19606029136775213\n",
      "    ]\n",
      "}\n"
     ]
    }
   ],
   "source": [
    "client.set_robot_configuration(robot, end_state['robot'].kinematic_config)\n",
    "print(client.get_object_frame('^tool_changer$', scale=1e3)[75])"
   ]
  },
  {
   "cell_type": "code",
   "execution_count": 116,
   "id": "523cf3b0",
   "metadata": {},
   "outputs": [
    {
     "data": {
      "text/plain": [
       "False"
      ]
     },
     "execution_count": 116,
     "metadata": {},
     "output_type": "execute_result"
    }
   ],
   "source": [
    "from compas_fab_pychoreo.backend_features.pychoreo_configuration_collision_checker import PyChoreoConfigurationCollisionChecker\n",
    "\n",
    "set_state(client, robot, process, end_state, options=options)\n",
    "# set_state(client, robot, process, start_state, options=options)\n",
    "pychore_collision_fn = PyChoreoConfigurationCollisionChecker(client)\n",
    "# end_state['robot'].kinematic_config\n",
    "options['diagnosis'] = True\n",
    "pychore_collision_fn.check_collisions(robot, prev_m.trajectory.points[-2], options=options)"
   ]
  },
  {
   "cell_type": "code",
   "execution_count": 79,
   "id": "77ef66ba",
   "metadata": {},
   "outputs": [],
   "source": [
    "tc_body = client.pychoreo_attachments['tool_changer']"
   ]
  },
  {
   "cell_type": "code",
   "execution_count": 83,
   "id": "c16e0eb8",
   "metadata": {},
   "outputs": [
    {
     "data": {
      "text/plain": [
       "Frame(Point(0.016, 0.005, 0.001), Vector(-0.258, 0.628, 0.734), Vector(-0.966, -0.168, -0.196))"
      ]
     },
     "execution_count": 83,
     "metadata": {},
     "output_type": "execute_result"
    }
   ],
   "source": [
    "from compas_fab_pychoreo.conversions import pose_from_frame, frame_from_pose\n",
    "\n",
    "frame_from_pose(pp.get_pose(75))"
   ]
  },
  {
   "cell_type": "code",
   "execution_count": 75,
   "id": "28fe391c",
   "metadata": {},
   "outputs": [
    {
     "data": {
      "text/plain": [
       "{75: Frame(Point(16.366, 5.374, 1.185), Vector(-0.258, 0.628, 0.734), Vector(-0.966, -0.168, -0.196))}"
      ]
     },
     "execution_count": 75,
     "metadata": {},
     "output_type": "execute_result"
    }
   ],
   "source": [
    "client.get_object_frame('^tool_changer$')"
   ]
  },
  {
   "cell_type": "code",
   "execution_count": 44,
   "id": "f5062e22",
   "metadata": {},
   "outputs": [
    {
     "name": "stdout",
     "output_type": "stream",
     "text": [
      "State: current frame: {\n",
      "    \"point\": [\n",
      "        16365.989685058594,\n",
      "        5373.808860778809,\n",
      "        1185.4075193405151\n",
      "    ],\n",
      "    \"xaxis\": [\n",
      "        -0.25802939931448104,\n",
      "        0.6277901217809272,\n",
      "        0.7343707456616834\n",
      "    ],\n",
      "    \"yaxis\": [\n",
      "        -0.9661370648091927,\n",
      "        -0.16763997964096333,\n",
      "        -0.1961530250285612\n",
      "    ]\n",
      "} | config: JointTrajectoryPoint((15.468, -4.130, -2.020, 2.159, -0.587, -2.805, 0.492, -2.039, 0.908), (2, 2, 2, 0, 0, 0, 0, 0, 0), (0.000, 0.000, 0.000, 0.000, 0.000, 0.000, 0.000, 0.000, 0.000), (0.000, 0.000, 0.000, 0.000, 0.000, 0.000, 0.000, 0.000, 0.000), (0.000, 0.000, 0.000, 0.000, 0.000, 0.000, 0.000, 0.000, 0.000), Duration(11, 0)) | attached to robot: False\n",
      "State: current frame: {\n",
      "    \"point\": [\n",
      "        16366.001562499872,\n",
      "        5373.822840010225,\n",
      "        1185.408652972277\n",
      "    ],\n",
      "    \"xaxis\": [\n",
      "        -0.2580290176609404,\n",
      "        0.6277482599146081,\n",
      "        0.7344066640622972\n",
      "    ],\n",
      "    \"yaxis\": [\n",
      "        -0.9661371673033442,\n",
      "        -0.16765452393882985,\n",
      "        -0.19614008911467898\n",
      "    ]\n",
      "} | config: None | attached to robot: True\n"
     ]
    }
   ],
   "source": [
    "print(end_state['robot'])\n",
    "print(end_state['tool_changer'])"
   ]
  }
 ],
 "metadata": {
  "interpreter": {
   "hash": "e316c14abce5fba3fe9c4f8c619f8000a7b0c13889e51eb6196aed0ab3fd7ed0"
  },
  "kernelspec": {
   "display_name": "Python 3 (ipykernel)",
   "language": "python",
   "name": "python3"
  },
  "language_info": {
   "codemirror_mode": {
    "name": "ipython",
    "version": 3
   },
   "file_extension": ".py",
   "mimetype": "text/x-python",
   "name": "python",
   "nbconvert_exporter": "python",
   "pygments_lexer": "ipython3",
   "version": "3.8.10"
  }
 },
 "nbformat": 4,
 "nbformat_minor": 5
}
