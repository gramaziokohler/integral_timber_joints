{
 "cells": [
  {
   "cell_type": "code",
   "execution_count": 1,
   "id": "perceived-buyer",
   "metadata": {},
   "outputs": [],
   "source": [
    "# https://ipython.org/ipython-doc/3/config/extensions/autoreload.html\n",
    "%load_ext autoreload\n",
    "%autoreload 2"
   ]
  },
  {
   "cell_type": "markdown",
   "id": "described-packet",
   "metadata": {},
   "source": [
    "## Options"
   ]
  },
  {
   "cell_type": "code",
   "execution_count": 61,
   "id": "thirty-exhibition",
   "metadata": {},
   "outputs": [],
   "source": [
    "# parse options\n",
    "problem = 'twelve_pieces_process.json'\n",
    "problem_subdir = 'results'\n",
    "\n",
    "recompute_action_states = False\n",
    "load_external_movements = False"
   ]
  },
  {
   "cell_type": "code",
   "execution_count": 62,
   "id": "practical-entry",
   "metadata": {},
   "outputs": [],
   "source": [
    "# generic planning options\n",
    "id_only = None # 'A2_M1' # None | 'A273_M0'\n",
    "free_motion_only = False\n",
    "low_res = True\n",
    "\n",
    "viz_upon_found = False\n",
    "propagate_only = False\n",
    "plan_impacted = False"
   ]
  },
  {
   "cell_type": "code",
   "execution_count": 78,
   "id": "inclusive-watts",
   "metadata": {},
   "outputs": [],
   "source": [
    "# client options\n",
    "viewer = True\n",
    "debug = True\n",
    "verbose = True\n",
    "diagnosis = False\n",
    "\n",
    "watch = True\n",
    "step_sim = True\n",
    "\n",
    "disable_env = False\n",
    "reinit_tool = False\n",
    "\n",
    "write = False\n",
    "save_now = False"
   ]
  },
  {
   "cell_type": "code",
   "execution_count": 79,
   "id": "unlikely-cannon",
   "metadata": {},
   "outputs": [],
   "source": [
    "from collections import namedtuple\n",
    "PlanningArguments = namedtuple('PlanningArguments', ['problem', 'debug', 'diagnosis', 'id_only', 'free_motion_only', 'viz_upon_found', \n",
    "                                             'save_now', 'propagate_only', 'write', 'plan_impacted', 'watch', 'step_sim', 'verbose'])\n",
    "\n",
    "args = PlanningArguments(problem, debug, diagnosis, id_only, free_motion_only, viz_upon_found, save_now, propagate_only, write, plan_impacted, watch, step_sim, verbose)"
   ]
  },
  {
   "cell_type": "markdown",
   "id": "smooth-ability",
   "metadata": {},
   "source": [
    "## Parse process from json"
   ]
  },
  {
   "cell_type": "code",
   "execution_count": 5,
   "id": "acute-assumption",
   "metadata": {},
   "outputs": [],
   "source": [
    "import os\n",
    "from termcolor import cprint\n",
    "import pybullet_planning as pp\n",
    "from integral_timber_joints.planning.parsing import parse_process, save_process_and_movements, get_process_path, save_process"
   ]
  },
  {
   "cell_type": "code",
   "execution_count": 6,
   "id": "regulated-concentrate",
   "metadata": {},
   "outputs": [
    {
     "name": "stdout",
     "output_type": "stream",
     "text": [
      "\u001b[34mProcess json parsed from c:\\users\\harry\\dropbox (mit)\\code_ws_dropbox\\itj_ws\\integral_timber_joints\\external\\itj_design_study\\210128_RemodelFredPavilion\\results\\twelve_pieces_process.json\u001b[0m\n"
     ]
    }
   ],
   "source": [
    "process = parse_process(problem, subdir=problem_subdir)\n",
    "result_path = get_process_path(problem, subdir='results')\n",
    "if len(process.movements) == 0:\n",
    "    cprint('No movements found in process, trigger recompute actions.', 'red')\n",
    "    recompute_action_states = True\n",
    "if recompute_action_states:\n",
    "    cprint('Recomputing Actions and States', 'cyan')\n",
    "    recompute_action_states(process)"
   ]
  },
  {
   "cell_type": "code",
   "execution_count": 7,
   "id": "tested-thursday",
   "metadata": {},
   "outputs": [
    {
     "name": "stdout",
     "output_type": "stream",
     "text": [
      "\u001b[36mLoading external movements from c:\\users\\harry\\dropbox (mit)\\code_ws_dropbox\\itj_ws\\integral_timber_joints\\external\\itj_design_study\\210128_RemodelFredPavilion\\results\u001b[0m\n"
     ]
    }
   ],
   "source": [
    "# # force load external if only planning for the free motions\n",
    "# load_external_movements = load_external_movements or free_motion_only or id_only is not None\n",
    "# if load_external_movements:\n",
    "#     ext_movement_path = os.path.dirname(result_path)\n",
    "#     cprint('Loading external movements from {}'.format(ext_movement_path), 'cyan')\n",
    "#     process.load_external_movements(ext_movement_path)\n",
    "#     if recompute_action_states:\n",
    "#         save_process(process, result_path)\n",
    "#         cprint('Recomputed process saved to %s' % result_path, 'green')"
   ]
  },
  {
   "cell_type": "markdown",
   "id": "organic-german",
   "metadata": {},
   "source": [
    "## Start client"
   ]
  },
  {
   "cell_type": "code",
   "execution_count": 68,
   "id": "directed-ownership",
   "metadata": {},
   "outputs": [],
   "source": [
    "from integral_timber_joints.planning.robot_setup import load_RFL_world\n",
    "from integral_timber_joints.planning.run import set_initial_state\n",
    "\n",
    "# * Connect to path planning backend and initialize robot parameters\n",
    "client, robot, _ = load_RFL_world(viewer=viewer or diagnosis or view_states or watch or step_sim, verbose=False)\n",
    "set_initial_state(client, robot, process, disable_env=disable_env, reinit_tool=reinit_tool)"
   ]
  },
  {
   "cell_type": "code",
   "execution_count": 70,
   "id": "palestinian-interim",
   "metadata": {},
   "outputs": [],
   "source": [
    "from integral_timber_joints.planning.robot_setup import GANTRY_ARM_GROUP, GANTRY_GROUP, BARE_ARM_GROUP\n",
    "from compas.robots import Joint\n",
    "import numpy as np\n",
    "\n",
    "joint_names = robot.get_configurable_joint_names(group=GANTRY_ARM_GROUP)\n",
    "joint_types = robot.get_joint_types_by_names(joint_names)\n",
    "# 0.1 rad = 5.7 deg\n",
    "joint_jump_threshold = {jt_name : np.pi/6 \\\n",
    "        if jt_type in [Joint.REVOLUTE, Joint.CONTINUOUS] else 0.1 \\\n",
    "        for jt_name, jt_type in zip(joint_names, joint_types)}\n",
    "\n",
    "options = {\n",
    "    'debug' : debug,\n",
    "    'diagnosis' : False,\n",
    "    'low_res' : low_res,\n",
    "    'distance_threshold' : 0.0012,\n",
    "    'frame_jump_tolerance' : 0.0012,\n",
    "    'verbose' : verbose,\n",
    "    'jump_threshold' : joint_jump_threshold,\n",
    "#     'max_distance' : args.max_distance,\n",
    "}"
   ]
  },
  {
   "cell_type": "markdown",
   "id": "fleet-morgan",
   "metadata": {},
   "source": [
    "# Plan only one movement"
   ]
  },
  {
   "cell_type": "code",
   "execution_count": 29,
   "id": "sealed-dutch",
   "metadata": {},
   "outputs": [],
   "source": [
    "# if id_only:\n",
    "#     beam_id = process.get_beam_id_from_movement_id(id_only)\n",
    "#     process.get_movement_summary_by_beam_id(beam_id)"
   ]
  },
  {
   "cell_type": "code",
   "execution_count": 39,
   "id": "geographic-seeker",
   "metadata": {},
   "outputs": [
    {
     "name": "stdout",
     "output_type": "stream",
     "text": [
      "\u001b[36mRoboticLinearMovement(#A2_M1, Linear Advance to Final Frame of Beam ('b0'), traj 1)\u001b[0m\n",
      "\u001b[33mend conf FK inconsistent (0.00005 m) with given current frame in end state.\u001b[0m\n",
      "\u001b[33mBoth start/end confs are pre-specified, problem might be too stiff to be solved.\u001b[0m\n",
      "\u001b[34mOne-sided Cartesian planning : start conf set, forward mode\u001b[0m\n",
      "\tcartesian trial #0\n",
      "\u001b[32mPlan found by IterativeIK! After 0 path failure (by IterativeIK) over 1 samples.\u001b[0m\n"
     ]
    },
    {
     "data": {
      "text/plain": [
       "True"
      ]
     },
     "execution_count": 39,
     "metadata": {},
     "output_type": "execute_result"
    }
   ],
   "source": [
    "from integral_timber_joints.planning.stream import compute_free_movement, compute_linear_movement\n",
    "from integral_timber_joints.planning.solve import compute_movement\n",
    "\n",
    "chosen_m = process.get_movement_by_movement_id(id_only)\n",
    "compute_movement(client, robot, process, chosen_m, options=lm_options, diagnosis=diagnosis)"
   ]
  },
  {
   "cell_type": "code",
   "execution_count": 40,
   "id": "plastic-wagner",
   "metadata": {},
   "outputs": [
    {
     "name": "stdout",
     "output_type": "stream",
     "text": [
      "===\n",
      "Viz:\u001b[0m\n",
      "\u001b[32mRoboticLinearMovement(#A2_M1, Linear Advance to Final Frame of Beam ('b0'), traj 1)\u001b[0m\n"
     ]
    },
    {
     "name": "stdin",
     "output_type": "stream",
     "text": [
      "Step conf. \n",
      "Step conf. \n",
      "Step conf. \n",
      "Step conf. \n",
      "Step conf. \n",
      "Step conf. \n",
      "Step conf. \n",
      "End state. \n"
     ]
    }
   ],
   "source": [
    "from integral_timber_joints.planning.visualization import visualize_movement_trajectory\n",
    "\n",
    "with pp.WorldSaver():\n",
    "    visualize_movement_trajectory(client, robot, process, chosen_m, step_sim=True)"
   ]
  },
  {
   "cell_type": "markdown",
   "id": "saved-wrestling",
   "metadata": {},
   "source": [
    "# Plan movements for a beam"
   ]
  },
  {
   "cell_type": "code",
   "execution_count": 76,
   "id": "opposite-concert",
   "metadata": {},
   "outputs": [
    {
     "name": "stdout",
     "output_type": "stream",
     "text": [
      "====================\n",
      "\n",
      "\n",
      "\n",
      "\u001b[1m\u001b[47m\u001b[34m* compute ['RoboticLinearMovement', 'RoboticClampSyncLinearMovement'] (priority 1, status [<MovementStatus.neither_done: 4>, <MovementStatus.one_sided: 2>])\u001b[0m\n",
      "====================\n",
      "\n",
      "\n",
      "\n",
      "\u001b[1m\u001b[47m\u001b[34m* compute ['RoboticLinearMovement'] (priority 0, status [<MovementStatus.one_sided: 2>])\u001b[0m\n",
      "====================\n",
      "\n",
      "\n",
      "\n",
      "\u001b[1m\u001b[47m\u001b[34m* compute ['RoboticLinearMovement'] (priority 0, status [<MovementStatus.neither_done: 4>, <MovementStatus.one_sided: 2>])\u001b[0m\n",
      "====================\n",
      "\n",
      "\n",
      "\n",
      "\u001b[1m\u001b[47m\u001b[34m* compute ['RoboticFreeMovement'] (priority 0, status [<MovementStatus.both_done: 3>, <MovementStatus.one_sided: 2>])\u001b[0m\n",
      "====================\n",
      "\n",
      "\n",
      "\n",
      "\u001b[1m\u001b[47m\u001b[34mVisualize results\u001b[0m\n",
      "===\n",
      "Viz:\u001b[0m\n",
      "\u001b[32mRoboticFreeMovement(#A0_M0, Free Move reach Storage Approach Frame of PG1000 ('g2'), to get tool., traj 1)\u001b[0m\n"
     ]
    },
    {
     "name": "stdin",
     "output_type": "stream",
     "text": [
      "Step conf. \n",
      "Step conf. \n",
      "Step conf. \n",
      "Step conf. \n",
      "Step conf. \n",
      "End state. \n"
     ]
    },
    {
     "name": "stdout",
     "output_type": "stream",
     "text": [
      "===\n",
      "Viz:\u001b[0m\n",
      "\u001b[32mRoboticLinearMovement(#A0_M1, Linear Advance to Storage Frame of PG1000 ('g2'), to get tool., traj 1)\u001b[0m\n"
     ]
    },
    {
     "name": "stdin",
     "output_type": "stream",
     "text": [
      "Step conf. \n",
      "Step conf. \n",
      "Step conf. \n",
      "Step conf. \n",
      "Step conf. \n",
      "End state. \n"
     ]
    },
    {
     "name": "stdout",
     "output_type": "stream",
     "text": [
      "===\n",
      "Viz:\u001b[0m\n"
     ]
    },
    {
     "name": "stdin",
     "output_type": "stream",
     "text": [
      "End state. \n"
     ]
    },
    {
     "name": "stdout",
     "output_type": "stream",
     "text": [
      "===\n",
      "Viz:\u001b[0m\n"
     ]
    },
    {
     "name": "stdin",
     "output_type": "stream",
     "text": [
      "End state. \n"
     ]
    },
    {
     "name": "stdout",
     "output_type": "stream",
     "text": [
      "===\n",
      "Viz:\u001b[0m\n",
      "\u001b[32mRoboticLinearMovement(#A0_M4, Linear Retract after getting PG1000 ('g2') from storage., traj 1)\u001b[0m\n"
     ]
    },
    {
     "name": "stdin",
     "output_type": "stream",
     "text": [
      "Step conf. \n",
      "Step conf. \n",
      "Step conf. \n",
      "Step conf. \n",
      "Step conf. \n",
      "Step conf. \n",
      "Step conf. \n",
      "Step conf. \n",
      "Step conf. \n",
      "Step conf. \n",
      "Step conf. \n",
      "Step conf. \n",
      "Step conf. \n",
      "Step conf. \n",
      "Step conf. \n",
      "Step conf. \n",
      "Step conf. \n",
      "Step conf. \n",
      "Step conf. \n",
      "Step conf. \n",
      "Step conf. \n",
      "Step conf. \n",
      "Step conf. \n",
      "Step conf. \n",
      "Step conf. \n",
      "Step conf. \n",
      "Step conf. \n",
      "End state. \n"
     ]
    },
    {
     "name": "stdout",
     "output_type": "stream",
     "text": [
      "===\n",
      "Viz:\u001b[0m\n",
      "\u001b[32mRoboticFreeMovement(#A1_M0, Free Move to reach Pickup Approach Frame of Beam ('b0'), traj 1)\u001b[0m\n"
     ]
    },
    {
     "name": "stdin",
     "output_type": "stream",
     "text": [
      "Step conf. \n",
      "Step conf. \n",
      "Step conf. \n",
      "Step conf. \n",
      "Step conf. \n",
      "Step conf. \n",
      "Step conf. \n",
      "Step conf. \n",
      "Step conf. \n",
      "Step conf. \n",
      "Step conf. \n",
      "Step conf. \n",
      "End state. \n"
     ]
    },
    {
     "name": "stdout",
     "output_type": "stream",
     "text": [
      "===\n",
      "Viz:\u001b[0m\n"
     ]
    },
    {
     "name": "stdin",
     "output_type": "stream",
     "text": [
      "End state. \n"
     ]
    },
    {
     "name": "stdout",
     "output_type": "stream",
     "text": [
      "===\n",
      "Viz:\u001b[0m\n",
      "\u001b[32mRoboticLinearMovement(#A1_M2, Linear Advance to Storage Frame of Beam ('b0'), traj 1)\u001b[0m\n"
     ]
    },
    {
     "name": "stdin",
     "output_type": "stream",
     "text": [
      "Step conf. \n",
      "Step conf. \n",
      "Step conf. \n",
      "Step conf. \n",
      "Step conf. \n",
      "Step conf. \n",
      "Step conf. \n",
      "Step conf. \n",
      "Step conf. \n",
      "Step conf. \n",
      "Step conf. \n",
      "Step conf. \n",
      "End state. \n"
     ]
    },
    {
     "name": "stdout",
     "output_type": "stream",
     "text": [
      "===\n",
      "Viz:\u001b[0m\n"
     ]
    },
    {
     "name": "stdin",
     "output_type": "stream",
     "text": [
      "End state. \n"
     ]
    },
    {
     "name": "stdout",
     "output_type": "stream",
     "text": [
      "===\n",
      "Viz:\u001b[0m\n"
     ]
    },
    {
     "name": "stdin",
     "output_type": "stream",
     "text": [
      "End state. \n"
     ]
    },
    {
     "name": "stdout",
     "output_type": "stream",
     "text": [
      "===\n",
      "Viz:\u001b[0m\n",
      "\u001b[32mRoboticLinearMovement(#A1_M5, Linear Retract after picking up Beam ('b0'), traj 1)\u001b[0m\n"
     ]
    },
    {
     "name": "stdin",
     "output_type": "stream",
     "text": [
      "Step conf. \n",
      "Step conf. \n",
      "Step conf. \n",
      "Step conf. \n",
      "Step conf. \n",
      "Step conf. \n",
      "Step conf. \n",
      "Step conf. \n",
      "Step conf. \n",
      "Step conf. \n",
      "Step conf. \n",
      "Step conf. \n",
      "Step conf. \n",
      "Step conf. \n",
      "Step conf. \n",
      "Step conf. \n",
      "Step conf. \n",
      "End state. \n"
     ]
    },
    {
     "name": "stdout",
     "output_type": "stream",
     "text": [
      "===\n",
      "Viz:\u001b[0m\n",
      "\u001b[32mRoboticFreeMovement(#A2_M0, Free Move to bring Beam ('b0') to final location, traj 1)\u001b[0m\n"
     ]
    },
    {
     "name": "stdin",
     "output_type": "stream",
     "text": [
      "Step conf. \n",
      "Step conf. \n",
      "Step conf. \n",
      "Step conf. \n",
      "Step conf. \n",
      "Step conf. \n",
      "Step conf. \n",
      "Step conf. \n",
      "Step conf. \n",
      "Step conf. \n",
      "Step conf. \n",
      "Step conf. \n",
      "Step conf. \n",
      "Step conf. \n",
      "Step conf. \n",
      "Step conf. \n",
      "Step conf. \n",
      "Step conf. \n",
      "Step conf. \n",
      "Step conf. \n",
      "Step conf. \n",
      "Step conf. \n",
      "Step conf. \n",
      "Step conf. \n",
      "Step conf. \n",
      "Step conf. \n",
      "Step conf. \n",
      "End state. \n"
     ]
    },
    {
     "name": "stdout",
     "output_type": "stream",
     "text": [
      "===\n",
      "Viz:\u001b[0m\n",
      "\u001b[32mRoboticLinearMovement(#A2_M1, Linear Advance to Final Frame of Beam ('b0'), traj 1)\u001b[0m\n"
     ]
    },
    {
     "name": "stdin",
     "output_type": "stream",
     "text": [
      "Step conf. \n",
      "Step conf. \n",
      "Step conf. \n",
      "Step conf. \n",
      "Step conf. \n",
      "Step conf. \n",
      "End state. \n"
     ]
    },
    {
     "name": "stdout",
     "output_type": "stream",
     "text": [
      "===\n",
      "Viz:\u001b[0m\n"
     ]
    },
    {
     "name": "stdin",
     "output_type": "stream",
     "text": [
      "End state. \n"
     ]
    },
    {
     "name": "stdout",
     "output_type": "stream",
     "text": [
      "===\n",
      "Viz:\u001b[0m\n",
      "\u001b[32mRoboticLinearMovement(#A2_M3, Linear retract after placing Beam ('b0'), traj 1)\u001b[0m\n"
     ]
    },
    {
     "name": "stdin",
     "output_type": "stream",
     "text": [
      "Step conf. \n",
      "Step conf. \n",
      "Step conf. \n",
      "Step conf. \n",
      "Step conf. \n",
      "Step conf. \n",
      "Step conf. \n",
      "Step conf. \n",
      "Step conf. \n",
      "Step conf. \n",
      "Step conf. \n",
      "Step conf. \n",
      "End state. \n"
     ]
    },
    {
     "name": "stdout",
     "output_type": "stream",
     "text": [
      "===\n",
      "Viz:\u001b[0m\n",
      "\u001b[32mRoboticFreeMovement(#A3_M0, Free Move to reach Storage Approach Frame of PG1000 ('g2'), to place tool in storage., traj 1)\u001b[0m\n"
     ]
    },
    {
     "name": "stdin",
     "output_type": "stream",
     "text": [
      "Step conf. \n",
      "Step conf. \n",
      "Step conf. \n",
      "Step conf. \n",
      "Step conf. \n",
      "Step conf. \n",
      "Step conf. \n",
      "Step conf. \n",
      "Step conf. \n",
      "Step conf. \n",
      "Step conf. \n",
      "Step conf. \n",
      "Step conf. \n",
      "Step conf. \n",
      "Step conf. \n",
      "Step conf. \n",
      "Step conf. \n",
      "Step conf. \n",
      "Step conf. \n",
      "Step conf. \n",
      "Step conf. \n",
      "Step conf. \n",
      "Step conf. \n",
      "Step conf. \n",
      "Step conf. \n",
      "Step conf. \n",
      "End state. \n"
     ]
    },
    {
     "name": "stdout",
     "output_type": "stream",
     "text": [
      "===\n",
      "Viz:\u001b[0m\n",
      "\u001b[32mRoboticLinearMovement(#A3_M1, Linear Advance to Storage Frame of PG1000 ('g2'), to place tool in storage., traj 1)\u001b[0m\n"
     ]
    },
    {
     "name": "stdin",
     "output_type": "stream",
     "text": [
      "Step conf. \n",
      "Step conf. \n",
      "Step conf. \n",
      "Step conf. \n",
      "Step conf. \n",
      "Step conf. \n",
      "Step conf. \n",
      "Step conf. \n",
      "Step conf. \n",
      "Step conf. \n",
      "Step conf. \n",
      "Step conf. \n",
      "Step conf. \n",
      "Step conf. \n",
      "Step conf. \n",
      "Step conf. \n",
      "Step conf. \n",
      "Step conf. \n",
      "Step conf. \n",
      "Step conf. \n",
      "Step conf. \n",
      "Step conf. \n",
      "Step conf. \n",
      "Step conf. \n",
      "Step conf. \n",
      "Step conf. \n",
      "Step conf. \n",
      "End state. \n"
     ]
    },
    {
     "name": "stdout",
     "output_type": "stream",
     "text": [
      "===\n",
      "Viz:\u001b[0m\n"
     ]
    },
    {
     "name": "stdin",
     "output_type": "stream",
     "text": [
      "End state. \n"
     ]
    },
    {
     "name": "stdout",
     "output_type": "stream",
     "text": [
      "===\n",
      "Viz:\u001b[0m\n"
     ]
    },
    {
     "name": "stdin",
     "output_type": "stream",
     "text": [
      "End state. \n"
     ]
    },
    {
     "name": "stdout",
     "output_type": "stream",
     "text": [
      "===\n",
      "Viz:\u001b[0m\n",
      "\u001b[32mRoboticLinearMovement(#A3_M4, Linear Retract from storage after placing PG1000 ('g2') in storage, traj 1)\u001b[0m\n"
     ]
    },
    {
     "name": "stdin",
     "output_type": "stream",
     "text": [
      "Step conf. \n",
      "Step conf. \n",
      "Step conf. \n",
      "Step conf. \n",
      "Step conf. \n",
      "End state. \n"
     ]
    },
    {
     "ename": "AttributeError",
     "evalue": "'PlanningArguments' object has no attribute 'verbose'",
     "output_type": "error",
     "traceback": [
      "\u001b[1;31m---------------------------------------------------------------------------\u001b[0m",
      "\u001b[1;31mAttributeError\u001b[0m                            Traceback (most recent call last)",
      "\u001b[1;32m<ipython-input-76-012ccbee0a03>\u001b[0m in \u001b[0;36m<module>\u001b[1;34m\u001b[0m\n\u001b[0;32m      3\u001b[0m \u001b[0mbeam_id\u001b[0m \u001b[1;33m=\u001b[0m \u001b[1;34m'b0'\u001b[0m\u001b[1;33m\u001b[0m\u001b[1;33m\u001b[0m\u001b[0m\n\u001b[0;32m      4\u001b[0m \u001b[1;31m# beam_id = process.get_beam_id_from_movement_id(args.id_only)\u001b[0m\u001b[1;33m\u001b[0m\u001b[1;33m\u001b[0m\u001b[1;33m\u001b[0m\u001b[0m\n\u001b[1;32m----> 5\u001b[1;33m \u001b[0mcompute_movements_for_beam_id\u001b[0m\u001b[1;33m(\u001b[0m\u001b[0mclient\u001b[0m\u001b[1;33m,\u001b[0m \u001b[0mrobot\u001b[0m\u001b[1;33m,\u001b[0m \u001b[0mprocess\u001b[0m\u001b[1;33m,\u001b[0m \u001b[0mbeam_id\u001b[0m\u001b[1;33m,\u001b[0m \u001b[0margs\u001b[0m\u001b[1;33m,\u001b[0m \u001b[0moptions\u001b[0m\u001b[1;33m=\u001b[0m\u001b[0moptions\u001b[0m\u001b[1;33m)\u001b[0m\u001b[1;33m\u001b[0m\u001b[1;33m\u001b[0m\u001b[0m\n\u001b[0m",
      "\u001b[1;32mc:\\users\\harry\\dropbox (mit)\\code_ws_dropbox\\itj_ws\\integral_timber_joints\\src\\integral_timber_joints\\planning\\run.py\u001b[0m in \u001b[0;36mcompute_movements_for_beam_id\u001b[1;34m(client, robot, process, beam_id, args, options)\u001b[0m\n\u001b[0;32m    139\u001b[0m             \u001b[0mvisualize_movement_trajectory\u001b[0m\u001b[1;33m(\u001b[0m\u001b[0mclient\u001b[0m\u001b[1;33m,\u001b[0m \u001b[0mrobot\u001b[0m\u001b[1;33m,\u001b[0m \u001b[0mprocess\u001b[0m\u001b[1;33m,\u001b[0m \u001b[0mm\u001b[0m\u001b[1;33m,\u001b[0m \u001b[0mstep_sim\u001b[0m\u001b[1;33m=\u001b[0m\u001b[0margs\u001b[0m\u001b[1;33m.\u001b[0m\u001b[0mstep_sim\u001b[0m\u001b[1;33m)\u001b[0m\u001b[1;33m\u001b[0m\u001b[1;33m\u001b[0m\u001b[0m\n\u001b[0;32m    140\u001b[0m \u001b[1;33m\u001b[0m\u001b[0m\n\u001b[1;32m--> 141\u001b[1;33m     \u001b[1;32mif\u001b[0m \u001b[0margs\u001b[0m\u001b[1;33m.\u001b[0m\u001b[0mverbose\u001b[0m\u001b[1;33m:\u001b[0m\u001b[1;33m\u001b[0m\u001b[1;33m\u001b[0m\u001b[0m\n\u001b[0m\u001b[0;32m    142\u001b[0m         \u001b[0mnotify\u001b[0m\u001b[1;33m(\u001b[0m\u001b[1;34m'A plan has been found for beam id {}!'\u001b[0m\u001b[1;33m.\u001b[0m\u001b[0mformat\u001b[0m\u001b[1;33m(\u001b[0m\u001b[0mbeam_id\u001b[0m\u001b[1;33m)\u001b[0m\u001b[1;33m)\u001b[0m\u001b[1;33m\u001b[0m\u001b[1;33m\u001b[0m\u001b[0m\n\u001b[0;32m    143\u001b[0m     \u001b[1;32mreturn\u001b[0m \u001b[1;32mTrue\u001b[0m\u001b[1;33m\u001b[0m\u001b[1;33m\u001b[0m\u001b[0m\n",
      "\u001b[1;31mAttributeError\u001b[0m: 'PlanningArguments' object has no attribute 'verbose'"
     ]
    }
   ],
   "source": [
    "from integral_timber_joints.planning.run import compute_movements_for_beam_id\n",
    "\n",
    "beam_id = 'b0'\n",
    "# beam_id = process.get_beam_id_from_movement_id(args.id_only)\n",
    "compute_movements_for_beam_id(client, robot, process, beam_id, args, opti\n",
    "                              ons=options)"
   ]
  },
  {
   "cell_type": "markdown",
   "id": "proof-square",
   "metadata": {},
   "source": [
    "# Disconnect client"
   ]
  },
  {
   "cell_type": "code",
   "execution_count": 77,
   "id": "selective-market",
   "metadata": {},
   "outputs": [],
   "source": [
    "client.disconnect()"
   ]
  }
 ],
 "metadata": {
  "interpreter": {
   "hash": "e316c14abce5fba3fe9c4f8c619f8000a7b0c13889e51eb6196aed0ab3fd7ed0"
  },
  "kernelspec": {
   "display_name": "Python 3",
   "language": "python",
   "name": "python3"
  },
  "language_info": {
   "codemirror_mode": {
    "name": "ipython",
    "version": 3
   },
   "file_extension": ".py",
   "mimetype": "text/x-python",
   "name": "python",
   "nbconvert_exporter": "python",
   "pygments_lexer": "ipython3",
   "version": "3.7.9"
  }
 },
 "nbformat": 4,
 "nbformat_minor": 5
}
