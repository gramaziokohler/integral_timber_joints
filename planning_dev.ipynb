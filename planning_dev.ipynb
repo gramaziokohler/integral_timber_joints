{
 "cells": [
  {
   "cell_type": "code",
   "execution_count": 1,
   "id": "hybrid-exchange",
   "metadata": {},
   "outputs": [],
   "source": [
    "# https://ipython.org/ipython-doc/3/config/extensions/autoreload.html\n",
    "%load_ext autoreload\n",
    "%autoreload 2"
   ]
  },
  {
   "cell_type": "markdown",
   "id": "addressed-france",
   "metadata": {},
   "source": [
    "## Options"
   ]
  },
  {
   "cell_type": "code",
   "execution_count": 2,
   "id": "loaded-communist",
   "metadata": {},
   "outputs": [],
   "source": [
    "# parse options\n",
    "problem = 'pavilion_process.json'\n",
    "problem_subdir = 'results'\n",
    "\n",
    "recompute_action_states = False\n",
    "load_external_movements = False"
   ]
  },
  {
   "cell_type": "code",
   "execution_count": 3,
   "id": "behavioral-canon",
   "metadata": {},
   "outputs": [],
   "source": [
    "# generic planning options\n",
    "id_only = 'A273_M0' # None | 'A273_M0'\n",
    "free_motion_only = False"
   ]
  },
  {
   "cell_type": "code",
   "execution_count": 4,
   "id": "falling-chair",
   "metadata": {},
   "outputs": [],
   "source": [
    "# client options\n",
    "viewer = True\n",
    "diagnosis = False\n",
    "view_states = False\n",
    "watch = False\n",
    "step_sim = False\n",
    "\n",
    "disable_env = False\n",
    "reinit_tool = False"
   ]
  },
  {
   "cell_type": "markdown",
   "id": "illegal-swimming",
   "metadata": {},
   "source": [
    "## Parse process from json"
   ]
  },
  {
   "cell_type": "code",
   "execution_count": 5,
   "id": "ambient-consumer",
   "metadata": {},
   "outputs": [],
   "source": [
    "import os\n",
    "from termcolor import cprint\n",
    "import pybullet_planning as pp\n",
    "from integral_timber_joints.planning.parsing import parse_process, save_process_and_movements, get_process_path, save_process"
   ]
  },
  {
   "cell_type": "code",
   "execution_count": 6,
   "id": "spread-publicity",
   "metadata": {},
   "outputs": [
    {
     "name": "stdout",
     "output_type": "stream",
     "text": [
      "\u001b[34mProcess json parsed from c:\\users\\harry\\dropbox (mit)\\code_ws_dropbox\\itj_ws\\integral_timber_joints\\external\\itj_design_study\\210128_RemodelFredPavilion\\results\\pavilion_process.json\u001b[0m\n"
     ]
    }
   ],
   "source": [
    "process = parse_process(problem, subdir=problem_subdir)\n",
    "result_path = get_process_path(problem, subdir='results')\n",
    "if len(process.movements) == 0:\n",
    "    cprint('No movements found in process, trigger recompute actions.', 'red')\n",
    "    recompute_action_states = True\n",
    "if recompute_action_states:\n",
    "    cprint('Recomputing Actions and States', 'cyan')\n",
    "    recompute_action_states(process)"
   ]
  },
  {
   "cell_type": "code",
   "execution_count": 7,
   "id": "preliminary-breakdown",
   "metadata": {},
   "outputs": [
    {
     "name": "stdout",
     "output_type": "stream",
     "text": [
      "\u001b[36mLoading external movements from c:\\users\\harry\\dropbox (mit)\\code_ws_dropbox\\itj_ws\\integral_timber_joints\\external\\itj_design_study\\210128_RemodelFredPavilion\\results\u001b[0m\n"
     ]
    }
   ],
   "source": [
    "# force load external if only planning for the free motions\n",
    "load_external_movements = load_external_movements or free_motion_only or id_only is not None\n",
    "if load_external_movements:\n",
    "    ext_movement_path = os.path.dirname(result_path)\n",
    "    cprint('Loading external movements from {}'.format(ext_movement_path), 'cyan')\n",
    "    process.load_external_movements(ext_movement_path)\n",
    "    if recompute_action_states:\n",
    "        save_process(process, result_path)\n",
    "        cprint('Recomputed process saved to %s' % result_path, 'green')"
   ]
  },
  {
   "cell_type": "code",
   "execution_count": 12,
   "id": "romance-essex",
   "metadata": {},
   "outputs": [
    {
     "data": {
      "text/plain": [
       "JointTrajectoryPoint((21.532, -3.787, -3.522, -0.588, -0.517, -0.001, 0.436, 0.602, 0.138), (2, 2, 2, 0, 0, 0, 0, 0, 0), (0.000, 0.000, 0.000, 0.000, 0.000, 0.000, 0.000, 0.000, 0.000), (0.000, 0.000, 0.000, 0.000, 0.000, 0.000, 0.000, 0.000, 0.000), (0.000, 0.000, 0.000, 0.000, 0.000, 0.000, 0.000, 0.000, 0.000), Duration(10, 0))"
      ]
     },
     "execution_count": 12,
     "metadata": {},
     "output_type": "execute_result"
    }
   ],
   "source": [
    "process.movements[0].trajectory.points[10]"
   ]
  },
  {
   "cell_type": "code",
   "execution_count": 8,
   "id": "nasty-bangladesh",
   "metadata": {},
   "outputs": [],
   "source": [
    "# import os, json\n",
    "# from compas.utilities import DataDecoder\n",
    "\n",
    "# movement = process.movements[0]\n",
    "# movement_path = os.path.join(ext_movement_path, movement.filepath)\n",
    "# print(movement_path)\n",
    "# with open(movement_path, 'r') as f:\n",
    "#     parsed_data = json.load(f, cls=DataDecoder).data\n",
    "# #     dict_data = json.load(f)"
   ]
  },
  {
   "cell_type": "code",
   "execution_count": 9,
   "id": "unknown-deposit",
   "metadata": {},
   "outputs": [],
   "source": [
    "# jpt_data = dict_data['value']['trajectory']['value']['points'][0]"
   ]
  },
  {
   "cell_type": "markdown",
   "id": "wooden-enemy",
   "metadata": {},
   "source": [
    "## Start client"
   ]
  },
  {
   "cell_type": "code",
   "execution_count": 13,
   "id": "reasonable-lightweight",
   "metadata": {},
   "outputs": [],
   "source": [
    "from copy import deepcopy\n",
    "import compas\n",
    "\n",
    "current_state = compas.json_loads(compas.json_dumps(process.initial_state))"
   ]
  },
  {
   "cell_type": "code",
   "execution_count": 15,
   "id": "vietnamese-participation",
   "metadata": {},
   "outputs": [],
   "source": [
    "conf = process.initial_state['robot'].kinematic_config"
   ]
  },
  {
   "cell_type": "code",
   "execution_count": 16,
   "id": "precious-inspection",
   "metadata": {},
   "outputs": [],
   "source": [
    "from integral_timber_joints.planning.robot_setup import load_RFL_world\n",
    "from integral_timber_joints.planning.run import set_initial_state\n",
    "\n",
    "# * Connect to path planning backend and initialize robot parameters\n",
    "client, robot, _ = load_RFL_world(viewer=viewer or diagnosis or view_states or watch or step_sim, verbose=False)\n",
    "set_initial_state(client, robot, process, disable_env=disable_env, reinit_tool=reinit_tool)"
   ]
  },
  {
   "cell_type": "code",
   "execution_count": 16,
   "id": "processed-millennium",
   "metadata": {},
   "outputs": [],
   "source": [
    "pp.disconnect()"
   ]
  },
  {
   "cell_type": "code",
   "execution_count": 20,
   "id": "requested-collaboration",
   "metadata": {},
   "outputs": [
    {
     "data": {
      "text/plain": [
       "<integral_timber_joints.process.robot_clamp_assembly_process.RobotClampAssemblyProcess at 0x25e8b71dec8>"
      ]
     },
     "execution_count": 20,
     "metadata": {},
     "output_type": "execute_result"
    }
   ],
   "source": [
    "process"
   ]
  }
 ],
 "metadata": {
  "interpreter": {
   "hash": "e316c14abce5fba3fe9c4f8c619f8000a7b0c13889e51eb6196aed0ab3fd7ed0"
  },
  "kernelspec": {
   "display_name": "Python 3",
   "language": "python",
   "name": "python3"
  },
  "language_info": {
   "codemirror_mode": {
    "name": "ipython",
    "version": 3
   },
   "file_extension": ".py",
   "mimetype": "text/x-python",
   "name": "python",
   "nbconvert_exporter": "python",
   "pygments_lexer": "ipython3",
   "version": "3.7.9"
  }
 },
 "nbformat": 4,
 "nbformat_minor": 5
}
