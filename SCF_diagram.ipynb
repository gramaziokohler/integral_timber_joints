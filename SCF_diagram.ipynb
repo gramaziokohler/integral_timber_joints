{
 "cells": [
  {
   "cell_type": "code",
   "execution_count": 1,
   "id": "lyric-lounge",
   "metadata": {},
   "outputs": [],
   "source": [
    "# https://ipython.org/ipython-doc/3/config/extensions/autoreload.html\n",
    "%load_ext autoreload\n",
    "%autoreload 2"
   ]
  },
  {
   "cell_type": "markdown",
   "id": "selective-assembly",
   "metadata": {},
   "source": [
    "## Options"
   ]
  },
  {
   "cell_type": "code",
   "execution_count": 2,
   "id": "enabling-institute",
   "metadata": {},
   "outputs": [],
   "source": [
    "# parse options\n",
    "problem = 'twelve_pieces_process.json' # 'pavilion_process.json' # 'twelve_pieces_process.json'\n",
    "problem_subdir = 'results'\n",
    "\n",
    "recompute_action_states = False\n",
    "load_external_movements = False"
   ]
  },
  {
   "cell_type": "code",
   "execution_count": 3,
   "id": "individual-queensland",
   "metadata": {},
   "outputs": [],
   "source": [
    "from collections import namedtuple\n",
    "PlanningArguments = namedtuple('PlanningArguments', ['problem', 'viewer', 'debug', 'diagnosis', 'id_only', 'solve_mode', 'viz_upon_found', \n",
    "                                             'save_now', 'write', 'plan_impacted', 'watch', 'step_sim', 'verbose'])\n",
    "# args = PlanningArguments(problem, viewer, debug, diagnosis, id_only, solve_mode, viz_upon_found, save_now, write, plan_impacted, watch, step_sim, verbose)"
   ]
  },
  {
   "cell_type": "markdown",
   "id": "blocked-number",
   "metadata": {},
   "source": [
    "## Parse process from json"
   ]
  },
  {
   "cell_type": "code",
   "execution_count": 4,
   "id": "fiscal-inclusion",
   "metadata": {},
   "outputs": [
    {
     "name": "stderr",
     "output_type": "stream",
     "text": [
      "pybullet build time: May  8 2021 05:48:13\n"
     ]
    }
   ],
   "source": [
    "import os\n",
    "from termcolor import cprint\n",
    "import pybullet_planning as pp\n",
    "from integral_timber_joints.planning.parsing import parse_process, save_process_and_movements, get_process_path, save_process"
   ]
  },
  {
   "cell_type": "code",
   "execution_count": 9,
   "id": "pregnant-hometown",
   "metadata": {},
   "outputs": [
    {
     "name": "stdout",
     "output_type": "stream",
     "text": [
      "\u001b[34mProcess json parsed from /home/yijiangh/itj_ws/integral_timber_joints/external/itj_design_study/210128_RemodelFredPavilion/results/twelve_pieces_process.json\u001b[0m\n"
     ]
    }
   ],
   "source": [
    "process = parse_process(problem, subdir=problem_subdir)\n",
    "result_path = get_process_path(problem, subdir='results')\n",
    "if len(process.movements) == 0:\n",
    "    cprint('No movements found in process, trigger recompute actions.', 'red')\n",
    "    recompute_action_states = True\n",
    "if recompute_action_states:\n",
    "    cprint('Recomputing Actions and States', 'cyan')\n",
    "    recompute_action_states(process)"
   ]
  },
  {
   "cell_type": "code",
   "execution_count": 114,
   "id": "working-suicide",
   "metadata": {},
   "outputs": [
    {
     "name": "stdout",
     "output_type": "stream",
     "text": [
      "dict_keys(['nonlinear', 'linear_forward', 'linear_backward'])\n"
     ]
    }
   ],
   "source": [
    "# from collections import defaultdict\n",
    "import json\n",
    "\n",
    "# b4_runtime_data_No_TC_21-07-06_11-54-15.json\n",
    "file_name = 'b4_runtime_data_No_TC_21-07-06_11-54-15.json'# 'b1_runtime_data_w_TC_21-07-06_07-35-29.json'\n",
    "#'b4_runtime_data_No_TC_21-07-06_00-04-45.json' # 'b4_runtime_data_No_TC_21-07-05_19-59-42.json'\n",
    "\n",
    "runtime_data = {}\n",
    "with open('figs/{}'.format(file_name), 'r') as f:\n",
    "    runtime_data = json.load(f)\n",
    "\n",
    "print(runtime_data.keys())"
   ]
  },
  {
   "cell_type": "markdown",
   "id": "valid-blanket",
   "metadata": {},
   "source": [
    "# Diagram"
   ]
  },
  {
   "cell_type": "code",
   "execution_count": 115,
   "id": "sharp-active",
   "metadata": {},
   "outputs": [
    {
     "name": "stdout",
     "output_type": "stream",
     "text": [
      "====================\n",
      "#nonlinear-T#0:\n",
      "\u001b[32mTrue - BT 4 | time 296.28\u001b[0m\n",
      "---\n",
      "#nonlinear-T#1:\n",
      "\u001b[32mTrue - BT 12 | time 1076.30\u001b[0m\n",
      "---\n",
      "#nonlinear-T#2:\n",
      "\u001b[32mTrue - BT 4 | time 387.30\u001b[0m\n",
      "---\n",
      "#nonlinear-T#3:\n",
      "\u001b[32mTrue - BT 6 | time 555.71\u001b[0m\n",
      "---\n",
      "#nonlinear-T#4:\n",
      "\u001b[32mTrue - BT 5 | time 774.99\u001b[0m\n",
      "---\n",
      "#nonlinear-T#5:\n",
      "\u001b[32mTrue - BT 6 | time 399.69\u001b[0m\n",
      "---\n",
      "#nonlinear-T#6:\n",
      "\u001b[32mTrue - BT 2 | time 217.84\u001b[0m\n",
      "---\n",
      "#nonlinear-T#7:\n",
      "\u001b[32mTrue - BT 3 | time 193.87\u001b[0m\n",
      "---\n",
      "#nonlinear-T#8:\n",
      "\u001b[32mTrue - BT 2 | time 223.09\u001b[0m\n",
      "---\n",
      "#nonlinear-T#9:\n",
      "\u001b[32mTrue - BT 3 | time 144.71\u001b[0m\n",
      "---\n",
      "====================\n",
      "#linear_forward-T#0:\n",
      "\u001b[32mTrue - BT 8 | time 1000.14\u001b[0m\n",
      "---\n",
      "#linear_forward-T#1:\n",
      "\u001b[32mTrue - BT 3 | time 360.77\u001b[0m\n",
      "---\n",
      "#linear_forward-T#2:\n",
      "\u001b[32mTrue - BT 7 | time 771.66\u001b[0m\n",
      "---\n",
      "#linear_forward-T#3:\n",
      "\u001b[32mTrue - BT 6 | time 533.02\u001b[0m\n",
      "---\n",
      "#linear_forward-T#4:\n",
      "\u001b[32mTrue - BT 5 | time 982.31\u001b[0m\n",
      "---\n",
      "#linear_forward-T#5:\n",
      "\u001b[32mTrue - BT 14 | time 1699.39\u001b[0m\n",
      "---\n",
      "#linear_forward-T#6:\n",
      "\u001b[32mTrue - BT 2 | time 228.42\u001b[0m\n",
      "---\n",
      "#linear_forward-T#7:\n",
      "\u001b[32mTrue - BT 12 | time 1054.34\u001b[0m\n",
      "---\n",
      "#linear_forward-T#8:\n",
      "\u001b[32mTrue - BT 11 | time 1516.66\u001b[0m\n",
      "---\n",
      "#linear_forward-T#9:\n",
      "\u001b[32mTrue - BT 9 | time 1261.43\u001b[0m\n",
      "---\n",
      "====================\n",
      "#linear_backward-T#0:\n",
      "\u001b[32mTrue - BT 6 | time 627.31\u001b[0m\n",
      "---\n",
      "#linear_backward-T#1:\n",
      "\u001b[32mTrue - BT 8 | time 1116.05\u001b[0m\n",
      "---\n",
      "#linear_backward-T#2:\n",
      "\u001b[32mTrue - BT 7 | time 708.03\u001b[0m\n",
      "---\n",
      "#linear_backward-T#3:\n",
      "\u001b[32mTrue - BT 14 | time 1626.52\u001b[0m\n",
      "---\n",
      "#linear_backward-T#4:\n",
      "\u001b[32mTrue - BT 17 | time 1741.15\u001b[0m\n",
      "---\n",
      "#linear_backward-T#5:\n",
      "\u001b[32mTrue - BT 9 | time 1117.77\u001b[0m\n",
      "---\n",
      "#linear_backward-T#6:\n",
      "\u001b[32mTrue - BT 12 | time 1571.16\u001b[0m\n",
      "---\n",
      "#linear_backward-T#7:\n",
      "\u001b[31mFalse - BT 15 | time 1840.96\u001b[0m\n",
      "---\n",
      "#linear_backward-T#8:\n",
      "\u001b[31mFalse - BT 16 | time 1825.02\u001b[0m\n",
      "---\n",
      "#linear_backward-T#9:\n",
      "\u001b[31mFalse - BT 13 | time 1850.23\u001b[0m\n",
      "---\n"
     ]
    }
   ],
   "source": [
    "# ['nonlinear', 'linear_forward', 'linear_backward']\n",
    "for solve_mode_ in runtime_data:\n",
    "    print('='*20)\n",
    "    for i, tdata in runtime_data[solve_mode_].items():\n",
    "        print('#{}-T#{}:'.format(solve_mode_, i))\n",
    "        sc = any([d['success'] for di, d in tdata.items()])\n",
    "        \n",
    "        total_runtime = []\n",
    "        for i, trial_data in tdata.items():\n",
    "            trial_profiles = trial_data['profiles']\n",
    "            runtime_per_move = [sum(trial_profiles[mid]['plan_time']) for mid in trial_profiles]\n",
    "            total_runtime.append(sum(runtime_per_move))\n",
    "        tdata['total_runtime'] = sum(total_runtime)\n",
    "        cprint('{} - BT {} | time {:.2f}'.format(sc, len(tdata), sum(total_runtime)), 'green' if sc else 'red')\n",
    "        print('---')"
   ]
  },
  {
   "cell_type": "code",
   "execution_count": 116,
   "id": "emerging-humor",
   "metadata": {
    "scrolled": true
   },
   "outputs": [
    {
     "data": {
      "image/png": "[encoded data removed]",
      "text/plain": [
       "<Figure size 432x288 with 1 Axes>"
      ]
     },
     "metadata": {
      "needs_background": "light"
     },
     "output_type": "display_data"
    }
   ],
   "source": [
    "import matplotlib.pyplot as plt\n",
    "import numpy as np\n",
    "import numpy as np\n",
    "\n",
    "timeout = 600*3\n",
    "\n",
    "fig, ax = plt.subplots()\n",
    "markers = ['o', '^', (5, 0)]\n",
    "mcolors = ['g', 'r', 'b']\n",
    "for marker, mcolor, (solve_m, solve_mode_data) in zip(markers, mcolors, runtime_data.items()):\n",
    "    x = range(len(solve_mode_data))\n",
    "    runtime_per_trial = [solve_mode_data[str(at)]['total_runtime'] for at in x]\n",
    "    num_bts = [len(solve_mode_data[str(at)])-1 for at in x]\n",
    "    plt.scatter(x, runtime_per_trial, marker=marker, c=mcolor, label=solve_m)\n",
    "    for i in x:\n",
    "        plt.annotate(num_bts[i], (i, runtime_per_trial[i]))\n",
    "\n",
    "plt.plot(x, [timeout for _ in x], c='r', label='timeout')\n",
    "        \n",
    "ax.set_xlabel('random trials')\n",
    "ax.set_ylabel('runtime(s)')\n",
    "# ax.set_title('Runtime by sovl')\n",
    "leg = ax.legend(loc='upper right')\n",
    "\n",
    "plt.draw() # Draw the figure so you can find the positon of the legend. \n",
    "\n",
    "# Get the bounding box of the original legend\n",
    "bb = leg.get_bbox_to_anchor().transformed(ax.transAxes.inverted())\n",
    "\n",
    "# Change to location of the legend. \n",
    "xOffset = 0.4\n",
    "bb.x0 += xOffset\n",
    "bb.x1 += xOffset\n",
    "leg.set_bbox_to_anchor(bb, transform = ax.transAxes)\n",
    "\n",
    "import os\n",
    "plt.savefig(os.path.join('figs',file_name.split('.json')[0]+'.png'))\n",
    "\n",
    "plt.show()"
   ]
  },
  {
   "cell_type": "markdown",
   "id": "80fcbde6",
   "metadata": {},
   "source": [
    "# Detailed diagram"
   ]
  },
  {
   "cell_type": "code",
   "execution_count": 31,
   "id": "ranking-moses",
   "metadata": {},
   "outputs": [],
   "source": [
    "from plotly.subplots import make_subplots\n",
    "import plotly.graph_objects as go\n",
    "from integral_timber_joints.process import RoboticFreeMovement, RoboticLinearMovement, RoboticClampSyncLinearMovement\n",
    "\n",
    "# solve_mode_ = 'linear_forward' # linear_backward | linear_forward | nonlinear\n",
    "beam_id = file_name.split('_runtime_data')[0]\n",
    "\n",
    "# total_rows = 0\n",
    "# for i, d in runtime_data[solve_mode_].items():\n",
    "#     total_rows += len(d)+1\n",
    "max_inner_loop_displayed = 6\n",
    "\n",
    "for solve_mode_ in runtime_data:\n",
    "    for attempt_i, s_rdata in runtime_data[solve_mode_].items():\n",
    "        if 'total_runtime' in s_rdata:\n",
    "            del s_rdata['total_runtime']\n",
    "        if len(s_rdata) > max_inner_loop_displayed:\n",
    "            num_rows = max_inner_loop_displayed+1\n",
    "            half = int(max_inner_loop_displayed/2)\n",
    "            selected_inners = list(range(0,half)) + list(range(len(s_rdata)-half,len(s_rdata)))\n",
    "        else:\n",
    "            num_rows = len(s_rdata)+1\n",
    "            selected_inners = list(range(len(s_rdata)))\n",
    "\n",
    "        fig = make_subplots(rows=num_rows, cols=2)\n",
    "        success = any([d['success'] for di, d in s_rdata.items()])\n",
    "        total_runtime = []\n",
    "        failed_m_id = []\n",
    "        for i in s_rdata.keys():\n",
    "            trial_data = s_rdata[i]\n",
    "            trial_profiles = trial_data['profiles']\n",
    "            mid_keys = sorted(trial_profiles.keys(), key=int)\n",
    "            runtime_per_move = [sum(trial_profiles[mid]['plan_time']) for mid in mid_keys]\n",
    "            total_runtime.append(sum(runtime_per_move))\n",
    "\n",
    "            for mid in mid_keys:\n",
    "                if not any(trial_profiles[mid]['plan_success']):\n",
    "                    movement = process.get_movement_by_movement_id(trial_profiles[mid]['movement_id'][0])\n",
    "                    m_color = '#ff1b6b' if isinstance(movement, RoboticFreeMovement) else '#45caff'\n",
    "                    failed_m_id.append((mid, movement.short_summary, m_color))\n",
    "                    break\n",
    "            else:\n",
    "                failed_m_id.append((-1, 'success!', '#00ff87'))\n",
    "\n",
    "            if i in selected_inners or int(i) in selected_inners:\n",
    "                success_colors = ['#99C24D' if any(trial_profiles[mid]['plan_success']) else '#F18F01' for mid in mid_keys]\n",
    "                row_id = selected_inners.index(int(i))+1\n",
    "                fig.append_trace(go.Scatter(x=mid_keys,\n",
    "                                        y=runtime_per_move,\n",
    "                                        mode='markers',\n",
    "                                        marker_color=success_colors,\n",
    "                                        text=[process.get_movement_by_movement_id(trial_profiles[mid]['movement_id'][0]).short_summary \\\n",
    "                                              for mid in mid_keys], # hover text goes here\n",
    "                                        name='#{}-feasibility'.format(i),\n",
    "                                        ),\n",
    "                              row=row_id, col=1\n",
    "                            )\n",
    "\n",
    "                fig.append_trace(go.Scatter(x=mid_keys,\n",
    "                                                y=runtime_per_move,\n",
    "                                                mode='markers',\n",
    "                                                    marker=dict(\n",
    "                                                    size=5,\n",
    "                                                    color=[trial_profiles[mid]['sample_order'][0] for mid in mid_keys], #set color equal to a variable\n",
    "                                                    colorscale='Viridis', # one of plotly colorscales\n",
    "                                                    showscale=True\n",
    "                                                ),\n",
    "                                                text=['S#{}-{}'.format(trial_profiles[mid]['sample_order'][0], process.get_movement_by_movement_id(trial_profiles[mid]['movement_id'][0]).short_summary) \\\n",
    "                                                      for mid in mid_keys], # hover text goes here\n",
    "                                                name='#{}-sample order'.format(i),),\n",
    "                              row=row_id, col=2\n",
    "                                )\n",
    "                if row_id == 1:\n",
    "                    fig.update_xaxes(title_text=\"m_id\",row=row_id, col=1)\n",
    "                    fig.update_yaxes(title_text=\"runtime(s)\",row=row_id, col=1)\n",
    "\n",
    "        fig.append_trace(go.Scatter(x=list(range(len(s_rdata))),y=total_runtime), \n",
    "                         row=num_rows, col=1)\n",
    "        fig.update_xaxes(title_text=\"trials\",row=num_rows, col=1)\n",
    "        fig.update_yaxes(title_text=\"runtime(s)\",row=num_rows, col=1)\n",
    "\n",
    "        fig.append_trace(go.Scatter(x=list(range(len(failed_m_id))),y=[int(tt[0]) for tt in failed_m_id],\n",
    "                                    mode='markers',\n",
    "                                    marker_color=[tt[2] for tt in failed_m_id],\n",
    "                                    text=[tt[1] for tt in failed_m_id],\n",
    "                                   ), row=num_rows, col=2)\n",
    "        fig.update_xaxes(title_text=\"trials\",row=num_rows, col=2)\n",
    "        fig.update_yaxes(title_text=\"failed_movement_id\",row=num_rows, col=2)\n",
    "\n",
    "\n",
    "        title = \"figs/{}-{}-trail_{}_success-{}_BT-{}_time-{:.1f}\".format(beam_id, solve_mode_, \n",
    "            attempt_i, success, len(s_rdata), sum(total_runtime))\n",
    "        fig.update_layout(title=title)\n",
    "        fig.write_html(title + \".html\")\n",
    "# fig.show()"
   ]
  },
  {
   "cell_type": "code",
   "execution_count": 41,
   "id": "inappropriate-vienna",
   "metadata": {},
   "outputs": [
    {
     "data": {
      "text/plain": [
       "207"
      ]
     },
     "execution_count": 41,
     "metadata": {},
     "output_type": "execute_result"
    }
   ],
   "source": [
    "len(failed_m_id)"
   ]
  },
  {
   "cell_type": "markdown",
   "id": "empty-heavy",
   "metadata": {},
   "source": [
    "# Save runtime data"
   ]
  },
  {
   "cell_type": "code",
   "execution_count": 106,
   "id": "funded-toddler",
   "metadata": {},
   "outputs": [
    {
     "data": {
      "text/plain": [
       "dict_keys(['linear', 'nonlinear'])"
      ]
     },
     "execution_count": 106,
     "metadata": {},
     "output_type": "execute_result"
    }
   ],
   "source": [
    "runtime_data.keys()"
   ]
  },
  {
   "cell_type": "markdown",
   "id": "homeless-grant",
   "metadata": {},
   "source": [
    "## Start client"
   ]
  },
  {
   "cell_type": "code",
   "execution_count": 10,
   "id": "painted-gospel",
   "metadata": {
    "collapsed": true
   },
   "outputs": [
    {
     "name": "stdout",
     "output_type": "stream",
     "text": [
      "argv[0]=\n",
      "b3Warning[examples/Importers/ImportURDFDemo/BulletUrdfImporter.cpp,126]:\n",
      "No inertial data for link, using mass=1, localinertiadiagonal = 1,1,1, identity local inertial frameb3Warning[examples/Importers/ImportURDFDemo/BulletUrdfImporter.cpp,126]:\n",
      "x_railb3Warning[examples/Importers/ImportURDFDemo/BulletUrdfImporter.cpp,126]:\n",
      "No inertial data for link, using mass=1, localinertiadiagonal = 1,1,1, identity local inertial frameb3Warning[examples/Importers/ImportURDFDemo/BulletUrdfImporter.cpp,126]:\n",
      "robot11_tool0b3Warning[examples/Importers/ImportURDFDemo/BulletUrdfImporter.cpp,126]:\n",
      "No inertial data for link, using mass=1, localinertiadiagonal = 1,1,1, identity local inertial frameb3Warning[examples/Importers/ImportURDFDemo/BulletUrdfImporter.cpp,126]:\n",
      "robot12_tool0b3Warning[examples/Importers/ImportURDFDemo/BulletUrdfImporter.cpp,126]:\n",
      "No inertial data for link, using mass=1, localinertiadiagonal = 1,1,1, identity local inertial frameb3Warning[examples/Importers/ImportURDFDemo/BulletUrdfImporter.cpp,126]:\n",
      "robot21_tool0b3Warning[examples/Importers/ImportURDFDemo/BulletUrdfImporter.cpp,126]:\n",
      "No inertial data for link, using mass=1, localinertiadiagonal = 1,1,1, identity local inertial frameb3Warning[examples/Importers/ImportURDFDemo/BulletUrdfImporter.cpp,126]:\n",
      "robot22_tool0b3Warning[examples/Importers/ImportURDFDemo/BulletUrdfImporter.cpp,126]:\n",
      "No inertial data for link, using mass=1, localinertiadiagonal = 1,1,1, identity local inertial frameb3Warning[examples/Importers/ImportURDFDemo/BulletUrdfImporter.cpp,126]:\n",
      "gripper_baseb3Warning[examples/Importers/ImportURDFDemo/BulletUrdfImporter.cpp,126]:\n",
      "No inertial data for link, using mass=1, localinertiadiagonal = 1,1,1, identity local inertial frameb3Warning[examples/Importers/ImportURDFDemo/BulletUrdfImporter.cpp,126]:\n",
      "gripper_jawb3Warning[examples/Importers/ImportURDFDemo/BulletUrdfImporter.cpp,126]:\n",
      "No inertial data for link, using mass=1, localinertiadiagonal = 1,1,1, identity local inertial frameb3Warning[examples/Importers/ImportURDFDemo/BulletUrdfImporter.cpp,126]:\n",
      "clamp_jawb3Warning[examples/Importers/ImportURDFDemo/BulletUrdfImporter.cpp,126]:\n",
      "No inertial data for link, using mass=1, localinertiadiagonal = 1,1,1, identity local inertial frameb3Warning[examples/Importers/ImportURDFDemo/BulletUrdfImporter.cpp,126]:\n",
      "gripper_baseb3Warning[examples/Importers/ImportURDFDemo/BulletUrdfImporter.cpp,126]:\n",
      "No inertial data for link, using mass=1, localinertiadiagonal = 1,1,1, identity local inertial frameb3Warning[examples/Importers/ImportURDFDemo/BulletUrdfImporter.cpp,126]:\n",
      "gripper_jawb3Warning[examples/Importers/ImportURDFDemo/BulletUrdfImporter.cpp,126]:\n",
      "No inertial data for link, using mass=1, localinertiadiagonal = 1,1,1, identity local inertial frameb3Warning[examples/Importers/ImportURDFDemo/BulletUrdfImporter.cpp,126]:\n",
      "clamp_jawb3Warning[examples/Importers/ImportURDFDemo/BulletUrdfImporter.cpp,126]:\n",
      "No inertial data for link, using mass=1, localinertiadiagonal = 1,1,1, identity local inertial frameb3Warning[examples/Importers/ImportURDFDemo/BulletUrdfImporter.cpp,126]:\n",
      "gripper_baseb3Warning[examples/Importers/ImportURDFDemo/BulletUrdfImporter.cpp,126]:\n",
      "No inertial data for link, using mass=1, localinertiadiagonal = 1,1,1, identity local inertial frameb3Warning[examples/Importers/ImportURDFDemo/BulletUrdfImporter.cpp,126]:\n",
      "gripper_jawb3Warning[examples/Importers/ImportURDFDemo/BulletUrdfImporter.cpp,126]:\n",
      "No inertial data for link, using mass=1, localinertiadiagonal = 1,1,1, identity local inertial frameb3Warning[examples/Importers/ImportURDFDemo/BulletUrdfImporter.cpp,126]:\n",
      "clamp_jawb3Warning[examples/Importers/ImportURDFDemo/BulletUrdfImporter.cpp,126]:\n",
      "No inertial data for link, using mass=1, localinertiadiagonal = 1,1,1, identity local inertial frameb3Warning[examples/Importers/ImportURDFDemo/BulletUrdfImporter.cpp,126]:\n",
      "gripper_baseb3Warning[examples/Importers/ImportURDFDemo/BulletUrdfImporter.cpp,126]:\n",
      "No inertial data for link, using mass=1, localinertiadiagonal = 1,1,1, identity local inertial frameb3Warning[examples/Importers/ImportURDFDemo/BulletUrdfImporter.cpp,126]:\n",
      "gripper_jawb3Warning[examples/Importers/ImportURDFDemo/BulletUrdfImporter.cpp,126]:\n",
      "No inertial data for link, using mass=1, localinertiadiagonal = 1,1,1, identity local inertial frameb3Warning[examples/Importers/ImportURDFDemo/BulletUrdfImporter.cpp,126]:\n",
      "clamp_jawb3Warning[examples/Importers/ImportURDFDemo/BulletUrdfImporter.cpp,126]:\n",
      "No inertial data for link, using mass=1, localinertiadiagonal = 1,1,1, identity local inertial frameb3Warning[examples/Importers/ImportURDFDemo/BulletUrdfImporter.cpp,126]:\n",
      "gripper_baseb3Warning[examples/Importers/ImportURDFDemo/BulletUrdfImporter.cpp,126]:\n",
      "No inertial data for link, using mass=1, localinertiadiagonal = 1,1,1, identity local inertial frameb3Warning[examples/Importers/ImportURDFDemo/BulletUrdfImporter.cpp,126]:\n",
      "gripper_jaw_lb3Warning[examples/Importers/ImportURDFDemo/BulletUrdfImporter.cpp,126]:\n",
      "No inertial data for link, using mass=1, localinertiadiagonal = 1,1,1, identity local inertial frameb3Warning[examples/Importers/ImportURDFDemo/BulletUrdfImporter.cpp,126]:\n",
      "gripper_jaw_rb3Warning[examples/Importers/ImportURDFDemo/BulletUrdfImporter.cpp,126]:\n",
      "No inertial data for link, using mass=1, localinertiadiagonal = 1,1,1, identity local inertial frameb3Warning[examples/Importers/ImportURDFDemo/BulletUrdfImporter.cpp,126]:\n",
      "gripper_baseb3Warning[examples/Importers/ImportURDFDemo/BulletUrdfImporter.cpp,126]:\n",
      "No inertial data for link, using mass=1, localinertiadiagonal = 1,1,1, identity local inertial frameb3Warning[examples/Importers/ImportURDFDemo/BulletUrdfImporter.cpp,126]:\n",
      "gripper_jaw_lb3Warning[examples/Importers/ImportURDFDemo/BulletUrdfImporter.cpp,126]:\n",
      "No inertial data for link, using mass=1, localinertiadiagonal = 1,1,1, identity local inertial frameb3Warning[examples/Importers/ImportURDFDemo/BulletUrdfImporter.cpp,126]:\n",
      "gripper_jaw_rb3Warning[examples/Importers/ImportURDFDemo/BulletUrdfImporter.cpp,126]:\n",
      "No inertial data for link, using mass=1, localinertiadiagonal = 1,1,1, identity local inertial frameb3Warning[examples/Importers/ImportURDFDemo/BulletUrdfImporter.cpp,126]:\n",
      "toolchanger_base"
     ]
    }
   ],
   "source": [
    "from integral_timber_joints.planning.robot_setup import load_RFL_world\n",
    "from integral_timber_joints.planning.run import set_initial_state\n",
    "\n",
    "# * Connect to path planning backend and initialize robot parameters\n",
    "# viewer or diagnosis or view_states or watch or step_sim,\n",
    "client, robot, _ = load_RFL_world(viewer=False, verbose=False)\n",
    "set_initial_state(client, robot, process, disable_env=disable_env, reinit_tool=False)"
   ]
  },
  {
   "cell_type": "code",
   "execution_count": 32,
   "id": "medieval-pregnancy",
   "metadata": {},
   "outputs": [],
   "source": [
    "client.disconnect()"
   ]
  },
  {
   "cell_type": "markdown",
   "id": "engaged-jumping",
   "metadata": {},
   "source": [
    "# Visualize traj"
   ]
  },
  {
   "cell_type": "code",
   "execution_count": 17,
   "id": "organized-portugal",
   "metadata": {},
   "outputs": [
    {
     "name": "stdout",
     "output_type": "stream",
     "text": [
      "===\n",
      "Viz:\u001b[0m\n",
      "\u001b[33mNo traj found for RoboticLinearMovement(#A43_M2, Linear Approach 2 of 2 to place CL3 ('c2') in storage., traj 0)\n",
      " -- has_start_conf False, has_end_conf True\u001b[0m\n",
      "Press enter to continue\n"
     ]
    }
   ],
   "source": [
    "from integral_timber_joints.planning.state import set_state\n",
    "from integral_timber_joints.planning.visualization import visualize_movement_trajectory\n",
    "\n",
    "altered_ms = [process.get_movement_by_movement_id('A43_M2')]\n",
    "set_state(client, robot, process, process.initial_state)\n",
    "for altered_m in altered_ms:\n",
    "    visualize_movement_trajectory(client, robot, process, altered_m, step_sim=False, step_duration=0.05)"
   ]
  },
  {
   "cell_type": "markdown",
   "id": "graduate-middle",
   "metadata": {},
   "source": [
    "# Disconnect client"
   ]
  },
  {
   "cell_type": "code",
   "execution_count": 48,
   "id": "junior-standing",
   "metadata": {
    "collapsed": true
   },
   "outputs": [],
   "source": [
    "client.disconnect()"
   ]
  },
  {
   "cell_type": "markdown",
   "id": "civil-partner",
   "metadata": {},
   "source": [
    "# Plan only one movement"
   ]
  },
  {
   "cell_type": "code",
   "execution_count": 29,
   "id": "ambient-calculator",
   "metadata": {},
   "outputs": [],
   "source": [
    "# if id_only:\n",
    "#     beam_id = process.get_beam_id_from_movement_id(id_only)\n",
    "#     process.get_movement_summary_by_beam_id(beam_id)"
   ]
  },
  {
   "cell_type": "code",
   "execution_count": 39,
   "id": "experienced-industry",
   "metadata": {},
   "outputs": [
    {
     "name": "stdout",
     "output_type": "stream",
     "text": [
      "\u001b[36mRoboticLinearMovement(#A2_M1, Linear Advance to Final Frame of Beam ('b0'), traj 1)\u001b[0m\n",
      "\u001b[33mend conf FK inconsistent (0.00005 m) with given current frame in end state.\u001b[0m\n",
      "\u001b[33mBoth start/end confs are pre-specified, problem might be too stiff to be solved.\u001b[0m\n",
      "\u001b[34mOne-sided Cartesian planning : start conf set, forward mode\u001b[0m\n",
      "\tcartesian trial #0\n",
      "\u001b[32mPlan found by IterativeIK! After 0 path failure (by IterativeIK) over 1 samples.\u001b[0m\n"
     ]
    },
    {
     "data": {
      "text/plain": [
       "True"
      ]
     },
     "execution_count": 39,
     "metadata": {},
     "output_type": "execute_result"
    }
   ],
   "source": [
    "from integral_timber_joints.planning.stream import compute_free_movement, compute_linear_movement\n",
    "from integral_timber_joints.planning.solve import compute_movement\n",
    "\n",
    "chosen_m = process.get_movement_by_movement_id(id_only)\n",
    "compute_movement(client, robot, process, chosen_m, options=lm_options, diagnosis=diagnosis)"
   ]
  },
  {
   "cell_type": "code",
   "execution_count": 40,
   "id": "british-conflict",
   "metadata": {},
   "outputs": [
    {
     "name": "stdout",
     "output_type": "stream",
     "text": [
      "===\n",
      "Viz:\u001b[0m\n",
      "\u001b[32mRoboticLinearMovement(#A2_M1, Linear Advance to Final Frame of Beam ('b0'), traj 1)\u001b[0m\n"
     ]
    },
    {
     "name": "stdin",
     "output_type": "stream",
     "text": [
      "Step conf. \n",
      "Step conf. \n",
      "Step conf. \n",
      "Step conf. \n",
      "Step conf. \n",
      "Step conf. \n",
      "Step conf. \n",
      "End state. \n"
     ]
    }
   ],
   "source": [
    "from integral_timber_joints.planning.visualization import visualize_movement_trajectory\n",
    "\n",
    "with pp.WorldSaver():\n",
    "    visualize_movement_trajectory(client, robot, process, chosen_m, step_sim=True)"
   ]
  },
  {
   "cell_type": "markdown",
   "id": "611ee458",
   "metadata": {},
   "source": [
    "# Debug"
   ]
  },
  {
   "cell_type": "code",
   "execution_count": 114,
   "id": "b9b72647",
   "metadata": {},
   "outputs": [
    {
     "name": "stdout",
     "output_type": "stream",
     "text": [
      "{\n",
      "    \"point\": [\n",
      "        16365.955352783203,\n",
      "        5373.7616539001465,\n",
      "        1185.3845119476318\n",
      "    ],\n",
      "    \"xaxis\": [\n",
      "        -0.2580321229101535,\n",
      "        0.6278875467781188,\n",
      "        0.7342864918731894\n",
      "    ],\n",
      "    \"yaxis\": [\n",
      "        -0.9661363350844321,\n",
      "        -0.1677526279329609,\n",
      "        -0.19606029136775213\n",
      "    ]\n",
      "}\n",
      "{\n",
      "    \"point\": [\n",
      "        16365.955352783203,\n",
      "        5373.7616539001465,\n",
      "        1185.3845119476318\n",
      "    ],\n",
      "    \"xaxis\": [\n",
      "        -0.25803212291015387,\n",
      "        0.6278875467781186,\n",
      "        0.7342864918731893\n",
      "    ],\n",
      "    \"yaxis\": [\n",
      "        -0.9661363350844319,\n",
      "        -0.16775262793296133,\n",
      "        -0.19606029136775227\n",
      "    ]\n",
      "}\n"
     ]
    }
   ],
   "source": [
    "prev_m = process.get_movement_by_movement_id('A40_M6')\n",
    "start_state = process.get_movement_start_state(prev_m)\n",
    "end_state = process.get_movement_end_state(prev_m)\n",
    "\n",
    "# v = end_state['robot'].current_frame.point - start_state['robot'].current_frame.point\n",
    "# list(v)\n",
    "set_state(client, robot, process, end_state)\n",
    "print(end_state['tool_changer'].current_frame)\n",
    "print(client.get_object_frame('^tool_changer$', scale=1e3)[75])"
   ]
  },
  {
   "cell_type": "code",
   "execution_count": 109,
   "id": "7581482b",
   "metadata": {},
   "outputs": [
    {
     "name": "stdout",
     "output_type": "stream",
     "text": [
      "{\n",
      "    \"point\": [\n",
      "        16365.961074829102,\n",
      "        5373.770236968994,\n",
      "        1185.3852272033691\n",
      "    ],\n",
      "    \"xaxis\": [\n",
      "        -0.2580321229101535,\n",
      "        0.6278875467781188,\n",
      "        0.7342864918731894\n",
      "    ],\n",
      "    \"yaxis\": [\n",
      "        -0.9661363350844321,\n",
      "        -0.1677526279329609,\n",
      "        -0.19606029136775213\n",
      "    ]\n",
      "}\n"
     ]
    }
   ],
   "source": [
    "client.set_robot_configuration(robot, end_state['robot'].kinematic_config)\n",
    "print(client.get_object_frame('^tool_changer$', scale=1e3)[75])"
   ]
  },
  {
   "cell_type": "code",
   "execution_count": 116,
   "id": "4ed45e2a",
   "metadata": {},
   "outputs": [
    {
     "data": {
      "text/plain": [
       "False"
      ]
     },
     "execution_count": 116,
     "metadata": {},
     "output_type": "execute_result"
    }
   ],
   "source": [
    "from compas_fab_pychoreo.backend_features.pychoreo_configuration_collision_checker import PyChoreoConfigurationCollisionChecker\n",
    "\n",
    "set_state(client, robot, process, end_state, options=options)\n",
    "# set_state(client, robot, process, start_state, options=options)\n",
    "pychore_collision_fn = PyChoreoConfigurationCollisionChecker(client)\n",
    "# end_state['robot'].kinematic_config\n",
    "options['diagnosis'] = True\n",
    "pychore_collision_fn.check_collisions(robot, prev_m.trajectory.points[-2], options=options)"
   ]
  },
  {
   "cell_type": "code",
   "execution_count": 79,
   "id": "57735de6",
   "metadata": {},
   "outputs": [],
   "source": [
    "tc_body = client.pychoreo_attachments['tool_changer']"
   ]
  },
  {
   "cell_type": "code",
   "execution_count": 83,
   "id": "57c600cd",
   "metadata": {},
   "outputs": [
    {
     "data": {
      "text/plain": [
       "Frame(Point(0.016, 0.005, 0.001), Vector(-0.258, 0.628, 0.734), Vector(-0.966, -0.168, -0.196))"
      ]
     },
     "execution_count": 83,
     "metadata": {},
     "output_type": "execute_result"
    }
   ],
   "source": [
    "from compas_fab_pychoreo.conversions import pose_from_frame, frame_from_pose\n",
    "\n",
    "frame_from_pose(pp.get_pose(75))"
   ]
  },
  {
   "cell_type": "code",
   "execution_count": 75,
   "id": "f4815816",
   "metadata": {},
   "outputs": [
    {
     "data": {
      "text/plain": [
       "{75: Frame(Point(16.366, 5.374, 1.185), Vector(-0.258, 0.628, 0.734), Vector(-0.966, -0.168, -0.196))}"
      ]
     },
     "execution_count": 75,
     "metadata": {},
     "output_type": "execute_result"
    }
   ],
   "source": [
    "client.get_object_frame('^tool_changer$')"
   ]
  },
  {
   "cell_type": "code",
   "execution_count": 44,
   "id": "49ab4eef",
   "metadata": {},
   "outputs": [
    {
     "name": "stdout",
     "output_type": "stream",
     "text": [
      "State: current frame: {\n",
      "    \"point\": [\n",
      "        16365.989685058594,\n",
      "        5373.808860778809,\n",
      "        1185.4075193405151\n",
      "    ],\n",
      "    \"xaxis\": [\n",
      "        -0.25802939931448104,\n",
      "        0.6277901217809272,\n",
      "        0.7343707456616834\n",
      "    ],\n",
      "    \"yaxis\": [\n",
      "        -0.9661370648091927,\n",
      "        -0.16763997964096333,\n",
      "        -0.1961530250285612\n",
      "    ]\n",
      "} | config: JointTrajectoryPoint((15.468, -4.130, -2.020, 2.159, -0.587, -2.805, 0.492, -2.039, 0.908), (2, 2, 2, 0, 0, 0, 0, 0, 0), (0.000, 0.000, 0.000, 0.000, 0.000, 0.000, 0.000, 0.000, 0.000), (0.000, 0.000, 0.000, 0.000, 0.000, 0.000, 0.000, 0.000, 0.000), (0.000, 0.000, 0.000, 0.000, 0.000, 0.000, 0.000, 0.000, 0.000), Duration(11, 0)) | attached to robot: False\n",
      "State: current frame: {\n",
      "    \"point\": [\n",
      "        16366.001562499872,\n",
      "        5373.822840010225,\n",
      "        1185.408652972277\n",
      "    ],\n",
      "    \"xaxis\": [\n",
      "        -0.2580290176609404,\n",
      "        0.6277482599146081,\n",
      "        0.7344066640622972\n",
      "    ],\n",
      "    \"yaxis\": [\n",
      "        -0.9661371673033442,\n",
      "        -0.16765452393882985,\n",
      "        -0.19614008911467898\n",
      "    ]\n",
      "} | config: None | attached to robot: True\n"
     ]
    }
   ],
   "source": [
    "print(end_state['robot'])\n",
    "print(end_state['tool_changer'])"
   ]
  }
 ],
 "metadata": {
  "interpreter": {
   "hash": "e316c14abce5fba3fe9c4f8c619f8000a7b0c13889e51eb6196aed0ab3fd7ed0"
  },
  "kernelspec": {
   "display_name": "Python 3 (ipykernel)",
   "language": "python",
   "name": "python3"
  },
  "language_info": {
   "codemirror_mode": {
    "name": "ipython",
    "version": 3
   },
   "file_extension": ".py",
   "mimetype": "text/x-python",
   "name": "python",
   "nbconvert_exporter": "python",
   "pygments_lexer": "ipython3",
   "version": "3.8.10"
  }
 },
 "nbformat": 4,
 "nbformat_minor": 5
}
