{
 "cells": [
  {
   "cell_type": "code",
   "execution_count": 1,
   "id": "lyric-lounge",
   "metadata": {},
   "outputs": [],
   "source": [
    "# https://ipython.org/ipython-doc/3/config/extensions/autoreload.html\n",
    "%load_ext autoreload\n",
    "%autoreload 2"
   ]
  },
  {
   "cell_type": "markdown",
   "id": "selective-assembly",
   "metadata": {},
   "source": [
    "## Options"
   ]
  },
  {
   "cell_type": "code",
   "execution_count": 2,
   "id": "enabling-institute",
   "metadata": {},
   "outputs": [],
   "source": [
    "# parse options\n",
    "problem = 'twelve_pieces_process.json' # 'pavilion_process.json' # 'twelve_pieces_process.json'\n",
    "problem_subdir = 'results'\n",
    "\n",
    "recompute_action_states = False\n",
    "load_external_movements = False"
   ]
  },
  {
   "cell_type": "code",
   "execution_count": 3,
   "id": "individual-queensland",
   "metadata": {},
   "outputs": [],
   "source": [
    "from collections import namedtuple\n",
    "PlanningArguments = namedtuple('PlanningArguments', ['problem', 'viewer', 'debug', 'diagnosis', 'id_only', 'solve_mode', 'viz_upon_found', \n",
    "                                             'save_now', 'write', 'plan_impacted', 'watch', 'step_sim', 'verbose'])\n",
    "# args = PlanningArguments(problem, viewer, debug, diagnosis, id_only, solve_mode, viz_upon_found, save_now, write, plan_impacted, watch, step_sim, verbose)"
   ]
  },
  {
   "cell_type": "markdown",
   "id": "blocked-number",
   "metadata": {},
   "source": [
    "## Parse process from json"
   ]
  },
  {
   "cell_type": "code",
   "execution_count": 4,
   "id": "fiscal-inclusion",
   "metadata": {},
   "outputs": [],
   "source": [
    "import os\n",
    "from termcolor import cprint\n",
    "import pybullet_planning as pp\n",
    "from integral_timber_joints.planning.parsing import parse_process, save_process_and_movements, get_process_path, save_process"
   ]
  },
  {
   "cell_type": "code",
   "execution_count": 5,
   "id": "pregnant-hometown",
   "metadata": {},
   "outputs": [
    {
     "name": "stdout",
     "output_type": "stream",
     "text": [
      "\u001b[34mProcess json parsed from c:\\users\\harry\\dropbox (mit)\\code_ws_dropbox\\itj_ws\\integral_timber_joints\\external\\itj_design_study\\210128_RemodelFredPavilion\\results\\twelve_pieces_process.json\u001b[0m\n"
     ]
    }
   ],
   "source": [
    "process = parse_process(problem, subdir=problem_subdir)\n",
    "result_path = get_process_path(problem, subdir='results')\n",
    "if len(process.movements) == 0:\n",
    "    cprint('No movements found in process, trigger recompute actions.', 'red')\n",
    "    recompute_action_states = True\n",
    "if recompute_action_states:\n",
    "    cprint('Recomputing Actions and States', 'cyan')\n",
    "    recompute_action_states(process)"
   ]
  },
  {
   "cell_type": "markdown",
   "id": "grateful-biotechnology",
   "metadata": {},
   "source": [
    "## read jsons"
   ]
  },
  {
   "cell_type": "code",
   "execution_count": 147,
   "id": "working-suicide",
   "metadata": {},
   "outputs": [
    {
     "name": "stdout",
     "output_type": "stream",
     "text": [
      "dict_keys(['nonlinear', 'linear_forward', 'linear_backward'])\n",
      "dict_keys(['nonlinear', 'linear_forward', 'linear_backward'])\n"
     ]
    }
   ],
   "source": [
    "# from collections import defaultdict\n",
    "import json\n",
    "\n",
    "# file_name = 'b4_runtime_data_w_TC_final_nonlinear.json'\n",
    "notc_file_name = 'b4_runtime_data_No_TC_final_all.json'\n",
    "tc_file_name = 'b4_runtime_data_w_TC_nonlinear_40_trials.json'\n",
    "tc_file_name2 = 'b4_runtime_data_w_TC_final_linear.json'\n",
    "\n",
    "# b4_runtime_data_No_TC_21-07-06_11-54-15.json, on-going\n",
    "# 'b1_runtime_data_w_TC_21-07-06_07-35-29.json'\n",
    "#'b4_runtime_data_No_TC_21-07-06_00-04-45.json', 600 timeout, before bug fixed\n",
    "# 'b4_runtime_data_No_TC_21-07-05_19-59-42.json' 1800 timeout, before bug fixed\n",
    "\n",
    "runtime_data = {}\n",
    "with open('figs/{}'.format(notc_file_name), 'r') as f:\n",
    "    runtime_data['notc'] = json.load(f)\n",
    "\n",
    "runtime_data['tc'] = {}\n",
    "with open('figs/{}'.format(tc_file_name), 'r') as f:\n",
    "    runtime_data['tc'].update(json.load(f))\n",
    "with open('figs/{}'.format(tc_file_name2), 'r') as f:\n",
    "    runtime_data['tc'].update(json.load(f))\n",
    "    \n",
    "print(runtime_data['notc'].keys())\n",
    "print(runtime_data['tc'].keys())"
   ]
  },
  {
   "cell_type": "markdown",
   "id": "documented-difficulty",
   "metadata": {},
   "source": [
    "## B4-Histogram"
   ]
  },
  {
   "cell_type": "code",
   "execution_count": 150,
   "id": "respected-frequency",
   "metadata": {},
   "outputs": [],
   "source": [
    "from collections import defaultdict\n",
    "\n",
    "# aggregate all success/failure trials\n",
    "agg_data = {'notc':{}, 'tc':{}}\n",
    "\n",
    "for tc_flag in runtime_data:\n",
    "    for solve_mode_ in runtime_data[tc_flag]:\n",
    "        agg_data[tc_flag][solve_mode_] = defaultdict(list)\n",
    "        cnt = 0\n",
    "        for outer_trial_i, tdata in runtime_data[tc_flag][solve_mode_].items():\n",
    "            for inner_trial_j_data in tdata.values():\n",
    "                runtime_per_move = [sum(inner_trial_j_data['profiles'][mid]['plan_time']) \\\n",
    "                                    for mid in inner_trial_j_data['profiles']]\n",
    "                runtime_key = 'success' if inner_trial_j_data['success'] else 'failure'\n",
    "                agg_data[tc_flag][solve_mode_]['history'].append((inner_trial_j_data['success'], sum(runtime_per_move)))\n",
    "#                 if cnt < sample_num:\n",
    "                agg_data[tc_flag][solve_mode_][runtime_key].append(sum(runtime_per_move))\n",
    "                cnt += 1"
   ]
  },
  {
   "cell_type": "code",
   "execution_count": 155,
   "id": "solar-pizza",
   "metadata": {},
   "outputs": [
    {
     "data": {
      "text/plain": [
       "{'nonlinear': defaultdict(list,\n",
       "             {'history': [(True, 182.9128851890564)],\n",
       "              'success': [182.9128851890564]}),\n",
       " 'linear_forward': defaultdict(list,\n",
       "             {'history': [(False, 1.4861249923706055),\n",
       "               (False, 5.537113428115845),\n",
       "               (False, 1.4229331016540527),\n",
       "               (False, 2.1483442783355713),\n",
       "               (False, 5.864860773086548),\n",
       "               (False, 1.0401570796966553),\n",
       "               (False, 3.3117785453796387),\n",
       "               (False, 1.4371240139007568),\n",
       "               (False, 2.8882992267608643),\n",
       "               (False, 2.8859190940856934),\n",
       "               (False, 2.4731199741363525),\n",
       "               (False, 2.9374303817749023),\n",
       "               (False, 1.6488878726959229),\n",
       "               (False, 3.9049298763275146),\n",
       "               (False, 2.405937671661377),\n",
       "               (False, 1.67311429977417),\n",
       "               (False, 1.3038687705993652),\n",
       "               (False, 2.2520127296447754),\n",
       "               (False, 1.429178237915039),\n",
       "               (False, 4.403965950012207),\n",
       "               (False, 9.249791860580444),\n",
       "               (False, 5.543383598327637),\n",
       "               (False, 1.7742500305175781),\n",
       "               (False, 2.079315423965454),\n",
       "               (False, 2.689171314239502),\n",
       "               (False, 3.8058509826660156),\n",
       "               (False, 2.5222418308258057),\n",
       "               (False, 2.4325006008148193),\n",
       "               (False, 14.086869716644287),\n",
       "               (False, 4.969989776611328),\n",
       "               (False, 2.1697216033935547),\n",
       "               (False, 3.012960195541382),\n",
       "               (False, 3.9776206016540527),\n",
       "               (False, 1.0798587799072266),\n",
       "               (False, 2.243952751159668),\n",
       "               (False, 2.677459478378296),\n",
       "               (False, 2.8890867233276367)],\n",
       "              'failure': [1.4861249923706055,\n",
       "               5.537113428115845,\n",
       "               1.4229331016540527,\n",
       "               2.1483442783355713,\n",
       "               5.864860773086548,\n",
       "               1.0401570796966553,\n",
       "               3.3117785453796387,\n",
       "               1.4371240139007568,\n",
       "               2.8882992267608643,\n",
       "               2.8859190940856934,\n",
       "               2.4731199741363525,\n",
       "               2.9374303817749023,\n",
       "               1.6488878726959229,\n",
       "               3.9049298763275146,\n",
       "               2.405937671661377,\n",
       "               1.67311429977417,\n",
       "               1.3038687705993652,\n",
       "               2.2520127296447754,\n",
       "               1.429178237915039,\n",
       "               4.403965950012207,\n",
       "               9.249791860580444,\n",
       "               5.543383598327637,\n",
       "               1.7742500305175781,\n",
       "               2.079315423965454,\n",
       "               2.689171314239502,\n",
       "               3.8058509826660156,\n",
       "               2.5222418308258057,\n",
       "               2.4325006008148193,\n",
       "               14.086869716644287,\n",
       "               4.969989776611328,\n",
       "               2.1697216033935547,\n",
       "               3.012960195541382,\n",
       "               3.9776206016540527,\n",
       "               1.0798587799072266,\n",
       "               2.243952751159668,\n",
       "               2.677459478378296,\n",
       "               2.8890867233276367]}),\n",
       " 'linear_backward': defaultdict(list,\n",
       "             {'history': [(False, 10.236725568771362),\n",
       "               (False, 16.204026699066162),\n",
       "               (False, 8.848733186721802),\n",
       "               (False, 6.057477712631226),\n",
       "               (False, 6.895261287689209),\n",
       "               (False, 72.84336948394775)],\n",
       "              'failure': [10.236725568771362,\n",
       "               16.204026699066162,\n",
       "               8.848733186721802,\n",
       "               6.057477712631226,\n",
       "               6.895261287689209,\n",
       "               72.84336948394775]})}"
      ]
     },
     "execution_count": 155,
     "metadata": {},
     "output_type": "execute_result"
    }
   ],
   "source": [
    "agg_data['tc']"
   ]
  },
  {
   "cell_type": "code",
   "execution_count": 151,
   "id": "automatic-representative",
   "metadata": {},
   "outputs": [
    {
     "data": {
      "text/plain": [
       "<matplotlib.collections.PathCollection at 0x2ddb94f69c8>"
      ]
     },
     "execution_count": 151,
     "metadata": {},
     "output_type": "execute_result"
    },
    {
     "data": {
      "image/png": "[encoded data removed]",
      "text/plain": [
       "<Figure size 432x288 with 1 Axes>"
      ]
     },
     "metadata": {
      "needs_background": "light"
     },
     "output_type": "display_data"
    }
   ],
   "source": [
    "fig, ax = plt.subplots()\n",
    "history = agg_data['notc']['nonlinear']['history'][:37]\n",
    "\n",
    "ax.plot(range(len(history)), [h[1] for h in history])\n",
    "ax.scatter(range(len(history)), [h[1] for h in history], c=['g' if h[0] else 'r' for h in history])"
   ]
  },
  {
   "cell_type": "code",
   "execution_count": 154,
   "id": "seven-domain",
   "metadata": {},
   "outputs": [
    {
     "data": {
      "text/plain": [
       "<matplotlib.collections.PathCollection at 0x2ddbae5f048>"
      ]
     },
     "execution_count": 154,
     "metadata": {},
     "output_type": "execute_result"
    },
    {
     "data": {
      "image/png": "[encoded data removed]",
      "text/plain": [
       "<Figure size 432x288 with 1 Axes>"
      ]
     },
     "metadata": {
      "needs_background": "light"
     },
     "output_type": "display_data"
    }
   ],
   "source": [
    "fig, ax = plt.subplots()\n",
    "history = agg_data['tc']['nonlinear']['history']\n",
    "\n",
    "ax.plot(range(len(history)), [h[1] for h in history])\n",
    "ax.scatter(range(len(history)), [h[1] for h in history], c=['g' if h[0] else 'r' for h in history])"
   ]
  },
  {
   "cell_type": "code",
   "execution_count": 153,
   "id": "acceptable-wheat",
   "metadata": {},
   "outputs": [
    {
     "data": {
      "text/plain": [
       "1"
      ]
     },
     "execution_count": 153,
     "metadata": {},
     "output_type": "execute_result"
    }
   ],
   "source": [
    "len(history)"
   ]
  },
  {
   "cell_type": "code",
   "execution_count": 143,
   "id": "academic-landscape",
   "metadata": {},
   "outputs": [
    {
     "data": {
      "text/plain": [
       "<matplotlib.collections.PathCollection at 0x2ddb832b7c8>"
      ]
     },
     "execution_count": 143,
     "metadata": {},
     "output_type": "execute_result"
    },
    {
     "data": {
      "image/png": "[encoded data removed]",
      "text/plain": [
       "<Figure size 432x288 with 1 Axes>"
      ]
     },
     "metadata": {
      "needs_background": "light"
     },
     "output_type": "display_data"
    }
   ],
   "source": [
    "fig, ax = plt.subplots()\n",
    "history = agg_data['notc']['linear_forward']['history'][:37]\n",
    "\n",
    "ax.plot(range(len(history)), [h[1] for h in history])\n",
    "ax.scatter(range(len(history)), [h[1] for h in history], c=['g' if h[0] else 'r' for h in history])"
   ]
  },
  {
   "cell_type": "code",
   "execution_count": 106,
   "id": "tribal-sailing",
   "metadata": {},
   "outputs": [
    {
     "data": {
      "text/plain": [
       "<matplotlib.collections.PathCollection at 0x2ddbb3a2c88>"
      ]
     },
     "execution_count": 106,
     "metadata": {},
     "output_type": "execute_result"
    },
    {
     "data": {
      "image/png": "[encoded data removed]",
      "text/plain": [
       "<Figure size 432x288 with 1 Axes>"
      ]
     },
     "metadata": {
      "needs_background": "light"
     },
     "output_type": "display_data"
    }
   ],
   "source": [
    "fig, ax = plt.subplots()\n",
    "history = agg_data['notc']['linear_backward']['history'][0:37]\n",
    "\n",
    "ax.plot(range(len(history)), [h[1] for h in history])\n",
    "ax.scatter(range(len(history)), [h[1] for h in history], c=['g' if h[0] else 'r' for h in history])"
   ]
  },
  {
   "cell_type": "code",
   "execution_count": 145,
   "id": "close-jonathan",
   "metadata": {},
   "outputs": [
    {
     "name": "stderr",
     "output_type": "stream",
     "text": [
      "C:\\Users\\harry\\miniconda3\\envs\\itj\\lib\\site-packages\\numpy\\core\\fromnumeric.py:3373: RuntimeWarning: Mean of empty slice.\n",
      "  out=out, **kwargs)\n",
      "C:\\Users\\harry\\miniconda3\\envs\\itj\\lib\\site-packages\\numpy\\core\\_methods.py:234: RuntimeWarning: Degrees of freedom <= 0 for slice\n",
      "  keepdims=keepdims)\n"
     ]
    }
   ],
   "source": [
    "import numpy as np\n",
    "total_attempts = 37\n",
    "plot_data = {'notc':{}, 'tc':{}}\n",
    "for tc_flag in agg_data:\n",
    "    for solve_mode, solve_data in agg_data[tc_flag].items():\n",
    "        history = solve_data['history'][0:total_attempts]\n",
    "        success_runs = [h[1] for h in history if h[0]]\n",
    "        failed_runs = [h[1] for h in history if not h[0]]\n",
    "        \n",
    "        success_rate = len(success_runs) / len(history)\n",
    "        success_mean = np.mean(success_runs)\n",
    "        success_std = np.std(success_runs)\n",
    "        failure_mean = np.mean(failed_runs)\n",
    "        failure_std = np.std(failed_runs)\n",
    "\n",
    "        plot_data[tc_flag][solve_mode] = {}\n",
    "        plot_data[tc_flag][solve_mode]['total_attempts'] = len(history)\n",
    "        plot_data[tc_flag][solve_mode]['success_rate'] = success_rate\n",
    "        plot_data[tc_flag][solve_mode]['success_mean'] = success_mean\n",
    "        plot_data[tc_flag][solve_mode]['success_std'] = success_std\n",
    "        plot_data[tc_flag][solve_mode]['failure_mean'] = failure_mean\n",
    "        plot_data[tc_flag][solve_mode]['failure_std'] = failure_std"
   ]
  },
  {
   "cell_type": "code",
   "execution_count": 146,
   "id": "leading-infrastructure",
   "metadata": {},
   "outputs": [
    {
     "data": {
      "text/plain": [
       "{'notc': {'nonlinear': {'total_attempts': 37,\n",
       "   'success_rate': 0.2702702702702703,\n",
       "   'success_mean': 183.31190173625947,\n",
       "   'success_std': 35.2723796260672,\n",
       "   'failure_mean': 90.24654189745586,\n",
       "   'failure_std': 88.65378468129425},\n",
       "  'linear_forward': {'total_attempts': 37,\n",
       "   'success_rate': 0.16216216216216217,\n",
       "   'success_mean': 221.33476622899374,\n",
       "   'success_std': 87.35759033402068,\n",
       "   'failure_mean': 129.6541915170608,\n",
       "   'failure_std': 86.24958915260008},\n",
       "  'linear_backward': {'total_attempts': 37,\n",
       "   'success_rate': 0.10810810810810811,\n",
       "   'success_mean': 203.89131754636765,\n",
       "   'success_std': 64.14935681392863,\n",
       "   'failure_mean': 120.56947146040021,\n",
       "   'failure_std': 91.88949656435535}},\n",
       " 'tc': {'nonlinear': {'total_attempts': 21,\n",
       "   'success_rate': 0.47619047619047616,\n",
       "   'success_mean': 133.52202301025392,\n",
       "   'success_std': 44.3144416599896,\n",
       "   'failure_mean': 106.44118872555819,\n",
       "   'failure_std': 76.87354286266297},\n",
       "  'linear_forward': {'total_attempts': 37,\n",
       "   'success_rate': 0.0,\n",
       "   'success_mean': nan,\n",
       "   'success_std': nan,\n",
       "   'failure_mean': 3.2340304207157446,\n",
       "   'failure_std': 2.4353125664485455},\n",
       "  'linear_backward': {'total_attempts': 6,\n",
       "   'success_rate': 0.0,\n",
       "   'success_mean': nan,\n",
       "   'success_std': nan,\n",
       "   'failure_mean': 20.18093232313792,\n",
       "   'failure_std': 23.778264151311244}}}"
      ]
     },
     "execution_count": 146,
     "metadata": {},
     "output_type": "execute_result"
    }
   ],
   "source": [
    "plot_data"
   ]
  },
  {
   "cell_type": "code",
   "execution_count": 121,
   "id": "formed-rocket",
   "metadata": {},
   "outputs": [
    {
     "data": {
      "text/plain": [
       "[81.08108108108108, 48.64864864864865, 32.432432432432435]"
      ]
     },
     "execution_count": 121,
     "metadata": {},
     "output_type": "execute_result"
    }
   ],
   "source": [
    "[pp_data[s]['success_rate']*s_height for s in pp_data]"
   ]
  },
  {
   "cell_type": "code",
   "execution_count": 123,
   "id": "relative-river",
   "metadata": {},
   "outputs": [
    {
     "data": {
      "text/plain": [
       "[218.9189189189189, 251.35135135135135, 267.56756756756755]"
      ]
     },
     "execution_count": 123,
     "metadata": {},
     "output_type": "execute_result"
    }
   ],
   "source": [
    "[(1-pp_data[s]['success_rate'])*s_height for s in pp_data]"
   ]
  },
  {
   "cell_type": "code",
   "execution_count": 137,
   "id": "organic-supervisor",
   "metadata": {},
   "outputs": [
    {
     "data": {
      "image/png": "[encoded data removed]",
      "text/plain": [
       "<Figure size 432x288 with 1 Axes>"
      ]
     },
     "metadata": {
      "needs_background": "light"
     },
     "output_type": "display_data"
    }
   ],
   "source": [
    "import matplotlib.pyplot as plt\n",
    "import numpy as np\n",
    "\n",
    "pp_data = plot_data['notc']\n",
    "x = np.arange(len(pp_data))  # the label locations\n",
    "width = 0.3  # the width of the bars\n",
    "success_green = '#06d6a0'\n",
    "failure_red = '#ef476f'\n",
    "\n",
    "fig, ax = plt.subplots()\n",
    "\n",
    "s_height = 300\n",
    "rate_x = x - width\n",
    "rate_alpha = 0.2\n",
    "\n",
    "success_heights = [(pp_data[s]['success_rate'])*s_height for s in pp_data]\n",
    "failed_heights = [(1-pp_data[s]['success_rate'])*s_height for s in pp_data]\n",
    "rects1_1 = ax.bar(rate_x, success_heights, width, color=success_green, alpha=rate_alpha)\n",
    "rects1_2 = ax.bar(rate_x, failed_heights, width, bottom=success_heights, color=failure_red, alpha=rate_alpha)\n",
    "\n",
    "rects2 = ax.bar(x - 0,     [pp_data[s]['success_mean'] for s in pp_data], width, \n",
    "                yerr=[pp_data[s]['success_std'] for s in pp_data], label='success runtime', \n",
    "                color=success_green, ecolor='black', capsize=4)\n",
    "\n",
    "rects3 = ax.bar(x + width, [pp_data[s]['failure_mean'] for s in pp_data], width, \n",
    "                yerr=[pp_data[s]['failure_std'] for s in pp_data], label='failure runtime', \n",
    "                color=failure_red, ecolor='black', capsize=4)\n",
    "\n",
    "# Add some text for labels, title and custom x-axis tick labels, etc.\n",
    "ax.set_ylabel('runtime')\n",
    "ax.set_xticks(x)\n",
    "ax.set_xticklabels(pp_data)\n",
    "ax.legend()\n",
    "ax.set_title('Runtime results for Beam4, without Taught Configuration constraint over 40 trails')\n",
    "# average time to obtain a successful result\n",
    "\n",
    "ax.bar_label(rects1_1, labels=['{:.1f}%'.format(pp_data[s]['success_rate']*100) for s in pp_data], \n",
    "             label_type='center') #padding=3)\n",
    "ax.bar_label(rects1_2, labels=['{:.1f}%'.format((1-pp_data[s]['success_rate'])*100) for s in pp_data], \n",
    "             label_type='center') #padding=3)\n",
    "\n",
    "fig.tight_layout()\n",
    "# all: comparison between linear and nonlinear planning b4's all movements (xx robot movements)\n",
    "# a: success rate, b: runtime for each attempt, c: average runtime until success\n",
    "plt.show()"
   ]
  },
  {
   "cell_type": "code",
   "execution_count": 138,
   "id": "female-latin",
   "metadata": {},
   "outputs": [
    {
     "data": {
      "image/png": "[encoded data removed]",
      "text/plain": [
       "<Figure size 432x288 with 1 Axes>"
      ]
     },
     "metadata": {
      "needs_background": "light"
     },
     "output_type": "display_data"
    }
   ],
   "source": [
    "import matplotlib.pyplot as plt\n",
    "import numpy as np\n",
    "\n",
    "pp_data = plot_data['tc']\n",
    "x = np.arange(len(pp_data))  # the label locations\n",
    "width = 0.3  # the width of the bars\n",
    "success_green = '#06d6a0'\n",
    "failure_red = '#ef476f'\n",
    "\n",
    "fig, ax = plt.subplots()\n",
    "\n",
    "s_height = 300\n",
    "rate_x = x - width\n",
    "rate_alpha = 0.2\n",
    "\n",
    "success_heights = [(pp_data[s]['success_rate'])*s_height for s in pp_data]\n",
    "failed_heights = [(1-pp_data[s]['success_rate'])*s_height for s in pp_data]\n",
    "rects1_1 = ax.bar(rate_x, success_heights, width, color=success_green, alpha=rate_alpha)\n",
    "rects1_2 = ax.bar(rate_x, failed_heights, width, bottom=success_heights, color=failure_red, alpha=rate_alpha)\n",
    "\n",
    "rects2 = ax.bar(x - 0,     [pp_data[s]['success_mean'] for s in pp_data], width, \n",
    "                yerr=[pp_data[s]['success_std'] for s in pp_data], label='success runtime', \n",
    "                color=success_green, ecolor='black', capsize=4)\n",
    "\n",
    "rects3 = ax.bar(x + width, [pp_data[s]['failure_mean'] for s in pp_data], width, \n",
    "                yerr=[pp_data[s]['failure_std'] for s in pp_data], label='failure runtime', \n",
    "                color=failure_red, ecolor='black', capsize=4)\n",
    "\n",
    "# Add some text for labels, title and custom x-axis tick labels, etc.\n",
    "ax.set_ylabel('runtime')\n",
    "ax.set_xticks(x)\n",
    "ax.set_xticklabels(pp_data)\n",
    "ax.legend()\n",
    "ax.set_title('Runtime results for Beam4, with Taught Configuration constraint over 40 trails')\n",
    "\n",
    "ax.bar_label(rects1_1, labels=['{:.1f}%'.format(pp_data[s]['success_rate']*100) for s in pp_data], \n",
    "             label_type='center') #padding=3)\n",
    "ax.bar_label(rects1_2, labels=['{:.1f}%'.format((1-pp_data[s]['success_rate'])*100) for s in pp_data], \n",
    "             label_type='center') #padding=3)\n",
    "\n",
    "fig.tight_layout()\n",
    "\n",
    "plt.show()"
   ]
  },
  {
   "cell_type": "code",
   "execution_count": 58,
   "id": "assisted-spirit",
   "metadata": {},
   "outputs": [
    {
     "data": {
      "text/plain": [
       "[0.2702702702702703,\n",
       " 0.14925373134328357,\n",
       " 0.06542056074766354,\n",
       " 0.47619047619047616,\n",
       " 0.0,\n",
       " 0.0]"
      ]
     },
     "execution_count": 58,
     "metadata": {},
     "output_type": "execute_result"
    }
   ],
   "source": [
    "success_rates"
   ]
  },
  {
   "cell_type": "code",
   "execution_count": 34,
   "id": "armed-disclosure",
   "metadata": {},
   "outputs": [
    {
     "data": {
      "image/png": "[encoded data removed]",
      "text/plain": [
       "<Figure size 432x288 with 1 Axes>"
      ]
     },
     "metadata": {
      "needs_background": "light"
     },
     "output_type": "display_data"
    }
   ],
   "source": [
    "import matplotlib.pyplot as plt\n",
    "import numpy as np\n",
    "\n",
    "timeout = 600*3\n",
    "\n",
    "fig, ax = plt.subplots()\n",
    "data_summary = {}\n",
    "for solve_mode, solve_mode_data in runtime_data.items():\n",
    "    x = range(len(solve_mode_data))\n",
    "    runtime_per_trial = []\n",
    "    for outer_trial_data in solve_mode_data.values():\n",
    "        runtime_per_inner = []\n",
    "        for inner_trial_j_data in outer_trial_data.values():\n",
    "            runtime_per_inner.append(sum([sum(inner_trial_j_data['profiles'][mid]['plan_time']) \\\n",
    "                                          for mid in inner_trial_j_data['profiles']]))\n",
    "        runtime_per_trial.append(sum(runtime_per_inner))\n",
    "    num_bts = [len(solve_mode_data[str(at)])-1 for at in x]\n",
    "    data_summary[solve_mode] = (np.average(runtime_per_trial), runtime_per_trial, num_bts)\n",
    "\n",
    "width = 0.35  # the width of the bars\n",
    "x_pos = np.arange(len(data_summary))\n",
    "bars = ax.bar(x_pos, [d[0] for _, d in data_summary.items()], width, align='center', zorder=1)\n",
    "\n",
    "# scatter points\n",
    "for x, rdata in zip(x_pos, data_summary.values()):\n",
    "    inner_runtimes = rdata[1]\n",
    "    ax.scatter([x for _ in inner_runtimes], inner_runtimes, c='red', s=2.0, zorder=2) # label\n",
    "    for t, bt in zip(inner_runtimes, rdata[2]):\n",
    "        plt.annotate(bt, (x, t))\n",
    "\n",
    "ax.plot(x_pos, [timeout for _ in x_pos], c='r', dashes=[6, 2], label='timeout', zorder=2)\n",
    "\n",
    "leg = ax.legend(loc='right')\n",
    "ax.set_xticks(x_pos)\n",
    "ax.set_xticklabels(data_summary)\n",
    "ax.set_ylabel('runtime (s)')\n",
    "\n",
    "# import os\n",
    "# plt.savefig(os.path.join('figs',file_name.split('.json')[0]+'_hist.png'))\n",
    "fig.tight_layout()\n",
    "\n",
    "plt.show()"
   ]
  },
  {
   "cell_type": "markdown",
   "id": "enabling-maine",
   "metadata": {},
   "source": [
    "# All beam scatter plot"
   ]
  },
  {
   "cell_type": "code",
   "execution_count": 65,
   "id": "little-magic",
   "metadata": {},
   "outputs": [
    {
     "name": "stdout",
     "output_type": "stream",
     "text": [
      "dict_keys(['b0', 'b1', 'b2', 'b3', 'b4', 'b5', 'b6', 'b7', 'b8', 'b9', 'b10', 'b11', 'b12', 'b13', 'b14', 'b15', 'b16', 'b17', 'b18', 'b19', 'b20', 'b21', 'b22', 'b23', 'b24', 'b26', 'b27', 'b28', 'b29', 'b30', 'b31', 'b32', 'b33', 'b34', 'b35', 'b36', 'b37', 'b38', 'b39'])\n"
     ]
    }
   ],
   "source": [
    "# from collections import defaultdict\n",
    "import json\n",
    "\n",
    "file_names = {'b{}'.format(bid) : 'b{}_runtime_data_w_TC_{}.json'.format(bid, '21-07-06_23-04-03') \\\n",
    "              for bid in list(range(0,25)) + list(range(26,32))}\n",
    "file_names.update(\n",
    "    {'b{}'.format(bid) : 'b{}_runtime_data_w_TC_{}.json'.format(bid, '21-07-07_07-55-05') for bid in range(32,40)}\n",
    ")\n",
    "\n",
    "all_runtime_data = {}\n",
    "for bid, fn in file_names.items():\n",
    "    with open('figs/{}'.format(fn), 'r') as f:\n",
    "        all_runtime_data[bid] = json.load(f)\n",
    "\n",
    "print(all_runtime_data.keys())"
   ]
  },
  {
   "cell_type": "code",
   "execution_count": 66,
   "id": "relevant-turkish",
   "metadata": {},
   "outputs": [
    {
     "data": {
      "text/plain": [
       "dict_keys(['0'])"
      ]
     },
     "execution_count": 66,
     "metadata": {},
     "output_type": "execute_result"
    }
   ],
   "source": [
    "all_runtime_data['b1']['nonlinear'].keys()"
   ]
  },
  {
   "cell_type": "code",
   "execution_count": 67,
   "id": "plain-foster",
   "metadata": {},
   "outputs": [
    {
     "name": "stdout",
     "output_type": "stream",
     "text": [
      "====================\n",
      "b0 | #nonlinear-T#0:\n",
      "\u001b[32m- True - BT 2 | time 22.86\u001b[0m\n",
      "---\n",
      "====================\n",
      "b1 | #nonlinear-T#0:\n",
      "\u001b[32m- True - BT 2 | time 13.85\u001b[0m\n",
      "---\n",
      "====================\n",
      "b2 | #nonlinear-T#0:\n",
      "\u001b[32m- True - BT 2 | time 163.00\u001b[0m\n",
      "---\n",
      "====================\n",
      "b3 | #nonlinear-T#0:\n",
      "\u001b[31m- False - BT 3 | time 78.48\u001b[0m\n",
      "---\n",
      "====================\n",
      "b4 | #nonlinear-T#0:\n",
      "\u001b[31m- False - BT 9 | time 1271.01\u001b[0m\n",
      "---\n",
      "====================\n",
      "b5 | #nonlinear-T#0:\n",
      "\u001b[32m- True - BT 2 | time 58.98\u001b[0m\n",
      "---\n",
      "====================\n",
      "b6 | #nonlinear-T#0:\n",
      "\u001b[31m- False - BT 11 | time 1827.63\u001b[0m\n",
      "---\n",
      "====================\n",
      "b7 | #nonlinear-T#0:\n",
      "\u001b[32m- True - BT 2 | time 11.03\u001b[0m\n",
      "---\n",
      "====================\n",
      "b8 | #nonlinear-T#0:\n",
      "\u001b[31m- False - BT 4 | time 382.68\u001b[0m\n",
      "---\n",
      "====================\n",
      "b9 | #nonlinear-T#0:\n",
      "\u001b[31m- False - BT 3 | time 95.90\u001b[0m\n",
      "---\n",
      "====================\n",
      "b10 | #nonlinear-T#0:\n",
      "\u001b[31m- False - BT 4 | time 392.30\u001b[0m\n",
      "---\n",
      "====================\n",
      "b11 | #nonlinear-T#0:\n",
      "\u001b[32m- True - BT 2 | time 171.90\u001b[0m\n",
      "---\n",
      "====================\n",
      "b12 | #nonlinear-T#0:\n",
      "\u001b[32m- True - BT 2 | time 129.33\u001b[0m\n",
      "---\n",
      "====================\n",
      "b13 | #nonlinear-T#0:\n",
      "\u001b[31m- False - BT 11 | time 1552.85\u001b[0m\n",
      "---\n",
      "====================\n",
      "b14 | #nonlinear-T#0:\n",
      "\u001b[31m- False - BT 3 | time 175.17\u001b[0m\n",
      "---\n",
      "====================\n",
      "b15 | #nonlinear-T#0:\n",
      "\u001b[31m- False - BT 6 | time 380.87\u001b[0m\n",
      "---\n",
      "====================\n",
      "b16 | #nonlinear-T#0:\n",
      "\u001b[31m- False - BT 4 | time 530.10\u001b[0m\n",
      "---\n",
      "====================\n",
      "b17 | #nonlinear-T#0:\n",
      "\u001b[31m- False - BT 3 | time 99.48\u001b[0m\n",
      "---\n",
      "====================\n",
      "b18 | #nonlinear-T#0:\n",
      "\u001b[32m- True - BT 2 | time 79.31\u001b[0m\n",
      "---\n",
      "====================\n",
      "b19 | #nonlinear-T#0:\n",
      "\u001b[32m- True - BT 2 | time 19.87\u001b[0m\n",
      "---\n",
      "====================\n",
      "b20 | #nonlinear-T#0:\n",
      "\u001b[32m- True - BT 2 | time 159.99\u001b[0m\n",
      "---\n",
      "====================\n",
      "b21 | #nonlinear-T#0:\n",
      "\u001b[32m- True - BT 2 | time 31.12\u001b[0m\n",
      "---\n",
      "====================\n",
      "b22 | #nonlinear-T#0:\n",
      "\u001b[31m- False - BT 3 | time 77.90\u001b[0m\n",
      "---\n",
      "====================\n",
      "b23 | #nonlinear-T#0:\n",
      "\u001b[32m- True - BT 2 | time 61.55\u001b[0m\n",
      "---\n",
      "====================\n",
      "b24 | #nonlinear-T#0:\n",
      "\u001b[31m- False - BT 4 | time 339.08\u001b[0m\n",
      "---\n",
      "====================\n",
      "b26 | #nonlinear-T#0:\n",
      "\u001b[31m- False - BT 3 | time 190.71\u001b[0m\n",
      "---\n",
      "====================\n",
      "b27 | #nonlinear-T#0:\n",
      "\u001b[32m- True - BT 2 | time 78.56\u001b[0m\n",
      "---\n",
      "====================\n",
      "b28 | #nonlinear-T#0:\n",
      "\u001b[31m- False - BT 4 | time 435.24\u001b[0m\n",
      "---\n",
      "====================\n",
      "b29 | #nonlinear-T#0:\n",
      "\u001b[31m- False - BT 18 | time 1893.25\u001b[0m\n",
      "---\n",
      "====================\n",
      "b30 | #nonlinear-T#0:\n",
      "\u001b[31m- False - BT 4 | time 336.32\u001b[0m\n",
      "---\n",
      "====================\n",
      "b31 | #nonlinear-T#0:\n",
      "\u001b[31m- False - BT 3 | time 359.94\u001b[0m\n",
      "---\n",
      "====================\n",
      "b32 | #nonlinear-T#0:\n",
      "\u001b[31m- False - BT 8 | time 1134.93\u001b[0m\n",
      "---\n",
      "====================\n",
      "b33 | #nonlinear-T#0:\n",
      "\u001b[31m- False - BT 6 | time 332.68\u001b[0m\n",
      "---\n",
      "====================\n",
      "b34 | #nonlinear-T#0:\n",
      "\u001b[31m- False - BT 14 | time 1930.53\u001b[0m\n",
      "---\n",
      "====================\n",
      "b35 | #nonlinear-T#0:\n",
      "\u001b[31m- False - BT 4 | time 319.84\u001b[0m\n",
      "---\n",
      "====================\n",
      "b36 | #nonlinear-T#0:\n",
      "\u001b[31m- False - BT 9 | time 1802.49\u001b[0m\n",
      "---\n",
      "====================\n",
      "b37 | #nonlinear-T#0:\n",
      "\u001b[31m- False - BT 7 | time 717.19\u001b[0m\n",
      "---\n",
      "====================\n",
      "b38 | #nonlinear-T#0:\n",
      "\u001b[31m- False - BT 16 | time 1652.13\u001b[0m\n",
      "---\n",
      "====================\n",
      "b39 | #nonlinear-T#0:\n",
      "\u001b[31m- False - BT 12 | time 1355.28\u001b[0m\n",
      "---\n"
     ]
    }
   ],
   "source": [
    "# ['nonlinear', 'linear_forward', 'linear_backward']\n",
    "for bid, beam_data in all_runtime_data.items():\n",
    "    for solve_mode_ in beam_data:\n",
    "        print('='*20)\n",
    "        for i, tdata in beam_data[solve_mode_].items():\n",
    "            print('{} | #{}-T#{}:'.format(bid, solve_mode_, i))\n",
    "            sc = all([d['success'] for di, d in tdata.items()])\n",
    "\n",
    "            total_runtime = []\n",
    "            for i, trial_data in tdata.items():\n",
    "                trial_profiles = trial_data['profiles']\n",
    "                runtime_per_move = [sum(trial_profiles[mid]['plan_time']) for mid in trial_profiles]\n",
    "                total_runtime.append(sum(runtime_per_move))\n",
    "            tdata['total_runtime'] = sum(total_runtime)\n",
    "            cprint('- {} - BT {} | time {:.2f}'.format(sc, len(tdata), sum(total_runtime)), 'green' if sc else 'red')\n",
    "            print('---')"
   ]
  },
  {
   "cell_type": "code",
   "execution_count": 38,
   "id": "functioning-sixth",
   "metadata": {},
   "outputs": [
    {
     "data": {
      "image/png": "[encoded data removed]",
      "text/plain": [
       "<Figure size 432x288 with 1 Axes>"
      ]
     },
     "metadata": {
      "needs_background": "light"
     },
     "output_type": "display_data"
    }
   ],
   "source": [
    "import matplotlib.pyplot as plt\n",
    "import numpy as np\n",
    "\n",
    "timeout = 600*3\n",
    "\n",
    "fig, ax = plt.subplots()\n",
    "data_summary = {}\n",
    "for bid, beam_data in all_runtime_data.items():\n",
    "for solve_mode, solve_mode_data in runtime_data.items():\n",
    "    x = range(len(solve_mode_data))\n",
    "    runtime_per_trial = [solve_mode_data[str(at)]['total_runtime'] for at in x]\n",
    "    num_bts = [len(solve_mode_data[str(at)])-1 for at in x]\n",
    "    data_summary[solve_mode] = (np.average(runtime_per_trial), runtime_per_trial, num_bts)\n",
    "\n",
    "x_pos = np.arange(len(data_summary))\n",
    "bars = ax.bar(x_pos, [d[0] for _, d in data_summary.items()], align='center', zorder=1)\n",
    "\n",
    "# scatter points\n",
    "for x, rdata in zip(x_pos, data_summary.values()):\n",
    "    inner_runtimes = rdata[1]\n",
    "    ax.scatter([x for _ in inner_runtimes], inner_runtimes, c='red', s=2.0, zorder=2) # label\n",
    "    for t, bt in zip(inner_runtimes, rdata[2]):\n",
    "        plt.annotate(bt, (x, t))\n",
    "\n",
    "ax.plot(x_pos, [timeout for _ in x_pos], c='r', dashes=[6, 2], label='timeout', zorder=2)\n",
    "\n",
    "leg = ax.legend(loc='right')\n",
    "ax.set_xticks(x_pos)\n",
    "ax.set_xticklabels(data_summary)\n",
    "ax.set_ylabel('runtime (s)')\n",
    "\n",
    "plt.draw() # Draw the figure so you can find the positon of the legend.\n",
    "\n",
    "import os\n",
    "plt.savefig(os.path.join('figs',file_name.split('.json')[0]+'_hist.png'))\n",
    "\n",
    "plt.show()"
   ]
  },
  {
   "cell_type": "markdown",
   "id": "centered-surveillance",
   "metadata": {},
   "source": [
    "## All-beam scatter plot"
   ]
  },
  {
   "cell_type": "code",
   "execution_count": 73,
   "id": "detected-beast",
   "metadata": {},
   "outputs": [
    {
     "name": "stdout",
     "output_type": "stream",
     "text": [
      "====================\n",
      "b0 | #nonlinear-T#0:\n",
      "\u001b[32mTrue - BT 2 | time 22.86\u001b[0m\n",
      "---\n",
      "====================\n",
      "b1 | #nonlinear-T#0:\n",
      "\u001b[32mTrue - BT 2 | time 13.85\u001b[0m\n",
      "---\n",
      "====================\n",
      "b2 | #nonlinear-T#0:\n",
      "\u001b[32mTrue - BT 2 | time 163.00\u001b[0m\n",
      "---\n",
      "====================\n",
      "b3 | #nonlinear-T#0:\n",
      "\u001b[32mTrue - BT 3 | time 78.48\u001b[0m\n",
      "---\n",
      "====================\n",
      "b4 | #nonlinear-T#0:\n",
      "\u001b[32mTrue - BT 9 | time 1271.01\u001b[0m\n",
      "---\n",
      "====================\n",
      "b5 | #nonlinear-T#0:\n",
      "\u001b[32mTrue - BT 2 | time 58.98\u001b[0m\n",
      "---\n",
      "====================\n",
      "b6 | #nonlinear-T#0:\n",
      "\u001b[31mFalse - BT 11 | time 1827.63\u001b[0m\n",
      "---\n",
      "====================\n",
      "b7 | #nonlinear-T#0:\n",
      "\u001b[32mTrue - BT 2 | time 11.03\u001b[0m\n",
      "---\n",
      "====================\n",
      "b8 | #nonlinear-T#0:\n",
      "\u001b[32mTrue - BT 4 | time 382.68\u001b[0m\n",
      "---\n",
      "====================\n",
      "b9 | #nonlinear-T#0:\n",
      "\u001b[32mTrue - BT 3 | time 95.90\u001b[0m\n",
      "---\n",
      "====================\n",
      "b10 | #nonlinear-T#0:\n",
      "\u001b[32mTrue - BT 4 | time 392.30\u001b[0m\n",
      "---\n",
      "====================\n",
      "b11 | #nonlinear-T#0:\n",
      "\u001b[32mTrue - BT 2 | time 171.90\u001b[0m\n",
      "---\n",
      "====================\n",
      "b12 | #nonlinear-T#0:\n",
      "\u001b[32mTrue - BT 2 | time 129.33\u001b[0m\n",
      "---\n",
      "====================\n",
      "b13 | #nonlinear-T#0:\n",
      "\u001b[32mTrue - BT 11 | time 1552.85\u001b[0m\n",
      "---\n",
      "====================\n",
      "b14 | #nonlinear-T#0:\n",
      "\u001b[32mTrue - BT 3 | time 175.17\u001b[0m\n",
      "---\n",
      "====================\n",
      "b15 | #nonlinear-T#0:\n",
      "\u001b[32mTrue - BT 6 | time 380.87\u001b[0m\n",
      "---\n",
      "====================\n",
      "b16 | #nonlinear-T#0:\n",
      "\u001b[32mTrue - BT 4 | time 530.10\u001b[0m\n",
      "---\n",
      "====================\n",
      "b17 | #nonlinear-T#0:\n",
      "\u001b[32mTrue - BT 3 | time 99.48\u001b[0m\n",
      "---\n",
      "====================\n",
      "b18 | #nonlinear-T#0:\n",
      "\u001b[32mTrue - BT 2 | time 79.31\u001b[0m\n",
      "---\n",
      "====================\n",
      "b19 | #nonlinear-T#0:\n",
      "\u001b[32mTrue - BT 2 | time 19.87\u001b[0m\n",
      "---\n",
      "====================\n",
      "b20 | #nonlinear-T#0:\n",
      "\u001b[32mTrue - BT 2 | time 159.99\u001b[0m\n",
      "---\n",
      "====================\n",
      "b21 | #nonlinear-T#0:\n",
      "\u001b[32mTrue - BT 2 | time 31.12\u001b[0m\n",
      "---\n",
      "====================\n",
      "b22 | #nonlinear-T#0:\n",
      "\u001b[32mTrue - BT 3 | time 77.90\u001b[0m\n",
      "---\n",
      "====================\n",
      "b23 | #nonlinear-T#0:\n",
      "\u001b[32mTrue - BT 2 | time 61.55\u001b[0m\n",
      "---\n",
      "====================\n",
      "b24 | #nonlinear-T#0:\n",
      "\u001b[32mTrue - BT 4 | time 339.08\u001b[0m\n",
      "---\n",
      "====================\n",
      "b26 | #nonlinear-T#0:\n",
      "\u001b[32mTrue - BT 3 | time 190.71\u001b[0m\n",
      "---\n",
      "====================\n",
      "b27 | #nonlinear-T#0:\n",
      "\u001b[32mTrue - BT 2 | time 78.56\u001b[0m\n",
      "---\n",
      "====================\n",
      "b28 | #nonlinear-T#0:\n",
      "\u001b[32mTrue - BT 4 | time 435.24\u001b[0m\n",
      "---\n",
      "====================\n",
      "b29 | #nonlinear-T#0:\n",
      "\u001b[31mFalse - BT 18 | time 1893.25\u001b[0m\n",
      "---\n",
      "====================\n",
      "b30 | #nonlinear-T#0:\n",
      "\u001b[32mTrue - BT 4 | time 336.32\u001b[0m\n",
      "---\n",
      "====================\n",
      "b31 | #nonlinear-T#0:\n",
      "\u001b[32mTrue - BT 3 | time 359.94\u001b[0m\n",
      "---\n",
      "====================\n",
      "b32 | #nonlinear-T#0:\n",
      "\u001b[32mTrue - BT 8 | time 1134.93\u001b[0m\n",
      "---\n",
      "====================\n",
      "b33 | #nonlinear-T#0:\n",
      "\u001b[32mTrue - BT 6 | time 332.68\u001b[0m\n",
      "---\n",
      "====================\n",
      "b34 | #nonlinear-T#0:\n",
      "\u001b[31mFalse - BT 14 | time 1930.53\u001b[0m\n",
      "---\n",
      "====================\n",
      "b35 | #nonlinear-T#0:\n",
      "\u001b[32mTrue - BT 4 | time 319.84\u001b[0m\n",
      "---\n",
      "====================\n",
      "b36 | #nonlinear-T#0:\n",
      "\u001b[31mFalse - BT 9 | time 1802.49\u001b[0m\n",
      "---\n",
      "====================\n",
      "b37 | #nonlinear-T#0:\n",
      "\u001b[32mTrue - BT 7 | time 717.19\u001b[0m\n",
      "---\n",
      "====================\n",
      "b38 | #nonlinear-T#0:\n",
      "\u001b[32mTrue - BT 16 | time 1652.13\u001b[0m\n",
      "---\n",
      "====================\n",
      "b39 | #nonlinear-T#0:\n",
      "\u001b[32mTrue - BT 12 | time 1355.28\u001b[0m\n",
      "---\n"
     ]
    }
   ],
   "source": [
    "# from collections import defaultdict\n",
    "import json\n",
    "\n",
    "file_names = {bid : 'b{}_runtime_data_w_TC_{}.json'.format(bid, '21-07-06_23-04-03') \\\n",
    "                  for bid in list(range(0,25)) + list(range(26,32))}\n",
    "file_names.update(\n",
    "    {bid : 'b{}_runtime_data_w_TC_{}.json'.format(bid, '21-07-07_07-55-05') for bid in range(32,40)}\n",
    ")\n",
    "\n",
    "runtime_per_beam = {}\n",
    "for bid, fn in file_names.items():\n",
    "    runtime_data = {}\n",
    "    with open('figs/{}'.format(fn), 'r') as f:\n",
    "        runtime_data = json.load(f)\n",
    "\n",
    "    # ['nonlinear', 'linear_forward', 'linear_backward']\n",
    "    for solve_mode_ in runtime_data:\n",
    "        print('='*20)\n",
    "        for i, tdata in runtime_data[solve_mode_].items():\n",
    "            print('b{} | #{}-T#{}:'.format(bid, solve_mode_, i))\n",
    "            sc = any([d['success'] for di, d in tdata.items()])\n",
    "\n",
    "            total_runtime = []\n",
    "            for i, trial_data in tdata.items():\n",
    "                trial_profiles = trial_data['profiles']\n",
    "                runtime_per_move = [sum(trial_profiles[mid]['plan_time']) for mid in trial_profiles]\n",
    "                total_runtime.append(sum(runtime_per_move))\n",
    "            tdata['total_runtime'] = sum(total_runtime)\n",
    "            # !\n",
    "            runtime_per_beam[bid] = (sum(total_runtime), len(tdata))\n",
    "            cprint('{} - BT {} | time {:.2f}'.format(sc, len(tdata), sum(total_runtime)), 'green' if sc else 'red')\n",
    "            print('---')"
   ]
  },
  {
   "cell_type": "code",
   "execution_count": null,
   "id": "swedish-victim",
   "metadata": {},
   "outputs": [],
   "source": [
    "4, 13, 32, 37, 38, 39"
   ]
  },
  {
   "cell_type": "code",
   "execution_count": 76,
   "id": "intelligent-german",
   "metadata": {},
   "outputs": [
    {
     "data": {
      "image/png": "[encoded data removed]",
      "text/plain": [
       "<Figure size 432x288 with 1 Axes>"
      ]
     },
     "metadata": {
      "needs_background": "light"
     },
     "output_type": "display_data"
    }
   ],
   "source": [
    "import matplotlib.pyplot as plt\n",
    "import numpy as np\n",
    "\n",
    "timeout = 600*3\n",
    "\n",
    "fig, ax = plt.subplots()\n",
    "beams = list(runtime_per_beam.keys())\n",
    "plt.scatter(beams, [runtime_per_beam[b][0] for b in beams])\n",
    "for b in beams:\n",
    "    plt.annotate(runtime_per_beam[b][1], (b, runtime_per_beam[b][0]))\n",
    "\n",
    "plt.plot(beams, [timeout for _ in beams], c='r', label='timeout')\n",
    "ax.set_xlabel('beam ids')\n",
    "ax.set_ylabel('runtime(s)')\n",
    "plt.show()\n",
    "\n",
    "# all beams, until success, no timeout"
   ]
  },
  {
   "cell_type": "code",
   "execution_count": 69,
   "id": "emerging-humor",
   "metadata": {
    "collapsed": true
   },
   "outputs": [
    {
     "data": {
      "image/png": "[encoded data removed]",
      "text/plain": [
       "<Figure size 432x288 with 1 Axes>"
      ]
     },
     "metadata": {
      "needs_background": "light"
     },
     "output_type": "display_data"
    }
   ],
   "source": [
    "import matplotlib.pyplot as plt\n",
    "import numpy as np\n",
    "\n",
    "timeout = 600*3\n",
    "\n",
    "fig, ax = plt.subplots()\n",
    "markers = ['o', '^', (5, 0)]\n",
    "mcolors = ['g', 'r', 'b']\n",
    "for marker, mcolor, (solve_m, solve_mode_data) in zip(markers, mcolors, runtime_data.items()):\n",
    "    x = range(len(solve_mode_data))\n",
    "    runtime_per_trial = [solve_mode_data[str(at)]['total_runtime'] for at in x]\n",
    "    num_bts = [len(solve_mode_data[str(at)])-1 for at in x]\n",
    "    plt.scatter(x, runtime_per_trial, marker=marker, c=mcolor, label=solve_m)\n",
    "    for i in x:\n",
    "        plt.annotate(num_bts[i], (i, runtime_per_trial[i]))\n",
    "\n",
    "plt.plot(x, [timeout for _ in x], c='r', label='timeout')\n",
    "        \n",
    "ax.set_xlabel('random trials')\n",
    "ax.set_ylabel('runtime(s)')\n",
    "# ax.set_title('Runtime by sovl')\n",
    "leg = ax.legend(loc='upper right')\n",
    "\n",
    "plt.draw() # Draw the figure so you can find the positon of the legend. \n",
    "\n",
    "# Get the bounding box of the original legend\n",
    "bb = leg.get_bbox_to_anchor().transformed(ax.transAxes.inverted())\n",
    "\n",
    "# Change to location of the legend. \n",
    "xOffset = 0.4\n",
    "bb.x0 += xOffset\n",
    "bb.x1 += xOffset\n",
    "leg.set_bbox_to_anchor(bb, transform = ax.transAxes)\n",
    "\n",
    "# import os\n",
    "# plt.savefig(os.path.join('figs',file_name.split('.json')[0]+'.png'))\n",
    "\n",
    "plt.show()"
   ]
  },
  {
   "cell_type": "markdown",
   "id": "cordless-tucson",
   "metadata": {},
   "source": [
    "## Single result"
   ]
  },
  {
   "cell_type": "code",
   "execution_count": 156,
   "id": "nuclear-broad",
   "metadata": {},
   "outputs": [],
   "source": [
    "fn = 'b6_runtime_data_w_TC_21-07-07_21-58-12.json'\n",
    "\n",
    "single_runtime_data = {}\n",
    "with open('figs/{}'.format(fn), 'r') as f:\n",
    "    single_runtime_data = json.load(f)"
   ]
  },
  {
   "cell_type": "code",
   "execution_count": 159,
   "id": "certified-requirement",
   "metadata": {},
   "outputs": [
    {
     "name": "stdout",
     "output_type": "stream",
     "text": [
      "====================\n",
      "b6 | #nonlinear-T#0:\n",
      "\u001b[31mFalse - BT 14 | time 1899.58\u001b[0m\n",
      "---\n",
      "====================\n",
      "b25 | #nonlinear-T#0:\n",
      "\u001b[32mTrue - BT 15 | time 1077.00\u001b[0m\n",
      "---\n",
      "====================\n",
      "b29 | #nonlinear-T#0:\n",
      "\u001b[31mFalse - BT 10 | time 1852.02\u001b[0m\n",
      "---\n",
      "====================\n",
      "b34 | #nonlinear-T#0:\n",
      "\u001b[32mTrue - BT 9 | time 1233.37\u001b[0m\n",
      "---\n",
      "====================\n",
      "b36 | #nonlinear-T#0:\n",
      "\u001b[31mFalse - BT 11 | time 1838.60\u001b[0m\n",
      "---\n"
     ]
    }
   ],
   "source": [
    "# ['nonlinear', 'linear_forward', 'linear_backward']\n",
    "\n",
    "for bid in [6,25,29,34,36]:\n",
    "    fn = 'b{}_runtime_data_w_TC_21-07-07_21-58-12.json'.format(bid)\n",
    "\n",
    "    single_runtime_data = {}\n",
    "    with open('figs/{}'.format(fn), 'r') as f:\n",
    "        single_runtime_data = json.load(f)\n",
    "\n",
    "    beam_id = fn.split('_')[0]\n",
    "    for solve_mode_ in single_runtime_data:\n",
    "        print('='*20)\n",
    "        for i, tdata in single_runtime_data[solve_mode_].items():\n",
    "            print('{} | #{}-T#{}:'.format(beam_id, solve_mode_, i))\n",
    "            sc = any([d['success'] for di, d in tdata.items()])\n",
    "\n",
    "            total_runtime = []\n",
    "            for i, trial_data in tdata.items():\n",
    "                trial_profiles = trial_data['profiles']\n",
    "                runtime_per_move = [sum(trial_profiles[mid]['plan_time']) for mid in trial_profiles]\n",
    "                total_runtime.append(sum(runtime_per_move))\n",
    "    #         tdata['total_runtime'] = sum(total_runtime)\n",
    "            cprint('{} - BT {} | time {:.2f}'.format(sc, len(tdata), sum(total_runtime)), 'green' if sc else 'red')\n",
    "            print('---')"
   ]
  },
  {
   "cell_type": "markdown",
   "id": "83cb5ffb",
   "metadata": {},
   "source": [
    "# Detailed diagram"
   ]
  },
  {
   "cell_type": "code",
   "execution_count": 23,
   "id": "ranking-moses",
   "metadata": {},
   "outputs": [],
   "source": [
    "from plotly.subplots import make_subplots\n",
    "import plotly.graph_objects as go\n",
    "from integral_timber_joints.process import RoboticFreeMovement, RoboticLinearMovement, RoboticClampSyncLinearMovement\n",
    "\n",
    "# solve_mode_ = 'linear_forward' # linear_backward | linear_forward | nonlinear\n",
    "beam_id = file_name.split('_runtime_data')[0]\n",
    "\n",
    "# total_rows = 0\n",
    "# for i, d in runtime_data[solve_mode_].items():\n",
    "#     total_rows += len(d)+1\n",
    "max_inner_loop_displayed = 11\n",
    "\n",
    "for solve_mode_ in runtime_data:\n",
    "    for attempt_i, s_rdata in runtime_data[solve_mode_].items():\n",
    "        if 'total_runtime' in s_rdata:\n",
    "            del s_rdata['total_runtime']\n",
    "        if len(s_rdata) > max_inner_loop_displayed:\n",
    "            num_rows = max_inner_loop_displayed+1\n",
    "            half = int(max_inner_loop_displayed/2)\n",
    "            selected_inners = list(range(0,half)) + list(range(len(s_rdata)-half,len(s_rdata)))\n",
    "        else:\n",
    "            num_rows = len(s_rdata)+1\n",
    "            selected_inners = list(range(len(s_rdata)))\n",
    "\n",
    "        fig = make_subplots(rows=num_rows, cols=2)\n",
    "        success = any([d['success'] for di, d in s_rdata.items()])\n",
    "        total_runtime = []\n",
    "        failed_m_id = []\n",
    "        for i in s_rdata.keys():\n",
    "            trial_data = s_rdata[i]\n",
    "            trial_profiles = trial_data['profiles']\n",
    "            mid_keys = sorted(trial_profiles.keys(), key=int)\n",
    "            runtime_per_move = [sum(trial_profiles[mid]['plan_time']) for mid in mid_keys]\n",
    "            total_runtime.append(sum(runtime_per_move))\n",
    "\n",
    "            for mid in mid_keys:\n",
    "                if not any(trial_profiles[mid]['plan_success']):\n",
    "                    movement = process.get_movement_by_movement_id(trial_profiles[mid]['movement_id'][0])\n",
    "                    m_color = '#ff1b6b' if isinstance(movement, RoboticFreeMovement) else '#45caff'\n",
    "                    failed_m_id.append((mid, movement.short_summary, m_color))\n",
    "                    break\n",
    "            else:\n",
    "                failed_m_id.append((-1, 'success!', '#00ff87'))\n",
    "\n",
    "            if i in selected_inners or int(i) in selected_inners:\n",
    "                success_colors = ['#99C24D' if any(trial_profiles[mid]['plan_success']) else '#F18F01' for mid in mid_keys]\n",
    "                row_id = selected_inners.index(int(i))+1\n",
    "                fig.append_trace(go.Scatter(x=mid_keys,\n",
    "                                        y=runtime_per_move,\n",
    "                                        mode='markers',\n",
    "                                        marker_color=success_colors,\n",
    "                                        text=[process.get_movement_by_movement_id(trial_profiles[mid]['movement_id'][0]).short_summary \\\n",
    "                                              for mid in mid_keys], # hover text goes here\n",
    "                                        name='#{}-feasibility'.format(i),\n",
    "                                        ),\n",
    "                              row=row_id, col=1\n",
    "                            )\n",
    "\n",
    "                fig.append_trace(go.Scatter(x=mid_keys,\n",
    "                                                y=runtime_per_move,\n",
    "                                                mode='markers',\n",
    "                                                    marker=dict(\n",
    "                                                    size=5,\n",
    "                                                    color=[trial_profiles[mid]['sample_order'][0] for mid in mid_keys], #set color equal to a variable\n",
    "                                                    colorscale='Viridis', # one of plotly colorscales\n",
    "                                                    showscale=True\n",
    "                                                ),\n",
    "                                                text=['S#{}-{}'.format(trial_profiles[mid]['sample_order'][0], process.get_movement_by_movement_id(trial_profiles[mid]['movement_id'][0]).short_summary) \\\n",
    "                                                      for mid in mid_keys], # hover text goes here\n",
    "                                                name='#{}-sample order'.format(i),),\n",
    "                              row=row_id, col=2\n",
    "                                )\n",
    "                if row_id == 1:\n",
    "                    fig.update_xaxes(title_text=\"m_id\",row=row_id, col=1)\n",
    "                    fig.update_yaxes(title_text=\"runtime(s)\",row=row_id, col=1)\n",
    "\n",
    "        fig.append_trace(go.Scatter(x=list(range(len(s_rdata))),y=total_runtime), \n",
    "                         row=num_rows, col=1)\n",
    "        fig.update_xaxes(title_text=\"trials\",row=num_rows, col=1)\n",
    "        fig.update_yaxes(title_text=\"runtime(s)\",row=num_rows, col=1)\n",
    "\n",
    "        fig.append_trace(go.Scatter(x=list(range(len(failed_m_id))),y=[int(tt[0]) for tt in failed_m_id],\n",
    "                                    mode='markers',\n",
    "                                    marker_color=[tt[2] for tt in failed_m_id],\n",
    "                                    text=[tt[1] for tt in failed_m_id],\n",
    "                                   ), row=num_rows, col=2)\n",
    "        fig.update_xaxes(title_text=\"trials\",row=num_rows, col=2)\n",
    "        fig.update_yaxes(title_text=\"failed_movement_id\",row=num_rows, col=2)\n",
    "\n",
    "\n",
    "        title = \"figs/{}-{}-trail_{}_success-{}_BT-{}_time-{:.1f}\".format(beam_id, solve_mode_, \n",
    "            attempt_i, success, len(s_rdata), sum(total_runtime))\n",
    "        fig.update_layout(title=title)\n",
    "        fig.write_html(title + \".html\")\n",
    "# fig.show()"
   ]
  },
  {
   "cell_type": "code",
   "execution_count": 41,
   "id": "inappropriate-vienna",
   "metadata": {},
   "outputs": [
    {
     "data": {
      "text/plain": [
       "207"
      ]
     },
     "execution_count": 41,
     "metadata": {},
     "output_type": "execute_result"
    }
   ],
   "source": [
    "len(failed_m_id)"
   ]
  },
  {
   "cell_type": "markdown",
   "id": "empty-heavy",
   "metadata": {},
   "source": [
    "# Save runtime data"
   ]
  },
  {
   "cell_type": "code",
   "execution_count": 106,
   "id": "funded-toddler",
   "metadata": {},
   "outputs": [
    {
     "data": {
      "text/plain": [
       "dict_keys(['linear', 'nonlinear'])"
      ]
     },
     "execution_count": 106,
     "metadata": {},
     "output_type": "execute_result"
    }
   ],
   "source": [
    "runtime_data.keys()"
   ]
  },
  {
   "cell_type": "markdown",
   "id": "homeless-grant",
   "metadata": {},
   "source": [
    "## Start client"
   ]
  },
  {
   "cell_type": "code",
   "execution_count": 10,
   "id": "painted-gospel",
   "metadata": {
    "collapsed": true
   },
   "outputs": [
    {
     "name": "stdout",
     "output_type": "stream",
     "text": [
      "argv[0]=\n",
      "b3Warning[examples/Importers/ImportURDFDemo/BulletUrdfImporter.cpp,126]:\n",
      "No inertial data for link, using mass=1, localinertiadiagonal = 1,1,1, identity local inertial frameb3Warning[examples/Importers/ImportURDFDemo/BulletUrdfImporter.cpp,126]:\n",
      "x_railb3Warning[examples/Importers/ImportURDFDemo/BulletUrdfImporter.cpp,126]:\n",
      "No inertial data for link, using mass=1, localinertiadiagonal = 1,1,1, identity local inertial frameb3Warning[examples/Importers/ImportURDFDemo/BulletUrdfImporter.cpp,126]:\n",
      "robot11_tool0b3Warning[examples/Importers/ImportURDFDemo/BulletUrdfImporter.cpp,126]:\n",
      "No inertial data for link, using mass=1, localinertiadiagonal = 1,1,1, identity local inertial frameb3Warning[examples/Importers/ImportURDFDemo/BulletUrdfImporter.cpp,126]:\n",
      "robot12_tool0b3Warning[examples/Importers/ImportURDFDemo/BulletUrdfImporter.cpp,126]:\n",
      "No inertial data for link, using mass=1, localinertiadiagonal = 1,1,1, identity local inertial frameb3Warning[examples/Importers/ImportURDFDemo/BulletUrdfImporter.cpp,126]:\n",
      "robot21_tool0b3Warning[examples/Importers/ImportURDFDemo/BulletUrdfImporter.cpp,126]:\n",
      "No inertial data for link, using mass=1, localinertiadiagonal = 1,1,1, identity local inertial frameb3Warning[examples/Importers/ImportURDFDemo/BulletUrdfImporter.cpp,126]:\n",
      "robot22_tool0b3Warning[examples/Importers/ImportURDFDemo/BulletUrdfImporter.cpp,126]:\n",
      "No inertial data for link, using mass=1, localinertiadiagonal = 1,1,1, identity local inertial frameb3Warning[examples/Importers/ImportURDFDemo/BulletUrdfImporter.cpp,126]:\n",
      "gripper_baseb3Warning[examples/Importers/ImportURDFDemo/BulletUrdfImporter.cpp,126]:\n",
      "No inertial data for link, using mass=1, localinertiadiagonal = 1,1,1, identity local inertial frameb3Warning[examples/Importers/ImportURDFDemo/BulletUrdfImporter.cpp,126]:\n",
      "gripper_jawb3Warning[examples/Importers/ImportURDFDemo/BulletUrdfImporter.cpp,126]:\n",
      "No inertial data for link, using mass=1, localinertiadiagonal = 1,1,1, identity local inertial frameb3Warning[examples/Importers/ImportURDFDemo/BulletUrdfImporter.cpp,126]:\n",
      "clamp_jawb3Warning[examples/Importers/ImportURDFDemo/BulletUrdfImporter.cpp,126]:\n",
      "No inertial data for link, using mass=1, localinertiadiagonal = 1,1,1, identity local inertial frameb3Warning[examples/Importers/ImportURDFDemo/BulletUrdfImporter.cpp,126]:\n",
      "gripper_baseb3Warning[examples/Importers/ImportURDFDemo/BulletUrdfImporter.cpp,126]:\n",
      "No inertial data for link, using mass=1, localinertiadiagonal = 1,1,1, identity local inertial frameb3Warning[examples/Importers/ImportURDFDemo/BulletUrdfImporter.cpp,126]:\n",
      "gripper_jawb3Warning[examples/Importers/ImportURDFDemo/BulletUrdfImporter.cpp,126]:\n",
      "No inertial data for link, using mass=1, localinertiadiagonal = 1,1,1, identity local inertial frameb3Warning[examples/Importers/ImportURDFDemo/BulletUrdfImporter.cpp,126]:\n",
      "clamp_jawb3Warning[examples/Importers/ImportURDFDemo/BulletUrdfImporter.cpp,126]:\n",
      "No inertial data for link, using mass=1, localinertiadiagonal = 1,1,1, identity local inertial frameb3Warning[examples/Importers/ImportURDFDemo/BulletUrdfImporter.cpp,126]:\n",
      "gripper_baseb3Warning[examples/Importers/ImportURDFDemo/BulletUrdfImporter.cpp,126]:\n",
      "No inertial data for link, using mass=1, localinertiadiagonal = 1,1,1, identity local inertial frameb3Warning[examples/Importers/ImportURDFDemo/BulletUrdfImporter.cpp,126]:\n",
      "gripper_jawb3Warning[examples/Importers/ImportURDFDemo/BulletUrdfImporter.cpp,126]:\n",
      "No inertial data for link, using mass=1, localinertiadiagonal = 1,1,1, identity local inertial frameb3Warning[examples/Importers/ImportURDFDemo/BulletUrdfImporter.cpp,126]:\n",
      "clamp_jawb3Warning[examples/Importers/ImportURDFDemo/BulletUrdfImporter.cpp,126]:\n",
      "No inertial data for link, using mass=1, localinertiadiagonal = 1,1,1, identity local inertial frameb3Warning[examples/Importers/ImportURDFDemo/BulletUrdfImporter.cpp,126]:\n",
      "gripper_baseb3Warning[examples/Importers/ImportURDFDemo/BulletUrdfImporter.cpp,126]:\n",
      "No inertial data for link, using mass=1, localinertiadiagonal = 1,1,1, identity local inertial frameb3Warning[examples/Importers/ImportURDFDemo/BulletUrdfImporter.cpp,126]:\n",
      "gripper_jawb3Warning[examples/Importers/ImportURDFDemo/BulletUrdfImporter.cpp,126]:\n",
      "No inertial data for link, using mass=1, localinertiadiagonal = 1,1,1, identity local inertial frameb3Warning[examples/Importers/ImportURDFDemo/BulletUrdfImporter.cpp,126]:\n",
      "clamp_jawb3Warning[examples/Importers/ImportURDFDemo/BulletUrdfImporter.cpp,126]:\n",
      "No inertial data for link, using mass=1, localinertiadiagonal = 1,1,1, identity local inertial frameb3Warning[examples/Importers/ImportURDFDemo/BulletUrdfImporter.cpp,126]:\n",
      "gripper_baseb3Warning[examples/Importers/ImportURDFDemo/BulletUrdfImporter.cpp,126]:\n",
      "No inertial data for link, using mass=1, localinertiadiagonal = 1,1,1, identity local inertial frameb3Warning[examples/Importers/ImportURDFDemo/BulletUrdfImporter.cpp,126]:\n",
      "gripper_jaw_lb3Warning[examples/Importers/ImportURDFDemo/BulletUrdfImporter.cpp,126]:\n",
      "No inertial data for link, using mass=1, localinertiadiagonal = 1,1,1, identity local inertial frameb3Warning[examples/Importers/ImportURDFDemo/BulletUrdfImporter.cpp,126]:\n",
      "gripper_jaw_rb3Warning[examples/Importers/ImportURDFDemo/BulletUrdfImporter.cpp,126]:\n",
      "No inertial data for link, using mass=1, localinertiadiagonal = 1,1,1, identity local inertial frameb3Warning[examples/Importers/ImportURDFDemo/BulletUrdfImporter.cpp,126]:\n",
      "gripper_baseb3Warning[examples/Importers/ImportURDFDemo/BulletUrdfImporter.cpp,126]:\n",
      "No inertial data for link, using mass=1, localinertiadiagonal = 1,1,1, identity local inertial frameb3Warning[examples/Importers/ImportURDFDemo/BulletUrdfImporter.cpp,126]:\n",
      "gripper_jaw_lb3Warning[examples/Importers/ImportURDFDemo/BulletUrdfImporter.cpp,126]:\n",
      "No inertial data for link, using mass=1, localinertiadiagonal = 1,1,1, identity local inertial frameb3Warning[examples/Importers/ImportURDFDemo/BulletUrdfImporter.cpp,126]:\n",
      "gripper_jaw_rb3Warning[examples/Importers/ImportURDFDemo/BulletUrdfImporter.cpp,126]:\n",
      "No inertial data for link, using mass=1, localinertiadiagonal = 1,1,1, identity local inertial frameb3Warning[examples/Importers/ImportURDFDemo/BulletUrdfImporter.cpp,126]:\n",
      "toolchanger_base"
     ]
    }
   ],
   "source": [
    "from integral_timber_joints.planning.robot_setup import load_RFL_world\n",
    "from integral_timber_joints.planning.run import set_initial_state\n",
    "\n",
    "# * Connect to path planning backend and initialize robot parameters\n",
    "# viewer or diagnosis or view_states or watch or step_sim,\n",
    "client, robot, _ = load_RFL_world(viewer=False, verbose=False)\n",
    "set_initial_state(client, robot, process, disable_env=disable_env, reinit_tool=False)"
   ]
  },
  {
   "cell_type": "code",
   "execution_count": 32,
   "id": "medieval-pregnancy",
   "metadata": {},
   "outputs": [],
   "source": [
    "client.disconnect()"
   ]
  },
  {
   "cell_type": "markdown",
   "id": "engaged-jumping",
   "metadata": {},
   "source": [
    "# Visualize traj"
   ]
  },
  {
   "cell_type": "code",
   "execution_count": 17,
   "id": "organized-portugal",
   "metadata": {},
   "outputs": [
    {
     "name": "stdout",
     "output_type": "stream",
     "text": [
      "===\n",
      "Viz:\u001b[0m\n",
      "\u001b[33mNo traj found for RoboticLinearMovement(#A43_M2, Linear Approach 2 of 2 to place CL3 ('c2') in storage., traj 0)\n",
      " -- has_start_conf False, has_end_conf True\u001b[0m\n",
      "Press enter to continue\n"
     ]
    }
   ],
   "source": [
    "from integral_timber_joints.planning.state import set_state\n",
    "from integral_timber_joints.planning.visualization import visualize_movement_trajectory\n",
    "\n",
    "altered_ms = [process.get_movement_by_movement_id('A43_M2')]\n",
    "set_state(client, robot, process, process.initial_state)\n",
    "for altered_m in altered_ms:\n",
    "    visualize_movement_trajectory(client, robot, process, altered_m, step_sim=False, step_duration=0.05)"
   ]
  },
  {
   "cell_type": "markdown",
   "id": "graduate-middle",
   "metadata": {},
   "source": [
    "# Disconnect client"
   ]
  },
  {
   "cell_type": "code",
   "execution_count": 48,
   "id": "junior-standing",
   "metadata": {
    "collapsed": true
   },
   "outputs": [],
   "source": [
    "client.disconnect()"
   ]
  },
  {
   "cell_type": "markdown",
   "id": "civil-partner",
   "metadata": {},
   "source": [
    "# Plan only one movement"
   ]
  },
  {
   "cell_type": "code",
   "execution_count": 29,
   "id": "ambient-calculator",
   "metadata": {},
   "outputs": [],
   "source": [
    "# if id_only:\n",
    "#     beam_id = process.get_beam_id_from_movement_id(id_only)\n",
    "#     process.get_movement_summary_by_beam_id(beam_id)"
   ]
  },
  {
   "cell_type": "code",
   "execution_count": 39,
   "id": "experienced-industry",
   "metadata": {},
   "outputs": [
    {
     "name": "stdout",
     "output_type": "stream",
     "text": [
      "\u001b[36mRoboticLinearMovement(#A2_M1, Linear Advance to Final Frame of Beam ('b0'), traj 1)\u001b[0m\n",
      "\u001b[33mend conf FK inconsistent (0.00005 m) with given current frame in end state.\u001b[0m\n",
      "\u001b[33mBoth start/end confs are pre-specified, problem might be too stiff to be solved.\u001b[0m\n",
      "\u001b[34mOne-sided Cartesian planning : start conf set, forward mode\u001b[0m\n",
      "\tcartesian trial #0\n",
      "\u001b[32mPlan found by IterativeIK! After 0 path failure (by IterativeIK) over 1 samples.\u001b[0m\n"
     ]
    },
    {
     "data": {
      "text/plain": [
       "True"
      ]
     },
     "execution_count": 39,
     "metadata": {},
     "output_type": "execute_result"
    }
   ],
   "source": [
    "from integral_timber_joints.planning.stream import compute_free_movement, compute_linear_movement\n",
    "from integral_timber_joints.planning.solve import compute_movement\n",
    "\n",
    "chosen_m = process.get_movement_by_movement_id(id_only)\n",
    "compute_movement(client, robot, process, chosen_m, options=lm_options, diagnosis=diagnosis)"
   ]
  },
  {
   "cell_type": "code",
   "execution_count": 40,
   "id": "british-conflict",
   "metadata": {},
   "outputs": [
    {
     "name": "stdout",
     "output_type": "stream",
     "text": [
      "===\n",
      "Viz:\u001b[0m\n",
      "\u001b[32mRoboticLinearMovement(#A2_M1, Linear Advance to Final Frame of Beam ('b0'), traj 1)\u001b[0m\n"
     ]
    },
    {
     "name": "stdin",
     "output_type": "stream",
     "text": [
      "Step conf. \n",
      "Step conf. \n",
      "Step conf. \n",
      "Step conf. \n",
      "Step conf. \n",
      "Step conf. \n",
      "Step conf. \n",
      "End state. \n"
     ]
    }
   ],
   "source": [
    "from integral_timber_joints.planning.visualization import visualize_movement_trajectory\n",
    "\n",
    "with pp.WorldSaver():\n",
    "    visualize_movement_trajectory(client, robot, process, chosen_m, step_sim=True)"
   ]
  },
  {
   "cell_type": "markdown",
   "id": "611ee458",
   "metadata": {},
   "source": [
    "# Debug"
   ]
  },
  {
   "cell_type": "code",
   "execution_count": 114,
   "id": "b9b72647",
   "metadata": {},
   "outputs": [
    {
     "name": "stdout",
     "output_type": "stream",
     "text": [
      "{\n",
      "    \"point\": [\n",
      "        16365.955352783203,\n",
      "        5373.7616539001465,\n",
      "        1185.3845119476318\n",
      "    ],\n",
      "    \"xaxis\": [\n",
      "        -0.2580321229101535,\n",
      "        0.6278875467781188,\n",
      "        0.7342864918731894\n",
      "    ],\n",
      "    \"yaxis\": [\n",
      "        -0.9661363350844321,\n",
      "        -0.1677526279329609,\n",
      "        -0.19606029136775213\n",
      "    ]\n",
      "}\n",
      "{\n",
      "    \"point\": [\n",
      "        16365.955352783203,\n",
      "        5373.7616539001465,\n",
      "        1185.3845119476318\n",
      "    ],\n",
      "    \"xaxis\": [\n",
      "        -0.25803212291015387,\n",
      "        0.6278875467781186,\n",
      "        0.7342864918731893\n",
      "    ],\n",
      "    \"yaxis\": [\n",
      "        -0.9661363350844319,\n",
      "        -0.16775262793296133,\n",
      "        -0.19606029136775227\n",
      "    ]\n",
      "}\n"
     ]
    }
   ],
   "source": [
    "prev_m = process.get_movement_by_movement_id('A40_M6')\n",
    "start_state = process.get_movement_start_state(prev_m)\n",
    "end_state = process.get_movement_end_state(prev_m)\n",
    "\n",
    "# v = end_state['robot'].current_frame.point - start_state['robot'].current_frame.point\n",
    "# list(v)\n",
    "set_state(client, robot, process, end_state)\n",
    "print(end_state['tool_changer'].current_frame)\n",
    "print(client.get_object_frame('^tool_changer$', scale=1e3)[75])"
   ]
  },
  {
   "cell_type": "code",
   "execution_count": 109,
   "id": "7581482b",
   "metadata": {},
   "outputs": [
    {
     "name": "stdout",
     "output_type": "stream",
     "text": [
      "{\n",
      "    \"point\": [\n",
      "        16365.961074829102,\n",
      "        5373.770236968994,\n",
      "        1185.3852272033691\n",
      "    ],\n",
      "    \"xaxis\": [\n",
      "        -0.2580321229101535,\n",
      "        0.6278875467781188,\n",
      "        0.7342864918731894\n",
      "    ],\n",
      "    \"yaxis\": [\n",
      "        -0.9661363350844321,\n",
      "        -0.1677526279329609,\n",
      "        -0.19606029136775213\n",
      "    ]\n",
      "}\n"
     ]
    }
   ],
   "source": [
    "client.set_robot_configuration(robot, end_state['robot'].kinematic_config)\n",
    "print(client.get_object_frame('^tool_changer$', scale=1e3)[75])"
   ]
  },
  {
   "cell_type": "code",
   "execution_count": 116,
   "id": "4ed45e2a",
   "metadata": {},
   "outputs": [
    {
     "data": {
      "text/plain": [
       "False"
      ]
     },
     "execution_count": 116,
     "metadata": {},
     "output_type": "execute_result"
    }
   ],
   "source": [
    "from compas_fab_pychoreo.backend_features.pychoreo_configuration_collision_checker import PyChoreoConfigurationCollisionChecker\n",
    "\n",
    "set_state(client, robot, process, end_state, options=options)\n",
    "# set_state(client, robot, process, start_state, options=options)\n",
    "pychore_collision_fn = PyChoreoConfigurationCollisionChecker(client)\n",
    "# end_state['robot'].kinematic_config\n",
    "options['diagnosis'] = True\n",
    "pychore_collision_fn.check_collisions(robot, prev_m.trajectory.points[-2], options=options)"
   ]
  },
  {
   "cell_type": "code",
   "execution_count": 79,
   "id": "57735de6",
   "metadata": {},
   "outputs": [],
   "source": [
    "tc_body = client.pychoreo_attachments['tool_changer']"
   ]
  },
  {
   "cell_type": "code",
   "execution_count": 83,
   "id": "57c600cd",
   "metadata": {},
   "outputs": [
    {
     "data": {
      "text/plain": [
       "Frame(Point(0.016, 0.005, 0.001), Vector(-0.258, 0.628, 0.734), Vector(-0.966, -0.168, -0.196))"
      ]
     },
     "execution_count": 83,
     "metadata": {},
     "output_type": "execute_result"
    }
   ],
   "source": [
    "from compas_fab_pychoreo.conversions import pose_from_frame, frame_from_pose\n",
    "\n",
    "frame_from_pose(pp.get_pose(75))"
   ]
  },
  {
   "cell_type": "code",
   "execution_count": 75,
   "id": "f4815816",
   "metadata": {},
   "outputs": [
    {
     "data": {
      "text/plain": [
       "{75: Frame(Point(16.366, 5.374, 1.185), Vector(-0.258, 0.628, 0.734), Vector(-0.966, -0.168, -0.196))}"
      ]
     },
     "execution_count": 75,
     "metadata": {},
     "output_type": "execute_result"
    }
   ],
   "source": [
    "client.get_object_frame('^tool_changer$')"
   ]
  },
  {
   "cell_type": "code",
   "execution_count": 44,
   "id": "49ab4eef",
   "metadata": {},
   "outputs": [
    {
     "name": "stdout",
     "output_type": "stream",
     "text": [
      "State: current frame: {\n",
      "    \"point\": [\n",
      "        16365.989685058594,\n",
      "        5373.808860778809,\n",
      "        1185.4075193405151\n",
      "    ],\n",
      "    \"xaxis\": [\n",
      "        -0.25802939931448104,\n",
      "        0.6277901217809272,\n",
      "        0.7343707456616834\n",
      "    ],\n",
      "    \"yaxis\": [\n",
      "        -0.9661370648091927,\n",
      "        -0.16763997964096333,\n",
      "        -0.1961530250285612\n",
      "    ]\n",
      "} | config: JointTrajectoryPoint((15.468, -4.130, -2.020, 2.159, -0.587, -2.805, 0.492, -2.039, 0.908), (2, 2, 2, 0, 0, 0, 0, 0, 0), (0.000, 0.000, 0.000, 0.000, 0.000, 0.000, 0.000, 0.000, 0.000), (0.000, 0.000, 0.000, 0.000, 0.000, 0.000, 0.000, 0.000, 0.000), (0.000, 0.000, 0.000, 0.000, 0.000, 0.000, 0.000, 0.000, 0.000), Duration(11, 0)) | attached to robot: False\n",
      "State: current frame: {\n",
      "    \"point\": [\n",
      "        16366.001562499872,\n",
      "        5373.822840010225,\n",
      "        1185.408652972277\n",
      "    ],\n",
      "    \"xaxis\": [\n",
      "        -0.2580290176609404,\n",
      "        0.6277482599146081,\n",
      "        0.7344066640622972\n",
      "    ],\n",
      "    \"yaxis\": [\n",
      "        -0.9661371673033442,\n",
      "        -0.16765452393882985,\n",
      "        -0.19614008911467898\n",
      "    ]\n",
      "} | config: None | attached to robot: True\n"
     ]
    }
   ],
   "source": [
    "print(end_state['robot'])\n",
    "print(end_state['tool_changer'])"
   ]
  }
 ],
 "metadata": {
  "interpreter": {
   "hash": "e316c14abce5fba3fe9c4f8c619f8000a7b0c13889e51eb6196aed0ab3fd7ed0"
  },
  "kernelspec": {
   "display_name": "Python 3",
   "language": "python",
   "name": "python3"
  },
  "language_info": {
   "codemirror_mode": {
    "name": "ipython",
    "version": 3
   },
   "file_extension": ".py",
   "mimetype": "text/x-python",
   "name": "python",
   "nbconvert_exporter": "python",
   "pygments_lexer": "ipython3",
   "version": "3.7.9"
  }
 },
 "nbformat": 4,
 "nbformat_minor": 5
}
