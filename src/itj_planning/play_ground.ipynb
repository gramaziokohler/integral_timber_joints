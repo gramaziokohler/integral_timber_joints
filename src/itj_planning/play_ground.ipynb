{
 "cells": [
  {
   "cell_type": "code",
   "execution_count": 1,
   "id": "industrial-magic",
   "metadata": {},
   "outputs": [
    {
     "output_type": "stream",
     "name": "stdout",
     "text": [
      "c:\\Users\\harry\\Dropbox (MIT)\\code_ws_dropbox\\itj_ws\\integral_timber_joints\\external\\compas_fab_pychoreo\\examples\n"
     ]
    }
   ],
   "source": [
    "# add current dir to path\n",
    "import os\n",
    "import sys\n",
    "nb_dir = os.path.abspath(os.path.split(os.getcwd())[0])\n",
    "print(nb_dir)\n",
    "if nb_dir not in sys.path:\n",
    "    sys.path.append(nb_dir)"
   ]
  },
  {
   "cell_type": "code",
   "execution_count": 2,
   "id": "twelve-harvey",
   "metadata": {},
   "outputs": [],
   "source": [
    "from itj.parsing import parse_process, get_process_path, save_process_and_movements\n",
    "from termcolor import cprint"
   ]
  },
  {
   "cell_type": "code",
   "execution_count": 3,
   "id": "exact-destruction",
   "metadata": {},
   "outputs": [],
   "source": [
    "process_file = 'twelve_pieces_process.json'\n",
    "process = parse_process(process_file)\n",
    "assembly = process.assembly # For convinence\n",
    "toolchanger = process.robot_toolchanger"
   ]
  },
  {
   "cell_type": "code",
   "execution_count": 5,
   "id": "successful-process",
   "metadata": {},
   "outputs": [
    {
     "output_type": "stream",
     "name": "stdout",
     "text": [
      "file name:  L0_visual_0\nfile name:  L0_visual_1\nfile name:  L0_collision_0\nfile name:  L0_collision_1\n"
     ]
    }
   ],
   "source": [
    "path = r'C:\\Users\\harry\\Dropbox (MIT)\\code_ws_dropbox\\itj_ws\\integral_timber_joints\\external\\compas_fab_pychoreo\\examples\\itj\\data'\n",
    "toolchanger.save_as_urdf(path, 1e-3)"
   ]
  },
  {
   "cell_type": "code",
   "execution_count": 4,
   "id": "blank-heating",
   "metadata": {},
   "outputs": [
    {
     "output_type": "execute_result",
     "data": {
      "text/plain": [
       "True"
      ]
     },
     "metadata": {},
     "execution_count": 4
    }
   ],
   "source": [
    "from compas.robots import RobotModel, ToolModel\n",
    "from integral_timber_joints.tools import Tool\n",
    "\n",
    "isinstance(toolchanger, ToolModel)"
   ]
  },
  {
   "cell_type": "code",
   "execution_count": 6,
   "id": "upper-trustee",
   "metadata": {},
   "outputs": [
    {
     "output_type": "stream",
     "name": "stdout",
     "text": [
      "[<compas.robots.model.link.Visual object at 0x000001F1A1823D48>, <compas.robots.model.link.Visual object at 0x000001F1A17FBC08>]\n0 <compas.robots.model.link.Collision object at 0x000001F1A1808788> e23e6a6f-a779-4048-a26f-7acbf7e3fe82\n<compas.robots.model.link.Collision object at 0x000001F1A1808788>\n1 <compas.robots.model.link.Collision object at 0x000001F1A1810548> 365a468d-f0f0-494a-b974-5ccba36fb949\n<compas.robots.model.link.Collision object at 0x000001F1A1810548>\n"
     ]
    }
   ],
   "source": [
    "for link in toolchanger.links:\n",
    "    print(link.visual)\n",
    "    for i, element in enumerate(link.collision):\n",
    "        shape = element.geometry.shape\n",
    "        print(i, element, shape.geometry.guid)\n",
    "        print(element)\n",
    "        # print(shape.geometry.guid)\n"
   ]
  },
  {
   "cell_type": "code",
   "execution_count": 24,
   "id": "sought-question",
   "metadata": {},
   "outputs": [
    {
     "output_type": "stream",
     "name": "stdout",
     "text": [
      "<class 'xml.etree.ElementTree.Element'>\n{'filename': ''}\n"
     ]
    }
   ],
   "source": [
    "from compas.files import URDF\n",
    "from compas.robots import MeshDescriptor\n",
    "# https://docs.python.org/3/library/xml.etree.elementtree.html\n",
    "urdf = URDF.from_robot(toolchanger)\n",
    "meshes = list(urdf.xml.root.iter('mesh'))\n",
    "print(type(meshes[0]))\n",
    "print(meshes[0].attrib)\n",
    "# for m in meshes:\n",
    "#     print(m.)"
   ]
  },
  {
   "cell_type": "code",
   "execution_count": 5,
   "id": "computational-crossing",
   "metadata": {},
   "outputs": [],
   "source": [
    "# all_movements = process.get_movements_by_beam_id('b0')\n",
    "# save_process_and_movements(process_file, process, all_movements, overwrite=False,include_traj_in_process=False)"
   ]
  },
  {
   "cell_type": "markdown",
   "id": "tropical-intersection",
   "metadata": {},
   "source": [
    "## Initial state"
   ]
  },
  {
   "cell_type": "code",
   "execution_count": 4,
   "id": "shaped-onion",
   "metadata": {},
   "outputs": [],
   "source": [
    "initial_state = process.initial_state"
   ]
  },
  {
   "cell_type": "code",
   "execution_count": 5,
   "id": "delayed-color",
   "metadata": {},
   "outputs": [
    {
     "name": "stdout",
     "output_type": "stream",
     "text": [
      "State: current frame: None | config: Configuration((21.400, -3.746, -3.620, -0.524, -0.524, 0.000, 0.000, 0.524, 0.000), (2, 2, 2, 0, 0, 0, 0, 0, 0), ('bridge1_joint_EA_X', 'robot11_joint_EA_Y', 'robot11_joint_EA_Z', 'robot11_joint_1', 'robot11_joint_2', 'robot11_joint_3', 'robot11_joint_4', 'robot11_joint_5', 'robot11_joint_6')) | attached to robot: False\n"
     ]
    }
   ],
   "source": [
    "print(initial_state['robot'])"
   ]
  },
  {
   "cell_type": "code",
   "execution_count": 6,
   "id": "institutional-ridge",
   "metadata": {},
   "outputs": [],
   "source": [
    "env_models = process.environment_models"
   ]
  },
  {
   "cell_type": "code",
   "execution_count": 11,
   "id": "touched-effort",
   "metadata": {},
   "outputs": [],
   "source": [
    "from compas_fab.robots import CollisionMesh\n",
    "\n",
    "cm = CollisionMesh(env_models['e0'], 'e0')"
   ]
  },
  {
   "cell_type": "code",
   "execution_count": 13,
   "id": "corrected-theorem",
   "metadata": {},
   "outputs": [],
   "source": [
    "cm.scale(1e-3)"
   ]
  },
  {
   "cell_type": "markdown",
   "id": "welsh-canberra",
   "metadata": {},
   "source": [
    "## Get Gripper mesh / URDF"
   ]
  },
  {
   "cell_type": "code",
   "execution_count": 5,
   "id": "selective-photograph",
   "metadata": {},
   "outputs": [],
   "source": [
    "# gripper1 = process.gripper('g1')\n",
    "# gripper1.to_urdf_file('g1.urdf', prettify=True)"
   ]
  },
  {
   "cell_type": "code",
   "execution_count": 6,
   "id": "qualified-liabilities",
   "metadata": {},
   "outputs": [],
   "source": [
    "from compas.geometry import Frame\n",
    "tool = process.tool('g1')\n",
    "tool.frame = Frame.worldXY()\n",
    "tool_mesh = tool.draw_visual()"
   ]
  },
  {
   "cell_type": "markdown",
   "id": "certain-creek",
   "metadata": {},
   "source": [
    "## Get States"
   ]
  },
  {
   "cell_type": "code",
   "execution_count": 23,
   "id": "fantastic-explorer",
   "metadata": {},
   "outputs": [],
   "source": [
    "process_file = 'twelve_pieces_process.json'\n",
    "process = parse_process(process_file)"
   ]
  },
  {
   "cell_type": "code",
   "execution_count": 24,
   "id": "looking-arbitration",
   "metadata": {},
   "outputs": [
    {
     "name": "stdout",
     "output_type": "stream",
     "text": [
      "======\n",
      "0): Operator load Beam ('b0') for pickup\n",
      "---\n",
      "#0 - priority -1 | OperatorLoadBeamMovement(#A0_M0, Opeartor Load Beam to Pickup Location)\n",
      "Start conf:  True\n",
      "Start conf:  True\n",
      "{'gripper_jaw_position': 0.8}\n",
      "{'gripper_jaw_position': 0.8}\n",
      "======\n",
      "1): Pick PG1000 ('g2') from Storage\n",
      "---\n",
      "#0 - priority 0 | RoboticFreeMovement(#A1_M0, Free Move reach Storage Approach Frame of PG1000 ('g2'), to get tool., target conf 0, traj 0)\n",
      "Start conf:  True\n",
      "Start conf:  False\n",
      "[]\n",
      "{'gripper_jaw_position': 0.8}\n",
      "{'gripper_jaw_position': 0.8}\n",
      "---\n",
      "#1 - priority 0 | RoboticLinearMovement(#A1_M1, Linear Advance to Storage Frame of PG1000 ('g2'), to get tool., target conf 1, traj 0)\n",
      "Start conf:  False\n",
      "Start conf:  True\n",
      "[['robot', 'g2']]\n",
      "{'gripper_jaw_position': 0.8}\n",
      "{'gripper_jaw_position': 0.8}\n",
      "---\n",
      "#2 - priority -1 | RoboticDigitalOutput(#A1_M2, Toolchanger Lock PG1000 ('g2'))\n",
      "Start conf:  True\n",
      "Start conf:  True\n",
      "{'gripper_jaw_position': 0.8}\n",
      "{'gripper_jaw_position': 0.8}\n",
      "---\n",
      "#3 - priority -1 | RoboticDigitalOutput(#A1_M3, PG1000 ('g2') Open Gripper to release itself from storage pad.)\n",
      "Start conf:  True\n",
      "Start conf:  True\n",
      "{'gripper_jaw_position': 0.8}\n",
      "{'gripper_jaw_position': 0.8}\n",
      "---\n",
      "#4 - priority 0 | RoboticLinearMovement(#A1_M4, Linear Retract after getting PG1000 ('g2') from storage., target conf 0, traj 0)\n",
      "Start conf:  True\n",
      "Start conf:  False\n",
      "[]\n",
      "{'gripper_jaw_position': 0.8}\n",
      "{'gripper_jaw_position': 10.0}\n",
      "======\n",
      "2): Pick Beam ('b0') from Storage\n",
      "---\n",
      "#0 - priority 0 | RoboticFreeMovement(#A2_M0, Free Move to reach Pickup Approach Frame of Beam ('b0'), target conf 0, traj 0)\n",
      "Start conf:  False\n",
      "Start conf:  False\n",
      "[]\n",
      "{'gripper_jaw_position': 0.8}\n",
      "{'gripper_jaw_position': 10.0}\n",
      "---\n",
      "#1 - priority -1 | RoboticDigitalOutput(#A2_M1, Gripper ('g2') Open Gripper before gripping Beam ('b0'))\n",
      "Start conf:  False\n",
      "Start conf:  False\n",
      "{'gripper_jaw_position': 0.8}\n",
      "{'gripper_jaw_position': 10.0}\n",
      "---\n",
      "#2 - priority 0 | RoboticLinearMovement(#A2_M2, Linear Advance to Storage Frame of Beam ('b0'), target conf 0, traj 0)\n",
      "Start conf:  False\n",
      "Start conf:  False\n",
      "[]\n",
      "{'gripper_jaw_position': 0.8}\n",
      "{'gripper_jaw_position': 10.0}\n",
      "---\n",
      "#3 - priority -1 | RoboticDigitalOutput(#A2_M3, Gripper ('g2') Close Gripper to grip Beam ('b0'))\n",
      "Start conf:  False\n",
      "Start conf:  False\n",
      "{'gripper_jaw_position': 0.8}\n",
      "{'gripper_jaw_position': 10.0}\n",
      "---\n",
      "#4 - priority 0 | RoboticLinearMovement(#A2_M4, Linear Retract after picking up Beam ('b0'), target conf 0, traj 0)\n",
      "Start conf:  False\n",
      "Start conf:  False\n",
      "[]\n",
      "{'gripper_jaw_position': 0.8}\n",
      "{'gripper_jaw_position': 0.8}\n",
      "======\n",
      "3): Place Beam ('b0') to final location without clamps\n",
      "---\n",
      "#0 - priority 0 | RoboticFreeMovement(#A3_M0, Free Move to bring Beam ('b0') to final location, target conf 0, traj 0)\n",
      "Start conf:  False\n",
      "Start conf:  False\n",
      "[]\n",
      "{'gripper_jaw_position': 0.8}\n",
      "{'gripper_jaw_position': 0.8}\n",
      "---\n",
      "#1 - priority 1 | RoboticLinearMovement(#A3_M1, Linear Advance to Final Frame of Beam ('b0'), target conf 0, traj 0)\n",
      "Start conf:  False\n",
      "Start conf:  False\n",
      "[]\n",
      "{'gripper_jaw_position': 0.8}\n",
      "{'gripper_jaw_position': 0.8}\n",
      "---\n",
      "#2 - priority -1 | RoboticDigitalOutput(#A3_M2, Open Gripper ('g2') and let go of Beam ('b0'))\n",
      "Start conf:  False\n",
      "Start conf:  False\n",
      "{'gripper_jaw_position': 0.8}\n",
      "{'gripper_jaw_position': 0.8}\n",
      "---\n",
      "#3 - priority 0 | RoboticLinearMovement(#A3_M3, Linear retract after placing Beam ('b0'), target conf 0, traj 0)\n",
      "Start conf:  False\n",
      "Start conf:  False\n",
      "[]\n",
      "{'gripper_jaw_position': 0.8}\n",
      "{'gripper_jaw_position': 10.0}\n",
      "======\n",
      "4): Place PG1000 ('g2') to Storage\n",
      "---\n",
      "#0 - priority 0 | RoboticFreeMovement(#A4_M0, Free Move to reach Storage Approach Frame of PG1000 ('g2'), to place tool in storage., target conf 0, traj 0)\n",
      "Start conf:  False\n",
      "Start conf:  False\n",
      "[]\n",
      "{'gripper_jaw_position': 0.8}\n",
      "{'gripper_jaw_position': 10.0}\n",
      "---\n",
      "#1 - priority 0 | RoboticLinearMovement(#A4_M1, Linear Advance to Storage Frame of PG1000 ('g2'), to place tool in storage., target conf 1, traj 0)\n",
      "Start conf:  False\n",
      "Start conf:  True\n",
      "[]\n",
      "{'gripper_jaw_position': 0.8}\n",
      "{'gripper_jaw_position': 10.0}\n",
      "---\n",
      "#2 - priority -1 | RoboticDigitalOutput(#A4_M2, PG1000 ('g2') Close Gripper to lock onto storage pad.)\n",
      "Start conf:  True\n",
      "Start conf:  True\n",
      "{'gripper_jaw_position': 0.8}\n",
      "{'gripper_jaw_position': 10.0}\n",
      "---\n",
      "#3 - priority -1 | RoboticDigitalOutput(#A4_M3, Toolchanger Unlock PG1000 ('g2'))\n",
      "Start conf:  True\n",
      "Start conf:  True\n",
      "{'gripper_jaw_position': 0.8}\n",
      "{'gripper_jaw_position': 0.8}\n",
      "---\n",
      "#4 - priority 0 | RoboticLinearMovement(#A4_M4, Linear Retract from storage after placing PG1000 ('g2') in storage, target conf 0, traj 0)\n",
      "Start conf:  True\n",
      "Start conf:  False\n",
      "[['robot', 'g2']]\n",
      "{'gripper_jaw_position': 0.8}\n",
      "{'gripper_jaw_position': 0.8}\n"
     ]
    }
   ],
   "source": [
    "from integral_timber_joints.process import RoboticFreeMovement, RoboticLinearMovement, RoboticMovement\n",
    "\n",
    "seq = assembly.sequence\n",
    "actions = process.get_action_by_beam_id(seq[0])\n",
    "\n",
    "for i, ac in enumerate(actions):\n",
    "    print(\"======\")\n",
    "    print('{}): {}'.format(i,ac))\n",
    "    for j, m in enumerate(ac.movements):\n",
    "        print('---')\n",
    "        print('#{} - priority {} | {}'.format(j, m.planning_priority, m.short_summary))\n",
    "        print('Start conf: ', process.movement_has_start_robot_config(m))\n",
    "        print('Start conf: ', process.movement_has_end_robot_config(m))\n",
    "        try:\n",
    "            print(m.allowed_collision_matrix)\n",
    "        except:\n",
    "            pass\n",
    "        start_state = process.get_movement_start_state(m)\n",
    "        end_state = process.get_movement_end_state(m)\n",
    "        print(start_state['g1'].kinematic_config)\n",
    "        print(start_state['g2'].kinematic_config)"
   ]
  },
  {
   "cell_type": "code",
   "execution_count": 6,
   "id": "sixth-pacific",
   "metadata": {},
   "outputs": [
    {
     "name": "stdout",
     "output_type": "stream",
     "text": [
      "=====\n",
      "Summary:\n",
      "---\n",
      "(0) OperatorLoadBeamMovement(#A0_M0, Opeartor Load Beam to Pickup Location) \n",
      "priority \u001b[37m-1\u001b[0m | has start conf \u001b[32mTrue\u001b[0m | has end conf \u001b[32mTrue\u001b[0m\n",
      "---\n",
      "(1) \u001b[43m\u001b[37mRoboticFreeMovement(#A1_M0, Free Move reach Storage Approach Frame of PG1000 ('g2'), to get tool., target conf 0, traj 0)\u001b[0m \n",
      "priority \u001b[35m0\u001b[0m | has start conf \u001b[32mTrue\u001b[0m | has end conf \u001b[31mFalse\u001b[0m | has traj \u001b[31mNone\u001b[0m\n",
      "---\n",
      "(2) \u001b[44m\u001b[37mRoboticLinearMovement(#A1_M1, Linear Advance to Storage Frame of PG1000 ('g2'), to get tool., target conf 1, traj 0)\u001b[0m \n",
      "priority \u001b[35m0\u001b[0m | has start conf \u001b[31mFalse\u001b[0m | has end conf \u001b[32mTrue\u001b[0m | has traj \u001b[31mNone\u001b[0m\n",
      "---\n",
      "(3) RoboticDigitalOutput(#A1_M2, Toolchanger Lock PG1000 ('g2')) \n",
      "priority \u001b[37m-1\u001b[0m | has start conf \u001b[32mTrue\u001b[0m | has end conf \u001b[32mTrue\u001b[0m\n",
      "---\n",
      "(4) RoboticDigitalOutput(#A1_M3, PG1000 ('g2') Open Gripper to release itself from storage pad.) \n",
      "priority \u001b[37m-1\u001b[0m | has start conf \u001b[32mTrue\u001b[0m | has end conf \u001b[32mTrue\u001b[0m\n",
      "---\n",
      "(5) \u001b[44m\u001b[37mRoboticLinearMovement(#A1_M4, Linear Retract after getting PG1000 ('g2') from storage., target conf 0, traj 0)\u001b[0m \n",
      "priority \u001b[35m0\u001b[0m | has start conf \u001b[32mTrue\u001b[0m | has end conf \u001b[31mFalse\u001b[0m | has traj \u001b[31mNone\u001b[0m\n",
      "---\n",
      "(6) \u001b[43m\u001b[37mRoboticFreeMovement(#A2_M0, Free Move to reach Pickup Approach Frame of Beam ('b0'), target conf 0, traj 0)\u001b[0m \n",
      "priority \u001b[35m0\u001b[0m | has start conf \u001b[31mFalse\u001b[0m | has end conf \u001b[31mFalse\u001b[0m | has traj \u001b[31mNone\u001b[0m\n",
      "---\n",
      "(7) RoboticDigitalOutput(#A2_M1, Gripper ('g2') Open Gripper before gripping Beam ('b0')) \n",
      "priority \u001b[37m-1\u001b[0m | has start conf \u001b[31mFalse\u001b[0m | has end conf \u001b[31mFalse\u001b[0m\n",
      "---\n",
      "(8) \u001b[44m\u001b[37mRoboticLinearMovement(#A2_M2, Linear Advance to Storage Frame of Beam ('b0'), target conf 0, traj 0)\u001b[0m \n",
      "priority \u001b[35m0\u001b[0m | has start conf \u001b[31mFalse\u001b[0m | has end conf \u001b[31mFalse\u001b[0m | has traj \u001b[31mNone\u001b[0m\n",
      "---\n",
      "(9) RoboticDigitalOutput(#A2_M3, Gripper ('g2') Close Gripper to grip Beam ('b0')) \n",
      "priority \u001b[37m-1\u001b[0m | has start conf \u001b[31mFalse\u001b[0m | has end conf \u001b[31mFalse\u001b[0m\n",
      "---\n",
      "(10) \u001b[44m\u001b[37mRoboticLinearMovement(#A2_M4, Linear Retract after picking up Beam ('b0'), target conf 0, traj 0)\u001b[0m \n",
      "priority \u001b[35m0\u001b[0m | has start conf \u001b[31mFalse\u001b[0m | has end conf \u001b[31mFalse\u001b[0m | has traj \u001b[31mNone\u001b[0m\n",
      "---\n",
      "(11) \u001b[43m\u001b[37mRoboticFreeMovement(#A3_M0, Free Move to bring Beam ('b0') to final location, target conf 0, traj 0)\u001b[0m \n",
      "priority \u001b[35m0\u001b[0m | has start conf \u001b[31mFalse\u001b[0m | has end conf \u001b[31mFalse\u001b[0m | has traj \u001b[31mNone\u001b[0m\n",
      "---\n",
      "(12) \u001b[44m\u001b[37mRoboticLinearMovement(#A3_M1, Linear Advance to Final Frame of Beam ('b0'), target conf 0, traj 0)\u001b[0m \n",
      "priority \u001b[34m1\u001b[0m | has start conf \u001b[31mFalse\u001b[0m | has end conf \u001b[31mFalse\u001b[0m | has traj \u001b[31mNone\u001b[0m\n",
      "---\n",
      "(13) RoboticDigitalOutput(#A3_M2, Open Gripper ('g2') and let go of Beam ('b0')) \n",
      "priority \u001b[37m-1\u001b[0m | has start conf \u001b[31mFalse\u001b[0m | has end conf \u001b[31mFalse\u001b[0m\n",
      "---\n",
      "(14) \u001b[44m\u001b[37mRoboticLinearMovement(#A3_M3, Linear retract after placing Beam ('b0'), target conf 0, traj 0)\u001b[0m \n",
      "priority \u001b[35m0\u001b[0m | has start conf \u001b[31mFalse\u001b[0m | has end conf \u001b[31mFalse\u001b[0m | has traj \u001b[31mNone\u001b[0m\n",
      "---\n",
      "(15) \u001b[43m\u001b[37mRoboticFreeMovement(#A4_M0, Free Move to reach Storage Approach Frame of PG1000 ('g2'), to place tool in storage., target conf 0, traj 0)\u001b[0m \n",
      "priority \u001b[35m0\u001b[0m | has start conf \u001b[31mFalse\u001b[0m | has end conf \u001b[31mFalse\u001b[0m | has traj \u001b[31mNone\u001b[0m\n",
      "---\n",
      "(16) \u001b[44m\u001b[37mRoboticLinearMovement(#A4_M1, Linear Advance to Storage Frame of PG1000 ('g2'), to place tool in storage., target conf 1, traj 0)\u001b[0m \n",
      "priority \u001b[35m0\u001b[0m | has start conf \u001b[31mFalse\u001b[0m | has end conf \u001b[32mTrue\u001b[0m | has traj \u001b[31mNone\u001b[0m\n",
      "---\n",
      "(17) RoboticDigitalOutput(#A4_M2, PG1000 ('g2') Close Gripper to lock onto storage pad.) \n",
      "priority \u001b[37m-1\u001b[0m | has start conf \u001b[32mTrue\u001b[0m | has end conf \u001b[32mTrue\u001b[0m\n",
      "---\n",
      "(18) RoboticDigitalOutput(#A4_M3, Toolchanger Unlock PG1000 ('g2')) \n",
      "priority \u001b[37m-1\u001b[0m | has start conf \u001b[32mTrue\u001b[0m | has end conf \u001b[32mTrue\u001b[0m\n",
      "---\n",
      "(19) \u001b[44m\u001b[37mRoboticLinearMovement(#A4_M4, Linear Retract from storage after placing PG1000 ('g2') in storage, target conf 0, traj 0)\u001b[0m \n",
      "priority \u001b[35m0\u001b[0m | has start conf \u001b[32mTrue\u001b[0m | has end conf \u001b[31mFalse\u001b[0m | has traj \u001b[31mNone\u001b[0m\n"
     ]
    }
   ],
   "source": [
    "process.get_movement_summary_by_beam_id(seq[0])"
   ]
  },
  {
   "cell_type": "code",
   "execution_count": 12,
   "id": "knowing-calibration",
   "metadata": {},
   "outputs": [
    {
     "name": "stdout",
     "output_type": "stream",
     "text": [
      "[]\n"
     ]
    }
   ],
   "source": [
    "beam_id = seq[0]\n",
    "all_movements = process.get_movements_by_beam_id(beam_id)\n",
    "i=14\n",
    "m = all_movements[i]\n",
    "print(m.allowed_collision_matrix)"
   ]
  },
  {
   "cell_type": "code",
   "execution_count": 16,
   "id": "fifth-class",
   "metadata": {},
   "outputs": [
    {
     "data": {
      "text/plain": [
       "1"
      ]
     },
     "execution_count": 16,
     "metadata": {},
     "output_type": "execute_result"
    }
   ],
   "source": [
    "movements.index(m)"
   ]
  },
  {
   "cell_type": "code",
   "execution_count": 9,
   "id": "previous-paste",
   "metadata": {},
   "outputs": [
    {
     "name": "stdout",
     "output_type": "stream",
     "text": [
      "State: current frame: Frame(Point(22744.870, 4645.293, 566.131), Vector(-1.000, -0.000, 0.000), Vector(-0.000, 1.000, -0.000)) | config: None | attached to robot: False | attached to joint: None\n"
     ]
    }
   ],
   "source": [
    "print(process.get_movement_start_state(movements[2])['robot'])"
   ]
  },
  {
   "cell_type": "code",
   "execution_count": 9,
   "id": "proud-firmware",
   "metadata": {},
   "outputs": [
    {
     "name": "stdout",
     "output_type": "stream",
     "text": [
      "<class 'integral_timber_joints.process.movement.RoboticFreeMovement'>\n",
      "dict_keys(['b0', 'b1', 'b10', 'b11', 'b12', 'b13', 'b14', 'b15', 'b16', 'b17', 'b18', 'b19', 'b2', 'b20', 'b21', 'b22', 'b23', 'b24', 'b25', 'b26', 'b27', 'b28', 'b29', 'b3', 'b30', 'b31', 'b32', 'b33', 'b34', 'b35', 'b36', 'b37', 'b38', 'b39', 'b4', 'b5', 'b6', 'b7', 'b8', 'b9', 'c1', 'c2', 'c3', 'c4', 'g1', 'g2', 'robot', 'tool_changer'])\n"
     ]
    }
   ],
   "source": [
    "m_id = 11\n",
    "m = movements[m_id]\n",
    "print(type(m))\n",
    "start_state = process.get_movement_start_state(m)\n",
    "print(start_state.keys())"
   ]
  },
  {
   "cell_type": "code",
   "execution_count": 10,
   "id": "ordered-metabolism",
   "metadata": {},
   "outputs": [
    {
     "name": "stdout",
     "output_type": "stream",
     "text": [
      "<class 'integral_timber_joints.process.movement.RoboticLinearMovement'>\n",
      "dict_keys(['b0', 'b1', 'b10', 'b11', 'b12', 'b13', 'b14', 'b15', 'b16', 'b17', 'b18', 'b19', 'b2', 'b20', 'b21', 'b22', 'b23', 'b24', 'b25', 'b26', 'b27', 'b28', 'b29', 'b3', 'b30', 'b31', 'b32', 'b33', 'b34', 'b35', 'b36', 'b37', 'b38', 'b39', 'b4', 'b5', 'b6', 'b7', 'b8', 'b9', 'c1', 'c2', 'c3', 'c4', 'g1', 'g2', 'robot', 'tool_changer'])\n",
      "{'current_frame': Frame(Point(16038.051, 7049.996, 1844.357), Vector(0.000, 1.000, -0.000), Vector(-0.000, 0.000, 1.000)), 'kinematic_config': None, 'attached_to_robot': False, 'attached_to_joint': None}\n",
      "{'current_frame': Frame(Point(23379.398, 4643.428, 712.425), Vector(0.000, -1.000, 0.000), Vector(-1.000, -0.000, -0.000)), 'kinematic_config': None, 'attached_to_robot': False, 'attached_to_joint': None}\n",
      "{'current_frame': Frame(Point(16038.051, 7049.996, 1844.357), Vector(0.000, 1.000, -0.000), Vector(-0.000, 0.000, 1.000)), 'kinematic_config': None, 'attached_to_robot': True, 'attached_to_joint': None}\n"
     ]
    }
   ],
   "source": [
    "m_id = 12\n",
    "m = movements[m_id]\n",
    "print(type(m))\n",
    "start_state = process.get_movement_start_state(m)\n",
    "print(start_state.keys())\n",
    "print(start_state['robot'].to_data())\n",
    "print(start_state['g1'].to_data())\n",
    "print(start_state['tool_changer'].to_data())"
   ]
  },
  {
   "cell_type": "code",
   "execution_count": 60,
   "id": "paperback-ukraine",
   "metadata": {},
   "outputs": [],
   "source": [
    "# print(process.initial_state['b0'])\n",
    "from compas.geometry import Frame\n",
    "\n",
    "for object_id, object_state in process.initial_state.items():\n",
    "    # Draw each object in the state dictionary\n",
    "    # print (object_id, object_state)\n",
    "    if object_id.startswith('b'):\n",
    "        beam = process.assembly.beam(object_id)\n",
    "        beam.current_frame = Frame.worldXY()\n",
    "        meshes = beam.draw_state(object_state)\n",
    "\n",
    "    # Tool objects\n",
    "    # if object_id.startswith('c') or object_id.startswith('g'):\n",
    "    #     tool = process.tool(object_id)\n",
    "    #     meshes = tool.draw_state(object_state)\n",
    "\n",
    "    # # Tool Changer\n",
    "    # if object_id.startswith('t'):\n",
    "    #     tool = process.robot_toolchanger\n",
    "    #     meshes = tool.draw_state(object_state)"
   ]
  },
  {
   "cell_type": "code",
   "execution_count": 55,
   "id": "hispanic-polyester",
   "metadata": {},
   "outputs": [
    {
     "name": "stdout",
     "output_type": "stream",
     "text": [
      "{}\n"
     ]
    }
   ],
   "source": [
    "# TODO double check with Victor\n",
    "print(process.environment_models)"
   ]
  },
  {
   "cell_type": "markdown",
   "id": "successful-dublin",
   "metadata": {},
   "source": [
    "## Grasp"
   ]
  },
  {
   "cell_type": "code",
   "execution_count": 35,
   "id": "modern-climate",
   "metadata": {},
   "outputs": [
    {
     "data": {
      "text/plain": [
       "Transformation([[1.0, -0.0, 0.0, 1541.2621765136737], [0.0, 0.0, -1.0, 100.0], [0.0, 1.0, 0.0, 50.0], [0.0, 0.0, 0.0, 1.0]])"
      ]
     },
     "execution_count": 35,
     "metadata": {},
     "output_type": "execute_result"
    }
   ],
   "source": [
    "from compas.geometry import Transformation\n",
    "\n",
    "beam_id = 'b1'\n",
    "beam_ocf_from_gripper_tcp = Transformation.from_frame(process.assembly.get_beam_attribute(beam_id, \"gripper_tcp_in_ocf\"))\n",
    "beam_ocf_from_gripper_tcp"
   ]
  }
 ],
 "metadata": {
  "kernelspec": {
   "display_name": "Python 3",
   "language": "python",
   "name": "python3"
  },
  "language_info": {
   "codemirror_mode": {
    "name": "ipython",
    "version": 3
   },
   "file_extension": ".py",
   "mimetype": "text/x-python",
   "name": "python",
   "nbconvert_exporter": "python",
   "pygments_lexer": "ipython3",
   "version": "3.7.9-final"
  }
 },
 "nbformat": 4,
 "nbformat_minor": 5
}