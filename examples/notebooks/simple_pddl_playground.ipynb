{
 "cells": [
  {
   "cell_type": "code",
   "execution_count": 1,
   "metadata": {},
   "outputs": [],
   "source": [
    "%load_ext autoreload\n",
    "%autoreload 2"
   ]
  },
  {
   "cell_type": "code",
   "execution_count": 2,
   "metadata": {},
   "outputs": [
    {
     "name": "stdout",
     "output_type": "stream",
     "text": [
      "\u001b[33mUsing pddlstream from C:\\Users\\harry\\Documents\\code_ws\\pb_ws\\coop_assembly\\external\\pddlstream\\pddlstream\\__init__.py\u001b[0m\n"
     ]
    }
   ],
   "source": [
    "from integral_timber_joints.planning import load_pddlstream"
   ]
  },
  {
   "cell_type": "markdown",
   "metadata": {},
   "source": [
    "## Parse ITJ process"
   ]
  },
  {
   "cell_type": "code",
   "execution_count": 3,
   "metadata": {},
   "outputs": [],
   "source": [
    "import os\n",
    "from termcolor import cprint\n",
    "import pybullet_planning as pp\n",
    "from integral_timber_joints.planning.parsing import parse_process, save_process_and_movements, \\\n",
    "    get_process_path, save_process"
   ]
  },
  {
   "cell_type": "code",
   "execution_count": 4,
   "metadata": {},
   "outputs": [],
   "source": [
    "# parse options\n",
    "design_dir = '210916_SymbolicPlanning' # '210419_AnticlasticShelter' # '210605_ScrewdriverTestProcess' # 210419_AnticlasticShelter\n",
    "problem = 'nine_pieces_process.json' #'shelter_process.json' # 'shelter_process.json' pavilion_process.json' # 'twelve_pieces_process.json'\n",
    "problem_subdir = '.'"
   ]
  },
  {
   "cell_type": "code",
   "execution_count": 5,
   "metadata": {},
   "outputs": [
    {
     "name": "stdout",
     "output_type": "stream",
     "text": [
      "\u001b[34mProcess json parsed from c:\\users\\harry\\dropbox (mit)\\code_ws_dropbox\\itj_ws\\integral_timber_joints\\external\\itj_design_study\\210916_SymbolicPlanning\\nine_pieces_process.json\u001b[0m\n"
     ]
    }
   ],
   "source": [
    "process = parse_process(design_dir, problem, subdir=problem_subdir)\n",
    "\n",
    "# Double check entire solution is valid\n",
    "for beam_id in process.assembly.sequence:\n",
    "    if not process.dependency.beam_all_valid(beam_id):\n",
    "        process.dependency.compute_all(beam_id)\n",
    "        assert process.dependency.beam_all_valid(beam_id)"
   ]
  },
  {
   "cell_type": "markdown",
   "metadata": {},
   "source": [
    "## Construct PDDL problem"
   ]
  },
  {
   "cell_type": "code",
   "execution_count": 6,
   "metadata": {},
   "outputs": [],
   "source": [
    "from integral_timber_joints.planning.pddlstream_definitions.problem import get_pddlstream_problem"
   ]
  },
  {
   "cell_type": "code",
   "execution_count": 7,
   "metadata": {},
   "outputs": [],
   "source": [
    "debug = 0\n",
    "verbose = 1\n",
    "use_partial_order = 1\n",
    "reset_to_home = 0"
   ]
  },
  {
   "cell_type": "code",
   "execution_count": 8,
   "metadata": {},
   "outputs": [],
   "source": [
    "pddlstream_problem = get_pddlstream_problem(process, use_partial_order=use_partial_order, debug=debug, \n",
    "                                            reset_to_home=reset_to_home)"
   ]
  },
  {
   "cell_type": "code",
   "execution_count": 9,
   "metadata": {},
   "outputs": [
    {
     "name": "stdout",
     "output_type": "stream",
     "text": [
      "Init: [('RobotConf', Conf-Home), ('RobotAtConf', Conf-Home), ('CanFreeMove',), ('RobotToolChangerEmpty',), ('Element', 'b0'), ('AtRack', 'b0'), ('IsElement', 'b0'), ('Grounded', 'b0'), ('Element', 'b1'), ('AtRack', 'b1'), ('IsElement', 'b1'), ('Grounded', 'b1'), ('Element', 'b2'), ('AtRack', 'b2'), ('IsElement', 'b2'), ('Element', 'b3'), ('AtRack', 'b3'), ('IsElement', 'b3'), ('Element', 'b5'), ('AtRack', 'b5'), ('IsElement', 'b5'), ('Grounded', 'b5'), ('Element', 'b6'), ('AtRack', 'b6'), ('IsElement', 'b6'), ('Element', 'b7'), ('AtRack', 'b7'), ('IsElement', 'b7'), ('Grounded', 'b7'), ('Element', 'b8'), ('AtRack', 'b8'), ('IsElement', 'b8'), ('Element', 'b4'), ('AtRack', 'b4'), ('IsElement', 'b4'), ('Joint', 'b0', 'b2'), ('Joint', 'b2', 'b0'), ('NoToolAtJoint', 'b0', 'b2'), ('NoToolAtJoint', 'b2', 'b0'), ('Joint', 'b0', 'b3'), ('Joint', 'b3', 'b0'), ('NoToolAtJoint', 'b0', 'b3'), ('NoToolAtJoint', 'b3', 'b0'), ('Joint', 'b0', 'b6'), ('Joint', 'b6', 'b0'), ('NoToolAtJoint', 'b0', 'b6'), ('NoToolAtJoint', 'b6', 'b0'), ('Joint', 'b1', 'b2'), ('Joint', 'b2', 'b1'), ('NoToolAtJoint', 'b1', 'b2'), ('NoToolAtJoint', 'b2', 'b1'), ('Joint', 'b1', 'b3'), ('Joint', 'b3', 'b1'), ('NoToolAtJoint', 'b1', 'b3'), ('NoToolAtJoint', 'b3', 'b1'), ('Joint', 'b1', 'b8'), ('Joint', 'b8', 'b1'), ('NoToolAtJoint', 'b1', 'b8'), ('NoToolAtJoint', 'b8', 'b1'), ('Joint', 'b2', 'b0'), ('Joint', 'b0', 'b2'), ('NoToolAtJoint', 'b2', 'b0'), ('NoToolAtJoint', 'b0', 'b2'), ('Joint', 'b2', 'b1'), ('Joint', 'b1', 'b2'), ('NoToolAtJoint', 'b2', 'b1'), ('NoToolAtJoint', 'b1', 'b2'), ('Joint', 'b3', 'b0'), ('Joint', 'b0', 'b3'), ('NoToolAtJoint', 'b3', 'b0'), ('NoToolAtJoint', 'b0', 'b3'), ('Joint', 'b3', 'b1'), ('Joint', 'b1', 'b3'), ('NoToolAtJoint', 'b3', 'b1'), ('NoToolAtJoint', 'b1', 'b3'), ('Joint', 'b4', 'b5'), ('Joint', 'b5', 'b4'), ('NoToolAtJoint', 'b4', 'b5'), ('NoToolAtJoint', 'b5', 'b4'), ('Joint', 'b4', 'b7'), ('Joint', 'b7', 'b4'), ('NoToolAtJoint', 'b4', 'b7'), ('NoToolAtJoint', 'b7', 'b4'), ('Joint', 'b5', 'b4'), ('Joint', 'b4', 'b5'), ('NoToolAtJoint', 'b5', 'b4'), ('NoToolAtJoint', 'b4', 'b5'), ('Joint', 'b5', 'b6'), ('Joint', 'b6', 'b5'), ('NoToolAtJoint', 'b5', 'b6'), ('NoToolAtJoint', 'b6', 'b5'), ('Joint', 'b6', 'b0'), ('Joint', 'b0', 'b6'), ('NoToolAtJoint', 'b6', 'b0'), ('NoToolAtJoint', 'b0', 'b6'), ('Joint', 'b6', 'b5'), ('Joint', 'b5', 'b6'), ('NoToolAtJoint', 'b6', 'b5'), ('NoToolAtJoint', 'b5', 'b6'), ('Joint', 'b7', 'b4'), ('Joint', 'b4', 'b7'), ('NoToolAtJoint', 'b7', 'b4'), ('NoToolAtJoint', 'b4', 'b7'), ('Joint', 'b7', 'b8'), ('Joint', 'b8', 'b7'), ('NoToolAtJoint', 'b7', 'b8'), ('NoToolAtJoint', 'b8', 'b7'), ('Joint', 'b8', 'b1'), ('Joint', 'b1', 'b8'), ('NoToolAtJoint', 'b8', 'b1'), ('NoToolAtJoint', 'b1', 'b8'), ('Joint', 'b8', 'b7'), ('Joint', 'b7', 'b8'), ('NoToolAtJoint', 'b8', 'b7'), ('NoToolAtJoint', 'b7', 'b8'), ('Order', 'b0', 'b1'), ('Order', 'b1', 'b2'), ('Order', 'b2', 'b3'), ('Order', 'b3', 'b5'), ('Order', 'b5', 'b6'), ('Order', 'b6', 'b7'), ('Order', 'b7', 'b8'), ('Order', 'b8', 'b4'), ('Clamp', 'c1'), ('IsClamp', 'c1'), ('IsTool', 'c1'), ('AtRack', 'c1'), ('ToolNotOccupiedOnJoint', 'c1'), ('Clamp', 'c2'), ('IsClamp', 'c2'), ('IsTool', 'c2'), ('AtRack', 'c2'), ('ToolNotOccupiedOnJoint', 'c2'), ('Clamp', 'c3'), ('IsClamp', 'c3'), ('IsTool', 'c3'), ('AtRack', 'c3'), ('ToolNotOccupiedOnJoint', 'c3'), ('Clamp', 'c4'), ('IsClamp', 'c4'), ('IsTool', 'c4'), ('AtRack', 'c4'), ('ToolNotOccupiedOnJoint', 'c4'), ('Gripper', 'g1'), ('IsGripper', 'g1'), ('IsTool', 'g1'), ('AtRack', 'g1'), ('Gripper', 'g2'), ('IsGripper', 'g2'), ('IsTool', 'g2'), ('AtRack', 'g2'), ('Gripper', 'g3'), ('IsGripper', 'g3'), ('IsTool', 'g3'), ('AtRack', 'g3')]\n",
      "\n",
      "Goal: ('and', ('Assembled', 'b0'), ('Assembled', 'b1'), ('Assembled', 'b2'), ('Assembled', 'b3'), ('Assembled', 'b5'), ('Assembled', 'b6'), ('Assembled', 'b7'), ('Assembled', 'b8'), ('Assembled', 'b4'))\n"
     ]
    }
   ],
   "source": [
    "print('Init:', pddlstream_problem.init)\n",
    "print()\n",
    "print('Goal:', pddlstream_problem.goal)"
   ]
  },
  {
   "cell_type": "code",
   "execution_count": 10,
   "metadata": {},
   "outputs": [
    {
     "name": "stdout",
     "output_type": "stream",
     "text": [
      "Grounded:  b0\n",
      "Grounded:  b1\n",
      "Grounded:  b5\n",
      "Grounded:  b7\n",
      "('b0', 'b2')\n",
      "('b0', 'b3')\n",
      "('b0', 'b6')\n",
      "('b1', 'b2')\n",
      "('b1', 'b3')\n",
      "('b1', 'b8')\n",
      "('b2', 'b0')\n",
      "('b2', 'b1')\n",
      "('b3', 'b0')\n",
      "('b3', 'b1')\n",
      "('b4', 'b5')\n",
      "('b4', 'b7')\n",
      "('b5', 'b4')\n",
      "('b5', 'b6')\n",
      "('b6', 'b0')\n",
      "('b6', 'b5')\n",
      "('b7', 'b4')\n",
      "('b7', 'b8')\n",
      "('b8', 'b1')\n",
      "('b8', 'b7')\n"
     ]
    }
   ],
   "source": [
    "from integral_timber_joints.assembly.beam_assembly_method import BeamAssemblyMethod\n",
    "\n",
    "beam_seq = process.assembly.sequence\n",
    "for e in beam_seq:\n",
    "    if process.assembly.get_assembly_method(e) == BeamAssemblyMethod.GROUND_CONTACT:\n",
    "        print('Grounded: ', e)\n",
    "for j in process.assembly.joint_ids():\n",
    "    print(j)"
   ]
  },
  {
   "cell_type": "markdown",
   "metadata": {},
   "source": [
    "## Solve"
   ]
  },
  {
   "cell_type": "code",
   "execution_count": 15,
   "metadata": {
    "tags": []
   },
   "outputs": [
    {
     "name": "stdout",
     "output_type": "stream",
     "text": [
      "\n",
      "Goal: ('and', ('Assembled', 'b0'), ('Assembled', 'b1'), ('Assembled', 'b2'), ('Assembled', 'b3'), ('Assembled', 'b5'), ('Assembled', 'b6'), ('Assembled', 'b7'), ('Assembled', 'b8'), ('Assembled', 'b4'), ('AtRack', 'c1'), ('AtRack', 'c2'), ('AtRack', 'c3'), ('AtRack', 'c4'), ('AtRack', 'g1'), ('AtRack', 'g2'), ('AtRack', 'g3'), ('RobotAtConf', Conf-Home))\n",
      "\n",
      "Iteration: 1 | Complexity: 0 | Calls: 0 | Evaluations: 115 | Solved: False | Cost: inf | Search Time: 0.016 | Sample Time: 0.000 | Time: 0.016\n",
      "Iteration: 2 | Complexity: 1 | Calls: 33 | Evaluations: 245 | Solved: False | Cost: inf | Search Time: 0.289 | Sample Time: 0.016 | Time: 0.305\n",
      "Summary: {complexity: 2, cost: 56.000, evaluations: 245, iterations: 2, length: 56, run_time: 1.277, sample_time: 0.016, search_time: 1.262, solutions: 1, solved: True, timeout: False}\n",
      "\u001b[32mPlanning succeeds\u001b[0m\n",
      "----------\n",
      " 1) pick_gripper_from_rack g1 @conf158 @conf258 @traj60\n",
      " 2) pick_element_from_rack b0 @conf132 @conf232 @traj34 g1\n",
      " 3) place_element_on_structure b0 @conf133 @conf233 @traj35 g1\n",
      " 4) pick_element_from_rack b1 @conf134 @conf234 @traj36 g1\n",
      " 5) place_element_on_structure b1 @conf135 @conf235 @traj37 g1\n",
      " 6) place_tool_at_rack g1 @conf159 @conf259 @traj61\n",
      " 7) pick_clamp_from_rack c2 @conf152 @conf252 @traj54\n",
      " 8) place_clamp_at_joint c2 b0 b2 @conf153 @conf253 @traj55\n",
      " 9) pick_clamp_from_rack c4 @conf156 @conf256 @traj58\n",
      "10) place_clamp_at_joint c4 b1 b2 @conf157 @conf257 @traj59\n",
      "11) pick_gripper_from_rack g1 @conf158 @conf258 @traj60\n",
      "12) pick_element_from_rack b2 @conf136 @conf236 @traj38 g1\n",
      "13) place_element_on_structure b2 @conf137 @conf237 @traj39 g1\n",
      "14) place_tool_at_rack g1 @conf159 @conf259 @traj61\n",
      "15) pick_clamp_from_joint c4 b1 b2 @conf156 @conf256 @traj58\n",
      "16) place_clamp_at_joint c4 b0 b3 @conf157 @conf257 @traj59\n",
      "17) pick_clamp_from_joint c2 b0 b2 @conf152 @conf252 @traj54\n",
      "18) place_clamp_at_joint c2 b1 b3 @conf153 @conf253 @traj55\n",
      "19) pick_gripper_from_rack g1 @conf158 @conf258 @traj60\n",
      "20) pick_element_from_rack b3 @conf138 @conf238 @traj40 g1\n",
      "21) place_element_on_structure b3 @conf139 @conf239 @traj41 g1\n",
      "22) pick_element_from_rack b5 @conf140 @conf240 @traj42 g1\n",
      "23) place_element_on_structure b5 @conf141 @conf241 @traj43 g1\n",
      "24) place_tool_at_rack g1 @conf159 @conf259 @traj61\n",
      "25) pick_clamp_from_joint c4 b0 b3 @conf156 @conf256 @traj58\n",
      "26) place_clamp_at_joint c4 b5 b6 @conf157 @conf257 @traj59\n",
      "27) pick_clamp_from_rack c1 @conf150 @conf250 @traj52\n",
      "28) place_clamp_at_joint c1 b0 b6 @conf151 @conf251 @traj53\n",
      "29) pick_gripper_from_rack g1 @conf158 @conf258 @traj60\n",
      "30) pick_element_from_rack b6 @conf142 @conf242 @traj44 g1\n",
      "31) place_element_on_structure b6 @conf143 @conf243 @traj45 g1\n",
      "32) pick_element_from_rack b7 @conf144 @conf244 @traj46 g1\n",
      "33) place_element_on_structure b7 @conf145 @conf245 @traj47 g1\n",
      "34) place_tool_at_rack g1 @conf159 @conf259 @traj61\n",
      "35) pick_clamp_from_joint c1 b0 b6 @conf150 @conf250 @traj52\n",
      "36) place_clamp_at_joint c1 b1 b8 @conf151 @conf251 @traj53\n",
      "37) pick_clamp_from_joint c2 b1 b3 @conf152 @conf252 @traj54\n",
      "38) place_clamp_at_joint c2 b7 b8 @conf153 @conf253 @traj55\n",
      "39) pick_gripper_from_rack g1 @conf158 @conf258 @traj60\n",
      "40) pick_element_from_rack b8 @conf146 @conf246 @traj48 g1\n",
      "41) place_element_on_structure b8 @conf147 @conf247 @traj49 g1\n",
      "42) place_tool_at_rack g1 @conf159 @conf259 @traj61\n",
      "43) pick_clamp_from_joint c1 b1 b8 @conf150 @conf250 @traj52\n",
      "44) place_tool_at_rack c1 @conf151 @conf251 @traj53\n",
      "45) pick_clamp_from_joint c4 b5 b6 @conf156 @conf256 @traj58\n",
      "46) place_clamp_at_joint c4 b5 b4 @conf157 @conf257 @traj59\n",
      "47) pick_clamp_from_joint c2 b7 b8 @conf152 @conf252 @traj54\n",
      "48) place_clamp_at_joint c2 b7 b4 @conf153 @conf253 @traj55\n",
      "49) pick_gripper_from_rack g1 @conf158 @conf258 @traj60\n",
      "50) pick_element_from_rack b4 @conf148 @conf248 @traj50 g1\n",
      "51) place_element_on_structure b4 @conf149 @conf249 @traj51 g1\n",
      "52) place_tool_at_rack g1 @conf159 @conf259 @traj61\n",
      "53) pick_clamp_from_joint c4 b5 b4 @conf156 @conf256 @traj58\n",
      "54) place_tool_at_rack c4 @conf157 @conf257 @traj59\n",
      "55) pick_clamp_from_joint c2 b7 b4 @conf152 @conf252 @traj54\n",
      "56) place_tool_at_rack c2 @conf153 @conf253 @traj55\n"
     ]
    }
   ],
   "source": [
    "from pddlstream.algorithms.downward import set_cost_scale, parse_action\n",
    "from pddlstream.algorithms.meta import solve\n",
    "from pddlstream.utils import INF\n",
    "from pddlstream.language.constants import print_plan, is_plan\n",
    "\n",
    "from integral_timber_joints.planning.pddlstream_definitions.problem import get_pddlstream_problem\n",
    "\n",
    "pddlstream_problem = get_pddlstream_problem(process, use_partial_order=1, debug=True,\n",
    "                                            reset_to_home=1)\n",
    "\n",
    "# print('Init:', pddlstream_problem.init)\n",
    "print()\n",
    "print('Goal:', pddlstream_problem.goal)\n",
    "print()\n",
    "\n",
    "costs = True\n",
    "set_cost_scale(1)\n",
    "\n",
    "solution = solve(pddlstream_problem, algorithm='incremental', #incremental\n",
    "                 max_time=60,\n",
    "                 unit_costs=True,\n",
    "                 max_planner_time=300, \n",
    "                 debug=0, verbose=0)\n",
    "\n",
    "plan, cost, evaluations = solution\n",
    "plan_success = is_plan(plan)\n",
    "cprint('Planning {}'.format('succeeds' if plan_success else 'fails'), 'green' if plan_success else 'red')\n",
    "\n",
    "print('-'*10)\n",
    "print_plan(plan)"
   ]
  },
  {
   "cell_type": "code",
   "execution_count": 17,
   "metadata": {},
   "outputs": [],
   "source": [
    "place_actions = [action for action in plan if action.name == 'place_element_on_structure']\n",
    "element_sequence = [ac.args[0] for ac in actions]"
   ]
  },
  {
   "cell_type": "code",
   "execution_count": 21,
   "metadata": {},
   "outputs": [
    {
     "data": {
      "text/plain": [
       "Action(name='pick_gripper_from_rack', args=('g1', @conf158, @conf258, @traj60))"
      ]
     },
     "execution_count": 21,
     "metadata": {},
     "output_type": "execute_result"
    }
   ],
   "source": [
    "plan[0]"
   ]
  },
  {
   "cell_type": "code",
   "execution_count": 13,
   "metadata": {},
   "outputs": [
    {
     "data": {
      "text/plain": [
       "['b0', 'b1', 'b2', 'b3', 'b5', 'b6', 'b7', 'b8', 'b4']"
      ]
     },
     "execution_count": 13,
     "metadata": {},
     "output_type": "execute_result"
    }
   ],
   "source": [
    "process.assembly.sequence"
   ]
  },
  {
   "cell_type": "code",
   "execution_count": 14,
   "metadata": {},
   "outputs": [
    {
     "data": {
      "text/plain": [
       "['b0', 'b1', 'b2', 'b3', 'b5', 'b6', 'b7', 'b8', 'b4']"
      ]
     },
     "execution_count": 14,
     "metadata": {},
     "output_type": "execute_result"
    }
   ],
   "source": [
    "element_sequence"
   ]
  },
  {
   "cell_type": "code",
   "execution_count": 18,
   "metadata": {},
   "outputs": [
    {
     "data": {
      "text/plain": [
       "[Action(name='place_element_on_structure', args=('b0', @conf133, @conf233, @traj35, 'g1')),\n",
       " Action(name='place_element_on_structure', args=('b1', @conf135, @conf235, @traj37, 'g1')),\n",
       " Action(name='place_element_on_structure', args=('b2', @conf137, @conf237, @traj39, 'g1')),\n",
       " Action(name='place_element_on_structure', args=('b3', @conf139, @conf239, @traj41, 'g1')),\n",
       " Action(name='place_element_on_structure', args=('b5', @conf141, @conf241, @traj43, 'g1')),\n",
       " Action(name='place_element_on_structure', args=('b6', @conf143, @conf243, @traj45, 'g1')),\n",
       " Action(name='place_element_on_structure', args=('b7', @conf145, @conf245, @traj47, 'g1')),\n",
       " Action(name='place_element_on_structure', args=('b8', @conf147, @conf247, @traj49, 'g1')),\n",
       " Action(name='place_element_on_structure', args=('b4', @conf149, @conf249, @traj51, 'g1'))]"
      ]
     },
     "execution_count": 18,
     "metadata": {},
     "output_type": "execute_result"
    }
   ],
   "source": [
    "place_actions"
   ]
  },
  {
   "cell_type": "markdown",
   "metadata": {},
   "source": [
    "# Visualize sequence in a pybullet window"
   ]
  },
  {
   "cell_type": "code",
   "execution_count": null,
   "metadata": {},
   "outputs": [],
   "source": [
    "from integral_timber_joints.planning.robot_setup import load_RFL_world\n",
    "from integral_timber_joints.planning.run import set_initial_state\n",
    "\n",
    "# * Connect to path planning backend and initialize robot parameters\n",
    "# viewer or diagnosis or view_states or watch or step_sim,\n",
    "client, robot, _ = load_RFL_world(viewer=1, verbose=False)\n",
    "set_initial_state(client, robot, process, disable_env=False, reinit_tool=False)"
   ]
  },
  {
   "cell_type": "code",
   "execution_count": null,
   "metadata": {},
   "outputs": [],
   "source": [
    "client.disconnect()"
   ]
  },
  {
   "cell_type": "code",
   "execution_count": null,
   "metadata": {},
   "outputs": [],
   "source": [
    "from integral_timber_joints.planning.state import set_state\n",
    "set_state(client, robot, process, process.initial_state, initialize=False)"
   ]
  },
  {
   "cell_type": "markdown",
   "metadata": {},
   "source": [
    "# Misc"
   ]
  },
  {
   "cell_type": "code",
   "execution_count": 25,
   "metadata": {},
   "outputs": [],
   "source": [
    "# from pddlstream.algorithms.algorithm import parse_problem\n",
    "# from pddlstream.algorithms.constraints import PlanConstraints\n",
    "# from pddlstream.algorithms.downward import get_problem, task_from_domain_problem\n",
    "# from pddlstream.algorithms.meta import examine_instantiated\n",
    "\n",
    "# pddlstream_problem = get_pddlstream_problem(process, use_partial_order=True, debug=False,\n",
    "#                                             reset_to_home=False)\n",
    "\n",
    "# print(pddlstream_problem.goal)\n",
    "\n",
    "# results, instantiated = examine_instantiated(pddlstream_problem, unit_costs=1, verbose=0, debug=1)"
   ]
  }
 ],
 "metadata": {
  "kernelspec": {
   "display_name": "Python 3",
   "language": "python",
   "name": "python3"
  },
  "language_info": {
   "codemirror_mode": {
    "name": "ipython",
    "version": 3
   },
   "file_extension": ".py",
   "mimetype": "text/x-python",
   "name": "python",
   "nbconvert_exporter": "python",
   "pygments_lexer": "ipython3",
   "version": "3.7.9"
  },
  "metadata": {
   "interpreter": {
    "hash": "742396f8abfd15506fd5537870b226a29245815e58899b5be3a686185469d15a"
   }
  }
 },
 "nbformat": 4,
 "nbformat_minor": 4
}
