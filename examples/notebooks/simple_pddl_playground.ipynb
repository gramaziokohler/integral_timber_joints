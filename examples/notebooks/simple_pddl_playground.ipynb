{
 "cells": [
  {
   "cell_type": "code",
   "execution_count": 1,
   "metadata": {},
   "outputs": [],
   "source": [
    "%load_ext autoreload\n",
    "%autoreload 2"
   ]
  },
  {
   "cell_type": "code",
   "execution_count": 2,
   "metadata": {},
   "outputs": [
    {
     "name": "stdout",
     "output_type": "stream",
     "text": [
      "\u001b[33mUsing pddlstream from C:\\Users\\harry\\Documents\\code_ws\\pb_ws\\coop_assembly\\external\\pddlstream\\pddlstream\\__init__.py\u001b[0m\n"
     ]
    }
   ],
   "source": [
    "from integral_timber_joints.planning import load_pddlstream"
   ]
  },
  {
   "cell_type": "markdown",
   "metadata": {},
   "source": [
    "## Parse ITJ process"
   ]
  },
  {
   "cell_type": "code",
   "execution_count": 3,
   "metadata": {},
   "outputs": [],
   "source": [
    "import os\n",
    "from termcolor import cprint\n",
    "import pybullet_planning as pp\n",
    "from integral_timber_joints.planning.parsing import parse_process, save_process_and_movements, \\\n",
    "    get_process_path, save_process"
   ]
  },
  {
   "cell_type": "code",
   "execution_count": 4,
   "metadata": {},
   "outputs": [],
   "source": [
    "# parse options\n",
    "design_dir = '210916_SymbolicPlanning' # '210419_AnticlasticShelter' # '210605_ScrewdriverTestProcess' # 210419_AnticlasticShelter\n",
    "problem = 'nine_pieces_process.json' #'shelter_process.json' # 'shelter_process.json' pavilion_process.json' # 'twelve_pieces_process.json'\n",
    "problem_subdir = '.'"
   ]
  },
  {
   "cell_type": "code",
   "execution_count": 5,
   "metadata": {},
   "outputs": [
    {
     "name": "stdout",
     "output_type": "stream",
     "text": [
      "\u001b[34mProcess json parsed from c:\\users\\harry\\dropbox (mit)\\code_ws_dropbox\\itj_ws\\integral_timber_joints\\external\\itj_design_study\\210916_SymbolicPlanning\\nine_pieces_process.json\u001b[0m\n"
     ]
    }
   ],
   "source": [
    "process = parse_process(design_dir, problem, subdir=problem_subdir)\n",
    "\n",
    "# Double check entire solution is valid\n",
    "for beam_id in process.assembly.sequence:\n",
    "    if not process.dependency.beam_all_valid(beam_id):\n",
    "        process.dependency.compute_all(beam_id)\n",
    "        assert process.dependency.beam_all_valid(beam_id)"
   ]
  },
  {
   "cell_type": "markdown",
   "metadata": {},
   "source": [
    "## Construct PDDL problem"
   ]
  },
  {
   "cell_type": "code",
   "execution_count": 6,
   "metadata": {},
   "outputs": [],
   "source": [
    "from integral_timber_joints.planning.pddlstream_definitions.problem import get_pddlstream_problem"
   ]
  },
  {
   "cell_type": "code",
   "execution_count": 7,
   "metadata": {},
   "outputs": [],
   "source": [
    "debug = 0\n",
    "verbose = 1\n",
    "use_partial_order = 1\n",
    "reset_to_home = 0"
   ]
  },
  {
   "cell_type": "code",
   "execution_count": 8,
   "metadata": {},
   "outputs": [],
   "source": [
    "pddlstream_problem = get_pddlstream_problem(process, use_partial_order=use_partial_order, debug=debug, \n",
    "                                            reset_to_home=reset_to_home)"
   ]
  },
  {
   "cell_type": "code",
   "execution_count": 9,
   "metadata": {},
   "outputs": [
    {
     "name": "stdout",
     "output_type": "stream",
     "text": [
      "Init: [('RobotConf', Conf-0.33), ('RobotAtConf', Conf-0.33), 'CanMove', 'RobotToolChangerEmpty', ('Element', 'b0'), ('AtRack', 'b0'), ('IsElement', 'b0'), ('Grounded', 'b0'), ('Element', 'b1'), ('AtRack', 'b1'), ('IsElement', 'b1'), ('Grounded', 'b1'), ('Element', 'b2'), ('AtRack', 'b2'), ('IsElement', 'b2'), ('Element', 'b3'), ('AtRack', 'b3'), ('IsElement', 'b3'), ('Element', 'b5'), ('AtRack', 'b5'), ('IsElement', 'b5'), ('Grounded', 'b5'), ('Element', 'b6'), ('AtRack', 'b6'), ('IsElement', 'b6'), ('Element', 'b7'), ('AtRack', 'b7'), ('IsElement', 'b7'), ('Grounded', 'b7'), ('Element', 'b8'), ('AtRack', 'b8'), ('IsElement', 'b8'), ('Element', 'b4'), ('AtRack', 'b4'), ('IsElement', 'b4'), ('Joint', 'b0', 'b2'), ('NoToolAtJoint', 'b0', 'b2'), ('Joint', 'b0', 'b3'), ('NoToolAtJoint', 'b0', 'b3'), ('Joint', 'b0', 'b6'), ('NoToolAtJoint', 'b0', 'b6'), ('Joint', 'b1', 'b2'), ('NoToolAtJoint', 'b1', 'b2'), ('Joint', 'b1', 'b3'), ('NoToolAtJoint', 'b1', 'b3'), ('Joint', 'b1', 'b8'), ('NoToolAtJoint', 'b1', 'b8'), ('Joint', 'b2', 'b0'), ('NoToolAtJoint', 'b2', 'b0'), ('Joint', 'b2', 'b1'), ('NoToolAtJoint', 'b2', 'b1'), ('Joint', 'b3', 'b0'), ('NoToolAtJoint', 'b3', 'b0'), ('Joint', 'b3', 'b1'), ('NoToolAtJoint', 'b3', 'b1'), ('Joint', 'b4', 'b5'), ('NoToolAtJoint', 'b4', 'b5'), ('Joint', 'b4', 'b7'), ('NoToolAtJoint', 'b4', 'b7'), ('Joint', 'b5', 'b4'), ('NoToolAtJoint', 'b5', 'b4'), ('Joint', 'b5', 'b6'), ('NoToolAtJoint', 'b5', 'b6'), ('Joint', 'b6', 'b0'), ('NoToolAtJoint', 'b6', 'b0'), ('Joint', 'b6', 'b5'), ('NoToolAtJoint', 'b6', 'b5'), ('Joint', 'b7', 'b4'), ('NoToolAtJoint', 'b7', 'b4'), ('Joint', 'b7', 'b8'), ('NoToolAtJoint', 'b7', 'b8'), ('Joint', 'b8', 'b1'), ('NoToolAtJoint', 'b8', 'b1'), ('Joint', 'b8', 'b7'), ('NoToolAtJoint', 'b8', 'b7'), ('Order', 'b0', 'b1'), ('Order', 'b1', 'b2'), ('Order', 'b2', 'b3'), ('Order', 'b3', 'b5'), ('Order', 'b5', 'b6'), ('Order', 'b6', 'b7'), ('Order', 'b7', 'b8'), ('Order', 'b8', 'b4'), ('Clamp', 'c1'), ('IsClamp', 'c1'), ('IsTool', 'c1'), ('AtRack', 'c1'), ('Clamp', 'c2'), ('IsClamp', 'c2'), ('IsTool', 'c2'), ('AtRack', 'c2'), ('Clamp', 'c3'), ('IsClamp', 'c3'), ('IsTool', 'c3'), ('AtRack', 'c3'), ('Clamp', 'c4'), ('IsClamp', 'c4'), ('IsTool', 'c4'), ('AtRack', 'c4'), ('Gripper', 'g1'), ('IsGripper', 'g1'), ('IsTool', 'g1'), ('AtRack', 'g1'), ('Gripper', 'g2'), ('IsGripper', 'g2'), ('IsTool', 'g2'), ('AtRack', 'g2'), ('Gripper', 'g3'), ('IsGripper', 'g3'), ('IsTool', 'g3'), ('AtRack', 'g3')]\n",
      "Goal: ('and', ('Assembled', 'b0'), ('Assembled', 'b1'), ('Assembled', 'b2'), ('Assembled', 'b3'), ('Assembled', 'b5'), ('Assembled', 'b6'), ('Assembled', 'b7'), ('Assembled', 'b8'), ('Assembled', 'b4'))\n"
     ]
    }
   ],
   "source": [
    "print('Init:', pddlstream_problem.init)\n",
    "print('Goal:', pddlstream_problem.goal)"
   ]
  },
  {
   "cell_type": "markdown",
   "metadata": {},
   "source": [
    "## Solve"
   ]
  },
  {
   "cell_type": "code",
   "execution_count": 10,
   "metadata": {
    "tags": []
   },
   "outputs": [
    {
     "name": "stdout",
     "output_type": "stream",
     "text": [
      "Eager Calls: 0 | Successes: 0 | Results: 0 | Counts: {}\n",
      "Iteration: 1 | Complexity: 0 | Calls: 0 | Evaluations: 111 | Solved: False | Cost: inf | Search Time: 0.000 | Sample Time: 0.000 | Time: 0.000\n",
      "Summary: {complexity: 0, cost: inf, evaluations: 111, iterations: 1, length: inf, run_time: 57.302, sample_time: 0.000, search_time: 57.302, solutions: 0, solved: False, timeout: False}\n",
      "\u001b[31mPlanning fails\u001b[0m\n"
     ]
    }
   ],
   "source": [
    "from pddlstream.algorithms.downward import set_cost_scale, parse_action\n",
    "from pddlstream.algorithms.meta import solve\n",
    "from pddlstream.utils import INF\n",
    "from pddlstream.language.constants import print_plan, is_plan\n",
    "\n",
    "from integral_timber_joints.planning.pddlstream_definitions.problem import get_pddlstream_problem\n",
    "pddlstream_problem = get_pddlstream_problem(process, use_partial_order=use_partial_order, debug=debug)\n",
    "\n",
    "costs = True\n",
    "set_cost_scale(1)\n",
    "success_cost = 0 if costs else INF\n",
    "\n",
    "# discrete_planner = {\n",
    "#     'search': 'eager', # eager | lazy\n",
    "#     # lazy might be faster but the solution quality might be low\n",
    "#     'evaluator': 'greedy',\n",
    "#     'heuristic': 'goal', # goal | add | ff\n",
    "#     #'heuristic': ['ff', get_bias_fn(element_from_index)],\n",
    "#     'successors': 'all', # all | random\n",
    "#     # tiebreaker\n",
    "#     #'successors': get_order_fn(element_from_index),\n",
    "#     # ? ordering scaffolds can come here\n",
    "#     # TODO: confirm that this is working correctly\n",
    "# }\n",
    "solution = solve(pddlstream_problem, algorithm='incremental', \n",
    "                 max_time=60,\n",
    "#                  success_cost=success_cost, \n",
    "                 unit_costs=True,\n",
    "                 max_planner_time=300, \n",
    "                 debug=debug, verbose=True)\n",
    "\n",
    "plan, _, facts = solution\n",
    "plan_success = is_plan(plan)\n",
    "cprint('Planning {}'.format('succeeds' if plan_success else 'fails'), 'green' if plan_success else 'red')"
   ]
  },
  {
   "cell_type": "code",
   "execution_count": 12,
   "metadata": {},
   "outputs": [
    {
     "data": {
      "text/plain": [
       "Certificate(all_facts=[('robotconf', Conf-0.79), ('robotatconf', Conf-0.79), ('c', 'a', 'n', 'M', 'o', 'v', 'e'), ('r', 'o', 'b', 'o', 't', 'T', 'o', 'o', 'l', 'C', 'h', 'a', 'n', 'g', 'e', 'r', 'E', 'm', 'p', 't', 'y'), ('element', 'b0'), ('atrack', 'b0'), ('iselement', 'b0'), ('grounded', 'b0'), ('element', 'b1'), ('atrack', 'b1'), ('iselement', 'b1'), ('grounded', 'b1'), ('element', 'b2'), ('atrack', 'b2'), ('iselement', 'b2'), ('element', 'b3'), ('atrack', 'b3'), ('iselement', 'b3'), ('element', 'b5'), ('atrack', 'b5'), ('iselement', 'b5'), ('grounded', 'b5'), ('element', 'b6'), ('atrack', 'b6'), ('iselement', 'b6'), ('element', 'b7'), ('atrack', 'b7'), ('iselement', 'b7'), ('grounded', 'b7'), ('element', 'b8'), ('atrack', 'b8'), ('iselement', 'b8'), ('element', 'b4'), ('atrack', 'b4'), ('iselement', 'b4'), ('joint', 'b0', 'b2'), ('notoolatjoint', 'b0', 'b2'), ('joint', 'b0', 'b3'), ('notoolatjoint', 'b0', 'b3'), ('joint', 'b0', 'b6'), ('notoolatjoint', 'b0', 'b6'), ('joint', 'b1', 'b2'), ('notoolatjoint', 'b1', 'b2'), ('joint', 'b1', 'b3'), ('notoolatjoint', 'b1', 'b3'), ('joint', 'b1', 'b8'), ('notoolatjoint', 'b1', 'b8'), ('joint', 'b2', 'b0'), ('notoolatjoint', 'b2', 'b0'), ('joint', 'b2', 'b1'), ('notoolatjoint', 'b2', 'b1'), ('joint', 'b3', 'b0'), ('notoolatjoint', 'b3', 'b0'), ('joint', 'b3', 'b1'), ('notoolatjoint', 'b3', 'b1'), ('joint', 'b4', 'b5'), ('notoolatjoint', 'b4', 'b5'), ('joint', 'b4', 'b7'), ('notoolatjoint', 'b4', 'b7'), ('joint', 'b5', 'b4'), ('notoolatjoint', 'b5', 'b4'), ('joint', 'b5', 'b6'), ('notoolatjoint', 'b5', 'b6'), ('joint', 'b6', 'b0'), ('notoolatjoint', 'b6', 'b0'), ('joint', 'b6', 'b5'), ('notoolatjoint', 'b6', 'b5'), ('joint', 'b7', 'b4'), ('notoolatjoint', 'b7', 'b4'), ('joint', 'b7', 'b8'), ('notoolatjoint', 'b7', 'b8'), ('joint', 'b8', 'b1'), ('notoolatjoint', 'b8', 'b1'), ('joint', 'b8', 'b7'), ('notoolatjoint', 'b8', 'b7'), ('order', 'b0', 'b1'), ('order', 'b1', 'b2'), ('order', 'b2', 'b3'), ('order', 'b3', 'b5'), ('order', 'b5', 'b6'), ('order', 'b6', 'b7'), ('order', 'b7', 'b8'), ('order', 'b8', 'b4'), ('clamp', 'c1'), ('isclamp', 'c1'), ('istool', 'c1'), ('atrack', 'c1'), ('clamp', 'c2'), ('isclamp', 'c2'), ('istool', 'c2'), ('atrack', 'c2'), ('clamp', 'c3'), ('isclamp', 'c3'), ('istool', 'c3'), ('atrack', 'c3'), ('clamp', 'c4'), ('isclamp', 'c4'), ('istool', 'c4'), ('atrack', 'c4'), ('gripper', 'g1'), ('isgripper', 'g1'), ('istool', 'g1'), ('atrack', 'g1'), ('gripper', 'g2'), ('isgripper', 'g2'), ('istool', 'g2'), ('atrack', 'g2'), ('gripper', 'g3'), ('isgripper', 'g3'), ('istool', 'g3'), ('atrack', 'g3'), ('pickelementaction', 'b0', Conf-0.08, Conf-0.14, Traj-0.51), ('robotconf', Conf-0.08), ('robotconf', Conf-0.14), ('traj', Traj-0.51), ('placeelementaction', 'b0', Conf-0.12, Conf-0.94, Traj-0.61), ('robotconf', Conf-0.12), ('robotconf', Conf-0.94), ('traj', Traj-0.61), ('pickelementaction', 'b1', Conf-0.41, Conf-0.60, Traj-0.40), ('robotconf', Conf-0.41), ('robotconf', Conf-0.60), ('traj', Traj-0.40), ('placeelementaction', 'b1', Conf-0.15, Conf-0.72, Traj-0.75), ('robotconf', Conf-0.15), ('robotconf', Conf-0.72), ('traj', Traj-0.75), ('pickelementaction', 'b2', Conf-0.11, Conf-0.05, Traj-0.45), ('robotconf', Conf-0.11), ('robotconf', Conf-0.05), ('traj', Traj-0.45), ('placeelementaction', 'b2', Conf-0.74, Conf-0.86, Traj-0.34), ('robotconf', Conf-0.74), ('robotconf', Conf-0.86), ('traj', Traj-0.34), ('pickelementaction', 'b3', Conf-0.92, Conf-0.74, Traj-0.32), ('robotconf', Conf-0.92), ('robotconf', Conf-0.74), ('traj', Traj-0.32), ('placeelementaction', 'b3', Conf-0.93, Conf-0.83, Traj-0.68), ('robotconf', Conf-0.93), ('robotconf', Conf-0.83), ('traj', Traj-0.68), ('pickelementaction', 'b5', Conf-0.42, Conf-0.71, Traj-0.11), ('robotconf', Conf-0.42), ('robotconf', Conf-0.71), ('traj', Traj-0.11), ('placeelementaction', 'b5', Conf-0.84, Conf-0.02, Traj-0.89), ('robotconf', Conf-0.84), ('robotconf', Conf-0.02), ('traj', Traj-0.89), ('pickelementaction', 'b6', Conf-0.77, Conf-0.05, Traj-0.03), ('robotconf', Conf-0.77), ('robotconf', Conf-0.05), ('traj', Traj-0.03), ('placeelementaction', 'b6', Conf-0.76, Conf-0.76, Traj-0.54), ('robotconf', Conf-0.76), ('robotconf', Conf-0.76), ('traj', Traj-0.54), ('pickelementaction', 'b7', Conf-0.02, Conf-0.36, Traj-0.93), ('robotconf', Conf-0.02), ('robotconf', Conf-0.36), ('traj', Traj-0.93), ('placeelementaction', 'b7', Conf-0.51, Conf-0.67, Traj-0.97), ('robotconf', Conf-0.51), ('robotconf', Conf-0.67), ('traj', Traj-0.97), ('pickelementaction', 'b8', Conf-0.64, Conf-0.05, Traj-0.84), ('robotconf', Conf-0.64), ('robotconf', Conf-0.05), ('traj', Traj-0.84), ('placeelementaction', 'b8', Conf-0.19, Conf-0.61, Traj-0.19), ('robotconf', Conf-0.19), ('robotconf', Conf-0.61), ('traj', Traj-0.19), ('pickelementaction', 'b4', Conf-0.84, Conf-0.35, Traj-0.45), ('robotconf', Conf-0.84), ('robotconf', Conf-0.35), ('traj', Traj-0.45), ('placeelementaction', 'b4', Conf-0.37, Conf-0.77, Traj-0.52), ('robotconf', Conf-0.37), ('robotconf', Conf-0.77), ('traj', Traj-0.52), ('picktoolaction', 'c1', Conf-0.60, Conf-0.10, Traj-0.29), ('robotconf', Conf-0.60), ('robotconf', Conf-0.10), ('traj', Traj-0.29), ('placetoolaction', 'c1', Conf-0.53, Conf-0.57, Traj-0.00), ('robotconf', Conf-0.53), ('robotconf', Conf-0.57), ('traj', Traj-0.00), ('picktoolaction', 'c2', Conf-0.02, Conf-0.09, Traj-0.09), ('robotconf', Conf-0.02), ('robotconf', Conf-0.09), ('traj', Traj-0.09), ('placetoolaction', 'c2', Conf-0.91, Conf-0.21, Traj-0.92), ('robotconf', Conf-0.91), ('robotconf', Conf-0.21), ('traj', Traj-0.92), ('picktoolaction', 'c3', Conf-0.73, Conf-0.84, Traj-0.37), ('robotconf', Conf-0.73), ('robotconf', Conf-0.84), ('traj', Traj-0.37), ('placetoolaction', 'c3', Conf-0.22, Conf-0.78, Traj-0.56), ('robotconf', Conf-0.22), ('robotconf', Conf-0.78), ('traj', Traj-0.56), ('picktoolaction', 'c4', Conf-0.24, Conf-0.90, Traj-0.55), ('robotconf', Conf-0.24), ('robotconf', Conf-0.90), ('traj', Traj-0.55), ('placetoolaction', 'c4', Conf-0.84, Conf-0.58, Traj-0.21), ('robotconf', Conf-0.84), ('robotconf', Conf-0.58), ('traj', Traj-0.21), ('picktoolaction', 'g1', Conf-0.09, Conf-0.25, Traj-0.53), ('robotconf', Conf-0.09), ('robotconf', Conf-0.25), ('traj', Traj-0.53), ('placetoolaction', 'g1', Conf-0.40, Conf-0.57, Traj-0.50), ('robotconf', Conf-0.40), ('robotconf', Conf-0.57), ('traj', Traj-0.50), ('picktoolaction', 'g2', Conf-0.30, Conf-0.34, Traj-0.18), ('robotconf', Conf-0.30), ('robotconf', Conf-0.34), ('traj', Traj-0.18), ('placetoolaction', 'g2', Conf-0.80, Conf-0.95, Traj-0.01), ('robotconf', Conf-0.80), ('robotconf', Conf-0.95), ('traj', Traj-0.01), ('picktoolaction', 'g3', Conf-0.40, Conf-0.66, Traj-0.50), ('robotconf', Conf-0.40), ('robotconf', Conf-0.66), ('traj', Traj-0.50), ('placetoolaction', 'g3', Conf-0.99, Conf-0.48, Traj-0.82), ('robotconf', Conf-0.99), ('robotconf', Conf-0.48), ('traj', Traj-0.82)], preimage_facts=None)"
      ]
     },
     "execution_count": 12,
     "metadata": {},
     "output_type": "execute_result"
    }
   ],
   "source": [
    "facts"
   ]
  },
  {
   "cell_type": "code",
   "execution_count": null,
   "metadata": {},
   "outputs": [],
   "source": [
    "plan, _, facts = solution\n",
    "# print('-'*10)\n",
    "print_plan(plan)\n",
    "# assert is_plan(plan), 'planning fails.'\n",
    "\n",
    "# actions = [action for action in plan if action.name == 'add_element' or action.name == 'add_scaffold_element']\n",
    "# element_sequence = [ac.args[2] for ac in actions]"
   ]
  },
  {
   "cell_type": "code",
   "execution_count": null,
   "metadata": {},
   "outputs": [],
   "source": [
    "# element_sequence"
   ]
  }
 ],
 "metadata": {
  "kernelspec": {
   "display_name": "Python 3",
   "language": "python",
   "name": "python3"
  },
  "language_info": {
   "codemirror_mode": {
    "name": "ipython",
    "version": 3
   },
   "file_extension": ".py",
   "mimetype": "text/x-python",
   "name": "python",
   "nbconvert_exporter": "python",
   "pygments_lexer": "ipython3",
   "version": "3.7.9"
  },
  "metadata": {
   "interpreter": {
    "hash": "742396f8abfd15506fd5537870b226a29245815e58899b5be3a686185469d15a"
   }
  }
 },
 "nbformat": 4,
 "nbformat_minor": 4
}
