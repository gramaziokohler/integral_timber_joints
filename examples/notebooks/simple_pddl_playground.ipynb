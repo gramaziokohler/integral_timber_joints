{
 "cells": [
  {
   "cell_type": "code",
   "execution_count": 1,
   "metadata": {},
   "outputs": [],
   "source": [
    "%load_ext autoreload\n",
    "%autoreload 2"
   ]
  },
  {
   "cell_type": "code",
   "execution_count": 2,
   "metadata": {},
   "outputs": [
    {
     "name": "stdout",
     "output_type": "stream",
     "text": [
      "\u001b[33mUsing pddlstream from C:\\Users\\harry\\Documents\\code_ws\\pb_ws\\coop_assembly\\external\\pddlstream\\pddlstream\\__init__.py\u001b[0m\n"
     ]
    }
   ],
   "source": [
    "from integral_timber_joints.planning import load_pddlstream"
   ]
  },
  {
   "cell_type": "markdown",
   "metadata": {},
   "source": [
    "## Parse ITJ process"
   ]
  },
  {
   "cell_type": "code",
   "execution_count": 3,
   "metadata": {},
   "outputs": [],
   "source": [
    "import os\n",
    "from termcolor import cprint\n",
    "import pybullet_planning as pp\n",
    "from integral_timber_joints.planning.parsing import parse_process, save_process_and_movements, \\\n",
    "    get_process_path, save_process"
   ]
  },
  {
   "cell_type": "code",
   "execution_count": 4,
   "metadata": {},
   "outputs": [],
   "source": [
    "# parse options\n",
    "design_dir = '210916_SymbolicPlanning' # '210419_AnticlasticShelter' # '210605_ScrewdriverTestProcess' # 210419_AnticlasticShelter\n",
    "problem = 'nine_pieces_process.json' #'shelter_process.json' # 'shelter_process.json' pavilion_process.json' # 'twelve_pieces_process.json'\n",
    "problem_subdir = '.'"
   ]
  },
  {
   "cell_type": "code",
   "execution_count": 5,
   "metadata": {},
   "outputs": [
    {
     "name": "stdout",
     "output_type": "stream",
     "text": [
      "\u001b[34mProcess json parsed from c:\\users\\harry\\dropbox (mit)\\code_ws_dropbox\\itj_ws\\integral_timber_joints\\external\\itj_design_study\\210916_SymbolicPlanning\\nine_pieces_process.json\u001b[0m\n"
     ]
    }
   ],
   "source": [
    "process = parse_process(design_dir, problem, subdir=problem_subdir)\n",
    "\n",
    "# Double check entire solution is valid\n",
    "for beam_id in process.assembly.sequence:\n",
    "    if not process.dependency.beam_all_valid(beam_id):\n",
    "        process.dependency.compute_all(beam_id)\n",
    "        assert process.dependency.beam_all_valid(beam_id)"
   ]
  },
  {
   "cell_type": "markdown",
   "metadata": {},
   "source": [
    "## Construct PDDL problem"
   ]
  },
  {
   "cell_type": "code",
   "execution_count": 6,
   "metadata": {},
   "outputs": [],
   "source": [
    "from integral_timber_joints.planning.pddlstream_definitions.problem import get_pddlstream_problem"
   ]
  },
  {
   "cell_type": "code",
   "execution_count": 7,
   "metadata": {},
   "outputs": [],
   "source": [
    "debug = 0\n",
    "verbose = 1\n",
    "use_partial_order = 1\n",
    "reset_to_home = 0"
   ]
  },
  {
   "cell_type": "code",
   "execution_count": 8,
   "metadata": {},
   "outputs": [],
   "source": [
    "pddlstream_problem = get_pddlstream_problem(process, use_partial_order=use_partial_order, debug=debug, \n",
    "                                            reset_to_home=reset_to_home)"
   ]
  },
  {
   "cell_type": "code",
   "execution_count": 9,
   "metadata": {},
   "outputs": [
    {
     "name": "stdout",
     "output_type": "stream",
     "text": [
      "Init: [('RobotConf', Conf-0.93), ('RobotAtConf', Conf-0.93), ('CanMove',), ('RobotToolChangerEmpty',), ('Element', 'b0'), ('AtRack', 'b0'), ('IsElement', 'b0'), ('Grounded', 'b0'), ('Element', 'b1'), ('AtRack', 'b1'), ('IsElement', 'b1'), ('Grounded', 'b1'), ('Element', 'b2'), ('AtRack', 'b2'), ('IsElement', 'b2'), ('Element', 'b3'), ('AtRack', 'b3'), ('IsElement', 'b3'), ('Element', 'b5'), ('AtRack', 'b5'), ('IsElement', 'b5'), ('Grounded', 'b5'), ('Element', 'b6'), ('AtRack', 'b6'), ('IsElement', 'b6'), ('Element', 'b7'), ('AtRack', 'b7'), ('IsElement', 'b7'), ('Grounded', 'b7'), ('Element', 'b8'), ('AtRack', 'b8'), ('IsElement', 'b8'), ('Element', 'b4'), ('AtRack', 'b4'), ('IsElement', 'b4'), ('Joint', 'b0', 'b2'), ('NoToolAtJoint', 'b0', 'b2'), ('Joint', 'b0', 'b3'), ('NoToolAtJoint', 'b0', 'b3'), ('Joint', 'b0', 'b6'), ('NoToolAtJoint', 'b0', 'b6'), ('Joint', 'b1', 'b2'), ('NoToolAtJoint', 'b1', 'b2'), ('Joint', 'b1', 'b3'), ('NoToolAtJoint', 'b1', 'b3'), ('Joint', 'b1', 'b8'), ('NoToolAtJoint', 'b1', 'b8'), ('Joint', 'b2', 'b0'), ('NoToolAtJoint', 'b2', 'b0'), ('Joint', 'b2', 'b1'), ('NoToolAtJoint', 'b2', 'b1'), ('Joint', 'b3', 'b0'), ('NoToolAtJoint', 'b3', 'b0'), ('Joint', 'b3', 'b1'), ('NoToolAtJoint', 'b3', 'b1'), ('Joint', 'b4', 'b5'), ('NoToolAtJoint', 'b4', 'b5'), ('Joint', 'b4', 'b7'), ('NoToolAtJoint', 'b4', 'b7'), ('Joint', 'b5', 'b4'), ('NoToolAtJoint', 'b5', 'b4'), ('Joint', 'b5', 'b6'), ('NoToolAtJoint', 'b5', 'b6'), ('Joint', 'b6', 'b0'), ('NoToolAtJoint', 'b6', 'b0'), ('Joint', 'b6', 'b5'), ('NoToolAtJoint', 'b6', 'b5'), ('Joint', 'b7', 'b4'), ('NoToolAtJoint', 'b7', 'b4'), ('Joint', 'b7', 'b8'), ('NoToolAtJoint', 'b7', 'b8'), ('Joint', 'b8', 'b1'), ('NoToolAtJoint', 'b8', 'b1'), ('Joint', 'b8', 'b7'), ('NoToolAtJoint', 'b8', 'b7'), ('Order', 'b0', 'b1'), ('Order', 'b1', 'b2'), ('Order', 'b2', 'b3'), ('Order', 'b3', 'b5'), ('Order', 'b5', 'b6'), ('Order', 'b6', 'b7'), ('Order', 'b7', 'b8'), ('Order', 'b8', 'b4'), ('Gripper', 'g1'), ('IsGripper', 'g1'), ('IsTool', 'g1'), ('AtRack', 'g1'), ('Gripper', 'g2'), ('IsGripper', 'g2'), ('IsTool', 'g2'), ('AtRack', 'g2'), ('Gripper', 'g3'), ('IsGripper', 'g3'), ('IsTool', 'g3'), ('AtRack', 'g3')]\n",
      "\n",
      "Goal: ('and', ('Assembled', 'b0'), ('Assembled', 'b1'), ('Assembled', 'b2'), ('Assembled', 'b3'), ('Assembled', 'b5'), ('Assembled', 'b6'), ('Assembled', 'b7'), ('Assembled', 'b8'), ('Assembled', 'b4'))\n"
     ]
    }
   ],
   "source": [
    "print('Init:', pddlstream_problem.init)\n",
    "print()\n",
    "print('Goal:', pddlstream_problem.goal)"
   ]
  },
  {
   "cell_type": "code",
   "execution_count": 47,
   "metadata": {},
   "outputs": [
    {
     "name": "stdout",
     "output_type": "stream",
     "text": [
      "Grounded:  b0\n",
      "Grounded:  b1\n",
      "Grounded:  b5\n",
      "Grounded:  b7\n",
      "('b0', 'b2')\n",
      "('b0', 'b3')\n",
      "('b0', 'b6')\n",
      "('b1', 'b2')\n",
      "('b1', 'b3')\n",
      "('b1', 'b8')\n",
      "('b2', 'b0')\n",
      "('b2', 'b1')\n",
      "('b3', 'b0')\n",
      "('b3', 'b1')\n",
      "('b4', 'b5')\n",
      "('b4', 'b7')\n",
      "('b5', 'b4')\n",
      "('b5', 'b6')\n",
      "('b6', 'b0')\n",
      "('b6', 'b5')\n",
      "('b7', 'b4')\n",
      "('b7', 'b8')\n",
      "('b8', 'b1')\n",
      "('b8', 'b7')\n"
     ]
    }
   ],
   "source": [
    "from integral_timber_joints.assembly.beam_assembly_method import BeamAssemblyMethod\n",
    "\n",
    "beam_seq = process.assembly.sequence\n",
    "for e in beam_seq:\n",
    "    if process.assembly.get_assembly_method(e) == BeamAssemblyMethod.GROUND_CONTACT:\n",
    "        print('Grounded: ', e)\n",
    "for j in process.assembly.joint_ids():\n",
    "    print(j)"
   ]
  },
  {
   "cell_type": "markdown",
   "metadata": {},
   "source": [
    "## Solve"
   ]
  },
  {
   "cell_type": "code",
   "execution_count": 54,
   "metadata": {
    "tags": []
   },
   "outputs": [
    {
     "name": "stdout",
     "output_type": "stream",
     "text": [
      "\n",
      "Goal: ('and', ('Assembled', 'b0'), ('Assembled', 'b1'), ('Assembled', 'b2'), ('Assembled', 'b3'), ('Assembled', 'b5'), ('Assembled', 'b6'), ('Assembled', 'b7'), ('Assembled', 'b8'), ('Assembled', 'b4'), ('AtRack', 'c1'), ('AtRack', 'c2'), ('AtRack', 'c3'), ('AtRack', 'c4'), ('AtRack', 'g1'), ('AtRack', 'g2'), ('AtRack', 'g3'))\n",
      "\n",
      "Iteration: 1 | Complexity: 0 | Calls: 0 | Evaluations: 107 | Solved: False | Cost: inf | Search Time: 0.000 | Sample Time: 0.000 | Time: 0.000\n",
      "Iteration: 2 | Complexity: 1 | Calls: 32 | Evaluations: 235 | Solved: False | Cost: inf | Search Time: 0.050 | Sample Time: 0.000 | Time: 0.050\n",
      "Summary: {complexity: 1, cost: 54.000, evaluations: 235, iterations: 2, length: 54, run_time: 2.099, sample_time: 0.000, search_time: 2.099, solutions: 1, solved: True, timeout: False}\n",
      "\u001b[32mPlanning succeeds\u001b[0m\n",
      "----------\n",
      " 1) pick_gripper_from_rack g1 @conf1813 @conf2813 @traj813\n",
      " 2) pick_element_from_rack b0 @conf1787 @conf2787 @traj787 g1\n",
      " 3) place_element_on_structure b0 @conf1788 @conf2788 @traj788 g1\n",
      " 4) pick_element_from_rack b1 @conf1789 @conf2789 @traj789 g1\n",
      " 5) place_element_on_structure b1 @conf1790 @conf2790 @traj790 g1\n",
      " 6) pick_element_from_rack b5 @conf1795 @conf2795 @traj795 g1\n",
      " 7) place_element_on_structure b5 @conf1796 @conf2796 @traj796 g1\n",
      " 8) pick_element_from_rack b7 @conf1799 @conf2799 @traj799 g1\n",
      " 9) place_element_on_structure b7 @conf1800 @conf2800 @traj800 g1\n",
      "10) place_tool_at_rack g1 @conf1814 @conf2814 @traj814\n",
      "11) pick_clamp_from_rack c3 @conf1809 @conf2809 @traj809\n",
      "12) place_clamp_at_joint c3 b1 b8 @conf1810 @conf2810 @traj810\n",
      "13) pick_clamp_from_rack c1 @conf1805 @conf2805 @traj805\n",
      "14) place_clamp_at_joint c1 b7 b8 @conf1806 @conf2806 @traj806\n",
      "15) pick_gripper_from_rack g1 @conf1813 @conf2813 @traj813\n",
      "16) pick_element_from_rack b8 @conf1801 @conf2801 @traj801 g1\n",
      "17) place_element_on_structure b8 @conf1802 @conf2802 @traj802 g1\n",
      "18) place_tool_at_rack g1 @conf1814 @conf2814 @traj814\n",
      "19) pick_clamp_from_joint c3 b1 b8 @conf1809 @conf2809 @traj809\n",
      "20) place_clamp_at_joint c3 b0 b3 @conf1810 @conf2810 @traj810\n",
      "21) pick_clamp_from_joint c1 b7 b8 @conf1805 @conf2805 @traj805\n",
      "22) place_clamp_at_joint c1 b1 b3 @conf1806 @conf2806 @traj806\n",
      "23) pick_gripper_from_rack g1 @conf1813 @conf2813 @traj813\n",
      "24) pick_element_from_rack b3 @conf1793 @conf2793 @traj793 g1\n",
      "25) place_element_on_structure b3 @conf1794 @conf2794 @traj794 g1\n",
      "26) place_tool_at_rack g1 @conf1814 @conf2814 @traj814\n",
      "27) pick_clamp_from_joint c3 b0 b3 @conf1809 @conf2809 @traj809\n",
      "28) place_clamp_at_joint c3 b0 b2 @conf1810 @conf2810 @traj810\n",
      "29) pick_clamp_from_joint c1 b1 b3 @conf1805 @conf2805 @traj805\n",
      "30) place_clamp_at_joint c1 b1 b2 @conf1806 @conf2806 @traj806\n",
      "31) pick_gripper_from_rack g1 @conf1813 @conf2813 @traj813\n",
      "32) pick_element_from_rack b2 @conf1791 @conf2791 @traj791 g1\n",
      "33) place_element_on_structure b2 @conf1792 @conf2792 @traj792 g1\n",
      "34) place_tool_at_rack g1 @conf1814 @conf2814 @traj814\n",
      "35) pick_clamp_from_joint c3 b0 b2 @conf1809 @conf2809 @traj809\n",
      "36) place_clamp_at_joint c3 b0 b6 @conf1810 @conf2810 @traj810\n",
      "37) pick_clamp_from_joint c1 b1 b2 @conf1805 @conf2805 @traj805\n",
      "38) place_clamp_at_joint c1 b5 b6 @conf1806 @conf2806 @traj806\n",
      "39) pick_gripper_from_rack g1 @conf1813 @conf2813 @traj813\n",
      "40) pick_element_from_rack b6 @conf1797 @conf2797 @traj797 g1\n",
      "41) place_element_on_structure b6 @conf1798 @conf2798 @traj798 g1\n",
      "42) place_tool_at_rack g1 @conf1814 @conf2814 @traj814\n",
      "43) pick_clamp_from_joint c3 b0 b6 @conf1809 @conf2809 @traj809\n",
      "44) place_clamp_at_joint c3 b5 b4 @conf1810 @conf2810 @traj810\n",
      "45) pick_clamp_from_joint c1 b5 b6 @conf1805 @conf2805 @traj805\n",
      "46) place_clamp_at_joint c1 b7 b4 @conf1806 @conf2806 @traj806\n",
      "47) pick_gripper_from_rack g1 @conf1813 @conf2813 @traj813\n",
      "48) pick_element_from_rack b4 @conf1803 @conf2803 @traj803 g1\n",
      "49) place_element_on_structure b4 @conf1804 @conf2804 @traj804 g1\n",
      "50) place_tool_at_rack g1 @conf1814 @conf2814 @traj814\n",
      "51) pick_clamp_from_joint c3 b5 b4 @conf1809 @conf2809 @traj809\n",
      "52) place_tool_at_rack c3 @conf1810 @conf2810 @traj810\n",
      "53) pick_clamp_from_joint c1 b7 b4 @conf1805 @conf2805 @traj805\n",
      "54) place_tool_at_rack c1 @conf1806 @conf2806 @traj806\n"
     ]
    }
   ],
   "source": [
    "from pddlstream.algorithms.downward import set_cost_scale, parse_action\n",
    "from pddlstream.algorithms.meta import solve\n",
    "from pddlstream.utils import INF\n",
    "from pddlstream.language.constants import print_plan, is_plan\n",
    "\n",
    "from integral_timber_joints.planning.pddlstream_definitions.problem import get_pddlstream_problem\n",
    "\n",
    "pddlstream_problem = get_pddlstream_problem(process, use_partial_order=1, debug=True,\n",
    "                                            reset_to_home=1)\n",
    "\n",
    "# print('Init:', pddlstream_problem.init)\n",
    "print()\n",
    "print('Goal:', pddlstream_problem.goal)\n",
    "print()\n",
    "\n",
    "costs = True\n",
    "set_cost_scale(1)\n",
    "\n",
    "solution = solve(pddlstream_problem, algorithm='incremental', \n",
    "                 max_time=60,\n",
    "                 unit_costs=True,\n",
    "                 max_planner_time=300, \n",
    "                 debug=0, verbose=0)\n",
    "\n",
    "plan, cost, evaluations = solution\n",
    "plan_success = is_plan(plan)\n",
    "cprint('Planning {}'.format('succeeds' if plan_success else 'fails'), 'green' if plan_success else 'red')\n",
    "\n",
    "print('-'*10)\n",
    "print_plan(plan)"
   ]
  },
  {
   "cell_type": "code",
   "execution_count": 25,
   "metadata": {},
   "outputs": [],
   "source": [
    "# from pddlstream.algorithms.algorithm import parse_problem\n",
    "# from pddlstream.algorithms.constraints import PlanConstraints\n",
    "# from pddlstream.algorithms.downward import get_problem, task_from_domain_problem\n",
    "# from pddlstream.algorithms.meta import examine_instantiated\n",
    "\n",
    "# pddlstream_problem = get_pddlstream_problem(process, use_partial_order=True, debug=False,\n",
    "#                                             reset_to_home=False)\n",
    "\n",
    "# print(pddlstream_problem.goal)\n",
    "\n",
    "# results, instantiated = examine_instantiated(pddlstream_problem, unit_costs=1, verbose=0, debug=1)"
   ]
  },
  {
   "cell_type": "code",
   "execution_count": 62,
   "metadata": {},
   "outputs": [],
   "source": [
    "actions = [action for action in plan if action.name == 'place_element_on_structure']\n",
    "element_sequence = [ac.args[0] for ac in actions]"
   ]
  },
  {
   "cell_type": "code",
   "execution_count": 63,
   "metadata": {},
   "outputs": [
    {
     "data": {
      "text/plain": [
       "['b0', 'b1', 'b2', 'b3', 'b5', 'b6', 'b7', 'b8', 'b4']"
      ]
     },
     "execution_count": 63,
     "metadata": {},
     "output_type": "execute_result"
    }
   ],
   "source": [
    "process.assembly.sequence"
   ]
  },
  {
   "cell_type": "code",
   "execution_count": 64,
   "metadata": {},
   "outputs": [
    {
     "data": {
      "text/plain": [
       "['b0', 'b1', 'b5', 'b7', 'b8', 'b3', 'b2', 'b6', 'b4']"
      ]
     },
     "execution_count": 64,
     "metadata": {},
     "output_type": "execute_result"
    }
   ],
   "source": [
    "element_sequence"
   ]
  },
  {
   "cell_type": "code",
   "execution_count": null,
   "metadata": {},
   "outputs": [],
   "source": [
    "# TODO visualize sequence in a pybullet window"
   ]
  }
 ],
 "metadata": {
  "kernelspec": {
   "display_name": "Python 3",
   "language": "python",
   "name": "python3"
  },
  "language_info": {
   "codemirror_mode": {
    "name": "ipython",
    "version": 3
   },
   "file_extension": ".py",
   "mimetype": "text/x-python",
   "name": "python",
   "nbconvert_exporter": "python",
   "pygments_lexer": "ipython3",
   "version": "3.7.9"
  },
  "metadata": {
   "interpreter": {
    "hash": "742396f8abfd15506fd5537870b226a29245815e58899b5be3a686185469d15a"
   }
  }
 },
 "nbformat": 4,
 "nbformat_minor": 4
}
