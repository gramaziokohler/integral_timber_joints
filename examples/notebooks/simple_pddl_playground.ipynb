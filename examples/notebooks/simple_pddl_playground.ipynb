{
 "cells": [
  {
   "cell_type": "code",
   "execution_count": 1,
   "metadata": {},
   "outputs": [],
   "source": [
    "%load_ext autoreload\n",
    "%autoreload 2"
   ]
  },
  {
   "cell_type": "code",
   "execution_count": 2,
   "metadata": {},
   "outputs": [
    {
     "name": "stdout",
     "output_type": "stream",
     "text": [
      "\u001b[33mUsing pddlstream from C:\\Users\\harry\\Documents\\code_ws\\pb_ws\\coop_assembly\\external\\pddlstream\\pddlstream\\__init__.py\u001b[0m\n"
     ]
    }
   ],
   "source": [
    "from integral_timber_joints.planning import load_pddlstream"
   ]
  },
  {
   "cell_type": "markdown",
   "metadata": {},
   "source": [
    "## Parse ITJ process"
   ]
  },
  {
   "cell_type": "code",
   "execution_count": 3,
   "metadata": {},
   "outputs": [],
   "source": [
    "import os\n",
    "from termcolor import cprint\n",
    "import pybullet_planning as pp\n",
    "from integral_timber_joints.planning.parsing import parse_process, save_process_and_movements, \\\n",
    "    get_process_path, save_process"
   ]
  },
  {
   "cell_type": "code",
   "execution_count": 4,
   "metadata": {},
   "outputs": [],
   "source": [
    "# parse options\n",
    "design_dir = '210916_SymbolicPlanning' # '210419_AnticlasticShelter' # '210605_ScrewdriverTestProcess' # 210419_AnticlasticShelter\n",
    "problem = 'nine_pieces_process.json' #'shelter_process.json' # 'shelter_process.json' pavilion_process.json' # 'twelve_pieces_process.json'\n",
    "problem_subdir = '.'"
   ]
  },
  {
   "cell_type": "code",
   "execution_count": 5,
   "metadata": {},
   "outputs": [
    {
     "name": "stdout",
     "output_type": "stream",
     "text": [
      "\u001b[34mProcess json parsed from c:\\users\\harry\\dropbox (mit)\\code_ws_dropbox\\itj_ws\\integral_timber_joints\\external\\itj_design_study\\210916_SymbolicPlanning\\nine_pieces_process.json\u001b[0m\n"
     ]
    }
   ],
   "source": [
    "process = parse_process(design_dir, problem, subdir=problem_subdir)\n",
    "\n",
    "# Double check entire solution is valid\n",
    "for beam_id in process.assembly.sequence:\n",
    "    if not process.dependency.beam_all_valid(beam_id):\n",
    "        process.dependency.compute_all(beam_id)\n",
    "        assert process.dependency.beam_all_valid(beam_id)"
   ]
  },
  {
   "cell_type": "markdown",
   "metadata": {},
   "source": [
    "## Construct PDDL problem"
   ]
  },
  {
   "cell_type": "code",
   "execution_count": 6,
   "metadata": {},
   "outputs": [],
   "source": [
    "from integral_timber_joints.planning.pddlstream_definitions.problem import get_pddlstream_problem"
   ]
  },
  {
   "cell_type": "code",
   "execution_count": 7,
   "metadata": {},
   "outputs": [],
   "source": [
    "debug = 0\n",
    "verbose = 1\n",
    "use_partial_order = 1\n",
    "reset_to_home = 0"
   ]
  },
  {
   "cell_type": "code",
   "execution_count": 8,
   "metadata": {},
   "outputs": [],
   "source": [
    "pddlstream_problem = get_pddlstream_problem(process, use_partial_order=use_partial_order, debug=debug, \n",
    "                                            reset_to_home=reset_to_home)"
   ]
  },
  {
   "cell_type": "code",
   "execution_count": 9,
   "metadata": {},
   "outputs": [
    {
     "name": "stdout",
     "output_type": "stream",
     "text": [
      "Init: [('RobotConf', Conf-0.93), ('RobotAtConf', Conf-0.93), ('CanMove',), ('RobotToolChangerEmpty',), ('Element', 'b0'), ('AtRack', 'b0'), ('IsElement', 'b0'), ('Grounded', 'b0'), ('Element', 'b1'), ('AtRack', 'b1'), ('IsElement', 'b1'), ('Grounded', 'b1'), ('Element', 'b2'), ('AtRack', 'b2'), ('IsElement', 'b2'), ('Element', 'b3'), ('AtRack', 'b3'), ('IsElement', 'b3'), ('Element', 'b5'), ('AtRack', 'b5'), ('IsElement', 'b5'), ('Grounded', 'b5'), ('Element', 'b6'), ('AtRack', 'b6'), ('IsElement', 'b6'), ('Element', 'b7'), ('AtRack', 'b7'), ('IsElement', 'b7'), ('Grounded', 'b7'), ('Element', 'b8'), ('AtRack', 'b8'), ('IsElement', 'b8'), ('Element', 'b4'), ('AtRack', 'b4'), ('IsElement', 'b4'), ('Joint', 'b0', 'b2'), ('NoToolAtJoint', 'b0', 'b2'), ('Joint', 'b0', 'b3'), ('NoToolAtJoint', 'b0', 'b3'), ('Joint', 'b0', 'b6'), ('NoToolAtJoint', 'b0', 'b6'), ('Joint', 'b1', 'b2'), ('NoToolAtJoint', 'b1', 'b2'), ('Joint', 'b1', 'b3'), ('NoToolAtJoint', 'b1', 'b3'), ('Joint', 'b1', 'b8'), ('NoToolAtJoint', 'b1', 'b8'), ('Joint', 'b2', 'b0'), ('NoToolAtJoint', 'b2', 'b0'), ('Joint', 'b2', 'b1'), ('NoToolAtJoint', 'b2', 'b1'), ('Joint', 'b3', 'b0'), ('NoToolAtJoint', 'b3', 'b0'), ('Joint', 'b3', 'b1'), ('NoToolAtJoint', 'b3', 'b1'), ('Joint', 'b4', 'b5'), ('NoToolAtJoint', 'b4', 'b5'), ('Joint', 'b4', 'b7'), ('NoToolAtJoint', 'b4', 'b7'), ('Joint', 'b5', 'b4'), ('NoToolAtJoint', 'b5', 'b4'), ('Joint', 'b5', 'b6'), ('NoToolAtJoint', 'b5', 'b6'), ('Joint', 'b6', 'b0'), ('NoToolAtJoint', 'b6', 'b0'), ('Joint', 'b6', 'b5'), ('NoToolAtJoint', 'b6', 'b5'), ('Joint', 'b7', 'b4'), ('NoToolAtJoint', 'b7', 'b4'), ('Joint', 'b7', 'b8'), ('NoToolAtJoint', 'b7', 'b8'), ('Joint', 'b8', 'b1'), ('NoToolAtJoint', 'b8', 'b1'), ('Joint', 'b8', 'b7'), ('NoToolAtJoint', 'b8', 'b7'), ('Order', 'b0', 'b1'), ('Order', 'b1', 'b2'), ('Order', 'b2', 'b3'), ('Order', 'b3', 'b5'), ('Order', 'b5', 'b6'), ('Order', 'b6', 'b7'), ('Order', 'b7', 'b8'), ('Order', 'b8', 'b4'), ('Gripper', 'g1'), ('IsGripper', 'g1'), ('IsTool', 'g1'), ('AtRack', 'g1'), ('Gripper', 'g2'), ('IsGripper', 'g2'), ('IsTool', 'g2'), ('AtRack', 'g2'), ('Gripper', 'g3'), ('IsGripper', 'g3'), ('IsTool', 'g3'), ('AtRack', 'g3')]\n",
      "\n",
      "Goal: ('and', ('Assembled', 'b0'), ('Assembled', 'b1'), ('Assembled', 'b2'), ('Assembled', 'b3'), ('Assembled', 'b5'), ('Assembled', 'b6'), ('Assembled', 'b7'), ('Assembled', 'b8'), ('Assembled', 'b4'))\n"
     ]
    }
   ],
   "source": [
    "print('Init:', pddlstream_problem.init)\n",
    "print()\n",
    "print('Goal:', pddlstream_problem.goal)"
   ]
  },
  {
   "cell_type": "code",
   "execution_count": 47,
   "metadata": {},
   "outputs": [
    {
     "name": "stdout",
     "output_type": "stream",
     "text": [
      "Grounded:  b0\n",
      "Grounded:  b1\n",
      "Grounded:  b5\n",
      "Grounded:  b7\n",
      "('b0', 'b2')\n",
      "('b0', 'b3')\n",
      "('b0', 'b6')\n",
      "('b1', 'b2')\n",
      "('b1', 'b3')\n",
      "('b1', 'b8')\n",
      "('b2', 'b0')\n",
      "('b2', 'b1')\n",
      "('b3', 'b0')\n",
      "('b3', 'b1')\n",
      "('b4', 'b5')\n",
      "('b4', 'b7')\n",
      "('b5', 'b4')\n",
      "('b5', 'b6')\n",
      "('b6', 'b0')\n",
      "('b6', 'b5')\n",
      "('b7', 'b4')\n",
      "('b7', 'b8')\n",
      "('b8', 'b1')\n",
      "('b8', 'b7')\n"
     ]
    }
   ],
   "source": [
    "from integral_timber_joints.assembly.beam_assembly_method import BeamAssemblyMethod\n",
    "\n",
    "beam_seq = process.assembly.sequence\n",
    "for e in beam_seq:\n",
    "    if process.assembly.get_assembly_method(e) == BeamAssemblyMethod.GROUND_CONTACT:\n",
    "        print('Grounded: ', e)\n",
    "for j in process.assembly.joint_ids():\n",
    "    print(j)"
   ]
  },
  {
   "cell_type": "markdown",
   "metadata": {},
   "source": [
    "## Solve"
   ]
  },
  {
   "cell_type": "code",
   "execution_count": 72,
   "metadata": {
    "tags": []
   },
   "outputs": [
    {
     "name": "stdout",
     "output_type": "stream",
     "text": [
      "\n",
      "Goal: ('and', ('Assembled', 'b0'), ('Assembled', 'b1'), ('Assembled', 'b2'), ('Assembled', 'b3'), ('Assembled', 'b5'), ('Assembled', 'b6'), ('Assembled', 'b7'), ('Assembled', 'b8'), ('Assembled', 'b4'), ('AtRack', 'c1'), ('AtRack', 'c2'), ('AtRack', 'c3'), ('AtRack', 'c4'), ('AtRack', 'g1'), ('AtRack', 'g2'), ('AtRack', 'g3'), ('RobotAtConf', Conf-Home))\n",
      "\n",
      "Iteration: 1 | Complexity: 0 | Calls: 0 | Evaluations: 115 | Solved: False | Cost: inf | Search Time: 0.000 | Sample Time: 0.000 | Time: 0.000\n",
      "Iteration: 2 | Complexity: 1 | Calls: 33 | Evaluations: 245 | Solved: False | Cost: inf | Search Time: 0.448 | Sample Time: 0.000 | Time: 0.448\n",
      "Iteration: 3 | Complexity: 2 | Calls: 4257 | Evaluations: 8693 | Solved: False | Cost: inf | Search Time: 0.987 | Sample Time: 0.185 | Time: 1.172\n",
      "Summary: {complexity: 2, cost: 109.000, evaluations: 8693, iterations: 3, length: 109, run_time: 28.247, sample_time: 0.185, search_time: 28.062, solutions: 1, solved: True, timeout: False}\n",
      "\u001b[32mPlanning succeeds\u001b[0m\n",
      "----------\n",
      " 1) move Conf-Home @conf11005 @traj16550\n",
      " 2) pick_gripper_from_rack g1 @conf11005 @conf21005 @traj13683\n",
      " 3) move @conf21005 @conf1979 @traj16614\n",
      " 4) pick_element_from_rack b0 @conf1979 @conf2979 @traj13657 g1\n",
      " 5) move @conf2979 @conf1980 @traj13700\n",
      " 6) place_element_on_structure b0 @conf1980 @conf2980 @traj13658 g1\n",
      " 7) move @conf2980 @conf1981 @traj13719\n",
      " 8) pick_element_from_rack b1 @conf1981 @conf2981 @traj13659 g1\n",
      " 9) move @conf2981 @conf1982 @traj13747\n",
      "10) place_element_on_structure b1 @conf1982 @conf2982 @traj13660 g1\n",
      "11) move @conf2982 @conf11006 @traj16822\n",
      "12) place_tool_at_rack g1 @conf11006 @conf21006 @traj13684\n",
      "13) move @conf21006 @conf1997 @traj16833\n",
      "14) pick_clamp_from_rack c1 @conf1997 @conf2997 @traj13675\n",
      "15) move @conf2997 @conf1998 @traj15272\n",
      "16) place_clamp_at_joint c1 b0 b2 @conf1998 @conf2998 @traj13676\n",
      "17) move @conf2998 @conf11003 @traj16155\n",
      "18) pick_clamp_from_rack c4 @conf11003 @conf21003 @traj13681\n",
      "19) move @conf21003 @conf11004 @traj16384\n",
      "20) place_clamp_at_joint c4 b1 b2 @conf11004 @conf21004 @traj13682\n",
      "21) move @conf21004 @conf11005 @traj16572\n",
      "22) pick_gripper_from_rack g1 @conf11005 @conf21005 @traj13683\n",
      "23) move @conf21005 @conf1983 @traj16624\n",
      "24) pick_element_from_rack b2 @conf1983 @conf2983 @traj13661 g1\n",
      "25) move @conf2983 @conf1984 @traj13821\n",
      "26) place_element_on_structure b2 @conf1984 @conf2984 @traj13662 g1\n",
      "27) move @conf2984 @conf11006 @traj16785\n",
      "28) place_tool_at_rack g1 @conf11006 @conf21006 @traj13684\n",
      "29) move @conf21006 @conf11003 @traj16851\n",
      "30) pick_clamp_from_joint c4 b1 b2 @conf11003 @conf21003 @traj13681\n",
      "31) move @conf21003 @conf11004 @traj16384\n",
      "32) place_clamp_at_joint c4 b1 b3 @conf11004 @conf21004 @traj13682\n",
      "33) move @conf21004 @conf1997 @traj16401\n",
      "34) pick_clamp_from_joint c1 b0 b2 @conf1997 @conf2997 @traj13675\n",
      "35) move @conf2997 @conf1998 @traj15272\n",
      "36) place_clamp_at_joint c1 b0 b3 @conf1998 @conf2998 @traj13676\n",
      "37) move @conf2998 @conf11005 @traj16568\n",
      "38) pick_gripper_from_rack g1 @conf11005 @conf21005 @traj13683\n",
      "39) move @conf21005 @conf1985 @traj16639\n",
      "40) pick_element_from_rack b3 @conf1985 @conf2985 @traj13663 g1\n",
      "41) move @conf2985 @conf1986 @traj13939\n",
      "42) place_element_on_structure b3 @conf1986 @conf2986 @traj13664 g1\n",
      "43) move @conf2986 @conf1987 @traj14003\n",
      "44) pick_element_from_rack b5 @conf1987 @conf2987 @traj13665 g1\n",
      "45) move @conf2987 @conf1988 @traj14086\n",
      "46) place_element_on_structure b5 @conf1988 @conf2988 @traj13666 g1\n",
      "47) move @conf2988 @conf11006 @traj16801\n",
      "48) place_tool_at_rack g1 @conf11006 @conf21006 @traj13684\n",
      "49) move @conf21006 @conf11003 @traj16851\n",
      "50) pick_clamp_from_joint c4 b1 b3 @conf11003 @conf21003 @traj13681\n",
      "51) move @conf21003 @conf11004 @traj16384\n",
      "52) place_clamp_at_joint c4 b5 b6 @conf11004 @conf21004 @traj13682\n",
      "53) move @conf21004 @conf1997 @traj16401\n",
      "54) pick_clamp_from_joint c1 b0 b3 @conf1997 @conf2997 @traj13675\n",
      "55) move @conf2997 @conf1998 @traj15272\n",
      "56) place_clamp_at_joint c1 b0 b6 @conf1998 @conf2998 @traj13676\n",
      "57) move @conf2998 @conf11005 @traj16568\n",
      "58) pick_gripper_from_rack g1 @conf11005 @conf21005 @traj13683\n",
      "59) move @conf21005 @conf1989 @traj16654\n",
      "60) pick_element_from_rack b6 @conf1989 @conf2989 @traj13667 g1\n",
      "61) move @conf2989 @conf1990 @traj14254\n",
      "62) place_element_on_structure b6 @conf1990 @conf2990 @traj13668 g1\n",
      "63) move @conf2990 @conf1991 @traj14357\n",
      "64) pick_element_from_rack b7 @conf1991 @conf2991 @traj13669 g1\n",
      "65) move @conf2991 @conf1992 @traj14462\n",
      "66) place_element_on_structure b7 @conf1992 @conf2992 @traj13670 g1\n",
      "67) move @conf2992 @conf11006 @traj16793\n",
      "68) place_tool_at_rack g1 @conf11006 @conf21006 @traj13684\n",
      "69) move @conf21006 @conf1997 @traj16833\n",
      "70) pick_clamp_from_joint c1 b0 b6 @conf1997 @conf2997 @traj13675\n",
      "71) move @conf2997 @conf1998 @traj15272\n",
      "72) place_clamp_at_joint c1 b1 b8 @conf1998 @conf2998 @traj13676\n",
      "73) move @conf2998 @conf11003 @traj16155\n",
      "74) pick_clamp_from_joint c4 b5 b6 @conf11003 @conf21003 @traj13681\n",
      "75) move @conf21003 @conf11004 @traj16384\n",
      "76) place_clamp_at_joint c4 b7 b8 @conf11004 @conf21004 @traj13682\n",
      "77) move @conf21004 @conf11005 @traj16572\n",
      "78) pick_gripper_from_rack g1 @conf11005 @conf21005 @traj13683\n",
      "79) move @conf21005 @conf1993 @traj16643\n",
      "80) pick_element_from_rack b8 @conf1993 @conf2993 @traj13671 g1\n",
      "81) move @conf2993 @conf1994 @traj14700\n",
      "82) place_element_on_structure b8 @conf1994 @conf2994 @traj13672 g1\n",
      "83) move @conf2994 @conf11006 @traj16771\n",
      "84) place_tool_at_rack g1 @conf11006 @conf21006 @traj13684\n",
      "85) move @conf21006 @conf1997 @traj16833\n",
      "86) pick_clamp_from_joint c1 b1 b8 @conf1997 @conf2997 @traj13675\n",
      "87) move @conf2997 @conf1998 @traj15272\n",
      "88) place_clamp_at_joint c1 b5 b4 @conf1998 @conf2998 @traj13676\n",
      "89) move @conf2998 @conf11003 @traj16155\n",
      "90) pick_clamp_from_joint c4 b7 b8 @conf11003 @conf21003 @traj13681\n",
      "91) move @conf21003 @conf11004 @traj16384\n",
      "92) place_clamp_at_joint c4 b7 b4 @conf11004 @conf21004 @traj13682\n",
      "93) move @conf21004 @conf11005 @traj16572\n",
      "94) pick_gripper_from_rack g1 @conf11005 @conf21005 @traj13683\n",
      "95) move @conf21005 @conf1995 @traj16649\n",
      "96) pick_element_from_rack b4 @conf1995 @conf2995 @traj13673 g1\n",
      "97) move @conf2995 @conf1996 @traj14954\n",
      "98) place_element_on_structure b4 @conf1996 @conf2996 @traj13674 g1\n",
      "99) move @conf2996 @conf11006 @traj16794\n",
      "100) place_tool_at_rack g1 @conf11006 @conf21006 @traj13684\n",
      "101) move @conf21006 @conf1997 @traj16833\n",
      "102) pick_clamp_from_joint c1 b5 b4 @conf1997 @conf2997 @traj13675\n",
      "103) move @conf2997 @conf1998 @traj15272\n",
      "104) place_tool_at_rack c1 @conf1998 @conf2998 @traj13676\n",
      "105) move @conf2998 @conf11003 @traj16155\n",
      "106) pick_clamp_from_joint c4 b7 b4 @conf11003 @conf21003 @traj13681\n",
      "107) move @conf21003 @conf11004 @traj16384\n",
      "108) place_tool_at_rack c4 @conf11004 @conf21004 @traj13682\n",
      "109) move @conf21004 Conf-Home @traj16392\n"
     ]
    }
   ],
   "source": [
    "from pddlstream.algorithms.downward import set_cost_scale, parse_action\n",
    "from pddlstream.algorithms.meta import solve\n",
    "from pddlstream.utils import INF\n",
    "from pddlstream.language.constants import print_plan, is_plan\n",
    "\n",
    "from integral_timber_joints.planning.pddlstream_definitions.problem import get_pddlstream_problem\n",
    "\n",
    "pddlstream_problem = get_pddlstream_problem(process, use_partial_order=1, debug=True,\n",
    "                                            reset_to_home=1)\n",
    "\n",
    "# print('Init:', pddlstream_problem.init)\n",
    "print()\n",
    "print('Goal:', pddlstream_problem.goal)\n",
    "print()\n",
    "\n",
    "costs = True\n",
    "set_cost_scale(1)\n",
    "\n",
    "solution = solve(pddlstream_problem, algorithm='incremental', #incremental\n",
    "                 max_time=60,\n",
    "                 unit_costs=True,\n",
    "                 max_planner_time=300, \n",
    "                 debug=0, verbose=0)\n",
    "\n",
    "plan, cost, evaluations = solution\n",
    "plan_success = is_plan(plan)\n",
    "cprint('Planning {}'.format('succeeds' if plan_success else 'fails'), 'green' if plan_success else 'red')\n",
    "\n",
    "print('-'*10)\n",
    "print_plan(plan)"
   ]
  },
  {
   "cell_type": "code",
   "execution_count": 25,
   "metadata": {},
   "outputs": [],
   "source": [
    "# from pddlstream.algorithms.algorithm import parse_problem\n",
    "# from pddlstream.algorithms.constraints import PlanConstraints\n",
    "# from pddlstream.algorithms.downward import get_problem, task_from_domain_problem\n",
    "# from pddlstream.algorithms.meta import examine_instantiated\n",
    "\n",
    "# pddlstream_problem = get_pddlstream_problem(process, use_partial_order=True, debug=False,\n",
    "#                                             reset_to_home=False)\n",
    "\n",
    "# print(pddlstream_problem.goal)\n",
    "\n",
    "# results, instantiated = examine_instantiated(pddlstream_problem, unit_costs=1, verbose=0, debug=1)"
   ]
  },
  {
   "cell_type": "code",
   "execution_count": 62,
   "metadata": {},
   "outputs": [],
   "source": [
    "actions = [action for action in plan if action.name == 'place_element_on_structure']\n",
    "element_sequence = [ac.args[0] for ac in actions]"
   ]
  },
  {
   "cell_type": "code",
   "execution_count": 63,
   "metadata": {},
   "outputs": [
    {
     "data": {
      "text/plain": [
       "['b0', 'b1', 'b2', 'b3', 'b5', 'b6', 'b7', 'b8', 'b4']"
      ]
     },
     "execution_count": 63,
     "metadata": {},
     "output_type": "execute_result"
    }
   ],
   "source": [
    "process.assembly.sequence"
   ]
  },
  {
   "cell_type": "code",
   "execution_count": 64,
   "metadata": {},
   "outputs": [
    {
     "data": {
      "text/plain": [
       "['b0', 'b1', 'b5', 'b7', 'b8', 'b3', 'b2', 'b6', 'b4']"
      ]
     },
     "execution_count": 64,
     "metadata": {},
     "output_type": "execute_result"
    }
   ],
   "source": [
    "element_sequence"
   ]
  },
  {
   "cell_type": "code",
   "execution_count": null,
   "metadata": {},
   "outputs": [],
   "source": [
    "# TODO visualize sequence in a pybullet window"
   ]
  }
 ],
 "metadata": {
  "kernelspec": {
   "display_name": "Python 3",
   "language": "python",
   "name": "python3"
  },
  "language_info": {
   "codemirror_mode": {
    "name": "ipython",
    "version": 3
   },
   "file_extension": ".py",
   "mimetype": "text/x-python",
   "name": "python",
   "nbconvert_exporter": "python",
   "pygments_lexer": "ipython3",
   "version": "3.7.9"
  },
  "metadata": {
   "interpreter": {
    "hash": "742396f8abfd15506fd5537870b226a29245815e58899b5be3a686185469d15a"
   }
  }
 },
 "nbformat": 4,
 "nbformat_minor": 4
}
