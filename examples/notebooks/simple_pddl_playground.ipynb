{
 "cells": [
  {
   "cell_type": "code",
   "execution_count": 1,
   "metadata": {},
   "outputs": [],
   "source": [
    "%load_ext autoreload\n",
    "%autoreload 2"
   ]
  },
  {
   "cell_type": "code",
   "execution_count": 2,
   "metadata": {},
   "outputs": [
    {
     "name": "stdout",
     "output_type": "stream",
     "text": [
      "\u001b[33mUsing pddlstream from C:\\Users\\harry\\Documents\\code_ws\\pb_ws\\coop_assembly\\external\\pddlstream\\pddlstream\\__init__.py\u001b[0m\n",
      "\u001b[33mUsing strips from C:\\Users\\harry\\Documents\\code_ws\\pb_ws\\coop_assembly\\external\\pyplanners\\strips\\__init__.py\u001b[0m\n"
     ]
    }
   ],
   "source": [
    "import os, sys\n",
    "from termcolor import cprint\n",
    "HERE = os.getcwd()\n",
    "# HERE = 'c:\\\\Users\\\\harry\\\\Documents\\\\code_ws\\\\pb_ws\\\\coop_assembly\\\\src\\\\coop_assembly\\\\planning\\\\'\n",
    "pyplanner_path = os.path.abspath(os.path.join(HERE, '..', '..', '..', 'external', 'pyplanners'))\n",
    "sys.path.extend([\n",
    "    os.path.abspath(os.path.join(HERE, '..', '..', '..', 'external', 'pddlstream')),\n",
    "    pyplanner_path,\n",
    "])\n",
    "os.environ['PYPLANNERS_PATH'] = pyplanner_path\n",
    "\n",
    "import pddlstream\n",
    "cprint(\"Using pddlstream from {}\".format(pddlstream.__file__), 'yellow')\n",
    "import strips # pyplanners\n",
    "cprint(\"Using strips from {}\".format(strips.__file__), 'yellow')"
   ]
  },
  {
   "cell_type": "code",
   "execution_count": 3,
   "metadata": {},
   "outputs": [],
   "source": [
    "import numpy as np\n",
    "np.set_printoptions(precision=3)"
   ]
  },
  {
   "cell_type": "markdown",
   "metadata": {},
   "source": [
    "## Load shapes"
   ]
  },
  {
   "cell_type": "code",
   "execution_count": 4,
   "metadata": {},
   "outputs": [],
   "source": [
    "TRANS_TOL = 0.001\n",
    "ROT_TOL = np.inf"
   ]
  },
  {
   "cell_type": "code",
   "execution_count": 64,
   "metadata": {},
   "outputs": [],
   "source": [
    "from collections import namedtuple, defaultdict\n",
    "\n",
    "SimpleBarStructure = namedtuple('SimpleBarStructure', ['node_points', 'elements', 'grounded_nodes'])"
   ]
  },
  {
   "cell_type": "code",
   "execution_count": 65,
   "metadata": {},
   "outputs": [],
   "source": [
    "from coop_assembly.planning.stiffness import solid_cir_crosssec, wood_material\n",
    "from pyconmech.frame_analysis import GravityLoad, Node, Element, Support, Material, \\\n",
    "    CrossSec, Material, Joint, Model, LoadCase\n",
    "\n",
    "def create_conmech_model(simple_bar_struct, model_name='temp', presample_scaffolds=True, save_model=False):\n",
    "    # ! meter-based unit\n",
    "    unit = \"meter\"\n",
    "\n",
    "    # TODO break the lines into pieces according to the connectors\n",
    "    # axis points should all be unique\n",
    "    cm_nodes = []\n",
    "    for i, node in enumerate(simple_bar_struct.node_points):\n",
    "        # Node(self, point, node_ind, is_grounded):\n",
    "        # ! is_grounded is used to mark grounded nodes for construction purpose\n",
    "        # structural supports are specified using the Support entries\n",
    "        cm_nodes.append(Node(node, i, False))\n",
    "\n",
    "    # Add elements\n",
    "    fem_element_from_bar_id = defaultdict(set)\n",
    "    cm_elements = []\n",
    "    element_tags = set()\n",
    "    for i, node_inds in enumerate(simple_bar_struct.elements):\n",
    "        element_tag = 'bar'\n",
    "        cm_elements.append(Element(node_inds, i, elem_tag=element_tag, bending_stiff=True))\n",
    "        element_tags.add(element_tag)\n",
    "        fem_element_from_bar_id[i].add(i)\n",
    "    \n",
    "    # Add supports\n",
    "    cm_supports = []\n",
    "    for node_ind in simple_bar_struct.grounded_nodes:\n",
    "        cm_supports.append(Support([1,1,1,1,1,1], node_ind))\n",
    "    \n",
    "    if presample_scaffolds:\n",
    "        # TODO might restrict to a subset of nodes to add scaffolds\n",
    "        ground_z = min([node.point[2] for node in cm_nodes])\n",
    "        scaffold_tags = set()\n",
    "        projected_nodes = []\n",
    "        for i, up_node in enumerate(cm_nodes):\n",
    "            if up_node.is_grounded or abs(up_node.point[2]-ground_z)<1e-12:\n",
    "                continue\n",
    "            new_node_id = len(projected_nodes)+len(cm_nodes)\n",
    "            projected_node = Node([up_node.point[0], up_node.point[1], ground_z], new_node_id, True)\n",
    "            projected_nodes.append(projected_node)\n",
    "\n",
    "            new_node_inds = (up_node.node_ind, projected_node.node_ind)\n",
    "            scaffold_tag = 'scaffold' #.format(projected_node.node_ind)\n",
    "            new_element_id = len(cm_elements)\n",
    "            cm_elements.append(Element(new_node_inds, new_element_id, elem_tag=scaffold_tag, bending_stiff=True))\n",
    "\n",
    "            # TODO lump the scaffold element to bar_id? new dict?\n",
    "            # fem_element_from_bar_id[new_element_id].add(new_element_id)\n",
    "            scaffold_tags.add(scaffold_tag)\n",
    "\n",
    "            # TODO should only chosen one contact point as fixiety\n",
    "            cm_supports.append(Support([1 for _ in range(6)], projected_node.node_ind))\n",
    "        cm_nodes.extend(projected_nodes)\n",
    "\n",
    "    # TODO Add rotational stiffness later\n",
    "#     ? Joint(self, c_conditions, elem_tags):\n",
    "#     node_c_conditions = [None, None, None] + [ROTATIONAL_STIFFNESS for _ in range(3)]\n",
    "    # joint = Joint(node_c_conditions+node_c_conditions, list(bar_tags | connector_tags))\n",
    "    joints = []\n",
    "\n",
    "    # TODO different material property and cross secs on Element and Connectors\n",
    "    r = 0.01 # in meter\n",
    "    crosssecs = [solid_cir_crosssec(r, elem_tags=list(element_tags))]\n",
    "    materials = [wood_material(list(element_tags))]\n",
    "    if presample_scaffolds:\n",
    "        crosssecs.append(solid_cir_crosssec(r, elem_tags=list(scaffold_tags)))\n",
    "        materials.append(wood_material(list(scaffold_tags)))\n",
    "\n",
    "    model = Model(cm_nodes, cm_elements, cm_supports, joints, materials, crosssecs, unit=unit, model_name=model_name)\n",
    "    if save_model:\n",
    "        model_path = os.path.join(HERE, 'simple_structures', model_name + '_conmech_model.json')\n",
    "        model_data = model.to_data()\n",
    "        with open(model_path, 'w') as f:\n",
    "            json.dump(model_data, f, indent=None)\n",
    "        cprint('Conmech model saved to: {}'.format(model_path), 'green')\n",
    "    return model, fem_element_from_bar_id"
   ]
  },
  {
   "cell_type": "code",
   "execution_count": 66,
   "metadata": {},
   "outputs": [],
   "source": [
    "from pyconmech.frame_analysis import StiffnessChecker\n",
    "\n",
    "def create_stiffness_checker_simple(simple_bar_struct, verbose=False, trans_tol=TRANS_TOL, **kwargs):\n",
    "    # * convert ball structure to a conmech model\n",
    "    model, fem_element_from_bar_id = create_conmech_model(simple_bar_struct, **kwargs)\n",
    "    checker = StiffnessChecker(model, verbose=verbose, checker_engine=\"numpy\")\n",
    "    checker.set_loads(LoadCase(gravity_load=GravityLoad([0,0,-1.0])))\n",
    "    checker.set_nodal_displacement_tol(trans_tol=trans_tol, rot_tol=ROT_TOL)\n",
    "    return checker, fem_element_from_bar_id"
   ]
  },
  {
   "cell_type": "code",
   "execution_count": 67,
   "metadata": {},
   "outputs": [],
   "source": [
    "from coop_assembly.planning.stiffness import Deformation, Displacement, Reaction\n",
    "\n",
    "def evaluate_stiffness(simple_bar_struct, elements, checker=None, fem_element_from_bar_id=None, \\\n",
    "                       trans_tol=TRANS_TOL, verbose=True):\n",
    "    # TODO: check each connected component individually\n",
    "    if not elements:\n",
    "        return Deformation(True, {}, {}, {})\n",
    "\n",
    "    if checker is None or fem_element_from_bar_id is None:\n",
    "        checker, fem_element_from_bar_id = create_stiffness_checker_simple(simple_bar_struct, \n",
    "                                                                           trans_tol=trans_tol, verbose=verbose)\n",
    "    exist_element_ids = set()\n",
    "    for elem in elements:\n",
    "        if elem in fem_element_from_bar_id and len(fem_element_from_bar_id[elem]) > 0:\n",
    "            # bar\n",
    "            exist_element_ids.update(fem_element_from_bar_id[elem])\n",
    "        else:\n",
    "            # in the case of scaffolding elements\n",
    "            exist_element_ids.add(elem)\n",
    "#     print('existing elem: ', exist_element_ids)\n",
    "    \n",
    "    is_stiff = checker.solve(exist_element_ids=list(exist_element_ids), if_cond_num=True)\n",
    "    if not checker.has_stored_result():\n",
    "        return Deformation(False, {}, {}, {})\n",
    "\n",
    "    #print(\"has stored results: {0}\".format(checker.has_stored_result()))\n",
    "    success, nodal_displacement, fixities_reaction, element_reaction = checker.get_solved_results()\n",
    "    assert is_stiff == success, \"full structure not stiff!\"\n",
    "    assert success or checker.get_compliance() > 0.0, 'success {} | compliance {}'.format(success, checker.get_compliance())\n",
    "    displacements = {i: Displacement(*d) for i, d in nodal_displacement.items()}\n",
    "    fixities = {i: Reaction(*d) for i, d in fixities_reaction.items()}\n",
    "    reactions = {i: (Reaction(*d[0]), Reaction(*d[1])) for i, d in element_reaction.items()}\n",
    "\n",
    "    #print(\"nodal displacement (m/rad):\\n{0}\".format(nodal_displacement)) # nodes x 7\n",
    "    #print(\"fixities reaction (kN, kN-m):\\n{0}\".format(fixities_reaction)) # ground x 7\n",
    "    #print(\"element reaction (kN, kN-m):\\n{0}\".format(element_reaction)) # elements x 13\n",
    "    trans_tol, rot_tol = checker.get_nodal_deformation_tol()\n",
    "    max_trans, max_rot, max_trans_vid, max_rot_vid = checker.get_max_nodal_deformation()\n",
    "    # The inverse of stiffness is flexibility or compliance\n",
    "\n",
    "    translation = np.max(np.linalg.norm([d[:3] for d in displacements.values()], ord=2, axis=1))\n",
    "    rotation = np.max(np.linalg.norm([d[3:] for d in displacements.values()], ord=2, axis=1))\n",
    "    is_stiff &= (translation <= trans_tol) and (rotation <= rot_tol)\n",
    "\n",
    "    if verbose:\n",
    "        print('Stiff: {} | Compliance: {:.5f}'.format(is_stiff, checker.get_compliance()))\n",
    "        print('Max translation deformation: {0:.5f} / {1:.5} = {2:.5}, at node #{3}'.format(\n",
    "            max_trans, trans_tol, max_trans / trans_tol, max_trans_vid))\n",
    "        # print('Max rotation deformation: {0:.5f} / {1:.5} = {2:.5}, at node #{3}'.format(\n",
    "        #     max_rot, rot_tol, max_rot / rot_tol, max_rot_vid))\n",
    "\n",
    "    return Deformation(is_stiff, displacements, fixities, reactions)\n",
    "\n",
    "def test_stiffness(bar_struct, elements, **kwargs):\n",
    "    return evaluate_stiffness(bar_struct, elements, **kwargs).success"
   ]
  },
  {
   "cell_type": "code",
   "execution_count": 140,
   "metadata": {},
   "outputs": [],
   "source": [
    "def get_midpoint(simple_bar_struct, element):\n",
    "    return np.average([simple_bar_struct.node_points[i] for i in simple_bar_struct.elements[element]], axis=0)\n",
    "\n",
    "def compute_z_distance(simple_bar_struct, element):\n",
    "    # Distance to a ground plane\n",
    "    # Opposing gravitational force\n",
    "    return get_midpoint(simple_bar_struct, element)[2]"
   ]
  },
  {
   "cell_type": "markdown",
   "metadata": {},
   "source": [
    "## test checker"
   ]
  },
  {
   "cell_type": "code",
   "execution_count": 165,
   "metadata": {},
   "outputs": [],
   "source": [
    "num_seg = 6\n",
    "x_len = num_seg\n",
    "y_len = 1.0\n",
    "\n",
    "node_points = [[x, 0, x * y_len/(num_seg/2)] for x in range(int(num_seg/2))] + \\\n",
    "              [[x, 0, y_len - (x-num_seg/2) * y_len/(num_seg/2)] for x in range(int(num_seg/2), num_seg+1)]\n",
    "elements = [(i, i+1) for i in range(num_seg)]\n",
    "grounded_nodes = [0, len(node_points)-1]"
   ]
  },
  {
   "cell_type": "code",
   "execution_count": 69,
   "metadata": {},
   "outputs": [],
   "source": [
    "simple_bar_struct = SimpleBarStructure(node_points, elements, grounded_nodes)\n",
    "all_elements = set(range(len(elements)))"
   ]
  },
  {
   "cell_type": "code",
   "execution_count": 141,
   "metadata": {},
   "outputs": [
    {
     "data": {
      "text/plain": [
       "0.16666666666666666"
      ]
     },
     "execution_count": 141,
     "metadata": {},
     "output_type": "execute_result"
    }
   ],
   "source": [
    "compute_z_distance(simple_bar_struct, 0)"
   ]
  },
  {
   "cell_type": "code",
   "execution_count": 70,
   "metadata": {},
   "outputs": [
    {
     "data": {
      "text/plain": [
       "[(0, 1), (1, 2), (2, 3), (3, 4), (4, 5), (5, 6)]"
      ]
     },
     "execution_count": 70,
     "metadata": {},
     "output_type": "execute_result"
    }
   ],
   "source": [
    "elements"
   ]
  },
  {
   "cell_type": "code",
   "execution_count": 71,
   "metadata": {},
   "outputs": [
    {
     "data": {
      "text/plain": [
       "[[0, 0, 0.0],\n",
       " [1, 0, 0.3333333333333333],\n",
       " [2, 0, 0.6666666666666666],\n",
       " [3, 0, 1.0],\n",
       " [4, 0, 0.6666666666666667],\n",
       " [5, 0, 0.33333333333333337],\n",
       " [6, 0, 0.0]]"
      ]
     },
     "execution_count": 71,
     "metadata": {},
     "output_type": "execute_result"
    }
   ],
   "source": [
    "node_points"
   ]
  },
  {
   "cell_type": "code",
   "execution_count": 72,
   "metadata": {},
   "outputs": [
    {
     "data": {
      "text/plain": [
       "[0, 6]"
      ]
     },
     "execution_count": 72,
     "metadata": {},
     "output_type": "execute_result"
    }
   ],
   "source": [
    "grounded_nodes"
   ]
  },
  {
   "cell_type": "code",
   "execution_count": 73,
   "metadata": {},
   "outputs": [],
   "source": [
    "trans_tol = 0.01"
   ]
  },
  {
   "cell_type": "code",
   "execution_count": 74,
   "metadata": {},
   "outputs": [
    {
     "name": "stdout",
     "output_type": "stream",
     "text": [
      "Stiff: False | Compliance: 0.00031\n",
      "Max translation deformation: 0.27105 / 0.01 = 27.105, at node #3\n"
     ]
    },
    {
     "data": {
      "text/plain": [
       "False"
      ]
     },
     "execution_count": 74,
     "metadata": {},
     "output_type": "execute_result"
    }
   ],
   "source": [
    "test_stiffness(simple_bar_struct, [0,1,2], trans_tol=trans_tol)"
   ]
  },
  {
   "cell_type": "code",
   "execution_count": 75,
   "metadata": {},
   "outputs": [
    {
     "name": "stdout",
     "output_type": "stream",
     "text": [
      "Stiff: True | Compliance: 0.00000\n",
      "Max translation deformation: 0.00388 / 0.01 = 0.38834, at node #3\n"
     ]
    },
    {
     "data": {
      "text/plain": [
       "True"
      ]
     },
     "execution_count": 75,
     "metadata": {},
     "output_type": "execute_result"
    }
   ],
   "source": [
    "test_stiffness(simple_bar_struct, [0,1,2,7], trans_tol=trans_tol)"
   ]
  },
  {
   "cell_type": "code",
   "execution_count": 76,
   "metadata": {},
   "outputs": [
    {
     "name": "stdout",
     "output_type": "stream",
     "text": [
      "Stiff: True | Compliance: 0.00002\n",
      "Max translation deformation: 0.00448 / 0.01 = 0.44818, at node #2\n"
     ]
    },
    {
     "data": {
      "text/plain": [
       "True"
      ]
     },
     "execution_count": 76,
     "metadata": {},
     "output_type": "execute_result"
    }
   ],
   "source": [
    "test_stiffness(simple_bar_struct, all_elements, trans_tol=trans_tol)"
   ]
  },
  {
   "cell_type": "markdown",
   "metadata": {},
   "source": [
    "## Check scaffolds work with conmech"
   ]
  },
  {
   "cell_type": "code",
   "execution_count": 166,
   "metadata": {},
   "outputs": [],
   "source": [
    "import pybullet_planning as pp\n",
    "\n",
    "connect_pb = True\n",
    "viewer = True\n",
    "if connect_pb:\n",
    "    pp.connect(use_gui=viewer)\n",
    "    pp.create_plane(color=pp.WHITE)\n",
    "    pp.draw_pose(pp.unit_pose())"
   ]
  },
  {
   "cell_type": "code",
   "execution_count": 167,
   "metadata": {},
   "outputs": [],
   "source": [
    "from stiffness import draw_conmech_model\n",
    "\n",
    "checker, fem_element_from_bar_id = create_stiffness_checker_simple(simple_bar_struct, trans_tol=trans_tol, presample_scaffolds=True)\n",
    "            \n",
    "if connect_pb:\n",
    "    draw_conmech_model(checker.model, fem_element_from_bar_id, elements=None);"
   ]
  },
  {
   "cell_type": "code",
   "execution_count": 82,
   "metadata": {},
   "outputs": [
    {
     "data": {
      "text/plain": [
       "defaultdict(set, {0: {0}, 1: {1}, 2: {2}, 3: {3}, 4: {4}, 5: {5}})"
      ]
     },
     "execution_count": 82,
     "metadata": {},
     "output_type": "execute_result"
    }
   ],
   "source": [
    "fem_element_from_bar_id"
   ]
  },
  {
   "cell_type": "code",
   "execution_count": 155,
   "metadata": {},
   "outputs": [],
   "source": [
    "pp.disconnect()"
   ]
  },
  {
   "cell_type": "code",
   "execution_count": 83,
   "metadata": {},
   "outputs": [
    {
     "data": {
      "text/plain": [
       "[Element(#0(bar),(0, 1),Bend:True),\n",
       " Element(#1(bar),(1, 2),Bend:True),\n",
       " Element(#2(bar),(2, 3),Bend:True),\n",
       " Element(#3(bar),(3, 4),Bend:True),\n",
       " Element(#4(bar),(4, 5),Bend:True),\n",
       " Element(#5(bar),(5, 6),Bend:True),\n",
       " Element(#6(scaffold),(1, 7),Bend:True),\n",
       " Element(#7(scaffold),(2, 8),Bend:True),\n",
       " Element(#8(scaffold),(3, 9),Bend:True),\n",
       " Element(#9(scaffold),(4, 10),Bend:True),\n",
       " Element(#10(scaffold),(5, 11),Bend:True)]"
      ]
     },
     "execution_count": 83,
     "metadata": {},
     "output_type": "execute_result"
    }
   ],
   "source": [
    "checker.model.elements"
   ]
  },
  {
   "cell_type": "code",
   "execution_count": 169,
   "metadata": {},
   "outputs": [],
   "source": [
    "pp.remove_all_debug()"
   ]
  },
  {
   "cell_type": "markdown",
   "metadata": {},
   "source": [
    "### Before adding the scaffold element"
   ]
  },
  {
   "cell_type": "code",
   "execution_count": 175,
   "metadata": {},
   "outputs": [
    {
     "name": "stdout",
     "output_type": "stream",
     "text": [
      "Stiff: False | Compliance: 0.00031\n",
      "Max translation deformation: 0.27105 / 0.01 = 27.105, at node #3\n"
     ]
    }
   ],
   "source": [
    "partial_elements = [0,1,2]\n",
    "\n",
    "test_stiffness(simple_bar_struct, partial_elements, checker=checker,\n",
    "    fem_element_from_bar_id=fem_element_from_bar_id, verbose=True, trans_tol=trans_tol)\n",
    "\n",
    "if connect_pb:\n",
    "    draw_conmech_model(checker.model, fem_element_from_bar_id, elements=partial_elements);"
   ]
  },
  {
   "cell_type": "code",
   "execution_count": 176,
   "metadata": {},
   "outputs": [],
   "source": [
    "pp.remove_all_debug()"
   ]
  },
  {
   "cell_type": "markdown",
   "metadata": {},
   "source": [
    "### After adding the scaffold element"
   ]
  },
  {
   "cell_type": "code",
   "execution_count": 177,
   "metadata": {},
   "outputs": [
    {
     "name": "stdout",
     "output_type": "stream",
     "text": [
      "[0, 1, 2, 8]\n",
      "Stiff: False | Compliance: 0.00031\n",
      "Max translation deformation: 0.27105 / 0.01 = 27.105, at node #3\n"
     ]
    }
   ],
   "source": [
    "new_partial_elements = partial_elements + [8]\n",
    "print(new_partial_elements)\n",
    "\n",
    "test_stiffness(simple_bar_struct, new_partial_elements, checker=checker,\n",
    "    fem_element_from_bar_id=fem_element_from_bar_id, verbose=True, trans_tol=trans_tol)\n",
    "\n",
    "if connect_pb:\n",
    "    draw_conmech_model(checker.model, fem_element_from_bar_id, elements=new_partial_elements);"
   ]
  },
  {
   "cell_type": "code",
   "execution_count": 172,
   "metadata": {},
   "outputs": [],
   "source": [
    "pp.remove_all_debug()"
   ]
  },
  {
   "cell_type": "markdown",
   "metadata": {},
   "source": [
    "## Unconnected"
   ]
  },
  {
   "cell_type": "code",
   "execution_count": 87,
   "metadata": {},
   "outputs": [
    {
     "data": {
      "text/plain": [
       "False"
      ]
     },
     "execution_count": 87,
     "metadata": {},
     "output_type": "execute_result"
    }
   ],
   "source": [
    "partial_elements = [0,1,3]\n",
    "\n",
    "test_stiffness(simple_bar_struct, partial_elements, checker=checker,\n",
    "    fem_element_from_bar_id=fem_element_from_bar_id, verbose=True, trans_tol=trans_tol)\n",
    "\n",
    "# if connect_pb:\n",
    "#     draw_conmech_model(checker.model, fem_element_from_bar_id, elements=partial_elements);"
   ]
  },
  {
   "cell_type": "code",
   "execution_count": 88,
   "metadata": {},
   "outputs": [
    {
     "data": {
      "text/plain": [
       "False"
      ]
     },
     "execution_count": 88,
     "metadata": {},
     "output_type": "execute_result"
    }
   ],
   "source": [
    "partial_elements = [1,3]\n",
    "\n",
    "test_stiffness(simple_bar_struct, partial_elements, checker=checker,\n",
    "    fem_element_from_bar_id=fem_element_from_bar_id, verbose=True, trans_tol=trans_tol)\n",
    "\n",
    "# if connect_pb:\n",
    "#     draw_conmech_model(checker.model, fem_element_from_bar_id, elements=partial_elements);"
   ]
  },
  {
   "cell_type": "markdown",
   "metadata": {},
   "source": [
    "## Define stream functions"
   ]
  },
  {
   "cell_type": "code",
   "execution_count": 89,
   "metadata": {},
   "outputs": [],
   "source": [
    "from coop_assembly.planning.utils import compute_z_distance, check_connected, Command\n",
    "from coop_assembly.planning.stiffness import test_stiffness\n",
    "\n",
    "def get_wild_remove_element_gen_fn(simple_bar_struct, element_from_index, grounded_elements, debug=False, use_fluent=True, \\\n",
    "    connectivity=True, stiffness=True, checker_info=(None,None), verbose=False):\n",
    "    def wild_gen_fn(robot_name, element, fluents=[]):\n",
    "        next_printed = set()\n",
    "        for fact in fluents:\n",
    "            if fact[0] == 'assembled':\n",
    "                #if fact[1] != element:\n",
    "                next_printed.add(fact[1])\n",
    "            else:\n",
    "                raise NotImplementedError(fact[0])\n",
    "\n",
    "        assert element in next_printed\n",
    "        next_printed = next_printed - {element}\n",
    "        if verbose:\n",
    "            print('---')\n",
    "            print('Remove E{} - fluent printed ({}): {}'.format(element, len(next_printed), sorted(next_printed)))\n",
    "\n",
    "        # # * partial ordering\n",
    "        # if ordering and (outgoing_from_element[element] & next_printed):\n",
    "        #     # outgoing elements must be removed BEFORE element\n",
    "        #     cprint('Ordering fails.', 'red')\n",
    "        #     return\n",
    "\n",
    "#         # * connectivity\n",
    "#         if connectivity and not check_connected(connectors, grounded_elements, next_printed):\n",
    "#             if verbose: cprint('Connectivity fails.', 'red')\n",
    "#             return\n",
    "\n",
    "        if stiffness and not test_stiffness(bar_struct, next_printed, checker=checker_info[0],\n",
    "            fem_element_from_bar_id=checker_info[1], verbose=verbose):\n",
    "            if verbose: cprint('Stiffness fails.', 'red')\n",
    "            return\n",
    "\n",
    "        if debug:\n",
    "            num_outputs = 2 if use_fluent else 3\n",
    "            outputs = [num_outputs*(None,)]\n",
    "            yield outputs # For debugging\n",
    "            return\n",
    "        \n",
    "        command = Command([])\n",
    "        grasp = None\n",
    "        outputs = [(command, grasp)]\n",
    "        yield outputs\n",
    "    # end wild_gen_fn\n",
    "    return wild_gen_fn"
   ]
  },
  {
   "cell_type": "code",
   "execution_count": 90,
   "metadata": {},
   "outputs": [],
   "source": [
    "def get_wild_add_element_gen_fn(simple_bar_struct, debug=False,\n",
    "    use_fluent=True, connectivity=True, stiffness=True, allow_scaffolds=False, checker_info=(None,None), \n",
    "    verbose=False):\n",
    "    all_elements = set(range(len(simple_bar_struct.elements)))\n",
    "    def wild_gen_fn(robot_name, element, fluents=[]):\n",
    "        next_printed = set()\n",
    "        scaffold_printed = set()\n",
    "        for fact in fluents:\n",
    "            if fact[0] == 'assembled':\n",
    "                next_printed.add(fact[1])\n",
    "            else:\n",
    "                raise NotImplementedError(fact[0])                \n",
    "\n",
    "        assert element not in next_printed\n",
    "        next_printed = next_printed | {element}\n",
    "        if verbose:\n",
    "            print('---')\n",
    "            print('Add E{} - fluent printed ({}): {}'.format(element, len(next_printed), sorted(next_printed)))\n",
    "\n",
    "        # # * partial ordering\n",
    "        # if ordering and (outgoing_from_element[element] & next_printed):\n",
    "        #     # outgoing elements must be removed BEFORE element\n",
    "        #     cprint('Ordering fails.', 'red')\n",
    "        #     return\n",
    "\n",
    "        # * connectivity, only for original structure for now\n",
    "#         if connectivity and not check_connected(connectors, grounded_elements, next_printed & all_elements):\n",
    "#             if verbose: cprint('Connectivity fails.', 'red')\n",
    "#             return\n",
    "\n",
    "        if stiffness and not test_stiffness(simple_bar_struct, next_printed, checker=checker_info[0],\n",
    "            fem_element_from_bar_id=checker_info[1], verbose=verbose):\n",
    "            if verbose: cprint('Stiffness fails.', 'red')\n",
    "            return\n",
    "\n",
    "        if debug:\n",
    "            num_outputs = 2 if use_fluent else 3\n",
    "            outputs = [num_outputs*(None,)]\n",
    "            yield outputs # For debugging\n",
    "            return\n",
    "        \n",
    "        command = Command([])\n",
    "        grasp = None\n",
    "        outputs = [(command, grasp)]\n",
    "        yield outputs\n",
    "    # end wild_gen_fn\n",
    "    return wild_gen_fn"
   ]
  },
  {
   "cell_type": "code",
   "execution_count": 96,
   "metadata": {},
   "outputs": [],
   "source": [
    "def get_wild_add_scaffold_element_gen_fn(simple_bar_struct, bar_id_from_scaffolds, debug=False,\n",
    "    use_fluent=True, connectivity=True, stiffness=True, checker_info=(None,None), verbose=False):\n",
    "    def wild_gen_fn(robot_name, scaffold_element, fluents=[]):\n",
    "        next_printed = set()\n",
    "        for fact in fluents:\n",
    "            if fact[0] == 'assembled':\n",
    "                next_printed.add(fact[1])\n",
    "            else:\n",
    "                raise NotImplementedError(fact[0])\n",
    "\n",
    "        if verbose:\n",
    "            print('---')\n",
    "            print('Add Scaffold E{} - fluent printed ({}): {}'.format(scaffold_element, len(next_printed), sorted(next_printed)))\n",
    "\n",
    "        # # * partial ordering\n",
    "        # if ordering and (outgoing_from_element[element] & next_printed):\n",
    "        #     # outgoing elements must be removed BEFORE element\n",
    "        #     cprint('Ordering fails.', 'red')\n",
    "        #     return\n",
    "\n",
    "        # * connectivity\n",
    "        if connectivity and not (bar_id_from_scaffolds[scaffold_element] & next_printed):\n",
    "            if verbose: cprint('Scaffold connectivity fails.', 'red')\n",
    "            return\n",
    "\n",
    "        next_printed = next_printed | {scaffold_element}\n",
    "        if stiffness and not test_stiffness(simple_bar_struct, next_printed, checker=checker_info[0],\n",
    "            fem_element_from_bar_id=checker_info[1], verbose=verbose):\n",
    "            if verbose: cprint('Scaffold stiffness fails.', 'red')\n",
    "            return\n",
    "\n",
    "        if debug:\n",
    "            num_outputs = 2 if use_fluent else 3\n",
    "            outputs = [num_outputs*(None,)]\n",
    "            yield outputs # For debugging\n",
    "            return\n",
    "        \n",
    "        command = Command([])\n",
    "        grasp = None\n",
    "        outputs = [(command, grasp)]\n",
    "        yield outputs\n",
    "    # end wild_gen_fn\n",
    "    return wild_gen_fn"
   ]
  },
  {
   "cell_type": "markdown",
   "metadata": {},
   "source": [
    "## Validators"
   ]
  },
  {
   "cell_type": "code",
   "execution_count": 103,
   "metadata": {},
   "outputs": [],
   "source": [
    "def compute_plan_deformation(simple_bar_struct, plan, verbose=False, trans_tol=TRANS_TOL, checker=None,\n",
    "    fem_element_from_bar_id=None):\n",
    "    if checker is None or fem_element_from_bar_id is None:\n",
    "        checker, fem_element_from_bar_id = create_stiffness_checker_simple(simple_bar_struct, verbose=False, \\\n",
    "                                                                           trans_tol=trans_tol)\n",
    "    trans_tol, rot_tol = checker.get_nodal_deformation_tol()\n",
    "    if plan is None:\n",
    "        return trans_tol, rot_tol\n",
    "\n",
    "    printed = []\n",
    "    translations = []\n",
    "    rotations = []\n",
    "    for i, element in enumerate(plan):\n",
    "        if verbose:\n",
    "            cprint('{}) : bar#{}'.format(i, element), 'yellow')\n",
    "        printed.append(element)\n",
    "        deformation = evaluate_stiffness(simple_bar_struct, printed,\n",
    "                                         checker=checker, fem_element_from_bar_id=fem_element_from_bar_id, verbose=verbose)\n",
    "        trans, rot, _, _ = checker.get_max_nodal_deformation()\n",
    "        translations.append([bool(deformation.success), trans])\n",
    "        rotations.append(rot)\n",
    "    # TODO: could return full history\n",
    "    return translations"
   ]
  },
  {
   "cell_type": "markdown",
   "metadata": {},
   "source": [
    "## Construct PDDL problem"
   ]
  },
  {
   "cell_type": "code",
   "execution_count": 156,
   "metadata": {},
   "outputs": [],
   "source": [
    "printed=set()\n",
    "removed=set()\n",
    "debug = False\n",
    "\n",
    "# constraint\n",
    "stiffness = True\n",
    "forward = True\n",
    "allow_scaffold = True\n",
    "costs = False\n",
    "verbose = False\n",
    "\n",
    "trans_tol = 0.01"
   ]
  },
  {
   "cell_type": "code",
   "execution_count": 157,
   "metadata": {},
   "outputs": [],
   "source": [
    "from stiffness import conmech_model_from_bar_structure, create_stiffness_checker, evaluate_stiffness, draw_conmech_model\n",
    "\n",
    "checker, fem_element_from_bar_id = create_stiffness_checker_simple(simple_bar_struct, \n",
    "                                                                   presample_scaffolds=True, trans_tol=trans_tol)\n",
    "            \n",
    "# if connect_pb:\n",
    "#     draw_conmech_model(checker.model, fem_element_from_bar_id, elements=None);\n",
    "\n",
    "from collections import defaultdict\n",
    "\n",
    "elem_ind_from_elem_tag = checker._sc_ins.get_elem_ind_from_elem_tag()\n",
    "scaffold_elements = elem_ind_from_elem_tag['scaffold']\n",
    "\n",
    "cm_nodes_from_bar_id = defaultdict(set)\n",
    "for bar_id, fem_es in fem_element_from_bar_id.items():\n",
    "    for fem_e_id in fem_es:\n",
    "        fem_element = checker.model.elements[fem_e_id]\n",
    "        cm_nodes_from_bar_id[bar_id].update(fem_element.end_node_inds)\n",
    "        \n",
    "bar_id_from_scaffolds = defaultdict(set)\n",
    "for se_id in scaffold_elements:\n",
    "    se_element = checker.model.elements[se_id]\n",
    "    for bar_id, cm_node_ids in cm_nodes_from_bar_id.items():\n",
    "        for cm_node_id in list(cm_node_ids):\n",
    "            if cm_node_id in se_element.end_node_inds:\n",
    "                if bar_id != -1:\n",
    "                    bar_id_from_scaffolds[se_id].add(bar_id)\n",
    "\n",
    "all_scaffolds = set(bar_id_from_scaffolds)"
   ]
  },
  {
   "cell_type": "code",
   "execution_count": 158,
   "metadata": {},
   "outputs": [
    {
     "data": {
      "text/plain": [
       "defaultdict(set,\n",
       "            {0: {0, 1}, 1: {1, 2}, 2: {2, 3}, 3: {3, 4}, 4: {4, 5}, 5: {5, 6}})"
      ]
     },
     "execution_count": 158,
     "metadata": {},
     "output_type": "execute_result"
    }
   ],
   "source": [
    "cm_nodes_from_bar_id"
   ]
  },
  {
   "cell_type": "code",
   "execution_count": 159,
   "metadata": {},
   "outputs": [
    {
     "name": "stdout",
     "output_type": "stream",
     "text": [
      "Init: [('Robot', 'r0'), ('Element', 0), ('Removed', 0), ('Element', 1), ('Removed', 1), ('Element', 2), ('Removed', 2), ('Element', 3), ('Removed', 3), ('Element', 4), ('Removed', 4), ('Element', 5), ('Removed', 5), ('ScaffoldElement', 6), ('Removed', 6), ('ScaffoldElement', 7), ('Removed', 7), ('ScaffoldElement', 8), ('Removed', 8), ('ScaffoldElement', 9), ('Removed', 9), ('ScaffoldElement', 10), ('Removed', 10)]\n",
      "Goal: ('and', ('Assembled', 0), ('Assembled', 1), ('Assembled', 2), ('Assembled', 3), ('Assembled', 4), ('Assembled', 5))\n"
     ]
    }
   ],
   "source": [
    "from pddlstream.utils import read\n",
    "from pddlstream.language.stream import StreamInfo, PartialInputs, WildOutput, DEBUG\n",
    "from pddlstream.language.constants import And, PDDLProblem, Equal, print_plan\n",
    "\n",
    "formu = 'forward' if forward else 'backward'\n",
    "if allow_scaffold:\n",
    "    formu += '_scaffold'\n",
    "domain_pddl = read(os.path.join(HERE, 'pddl/stiffness/domain_{}.pddl'.format(formu)))\n",
    "stream_pddl = read(os.path.join(HERE, 'pddl/stiffness/stream_{}.pddl'.format(formu)))\n",
    "\n",
    "init = []\n",
    "init.extend([\n",
    "    ('Robot', 'r0'),\n",
    "])\n",
    "\n",
    "remaining = set(range(len(simple_bar_struct.elements))) - removed - printed\n",
    "for e in remaining:\n",
    "    init.extend([\n",
    "        ('Element', e),\n",
    "        ('Removed', e) if forward else ('Assembled', e),\n",
    "    ])\n",
    "if allow_scaffold:\n",
    "    for e in all_scaffolds:\n",
    "        init.extend([\n",
    "            ('ScaffoldElement', e),\n",
    "            ('Removed', e),\n",
    "        ])\n",
    "\n",
    "constant_map = {}\n",
    "checker_info = (checker, fem_element_from_bar_id)\n",
    "if forward:\n",
    "    stream_map = {\n",
    "        'sample-add': get_wild_add_element_gen_fn(simple_bar_struct,\n",
    "            debug=debug, stiffness=stiffness, checker_info=checker_info, verbose=verbose)\n",
    "    }\n",
    "else:\n",
    "    stream_map = {\n",
    "        'sample-remove': get_wild_remove_element_gen_fn(simple_bar_struct,\n",
    "            debug=debug, stiffness=stiffness, checker_info=checker_info, verbose=verbose)\n",
    "    }\n",
    "\n",
    "if allow_scaffold:\n",
    "    stream_map['sample-add-scaffold'] = get_wild_add_scaffold_element_gen_fn(simple_bar_struct, bar_id_from_scaffolds, \n",
    "        debug=False, use_fluent=True, connectivity=True, stiffness=True, checker_info=checker_info, verbose=verbose)\n",
    "\n",
    "if debug:\n",
    "    stream_map = DEBUG\n",
    "\n",
    "goal_literals = []\n",
    "if forward:\n",
    "    goal_literals.extend(('Assembled', e) for e in remaining)\n",
    "else:\n",
    "    goal_literals.extend(('Removed', e) for e in remaining)\n",
    "\n",
    "# TODO require scaffolds to be removed at the end    \n",
    "# if allow_scaffold:\n",
    "#     goal_literals.extend(('Removed', e) for e in all_scaffolds)\n",
    "\n",
    "goal = And(*goal_literals)\n",
    "\n",
    "pddlstream_problem = PDDLProblem(domain_pddl, constant_map, stream_pddl, stream_map, init, goal)\n",
    "\n",
    "print('Init:', pddlstream_problem.init)\n",
    "print('Goal:', pddlstream_problem.goal)"
   ]
  },
  {
   "cell_type": "markdown",
   "metadata": {},
   "source": [
    "## Solve"
   ]
  },
  {
   "cell_type": "code",
   "execution_count": 160,
   "metadata": {
    "tags": []
   },
   "outputs": [
    {
     "name": "stdout",
     "output_type": "stream",
     "text": [
      "Calls: 0 | Successes: 0 | Results: 0 | Counts: Counter()\n",
      "Iteration: 1 | Complexity: 0 | Calls: 0 | Evaluations: 23 | Solved: False | Cost: inf | Time: 0.001\n",
      "Summary: {complexity: 0, cost: 9.0, evaluations: 23, iterations: 1, length: 9, run_time: 0.10094332695007324, solutions: 1, solved: True, timeout: False}\n"
     ]
    }
   ],
   "source": [
    "from pddlstream.algorithms.downward import set_cost_scale, parse_action\n",
    "from pddlstream.algorithms.incremental import solve_incremental\n",
    "from pddlstream.utils import INF\n",
    "\n",
    "set_cost_scale(1)\n",
    "success_cost = 0 if costs else INF\n",
    "discrete_planner = {\n",
    "    'search': 'eager', # eager | lazy\n",
    "    # lazy might be faster but the solution quality might be low\n",
    "    'evaluator': 'greedy',\n",
    "    'heuristic': 'goal', # goal | add | ff\n",
    "    #'heuristic': ['ff', get_bias_fn(element_from_index)],\n",
    "    'successors': 'all', # all | random\n",
    "    # tiebreaker\n",
    "    #'successors': get_order_fn(element_from_index),\n",
    "    # ? ordering scaffolds can come here\n",
    "    # TODO: confirm that this is working correctly\n",
    "}\n",
    "solution = solve_incremental(pddlstream_problem, max_time=600, planner=discrete_planner,\n",
    "                                success_cost=success_cost, unit_costs=not costs,\n",
    "                                max_planner_time=300, debug=debug, verbose=True)"
   ]
  },
  {
   "cell_type": "code",
   "execution_count": 161,
   "metadata": {},
   "outputs": [
    {
     "name": "stdout",
     "output_type": "stream",
     "text": [
      " 1) add_element r0 c[] 0 None\n",
      " 2) add_element r0 c[] 5 None\n",
      " 3) add_scaffold_element r0 c[] 6 None\n",
      " 4) add_element r0 c[] 1 None\n",
      " 5) add_scaffold_element r0 c[] 7 None\n",
      " 6) add_element r0 c[] 2 None\n",
      " 7) add_scaffold_element r0 c[] 8 None\n",
      " 8) add_element r0 c[] 3 None\n",
      " 9) add_element r0 c[] 4 None\n"
     ]
    }
   ],
   "source": [
    "from pddlstream.language.constants import print_plan, is_plan\n",
    "\n",
    "plan, _, facts = solution\n",
    "# print('-'*10)\n",
    "print_plan(plan)\n",
    "assert is_plan(plan)\n",
    "\n",
    "if not forward:\n",
    "    actions = [action for action in reversed(plan) if action.name == 'remove_element']\n",
    "else:\n",
    "    actions = [action for action in plan if action.name == 'add_element' or action.name == 'add_scaffold_element']\n",
    "element_sequence = [ac.args[2] for ac in actions]"
   ]
  },
  {
   "cell_type": "code",
   "execution_count": 162,
   "metadata": {},
   "outputs": [
    {
     "data": {
      "text/plain": [
       "[0, 5, 6, 1, 7, 2, 8, 3, 4]"
      ]
     },
     "execution_count": 162,
     "metadata": {},
     "output_type": "execute_result"
    }
   ],
   "source": [
    "element_sequence"
   ]
  },
  {
   "cell_type": "code",
   "execution_count": 163,
   "metadata": {},
   "outputs": [],
   "source": [
    "# from coop_assembly.planning.validator import compute_plan_deformation\n",
    "\n",
    "translations = compute_plan_deformation(simple_bar_struct, element_sequence, \\\n",
    "                                        checker=checker, fem_element_from_bar_id=fem_element_from_bar_id)"
   ]
  },
  {
   "cell_type": "code",
   "execution_count": 164,
   "metadata": {},
   "outputs": [
    {
     "data": {
      "text/plain": [
       "Text(0.5, 1.0, 'Squence')"
      ]
     },
     "execution_count": 164,
     "metadata": {},
     "output_type": "execute_result"
    },
    {
     "data": {
      "image/png": "[encoded data removed]",
      "text/plain": [
       "<Figure size 432x288 with 2 Axes>"
      ]
     },
     "metadata": {
      "needs_background": "light"
     },
     "output_type": "display_data"
    }
   ],
   "source": [
    "import matplotlib.pyplot as plt\n",
    "from coop_assembly.planning.stiffness import TRANS_TOL\n",
    "\n",
    "plt.figure(1)\n",
    "plt.subplot(121)\n",
    "plt.plot([t[1] for t in translations])\n",
    "plt.plot([trans_tol for _ in translations])\n",
    "plt.title('PDDLStream plan deformation history')\n",
    "\n",
    "plt.subplot(122)\n",
    "plt.plot(element_sequence)\n",
    "num_bars = len(simple_bar_struct.elements)\n",
    "plt.plot([num_bars for _ in element_sequence])\n",
    "plt.title('Squence')"
   ]
  },
  {
   "cell_type": "markdown",
   "metadata": {},
   "source": [
    "### Progression search"
   ]
  },
  {
   "cell_type": "code",
   "execution_count": 147,
   "metadata": {},
   "outputs": [],
   "source": [
    "import time\n",
    "import random\n",
    "import heapq\n",
    "from pybullet_planning import elapsed_time, randomize\n",
    "\n",
    "def plan_stiffness(bar_struct, elements, initial_position=None, checker=None, fem_element_from_bar_id=None, trans_tol=TRANS_TOL,\\\n",
    "        stiffness=True, heuristic='z', max_time=INF, max_backtrack=0, verbose=False):\n",
    "    \"\"\"use the progression algorithm to plan a stiff sequence\n",
    "    \"\"\"\n",
    "    start_time = time.time()\n",
    "    # TODO the bar index gives the algorithm hints, try other starting point\n",
    "    # TODO chosen bars\n",
    "    if stiffness and (checker is None or fem_element_from_bar_id is None):\n",
    "        checker, fem_element_from_bar_id = create_stiffness_checker_simple(bar_struct, trans_tol=trans_tol)\n",
    "\n",
    "    # all_elements = frozenset(element_from_index)\n",
    "    remaining_elements = frozenset(elements)\n",
    "    min_remaining = len(remaining_elements)\n",
    "    max_bt = stiffness_failures = 0\n",
    "    queue = [(None, frozenset(), [])]\n",
    "    while queue and (elapsed_time(start_time) < max_time):\n",
    "        # TODO pop position and try distance heuristic\n",
    "        _, printed, sequence = heapq.heappop(queue)\n",
    "        num_remaining = len(remaining_elements) - len(printed)\n",
    "        backtrack = num_remaining - min_remaining\n",
    "        max_bt = max(max_bt, backtrack)\n",
    "        if max_backtrack < backtrack:\n",
    "            break # continue\n",
    "\n",
    "        # * check constraints\n",
    "#         if not check_connected(connectors, grounded_elements, printed):\n",
    "#             continue\n",
    "        if stiffness and not test_stiffness(bar_struct, printed, checker=checker, fem_element_from_bar_id=fem_element_from_bar_id, verbose=verbose):\n",
    "            stiffness_failures += 1\n",
    "            continue\n",
    "\n",
    "        if printed == remaining_elements:\n",
    "            # * Done!\n",
    "            #from extrusion.visualization import draw_ordered\n",
    "            # distance = compute_sequence_distance(node_points, sequence, start=initial_position, end=initial_position)\n",
    "            cprint('Plan-stiffness success! Elements: {}, max BT: {}, stiffness failure: {}, Time: {:.3f}sec'.format(len(sequence), max_bt, stiffness_failures, elapsed_time(start_time))) #Distance: {:.3f}m,\n",
    "            #local_search(extrusion_path, element_from_id, node_points, ground_nodes, checker, sequence,\n",
    "            #             initial_position=initial_position, stiffness=stiffness, max_time=INF)\n",
    "            #draw_ordered(sequence, node_points)\n",
    "            #wait_for_user()\n",
    "            return sequence\n",
    "\n",
    "        # * add successors\n",
    "        for element in randomize(remaining_elements - printed):\n",
    "            new_printed = printed | {element}\n",
    "            new_sequence = sequence + [element]\n",
    "            num_remaining = len(remaining_elements) - len(new_printed)\n",
    "            min_remaining = min(min_remaining, num_remaining)\n",
    "            # Don't count edge length\n",
    "            # distance = get_distance(position, node_points[node1]) if position is not None else None\n",
    "            # distance = compute_sequence_distance(node_points, new_sequence)\n",
    "            if heuristic == 'none':\n",
    "                bias = None\n",
    "            elif heuristic == 'random':\n",
    "                bias = random.random()\n",
    "            elif heuristic == 'z':\n",
    "                bias = compute_z_distance(simple_bar_struct, element)\n",
    "            # elif heuristic == 'distance':\n",
    "            #     bias = distance\n",
    "            else:\n",
    "                raise ValueError(heuristic)\n",
    "            #bias = heuristic_fn(printed, element, conf=None) # TODO: experiment with other biases\n",
    "            priority = (num_remaining, bias, random.random())\n",
    "            heapq.heappush(queue, (priority, new_printed, new_sequence))\n",
    "\n",
    "    cprint('Failed to find stiffness plan under tol {}! Elements: {}, Min remaining {}, Time: {:.3f}sec'.format(\n",
    "        trans_tol, len(remaining_elements), min_remaining, elapsed_time(start_time)), 'red')\n",
    "    return None"
   ]
  },
  {
   "cell_type": "code",
   "execution_count": 148,
   "metadata": {},
   "outputs": [
    {
     "name": "stdout",
     "output_type": "stream",
     "text": [
      "\u001b[31mFailed to find stiffness plan under tol 0.01! Elements: 6, Min remaining 3, Time: 0.016sec\u001b[0m\n"
     ]
    }
   ],
   "source": [
    "# from coop_assembly.planning.stiffness import plan_stiffness\n",
    "# from coop_assembly.planning.validator import compute_plan_deformation\n",
    "\n",
    "# progression search\n",
    "num_bars = len(simple_bar_struct.elements)\n",
    "all_elements = set(range(num_bars))\n",
    "progression_sequence = plan_stiffness(simple_bar_struct, all_elements, trans_tol=trans_tol, stiffness=True, heuristic='z', max_time=pp.INF, \n",
    "    max_backtrack=0, verbose=False, checker=checker, fem_element_from_bar_id=fem_element_from_bar_id)\n",
    "\n",
    "translations = compute_plan_deformation(simple_bar_struct, progression_sequence)"
   ]
  },
  {
   "cell_type": "code",
   "execution_count": 149,
   "metadata": {},
   "outputs": [],
   "source": [
    "import matplotlib.pyplot as plt\n",
    "from coop_assembly.planning.stiffness import TRANS_TOL\n",
    "\n",
    "if progression_sequence:\n",
    "    plt.figure(1)\n",
    "    plt.subplot(121)\n",
    "    plt.plot([t[1] for t in translations])\n",
    "    plt.plot([TRANS_TOL for _ in translations])\n",
    "    plt.title('Progression deformation history')\n",
    "\n",
    "    plt.subplot(122)\n",
    "    plt.plot(progression_sequence)\n",
    "    plt.title('sequence')"
   ]
  }
 ],
 "metadata": {
  "kernelspec": {
   "display_name": "Python 3",
   "language": "python",
   "name": "python3"
  },
  "language_info": {
   "codemirror_mode": {
    "name": "ipython",
    "version": 3
   },
   "file_extension": ".py",
   "mimetype": "text/x-python",
   "name": "python",
   "nbconvert_exporter": "python",
   "pygments_lexer": "ipython3",
   "version": "3.7.9"
  },
  "metadata": {
   "interpreter": {
    "hash": "742396f8abfd15506fd5537870b226a29245815e58899b5be3a686185469d15a"
   }
  }
 },
 "nbformat": 4,
 "nbformat_minor": 4
}
