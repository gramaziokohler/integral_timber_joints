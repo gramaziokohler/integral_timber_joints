{
 "cells": [
  {
   "cell_type": "code",
   "execution_count": 1,
   "metadata": {},
   "outputs": [],
   "source": [
    "%load_ext autoreload\n",
    "%autoreload 2"
   ]
  },
  {
   "cell_type": "code",
   "execution_count": 2,
   "metadata": {},
   "outputs": [
    {
     "name": "stdout",
     "output_type": "stream",
     "text": [
      "\u001b[33mUsing pddlstream from C:\\Users\\harry\\Documents\\code_ws\\pb_ws\\coop_assembly\\external\\pddlstream\\pddlstream\\__init__.py\u001b[0m\n"
     ]
    }
   ],
   "source": [
    "from integral_timber_joints.planning import load_pddlstream"
   ]
  },
  {
   "cell_type": "markdown",
   "metadata": {},
   "source": [
    "## Parse ITJ process"
   ]
  },
  {
   "cell_type": "code",
   "execution_count": 3,
   "metadata": {},
   "outputs": [],
   "source": [
    "import os\n",
    "from termcolor import cprint\n",
    "import pybullet_planning as pp\n",
    "from integral_timber_joints.planning.parsing import parse_process, save_process_and_movements, \\\n",
    "    get_process_path, save_process"
   ]
  },
  {
   "cell_type": "code",
   "execution_count": 4,
   "metadata": {},
   "outputs": [],
   "source": [
    "# parse options\n",
    "design_dir = '210916_SymbolicPlanning' # '210419_AnticlasticShelter' # '210605_ScrewdriverTestProcess' # 210419_AnticlasticShelter\n",
    "problem = 'nine_pieces_process.json' #'shelter_process.json' # 'shelter_process.json' pavilion_process.json' # 'twelve_pieces_process.json'\n",
    "problem_subdir = '.'"
   ]
  },
  {
   "cell_type": "code",
   "execution_count": 5,
   "metadata": {},
   "outputs": [
    {
     "name": "stdout",
     "output_type": "stream",
     "text": [
      "\u001b[34mProcess json parsed from c:\\users\\harry\\dropbox (mit)\\code_ws_dropbox\\itj_ws\\integral_timber_joints\\external\\itj_design_study\\210916_SymbolicPlanning\\nine_pieces_process.json\u001b[0m\n"
     ]
    }
   ],
   "source": [
    "process = parse_process(design_dir, problem, subdir=problem_subdir)\n",
    "\n",
    "# Double check entire solution is valid\n",
    "for beam_id in process.assembly.sequence:\n",
    "    if not process.dependency.beam_all_valid(beam_id):\n",
    "        process.dependency.compute_all(beam_id)\n",
    "        assert process.dependency.beam_all_valid(beam_id)"
   ]
  },
  {
   "cell_type": "markdown",
   "metadata": {},
   "source": [
    "## Construct PDDL problem"
   ]
  },
  {
   "cell_type": "code",
   "execution_count": 6,
   "metadata": {},
   "outputs": [],
   "source": [
    "from integral_timber_joints.planning.pddlstream_definitions.problem import get_pddlstream_problem"
   ]
  },
  {
   "cell_type": "code",
   "execution_count": 7,
   "metadata": {},
   "outputs": [],
   "source": [
    "debug = 0\n",
    "verbose = 1\n",
    "use_partial_order = 1\n",
    "reset_to_home = 0"
   ]
  },
  {
   "cell_type": "code",
   "execution_count": 8,
   "metadata": {},
   "outputs": [],
   "source": [
    "pddlstream_problem = get_pddlstream_problem(process, use_partial_order=use_partial_order, debug=debug, \n",
    "                                            reset_to_home=reset_to_home)"
   ]
  },
  {
   "cell_type": "code",
   "execution_count": 9,
   "metadata": {},
   "outputs": [
    {
     "name": "stdout",
     "output_type": "stream",
     "text": [
      "Init: [('RobotConf', Conf-0.93), ('RobotAtConf', Conf-0.93), ('CanMove',), ('RobotToolChangerEmpty',), ('Element', 'b0'), ('AtRack', 'b0'), ('IsElement', 'b0'), ('Grounded', 'b0'), ('Element', 'b1'), ('AtRack', 'b1'), ('IsElement', 'b1'), ('Grounded', 'b1'), ('Element', 'b2'), ('AtRack', 'b2'), ('IsElement', 'b2'), ('Element', 'b3'), ('AtRack', 'b3'), ('IsElement', 'b3'), ('Element', 'b5'), ('AtRack', 'b5'), ('IsElement', 'b5'), ('Grounded', 'b5'), ('Element', 'b6'), ('AtRack', 'b6'), ('IsElement', 'b6'), ('Element', 'b7'), ('AtRack', 'b7'), ('IsElement', 'b7'), ('Grounded', 'b7'), ('Element', 'b8'), ('AtRack', 'b8'), ('IsElement', 'b8'), ('Element', 'b4'), ('AtRack', 'b4'), ('IsElement', 'b4'), ('Joint', 'b0', 'b2'), ('NoToolAtJoint', 'b0', 'b2'), ('Joint', 'b0', 'b3'), ('NoToolAtJoint', 'b0', 'b3'), ('Joint', 'b0', 'b6'), ('NoToolAtJoint', 'b0', 'b6'), ('Joint', 'b1', 'b2'), ('NoToolAtJoint', 'b1', 'b2'), ('Joint', 'b1', 'b3'), ('NoToolAtJoint', 'b1', 'b3'), ('Joint', 'b1', 'b8'), ('NoToolAtJoint', 'b1', 'b8'), ('Joint', 'b2', 'b0'), ('NoToolAtJoint', 'b2', 'b0'), ('Joint', 'b2', 'b1'), ('NoToolAtJoint', 'b2', 'b1'), ('Joint', 'b3', 'b0'), ('NoToolAtJoint', 'b3', 'b0'), ('Joint', 'b3', 'b1'), ('NoToolAtJoint', 'b3', 'b1'), ('Joint', 'b4', 'b5'), ('NoToolAtJoint', 'b4', 'b5'), ('Joint', 'b4', 'b7'), ('NoToolAtJoint', 'b4', 'b7'), ('Joint', 'b5', 'b4'), ('NoToolAtJoint', 'b5', 'b4'), ('Joint', 'b5', 'b6'), ('NoToolAtJoint', 'b5', 'b6'), ('Joint', 'b6', 'b0'), ('NoToolAtJoint', 'b6', 'b0'), ('Joint', 'b6', 'b5'), ('NoToolAtJoint', 'b6', 'b5'), ('Joint', 'b7', 'b4'), ('NoToolAtJoint', 'b7', 'b4'), ('Joint', 'b7', 'b8'), ('NoToolAtJoint', 'b7', 'b8'), ('Joint', 'b8', 'b1'), ('NoToolAtJoint', 'b8', 'b1'), ('Joint', 'b8', 'b7'), ('NoToolAtJoint', 'b8', 'b7'), ('Order', 'b0', 'b1'), ('Order', 'b1', 'b2'), ('Order', 'b2', 'b3'), ('Order', 'b3', 'b5'), ('Order', 'b5', 'b6'), ('Order', 'b6', 'b7'), ('Order', 'b7', 'b8'), ('Order', 'b8', 'b4'), ('Gripper', 'g1'), ('IsGripper', 'g1'), ('IsTool', 'g1'), ('AtRack', 'g1'), ('Gripper', 'g2'), ('IsGripper', 'g2'), ('IsTool', 'g2'), ('AtRack', 'g2'), ('Gripper', 'g3'), ('IsGripper', 'g3'), ('IsTool', 'g3'), ('AtRack', 'g3')]\n",
      "\n",
      "Goal: ('and', ('Assembled', 'b0'), ('Assembled', 'b1'), ('Assembled', 'b2'), ('Assembled', 'b3'), ('Assembled', 'b5'), ('Assembled', 'b6'), ('Assembled', 'b7'), ('Assembled', 'b8'), ('Assembled', 'b4'))\n"
     ]
    }
   ],
   "source": [
    "print('Init:', pddlstream_problem.init)\n",
    "print()\n",
    "print('Goal:', pddlstream_problem.goal)"
   ]
  },
  {
   "cell_type": "markdown",
   "metadata": {},
   "source": [
    "## Solve"
   ]
  },
  {
   "cell_type": "code",
   "execution_count": 34,
   "metadata": {
    "tags": []
   },
   "outputs": [
    {
     "name": "stdout",
     "output_type": "stream",
     "text": [
      "\n",
      "Goal: ('and', ('Assembled', 'b0'), ('Assembled', 'b1'), ('Assembled', 'b2'), ('Assembled', 'b3'), ('Assembled', 'b5'), ('Assembled', 'b6'), ('Assembled', 'b7'), ('Assembled', 'b8'), ('Assembled', 'b4'), ('AtRack', 'g1'), ('AtRack', 'g2'), ('AtRack', 'g3'))\n",
      "\n",
      "Iteration: 1 | Complexity: 0 | Calls: 0 | Evaluations: 95 | Solved: False | Cost: inf | Search Time: 0.000 | Sample Time: 0.000 | Time: 0.000\n",
      "Iteration: 2 | Complexity: 1 | Calls: 24 | Evaluations: 191 | Solved: False | Cost: inf | Search Time: 0.031 | Sample Time: 0.000 | Time: 0.031\n",
      "Summary: {complexity: 1, cost: 20.000, evaluations: 191, iterations: 2, length: 20, run_time: 0.125, sample_time: 0.000, search_time: 0.125, solutions: 1, solved: True, timeout: False}\n",
      "\u001b[32mPlanning succeeds\u001b[0m\n",
      "----------\n",
      " 1) pick_tool_from_rack g1 @conf1285 @conf2285 @traj285\n",
      " 2) pick_element_from_rack b0 @conf1267 @conf2267 @traj267 g1\n",
      " 3) place_element_on_structure b0 @conf1268 @conf2268 @traj268 g1\n",
      " 4) pick_element_from_rack b1 @conf1269 @conf2269 @traj269 g1\n",
      " 5) place_element_on_structure b1 @conf1270 @conf2270 @traj270 g1\n",
      " 6) pick_element_from_rack b2 @conf1271 @conf2271 @traj271 g1\n",
      " 7) place_element_on_structure b2 @conf1272 @conf2272 @traj272 g1\n",
      " 8) pick_element_from_rack b3 @conf1273 @conf2273 @traj273 g1\n",
      " 9) place_element_on_structure b3 @conf1274 @conf2274 @traj274 g1\n",
      "10) pick_element_from_rack b5 @conf1275 @conf2275 @traj275 g1\n",
      "11) place_element_on_structure b5 @conf1276 @conf2276 @traj276 g1\n",
      "12) pick_element_from_rack b6 @conf1277 @conf2277 @traj277 g1\n",
      "13) place_element_on_structure b6 @conf1278 @conf2278 @traj278 g1\n",
      "14) pick_element_from_rack b7 @conf1279 @conf2279 @traj279 g1\n",
      "15) place_element_on_structure b7 @conf1280 @conf2280 @traj280 g1\n",
      "16) pick_element_from_rack b8 @conf1281 @conf2281 @traj281 g1\n",
      "17) place_element_on_structure b8 @conf1282 @conf2282 @traj282 g1\n",
      "18) pick_element_from_rack b4 @conf1283 @conf2283 @traj283 g1\n",
      "19) place_element_on_structure b4 @conf1284 @conf2284 @traj284 g1\n",
      "20) place_tool_at_rack g1 @conf1286 @conf2286 @traj286\n"
     ]
    }
   ],
   "source": [
    "from pddlstream.algorithms.downward import set_cost_scale, parse_action\n",
    "from pddlstream.algorithms.meta import solve\n",
    "from pddlstream.utils import INF\n",
    "from pddlstream.language.constants import print_plan, is_plan\n",
    "\n",
    "from integral_timber_joints.planning.pddlstream_definitions.problem import get_pddlstream_problem\n",
    "\n",
    "pddlstream_problem = get_pddlstream_problem(process, use_partial_order=True, debug=True,\n",
    "                                            reset_to_home=True)\n",
    "\n",
    "# print('Init:', pddlstream_problem.init)\n",
    "print()\n",
    "print('Goal:', pddlstream_problem.goal)\n",
    "print()\n",
    "\n",
    "costs = True\n",
    "set_cost_scale(1)\n",
    "\n",
    "solution = solve(pddlstream_problem, algorithm='incremental', \n",
    "                 max_time=60,\n",
    "                 unit_costs=True,\n",
    "                 max_planner_time=300, \n",
    "                 debug=0, verbose=0)\n",
    "\n",
    "plan, cost, evaluations = solution\n",
    "plan_success = is_plan(plan)\n",
    "cprint('Planning {}'.format('succeeds' if plan_success else 'fails'), 'green' if plan_success else 'red')\n",
    "\n",
    "print('-'*10)\n",
    "print_plan(plan)"
   ]
  },
  {
   "cell_type": "code",
   "execution_count": 25,
   "metadata": {},
   "outputs": [],
   "source": [
    "# from pddlstream.algorithms.algorithm import parse_problem\n",
    "# from pddlstream.algorithms.constraints import PlanConstraints\n",
    "# from pddlstream.algorithms.downward import get_problem, task_from_domain_problem\n",
    "# from pddlstream.algorithms.meta import examine_instantiated\n",
    "\n",
    "# pddlstream_problem = get_pddlstream_problem(process, use_partial_order=True, debug=False,\n",
    "#                                             reset_to_home=False)\n",
    "\n",
    "# print(pddlstream_problem.goal)\n",
    "\n",
    "# results, instantiated = examine_instantiated(pddlstream_problem, unit_costs=1, verbose=0, debug=1)"
   ]
  },
  {
   "cell_type": "code",
   "execution_count": 28,
   "metadata": {},
   "outputs": [],
   "source": [
    "plan, cost, evaluations = solution\n",
    "# print('-'*10)\n",
    "print_plan(plan)\n",
    "\n",
    "# actions = [action for action in plan if action.name == 'add_element' or action.name == 'add_scaffold_element']\n",
    "# element_sequence = [ac.args[2] for ac in actions]"
   ]
  },
  {
   "cell_type": "code",
   "execution_count": 30,
   "metadata": {},
   "outputs": [
    {
     "data": {
      "text/plain": [
       "[('robotconf', Conf-0.89),\n",
       " ('robotatconf', Conf-0.89),\n",
       " ('canmove',),\n",
       " ('robottoolchangerempty',),\n",
       " ('element', 'b0'),\n",
       " ('atrack', 'b0'),\n",
       " ('iselement', 'b0'),\n",
       " ('grounded', 'b0'),\n",
       " ('element', 'b1'),\n",
       " ('atrack', 'b1'),\n",
       " ('iselement', 'b1'),\n",
       " ('grounded', 'b1'),\n",
       " ('element', 'b2'),\n",
       " ('atrack', 'b2'),\n",
       " ('iselement', 'b2'),\n",
       " ('element', 'b3'),\n",
       " ('atrack', 'b3'),\n",
       " ('iselement', 'b3'),\n",
       " ('element', 'b5'),\n",
       " ('atrack', 'b5'),\n",
       " ('iselement', 'b5'),\n",
       " ('grounded', 'b5'),\n",
       " ('element', 'b6'),\n",
       " ('atrack', 'b6'),\n",
       " ('iselement', 'b6'),\n",
       " ('element', 'b7'),\n",
       " ('atrack', 'b7'),\n",
       " ('iselement', 'b7'),\n",
       " ('grounded', 'b7'),\n",
       " ('element', 'b8'),\n",
       " ('atrack', 'b8'),\n",
       " ('iselement', 'b8'),\n",
       " ('element', 'b4'),\n",
       " ('atrack', 'b4'),\n",
       " ('iselement', 'b4'),\n",
       " ('joint', 'b0', 'b2'),\n",
       " ('notoolatjoint', 'b0', 'b2'),\n",
       " ('joint', 'b0', 'b3'),\n",
       " ('notoolatjoint', 'b0', 'b3'),\n",
       " ('joint', 'b0', 'b6'),\n",
       " ('notoolatjoint', 'b0', 'b6'),\n",
       " ('joint', 'b1', 'b2'),\n",
       " ('notoolatjoint', 'b1', 'b2'),\n",
       " ('joint', 'b1', 'b3'),\n",
       " ('notoolatjoint', 'b1', 'b3'),\n",
       " ('joint', 'b1', 'b8'),\n",
       " ('notoolatjoint', 'b1', 'b8'),\n",
       " ('joint', 'b2', 'b0'),\n",
       " ('notoolatjoint', 'b2', 'b0'),\n",
       " ('joint', 'b2', 'b1'),\n",
       " ('notoolatjoint', 'b2', 'b1'),\n",
       " ('joint', 'b3', 'b0'),\n",
       " ('notoolatjoint', 'b3', 'b0'),\n",
       " ('joint', 'b3', 'b1'),\n",
       " ('notoolatjoint', 'b3', 'b1'),\n",
       " ('joint', 'b4', 'b5'),\n",
       " ('notoolatjoint', 'b4', 'b5'),\n",
       " ('joint', 'b4', 'b7'),\n",
       " ('notoolatjoint', 'b4', 'b7'),\n",
       " ('joint', 'b5', 'b4'),\n",
       " ('notoolatjoint', 'b5', 'b4'),\n",
       " ('joint', 'b5', 'b6'),\n",
       " ('notoolatjoint', 'b5', 'b6'),\n",
       " ('joint', 'b6', 'b0'),\n",
       " ('notoolatjoint', 'b6', 'b0'),\n",
       " ('joint', 'b6', 'b5'),\n",
       " ('notoolatjoint', 'b6', 'b5'),\n",
       " ('joint', 'b7', 'b4'),\n",
       " ('notoolatjoint', 'b7', 'b4'),\n",
       " ('joint', 'b7', 'b8'),\n",
       " ('notoolatjoint', 'b7', 'b8'),\n",
       " ('joint', 'b8', 'b1'),\n",
       " ('notoolatjoint', 'b8', 'b1'),\n",
       " ('joint', 'b8', 'b7'),\n",
       " ('notoolatjoint', 'b8', 'b7'),\n",
       " ('order', 'b0', 'b1'),\n",
       " ('order', 'b1', 'b2'),\n",
       " ('order', 'b2', 'b3'),\n",
       " ('order', 'b3', 'b5'),\n",
       " ('order', 'b5', 'b6'),\n",
       " ('order', 'b6', 'b7'),\n",
       " ('order', 'b7', 'b8'),\n",
       " ('order', 'b8', 'b4'),\n",
       " ('gripper', 'g1'),\n",
       " ('isgripper', 'g1'),\n",
       " ('istool', 'g1'),\n",
       " ('atrack', 'g1'),\n",
       " ('gripper', 'g2'),\n",
       " ('isgripper', 'g2'),\n",
       " ('istool', 'g2'),\n",
       " ('atrack', 'g2'),\n",
       " ('gripper', 'g3'),\n",
       " ('isgripper', 'g3'),\n",
       " ('istool', 'g3'),\n",
       " ('atrack', 'g3'),\n",
       " ('pickelementaction', 'b0', @conf1219, @conf2219, @traj219),\n",
       " ('robotconf', @conf1219),\n",
       " ('robotconf', @conf2219),\n",
       " ('traj', @traj219),\n",
       " ('placeelementaction', 'b0', @conf1220, @conf2220, @traj220),\n",
       " ('robotconf', @conf1220),\n",
       " ('robotconf', @conf2220),\n",
       " ('traj', @traj220),\n",
       " ('pickelementaction', 'b1', @conf1221, @conf2221, @traj221),\n",
       " ('robotconf', @conf1221),\n",
       " ('robotconf', @conf2221),\n",
       " ('traj', @traj221),\n",
       " ('placeelementaction', 'b1', @conf1222, @conf2222, @traj222),\n",
       " ('robotconf', @conf1222),\n",
       " ('robotconf', @conf2222),\n",
       " ('traj', @traj222),\n",
       " ('pickelementaction', 'b2', @conf1223, @conf2223, @traj223),\n",
       " ('robotconf', @conf1223),\n",
       " ('robotconf', @conf2223),\n",
       " ('traj', @traj223),\n",
       " ('placeelementaction', 'b2', @conf1224, @conf2224, @traj224),\n",
       " ('robotconf', @conf1224),\n",
       " ('robotconf', @conf2224),\n",
       " ('traj', @traj224),\n",
       " ('pickelementaction', 'b3', @conf1225, @conf2225, @traj225),\n",
       " ('robotconf', @conf1225),\n",
       " ('robotconf', @conf2225),\n",
       " ('traj', @traj225),\n",
       " ('placeelementaction', 'b3', @conf1226, @conf2226, @traj226),\n",
       " ('robotconf', @conf1226),\n",
       " ('robotconf', @conf2226),\n",
       " ('traj', @traj226),\n",
       " ('pickelementaction', 'b5', @conf1227, @conf2227, @traj227),\n",
       " ('robotconf', @conf1227),\n",
       " ('robotconf', @conf2227),\n",
       " ('traj', @traj227),\n",
       " ('placeelementaction', 'b5', @conf1228, @conf2228, @traj228),\n",
       " ('robotconf', @conf1228),\n",
       " ('robotconf', @conf2228),\n",
       " ('traj', @traj228),\n",
       " ('pickelementaction', 'b6', @conf1229, @conf2229, @traj229),\n",
       " ('robotconf', @conf1229),\n",
       " ('robotconf', @conf2229),\n",
       " ('traj', @traj229),\n",
       " ('placeelementaction', 'b6', @conf1230, @conf2230, @traj230),\n",
       " ('robotconf', @conf1230),\n",
       " ('robotconf', @conf2230),\n",
       " ('traj', @traj230),\n",
       " ('pickelementaction', 'b7', @conf1231, @conf2231, @traj231),\n",
       " ('robotconf', @conf1231),\n",
       " ('robotconf', @conf2231),\n",
       " ('traj', @traj231),\n",
       " ('placeelementaction', 'b7', @conf1232, @conf2232, @traj232),\n",
       " ('robotconf', @conf1232),\n",
       " ('robotconf', @conf2232),\n",
       " ('traj', @traj232),\n",
       " ('pickelementaction', 'b8', @conf1233, @conf2233, @traj233),\n",
       " ('robotconf', @conf1233),\n",
       " ('robotconf', @conf2233),\n",
       " ('traj', @traj233),\n",
       " ('placeelementaction', 'b8', @conf1234, @conf2234, @traj234),\n",
       " ('robotconf', @conf1234),\n",
       " ('robotconf', @conf2234),\n",
       " ('traj', @traj234),\n",
       " ('pickelementaction', 'b4', @conf1235, @conf2235, @traj235),\n",
       " ('robotconf', @conf1235),\n",
       " ('robotconf', @conf2235),\n",
       " ('traj', @traj235),\n",
       " ('placeelementaction', 'b4', @conf1236, @conf2236, @traj236),\n",
       " ('robotconf', @conf1236),\n",
       " ('robotconf', @conf2236),\n",
       " ('traj', @traj236),\n",
       " ('picktoolaction', 'g1', @conf1237, @conf2237, @traj237),\n",
       " ('robotconf', @conf1237),\n",
       " ('robotconf', @conf2237),\n",
       " ('traj', @traj237),\n",
       " ('placetoolaction', 'g1', @conf1238, @conf2238, @traj238),\n",
       " ('robotconf', @conf1238),\n",
       " ('robotconf', @conf2238),\n",
       " ('traj', @traj238),\n",
       " ('picktoolaction', 'g2', @conf1239, @conf2239, @traj239),\n",
       " ('robotconf', @conf1239),\n",
       " ('robotconf', @conf2239),\n",
       " ('traj', @traj239),\n",
       " ('placetoolaction', 'g2', @conf1240, @conf2240, @traj240),\n",
       " ('robotconf', @conf1240),\n",
       " ('robotconf', @conf2240),\n",
       " ('traj', @traj240),\n",
       " ('picktoolaction', 'g3', @conf1241, @conf2241, @traj241),\n",
       " ('robotconf', @conf1241),\n",
       " ('robotconf', @conf2241),\n",
       " ('traj', @traj241),\n",
       " ('placetoolaction', 'g3', @conf1242, @conf2242, @traj242),\n",
       " ('robotconf', @conf1242),\n",
       " ('robotconf', @conf2242),\n",
       " ('traj', @traj242)]"
      ]
     },
     "execution_count": 30,
     "metadata": {},
     "output_type": "execute_result"
    }
   ],
   "source": [
    "evaluations.all_facts"
   ]
  },
  {
   "cell_type": "code",
   "execution_count": 25,
   "metadata": {},
   "outputs": [
    {
     "data": {
      "text/plain": [
       "['b0', 'b1', 'b2', 'b3', 'b5', 'b6', 'b7', 'b8', 'b4']"
      ]
     },
     "execution_count": 25,
     "metadata": {},
     "output_type": "execute_result"
    }
   ],
   "source": [
    "process.assembly.sequence"
   ]
  },
  {
   "cell_type": "code",
   "execution_count": null,
   "metadata": {},
   "outputs": [],
   "source": [
    "# TODO visualize sequence in a pybullet window"
   ]
  }
 ],
 "metadata": {
  "kernelspec": {
   "display_name": "Python 3",
   "language": "python",
   "name": "python3"
  },
  "language_info": {
   "codemirror_mode": {
    "name": "ipython",
    "version": 3
   },
   "file_extension": ".py",
   "mimetype": "text/x-python",
   "name": "python",
   "nbconvert_exporter": "python",
   "pygments_lexer": "ipython3",
   "version": "3.7.9"
  },
  "metadata": {
   "interpreter": {
    "hash": "742396f8abfd15506fd5537870b226a29245815e58899b5be3a686185469d15a"
   }
  }
 },
 "nbformat": 4,
 "nbformat_minor": 4
}
