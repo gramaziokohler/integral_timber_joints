{
 "cells": [
  {
   "cell_type": "code",
   "execution_count": 1,
   "metadata": {},
   "outputs": [],
   "source": [
    "%load_ext autoreload\n",
    "%autoreload 2"
   ]
  },
  {
   "cell_type": "code",
   "execution_count": 2,
   "metadata": {},
   "outputs": [
    {
     "name": "stdout",
     "output_type": "stream",
     "text": [
      "\u001b[33mUsing pddlstream from C:\\Users\\harry\\Documents\\code_ws\\pb_ws\\coop_assembly\\external\\pddlstream\\pddlstream\\__init__.py\u001b[0m\n",
      "\u001b[33mUsing strips (pyplanners) from C:\\Users\\harry\\Documents\\code_ws\\pb_ws\\coop_assembly\\external\\pyplanners\\strips\\__init__.py\u001b[0m\n"
     ]
    }
   ],
   "source": [
    "from integral_timber_joints.planning import load_pddlstream"
   ]
  },
  {
   "cell_type": "markdown",
   "metadata": {},
   "source": [
    "## Parse ITJ process"
   ]
  },
  {
   "cell_type": "code",
   "execution_count": 3,
   "metadata": {},
   "outputs": [],
   "source": [
    "import os\n",
    "import time\n",
    "from termcolor import cprint\n",
    "import pybullet_planning as pp\n",
    "from pybullet_planning import elapsed_time\n",
    "from integral_timber_joints.planning.parsing import parse_process, save_process_and_movements, \\\n",
    "    get_process_path, save_process"
   ]
  },
  {
   "cell_type": "code",
   "execution_count": 4,
   "metadata": {},
   "outputs": [],
   "source": [
    "# parse options\n",
    "design_dir = '211010_CantiBox' # '210916_SymbolicPlanning' # '210419_AnticlasticShelter' # '210605_ScrewdriverTestProcess' # 210419_AnticlasticShelter\n",
    "problem = 'CantiBoxLeft_process.json' # 'nine_pieces_process.json' #'shelter_process.json' # 'shelter_process.json' pavilion_process.json' # 'twelve_pieces_process.json'\n",
    "problem_subdir = '.'"
   ]
  },
  {
   "cell_type": "code",
   "execution_count": 5,
   "metadata": {},
   "outputs": [
    {
     "name": "stdout",
     "output_type": "stream",
     "text": [
      "\u001b[34mProcess json parsed from c:\\users\\harry\\dropbox (mit)\\code_ws_dropbox\\itj_ws\\integral_timber_joints\\external\\itj_design_study\\211010_CantiBox\\CantiBoxLeft_process.json\u001b[0m\n"
     ]
    }
   ],
   "source": [
    "process = parse_process(design_dir, problem, subdir=problem_subdir)\n",
    "\n",
    "# Double check entire solution is valid\n",
    "for beam_id in process.assembly.sequence:\n",
    "    if not process.dependency.beam_all_valid(beam_id):\n",
    "        print('Yay')\n",
    "        process.dependency.compute_all(beam_id)\n",
    "        assert process.dependency.beam_all_valid(beam_id)"
   ]
  },
  {
   "cell_type": "markdown",
   "metadata": {},
   "source": [
    "## Solve"
   ]
  },
  {
   "cell_type": "code",
   "execution_count": 7,
   "metadata": {},
   "outputs": [],
   "source": [
    "discrete_planner = {\n",
    "    'search': 'eager', # eager | lazy\n",
    "    # lazy might be faster but the solution quality might be low\n",
    "    'evaluator': 'greedy',\n",
    "    'heuristic': 'goal', # goal | add | ff\n",
    "    #'heuristic': ['ff', get_bias_fn(element_from_index)],\n",
    "    'successors': 'all', # all | random\n",
    "    #'successors': get_order_fn(element_from_index),\n",
    "    # ? ordering scaffolds can come here\n",
    "    # TODO: confirm that this is working correctly\n",
    "}"
   ]
  },
  {
   "cell_type": "code",
   "execution_count": 25,
   "metadata": {},
   "outputs": [],
   "source": [
    "from integral_timber_joints.planning.robot_setup import load_RFL_world\n",
    "from integral_timber_joints.planning.run import set_initial_state\n",
    "\n",
    "# * Connect to path planning backend and initialize robot parameters\n",
    "# viewer or diagnosis or view_states or watch or step_sim,\n",
    "client, robot, _ = load_RFL_world(viewer=1, verbose=False)\n",
    "set_initial_state(client, robot, process, disable_env=False, reinit_tool=False)"
   ]
  },
  {
   "cell_type": "code",
   "execution_count": 31,
   "metadata": {
    "tags": []
   },
   "outputs": [],
   "source": [
    "client.disconnect()"
   ]
  },
  {
   "cell_type": "code",
   "execution_count": 30,
   "metadata": {
    "tags": []
   },
   "outputs": [
    {
     "name": "stdout",
     "output_type": "stream",
     "text": [
      "\n",
      "Goal: ('and', ('Assembled', 'b0'), ('Assembled', 'b1'), ('Assembled', 'b2'), ('Assembled', 'b3'), ('Assembled', 'b5'), ('Assembled', 'b6'), ('Assembled', 'b7'), ('Assembled', 'b8'), ('Assembled', 'b4'), ('AtRack', 'c1'), ('AtRack', 'c2'), ('AtRack', 'c3'), ('AtRack', 'c4'), ('AtRack', 'g1'), ('AtRack', 'g2'), ('AtRack', 'g3'))\n",
      "\n",
      "Iteration: 1 | Complexity: 0 | Calls: 0 | Evaluations: 278 | Solved: False | Cost: inf | Search Time: 0.001 | Sample Time: 0.000 | Time: 0.001\n",
      "Initial: State{Atom atpose(v37, v38), Atom atpose(v40, v41), Atom atpose(v43, v44), Atom atpose(v46, v47), Atom atpose(v59, v60), Atom atpose(v62, v63), Atom atpose(v65, v66), Atom notoolatjoint(v1, v13), Atom notoolatjoint(v1, v21), Atom notoolatjoint(v1, v9), Atom notoolatjoint(v13, v1), Atom notoolatjoint(v13, v5), Atom notoolatjoint(v17, v21), Atom notoolatjoint(v17, v33), Atom notoolatjoint(v21, v1), Atom notoolatjoint(v21, v17), Atom notoolatjoint(v25, v29), Atom notoolatjoint(v25, v33), Atom notoolatjoint(v29, v25), Atom notoolatjoint(v29, v5), Atom notoolatjoint(v33, v17), Atom notoolatjoint(v33, v25), Atom notoolatjoint(v5, v13), Atom notoolatjoint(v5, v29), Atom notoolatjoint(v5, v9), Atom notoolatjoint(v9, v1), Atom notoolatjoint(v9, v5), Atom robottoolchangerempty(), Atom toolnotoccupiedonjoint(v37), Atom toolnotoccupiedonjoint(v40), Atom toolnotoccupiedonjoint(v43), Atom toolnotoccupiedonjoint(v46)}\n",
      "Goal: PartialState{Atom assembled(v1), Atom assembled(v13), Atom assembled(v17), Atom assembled(v21), Atom assembled(v25), Atom assembled(v29), Atom assembled(v33), Atom assembled(v5), Atom assembled(v9), Atom atrack(v37), Atom atrack(v40), Atom atrack(v43), Atom atrack(v46), Atom atrack(v59), Atom atrack(v62), Atom atrack(v65)}\n",
      "Actions: 192 | Axioms: 176\n",
      "Search: eager | Evaluator: greedy | Heuristic: ff | Successors: all\n",
      "\n",
      "-------------------------------------------------------------------------------------\n",
      "\n",
      "Iterations: 0 | State Space: 1 | Expanded: 0 | Generations: 0 | Heuristic: 28 | Time: 0.008\n",
      "Iterations: 1 | State Space: 17 | Expanded: 4 | Generations: 4 | Heuristic: 27 | Time: 0.041\n",
      "Iterations: 17 | State Space: 57 | Expanded: 56 | Generations: 56 | Heuristic: 26 | Time: 0.617\n",
      "\u001b[32mLinear movement found for RoboticLinearMovement(#A0_M2, Linear Advance to Storage Frame of Beam ('b0'), traj 0).\u001b[0m\n",
      "\u001b[32mLinear movement found for RoboticLinearMovement(#A0_M4, Linear Retract after picking up Beam ('b0'), traj 0).\u001b[0m\n",
      "Iterations: 18 | State Space: 67 | Expanded: 58 | Generations: 58 | Heuristic: 25 | Time: 0.966\n",
      "Iterations: 19 | State Space: 68 | Expanded: 67 | Generations: 67 | Heuristic: 24 | Time: 1.020\n",
      "Iterations: 20 | State Space: 70 | Expanded: 69 | Generations: 69 | Heuristic: 23 | Time: 1.050\n",
      "\u001b[32mLinear movement found for RoboticLinearMovement(#A0_M2, Linear Advance to Storage Frame of Beam ('b3'), traj 0).\u001b[0m\n",
      "\u001b[32mLinear movement found for RoboticLinearMovement(#A0_M4, Linear Retract after picking up Beam ('b3'), traj 0).\u001b[0m\n",
      "Iterations: 21 | State Space: 79 | Expanded: 72 | Generations: 72 | Heuristic: 22 | Time: 1.438\n",
      "\u001b[32mLinear movement found for RoboticLinearMovement(#A0_M2, Linear Advance to Storage Frame of Beam ('b5'), traj 0).\u001b[0m\n",
      "\u001b[32mLinear movement found for RoboticLinearMovement(#A0_M4, Linear Retract after picking up Beam ('b5'), traj 0).\u001b[0m\n",
      "\u001b[32mLinear movement found for RoboticLinearMovement(#A0_M2, Linear Advance to Storage Frame of Beam ('b7'), traj 0).\u001b[0m\n",
      "\u001b[32mLinear movement found for RoboticLinearMovement(#A0_M4, Linear Retract after picking up Beam ('b7'), traj 0).\u001b[0m\n",
      "Iterations: 92 | State Space: 107 | Expanded: 107 | Generations: 107 | Heuristic: 22 | Time: 2.442\n",
      "\u001b[32mLinear movement found for RoboticLinearMovement(#A0_M2, Linear Advance to Storage Frame of Beam ('b1'), traj 0).\u001b[0m\n",
      "\u001b[32mLinear movement found for RoboticLinearMovement(#A0_M4, Linear Retract after picking up Beam ('b1'), traj 0).\u001b[0m\n",
      "Iterations: 94 | State Space: 120 | Expanded: 119 | Generations: 119 | Heuristic: 21 | Time: 2.908\n",
      "Iterations: 95 | State Space: 122 | Expanded: 121 | Generations: 121 | Heuristic: 20 | Time: 2.928\n",
      "\u001b[32mLinear movement found for RoboticLinearMovement(#A0_M2, Linear Advance to Storage Frame of Beam ('b3'), traj 0).\u001b[0m\n",
      "\u001b[32mLinear movement found for RoboticLinearMovement(#A0_M4, Linear Retract after picking up Beam ('b3'), traj 0).\u001b[0m\n",
      "Iterations: 96 | State Space: 131 | Expanded: 124 | Generations: 124 | Heuristic: 19 | Time: 3.316\n",
      "\u001b[32mLinear movement found for RoboticLinearMovement(#A0_M2, Linear Advance to Storage Frame of Beam ('b5'), traj 0).\u001b[0m\n",
      "\u001b[32mLinear movement found for RoboticLinearMovement(#A0_M4, Linear Retract after picking up Beam ('b5'), traj 0).\u001b[0m\n",
      "\u001b[32mLinear movement found for RoboticLinearMovement(#A0_M2, Linear Advance to Storage Frame of Beam ('b7'), traj 0).\u001b[0m\n",
      "\u001b[32mLinear movement found for RoboticLinearMovement(#A0_M4, Linear Retract after picking up Beam ('b7'), traj 0).\u001b[0m\n",
      "\u001b[32mLinear movement found for RoboticLinearMovement(#A0_M2, Linear Advance to Storage Frame of Beam ('b2'), traj 0).\u001b[0m\n",
      "\u001b[32mLinear movement found for RoboticLinearMovement(#A0_M4, Linear Retract after picking up Beam ('b2'), traj 0).\u001b[0m\n",
      "Iterations: 169 | State Space: 171 | Expanded: 171 | Generations: 171 | Heuristic: 19 | Time: 4.682\n",
      "Iterations: 169 | State Space: 172 | Expanded: 171 | Generations: 171 | Heuristic: 18 | Time: 4.688\n",
      "Iterations: 170 | State Space: 174 | Expanded: 173 | Generations: 173 | Heuristic: 17 | Time: 4.708\n",
      "\u001b[32mLinear movement found for RoboticLinearMovement(#A0_M2, Linear Advance to Storage Frame of Beam ('b3'), traj 0).\u001b[0m\n",
      "\u001b[32mLinear movement found for RoboticLinearMovement(#A0_M4, Linear Retract after picking up Beam ('b3'), traj 0).\u001b[0m\n",
      "Iterations: 171 | State Space: 184 | Expanded: 176 | Generations: 176 | Heuristic: 16 | Time: 5.073\n",
      "Iterations: 172 | State Space: 185 | Expanded: 184 | Generations: 184 | Heuristic: 15 | Time: 5.120\n",
      "Iterations: 173 | State Space: 187 | Expanded: 186 | Generations: 186 | Heuristic: 14 | Time: 5.141\n",
      "\u001b[32mLinear movement found for RoboticLinearMovement(#A0_M2, Linear Advance to Storage Frame of Beam ('b5'), traj 0).\u001b[0m\n",
      "\u001b[32mLinear movement found for RoboticLinearMovement(#A0_M4, Linear Retract after picking up Beam ('b5'), traj 0).\u001b[0m\n",
      "Iterations: 174 | State Space: 197 | Expanded: 191 | Generations: 191 | Heuristic: 13 | Time: 5.531\n",
      "Iterations: 175 | State Space: 198 | Expanded: 197 | Generations: 197 | Heuristic: 12 | Time: 5.568\n",
      "Iterations: 176 | State Space: 200 | Expanded: 199 | Generations: 199 | Heuristic: 11 | Time: 5.589\n",
      "\u001b[32mLinear movement found for RoboticLinearMovement(#A0_M2, Linear Advance to Storage Frame of Beam ('b7'), traj 0).\u001b[0m\n",
      "\u001b[32mLinear movement found for RoboticLinearMovement(#A0_M4, Linear Retract after picking up Beam ('b7'), traj 0).\u001b[0m\n",
      "Iterations: 177 | State Space: 209 | Expanded: 206 | Generations: 206 | Heuristic: 10 | Time: 6.000\n",
      "\u001b[32mLinear movement found for RoboticLinearMovement(#A0_M2, Linear Advance to Storage Frame of Beam ('b4'), traj 0).\u001b[0m\n",
      "\u001b[32mLinear movement found for RoboticLinearMovement(#A0_M4, Linear Retract after picking up Beam ('b4'), traj 0).\u001b[0m\n",
      "\u001b[32mLinear movement found for RoboticLinearMovement(#A0_M2, Linear Advance to Storage Frame of Beam ('b6'), traj 0).\u001b[0m\n",
      "\u001b[32mLinear movement found for RoboticLinearMovement(#A0_M4, Linear Retract after picking up Beam ('b6'), traj 0).\u001b[0m\n",
      "Iterations: 234 | State Space: 262 | Expanded: 262 | Generations: 262 | Heuristic: 10 | Time: 7.143\n",
      "Iterations: 234 | State Space: 263 | Expanded: 262 | Generations: 262 | Heuristic: 9 | Time: 7.150\n",
      "Iterations: 235 | State Space: 265 | Expanded: 264 | Generations: 264 | Heuristic: 8 | Time: 7.173\n",
      "\u001b[32mLinear movement found for RoboticLinearMovement(#A0_M2, Linear Advance to Storage Frame of Beam ('b8'), traj 0).\u001b[0m\n",
      "\u001b[32mLinear movement found for RoboticLinearMovement(#A0_M4, Linear Retract after picking up Beam ('b8'), traj 0).\u001b[0m\n",
      "\u001b[32mLinear movement found for RoboticLinearMovement(#A0_M2, Linear Advance to Storage Frame of Beam ('b7'), traj 0).\u001b[0m\n",
      "\u001b[32mLinear movement found for RoboticLinearMovement(#A0_M4, Linear Retract after picking up Beam ('b7'), traj 0).\u001b[0m\n",
      "Iterations: 292 | State Space: 354 | Expanded: 350 | Generations: 350 | Heuristic: 7 | Time: 8.553\n",
      "Iterations: 293 | State Space: 355 | Expanded: 354 | Generations: 354 | Heuristic: 6 | Time: 8.591\n",
      "Iterations: 294 | State Space: 357 | Expanded: 356 | Generations: 356 | Heuristic: 5 | Time: 8.617\n",
      "\u001b[32mLinear movement found for RoboticLinearMovement(#A0_M2, Linear Advance to Storage Frame of Beam ('b4'), traj 0).\u001b[0m\n",
      "\u001b[32mLinear movement found for RoboticLinearMovement(#A0_M4, Linear Retract after picking up Beam ('b4'), traj 0).\u001b[0m\n",
      "Iterations: 295 | State Space: 366 | Expanded: 362 | Generations: 362 | Heuristic: 4 | Time: 9.033\n",
      "\u001b[32mLinear movement found for RoboticLinearMovement(#A0_M2, Linear Advance to Storage Frame of Beam ('b8'), traj 0).\u001b[0m\n",
      "\u001b[32mLinear movement found for RoboticLinearMovement(#A0_M4, Linear Retract after picking up Beam ('b8'), traj 0).\u001b[0m\n",
      "Iterations: 324 | State Space: 402 | Expanded: 401 | Generations: 401 | Heuristic: 3 | Time: 9.704\n",
      "Iterations: 329 | State Space: 411 | Expanded: 410 | Generations: 410 | Heuristic: 2 | Time: 9.781\n",
      "\u001b[32mLinear movement found for RoboticLinearMovement(#A0_M2, Linear Advance to Storage Frame of Beam ('b4'), traj 0).\u001b[0m\n",
      "\u001b[32mLinear movement found for RoboticLinearMovement(#A0_M4, Linear Retract after picking up Beam ('b4'), traj 0).\u001b[0m\n",
      "Iterations: 330 | State Space: 421 | Expanded: 420 | Generations: 420 | Heuristic: 1 | Time: 10.204\n",
      "Iterations: 331 | State Space: 431 | Expanded: 430 | Generations: 430 | Heuristic: 0 | Time: 10.276\n",
      "Summary: {complexity: 0, cost: 37.000, evaluations: 278, iterations: 1, length: 37, run_time: 10.396, sample_time: 0.000, search_time: 10.396, solutions: 1, solved: True, timeout: False}\n",
      "\u001b[34mTotal solve time: 10.416\u001b[0m\n",
      "\u001b[32mPlanning succeeds\u001b[0m\n",
      "----------\n",
      " 1) \u001b[32moperator_load_element_on_rack\u001b[0m \u001b[34mb0\u001b[0m (frm)\n",
      " 2) \u001b[32mpick_tool_from_rack\u001b[0m \u001b[34mg2\u001b[0m (frm) (tf) \u001b[31mConf-\u001b[0m\n",
      " 3) \u001b[32mpick_element_from_rack\u001b[0m \u001b[34mb0\u001b[0m (frm) (tf) \u001b[34mg2\u001b[0m (tf) \u001b[34mPick Beam ('b0') from PickupPoint using Gripper(g2)\u001b[0m\n",
      " 4) \u001b[32moperator_load_element_on_rack\u001b[0m \u001b[34mb1\u001b[0m (frm)\n",
      " 5) \u001b[32mplace_element_on_structure\u001b[0m \u001b[34mb0\u001b[0m (frm) (tf) \u001b[34mg2\u001b[0m (tf) \u001b[31mConf-\u001b[0m\n",
      " 6) \u001b[32mpick_element_from_rack\u001b[0m \u001b[34mb1\u001b[0m (frm) (tf) \u001b[34mg2\u001b[0m (tf) \u001b[34mPick Beam ('b1') from PickupPoint using Gripper(g2)\u001b[0m\n",
      " 7) \u001b[32moperator_load_element_on_rack\u001b[0m \u001b[34mb2\u001b[0m (frm)\n",
      " 8) \u001b[32mplace_element_on_structure\u001b[0m \u001b[34mb1\u001b[0m (frm) (tf) \u001b[34mg2\u001b[0m (tf) \u001b[31mConf-\u001b[0m\n",
      " 9) \u001b[32mpick_element_from_rack\u001b[0m \u001b[34mb2\u001b[0m (frm) (tf) \u001b[34mg2\u001b[0m (tf) \u001b[34mPick Beam ('b2') from PickupPoint using Gripper(g2)\u001b[0m\n",
      "10) \u001b[32moperator_load_element_on_rack\u001b[0m \u001b[34mb3\u001b[0m (frm)\n",
      "11) \u001b[32mplace_element_on_structure\u001b[0m \u001b[34mb2\u001b[0m (frm) (tf) \u001b[34mg2\u001b[0m (tf) \u001b[31mConf-\u001b[0m\n",
      "12) \u001b[32mpick_element_from_rack\u001b[0m \u001b[34mb3\u001b[0m (frm) (tf) \u001b[34mg2\u001b[0m (tf) \u001b[34mPick Beam ('b3') from PickupPoint using Gripper(g2)\u001b[0m\n",
      "13) \u001b[32moperator_load_element_on_rack\u001b[0m \u001b[34mb5\u001b[0m (frm)\n",
      "14) \u001b[32mplace_element_on_structure\u001b[0m \u001b[34mb3\u001b[0m (frm) (tf) \u001b[34mg2\u001b[0m (tf) \u001b[31mConf-\u001b[0m\n",
      "15) \u001b[32mpick_element_from_rack\u001b[0m \u001b[34mb5\u001b[0m (frm) (tf) \u001b[34mg2\u001b[0m (tf) \u001b[34mPick Beam ('b5') from PickupPoint using Gripper(g2)\u001b[0m\n",
      "16) \u001b[32mplace_element_on_structure\u001b[0m \u001b[34mb5\u001b[0m (frm) (tf) \u001b[34mg2\u001b[0m (tf) \u001b[31mConf-\u001b[0m\n",
      "17) \u001b[32moperator_load_element_on_rack\u001b[0m \u001b[34mb6\u001b[0m (frm)\n",
      "18) \u001b[32mplace_tool_at_rack\u001b[0m \u001b[34mg2\u001b[0m (frm) (tf) \u001b[31mConf-\u001b[0m\n",
      "19) \u001b[32mpick_tool_from_rack\u001b[0m \u001b[34mg1\u001b[0m (frm) (tf) \u001b[31mConf-\u001b[0m\n",
      "20) \u001b[32mpick_element_from_rack\u001b[0m \u001b[34mb6\u001b[0m (frm) (tf) \u001b[34mg1\u001b[0m (tf) \u001b[34mPick Beam ('b6') from PickupPoint using Gripper(g1)\u001b[0m\n",
      "21) \u001b[32mplace_element_on_structure\u001b[0m \u001b[34mb6\u001b[0m (frm) (tf) \u001b[34mg1\u001b[0m (tf) \u001b[31mConf-\u001b[0m\n",
      "22) \u001b[32moperator_load_element_on_rack\u001b[0m \u001b[34mb7\u001b[0m (frm)\n",
      "23) \u001b[32mplace_tool_at_rack\u001b[0m \u001b[34mg1\u001b[0m (frm) (tf) \u001b[31mConf-\u001b[0m\n",
      "24) \u001b[32mpick_tool_from_rack\u001b[0m \u001b[34mg2\u001b[0m (frm) (tf) \u001b[31mConf-\u001b[0m\n",
      "25) \u001b[32mpick_element_from_rack\u001b[0m \u001b[34mb7\u001b[0m (frm) (tf) \u001b[34mg2\u001b[0m (tf) \u001b[34mPick Beam ('b7') from PickupPoint using Gripper(g2)\u001b[0m\n",
      "26) \u001b[32mplace_element_on_structure\u001b[0m \u001b[34mb7\u001b[0m (frm) (tf) \u001b[34mg2\u001b[0m (tf) \u001b[31mConf-\u001b[0m\n",
      "27) \u001b[32moperator_load_element_on_rack\u001b[0m \u001b[34mb8\u001b[0m (frm)\n",
      "28) \u001b[32mplace_tool_at_rack\u001b[0m \u001b[34mg2\u001b[0m (frm) (tf) \u001b[31mConf-\u001b[0m\n",
      "29) \u001b[32mpick_tool_from_rack\u001b[0m \u001b[34mg1\u001b[0m (frm) (tf) \u001b[31mConf-\u001b[0m\n",
      "30) \u001b[32mpick_element_from_rack\u001b[0m \u001b[34mb8\u001b[0m (frm) (tf) \u001b[34mg1\u001b[0m (tf) \u001b[34mPick Beam ('b8') from PickupPoint using Gripper(g1)\u001b[0m\n",
      "31) \u001b[32moperator_load_element_on_rack\u001b[0m \u001b[34mb4\u001b[0m (frm)\n",
      "32) \u001b[32mplace_element_on_structure\u001b[0m \u001b[34mb8\u001b[0m (frm) (tf) \u001b[34mg1\u001b[0m (tf) \u001b[31mConf-\u001b[0m\n",
      "33) \u001b[32mplace_tool_at_rack\u001b[0m \u001b[34mg1\u001b[0m (frm) (tf) \u001b[31mConf-\u001b[0m\n",
      "34) \u001b[32mpick_tool_from_rack\u001b[0m \u001b[34mg2\u001b[0m (frm) (tf) \u001b[31mConf-\u001b[0m\n",
      "35) \u001b[32mpick_element_from_rack\u001b[0m \u001b[34mb4\u001b[0m (frm) (tf) \u001b[34mg2\u001b[0m (tf) \u001b[34mPick Beam ('b4') from PickupPoint using Gripper(g2)\u001b[0m\n",
      "36) \u001b[32mplace_element_on_structure\u001b[0m \u001b[34mb4\u001b[0m (frm) (tf) \u001b[34mg2\u001b[0m (tf) \u001b[31mConf-\u001b[0m\n",
      "37) \u001b[32mplace_tool_at_rack\u001b[0m \u001b[34mg2\u001b[0m (frm) (tf) \u001b[31mConf-\u001b[0m\n"
     ]
    }
   ],
   "source": [
    "from pddlstream.algorithms.downward import set_cost_scale, parse_action\n",
    "from pddlstream.algorithms.meta import solve\n",
    "from pddlstream.utils import INF\n",
    "from pddlstream.language.constants import print_plan, is_plan\n",
    "\n",
    "from integral_timber_joints.planning.state import set_state\n",
    "from integral_timber_joints.planning.pddlstream_definitions.problem import get_pddlstream_problem\n",
    "from integral_timber_joints.planning.pddlstream_definitions.postprocessing import print_itj_pddl_plan\n",
    "\n",
    "debug = 0\n",
    "options = {\n",
    "    'avoid_collisions' : False,\n",
    "    'verbose' : 0,\n",
    "    'debug' : debug,\n",
    "    'diagnosis' : 0,\n",
    "    'distance_threshold' : 0.02,\n",
    "}\n",
    "\n",
    "set_state(client, robot, process, process.initial_state, initialize=False)\n",
    "pddlstream_problem = get_pddlstream_problem(client, process, robot, use_partial_order=1, \n",
    "                                            debug=0, reset_to_home=1, \n",
    "                                            consider_transition=0, options=options)\n",
    "\n",
    "# print('Init:', pddlstream_problem.init)\n",
    "print()\n",
    "print('Goal:', pddlstream_problem.goal)\n",
    "print()\n",
    "\n",
    "costs = True\n",
    "set_cost_scale(1)\n",
    "\n",
    "start_time = time.time()\n",
    "with pp.LockRenderer(not debug):\n",
    "    solution = solve(pddlstream_problem, algorithm='incremental', #adaptive\n",
    "                     max_time=60,\n",
    "                     unit_costs=True,\n",
    "                     max_planner_time=300, \n",
    "                     debug=0, verbose=0,)\n",
    "                     # planner=discrete_planner)\n",
    "cprint('Total solve time: {:.3f}'.format(elapsed_time(start_time)), 'blue')\n",
    "\n",
    "plan, cost, evaluations = solution\n",
    "plan_success = is_plan(plan)\n",
    "cprint('Planning {}'.format('succeeds' if plan_success else 'fails'), 'green' if plan_success else 'red')\n",
    "\n",
    "print('-'*10)\n",
    "print_itj_pddl_plan(plan, 0)"
   ]
  },
  {
   "cell_type": "markdown",
   "metadata": {},
   "source": [
    "## Debug"
   ]
  },
  {
   "cell_type": "markdown",
   "metadata": {},
   "source": [
    "# Sequence"
   ]
  },
  {
   "cell_type": "code",
   "execution_count": 23,
   "metadata": {},
   "outputs": [],
   "source": [
    "place_actions = [action for action in plan if action.name == 'place_element_on_structure']\n",
    "element_sequence = [ac.args[0] for ac in place_actions]"
   ]
  },
  {
   "cell_type": "code",
   "execution_count": 24,
   "metadata": {},
   "outputs": [
    {
     "data": {
      "text/plain": [
       "['b0', 'b1', 'b2', 'b3', 'b5', 'b6', 'b7', 'b8', 'b4']"
      ]
     },
     "execution_count": 24,
     "metadata": {},
     "output_type": "execute_result"
    }
   ],
   "source": [
    "process.assembly.sequence"
   ]
  },
  {
   "cell_type": "code",
   "execution_count": 25,
   "metadata": {},
   "outputs": [
    {
     "data": {
      "text/plain": [
       "['b0', 'b1', 'b2', 'b3', 'b5', 'b6', 'b7', 'b8', 'b4']"
      ]
     },
     "execution_count": 25,
     "metadata": {},
     "output_type": "execute_result"
    }
   ],
   "source": [
    "element_sequence"
   ]
  },
  {
   "cell_type": "code",
   "execution_count": 26,
   "metadata": {
    "tags": []
   },
   "outputs": [
    {
     "data": {
      "text/plain": [
       "[Action(name='place_element_on_structure', args=('b0', Frame(Point(19016.343, 9160.006, 279.218), Vector(0.000, 0.000, 1.000), Vector(-1.000, 0.000, 0.000)), Frame(Point(25496.239, 7136.104, 579.218), Vector(0.000, 1.000, 0.000), Vector(-1.000, 0.000, 0.000)), 'g1', Frame(Point(23439.739, 4480.771, 990.818), Vector(-0.000, 1.000, 0.000), Vector(1.000, 0.000, -0.000)), @conf335)),\n",
       " Action(name='place_element_on_structure', args=('b1', Frame(Point(19016.343, 8260.006, 3361.742), Vector(0.000, 0.000, -1.000), Vector(-1.000, 0.000, -0.000)), Frame(Point(25496.239, 7068.375, 579.218), Vector(0.000, 1.000, 0.000), Vector(-1.000, 0.000, 0.000)), 'g1', Frame(Point(23439.739, 4480.771, 990.818), Vector(-0.000, 1.000, 0.000), Vector(1.000, 0.000, -0.000)), @conf338)),\n",
       " Action(name='place_element_on_structure', args=('b2', Frame(Point(19016.343, 9455.953, 1810.165), Vector(-0.000, -0.986, -0.165), Vector(-1.000, 0.000, 0.000)), Frame(Point(25496.239, 7251.367, 579.218), Vector(0.000, 1.000, 0.000), Vector(-1.000, 0.000, 0.000)), 'g2', Frame(Point(23468.767, 4180.771, 990.818), Vector(-0.000, 1.000, 0.000), Vector(1.000, 0.000, -0.000)), @conf339)),\n",
       " Action(name='place_element_on_structure', args=('b3', Frame(Point(18916.343, 6657.248, 2190.109), Vector(-0.000, 0.920, 0.391), Vector(-0.000, -0.391, 0.920)), Frame(Point(25396.239, 7663.862, 579.218), Vector(0.000, 1.000, 0.000), Vector(-0.000, 0.000, 1.000)), 'g1', Frame(Point(23439.739, 4480.771, 990.818), Vector(-0.000, 1.000, 0.000), Vector(1.000, 0.000, -0.000)), @conf341)),\n",
       " Action(name='place_element_on_structure', args=('b5', Frame(Point(19716.343, 9160.006, 279.218), Vector(0.000, 0.000, 1.000), Vector(-1.000, 0.000, 0.000)), Frame(Point(25396.239, 6937.407, 579.218), Vector(0.000, 1.000, 0.000), Vector(-0.000, 0.000, 1.000)), 'g1', Frame(Point(23439.739, 4480.771, 990.818), Vector(-0.000, 1.000, 0.000), Vector(1.000, 0.000, -0.000)), @conf344)),\n",
       " Action(name='place_element_on_structure', args=('b6', Frame(Point(18787.590, 9060.006, 3003.201), Vector(0.423, -0.000, -0.906), Vector(-0.906, 0.000, -0.423)), Frame(Point(25496.239, 7195.544, 679.218), Vector(0.000, 1.000, 0.000), Vector(-0.000, 0.000, -1.000)), 'g1', Frame(Point(23439.739, 4480.771, 990.818), Vector(-0.000, 1.000, 0.000), Vector(1.000, 0.000, -0.000)), @conf345)),\n",
       " Action(name='place_element_on_structure', args=('b7', Frame(Point(19716.343, 8360.006, 279.218), Vector(0.000, 0.000, 1.000), Vector(-1.000, 0.000, 0.000)), Frame(Point(25496.239, 7278.145, 679.218), Vector(0.000, 1.000, 0.000), Vector(-0.000, 0.000, -1.000)), 'g1', Frame(Point(23439.739, 4480.771, 990.818), Vector(-0.000, 1.000, 0.000), Vector(1.000, 0.000, -0.000)), @conf348)),\n",
       " Action(name='place_element_on_structure', args=('b8', Frame(Point(19933.851, 8260.006, 2776.791), Vector(-0.423, -0.000, -0.906), Vector(-0.906, 0.000, 0.423)), Frame(Point(25396.239, 7198.035, 579.218), Vector(0.000, 1.000, 0.000), Vector(-0.000, 0.000, 1.000)), 'g1', Frame(Point(23439.739, 4480.771, 990.818), Vector(-0.000, 1.000, 0.000), Vector(1.000, 0.000, -0.000)), @conf349)),\n",
       " Action(name='place_element_on_structure', args=('b4', Frame(Point(19616.343, 9454.079, 1965.192), Vector(-0.000, -0.940, -0.341), Vector(0.000, 0.341, -0.940)), Frame(Point(25496.239, 7396.719, 679.218), Vector(0.000, 1.000, 0.000), Vector(-0.000, 0.000, -1.000)), 'g1', Frame(Point(23439.739, 4480.771, 990.818), Vector(-0.000, 1.000, 0.000), Vector(1.000, 0.000, -0.000)), @conf352))]"
      ]
     },
     "execution_count": 26,
     "metadata": {},
     "output_type": "execute_result"
    }
   ],
   "source": [
    "place_actions"
   ]
  },
  {
   "cell_type": "markdown",
   "metadata": {},
   "source": [
    "# Visualize sequence in a pybullet window"
   ]
  },
  {
   "cell_type": "code",
   "execution_count": 10,
   "metadata": {
    "tags": []
   },
   "outputs": [
    {
     "name": "stdout",
     "output_type": "stream",
     "text": [
      "==========\n",
      "\u001b[32moperator_load_element_on_rack\u001b[0m \u001b[34mb0\u001b[0m (frm)\n",
      "==========\n",
      "\u001b[32mpick_tool_from_rack\u001b[0m \u001b[34mg2\u001b[0m (frm) (tf) \u001b[31mConf-\u001b[0m\n",
      "==========\n",
      "\u001b[32mpick_element_from_rack\u001b[0m \u001b[34mb0\u001b[0m (frm) (tf) \u001b[34mg2\u001b[0m (tf) \u001b[33m(command)\u001b[0m\n",
      "==========\n",
      "\u001b[32moperator_load_element_on_rack\u001b[0m \u001b[34mb1\u001b[0m (frm)\n",
      "==========\n",
      "\u001b[32mplace_element_on_structure\u001b[0m \u001b[34mb0\u001b[0m (frm) (tf) \u001b[34mg2\u001b[0m (tf) \u001b[31mConf-\u001b[0m\n",
      "==========\n",
      "Beam id: b0\n",
      "|- Operator load Beam ('b0') for pickup\n",
      "|- Pick PG1000 ('g2') from Storage\n",
      "|- Pick Beam ('b0') from PickupPoint using Gripper(g2)\n",
      "|- Operator load Beam ('b1') for pickup\n",
      "|- Place Beam ('b0') to final location without clamps\n",
      "==========\n",
      "\u001b[32mpick_element_from_rack\u001b[0m \u001b[34mb1\u001b[0m (frm) (tf) \u001b[34mg2\u001b[0m (tf) \u001b[33m(command)\u001b[0m\n",
      "==========\n",
      "\u001b[32moperator_load_element_on_rack\u001b[0m \u001b[34mb2\u001b[0m (frm)\n",
      "==========\n",
      "\u001b[32mplace_element_on_structure\u001b[0m \u001b[34mb1\u001b[0m (frm) (tf) \u001b[34mg2\u001b[0m (tf) \u001b[31mConf-\u001b[0m\n",
      "==========\n",
      "Beam id: b1\n",
      "|- Pick Beam ('b1') from PickupPoint using Gripper(g2)\n",
      "|- Operator load Beam ('b2') for pickup\n",
      "|- Place Beam ('b1') to final location without clamps\n",
      "==========\n",
      "\u001b[32mpick_element_from_rack\u001b[0m \u001b[34mb2\u001b[0m (frm) (tf) \u001b[34mg2\u001b[0m (tf) \u001b[33m(command)\u001b[0m\n",
      "==========\n",
      "\u001b[32moperator_load_element_on_rack\u001b[0m \u001b[34mb3\u001b[0m (frm)\n",
      "==========\n",
      "\u001b[32mplace_element_on_structure\u001b[0m \u001b[34mb2\u001b[0m (frm) (tf) \u001b[34mg2\u001b[0m (tf) \u001b[31mConf-\u001b[0m\n",
      "==========\n",
      "Beam id: b2\n",
      "|- Pick Beam ('b2') from PickupPoint using Gripper(g2)\n",
      "|- Operator load Beam ('b3') for pickup\n",
      "|- Place Beam ('b2') to Joint final location with clamps at ['b0-b2', 'b1-b2'] using Clamp ['c4', 'c3']\n",
      "==========\n",
      "\u001b[32mpick_element_from_rack\u001b[0m \u001b[34mb3\u001b[0m (frm) (tf) \u001b[34mg2\u001b[0m (tf) \u001b[33m(command)\u001b[0m\n",
      "==========\n",
      "\u001b[32moperator_load_element_on_rack\u001b[0m \u001b[34mb5\u001b[0m (frm)\n",
      "==========\n",
      "\u001b[32mplace_element_on_structure\u001b[0m \u001b[34mb3\u001b[0m (frm) (tf) \u001b[34mg2\u001b[0m (tf) \u001b[31mConf-\u001b[0m\n",
      "==========\n",
      "Beam id: b3\n",
      "|- Pick Beam ('b3') from PickupPoint using Gripper(g2)\n",
      "|- Operator load Beam ('b5') for pickup\n",
      "|- Place Beam ('b3') to Joint final location with clamps at ['b0-b3', 'b1-b3'] using Clamp ['c4', 'c3']\n",
      "==========\n",
      "\u001b[32mpick_element_from_rack\u001b[0m \u001b[34mb5\u001b[0m (frm) (tf) \u001b[34mg2\u001b[0m (tf) \u001b[33m(command)\u001b[0m\n",
      "==========\n",
      "\u001b[32mplace_element_on_structure\u001b[0m \u001b[34mb5\u001b[0m (frm) (tf) \u001b[34mg2\u001b[0m (tf) \u001b[31mConf-\u001b[0m\n",
      "==========\n",
      "Beam id: b5\n",
      "|- Pick Beam ('b5') from PickupPoint using Gripper(g2)\n",
      "|- Place Beam ('b5') to final location without clamps\n",
      "==========\n",
      "\u001b[32moperator_load_element_on_rack\u001b[0m \u001b[34mb6\u001b[0m (frm)\n",
      "==========\n",
      "\u001b[32mplace_tool_at_rack\u001b[0m \u001b[34mg2\u001b[0m (frm) (tf) \u001b[31mConf-\u001b[0m\n",
      "==========\n",
      "\u001b[32mpick_tool_from_rack\u001b[0m \u001b[34mg1\u001b[0m (frm) (tf) \u001b[31mConf-\u001b[0m\n",
      "==========\n",
      "\u001b[32mpick_element_from_rack\u001b[0m \u001b[34mb6\u001b[0m (frm) (tf) \u001b[34mg1\u001b[0m (tf) \u001b[33m(command)\u001b[0m\n",
      "==========\n",
      "\u001b[32mplace_element_on_structure\u001b[0m \u001b[34mb6\u001b[0m (frm) (tf) \u001b[34mg1\u001b[0m (tf) \u001b[31mConf-\u001b[0m\n",
      "==========\n",
      "Beam id: b6\n",
      "|- Operator load Beam ('b6') for pickup\n",
      "|- Place PG1000 ('g2') to Storage\n",
      "|- Pick PG500 ('g1') from Storage\n",
      "|- Pick Beam ('b6') from PickupPoint using Gripper(g1)\n",
      "|- Place Beam ('b6') to Joint final location with clamps at ['b0-b6', 'b5-b6'] using Clamp ['c1', 'c2']\n",
      "==========\n",
      "\u001b[32moperator_load_element_on_rack\u001b[0m \u001b[34mb7\u001b[0m (frm)\n",
      "==========\n",
      "\u001b[32mplace_tool_at_rack\u001b[0m \u001b[34mg1\u001b[0m (frm) (tf) \u001b[31mConf-\u001b[0m\n",
      "==========\n",
      "\u001b[32mpick_tool_from_rack\u001b[0m \u001b[34mg2\u001b[0m (frm) (tf) \u001b[31mConf-\u001b[0m\n",
      "==========\n",
      "\u001b[32mpick_element_from_rack\u001b[0m \u001b[34mb7\u001b[0m (frm) (tf) \u001b[34mg2\u001b[0m (tf) \u001b[33m(command)\u001b[0m\n",
      "==========\n",
      "\u001b[32mplace_element_on_structure\u001b[0m \u001b[34mb7\u001b[0m (frm) (tf) \u001b[34mg2\u001b[0m (tf) \u001b[31mConf-\u001b[0m\n",
      "==========\n",
      "Beam id: b7\n",
      "|- Operator load Beam ('b7') for pickup\n",
      "|- Place PG500 ('g1') to Storage\n",
      "|- Pick PG1000 ('g2') from Storage\n",
      "|- Pick Beam ('b7') from PickupPoint using Gripper(g2)\n",
      "|- Place Beam ('b7') to final location without clamps\n",
      "==========\n",
      "\u001b[32moperator_load_element_on_rack\u001b[0m \u001b[34mb8\u001b[0m (frm)\n",
      "==========\n",
      "\u001b[32mplace_tool_at_rack\u001b[0m \u001b[34mg2\u001b[0m (frm) (tf) \u001b[31mConf-\u001b[0m\n",
      "==========\n",
      "\u001b[32mpick_tool_from_rack\u001b[0m \u001b[34mg1\u001b[0m (frm) (tf) \u001b[31mConf-\u001b[0m\n",
      "==========\n",
      "\u001b[32mpick_element_from_rack\u001b[0m \u001b[34mb8\u001b[0m (frm) (tf) \u001b[34mg1\u001b[0m (tf) \u001b[33m(command)\u001b[0m\n",
      "==========\n",
      "\u001b[32moperator_load_element_on_rack\u001b[0m \u001b[34mb4\u001b[0m (frm)\n",
      "==========\n",
      "\u001b[32mplace_element_on_structure\u001b[0m \u001b[34mb8\u001b[0m (frm) (tf) \u001b[34mg1\u001b[0m (tf) \u001b[31mConf-\u001b[0m\n",
      "==========\n",
      "Beam id: b8\n",
      "|- Operator load Beam ('b8') for pickup\n",
      "|- Place PG1000 ('g2') to Storage\n",
      "|- Pick PG500 ('g1') from Storage\n",
      "|- Pick Beam ('b8') from PickupPoint using Gripper(g1)\n",
      "|- Operator load Beam ('b4') for pickup\n",
      "|- Place Beam ('b8') to Joint final location with clamps at ['b1-b8', 'b7-b8'] using Clamp ['c1', 'c2']\n",
      "==========\n",
      "\u001b[32mplace_tool_at_rack\u001b[0m \u001b[34mg1\u001b[0m (frm) (tf) \u001b[31mConf-\u001b[0m\n",
      "==========\n",
      "\u001b[32mpick_tool_from_rack\u001b[0m \u001b[34mg2\u001b[0m (frm) (tf) \u001b[31mConf-\u001b[0m\n",
      "==========\n",
      "\u001b[32mpick_element_from_rack\u001b[0m \u001b[34mb4\u001b[0m (frm) (tf) \u001b[34mg2\u001b[0m (tf) \u001b[33m(command)\u001b[0m\n",
      "==========\n",
      "\u001b[32mplace_element_on_structure\u001b[0m \u001b[34mb4\u001b[0m (frm) (tf) \u001b[34mg2\u001b[0m (tf) \u001b[31mConf-\u001b[0m\n",
      "==========\n",
      "\u001b[32mplace_tool_at_rack\u001b[0m \u001b[34mg2\u001b[0m (frm) (tf) \u001b[31mConf-\u001b[0m\n",
      "==========\n",
      "Beam id: b4\n",
      "|- Place PG500 ('g1') to Storage\n",
      "|- Pick PG1000 ('g2') from Storage\n",
      "|- Pick Beam ('b4') from PickupPoint using Gripper(g2)\n",
      "|- Place Beam ('b4') to Joint final location with clamps at ['b5-b4', 'b7-b4'] using Clamp ['c2', 'c1']\n",
      "|- Place PG1000 ('g2') to Storage\n"
     ]
    },
    {
     "data": {
      "text/plain": [
       "1"
      ]
     },
     "execution_count": 10,
     "metadata": {},
     "output_type": "execute_result"
    }
   ],
   "source": [
    "from integral_timber_joints.planning.pddlstream_definitions.postprocessing import actions_from_pddlstream_plan\n",
    "\n",
    "actions_from_pddlstream_plan(process, plan, verbose=1)"
   ]
  },
  {
   "cell_type": "code",
   "execution_count": 105,
   "metadata": {},
   "outputs": [],
   "source": [
    "from integral_timber_joints.planning.robot_setup import load_RFL_world\n",
    "from integral_timber_joints.planning.run import set_initial_state\n",
    "\n",
    "# * Connect to path planning backend and initialize robot parameters\n",
    "# viewer or diagnosis or view_states or watch or step_sim,\n",
    "client, robot, _ = load_RFL_world(viewer=1, verbose=False)\n",
    "set_initial_state(client, robot, process, disable_env=False, reinit_tool=False)"
   ]
  },
  {
   "cell_type": "code",
   "execution_count": 18,
   "metadata": {},
   "outputs": [],
   "source": [
    "client.disconnect()"
   ]
  },
  {
   "cell_type": "code",
   "execution_count": 11,
   "metadata": {
    "tags": []
   },
   "outputs": [
    {
     "name": "stdout",
     "output_type": "stream",
     "text": [
      "OperatorLoadBeamMovement(#A0_M0, Opeartor Load Beam (b0) to Pickup Location)\n",
      "RoboticFreeMovement(#A0_M0, Free Move reach Storage Approach Frame of PG1000 ('g2'), to get tool., traj 0)\n",
      "RoboticLinearMovement(#A0_M1, Linear Advance to Storage Frame of PG1000 ('g2'), to get tool., traj 0)\n",
      "RoboticDigitalOutput(#A0_M2, Toolchanger Lock PG1000 ('g2'))\n",
      "RoboticDigitalOutput(#A0_M3, PG1000 ('g2') Open Gripper to release itself from storage pad.)\n",
      "RoboticLinearMovement(#A0_M4, Linear Retract after getting PG1000 ('g2') from storage., traj 0)\n",
      "RoboticFreeMovement(#A0_M0, Free Move to reach Pickup Approach Frame of Beam ('b0'), traj 0)\n",
      "RoboticDigitalOutput(#A0_M1, Gripper ('g2') Open Gripper before gripping Beam ('b0'))\n",
      "RoboticLinearMovement(#A0_M2, Linear Advance to Storage Frame of Beam ('b0'), traj 1)\n",
      "RoboticDigitalOutput(#A0_M3, Gripper ('g2') Close Gripper to grip Beam ('b0'))\n",
      "RoboticLinearMovement(#A0_M4, Linear Retract after picking up Beam ('b0'), traj 1)\n",
      "OperatorLoadBeamMovement(#A0_M0, Opeartor Load Beam (b1) to Pickup Location)\n",
      "RoboticFreeMovement(#A0_M0, Free Move to bring Beam ('b0') to final location, traj 0)\n",
      "RoboticLinearMovement(#A0_M1, Linear Advance to Final Frame of Beam ('b0'), traj 0)\n",
      "RoboticDigitalOutput(#A0_M2, Open Gripper ('g2') and let go of Beam ('b0'))\n",
      "RoboticLinearMovement(#A0_M3, Linear retract after placing Beam ('b0'), traj 0)\n",
      "RoboticFreeMovement(#A0_M0, Free Move to reach Pickup Approach Frame of Beam ('b1'), traj 0)\n",
      "RoboticDigitalOutput(#A0_M1, Gripper ('g2') Open Gripper before gripping Beam ('b1'))\n",
      "RoboticLinearMovement(#A0_M2, Linear Advance to Storage Frame of Beam ('b1'), traj 1)\n",
      "RoboticDigitalOutput(#A0_M3, Gripper ('g2') Close Gripper to grip Beam ('b1'))\n",
      "RoboticLinearMovement(#A0_M4, Linear Retract after picking up Beam ('b1'), traj 1)\n",
      "OperatorLoadBeamMovement(#A0_M0, Opeartor Load Beam (b2) to Pickup Location)\n",
      "RoboticFreeMovement(#A0_M0, Free Move to bring Beam ('b1') to final location, traj 0)\n",
      "RoboticLinearMovement(#A0_M1, Linear Advance to Final Frame of Beam ('b1'), traj 0)\n",
      "RoboticDigitalOutput(#A0_M2, Open Gripper ('g2') and let go of Beam ('b1'))\n",
      "RoboticLinearMovement(#A0_M3, Linear retract after placing Beam ('b1'), traj 0)\n",
      "RoboticFreeMovement(#A0_M0, Free Move to reach Pickup Approach Frame of Beam ('b2'), traj 0)\n",
      "RoboticDigitalOutput(#A0_M1, Gripper ('g2') Open Gripper before gripping Beam ('b2'))\n",
      "RoboticLinearMovement(#A0_M2, Linear Advance to Storage Frame of Beam ('b2'), traj 1)\n",
      "RoboticDigitalOutput(#A0_M3, Gripper ('g2') Close Gripper to grip Beam ('b2'))\n",
      "RoboticLinearMovement(#A0_M4, Linear Retract after picking up Beam ('b2'), traj 1)\n",
      "OperatorLoadBeamMovement(#A0_M0, Opeartor Load Beam (b3) to Pickup Location)\n",
      "RoboticFreeMovement(#A0_M0, Free Move to bring Beam ('b2') to approach clamps on structure., traj 0)\n",
      "RoboticLinearMovement(#A0_M1, Linear Advance to bring Beam ('b2') into clamp jaws, traj 0)\n",
      "ClampsJawMovement(#A0_M2, Clamps (['c4', 'c3']) close slightly to touch Beam ('b2'))\n",
      "RoboticClampSyncLinearMovement(#A0_M3, Robot and Clamps (['c4', 'c3']) syncronously move to clamp Beam ('b2'), traj 0)\n",
      "RoboticDigitalOutput(#A0_M4, Open Gripper ('g2') and let go of Beam ('b2'))\n",
      "RoboticLinearMovement(#A0_M5, Linear retract after placing Beam ('b2'), traj 0)\n",
      "RoboticFreeMovement(#A0_M0, Free Move to reach Pickup Approach Frame of Beam ('b3'), traj 0)\n",
      "RoboticDigitalOutput(#A0_M1, Gripper ('g2') Open Gripper before gripping Beam ('b3'))\n",
      "RoboticLinearMovement(#A0_M2, Linear Advance to Storage Frame of Beam ('b3'), traj 1)\n",
      "RoboticDigitalOutput(#A0_M3, Gripper ('g2') Close Gripper to grip Beam ('b3'))\n",
      "RoboticLinearMovement(#A0_M4, Linear Retract after picking up Beam ('b3'), traj 1)\n",
      "OperatorLoadBeamMovement(#A0_M0, Opeartor Load Beam (b5) to Pickup Location)\n",
      "RoboticFreeMovement(#A0_M0, Free Move to bring Beam ('b3') to approach clamps on structure., traj 0)\n",
      "RoboticLinearMovement(#A0_M1, Linear Advance to bring Beam ('b3') into clamp jaws, traj 0)\n",
      "ClampsJawMovement(#A0_M2, Clamps (['c4', 'c3']) close slightly to touch Beam ('b3'))\n",
      "RoboticClampSyncLinearMovement(#A0_M3, Robot and Clamps (['c4', 'c3']) syncronously move to clamp Beam ('b3'), traj 0)\n",
      "RoboticDigitalOutput(#A0_M4, Open Gripper ('g2') and let go of Beam ('b3'))\n",
      "RoboticLinearMovement(#A0_M5, Linear retract after placing Beam ('b3'), traj 0)\n",
      "RoboticFreeMovement(#A0_M0, Free Move to reach Pickup Approach Frame of Beam ('b5'), traj 0)\n",
      "RoboticDigitalOutput(#A0_M1, Gripper ('g2') Open Gripper before gripping Beam ('b5'))\n",
      "RoboticLinearMovement(#A0_M2, Linear Advance to Storage Frame of Beam ('b5'), traj 1)\n",
      "RoboticDigitalOutput(#A0_M3, Gripper ('g2') Close Gripper to grip Beam ('b5'))\n",
      "RoboticLinearMovement(#A0_M4, Linear Retract after picking up Beam ('b5'), traj 1)\n",
      "RoboticFreeMovement(#A0_M0, Free Move to bring Beam ('b5') to final location, traj 0)\n",
      "RoboticLinearMovement(#A0_M1, Linear Advance to Final Frame of Beam ('b5'), traj 0)\n",
      "RoboticDigitalOutput(#A0_M2, Open Gripper ('g2') and let go of Beam ('b5'))\n",
      "RoboticLinearMovement(#A0_M3, Linear retract after placing Beam ('b5'), traj 0)\n",
      "OperatorLoadBeamMovement(#A0_M0, Opeartor Load Beam (b6) to Pickup Location)\n",
      "RoboticFreeMovement(#A0_M0, Free Move to reach Storage Approach Frame of PG1000 ('g2'), to place tool in storage., traj 0)\n",
      "RoboticLinearMovement(#A0_M1, Linear Advance to Storage Frame of PG1000 ('g2'), to place tool in storage., traj 0)\n",
      "RoboticDigitalOutput(#A0_M2, PG1000 ('g2') Close Gripper to lock onto storage pad.)\n",
      "RoboticDigitalOutput(#A0_M3, Toolchanger Unlock PG1000 ('g2'))\n",
      "RoboticLinearMovement(#A0_M4, Linear Retract from storage after placing PG1000 ('g2') in storage, traj 0)\n",
      "RoboticFreeMovement(#A0_M0, Free Move reach Storage Approach Frame of PG500 ('g1'), to get tool., traj 0)\n",
      "RoboticLinearMovement(#A0_M1, Linear Advance to Storage Frame of PG500 ('g1'), to get tool., traj 0)\n",
      "RoboticDigitalOutput(#A0_M2, Toolchanger Lock PG500 ('g1'))\n",
      "RoboticDigitalOutput(#A0_M3, PG500 ('g1') Open Gripper to release itself from storage pad.)\n",
      "RoboticLinearMovement(#A0_M4, Linear Retract after getting PG500 ('g1') from storage., traj 0)\n",
      "RoboticFreeMovement(#A0_M0, Free Move to reach Pickup Approach Frame of Beam ('b6'), traj 0)\n",
      "RoboticDigitalOutput(#A0_M1, Gripper ('g1') Open Gripper before gripping Beam ('b6'))\n",
      "RoboticLinearMovement(#A0_M2, Linear Advance to Storage Frame of Beam ('b6'), traj 1)\n",
      "RoboticDigitalOutput(#A0_M3, Gripper ('g1') Close Gripper to grip Beam ('b6'))\n",
      "RoboticLinearMovement(#A0_M4, Linear Retract after picking up Beam ('b6'), traj 1)\n",
      "RoboticFreeMovement(#A0_M0, Free Move to bring Beam ('b6') to approach clamps on structure., traj 0)\n",
      "RoboticLinearMovement(#A0_M1, Linear Advance to bring Beam ('b6') into clamp jaws, traj 0)\n",
      "ClampsJawMovement(#A0_M2, Clamps (['c1', 'c2']) close slightly to touch Beam ('b6'))\n",
      "RoboticClampSyncLinearMovement(#A0_M3, Robot and Clamps (['c1', 'c2']) syncronously move to clamp Beam ('b6'), traj 0)\n",
      "RoboticDigitalOutput(#A0_M4, Open Gripper ('g1') and let go of Beam ('b6'))\n",
      "RoboticLinearMovement(#A0_M5, Linear retract after placing Beam ('b6'), traj 0)\n",
      "OperatorLoadBeamMovement(#A0_M0, Opeartor Load Beam (b7) to Pickup Location)\n",
      "RoboticFreeMovement(#A0_M0, Free Move to reach Storage Approach Frame of PG500 ('g1'), to place tool in storage., traj 0)\n",
      "RoboticLinearMovement(#A0_M1, Linear Advance to Storage Frame of PG500 ('g1'), to place tool in storage., traj 0)\n",
      "RoboticDigitalOutput(#A0_M2, PG500 ('g1') Close Gripper to lock onto storage pad.)\n",
      "RoboticDigitalOutput(#A0_M3, Toolchanger Unlock PG500 ('g1'))\n",
      "RoboticLinearMovement(#A0_M4, Linear Retract from storage after placing PG500 ('g1') in storage, traj 0)\n",
      "RoboticFreeMovement(#A0_M0, Free Move reach Storage Approach Frame of PG1000 ('g2'), to get tool., traj 0)\n",
      "RoboticLinearMovement(#A0_M1, Linear Advance to Storage Frame of PG1000 ('g2'), to get tool., traj 0)\n",
      "RoboticDigitalOutput(#A0_M2, Toolchanger Lock PG1000 ('g2'))\n",
      "RoboticDigitalOutput(#A0_M3, PG1000 ('g2') Open Gripper to release itself from storage pad.)\n",
      "RoboticLinearMovement(#A0_M4, Linear Retract after getting PG1000 ('g2') from storage., traj 0)\n",
      "RoboticFreeMovement(#A0_M0, Free Move to reach Pickup Approach Frame of Beam ('b7'), traj 0)\n",
      "RoboticDigitalOutput(#A0_M1, Gripper ('g2') Open Gripper before gripping Beam ('b7'))\n",
      "RoboticLinearMovement(#A0_M2, Linear Advance to Storage Frame of Beam ('b7'), traj 1)\n",
      "RoboticDigitalOutput(#A0_M3, Gripper ('g2') Close Gripper to grip Beam ('b7'))\n",
      "RoboticLinearMovement(#A0_M4, Linear Retract after picking up Beam ('b7'), traj 1)\n",
      "RoboticFreeMovement(#A0_M0, Free Move to bring Beam ('b7') to final location, traj 0)\n",
      "RoboticLinearMovement(#A0_M1, Linear Advance to Final Frame of Beam ('b7'), traj 0)\n",
      "RoboticDigitalOutput(#A0_M2, Open Gripper ('g2') and let go of Beam ('b7'))\n",
      "RoboticLinearMovement(#A0_M3, Linear retract after placing Beam ('b7'), traj 0)\n",
      "OperatorLoadBeamMovement(#A0_M0, Opeartor Load Beam (b8) to Pickup Location)\n",
      "RoboticFreeMovement(#A0_M0, Free Move to reach Storage Approach Frame of PG1000 ('g2'), to place tool in storage., traj 0)\n",
      "RoboticLinearMovement(#A0_M1, Linear Advance to Storage Frame of PG1000 ('g2'), to place tool in storage., traj 0)\n",
      "RoboticDigitalOutput(#A0_M2, PG1000 ('g2') Close Gripper to lock onto storage pad.)\n",
      "RoboticDigitalOutput(#A0_M3, Toolchanger Unlock PG1000 ('g2'))\n",
      "RoboticLinearMovement(#A0_M4, Linear Retract from storage after placing PG1000 ('g2') in storage, traj 0)\n",
      "RoboticFreeMovement(#A0_M0, Free Move reach Storage Approach Frame of PG500 ('g1'), to get tool., traj 0)\n",
      "RoboticLinearMovement(#A0_M1, Linear Advance to Storage Frame of PG500 ('g1'), to get tool., traj 0)\n",
      "RoboticDigitalOutput(#A0_M2, Toolchanger Lock PG500 ('g1'))\n",
      "RoboticDigitalOutput(#A0_M3, PG500 ('g1') Open Gripper to release itself from storage pad.)\n",
      "RoboticLinearMovement(#A0_M4, Linear Retract after getting PG500 ('g1') from storage., traj 0)\n",
      "RoboticFreeMovement(#A0_M0, Free Move to reach Pickup Approach Frame of Beam ('b8'), traj 0)\n",
      "RoboticDigitalOutput(#A0_M1, Gripper ('g1') Open Gripper before gripping Beam ('b8'))\n",
      "RoboticLinearMovement(#A0_M2, Linear Advance to Storage Frame of Beam ('b8'), traj 1)\n",
      "RoboticDigitalOutput(#A0_M3, Gripper ('g1') Close Gripper to grip Beam ('b8'))\n",
      "RoboticLinearMovement(#A0_M4, Linear Retract after picking up Beam ('b8'), traj 1)\n",
      "OperatorLoadBeamMovement(#A0_M0, Opeartor Load Beam (b4) to Pickup Location)\n",
      "RoboticFreeMovement(#A0_M0, Free Move to bring Beam ('b8') to approach clamps on structure., traj 0)\n",
      "RoboticLinearMovement(#A0_M1, Linear Advance to bring Beam ('b8') into clamp jaws, traj 0)\n",
      "ClampsJawMovement(#A0_M2, Clamps (['c1', 'c2']) close slightly to touch Beam ('b8'))\n",
      "RoboticClampSyncLinearMovement(#A0_M3, Robot and Clamps (['c1', 'c2']) syncronously move to clamp Beam ('b8'), traj 0)\n",
      "RoboticDigitalOutput(#A0_M4, Open Gripper ('g1') and let go of Beam ('b8'))\n",
      "RoboticLinearMovement(#A0_M5, Linear retract after placing Beam ('b8'), traj 0)\n",
      "RoboticFreeMovement(#A0_M0, Free Move to reach Storage Approach Frame of PG500 ('g1'), to place tool in storage., traj 0)\n",
      "RoboticLinearMovement(#A0_M1, Linear Advance to Storage Frame of PG500 ('g1'), to place tool in storage., traj 0)\n",
      "RoboticDigitalOutput(#A0_M2, PG500 ('g1') Close Gripper to lock onto storage pad.)\n",
      "RoboticDigitalOutput(#A0_M3, Toolchanger Unlock PG500 ('g1'))\n",
      "RoboticLinearMovement(#A0_M4, Linear Retract from storage after placing PG500 ('g1') in storage, traj 0)\n",
      "RoboticFreeMovement(#A0_M0, Free Move reach Storage Approach Frame of PG1000 ('g2'), to get tool., traj 0)\n",
      "RoboticLinearMovement(#A0_M1, Linear Advance to Storage Frame of PG1000 ('g2'), to get tool., traj 0)\n",
      "RoboticDigitalOutput(#A0_M2, Toolchanger Lock PG1000 ('g2'))\n",
      "RoboticDigitalOutput(#A0_M3, PG1000 ('g2') Open Gripper to release itself from storage pad.)\n",
      "RoboticLinearMovement(#A0_M4, Linear Retract after getting PG1000 ('g2') from storage., traj 0)\n",
      "RoboticFreeMovement(#A0_M0, Free Move to reach Pickup Approach Frame of Beam ('b4'), traj 0)\n",
      "RoboticDigitalOutput(#A0_M1, Gripper ('g2') Open Gripper before gripping Beam ('b4'))\n",
      "RoboticLinearMovement(#A0_M2, Linear Advance to Storage Frame of Beam ('b4'), traj 1)\n",
      "RoboticDigitalOutput(#A0_M3, Gripper ('g2') Close Gripper to grip Beam ('b4'))\n",
      "RoboticLinearMovement(#A0_M4, Linear Retract after picking up Beam ('b4'), traj 1)\n",
      "RoboticFreeMovement(#A0_M0, Free Move to bring Beam ('b4') to approach clamps on structure., traj 0)\n",
      "RoboticLinearMovement(#A0_M1, Linear Advance to bring Beam ('b4') into clamp jaws, traj 0)\n",
      "ClampsJawMovement(#A0_M2, Clamps (['c2', 'c1']) close slightly to touch Beam ('b4'))\n",
      "RoboticClampSyncLinearMovement(#A0_M3, Robot and Clamps (['c2', 'c1']) syncronously move to clamp Beam ('b4'), traj 0)\n",
      "RoboticDigitalOutput(#A0_M4, Open Gripper ('g2') and let go of Beam ('b4'))\n",
      "RoboticLinearMovement(#A0_M5, Linear retract after placing Beam ('b4'), traj 0)\n",
      "RoboticFreeMovement(#A0_M0, Free Move to reach Storage Approach Frame of PG1000 ('g2'), to place tool in storage., traj 0)\n",
      "RoboticLinearMovement(#A0_M1, Linear Advance to Storage Frame of PG1000 ('g2'), to place tool in storage., traj 0)\n",
      "RoboticDigitalOutput(#A0_M2, PG1000 ('g2') Close Gripper to lock onto storage pad.)\n",
      "RoboticDigitalOutput(#A0_M3, Toolchanger Unlock PG1000 ('g2'))\n",
      "RoboticLinearMovement(#A0_M4, Linear Retract from storage after placing PG1000 ('g2') in storage, traj 0)\n",
      "Finished.\n"
     ]
    }
   ],
   "source": [
    "from integral_timber_joints.planning.state import set_state\n",
    "from integral_timber_joints.process import RoboticMovement, RobotClampAssemblyProcess\n",
    "\n",
    "for m in process.movements:\n",
    "    print(m.short_summary)\n",
    "    start_state = process.get_movement_start_scene(m)\n",
    "    end_state = process.get_movement_end_scene(m)  \n",
    "    set_state(client, robot, process, end_state, initialize=False)\n",
    "#     pp.wait_if_gui('End state.')\n",
    "    pp.wait_for_duration(0.1)\n",
    "print('Finished.')"
   ]
  },
  {
   "cell_type": "markdown",
   "metadata": {},
   "source": [
    "## Construct symbolic PDDL problem"
   ]
  },
  {
   "cell_type": "code",
   "execution_count": 6,
   "metadata": {},
   "outputs": [
    {
     "name": "stdout",
     "output_type": "stream",
     "text": [
      "\u001b[33mUse Track IK: False\u001b[0m\n"
     ]
    }
   ],
   "source": [
    "from integral_timber_joints.planning.pddlstream_definitions.problem import get_pddlstream_problem\n",
    "from integral_timber_joints.planning.pddlstream_definitions import ITJ_PDDLSTREAM_DEF_DIR"
   ]
  },
  {
   "cell_type": "code",
   "execution_count": 11,
   "metadata": {},
   "outputs": [],
   "source": [
    "import json\n",
    "process_sym_data = process.to_symbolic_problem_data()\n",
    "debug_problem_name = problem.split(\".\")[0] + \"_symbolic.json\"\n",
    "debug_save_path = r'C:\\Users\\harry\\Documents\\code_ws\\pb_ws\\debug_pyplanners\\itj'\n",
    "with open(os.path.join(debug_save_path, debug_problem_name), 'w') as f:\n",
    "    json.dump(process_sym_data, f, indent=True, sort_keys=True)"
   ]
  },
  {
   "cell_type": "code",
   "execution_count": 10,
   "metadata": {
    "tags": []
   },
   "outputs": [
    {
     "ename": "ModuleNotFoundError",
     "evalue": "No module named 'integral_timber_joints.planning.pddlstream_definitions.caelan'",
     "output_type": "error",
     "traceback": [
      "\u001b[1;31m---------------------------------------------------------------------------\u001b[0m",
      "\u001b[1;31mModuleNotFoundError\u001b[0m                       Traceback (most recent call last)",
      "\u001b[1;32m~\\AppData\\Local\\Temp/ipykernel_11580/1864450954.py\u001b[0m in \u001b[0;36m<module>\u001b[1;34m\u001b[0m\n\u001b[1;32m----> 1\u001b[1;33m \u001b[1;32mfrom\u001b[0m \u001b[0mintegral_timber_joints\u001b[0m\u001b[1;33m.\u001b[0m\u001b[0mplanning\u001b[0m\u001b[1;33m.\u001b[0m\u001b[0mpddlstream_definitions\u001b[0m\u001b[1;33m.\u001b[0m\u001b[0mcaelan\u001b[0m\u001b[1;33m.\u001b[0m\u001b[0mrun\u001b[0m \u001b[1;32mimport\u001b[0m \u001b[0mget_itj_pddl_problem_from_json\u001b[0m\u001b[1;33m\u001b[0m\u001b[1;33m\u001b[0m\u001b[0m\n\u001b[0m\u001b[0;32m      2\u001b[0m \u001b[1;33m\u001b[0m\u001b[0m\n\u001b[0;32m      3\u001b[0m \u001b[0mdebug_pddl_problem\u001b[0m \u001b[1;33m=\u001b[0m \u001b[0mget_itj_pddl_problem_from_json\u001b[0m\u001b[1;33m(\u001b[0m\u001b[0mdebug_problem_name\u001b[0m\u001b[1;33m,\u001b[0m \u001b[0muse_partial_order\u001b[0m\u001b[1;33m=\u001b[0m\u001b[1;32mTrue\u001b[0m\u001b[1;33m,\u001b[0m \u001b[0mdebug\u001b[0m\u001b[1;33m=\u001b[0m\u001b[1;32mTrue\u001b[0m\u001b[1;33m)\u001b[0m\u001b[1;33m\u001b[0m\u001b[1;33m\u001b[0m\u001b[0m\n\u001b[0;32m      4\u001b[0m \u001b[1;33m\u001b[0m\u001b[0m\n\u001b[0;32m      5\u001b[0m \u001b[0mprint\u001b[0m\u001b[1;33m(\u001b[0m\u001b[1;33m)\u001b[0m\u001b[1;33m\u001b[0m\u001b[1;33m\u001b[0m\u001b[0m\n",
      "\u001b[1;31mModuleNotFoundError\u001b[0m: No module named 'integral_timber_joints.planning.pddlstream_definitions.caelan'"
     ]
    }
   ],
   "source": [
    "from integral_timber_joints.planning.pddlstream_definitions.caelan.run import get_itj_pddl_problem_from_json\n",
    "\n",
    "debug_pddl_problem = get_itj_pddl_problem_from_json(debug_problem_name, use_partial_order=True, debug=True)\n",
    "\n",
    "print()\n",
    "print('Goal:', debug_pddl_problem.goal)\n",
    "print()\n",
    "\n",
    "costs = True\n",
    "set_cost_scale(1)\n",
    "\n",
    "solution = solve(debug_pddl_problem, algorithm='adaptive', #incremental\n",
    "                 max_time=60,\n",
    "                 unit_costs=True,\n",
    "                 max_planner_time=300, \n",
    "                 debug=0, verbose=0) #, planner=discrete_planner)\n",
    "\n",
    "plan, cost, evaluations = solution\n",
    "plan_success = is_plan(plan)\n",
    "cprint('Planning {}'.format('succeeds' if plan_success else 'fails'), 'green' if plan_success else 'red')\n",
    "\n",
    "print('-'*10)\n",
    "print_plan(plan)"
   ]
  },
  {
   "cell_type": "markdown",
   "metadata": {},
   "source": [
    "# Misc"
   ]
  },
  {
   "cell_type": "code",
   "execution_count": 25,
   "metadata": {},
   "outputs": [],
   "source": [
    "# from pddlstream.algorithms.algorithm import parse_problem\n",
    "# from pddlstream.algorithms.constraints import PlanConstraints\n",
    "# from pddlstream.algorithms.downward import get_problem, task_from_domain_problem\n",
    "# from pddlstream.algorithms.meta import examine_instantiated\n",
    "\n",
    "# pddlstream_problem = get_pddlstream_problem(process, use_partial_order=True, debug=False,\n",
    "#                                             reset_to_home=False)\n",
    "\n",
    "# print(pddlstream_problem.goal)\n",
    "\n",
    "# results, instantiated = examine_instantiated(pddlstream_problem, unit_costs=1, verbose=0, debug=1)"
   ]
  }
 ],
 "metadata": {
  "kernelspec": {
   "display_name": "Python 3 (ipykernel)",
   "language": "python",
   "name": "python3"
  },
  "language_info": {
   "codemirror_mode": {
    "name": "ipython",
    "version": 3
   },
   "file_extension": ".py",
   "mimetype": "text/x-python",
   "name": "python",
   "nbconvert_exporter": "python",
   "pygments_lexer": "ipython3",
   "version": "3.7.9"
  },
  "metadata": {
   "interpreter": {
    "hash": "742396f8abfd15506fd5537870b226a29245815e58899b5be3a686185469d15a"
   }
  }
 },
 "nbformat": 4,
 "nbformat_minor": 4
}
