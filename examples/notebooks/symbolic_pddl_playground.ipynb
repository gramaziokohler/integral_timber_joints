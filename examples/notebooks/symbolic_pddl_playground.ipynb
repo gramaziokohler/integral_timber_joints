{
 "cells": [
  {
   "cell_type": "code",
   "execution_count": 1,
   "metadata": {},
   "outputs": [],
   "source": [
    "%load_ext autoreload\n",
    "%autoreload 2"
   ]
  },
  {
   "cell_type": "code",
   "execution_count": 22,
   "metadata": {},
   "outputs": [
    {
     "name": "stdout",
     "output_type": "stream",
     "text": [
      "\u001b[33mUsing pddlstream from C:\\Users\\harry\\Documents\\code_ws\\pb_ws\\coop_assembly\\external\\pddlstream\\pddlstream\\__init__.py\u001b[0m\n",
      "\u001b[33mUsing strips (pyplanners) from C:\\Users\\harry\\Documents\\code_ws\\pb_ws\\coop_assembly\\external\\pyplanners\\strips\\__init__.py\u001b[0m\n"
     ]
    }
   ],
   "source": [
    "from integral_timber_joints.planning import load_pddlstream"
   ]
  },
  {
   "cell_type": "markdown",
   "metadata": {},
   "source": [
    "## Parse ITJ process"
   ]
  },
  {
   "cell_type": "code",
   "execution_count": 3,
   "metadata": {},
   "outputs": [],
   "source": [
    "import os\n",
    "import time\n",
    "from termcolor import cprint\n",
    "import pybullet_planning as pp\n",
    "from pybullet_planning import elapsed_time\n",
    "from integral_timber_joints.planning.parsing import parse_process, save_process_and_movements, \\\n",
    "    get_process_path, save_process"
   ]
  },
  {
   "cell_type": "code",
   "execution_count": 4,
   "metadata": {},
   "outputs": [],
   "source": [
    "# parse options\n",
    "design_dir = '210128_RemodelFredPavilion' # '211010_CantiBox' # '210916_SymbolicPlanning' # '210419_AnticlasticShelter' # '210605_ScrewdriverTestProcess' # 210419_AnticlasticShelter\n",
    "problem = 'pavilion_process.json' # 'CantiBoxLeft_process.json' # 'nine_pieces_process.json' #'shelter_process.json' # 'shelter_process.json' pavilion_process.json' # 'twelve_pieces_process.json'\n",
    "problem_subdir = '.'"
   ]
  },
  {
   "cell_type": "code",
   "execution_count": 5,
   "metadata": {},
   "outputs": [
    {
     "name": "stdout",
     "output_type": "stream",
     "text": [
      "\u001b[34mProcess json parsed from c:\\users\\harry\\dropbox (mit)\\code_ws_dropbox\\itj_ws\\integral_timber_joints\\external\\itj_design_study\\210128_RemodelFredPavilion\\pavilion_process.json\u001b[0m\n"
     ]
    }
   ],
   "source": [
    "process = parse_process(design_dir, problem, subdir=problem_subdir)\n",
    "\n",
    "# Double check entire solution is valid\n",
    "for beam_id in process.assembly.sequence:\n",
    "    if not process.dependency.beam_all_valid(beam_id):\n",
    "        print('Yay')\n",
    "        process.dependency.compute_all(beam_id)\n",
    "        assert process.dependency.beam_all_valid(beam_id)"
   ]
  },
  {
   "cell_type": "markdown",
   "metadata": {},
   "source": [
    "# Save to symbolic json"
   ]
  },
  {
   "cell_type": "code",
   "execution_count": 4,
   "metadata": {},
   "outputs": [],
   "source": [
    "PROBLEM_FILE_FROM_NAME = {\n",
    "    'cantibox' : ('211010_CantiBox', 'CantiBoxLeft_process.json'),\n",
    "    'pavilion' : ('210128_RemodelFredPavilion', 'pavilion_process.json'),\n",
    "    'nine_pieces' : ('210916_SymbolicPlanning', 'nine_pieces_process.json'),\n",
    "}"
   ]
  },
  {
   "cell_type": "code",
   "execution_count": 5,
   "metadata": {},
   "outputs": [],
   "source": [
    "# parse options\n",
    "# problem_name = 'nine_pieces'\n",
    "# design_dir, problem = PROBLEM_FILE_FROM_NAME[problem_name]\n",
    "problem_subdir = '.'"
   ]
  },
  {
   "cell_type": "code",
   "execution_count": 6,
   "metadata": {},
   "outputs": [
    {
     "name": "stdout",
     "output_type": "stream",
     "text": [
      "\u001b[34mProcess json parsed from c:\\users\\harry\\dropbox (mit)\\code_ws_dropbox\\itj_ws\\integral_timber_joints\\external\\itj_design_study\\211010_CantiBox\\CantiBoxLeft_process.json\u001b[0m\n",
      "symbolic json saved to  C:\\Users\\harry\\Documents\\code_ws\\pb_ws\\debug_pyplanners\\itj\\CantiBoxLeft_process_symbolic.json\n",
      "\u001b[34mProcess json parsed from c:\\users\\harry\\dropbox (mit)\\code_ws_dropbox\\itj_ws\\integral_timber_joints\\external\\itj_design_study\\210128_RemodelFredPavilion\\pavilion_process.json\u001b[0m\n",
      "symbolic json saved to  C:\\Users\\harry\\Documents\\code_ws\\pb_ws\\debug_pyplanners\\itj\\pavilion_process_symbolic.json\n",
      "\u001b[34mProcess json parsed from c:\\users\\harry\\dropbox (mit)\\code_ws_dropbox\\itj_ws\\integral_timber_joints\\external\\itj_design_study\\210916_SymbolicPlanning\\nine_pieces_process.json\u001b[0m\n",
      "symbolic json saved to  C:\\Users\\harry\\Documents\\code_ws\\pb_ws\\debug_pyplanners\\itj\\nine_pieces_process_symbolic.json\n"
     ]
    }
   ],
   "source": [
    "import json\n",
    "\n",
    "for design_dir, problem in PROBLEM_FILE_FROM_NAME.values():\n",
    "    process = parse_process(design_dir, problem, subdir=problem_subdir)\n",
    "    \n",
    "    # Double check entire solution is valid\n",
    "    for beam_id in process.assembly.sequence:\n",
    "        if not process.dependency.beam_all_valid(beam_id):\n",
    "            print('Yay')\n",
    "            process.dependency.compute_all(beam_id)\n",
    "            assert process.dependency.beam_all_valid(beam_id)\n",
    "            \n",
    "    metadata = {\n",
    "        'design_dir' : design_dir,\n",
    "        'process_json_file_name' : problem,\n",
    "    }\n",
    "    process_sym_data = process.to_symbolic_problem_data(metadata)\n",
    "    debug_problem_name = problem.split(\".\")[0] + \"_symbolic.json\"\n",
    "    debug_save_path = r'C:\\Users\\harry\\Documents\\code_ws\\pb_ws\\debug_pyplanners\\itj'\n",
    "    debug_fp = os.path.join(debug_save_path, debug_problem_name)\n",
    "    with open(debug_fp, 'w') as f:\n",
    "        json.dump(process_sym_data, f, indent=True, sort_keys=True)\n",
    "    print('symbolic json saved to ', debug_fp)"
   ]
  },
  {
   "cell_type": "code",
   "execution_count": 9,
   "metadata": {},
   "outputs": [
    {
     "name": "stdout",
     "output_type": "stream",
     "text": [
      "\u001b[33mUsing ITJ from c:\\users\\harry\\dropbox (mit)\\code_ws_dropbox\\itj_ws\\integral_timber_joints\\src\\integral_timber_joints\u001b[0m\n"
     ]
    }
   ],
   "source": [
    "import integral_timber_joints\n",
    "cprint(\"Using ITJ from {}\".format(os.path.dirname(integral_timber_joints.__file__)), 'yellow')"
   ]
  },
  {
   "cell_type": "markdown",
   "metadata": {},
   "source": [
    "## Solve"
   ]
  },
  {
   "cell_type": "code",
   "execution_count": 7,
   "metadata": {},
   "outputs": [],
   "source": [
    "discrete_planner = {\n",
    "    'search': 'eager', # eager | lazy\n",
    "    # lazy might be faster but the solution quality might be low\n",
    "    'evaluator': 'greedy',\n",
    "    'heuristic': 'goal', # goal | add | ff\n",
    "    #'heuristic': ['ff', get_bias_fn(element_from_index)],\n",
    "    'successors': 'all', # all | random\n",
    "    #'successors': get_order_fn(element_from_index),\n",
    "    # ? ordering scaffolds can come here\n",
    "    # TODO: confirm that this is working correctly\n",
    "}"
   ]
  },
  {
   "cell_type": "code",
   "execution_count": 25,
   "metadata": {},
   "outputs": [],
   "source": [
    "from integral_timber_joints.planning.robot_setup import load_RFL_world\n",
    "from integral_timber_joints.planning.run import set_initial_state\n",
    "\n",
    "# * Connect to path planning backend and initialize robot parameters\n",
    "# viewer or diagnosis or view_states or watch or step_sim,\n",
    "client, robot, _ = load_RFL_world(viewer=1, verbose=False)\n",
    "set_initial_state(client, robot, process, disable_env=False, reinit_tool=False)"
   ]
  },
  {
   "cell_type": "code",
   "execution_count": 31,
   "metadata": {
    "tags": []
   },
   "outputs": [],
   "source": [
    "client.disconnect()"
   ]
  },
  {
   "cell_type": "code",
   "execution_count": null,
   "metadata": {
    "tags": []
   },
   "outputs": [],
   "source": [
    "from pddlstream.algorithms.downward import set_cost_scale, parse_action\n",
    "from pddlstream.algorithms.meta import solve\n",
    "from pddlstream.utils import INF\n",
    "from pddlstream.language.constants import print_plan, is_plan\n",
    "\n",
    "from integral_timber_joints.planning.state import set_state\n",
    "from integral_timber_joints.planning.pddlstream_definitions.problem import get_pddlstream_problem\n",
    "from integral_timber_joints.planning.pddlstream_definitions.postprocessing import print_itj_pddl_plan\n",
    "\n",
    "debug = 0\n",
    "options = {\n",
    "    'avoid_collisions' : False,\n",
    "    'verbose' : 0,\n",
    "    'debug' : debug,\n",
    "    'diagnosis' : 0,\n",
    "    'distance_threshold' : 0.02,\n",
    "}\n",
    "\n",
    "set_state(client, robot, process, process.initial_state, initialize=False)\n",
    "pddlstream_problem = get_pddlstream_problem(client, process, robot, use_partial_order=1, \n",
    "                                            debug=0, reset_to_home=1, \n",
    "                                            consider_transition=0, options=options)\n",
    "\n",
    "# print('Init:', pddlstream_problem.init)\n",
    "print()\n",
    "print('Goal:', pddlstream_problem.goal)\n",
    "print()\n",
    "\n",
    "costs = True\n",
    "set_cost_scale(1)\n",
    "\n",
    "start_time = time.time()\n",
    "with pp.LockRenderer(not debug):\n",
    "    solution = solve(pddlstream_problem, algorithm='incremental', #adaptive\n",
    "                     max_time=60,\n",
    "                     unit_costs=True,\n",
    "                     max_planner_time=300, \n",
    "                     debug=0, verbose=0,)\n",
    "                     # planner=discrete_planner)\n",
    "cprint('Total solve time: {:.3f}'.format(elapsed_time(start_time)), 'blue')\n",
    "\n",
    "plan, cost, evaluations = solution\n",
    "plan_success = is_plan(plan)\n",
    "cprint('Planning {}'.format('succeeds' if plan_success else 'fails'), 'green' if plan_success else 'red')\n",
    "\n",
    "print('-'*10)\n",
    "print_itj_pddl_plan(plan, 0)"
   ]
  },
  {
   "cell_type": "markdown",
   "metadata": {},
   "source": [
    "## Debug"
   ]
  },
  {
   "cell_type": "markdown",
   "metadata": {},
   "source": [
    "# Sequence"
   ]
  },
  {
   "cell_type": "code",
   "execution_count": 23,
   "metadata": {},
   "outputs": [],
   "source": [
    "place_actions = [action for action in plan if action.name == 'place_element_on_structure']\n",
    "element_sequence = [ac.args[0] for ac in place_actions]"
   ]
  },
  {
   "cell_type": "code",
   "execution_count": 24,
   "metadata": {},
   "outputs": [
    {
     "data": {
      "text/plain": [
       "['b0', 'b1', 'b2', 'b3', 'b5', 'b6', 'b7', 'b8', 'b4']"
      ]
     },
     "execution_count": 24,
     "metadata": {},
     "output_type": "execute_result"
    }
   ],
   "source": [
    "process.assembly.sequence"
   ]
  },
  {
   "cell_type": "code",
   "execution_count": 25,
   "metadata": {},
   "outputs": [
    {
     "data": {
      "text/plain": [
       "['b0', 'b1', 'b2', 'b3', 'b5', 'b6', 'b7', 'b8', 'b4']"
      ]
     },
     "execution_count": 25,
     "metadata": {},
     "output_type": "execute_result"
    }
   ],
   "source": [
    "element_sequence"
   ]
  },
  {
   "cell_type": "code",
   "execution_count": 26,
   "metadata": {
    "tags": []
   },
   "outputs": [
    {
     "data": {
      "text/plain": [
       "[Action(name='place_element_on_structure', args=('b0', Frame(Point(19016.343, 9160.006, 279.218), Vector(0.000, 0.000, 1.000), Vector(-1.000, 0.000, 0.000)), Frame(Point(25496.239, 7136.104, 579.218), Vector(0.000, 1.000, 0.000), Vector(-1.000, 0.000, 0.000)), 'g1', Frame(Point(23439.739, 4480.771, 990.818), Vector(-0.000, 1.000, 0.000), Vector(1.000, 0.000, -0.000)), @conf335)),\n",
       " Action(name='place_element_on_structure', args=('b1', Frame(Point(19016.343, 8260.006, 3361.742), Vector(0.000, 0.000, -1.000), Vector(-1.000, 0.000, -0.000)), Frame(Point(25496.239, 7068.375, 579.218), Vector(0.000, 1.000, 0.000), Vector(-1.000, 0.000, 0.000)), 'g1', Frame(Point(23439.739, 4480.771, 990.818), Vector(-0.000, 1.000, 0.000), Vector(1.000, 0.000, -0.000)), @conf338)),\n",
       " Action(name='place_element_on_structure', args=('b2', Frame(Point(19016.343, 9455.953, 1810.165), Vector(-0.000, -0.986, -0.165), Vector(-1.000, 0.000, 0.000)), Frame(Point(25496.239, 7251.367, 579.218), Vector(0.000, 1.000, 0.000), Vector(-1.000, 0.000, 0.000)), 'g2', Frame(Point(23468.767, 4180.771, 990.818), Vector(-0.000, 1.000, 0.000), Vector(1.000, 0.000, -0.000)), @conf339)),\n",
       " Action(name='place_element_on_structure', args=('b3', Frame(Point(18916.343, 6657.248, 2190.109), Vector(-0.000, 0.920, 0.391), Vector(-0.000, -0.391, 0.920)), Frame(Point(25396.239, 7663.862, 579.218), Vector(0.000, 1.000, 0.000), Vector(-0.000, 0.000, 1.000)), 'g1', Frame(Point(23439.739, 4480.771, 990.818), Vector(-0.000, 1.000, 0.000), Vector(1.000, 0.000, -0.000)), @conf341)),\n",
       " Action(name='place_element_on_structure', args=('b5', Frame(Point(19716.343, 9160.006, 279.218), Vector(0.000, 0.000, 1.000), Vector(-1.000, 0.000, 0.000)), Frame(Point(25396.239, 6937.407, 579.218), Vector(0.000, 1.000, 0.000), Vector(-0.000, 0.000, 1.000)), 'g1', Frame(Point(23439.739, 4480.771, 990.818), Vector(-0.000, 1.000, 0.000), Vector(1.000, 0.000, -0.000)), @conf344)),\n",
       " Action(name='place_element_on_structure', args=('b6', Frame(Point(18787.590, 9060.006, 3003.201), Vector(0.423, -0.000, -0.906), Vector(-0.906, 0.000, -0.423)), Frame(Point(25496.239, 7195.544, 679.218), Vector(0.000, 1.000, 0.000), Vector(-0.000, 0.000, -1.000)), 'g1', Frame(Point(23439.739, 4480.771, 990.818), Vector(-0.000, 1.000, 0.000), Vector(1.000, 0.000, -0.000)), @conf345)),\n",
       " Action(name='place_element_on_structure', args=('b7', Frame(Point(19716.343, 8360.006, 279.218), Vector(0.000, 0.000, 1.000), Vector(-1.000, 0.000, 0.000)), Frame(Point(25496.239, 7278.145, 679.218), Vector(0.000, 1.000, 0.000), Vector(-0.000, 0.000, -1.000)), 'g1', Frame(Point(23439.739, 4480.771, 990.818), Vector(-0.000, 1.000, 0.000), Vector(1.000, 0.000, -0.000)), @conf348)),\n",
       " Action(name='place_element_on_structure', args=('b8', Frame(Point(19933.851, 8260.006, 2776.791), Vector(-0.423, -0.000, -0.906), Vector(-0.906, 0.000, 0.423)), Frame(Point(25396.239, 7198.035, 579.218), Vector(0.000, 1.000, 0.000), Vector(-0.000, 0.000, 1.000)), 'g1', Frame(Point(23439.739, 4480.771, 990.818), Vector(-0.000, 1.000, 0.000), Vector(1.000, 0.000, -0.000)), @conf349)),\n",
       " Action(name='place_element_on_structure', args=('b4', Frame(Point(19616.343, 9454.079, 1965.192), Vector(-0.000, -0.940, -0.341), Vector(0.000, 0.341, -0.940)), Frame(Point(25496.239, 7396.719, 679.218), Vector(0.000, 1.000, 0.000), Vector(-0.000, 0.000, -1.000)), 'g1', Frame(Point(23439.739, 4480.771, 990.818), Vector(-0.000, 1.000, 0.000), Vector(1.000, 0.000, -0.000)), @conf352))]"
      ]
     },
     "execution_count": 26,
     "metadata": {},
     "output_type": "execute_result"
    }
   ],
   "source": [
    "place_actions"
   ]
  },
  {
   "cell_type": "markdown",
   "metadata": {},
   "source": [
    "# Visualize sequence in a pybullet window"
   ]
  },
  {
   "cell_type": "code",
   "execution_count": null,
   "metadata": {
    "tags": []
   },
   "outputs": [],
   "source": [
    "from integral_timber_joints.planning.pddlstream_definitions.postprocessing import actions_from_pddlstream_plan\n",
    "\n",
    "actions_from_pddlstream_plan(process, plan, verbose=1)"
   ]
  },
  {
   "cell_type": "code",
   "execution_count": 105,
   "metadata": {},
   "outputs": [],
   "source": [
    "from integral_timber_joints.planning.robot_setup import load_RFL_world\n",
    "from integral_timber_joints.planning.run import set_initial_state\n",
    "\n",
    "# * Connect to path planning backend and initialize robot parameters\n",
    "# viewer or diagnosis or view_states or watch or step_sim,\n",
    "client, robot, _ = load_RFL_world(viewer=1, verbose=False)\n",
    "set_initial_state(client, robot, process, disable_env=False, reinit_tool=False)"
   ]
  },
  {
   "cell_type": "code",
   "execution_count": 18,
   "metadata": {},
   "outputs": [],
   "source": [
    "client.disconnect()"
   ]
  },
  {
   "cell_type": "code",
   "execution_count": null,
   "metadata": {
    "tags": []
   },
   "outputs": [],
   "source": [
    "from integral_timber_joints.planning.state import set_state\n",
    "from integral_timber_joints.process import RoboticMovement, RobotClampAssemblyProcess\n",
    "\n",
    "for m in process.movements:\n",
    "    print(m.short_summary)\n",
    "    start_state = process.get_movement_start_scene(m)\n",
    "    end_state = process.get_movement_end_scene(m)  \n",
    "    set_state(client, robot, process, end_state, initialize=False)\n",
    "#     pp.wait_if_gui('End state.')\n",
    "    pp.wait_for_duration(0.1)\n",
    "print('Finished.')"
   ]
  },
  {
   "cell_type": "markdown",
   "metadata": {},
   "source": [
    "## Construct symbolic PDDL problem"
   ]
  },
  {
   "cell_type": "code",
   "execution_count": 4,
   "metadata": {},
   "outputs": [
    {
     "name": "stdout",
     "output_type": "stream",
     "text": [
      "\u001b[33mUse Track IK: False\u001b[0m\n"
     ]
    }
   ],
   "source": [
    "from integral_timber_joints.planning.pddlstream_definitions.problem import get_pddlstream_problem\n",
    "from integral_timber_joints.planning.pddlstream_definitions import ITJ_PDDLSTREAM_DEF_DIR"
   ]
  },
  {
   "cell_type": "code",
   "execution_count": 19,
   "metadata": {},
   "outputs": [],
   "source": [
    "import json\n"
   ]
  },
  {
   "cell_type": "code",
   "execution_count": null,
   "metadata": {
    "tags": []
   },
   "outputs": [],
   "source": [
    "from integral_timber_joints.planning.pddlstream_definitions.caelan.run import get_itj_pddl_problem_from_json\n",
    "\n",
    "debug_pddl_problem = get_itj_pddl_problem_from_json(debug_problem_name, use_partial_order=True, debug=True)\n",
    "\n",
    "print()\n",
    "print('Goal:', debug_pddl_problem.goal)\n",
    "print()\n",
    "\n",
    "costs = True\n",
    "set_cost_scale(1)\n",
    "\n",
    "solution = solve(debug_pddl_problem, algorithm='adaptive', #incremental\n",
    "                 max_time=60,\n",
    "                 unit_costs=True,\n",
    "                 max_planner_time=300, \n",
    "                 debug=0, verbose=0) #, planner=discrete_planner)\n",
    "\n",
    "plan, cost, evaluations = solution\n",
    "plan_success = is_plan(plan)\n",
    "cprint('Planning {}'.format('succeeds' if plan_success else 'fails'), 'green' if plan_success else 'red')\n",
    "\n",
    "print('-'*10)\n",
    "print_plan(plan)"
   ]
  },
  {
   "cell_type": "markdown",
   "metadata": {},
   "source": [
    "# Misc"
   ]
  },
  {
   "cell_type": "code",
   "execution_count": 25,
   "metadata": {},
   "outputs": [],
   "source": [
    "# from pddlstream.algorithms.algorithm import parse_problem\n",
    "# from pddlstream.algorithms.constraints import PlanConstraints\n",
    "# from pddlstream.algorithms.downward import get_problem, task_from_domain_problem\n",
    "# from pddlstream.algorithms.meta import examine_instantiated\n",
    "\n",
    "# pddlstream_problem = get_pddlstream_problem(process, use_partial_order=True, debug=False,\n",
    "#                                             reset_to_home=False)\n",
    "\n",
    "# print(pddlstream_problem.goal)\n",
    "\n",
    "# results, instantiated = examine_instantiated(pddlstream_problem, unit_costs=1, verbose=0, debug=1)"
   ]
  }
 ],
 "metadata": {
  "kernelspec": {
   "display_name": "Python 3 (ipykernel)",
   "language": "python",
   "name": "python3"
  },
  "language_info": {
   "codemirror_mode": {
    "name": "ipython",
    "version": 3
   },
   "file_extension": ".py",
   "mimetype": "text/x-python",
   "name": "python",
   "nbconvert_exporter": "python",
   "pygments_lexer": "ipython3",
   "version": "3.7.9"
  },
  "metadata": {
   "interpreter": {
    "hash": "742396f8abfd15506fd5537870b226a29245815e58899b5be3a686185469d15a"
   }
  }
 },
 "nbformat": 4,
 "nbformat_minor": 4
}
