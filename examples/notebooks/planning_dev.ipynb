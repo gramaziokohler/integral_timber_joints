{
 "cells": [
  {
   "cell_type": "code",
   "execution_count": 1,
   "id": "lyric-lounge",
   "metadata": {},
   "outputs": [],
   "source": [
    "# https://ipython.org/ipython-doc/3/config/extensions/``autoreload.html\n",
    "%load_ext autoreload\n",
    "%autoreload 2"
   ]
  },
  {
   "cell_type": "markdown",
   "id": "selective-assembly",
   "metadata": {},
   "source": [
    "## Options"
   ]
  },
  {
   "cell_type": "code",
   "execution_count": 2,
   "id": "enabling-institute",
   "metadata": {},
   "outputs": [],
   "source": [
    "# parse options\n",
    "design_dir = '210605_ScrewdriverTestProcess'\n",
    "problem = 'nine_pieces_process.json' # 'pavilion_process.json' # 'twelve_pieces_process.json'\n",
    "problem_subdir = 'results'\n",
    "\n",
    "recompute_action_states = False\n",
    "load_external_movements = False"
   ]
  },
  {
   "cell_type": "code",
   "execution_count": 3,
   "id": "oriental-archives",
   "metadata": {},
   "outputs": [],
   "source": [
    "# client options\n",
    "disable_env = False\n",
    "reinit_tool = False"
   ]
  },
  {
   "cell_type": "code",
   "execution_count": 4,
   "id": "individual-queensland",
   "metadata": {},
   "outputs": [],
   "source": [
    "from collections import namedtuple\n",
    "PlanningArguments = namedtuple('PlanningArguments', ['design_dir', 'problem', 'viewer', 'debug', 'diagnosis', 'id_only', 'solve_mode', 'viz_upon_found', \n",
    "                                             'save_now', 'write', 'plan_impacted', 'watch', 'step_sim', 'verbose'])\n",
    "# args = PlanningArguments(problem, viewer, debug, diagnosis, id_only, solve_mode, viz_upon_found, save_now, write, plan_impacted, watch, step_sim, verbose)"
   ]
  },
  {
   "cell_type": "markdown",
   "id": "blocked-number",
   "metadata": {},
   "source": [
    "## Parse process from json"
   ]
  },
  {
   "cell_type": "code",
   "execution_count": 5,
   "id": "fiscal-inclusion",
   "metadata": {},
   "outputs": [],
   "source": [
    "import os\n",
    "from termcolor import cprint\n",
    "import pybullet_planning as pp\n",
    "from integral_timber_joints.planning.parsing import parse_process, save_process_and_movements, get_process_path, save_process"
   ]
  },
  {
   "cell_type": "code",
   "execution_count": 6,
   "id": "pregnant-hometown",
   "metadata": {},
   "outputs": [
    {
     "name": "stdout",
     "output_type": "stream",
     "text": [
      "\u001b[33mNo temp process file found, using the original one.\u001b[0m\n",
      "\u001b[34mProcess json parsed from c:\\users\\harry\\dropbox (mit)\\code_ws_dropbox\\itj_ws\\integral_timber_joints\\external\\itj_design_study\\210605_ScrewdriverTestProcess\\nine_pieces_process.json\u001b[0m\n"
     ]
    }
   ],
   "source": [
    "process = parse_process(design_dir, problem, subdir=problem_subdir)\n",
    "result_path = get_process_path(design_dir, problem, subdir='results')\n",
    "\n",
    "# Double check entire solution is valid\n",
    "for beam_id in process.assembly.sequence:\n",
    "    if not process.dependency.beam_all_valid(beam_id):\n",
    "        process.dependency.compute_all(beam_id)\n",
    "        assert process.dependency.beam_all_valid(beam_id)"
   ]
  },
  {
   "cell_type": "code",
   "execution_count": 7,
   "id": "wireless-forth",
   "metadata": {},
   "outputs": [],
   "source": [
    "from copy import deepcopy\n",
    "unsolved_process = deepcopy(process)"
   ]
  },
  {
   "cell_type": "markdown",
   "id": "wired-sympathy",
   "metadata": {},
   "source": [
    "## Start client"
   ]
  },
  {
   "cell_type": "code",
   "execution_count": 8,
   "id": "sensitive-spread",
   "metadata": {},
   "outputs": [
    {
     "name": "stdout",
     "output_type": "stream",
     "text": [
      "\u001b[33mUse Track IK: False\u001b[0m\n"
     ]
    }
   ],
   "source": [
    "from integral_timber_joints.planning.robot_setup import load_RFL_world\n",
    "from integral_timber_joints.planning.run import set_initial_state\n",
    "\n",
    "# * Connect to path planning backend and initialize robot parameters\n",
    "# viewer or diagnosis or view_states or watch or step_sim,\n",
    "client, robot, _ = load_RFL_world(viewer=1, verbose=False)\n",
    "set_initial_state(client, robot, process, disable_env=disable_env, reinit_tool=False)"
   ]
  },
  {
   "cell_type": "code",
   "execution_count": 10,
   "id": "italic-elder",
   "metadata": {},
   "outputs": [],
   "source": [
    "client.disconnect()"
   ]
  },
  {
   "cell_type": "code",
   "execution_count": 9,
   "id": "physical-veteran",
   "metadata": {},
   "outputs": [],
   "source": [
    "from integral_timber_joints.planning.robot_setup import GANTRY_ARM_GROUP, GANTRY_GROUP, BARE_ARM_GROUP\n",
    "from compas.robots import Joint\n",
    "import numpy as np\n",
    "\n",
    "joint_names = robot.get_configurable_joint_names(group=GANTRY_ARM_GROUP)\n",
    "joint_types = robot.get_joint_types_by_names(joint_names)\n",
    "# 0.1 rad = 5.7 deg\n",
    "joint_jump_threshold = {jt_name : np.pi/6 \\\n",
    "        if jt_type in [Joint.REVOLUTE, Joint.CONTINUOUS] else 0.1 \\\n",
    "        for jt_name, jt_type in zip(joint_names, joint_types)}"
   ]
  },
  {
   "cell_type": "markdown",
   "id": "swiss-gasoline",
   "metadata": {},
   "source": [
    "## Reset process and client"
   ]
  },
  {
   "cell_type": "code",
   "execution_count": 22,
   "id": "palestinian-passport",
   "metadata": {},
   "outputs": [
    {
     "name": "stdout",
     "output_type": "stream",
     "text": [
      "Deepcopy time: 1.47656\n"
     ]
    }
   ],
   "source": [
    "from copy import copy, deepcopy\n",
    "import time\n",
    "\n",
    "start_time = time.time()\n",
    "process = deepcopy(unsolved_process)\n",
    "print('Deepcopy time: {:.5f}'.format(time.time() - start_time))"
   ]
  },
  {
   "cell_type": "code",
   "execution_count": 16,
   "id": "d6b67e38",
   "metadata": {},
   "outputs": [],
   "source": [
    "# ## remove all taught confs\n",
    "# for m in process.movements:\n",
    "#     m.end_state['robot'].kinematic_config = None"
   ]
  },
  {
   "cell_type": "code",
   "execution_count": 10,
   "id": "forward-relay",
   "metadata": {},
   "outputs": [
    {
     "name": "stdout",
     "output_type": "stream",
     "text": [
      "=====\n",
      "Summary:\n",
      "---\n",
      "(0) \u001b[46m\u001b[33mRoboticFreeMovement(#A10_M0, Free Move reach Storage Approach Frame of CL3M ('c3'), to get clamp., traj 0)\u001b[0m \n",
      "priority \u001b[35m0\u001b[0m | has start conf \u001b[31mFalse\u001b[0m, TCP \u001b[32mTrue\u001b[0m | has end conf \u001b[31mFalse\u001b[0m, TCP \u001b[32mTrue\u001b[0m | has traj \u001b[31mNone\u001b[0m\n",
      "---\n",
      "(1) \u001b[44m\u001b[37mRoboticLinearMovement(#A10_M1, Linear Advance to Storage Frame of CL3M ('c3'), to get tool., traj 0)\u001b[0m \n",
      "priority \u001b[35m0\u001b[0m | has start conf \u001b[31mFalse\u001b[0m, TCP \u001b[32mTrue\u001b[0m | has end conf \u001b[31mFalse\u001b[0m, TCP \u001b[32mTrue\u001b[0m | has traj \u001b[31mNone\u001b[0m\n",
      "---\n",
      "(2) RoboticDigitalOutput(#A10_M2, Toolchanger Lock CL3M ('c3')) \n",
      "priority \u001b[37m-1\u001b[0m | has start conf \u001b[31mFalse\u001b[0m, TCP \u001b[32mTrue\u001b[0m | has end conf \u001b[31mFalse\u001b[0m, TCP \u001b[32mTrue\u001b[0m\n",
      "---\n",
      "(3) RoboticDigitalOutput(#A10_M3, CL3M ('c3') Open Gripper to release itself from storage pad.) \n",
      "priority \u001b[37m-1\u001b[0m | has start conf \u001b[31mFalse\u001b[0m, TCP \u001b[32mTrue\u001b[0m | has end conf \u001b[31mFalse\u001b[0m, TCP \u001b[32mTrue\u001b[0m\n",
      "---\n",
      "(4) \u001b[44m\u001b[37mRoboticLinearMovement(#A10_M4, Linear Retract 1 of 2 after getting CL3M ('c3') from storage., traj 0)\u001b[0m \n",
      "priority \u001b[35m0\u001b[0m | has start conf \u001b[31mFalse\u001b[0m, TCP \u001b[32mTrue\u001b[0m | has end conf \u001b[31mFalse\u001b[0m, TCP \u001b[32mTrue\u001b[0m | has traj \u001b[31mNone\u001b[0m\n",
      "---\n",
      "(5) \u001b[44m\u001b[37mRoboticLinearMovement(#A10_M5, Linear Retract 2 of 2 after getting CL3M ('c3') from storage., traj 0)\u001b[0m \n",
      "priority \u001b[35m0\u001b[0m | has start conf \u001b[31mFalse\u001b[0m, TCP \u001b[32mTrue\u001b[0m | has end conf \u001b[31mFalse\u001b[0m, TCP \u001b[32mTrue\u001b[0m | has traj \u001b[31mNone\u001b[0m\n",
      "---\n",
      "(6) \u001b[46m\u001b[33mRoboticFreeMovement(#A11_M0, Free Move to bring CL3M ('c3') to structure., traj 0)\u001b[0m \n",
      "priority \u001b[35m0\u001b[0m | has start conf \u001b[31mFalse\u001b[0m, TCP \u001b[32mTrue\u001b[0m | has end conf \u001b[31mFalse\u001b[0m, TCP \u001b[32mTrue\u001b[0m | has traj \u001b[31mNone\u001b[0m\n",
      "---\n",
      "(7) \u001b[44m\u001b[37mRoboticLinearMovement(#A11_M1, Linear Approach 1 of 2 to attach CL3M ('c3') to structure., traj 0)\u001b[0m \n",
      "priority \u001b[35m0\u001b[0m | has start conf \u001b[31mFalse\u001b[0m, TCP \u001b[32mTrue\u001b[0m | has end conf \u001b[31mFalse\u001b[0m, TCP \u001b[32mTrue\u001b[0m | has traj \u001b[31mNone\u001b[0m\n",
      "---\n",
      "(8) \u001b[44m\u001b[37mRoboticLinearMovement(#A11_M2, Linear Approach 2 of 2 to attach CL3M ('c3') to structure., traj 0)\u001b[0m \n",
      "priority \u001b[35m0\u001b[0m | has start conf \u001b[31mFalse\u001b[0m, TCP \u001b[32mTrue\u001b[0m | has end conf \u001b[31mFalse\u001b[0m, TCP \u001b[32mTrue\u001b[0m | has traj \u001b[31mNone\u001b[0m\n",
      "---\n",
      "(9) RoboticDigitalOutput(#A11_M3, CL3M ('c3') Close Gripper and attach to structure.) \n",
      "priority \u001b[37m-1\u001b[0m | has start conf \u001b[31mFalse\u001b[0m, TCP \u001b[32mTrue\u001b[0m | has end conf \u001b[31mFalse\u001b[0m, TCP \u001b[32mTrue\u001b[0m\n",
      "---\n",
      "(10) RoboticDigitalOutput(#A11_M4, Toolchanger Unlock CL3M ('c3').) \n",
      "priority \u001b[37m-1\u001b[0m | has start conf \u001b[31mFalse\u001b[0m, TCP \u001b[32mTrue\u001b[0m | has end conf \u001b[31mFalse\u001b[0m, TCP \u001b[32mTrue\u001b[0m\n",
      "---\n",
      "(11) \u001b[44m\u001b[37mRoboticLinearMovement(#A11_M5, Linear Retract after attaching CL3M ('c3') on structure, traj 0)\u001b[0m \n",
      "priority \u001b[35m0\u001b[0m | has start conf \u001b[31mFalse\u001b[0m, TCP \u001b[32mTrue\u001b[0m | has end conf \u001b[31mFalse\u001b[0m, TCP \u001b[32mTrue\u001b[0m | has traj \u001b[31mNone\u001b[0m\n",
      "---\n",
      "(12) \u001b[46m\u001b[33mRoboticFreeMovement(#A12_M0, Free Move reach Storage Approach Frame of CL3M ('c4'), to get clamp., traj 0)\u001b[0m \n",
      "priority \u001b[35m0\u001b[0m | has start conf \u001b[31mFalse\u001b[0m, TCP \u001b[32mTrue\u001b[0m | has end conf \u001b[31mFalse\u001b[0m, TCP \u001b[32mTrue\u001b[0m | has traj \u001b[31mNone\u001b[0m\n",
      "---\n",
      "(13) \u001b[44m\u001b[37mRoboticLinearMovement(#A12_M1, Linear Advance to Storage Frame of CL3M ('c4'), to get tool., traj 0)\u001b[0m \n",
      "priority \u001b[35m0\u001b[0m | has start conf \u001b[31mFalse\u001b[0m, TCP \u001b[32mTrue\u001b[0m | has end conf \u001b[31mFalse\u001b[0m, TCP \u001b[32mTrue\u001b[0m | has traj \u001b[31mNone\u001b[0m\n",
      "---\n",
      "(14) RoboticDigitalOutput(#A12_M2, Toolchanger Lock CL3M ('c4')) \n",
      "priority \u001b[37m-1\u001b[0m | has start conf \u001b[31mFalse\u001b[0m, TCP \u001b[32mTrue\u001b[0m | has end conf \u001b[31mFalse\u001b[0m, TCP \u001b[32mTrue\u001b[0m\n",
      "---\n",
      "(15) RoboticDigitalOutput(#A12_M3, CL3M ('c4') Open Gripper to release itself from storage pad.) \n",
      "priority \u001b[37m-1\u001b[0m | has start conf \u001b[31mFalse\u001b[0m, TCP \u001b[32mTrue\u001b[0m | has end conf \u001b[31mFalse\u001b[0m, TCP \u001b[32mTrue\u001b[0m\n",
      "---\n",
      "(16) \u001b[44m\u001b[37mRoboticLinearMovement(#A12_M4, Linear Retract 1 of 2 after getting CL3M ('c4') from storage., traj 0)\u001b[0m \n",
      "priority \u001b[35m0\u001b[0m | has start conf \u001b[31mFalse\u001b[0m, TCP \u001b[32mTrue\u001b[0m | has end conf \u001b[31mFalse\u001b[0m, TCP \u001b[32mTrue\u001b[0m | has traj \u001b[31mNone\u001b[0m\n",
      "---\n",
      "(17) \u001b[44m\u001b[37mRoboticLinearMovement(#A12_M5, Linear Retract 2 of 2 after getting CL3M ('c4') from storage., traj 0)\u001b[0m \n",
      "priority \u001b[35m0\u001b[0m | has start conf \u001b[31mFalse\u001b[0m, TCP \u001b[32mTrue\u001b[0m | has end conf \u001b[31mFalse\u001b[0m, TCP \u001b[32mTrue\u001b[0m | has traj \u001b[31mNone\u001b[0m\n",
      "---\n",
      "(18) \u001b[46m\u001b[33mRoboticFreeMovement(#A13_M0, Free Move to bring CL3M ('c4') to structure., traj 0)\u001b[0m \n",
      "priority \u001b[35m0\u001b[0m | has start conf \u001b[31mFalse\u001b[0m, TCP \u001b[32mTrue\u001b[0m | has end conf \u001b[31mFalse\u001b[0m, TCP \u001b[32mTrue\u001b[0m | has traj \u001b[31mNone\u001b[0m\n",
      "---\n",
      "(19) \u001b[44m\u001b[37mRoboticLinearMovement(#A13_M1, Linear Approach 1 of 2 to attach CL3M ('c4') to structure., traj 0)\u001b[0m \n",
      "priority \u001b[35m0\u001b[0m | has start conf \u001b[31mFalse\u001b[0m, TCP \u001b[32mTrue\u001b[0m | has end conf \u001b[31mFalse\u001b[0m, TCP \u001b[32mTrue\u001b[0m | has traj \u001b[31mNone\u001b[0m\n",
      "---\n",
      "(20) \u001b[44m\u001b[37mRoboticLinearMovement(#A13_M2, Linear Approach 2 of 2 to attach CL3M ('c4') to structure., traj 0)\u001b[0m \n",
      "priority \u001b[35m0\u001b[0m | has start conf \u001b[31mFalse\u001b[0m, TCP \u001b[32mTrue\u001b[0m | has end conf \u001b[31mFalse\u001b[0m, TCP \u001b[32mTrue\u001b[0m | has traj \u001b[31mNone\u001b[0m\n",
      "---\n",
      "(21) RoboticDigitalOutput(#A13_M3, CL3M ('c4') Close Gripper and attach to structure.) \n",
      "priority \u001b[37m-1\u001b[0m | has start conf \u001b[31mFalse\u001b[0m, TCP \u001b[32mTrue\u001b[0m | has end conf \u001b[31mFalse\u001b[0m, TCP \u001b[32mTrue\u001b[0m\n",
      "---\n",
      "(22) RoboticDigitalOutput(#A13_M4, Toolchanger Unlock CL3M ('c4').) \n",
      "priority \u001b[37m-1\u001b[0m | has start conf \u001b[31mFalse\u001b[0m, TCP \u001b[32mTrue\u001b[0m | has end conf \u001b[31mFalse\u001b[0m, TCP \u001b[32mTrue\u001b[0m\n",
      "---\n",
      "(23) \u001b[44m\u001b[37mRoboticLinearMovement(#A13_M5, Linear Retract after attaching CL3M ('c4') on structure, traj 0)\u001b[0m \n",
      "priority \u001b[35m0\u001b[0m | has start conf \u001b[31mFalse\u001b[0m, TCP \u001b[32mTrue\u001b[0m | has end conf \u001b[31mFalse\u001b[0m, TCP \u001b[32mTrue\u001b[0m | has traj \u001b[31mNone\u001b[0m\n",
      "---\n",
      "(24) OperatorLoadBeamMovement(#A14_M0, Opeartor Load Beam (b2) to Pickup Location) \n",
      "priority \u001b[37m-1\u001b[0m | has start conf \u001b[31mFalse\u001b[0m, TCP \u001b[32mTrue\u001b[0m | has end conf \u001b[31mFalse\u001b[0m, TCP \u001b[32mTrue\u001b[0m\n",
      "---\n",
      "(25) \u001b[46m\u001b[33mRoboticFreeMovement(#A15_M0, Free Move reach Storage Approach Frame of PG1000 ('g2'), to get tool., traj 0)\u001b[0m \n",
      "priority \u001b[35m0\u001b[0m | has start conf \u001b[31mFalse\u001b[0m, TCP \u001b[32mTrue\u001b[0m | has end conf \u001b[31mFalse\u001b[0m, TCP \u001b[32mTrue\u001b[0m | has traj \u001b[31mNone\u001b[0m\n",
      "---\n",
      "(26) \u001b[44m\u001b[37mRoboticLinearMovement(#A15_M1, Linear Advance to Storage Frame of PG1000 ('g2'), to get tool., traj 0)\u001b[0m \n",
      "priority \u001b[35m0\u001b[0m | has start conf \u001b[31mFalse\u001b[0m, TCP \u001b[32mTrue\u001b[0m | has end conf \u001b[31mFalse\u001b[0m, TCP \u001b[32mTrue\u001b[0m | has traj \u001b[31mNone\u001b[0m\n",
      "---\n",
      "(27) RoboticDigitalOutput(#A15_M2, Toolchanger Lock PG1000 ('g2')) \n",
      "priority \u001b[37m-1\u001b[0m | has start conf \u001b[31mFalse\u001b[0m, TCP \u001b[32mTrue\u001b[0m | has end conf \u001b[31mFalse\u001b[0m, TCP \u001b[32mTrue\u001b[0m\n",
      "---\n",
      "(28) RoboticDigitalOutput(#A15_M3, PG1000 ('g2') Open Gripper to release itself from storage pad.) \n",
      "priority \u001b[37m-1\u001b[0m | has start conf \u001b[31mFalse\u001b[0m, TCP \u001b[32mTrue\u001b[0m | has end conf \u001b[31mFalse\u001b[0m, TCP \u001b[32mTrue\u001b[0m\n",
      "---\n",
      "(29) \u001b[44m\u001b[37mRoboticLinearMovement(#A15_M4, Linear Retract after getting PG1000 ('g2') from storage., traj 0)\u001b[0m \n",
      "priority \u001b[35m0\u001b[0m | has start conf \u001b[31mFalse\u001b[0m, TCP \u001b[32mTrue\u001b[0m | has end conf \u001b[31mFalse\u001b[0m, TCP \u001b[32mTrue\u001b[0m | has traj \u001b[31mNone\u001b[0m\n",
      "---\n",
      "(30) \u001b[46m\u001b[33mRoboticFreeMovement(#A16_M0, Free Move to reach Pickup Approach Frame of Beam ('b2'), traj 0)\u001b[0m \n",
      "priority \u001b[35m0\u001b[0m | has start conf \u001b[31mFalse\u001b[0m, TCP \u001b[32mTrue\u001b[0m | has end conf \u001b[31mFalse\u001b[0m, TCP \u001b[32mTrue\u001b[0m | has traj \u001b[31mNone\u001b[0m\n",
      "---\n",
      "(31) RoboticDigitalOutput(#A16_M1, Gripper ('g2') Open Gripper before gripping Beam ('b2')) \n",
      "priority \u001b[37m-1\u001b[0m | has start conf \u001b[31mFalse\u001b[0m, TCP \u001b[32mTrue\u001b[0m | has end conf \u001b[31mFalse\u001b[0m, TCP \u001b[32mTrue\u001b[0m\n",
      "---\n",
      "(32) \u001b[44m\u001b[37mRoboticLinearMovement(#A16_M2, Linear Advance to Storage Frame of Beam ('b2'), traj 0)\u001b[0m \n",
      "priority \u001b[35m0\u001b[0m | has start conf \u001b[31mFalse\u001b[0m, TCP \u001b[32mTrue\u001b[0m | has end conf \u001b[31mFalse\u001b[0m, TCP \u001b[32mTrue\u001b[0m | has traj \u001b[31mNone\u001b[0m\n",
      "---\n",
      "(33) RoboticDigitalOutput(#A16_M3, Gripper ('g2') Close Gripper to grip Beam ('b2')) \n",
      "priority \u001b[37m-1\u001b[0m | has start conf \u001b[31mFalse\u001b[0m, TCP \u001b[32mTrue\u001b[0m | has end conf \u001b[31mFalse\u001b[0m, TCP \u001b[32mTrue\u001b[0m\n",
      "---\n",
      "(34) \u001b[44m\u001b[37mRoboticLinearMovement(#A16_M4, Linear Retract after picking up Beam ('b2'), traj 0)\u001b[0m \n",
      "priority \u001b[35m0\u001b[0m | has start conf \u001b[31mFalse\u001b[0m, TCP \u001b[32mTrue\u001b[0m | has end conf \u001b[31mFalse\u001b[0m, TCP \u001b[32mTrue\u001b[0m | has traj \u001b[31mNone\u001b[0m\n",
      "---\n",
      "(35) \u001b[46m\u001b[33mRoboticFreeMovement(#A17_M0, Free Move to bring Beam ('b2') to approach clamps on structure., traj 0)\u001b[0m \n",
      "priority \u001b[35m0\u001b[0m | has start conf \u001b[31mFalse\u001b[0m, TCP \u001b[32mTrue\u001b[0m | has end conf \u001b[31mFalse\u001b[0m, TCP \u001b[32mTrue\u001b[0m | has traj \u001b[31mNone\u001b[0m\n",
      "---\n",
      "(36) \u001b[44m\u001b[37mRoboticLinearMovement(#A17_M1, Linear Advance to bring Beam ('b2') into clamp jaws, traj 0)\u001b[0m \n",
      "priority \u001b[35m0\u001b[0m | has start conf \u001b[31mFalse\u001b[0m, TCP \u001b[32mTrue\u001b[0m | has end conf \u001b[31mFalse\u001b[0m, TCP \u001b[32mTrue\u001b[0m | has traj \u001b[31mNone\u001b[0m\n",
      "---\n",
      "(37) ClampsJawMovement(#A17_M2, Clamps (['c3', 'c4']) close slightly to touch Beam ('b2')) \n",
      "priority \u001b[37m-1\u001b[0m | has start conf \u001b[31mFalse\u001b[0m, TCP \u001b[32mTrue\u001b[0m | has end conf \u001b[31mFalse\u001b[0m, TCP \u001b[32mTrue\u001b[0m\n",
      "---\n",
      "(38) RoboticClampSyncLinearMovement(#A17_M3, Robot and Clamps (['c3', 'c4']) syncronously move to clamp Beam ('b2'), traj 0) \n",
      "priority \u001b[34m1\u001b[0m | has start conf \u001b[31mFalse\u001b[0m, TCP \u001b[32mTrue\u001b[0m | has end conf \u001b[31mFalse\u001b[0m, TCP \u001b[32mTrue\u001b[0m | has traj \u001b[31mNone\u001b[0m\n",
      "---\n",
      "(39) RoboticDigitalOutput(#A17_M4, Open Gripper ('g2') and let go of Beam ('b2')) \n",
      "priority \u001b[37m-1\u001b[0m | has start conf \u001b[31mFalse\u001b[0m, TCP \u001b[32mTrue\u001b[0m | has end conf \u001b[31mFalse\u001b[0m, TCP \u001b[32mTrue\u001b[0m\n",
      "---\n",
      "(40) \u001b[44m\u001b[37mRoboticLinearMovement(#A17_M5, Linear retract after placing Beam ('b2'), traj 0)\u001b[0m \n",
      "priority \u001b[35m0\u001b[0m | has start conf \u001b[31mFalse\u001b[0m, TCP \u001b[32mTrue\u001b[0m | has end conf \u001b[31mFalse\u001b[0m, TCP \u001b[32mTrue\u001b[0m | has traj \u001b[31mNone\u001b[0m\n",
      "---\n",
      "(41) \u001b[46m\u001b[33mRoboticFreeMovement(#A18_M0, Free Move to reach Storage Approach Frame of PG1000 ('g2'), to place tool in storage., traj 0)\u001b[0m \n",
      "priority \u001b[35m0\u001b[0m | has start conf \u001b[31mFalse\u001b[0m, TCP \u001b[32mTrue\u001b[0m | has end conf \u001b[31mFalse\u001b[0m, TCP \u001b[32mTrue\u001b[0m | has traj \u001b[31mNone\u001b[0m\n",
      "---\n",
      "(42) \u001b[44m\u001b[37mRoboticLinearMovement(#A18_M1, Linear Advance to Storage Frame of PG1000 ('g2'), to place tool in storage., traj 0)\u001b[0m \n",
      "priority \u001b[35m0\u001b[0m | has start conf \u001b[31mFalse\u001b[0m, TCP \u001b[32mTrue\u001b[0m | has end conf \u001b[31mFalse\u001b[0m, TCP \u001b[32mTrue\u001b[0m | has traj \u001b[31mNone\u001b[0m\n",
      "---\n",
      "(43) RoboticDigitalOutput(#A18_M2, PG1000 ('g2') Close Gripper to lock onto storage pad.) \n",
      "priority \u001b[37m-1\u001b[0m | has start conf \u001b[31mFalse\u001b[0m, TCP \u001b[32mTrue\u001b[0m | has end conf \u001b[31mFalse\u001b[0m, TCP \u001b[32mTrue\u001b[0m\n",
      "---\n",
      "(44) RoboticDigitalOutput(#A18_M3, Toolchanger Unlock PG1000 ('g2')) \n",
      "priority \u001b[37m-1\u001b[0m | has start conf \u001b[31mFalse\u001b[0m, TCP \u001b[32mTrue\u001b[0m | has end conf \u001b[31mFalse\u001b[0m, TCP \u001b[32mTrue\u001b[0m\n",
      "---\n",
      "(45) \u001b[44m\u001b[37mRoboticLinearMovement(#A18_M4, Linear Retract from storage after placing PG1000 ('g2') in storage, traj 0)\u001b[0m \n",
      "priority \u001b[35m0\u001b[0m | has start conf \u001b[31mFalse\u001b[0m, TCP \u001b[32mTrue\u001b[0m | has end conf \u001b[31mFalse\u001b[0m, TCP \u001b[32mTrue\u001b[0m | has traj \u001b[31mNone\u001b[0m\n",
      "---\n",
      "(46) \u001b[46m\u001b[33mRoboticFreeMovement(#A19_M0, Free Move to reach CL3M ('c4') to detach it from structure., traj 0)\u001b[0m \n",
      "priority \u001b[35m0\u001b[0m | has start conf \u001b[31mFalse\u001b[0m, TCP \u001b[32mTrue\u001b[0m | has end conf \u001b[31mFalse\u001b[0m, TCP \u001b[32mTrue\u001b[0m | has traj \u001b[31mNone\u001b[0m\n",
      "---\n",
      "(47) \u001b[44m\u001b[37mRoboticLinearMovement(#A19_M1, Linear Advance to mate toolchanger of CL3M ('c4') to detach it from structure., traj 0)\u001b[0m \n",
      "priority \u001b[35m0\u001b[0m | has start conf \u001b[31mFalse\u001b[0m, TCP \u001b[32mTrue\u001b[0m | has end conf \u001b[31mFalse\u001b[0m, TCP \u001b[32mTrue\u001b[0m | has traj \u001b[31mNone\u001b[0m\n",
      "---\n",
      "(48) RoboticDigitalOutput(#A19_M2, Toolchanger Lock CL3M ('c4')) \n",
      "priority \u001b[37m-1\u001b[0m | has start conf \u001b[31mFalse\u001b[0m, TCP \u001b[32mTrue\u001b[0m | has end conf \u001b[31mFalse\u001b[0m, TCP \u001b[32mTrue\u001b[0m\n",
      "---\n",
      "(49) ClampsJawMovement(#A19_M3, CL3M ('c4') Open Clamp Jaws to be released.) \n",
      "priority \u001b[37m-1\u001b[0m | has start conf \u001b[31mFalse\u001b[0m, TCP \u001b[32mTrue\u001b[0m | has end conf \u001b[31mFalse\u001b[0m, TCP \u001b[32mTrue\u001b[0m\n",
      "---\n",
      "(50) RoboticDigitalOutput(#A19_M4, CL3M ('c4') Open Gripper to be released from structure.) \n",
      "priority \u001b[37m-1\u001b[0m | has start conf \u001b[31mFalse\u001b[0m, TCP \u001b[32mTrue\u001b[0m | has end conf \u001b[31mFalse\u001b[0m, TCP \u001b[32mTrue\u001b[0m\n",
      "---\n",
      "(51) \u001b[44m\u001b[37mRoboticLinearMovement(#A19_M5, Linear Retract 1 of 2 to storage after picking up CL3M ('c4') from structure., traj 0)\u001b[0m \n",
      "priority \u001b[35m0\u001b[0m | has start conf \u001b[31mFalse\u001b[0m, TCP \u001b[32mTrue\u001b[0m | has end conf \u001b[31mFalse\u001b[0m, TCP \u001b[32mTrue\u001b[0m | has traj \u001b[31mNone\u001b[0m\n",
      "---\n",
      "(52) \u001b[44m\u001b[37mRoboticLinearMovement(#A19_M6, Linear Retract 2 of 2 to storage after picking up CL3M ('c4') from structure., traj 0)\u001b[0m \n",
      "priority \u001b[35m0\u001b[0m | has start conf \u001b[31mFalse\u001b[0m, TCP \u001b[32mTrue\u001b[0m | has end conf \u001b[31mFalse\u001b[0m, TCP \u001b[32mTrue\u001b[0m | has traj \u001b[31mNone\u001b[0m\n",
      "---\n",
      "(53) \u001b[46m\u001b[33mRoboticFreeMovement(#A20_M0, Free Move reach Storage Approach Frame of CL3M ('c4'), to place clamp in storage., traj 0)\u001b[0m \n",
      "priority \u001b[35m0\u001b[0m | has start conf \u001b[31mFalse\u001b[0m, TCP \u001b[32mTrue\u001b[0m | has end conf \u001b[31mFalse\u001b[0m, TCP \u001b[32mTrue\u001b[0m | has traj \u001b[31mNone\u001b[0m\n",
      "---\n",
      "(54) \u001b[44m\u001b[37mRoboticLinearMovement(#A20_M1, Linear Approach 1 of 2 to place CL3M ('c4') in storage., traj 0)\u001b[0m \n",
      "priority \u001b[35m0\u001b[0m | has start conf \u001b[31mFalse\u001b[0m, TCP \u001b[32mTrue\u001b[0m | has end conf \u001b[31mFalse\u001b[0m, TCP \u001b[32mTrue\u001b[0m | has traj \u001b[31mNone\u001b[0m\n",
      "---\n",
      "(55) \u001b[44m\u001b[37mRoboticLinearMovement(#A20_M2, Linear Approach 2 of 2 to place CL3M ('c4') in storage., traj 0)\u001b[0m \n",
      "priority \u001b[35m0\u001b[0m | has start conf \u001b[31mFalse\u001b[0m, TCP \u001b[32mTrue\u001b[0m | has end conf \u001b[31mFalse\u001b[0m, TCP \u001b[32mTrue\u001b[0m | has traj \u001b[31mNone\u001b[0m\n",
      "---\n",
      "(56) RoboticDigitalOutput(#A20_M3, Close Gripper to lock CL3M ('c4') onto storage pad.) \n",
      "priority \u001b[37m-1\u001b[0m | has start conf \u001b[31mFalse\u001b[0m, TCP \u001b[32mTrue\u001b[0m | has end conf \u001b[31mFalse\u001b[0m, TCP \u001b[32mTrue\u001b[0m\n",
      "---\n",
      "(57) RoboticDigitalOutput(#A20_M4, Toolchanger Unlock CL3M ('c4')) \n",
      "priority \u001b[37m-1\u001b[0m | has start conf \u001b[31mFalse\u001b[0m, TCP \u001b[32mTrue\u001b[0m | has end conf \u001b[31mFalse\u001b[0m, TCP \u001b[32mTrue\u001b[0m\n",
      "---\n",
      "(58) \u001b[44m\u001b[37mRoboticLinearMovement(#A20_M5, Linear Retract from storage after placing CL3M ('c4') in storage, traj 0)\u001b[0m \n",
      "priority \u001b[35m0\u001b[0m | has start conf \u001b[31mFalse\u001b[0m, TCP \u001b[32mTrue\u001b[0m | has end conf \u001b[31mFalse\u001b[0m, TCP \u001b[32mTrue\u001b[0m | has traj \u001b[31mNone\u001b[0m\n",
      "---\n",
      "(59) \u001b[46m\u001b[33mRoboticFreeMovement(#A21_M0, Free Move to reach CL3M ('c3') to detach it from structure., traj 0)\u001b[0m \n",
      "priority \u001b[35m0\u001b[0m | has start conf \u001b[31mFalse\u001b[0m, TCP \u001b[32mTrue\u001b[0m | has end conf \u001b[31mFalse\u001b[0m, TCP \u001b[32mTrue\u001b[0m | has traj \u001b[31mNone\u001b[0m\n",
      "---\n",
      "(60) \u001b[44m\u001b[37mRoboticLinearMovement(#A21_M1, Linear Advance to mate toolchanger of CL3M ('c3') to detach it from structure., traj 0)\u001b[0m \n",
      "priority \u001b[35m0\u001b[0m | has start conf \u001b[31mFalse\u001b[0m, TCP \u001b[32mTrue\u001b[0m | has end conf \u001b[31mFalse\u001b[0m, TCP \u001b[32mTrue\u001b[0m | has traj \u001b[31mNone\u001b[0m\n",
      "---\n",
      "(61) RoboticDigitalOutput(#A21_M2, Toolchanger Lock CL3M ('c3')) \n",
      "priority \u001b[37m-1\u001b[0m | has start conf \u001b[31mFalse\u001b[0m, TCP \u001b[32mTrue\u001b[0m | has end conf \u001b[31mFalse\u001b[0m, TCP \u001b[32mTrue\u001b[0m\n",
      "---\n",
      "(62) ClampsJawMovement(#A21_M3, CL3M ('c3') Open Clamp Jaws to be released.) \n",
      "priority \u001b[37m-1\u001b[0m | has start conf \u001b[31mFalse\u001b[0m, TCP \u001b[32mTrue\u001b[0m | has end conf \u001b[31mFalse\u001b[0m, TCP \u001b[32mTrue\u001b[0m\n",
      "---\n",
      "(63) RoboticDigitalOutput(#A21_M4, CL3M ('c3') Open Gripper to be released from structure.) \n",
      "priority \u001b[37m-1\u001b[0m | has start conf \u001b[31mFalse\u001b[0m, TCP \u001b[32mTrue\u001b[0m | has end conf \u001b[31mFalse\u001b[0m, TCP \u001b[32mTrue\u001b[0m\n",
      "---\n",
      "(64) \u001b[44m\u001b[37mRoboticLinearMovement(#A21_M5, Linear Retract 1 of 2 to storage after picking up CL3M ('c3') from structure., traj 0)\u001b[0m \n",
      "priority \u001b[35m0\u001b[0m | has start conf \u001b[31mFalse\u001b[0m, TCP \u001b[32mTrue\u001b[0m | has end conf \u001b[31mFalse\u001b[0m, TCP \u001b[32mTrue\u001b[0m | has traj \u001b[31mNone\u001b[0m\n",
      "---\n",
      "(65) \u001b[44m\u001b[37mRoboticLinearMovement(#A21_M6, Linear Retract 2 of 2 to storage after picking up CL3M ('c3') from structure., traj 0)\u001b[0m \n",
      "priority \u001b[35m0\u001b[0m | has start conf \u001b[31mFalse\u001b[0m, TCP \u001b[32mTrue\u001b[0m | has end conf \u001b[31mFalse\u001b[0m, TCP \u001b[32mTrue\u001b[0m | has traj \u001b[31mNone\u001b[0m\n",
      "---\n",
      "(66) \u001b[46m\u001b[33mRoboticFreeMovement(#A22_M0, Free Move reach Storage Approach Frame of CL3M ('c3'), to place clamp in storage., traj 0)\u001b[0m \n",
      "priority \u001b[35m0\u001b[0m | has start conf \u001b[31mFalse\u001b[0m, TCP \u001b[32mTrue\u001b[0m | has end conf \u001b[31mFalse\u001b[0m, TCP \u001b[32mTrue\u001b[0m | has traj \u001b[31mNone\u001b[0m\n",
      "---\n",
      "(67) \u001b[44m\u001b[37mRoboticLinearMovement(#A22_M1, Linear Approach 1 of 2 to place CL3M ('c3') in storage., traj 0)\u001b[0m \n",
      "priority \u001b[35m0\u001b[0m | has start conf \u001b[31mFalse\u001b[0m, TCP \u001b[32mTrue\u001b[0m | has end conf \u001b[31mFalse\u001b[0m, TCP \u001b[32mTrue\u001b[0m | has traj \u001b[31mNone\u001b[0m\n",
      "---\n",
      "(68) \u001b[44m\u001b[37mRoboticLinearMovement(#A22_M2, Linear Approach 2 of 2 to place CL3M ('c3') in storage., traj 0)\u001b[0m \n",
      "priority \u001b[35m0\u001b[0m | has start conf \u001b[31mFalse\u001b[0m, TCP \u001b[32mTrue\u001b[0m | has end conf \u001b[31mFalse\u001b[0m, TCP \u001b[32mTrue\u001b[0m | has traj \u001b[31mNone\u001b[0m\n",
      "---\n",
      "(69) RoboticDigitalOutput(#A22_M3, Close Gripper to lock CL3M ('c3') onto storage pad.) \n",
      "priority \u001b[37m-1\u001b[0m | has start conf \u001b[31mFalse\u001b[0m, TCP \u001b[32mTrue\u001b[0m | has end conf \u001b[31mFalse\u001b[0m, TCP \u001b[32mTrue\u001b[0m\n",
      "---\n",
      "(70) RoboticDigitalOutput(#A22_M4, Toolchanger Unlock CL3M ('c3')) \n",
      "priority \u001b[37m-1\u001b[0m | has start conf \u001b[31mFalse\u001b[0m, TCP \u001b[32mTrue\u001b[0m | has end conf \u001b[31mFalse\u001b[0m, TCP \u001b[32mTrue\u001b[0m\n",
      "---\n",
      "(71) \u001b[44m\u001b[37mRoboticLinearMovement(#A22_M5, Linear Retract from storage after placing CL3M ('c3') in storage, traj 0)\u001b[0m \n",
      "priority \u001b[35m0\u001b[0m | has start conf \u001b[31mFalse\u001b[0m, TCP \u001b[32mTrue\u001b[0m | has end conf \u001b[31mFalse\u001b[0m, TCP \u001b[32mTrue\u001b[0m | has traj \u001b[31mNone\u001b[0m\n"
     ]
    }
   ],
   "source": [
    "beam_id = 'b2'\n",
    "process.get_movement_summary_by_beam_id(beam_id)"
   ]
  },
  {
   "cell_type": "code",
   "execution_count": 21,
   "id": "urban-floor",
   "metadata": {},
   "outputs": [],
   "source": [
    "client, robot, _ = load_RFL_world(viewer=1, verbose=False)\n",
    "set_initial_state(client, robot, process, disable_env=disable_env, reinit_tool=reinit_tool)"
   ]
  },
  {
   "cell_type": "code",
   "execution_count": 24,
   "id": "8cf9478c",
   "metadata": {},
   "outputs": [],
   "source": [
    "client.disconnect()"
   ]
  },
  {
   "cell_type": "code",
   "execution_count": 12,
   "id": "documented-holiday",
   "metadata": {
    "collapsed": true
   },
   "outputs": [],
   "source": [
    "pp.remove_all_debug()\n",
    "client.set_robot_configuration(robot, process.robot_initial_config)"
   ]
  },
  {
   "cell_type": "markdown",
   "id": "249ee44b",
   "metadata": {},
   "source": [
    "## One test run"
   ]
  },
  {
   "cell_type": "code",
   "execution_count": 22,
   "id": "conservative-trinity",
   "metadata": {
    "scrolled": true
   },
   "outputs": [
    {
     "name": "stdout",
     "output_type": "stream",
     "text": [
      "====================\n",
      "\n",
      "\n",
      "\n",
      "\u001b[1m\u001b[47m\u001b[34m* compute ['RoboticLinearMovement', 'RoboticClampSyncLinearMovement'] (priority 1, status [<MovementStatus.neither_done: 5>, <MovementStatus.one_sided: 3>])\u001b[0m\n",
      "====================\n",
      "\n",
      "\n",
      "\n",
      "\u001b[1m\u001b[47m\u001b[34m* compute ['RoboticLinearMovement'] (priority 0, status [<MovementStatus.one_sided: 3>])\u001b[0m\n",
      "====================\n",
      "\n",
      "\n",
      "\n",
      "\u001b[1m\u001b[47m\u001b[34m* compute ['RoboticLinearMovement'] (priority 0, status [<MovementStatus.neither_done: 5>, <MovementStatus.one_sided: 3>])\u001b[0m\n",
      "====================\n",
      "\n",
      "\n",
      "\n",
      "\u001b[1m\u001b[47m\u001b[34m* compute ['RoboticFreeMovement'] (priority 0, status [<MovementStatus.both_done: 4>, <MovementStatus.one_sided: 3>])\u001b[0m\n",
      "----------\n",
      "(41)\n",
      "\u001b[36mRoboticFreeMovement(#A18_M0, Free Move to reach Storage Approach Frame of PG1000 ('g2'), to place tool in storage., traj 0)\u001b[0m\n",
      "Free motion: trying retraction dist 0.1000\n",
      "\u001b[32mStart cart traj found.\u001b[0m\n",
      "\u001b[32mEnd cart traj found.\u001b[0m\n",
      "\u001b[32mFree movement found for RoboticFreeMovement(#A18_M0, Free Move to reach Storage Approach Frame of PG1000 ('g2'), to place tool in storage., traj 0)!\u001b[0m\n",
      "~~~~~\n",
      "\tPropagate states for (\u001b[36m41\u001b[0m) : RoboticFreeMovement(#A18_M0, Free Move to reach Storage Approach Frame of PG1000 ('g2'), to place tool in storage., traj 1)\n",
      "----------\n",
      "(46)\n",
      "\u001b[36mRoboticFreeMovement(#A19_M0, Free Move to reach CL3M ('c4') to detach it from structure., traj 0)\u001b[0m\n",
      "Free motion: trying retraction dist 0.1000\n",
      "\u001b[32mStart cart traj found.\u001b[0m\n",
      "\u001b[32mEnd cart traj found.\u001b[0m\n",
      "\u001b[32mFree movement found for RoboticFreeMovement(#A19_M0, Free Move to reach CL3M ('c4') to detach it from structure., traj 0)!\u001b[0m\n",
      "~~~~~\n",
      "\tPropagate states for (\u001b[36m46\u001b[0m) : RoboticFreeMovement(#A19_M0, Free Move to reach CL3M ('c4') to detach it from structure., traj 1)\n",
      "----------\n",
      "(53)\n",
      "\u001b[36mRoboticFreeMovement(#A20_M0, Free Move reach Storage Approach Frame of CL3M ('c4'), to place clamp in storage., traj 0)\u001b[0m\n",
      "Free motion: trying retraction dist 0.1000\n",
      "\u001b[32mStart cart traj found.\u001b[0m\n",
      "\u001b[31mNo Cartesian motion found, due to IK plan is not found.!\u001b[0m\n",
      "\u001b[31mNo end cart traj found.\u001b[0m\n",
      "\u001b[32mFree movement found for RoboticFreeMovement(#A20_M0, Free Move reach Storage Approach Frame of CL3M ('c4'), to place clamp in storage., traj 0)!\u001b[0m\n",
      "~~~~~\n",
      "\tPropagate states for (\u001b[36m53\u001b[0m) : RoboticFreeMovement(#A20_M0, Free Move reach Storage Approach Frame of CL3M ('c4'), to place clamp in storage., traj 1)\n",
      "----------\n",
      "(59)\n",
      "\u001b[36mRoboticFreeMovement(#A21_M0, Free Move to reach CL3M ('c3') to detach it from structure., traj 0)\u001b[0m\n",
      "Free motion: trying retraction dist 0.1000\n",
      "\u001b[32mStart cart traj found.\u001b[0m\n",
      "\u001b[32mEnd cart traj found.\u001b[0m\n",
      "\u001b[32mFree movement found for RoboticFreeMovement(#A21_M0, Free Move to reach CL3M ('c3') to detach it from structure., traj 0)!\u001b[0m\n",
      "~~~~~\n",
      "\tPropagate states for (\u001b[36m59\u001b[0m) : RoboticFreeMovement(#A21_M0, Free Move to reach CL3M ('c3') to detach it from structure., traj 1)\n",
      "----------\n",
      "(66)\n",
      "\u001b[36mRoboticFreeMovement(#A22_M0, Free Move reach Storage Approach Frame of CL3M ('c3'), to place clamp in storage., traj 0)\u001b[0m\n",
      "Free motion: trying retraction dist 0.1000\n",
      "\u001b[32mStart cart traj found.\u001b[0m\n",
      "\u001b[32mEnd cart traj found.\u001b[0m\n",
      "\u001b[32mFree movement found for RoboticFreeMovement(#A22_M0, Free Move reach Storage Approach Frame of CL3M ('c3'), to place clamp in storage., traj 0)!\u001b[0m\n",
      "~~~~~\n",
      "\tPropagate states for (\u001b[36m66\u001b[0m) : RoboticFreeMovement(#A22_M0, Free Move reach Storage Approach Frame of CL3M ('c3'), to place clamp in storage., traj 1)\n",
      "====================\n",
      "\n",
      "\n",
      "\n",
      "\u001b[1m\u001b[47m\u001b[34mVisualize results\u001b[0m\n",
      "Start simulating results. Press enter to start.\n",
      "===\n",
      "Viz:\u001b[0m\n",
      "\u001b[32mRoboticFreeMovement(#A18_M0, Free Move to reach Storage Approach Frame of PG1000 ('g2'), to place tool in storage., traj 1)\u001b[0m\n",
      "===\n",
      "Viz:\u001b[0m\n",
      "\u001b[32mRoboticFreeMovement(#A19_M0, Free Move to reach CL3M ('c4') to detach it from structure., traj 1)\u001b[0m\n",
      "===\n",
      "Viz:\u001b[0m\n",
      "\u001b[32mRoboticFreeMovement(#A20_M0, Free Move reach Storage Approach Frame of CL3M ('c4'), to place clamp in storage., traj 1)\u001b[0m\n",
      "===\n",
      "Viz:\u001b[0m\n",
      "\u001b[32mRoboticFreeMovement(#A21_M0, Free Move to reach CL3M ('c3') to detach it from structure., traj 1)\u001b[0m\n",
      "===\n",
      "Viz:\u001b[0m\n",
      "\u001b[32mRoboticFreeMovement(#A22_M0, Free Move reach Storage Approach Frame of CL3M ('c3'), to place clamp in storage., traj 1)\u001b[0m\n",
      "\u001b[33mA plan has been found for beam id b2!\u001b[0m\n"
     ]
    }
   ],
   "source": [
    "from integral_timber_joints.planning.run import compute_movements_for_beam_id\n",
    "\n",
    "debug = 0\n",
    "diagnosis = debug\n",
    "verbose = True\n",
    "\n",
    "beam_id = 'b2'\n",
    "options = {\n",
    "    'frame_jump_tolerance' : 0.0012,\n",
    "    'jump_threshold' : joint_jump_threshold,\n",
    "}\n",
    "options.update({\n",
    "    'debug' : debug,\n",
    "    'verbose' : verbose,\n",
    "    'diagnosis' : diagnosis,\n",
    "    'low_res' : False,\n",
    "    'movement_planning_reattempts' : 1,\n",
    "    'solve_timeout' : 1800,\n",
    "    'max_free_retraction_distance' : np.linspace(0.1, 0, 4),\n",
    "})\n",
    "\n",
    "# A38M0\n",
    "# PlanningArguments = namedtuple('PlanningArguments', ['problem', 'viewer', debug', 'diagnosis', 'id_only', 'solve_mode', 'viz_upon_found', \n",
    "#                                              'save_now', 'write', 'plan_impacted', 'watch', 'step_sim', 'verbose'])\n",
    "\n",
    "args = PlanningArguments(design_dir, problem, False, debug, diagnosis, 'A17_M0', 'nonlinear', False, False, False, \n",
    "                         False, True, False, verbose)\n",
    "\n",
    "all_movements = process.get_movements_by_beam_id(beam_id)\n",
    "# options['movement_id_range'] = list(reversed(range(0, len(all_movements))))\n",
    "    \n",
    "success = compute_movements_for_beam_id(client, robot, process, beam_id, args, options=options)"
   ]
  },
  {
   "cell_type": "code",
   "execution_count": 23,
   "id": "governmental-scoop",
   "metadata": {},
   "outputs": [
    {
     "name": "stdout",
     "output_type": "stream",
     "text": [
      "---\n",
      "\u001b[32m#72 movements written to c:\\users\\harry\\dropbox (mit)\\code_ws_dropbox\\itj_ws\\integral_timber_joints\\external\\itj_design_study\\210605_ScrewdriverTestProcess\\results\\movements\u001b[0m\n",
      "---\n",
      "\u001b[32mProcess written to c:\\users\\harry\\dropbox (mit)\\code_ws_dropbox\\itj_ws\\integral_timber_joints\\external\\itj_design_study\\210605_ScrewdriverTestProcess\\results\\nine_pieces_process.json\u001b[0m\n"
     ]
    }
   ],
   "source": [
    "from integral_timber_joints.planning.parsing import save_process_and_movements\n",
    "\n",
    "altered_movements = all_movements\n",
    "save_process_and_movements(design_dir, problem, process, altered_movements, overwrite=False,\n",
    "    include_traj_in_process=False, save_temp=False)"
   ]
  },
  {
   "cell_type": "code",
   "execution_count": 39,
   "id": "geographic-vietnam",
   "metadata": {},
   "outputs": [],
   "source": [
    "m = process.get_movement_by_movement_id('A27_M4')"
   ]
  },
  {
   "cell_type": "code",
   "execution_count": 42,
   "id": "muslim-operations",
   "metadata": {},
   "outputs": [
    {
     "data": {
      "text/plain": [
       "\"RoboticLinearMovement(#A27_M4, Linear Retract after picking up Beam ('b3'), traj 0)\""
      ]
     },
     "execution_count": 42,
     "metadata": {},
     "output_type": "execute_result"
    }
   ],
   "source": [
    "m.short_summary"
   ]
  },
  {
   "cell_type": "code",
   "execution_count": 46,
   "id": "looking-elder",
   "metadata": {},
   "outputs": [
    {
     "data": {
      "text/plain": [
       "0"
      ]
     },
     "execution_count": 46,
     "metadata": {},
     "output_type": "execute_result"
    }
   ],
   "source": [
    "action = process.get_action_of_movement(m)\n",
    "action.seq_n"
   ]
  },
  {
   "cell_type": "code",
   "execution_count": 43,
   "id": "impaired-smoke",
   "metadata": {},
   "outputs": [
    {
     "data": {
      "text/plain": [
       "'b0'"
      ]
     },
     "execution_count": 43,
     "metadata": {},
     "output_type": "execute_result"
    }
   ],
   "source": [
    "process.get_beam_id_of_movement(m)"
   ]
  },
  {
   "cell_type": "markdown",
   "id": "af274f7e",
   "metadata": {},
   "source": [
    "# Don't forget to change to `twelve_pieces` if running only for `b4` !"
   ]
  },
  {
   "cell_type": "code",
   "execution_count": 25,
   "id": "7af6e9e1",
   "metadata": {},
   "outputs": [],
   "source": [
    "full_seq_len = len(process.assembly.sequence)\n",
    "# beam_ids = [process.assembly.sequence[si] for si in range(32, full_seq_len)]\n",
    "\n",
    "beam_ids = ['b{}'.format(b) for b in [25]] #[4, 13, 32, 37, 38, 39]]\n",
    "# beam_ids = ['b4']"
   ]
  },
  {
   "cell_type": "code",
   "execution_count": 26,
   "id": "level-fellow",
   "metadata": {},
   "outputs": [
    {
     "name": "stdout",
     "output_type": "stream",
     "text": [
      "Beam b25 | Outer Trail nonlinear #0\n",
      "##########\n",
      "Beam b25 | nonlinear | Inner Trail #0 | time 0.00\n",
      "\u001b[31mReturn success: False\u001b[0m\n",
      "Restarting client/process takes 29.747271060943604 | total timeout inf\n",
      "##########\n",
      "Beam b25 | nonlinear | Inner Trail #1 | time 46.27\n",
      "\u001b[31mReturn success: False\u001b[0m\n",
      "Restarting client/process takes 22.154060125350952 | total timeout inf\n",
      "##########\n",
      "Beam b25 | nonlinear | Inner Trail #2 | time 104.08\n",
      "\u001b[31mReturn success: False\u001b[0m\n",
      "Restarting client/process takes 26.456228017807007 | total timeout inf\n",
      "##########\n",
      "Beam b25 | nonlinear | Inner Trail #3 | time 166.91\n",
      "\u001b[31mReturn success: False\u001b[0m\n",
      "Restarting client/process takes 28.77153968811035 | total timeout inf\n",
      "##########\n",
      "Beam b25 | nonlinear | Inner Trail #4 | time 210.81\n",
      "\u001b[31mReturn success: False\u001b[0m\n",
      "Restarting client/process takes 29.22124481201172 | total timeout inf\n",
      "##########\n",
      "Beam b25 | nonlinear | Inner Trail #5 | time 501.94\n",
      "\u001b[31mReturn success: False\u001b[0m\n",
      "Restarting client/process takes 28.80583119392395 | total timeout inf\n",
      "##########\n",
      "Beam b25 | nonlinear | Inner Trail #6 | time 550.54\n",
      "\u001b[31mReturn success: False\u001b[0m\n",
      "Restarting client/process takes 29.64447331428528 | total timeout inf\n",
      "##########\n",
      "Beam b25 | nonlinear | Inner Trail #7 | time 610.38\n",
      "\u001b[31mReturn success: False\u001b[0m\n",
      "Restarting client/process takes 28.731407403945923 | total timeout inf\n",
      "##########\n",
      "Beam b25 | nonlinear | Inner Trail #8 | time 657.43\n",
      "\u001b[32mReturn success: True\u001b[0m\n",
      "\u001b[32mRuntime data saved to figs/b25_runtime_data_w_TC_21-07-08_21-12-56.json\u001b[0m\n",
      "\u001b[32mDone\u001b[0m\n"
     ]
    }
   ],
   "source": [
    "import json\n",
    "from collections import defaultdict\n",
    "from integral_timber_joints.planning.run import compute_movements_for_beam_id, plan_for_beam_id_with_restart\n",
    "# beam_id = process.get_beam_id_from_movement_id(args.id_only)\n",
    "\n",
    "debug = 0\n",
    "diagnosis = debug\n",
    "verbose = False\n",
    "\n",
    "options = {\n",
    "    'frame_jump_tolerance' : 0.0012,\n",
    "    'jump_threshold' : joint_jump_threshold,\n",
    "}\n",
    "options.update({\n",
    "    'debug' : debug,\n",
    "    'verbose' : verbose,\n",
    "    'diagnosis' : diagnosis,\n",
    "    'low_res' : False,\n",
    "    'movement_planning_reattempts' : 1,\n",
    "    'max_free_retraction_distance' : np.linspace(0.1, 0, 4),\n",
    "    'ignore_taught_confs' : False,\n",
    "    'solve_timeout' : np.inf, # 1800\n",
    "    'solve_iters': 40,\n",
    "    'return_upon_success' : True,\n",
    "})\n",
    "\n",
    "# PlanningArguments = namedtuple('PlanningArguments', ['problem', 'viewer', debug', 'diagnosis', 'id_only', 'solve_mode', 'viz_upon_found', \n",
    "#                                              'save_now', 'write', 'plan_impacted', 'watch', 'step_sim', 'verbose'])\n",
    "\n",
    "num_trails = 1\n",
    "file_suffix = '{}_{}'.format('No_TC' if options['ignore_taught_confs'] else 'w_TC', pp.get_date())\n",
    "\n",
    "for beam_id in beam_ids:\n",
    "    runtime_data = {}\n",
    "    for solve_mode_ in ['nonlinear']: #'nonlinear', 'linear_forward', 'linear_backward'\n",
    "        args = PlanningArguments(problem, False, debug, diagnosis, None, solve_mode_.split('_')[0], False, False, False, \n",
    "                                 False, False, False, verbose)\n",
    "        all_movements = process.get_movements_by_beam_id(beam_id)\n",
    "\n",
    "        if solve_mode_ == 'linear_backward':\n",
    "            options['movement_id_range'] = list(reversed(range(0, len(all_movements))))\n",
    "        elif solve_mode_ == 'linear_forward':\n",
    "            options['movement_id_range'] = list(range(0, len(all_movements)))\n",
    "\n",
    "        runtime_data[solve_mode_] = {}\n",
    "        for attempt_i in range(num_trails):\n",
    "            print('Beam {} | Outer Trail {} #{}'.format(beam_id, solve_mode_, attempt_i))\n",
    "            process = deepcopy(unsolved_process)\n",
    "            if options['ignore_taught_confs']:\n",
    "                # remove all taught confs\n",
    "                for m in process.movements:\n",
    "                    m.end_state['robot'].kinematic_config = None\n",
    "            success, trial_data = plan_for_beam_id_with_restart(client, robot, process, beam_id, args, options=options)\n",
    "            runtime_data[solve_mode_][attempt_i] = trial_data\n",
    "#             cprint('Return success: {}'.format(success), 'green' if success else 'red')\n",
    "#             save_runtime_data(beam_id, runtime_data, suffix=file_suffix)\n",
    "        \n",
    "cprint('Done', 'green')\n",
    "client.disconnect()"
   ]
  },
  {
   "cell_type": "code",
   "execution_count": 19,
   "id": "liberal-today",
   "metadata": {},
   "outputs": [
    {
     "name": "stdout",
     "output_type": "stream",
     "text": [
      "====================\n",
      "#nonlinear-T#0:\n",
      "\u001b[32mTrue - BT 1 | time 59.41\u001b[0m\n",
      "---\n",
      "#nonlinear-T#1:\n",
      "\u001b[32mTrue - BT 5 | time 1632.84\u001b[0m\n",
      "---\n",
      "#nonlinear-T#2:\n",
      "\u001b[32mTrue - BT 1 | time 289.08\u001b[0m\n",
      "---\n",
      "#nonlinear-T#3:\n",
      "\u001b[32mTrue - BT 1 | time 56.22\u001b[0m\n",
      "---\n",
      "#nonlinear-T#4:\n",
      "\u001b[32mTrue - BT 3 | time 167.64\u001b[0m\n",
      "---\n",
      "#nonlinear-T#5:\n",
      "\u001b[32mTrue - BT 2 | time 491.24\u001b[0m\n",
      "---\n",
      "#nonlinear-T#6:\n",
      "\u001b[32mTrue - BT 1 | time 573.64\u001b[0m\n",
      "---\n",
      "#nonlinear-T#7:\n",
      "\u001b[32mTrue - BT 1 | time 40.16\u001b[0m\n",
      "---\n",
      "#nonlinear-T#8:\n",
      "\u001b[32mTrue - BT 2 | time 829.80\u001b[0m\n",
      "---\n",
      "#nonlinear-T#9:\n",
      "\u001b[32mTrue - BT 1 | time 462.31\u001b[0m\n",
      "---\n",
      "====================\n",
      "#linear_forward-T#0:\n",
      "\u001b[32mTrue - BT 1 | time 379.09\u001b[0m\n",
      "---\n",
      "#linear_forward-T#1:\n",
      "\u001b[32mTrue - BT 7 | time 1606.12\u001b[0m\n",
      "---\n",
      "#linear_forward-T#2:\n",
      "\u001b[32mTrue - BT 2 | time 420.30\u001b[0m\n",
      "---\n",
      "#linear_forward-T#3:\n",
      "\u001b[32mTrue - BT 8 | time 935.44\u001b[0m\n",
      "---\n",
      "#linear_forward-T#4:\n",
      "\u001b[32mTrue - BT 3 | time 144.78\u001b[0m\n",
      "---\n",
      "#linear_forward-T#5:\n",
      "\u001b[32mTrue - BT 4 | time 340.55\u001b[0m\n",
      "---\n",
      "#linear_forward-T#6:\n",
      "\u001b[32mTrue - BT 6 | time 1277.57\u001b[0m\n",
      "---\n",
      "#linear_forward-T#7:\n",
      "\u001b[31mFalse - BT 7 | time 1788.29\u001b[0m\n",
      "---\n",
      "#linear_forward-T#8:\n",
      "\u001b[32mTrue - BT 3 | time 668.03\u001b[0m\n",
      "---\n",
      "#linear_forward-T#9:\n",
      "\u001b[32mTrue - BT 3 | time 289.43\u001b[0m\n",
      "---\n",
      "====================\n"
     ]
    },
    {
     "ename": "KeyError",
     "evalue": "'linear_backward'",
     "output_type": "error",
     "traceback": [
      "\u001b[0;31m---------------------------------------------------------------------------\u001b[0m",
      "\u001b[0;31mKeyError\u001b[0m                                  Traceback (most recent call last)",
      "\u001b[0;32m/tmp/ipykernel_181342/2564414959.py\u001b[0m in \u001b[0;36m<module>\u001b[0;34m\u001b[0m\n\u001b[1;32m      1\u001b[0m \u001b[0;32mfor\u001b[0m \u001b[0msolve_mode_\u001b[0m \u001b[0;32min\u001b[0m \u001b[0;34m[\u001b[0m\u001b[0;34m'nonlinear'\u001b[0m\u001b[0;34m,\u001b[0m \u001b[0;34m'linear_forward'\u001b[0m\u001b[0;34m,\u001b[0m \u001b[0;34m'linear_backward'\u001b[0m\u001b[0;34m]\u001b[0m\u001b[0;34m:\u001b[0m\u001b[0;34m\u001b[0m\u001b[0;34m\u001b[0m\u001b[0m\n\u001b[1;32m      2\u001b[0m     \u001b[0mprint\u001b[0m\u001b[0;34m(\u001b[0m\u001b[0;34m'='\u001b[0m\u001b[0;34m*\u001b[0m\u001b[0;36m20\u001b[0m\u001b[0;34m)\u001b[0m\u001b[0;34m\u001b[0m\u001b[0;34m\u001b[0m\u001b[0m\n\u001b[0;32m----> 3\u001b[0;31m     \u001b[0;32mfor\u001b[0m \u001b[0mi\u001b[0m\u001b[0;34m,\u001b[0m \u001b[0mtdata\u001b[0m \u001b[0;32min\u001b[0m \u001b[0mruntime_data\u001b[0m\u001b[0;34m[\u001b[0m\u001b[0msolve_mode_\u001b[0m\u001b[0;34m]\u001b[0m\u001b[0;34m.\u001b[0m\u001b[0mitems\u001b[0m\u001b[0;34m(\u001b[0m\u001b[0;34m)\u001b[0m\u001b[0;34m:\u001b[0m\u001b[0;34m\u001b[0m\u001b[0;34m\u001b[0m\u001b[0m\n\u001b[0m\u001b[1;32m      4\u001b[0m         \u001b[0mprint\u001b[0m\u001b[0;34m(\u001b[0m\u001b[0;34m'#{}-T#{}:'\u001b[0m\u001b[0;34m.\u001b[0m\u001b[0mformat\u001b[0m\u001b[0;34m(\u001b[0m\u001b[0msolve_mode_\u001b[0m\u001b[0;34m,\u001b[0m \u001b[0mi\u001b[0m\u001b[0;34m)\u001b[0m\u001b[0;34m)\u001b[0m\u001b[0;34m\u001b[0m\u001b[0;34m\u001b[0m\u001b[0m\n\u001b[1;32m      5\u001b[0m         \u001b[0msc\u001b[0m \u001b[0;34m=\u001b[0m \u001b[0many\u001b[0m\u001b[0;34m(\u001b[0m\u001b[0;34m[\u001b[0m\u001b[0md\u001b[0m\u001b[0;34m[\u001b[0m\u001b[0;34m'success'\u001b[0m\u001b[0;34m]\u001b[0m \u001b[0;32mfor\u001b[0m \u001b[0mdi\u001b[0m\u001b[0;34m,\u001b[0m \u001b[0md\u001b[0m \u001b[0;32min\u001b[0m \u001b[0mtdata\u001b[0m\u001b[0;34m.\u001b[0m\u001b[0mitems\u001b[0m\u001b[0;34m(\u001b[0m\u001b[0;34m)\u001b[0m\u001b[0;34m]\u001b[0m\u001b[0;34m)\u001b[0m\u001b[0;34m\u001b[0m\u001b[0;34m\u001b[0m\u001b[0m\n",
      "\u001b[0;31mKeyError\u001b[0m: 'linear_backward'"
     ]
    }
   ],
   "source": [
    "for solve_mode_ in runtime_data:\n",
    "    print('='*20)\n",
    "    for i, tdata in runtime_data[solve_mode_].items():\n",
    "        print('#{}-T#{}:'.format(solve_mode_, i))\n",
    "        sc = any([d['success'] for di, d in tdata.items()])\n",
    "        \n",
    "        total_runtime = []\n",
    "        for i, trial_data in tdata.items():\n",
    "            trial_profiles = trial_data['profiles']\n",
    "            runtime_per_move = [sum(trial_profiles[mid]['plan_time']) for mid in trial_profiles]\n",
    "            total_runtime.append(sum(runtime_per_move))\n",
    "      \n",
    "        cprint('{} - BT {} | time {:.2f}'.format(sc, len(tdata), sum(total_runtime)), 'green' if sc else 'red')\n",
    "        print('---')"
   ]
  },
  {
   "cell_type": "markdown",
   "id": "b2df3a52",
   "metadata": {},
   "source": [
    "# Save movements"
   ]
  },
  {
   "cell_type": "code",
   "execution_count": 15,
   "id": "79fa8678",
   "metadata": {},
   "outputs": [
    {
     "name": "stdout",
     "output_type": "stream",
     "text": [
      "---\n",
      "\u001b[32m#72 movements written to /home/yijiangh/itj_ws/integral_timber_joints/external/itj_design_study/210128_RemodelFredPavilion/YJ_tmp/movements\u001b[0m\n",
      "---\n",
      "\u001b[32mProcess written to /home/yijiangh/itj_ws/integral_timber_joints/external/itj_design_study/210128_RemodelFredPavilion/YJ_tmp/twelve_pieces_process.json\u001b[0m\n"
     ]
    }
   ],
   "source": [
    "from integral_timber_joints.planning.parsing import save_process_and_movements\n",
    "\n",
    "beam_all_movements = process.get_movements_by_beam_id(beam_id)\n",
    "if 'movement_id_range' not in options:\n",
    "    altered_movements = beam_all_movements\n",
    "else:\n",
    "    altered_movements = [beam_all_movements[mid] for mid in options['movement_id_range']]\n",
    "save_process_and_movements(problem, process, altered_movements, save_temp=True)"
   ]
  },
  {
   "cell_type": "markdown",
   "id": "f8f0ecd8",
   "metadata": {},
   "source": [
    "# Visualize traj"
   ]
  },
  {
   "cell_type": "code",
   "execution_count": 17,
   "id": "a029ac3d",
   "metadata": {},
   "outputs": [
    {
     "name": "stdout",
     "output_type": "stream",
     "text": [
      "===\n",
      "Viz:\u001b[0m\n",
      "\u001b[33mNo traj found for RoboticLinearMovement(#A43_M2, Linear Approach 2 of 2 to place CL3 ('c2') in storage., traj 0)\n",
      " -- has_start_conf False, has_end_conf True\u001b[0m\n",
      "Press enter to continue\n"
     ]
    }
   ],
   "source": [
    "from integral_timber_joints.planning.state import set_state\n",
    "from integral_timber_joints.planning.visualization import visualize_movement_trajectory\n",
    "\n",
    "altered_ms = [process.get_movement_by_movement_id('A43_M2')]\n",
    "set_state(client, robot, process, process.initial_state)\n",
    "for altered_m in altered_ms:\n",
    "    visualize_movement_trajectory(client, robot, process, altered_m, step_sim=False, step_duration=0.05)"
   ]
  },
  {
   "cell_type": "markdown",
   "id": "valid-blanket",
   "metadata": {},
   "source": [
    "# Diagram"
   ]
  },
  {
   "cell_type": "code",
   "execution_count": 77,
   "id": "ranking-moses",
   "metadata": {},
   "outputs": [],
   "source": [
    "from plotly.subplots import make_subplots\n",
    "import plotly.graph_objects as go\n",
    "from integral_timber_joints.process import RoboticFreeMovement, RoboticLinearMovement, RoboticClampSyncLinearMovement\n",
    "\n",
    "solve_mode_ = 'nonlinear' # linear_backward | linear_forward | nonlinear\n",
    "\n",
    "# total_rows = 0\n",
    "# for i, d in runtime_data[solve_mode_].items():\n",
    "#     total_rows += len(d)+1\n",
    "max_inner_loop_displayed = 6\n",
    "\n",
    "for attempt_i, s_rdata in runtime_data[solve_mode_].items():\n",
    "    if len(s_rdata) > max_inner_loop_displayed:\n",
    "        num_rows = max_inner_loop_displayed+1\n",
    "        half = int(max_inner_loop_displayed/2)\n",
    "        selected_inners = list(range(0,half)) + list(range(len(s_rdata)-half,len(s_rdata)))\n",
    "    else:\n",
    "        num_rows = len(s_rdata)+1\n",
    "        selected_inners = list(range(len(s_rdata)))\n",
    "    \n",
    "    fig = make_subplots(rows=num_rows, cols=2)\n",
    "    success = any([d['success'] for di, d in s_rdata.items()])\n",
    "    total_runtime = []\n",
    "    failed_m_id = []\n",
    "    for i in s_rdata.keys():\n",
    "        trial_data = s_rdata[i]\n",
    "        trial_profiles = trial_data['profiles']\n",
    "        mid_keys = sorted(trial_profiles.keys(), key=int)\n",
    "        runtime_per_move = [sum(trial_profiles[mid]['plan_time']) for mid in mid_keys]\n",
    "        total_runtime.append(sum(runtime_per_move))\n",
    "        \n",
    "        for mid in mid_keys:\n",
    "            if not any(trial_profiles[mid]['plan_success']):\n",
    "                movement = process.get_movement_by_movement_id(trial_profiles[mid]['movement_id'][0])\n",
    "                m_color = '#ff1b6b' if isinstance(movement, RoboticFreeMovement) else '#45caff'\n",
    "                failed_m_id.append((mid, movement.short_summary, m_color))\n",
    "                break\n",
    "        else:\n",
    "            failed_m_id.append((-1, 'success!', '#00ff87'))\n",
    "        \n",
    "        if i in selected_inners or int(i) in selected_inners:\n",
    "            success_colors = ['#99C24D' if any(trial_profiles[mid]['plan_success']) else '#F18F01' for mid in mid_keys]\n",
    "            row_id = selected_inners.index(int(i))+1\n",
    "            fig.append_trace(go.Scatter(x=mid_keys,\n",
    "                                    y=runtime_per_move,\n",
    "                                    mode='markers',\n",
    "                                    marker_color=success_colors,\n",
    "                                    text=[process.get_movement_by_movement_id(trial_profiles[mid]['movement_id'][0]).short_summary \\\n",
    "                                          for mid in mid_keys], # hover text goes here\n",
    "                                    name='#{}-feasibility'.format(i),\n",
    "                                    ),\n",
    "                          row=row_id, col=1\n",
    "                        )\n",
    "\n",
    "            fig.append_trace(go.Scatter(x=mid_keys,\n",
    "                                            y=runtime_per_move,\n",
    "                                            mode='markers',\n",
    "                                                marker=dict(\n",
    "                                                size=5,\n",
    "                                                color=[trial_profiles[mid]['sample_order'][0] for mid in mid_keys], #set color equal to a variable\n",
    "                                                colorscale='Viridis', # one of plotly colorscales\n",
    "                                                showscale=True\n",
    "                                            ),\n",
    "                                            text=['S#{}-{}'.format(trial_profiles[mid]['sample_order'][0], process.get_movement_by_movement_id(trial_profiles[mid]['movement_id'][0]).short_summary) \\\n",
    "                                                  for mid in mid_keys], # hover text goes here\n",
    "                                            name='#{}-sample order'.format(i),),\n",
    "                          row=row_id, col=2\n",
    "                            )\n",
    "            if row_id == 1:\n",
    "                fig.update_xaxes(title_text=\"m_id\",row=row_id, col=1)\n",
    "                fig.update_yaxes(title_text=\"runtime(s)\",row=row_id, col=1)\n",
    "\n",
    "    fig.append_trace(go.Scatter(x=list(range(len(s_rdata))),y=total_runtime), \n",
    "                     row=num_rows, col=1)\n",
    "    fig.update_xaxes(title_text=\"trials\",row=num_rows, col=1)\n",
    "    fig.update_yaxes(title_text=\"runtime(s)\",row=num_rows, col=1)\n",
    "    \n",
    "    fig.append_trace(go.Scatter(x=list(range(len(failed_m_id))),y=[tt[0] for tt in failed_m_id],\n",
    "                                mode='markers',\n",
    "                                marker_color=[tt[2] for tt in failed_m_id],\n",
    "                                text=[tt[1] for tt in failed_m_id],\n",
    "                               ), row=num_rows, col=2)\n",
    "    fig.update_xaxes(title_text=\"trials\",row=num_rows, col=2)\n",
    "    fig.update_yaxes(title_text=\"failed_movement_id\",row=num_rows, col=2)\n",
    "\n",
    "    \n",
    "    title = \"figs/{}-{}-trail_{}_success-{}_BT-{}_time-{:.1f}\".format(beam_id, solve_mode_, \n",
    "        attempt_i, success, len(s_rdata), sum(total_runtime))\n",
    "    fig.update_layout(title=title)\n",
    "    fig.write_html(title + \".html\")\n",
    "# fig.show()"
   ]
  },
  {
   "cell_type": "code",
   "execution_count": 41,
   "id": "inappropriate-vienna",
   "metadata": {},
   "outputs": [
    {
     "data": {
      "text/plain": [
       "207"
      ]
     },
     "execution_count": 41,
     "metadata": {},
     "output_type": "execute_result"
    }
   ],
   "source": [
    "len(failed_m_id)"
   ]
  },
  {
   "cell_type": "markdown",
   "id": "empty-heavy",
   "metadata": {},
   "source": [
    "# Save runtime data"
   ]
  },
  {
   "cell_type": "code",
   "execution_count": 106,
   "id": "funded-toddler",
   "metadata": {},
   "outputs": [
    {
     "data": {
      "text/plain": [
       "dict_keys(['linear', 'nonlinear'])"
      ]
     },
     "execution_count": 106,
     "metadata": {},
     "output_type": "execute_result"
    }
   ],
   "source": [
    "runtime_data.keys()"
   ]
  },
  {
   "cell_type": "markdown",
   "id": "graduate-middle",
   "metadata": {},
   "source": [
    "# Disconnect client"
   ]
  },
  {
   "cell_type": "code",
   "execution_count": 48,
   "id": "junior-standing",
   "metadata": {
    "collapsed": true
   },
   "outputs": [],
   "source": [
    "client.disconnect()"
   ]
  },
  {
   "cell_type": "markdown",
   "id": "civil-partner",
   "metadata": {},
   "source": [
    "# Plan only one movement"
   ]
  },
  {
   "cell_type": "code",
   "execution_count": 29,
   "id": "ambient-calculator",
   "metadata": {},
   "outputs": [],
   "source": [
    "# if id_only:\n",
    "#     beam_id = process.get_beam_id_from_movement_id(id_only)\n",
    "#     process.get_movement_summary_by_beam_id(beam_id)"
   ]
  },
  {
   "cell_type": "code",
   "execution_count": 39,
   "id": "experienced-industry",
   "metadata": {},
   "outputs": [
    {
     "name": "stdout",
     "output_type": "stream",
     "text": [
      "\u001b[36mRoboticLinearMovement(#A2_M1, Linear Advance to Final Frame of Beam ('b0'), traj 1)\u001b[0m\n",
      "\u001b[33mend conf FK inconsistent (0.00005 m) with given current frame in end state.\u001b[0m\n",
      "\u001b[33mBoth start/end confs are pre-specified, problem might be too stiff to be solved.\u001b[0m\n",
      "\u001b[34mOne-sided Cartesian planning : start conf set, forward mode\u001b[0m\n",
      "\tcartesian trial #0\n",
      "\u001b[32mPlan found by IterativeIK! After 0 path failure (by IterativeIK) over 1 samples.\u001b[0m\n"
     ]
    },
    {
     "data": {
      "text/plain": [
       "True"
      ]
     },
     "execution_count": 39,
     "metadata": {},
     "output_type": "execute_result"
    }
   ],
   "source": [
    "from integral_timber_joints.planning.stream import compute_free_movement, compute_linear_movement\n",
    "from integral_timber_joints.planning.solve import compute_movement\n",
    "\n",
    "chosen_m = process.get_movement_by_movement_id(id_only)\n",
    "compute_movement(client, robot, process, chosen_m, options=lm_options, diagnosis=diagnosis)"
   ]
  },
  {
   "cell_type": "code",
   "execution_count": 40,
   "id": "british-conflict",
   "metadata": {},
   "outputs": [
    {
     "name": "stdout",
     "output_type": "stream",
     "text": [
      "===\n",
      "Viz:\u001b[0m\n",
      "\u001b[32mRoboticLinearMovement(#A2_M1, Linear Advance to Final Frame of Beam ('b0'), traj 1)\u001b[0m\n"
     ]
    },
    {
     "name": "stdin",
     "output_type": "stream",
     "text": [
      "Step conf. \n",
      "Step conf. \n",
      "Step conf. \n",
      "Step conf. \n",
      "Step conf. \n",
      "Step conf. \n",
      "Step conf. \n",
      "End state. \n"
     ]
    }
   ],
   "source": [
    "from integral_timber_joints.planning.visualization import visualize_movement_trajectory\n",
    "\n",
    "with pp.WorldSaver():\n",
    "    visualize_movement_trajectory(client, robot, process, chosen_m, step_sim=True)"
   ]
  },
  {
   "cell_type": "markdown",
   "id": "ba117a0a",
   "metadata": {},
   "source": [
    "# Debug"
   ]
  },
  {
   "cell_type": "code",
   "execution_count": 114,
   "id": "212fe87b",
   "metadata": {},
   "outputs": [
    {
     "name": "stdout",
     "output_type": "stream",
     "text": [
      "{\n",
      "    \"point\": [\n",
      "        16365.955352783203,\n",
      "        5373.7616539001465,\n",
      "        1185.3845119476318\n",
      "    ],\n",
      "    \"xaxis\": [\n",
      "        -0.2580321229101535,\n",
      "        0.6278875467781188,\n",
      "        0.7342864918731894\n",
      "    ],\n",
      "    \"yaxis\": [\n",
      "        -0.9661363350844321,\n",
      "        -0.1677526279329609,\n",
      "        -0.19606029136775213\n",
      "    ]\n",
      "}\n",
      "{\n",
      "    \"point\": [\n",
      "        16365.955352783203,\n",
      "        5373.7616539001465,\n",
      "        1185.3845119476318\n",
      "    ],\n",
      "    \"xaxis\": [\n",
      "        -0.25803212291015387,\n",
      "        0.6278875467781186,\n",
      "        0.7342864918731893\n",
      "    ],\n",
      "    \"yaxis\": [\n",
      "        -0.9661363350844319,\n",
      "        -0.16775262793296133,\n",
      "        -0.19606029136775227\n",
      "    ]\n",
      "}\n"
     ]
    }
   ],
   "source": [
    "prev_m = process.get_movement_by_movement_id('A40_M6')\n",
    "start_state = process.get_movement_start_state(prev_m)\n",
    "end_state = process.get_movement_end_state(prev_m)\n",
    "\n",
    "# v = end_state['robot'].current_frame.point - start_state['robot'].current_frame.point\n",
    "# list(v)\n",
    "set_state(client, robot, process, end_state)\n",
    "print(end_state['tool_changer'].current_frame)\n",
    "print(client.get_object_frame('^tool_changer$', scale=1e3)[75])"
   ]
  },
  {
   "cell_type": "code",
   "execution_count": 109,
   "id": "d29f18e6",
   "metadata": {},
   "outputs": [
    {
     "name": "stdout",
     "output_type": "stream",
     "text": [
      "{\n",
      "    \"point\": [\n",
      "        16365.961074829102,\n",
      "        5373.770236968994,\n",
      "        1185.3852272033691\n",
      "    ],\n",
      "    \"xaxis\": [\n",
      "        -0.2580321229101535,\n",
      "        0.6278875467781188,\n",
      "        0.7342864918731894\n",
      "    ],\n",
      "    \"yaxis\": [\n",
      "        -0.9661363350844321,\n",
      "        -0.1677526279329609,\n",
      "        -0.19606029136775213\n",
      "    ]\n",
      "}\n"
     ]
    }
   ],
   "source": [
    "client.set_robot_configuration(robot, end_state['robot'].kinematic_config)\n",
    "print(client.get_object_frame('^tool_changer$', scale=1e3)[75])"
   ]
  },
  {
   "cell_type": "code",
   "execution_count": 116,
   "id": "523cf3b0",
   "metadata": {},
   "outputs": [
    {
     "data": {
      "text/plain": [
       "False"
      ]
     },
     "execution_count": 116,
     "metadata": {},
     "output_type": "execute_result"
    }
   ],
   "source": [
    "from compas_fab_pychoreo.backend_features.pychoreo_configuration_collision_checker import PyChoreoConfigurationCollisionChecker\n",
    "\n",
    "set_state(client, robot, process, end_state, options=options)\n",
    "# set_state(client, robot, process, start_state, options=options)\n",
    "pychore_collision_fn = PyChoreoConfigurationCollisionChecker(client)\n",
    "# end_state['robot'].kinematic_config\n",
    "options['diagnosis'] = True\n",
    "pychore_collision_fn.check_collisions(robot, prev_m.trajectory.points[-2], options=options)"
   ]
  },
  {
   "cell_type": "code",
   "execution_count": 79,
   "id": "77ef66ba",
   "metadata": {},
   "outputs": [],
   "source": [
    "tc_body = client.pychoreo_attachments['tool_changer']"
   ]
  },
  {
   "cell_type": "code",
   "execution_count": 83,
   "id": "c16e0eb8",
   "metadata": {},
   "outputs": [
    {
     "data": {
      "text/plain": [
       "Frame(Point(0.016, 0.005, 0.001), Vector(-0.258, 0.628, 0.734), Vector(-0.966, -0.168, -0.196))"
      ]
     },
     "execution_count": 83,
     "metadata": {},
     "output_type": "execute_result"
    }
   ],
   "source": [
    "from compas_fab_pychoreo.conversions import pose_from_frame, frame_from_pose\n",
    "\n",
    "frame_from_pose(pp.get_pose(75))"
   ]
  },
  {
   "cell_type": "code",
   "execution_count": 75,
   "id": "28fe391c",
   "metadata": {},
   "outputs": [
    {
     "data": {
      "text/plain": [
       "{75: Frame(Point(16.366, 5.374, 1.185), Vector(-0.258, 0.628, 0.734), Vector(-0.966, -0.168, -0.196))}"
      ]
     },
     "execution_count": 75,
     "metadata": {},
     "output_type": "execute_result"
    }
   ],
   "source": [
    "client.get_object_frame('^tool_changer$')"
   ]
  },
  {
   "cell_type": "code",
   "execution_count": 44,
   "id": "f5062e22",
   "metadata": {},
   "outputs": [
    {
     "name": "stdout",
     "output_type": "stream",
     "text": [
      "State: current frame: {\n",
      "    \"point\": [\n",
      "        16365.989685058594,\n",
      "        5373.808860778809,\n",
      "        1185.4075193405151\n",
      "    ],\n",
      "    \"xaxis\": [\n",
      "        -0.25802939931448104,\n",
      "        0.6277901217809272,\n",
      "        0.7343707456616834\n",
      "    ],\n",
      "    \"yaxis\": [\n",
      "        -0.9661370648091927,\n",
      "        -0.16763997964096333,\n",
      "        -0.1961530250285612\n",
      "    ]\n",
      "} | config: JointTrajectoryPoint((15.468, -4.130, -2.020, 2.159, -0.587, -2.805, 0.492, -2.039, 0.908), (2, 2, 2, 0, 0, 0, 0, 0, 0), (0.000, 0.000, 0.000, 0.000, 0.000, 0.000, 0.000, 0.000, 0.000), (0.000, 0.000, 0.000, 0.000, 0.000, 0.000, 0.000, 0.000, 0.000), (0.000, 0.000, 0.000, 0.000, 0.000, 0.000, 0.000, 0.000, 0.000), Duration(11, 0)) | attached to robot: False\n",
      "State: current frame: {\n",
      "    \"point\": [\n",
      "        16366.001562499872,\n",
      "        5373.822840010225,\n",
      "        1185.408652972277\n",
      "    ],\n",
      "    \"xaxis\": [\n",
      "        -0.2580290176609404,\n",
      "        0.6277482599146081,\n",
      "        0.7344066640622972\n",
      "    ],\n",
      "    \"yaxis\": [\n",
      "        -0.9661371673033442,\n",
      "        -0.16765452393882985,\n",
      "        -0.19614008911467898\n",
      "    ]\n",
      "} | config: None | attached to robot: True\n"
     ]
    }
   ],
   "source": [
    "print(end_state['robot'])\n",
    "print(end_state['tool_changer'])"
   ]
  }
 ],
 "metadata": {
  "interpreter": {
   "hash": "e316c14abce5fba3fe9c4f8c619f8000a7b0c13889e51eb6196aed0ab3fd7ed0"
  },
  "kernelspec": {
   "display_name": "Python 3",
   "language": "python",
   "name": "python3"
  },
  "language_info": {
   "codemirror_mode": {
    "name": "ipython",
    "version": 3
   },
   "file_extension": ".py",
   "mimetype": "text/x-python",
   "name": "python",
   "nbconvert_exporter": "python",
   "pygments_lexer": "ipython3",
   "version": "3.7.9"
  }
 },
 "nbformat": 4,
 "nbformat_minor": 5
}
