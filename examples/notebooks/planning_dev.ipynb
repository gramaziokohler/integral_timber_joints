{
 "cells": [
  {
   "cell_type": "code",
   "execution_count": 2,
   "id": "lyric-lounge",
   "metadata": {},
   "outputs": [],
   "source": [
    "# https://ipython.org/ipython-doc/3/config/extensions/``autoreload.html\n",
    "%load_ext autoreload\n",
    "%autoreload 2"
   ]
  },
  {
   "cell_type": "markdown",
   "id": "selective-assembly",
   "metadata": {},
   "source": [
    "## Options"
   ]
  },
  {
   "cell_type": "code",
   "execution_count": 3,
   "id": "enabling-institute",
   "metadata": {},
   "outputs": [],
   "source": [
    "# parse options\n",
    "design_dir = '210419_AnticlasticShelter' # '210605_ScrewdriverTestProcess' # 210419_AnticlasticShelter\n",
    "problem = 'shelter_process.json' # 'nine_pieces_process.json' # 'shelter_process.json' pavilion_process.json' # 'twelve_pieces_process.json'\n",
    "problem_subdir = '.'\n",
    "\n",
    "load_external_movements = 0"
   ]
  },
  {
   "cell_type": "code",
   "execution_count": 4,
   "id": "oriental-archives",
   "metadata": {},
   "outputs": [],
   "source": [
    "# client options\n",
    "disable_env = False\n",
    "reinit_tool = False"
   ]
  },
  {
   "cell_type": "code",
   "execution_count": 5,
   "id": "individual-queensland",
   "metadata": {},
   "outputs": [],
   "source": [
    "from collections import namedtuple\n",
    "PlanningArguments = namedtuple('PlanningArguments', ['design_dir', 'problem', 'viewer', 'debug', 'diagnosis', 'movement_id', 'solve_mode', 'viz_upon_found', 'smooth',\n",
    "                                             'save_now', 'write', 'plan_impacted', 'watch', 'step_sim', 'verbose'])\n",
    "# args = PlanningArguments(problem, viewer, debug, diagnosis, id_only, solve_mode, viz_upon_found, save_now, write, plan_impacted, watch, step_sim, verbose)"
   ]
  },
  {
   "cell_type": "markdown",
   "id": "blocked-number",
   "metadata": {},
   "source": [
    "## Parse process from json"
   ]
  },
  {
   "cell_type": "code",
   "execution_count": 6,
   "id": "fiscal-inclusion",
   "metadata": {},
   "outputs": [],
   "source": [
    "import os\n",
    "from termcolor import cprint\n",
    "import pybullet_planning as pp\n",
    "from integral_timber_joints.planning.parsing import parse_process, save_process_and_movements, get_process_path, save_process"
   ]
  },
  {
   "cell_type": "code",
   "execution_count": 7,
   "id": "pregnant-hometown",
   "metadata": {},
   "outputs": [
    {
     "name": "stdout",
     "output_type": "stream",
     "text": [
      "\u001b[34mProcess json parsed from c:\\users\\harry\\dropbox (mit)\\code_ws_dropbox\\itj_ws\\integral_timber_joints\\external\\itj_design_study\\210419_AnticlasticShelter\\shelter_process.json\u001b[0m\n"
     ]
    }
   ],
   "source": [
    "process = parse_process(design_dir, problem, subdir=problem_subdir)\n",
    "\n",
    "# Double check entire solution is valid\n",
    "for beam_id in process.assembly.sequence:\n",
    "    if not process.dependency.beam_all_valid(beam_id):\n",
    "        process.dependency.compute_all(beam_id)\n",
    "        assert process.dependency.beam_all_valid(beam_id)"
   ]
  },
  {
   "cell_type": "code",
   "execution_count": 8,
   "id": "acoustic-kidney",
   "metadata": {},
   "outputs": [],
   "source": [
    "result_path = get_process_path(design_dir, problem, subdir='results')\n",
    "if load_external_movements:\n",
    "    ext_movement_path = os.path.dirname(result_path)\n",
    "    cprint('Loading external movements from {}'.format(ext_movement_path), 'cyan')\n",
    "    movements_modified = process.load_external_movements(ext_movement_path)\n",
    "    assert len(movements_modified) > 0, 'At least one external movements should be loaded for smoothing.'"
   ]
  },
  {
   "cell_type": "markdown",
   "id": "wired-sympathy",
   "metadata": {},
   "source": [
    "## Start client"
   ]
  },
  {
   "cell_type": "code",
   "execution_count": 9,
   "id": "sensitive-spread",
   "metadata": {},
   "outputs": [
    {
     "name": "stdout",
     "output_type": "stream",
     "text": [
      "\u001b[33mUse Track IK: False\u001b[0m\n"
     ]
    }
   ],
   "source": [
    "from integral_timber_joints.planning.robot_setup import load_RFL_world\n",
    "from integral_timber_joints.planning.run import set_initial_state\n",
    "\n",
    "# * Connect to path planning backend and initialize robot parameters\n",
    "# viewer or diagnosis or view_states or watch or step_sim,\n",
    "client, robot, _ = load_RFL_world(viewer=1, verbose=False)\n",
    "set_initial_state(client, robot, process, disable_env=disable_env, reinit_tool=False)"
   ]
  },
  {
   "cell_type": "code",
   "execution_count": 9,
   "id": "italic-elder",
   "metadata": {},
   "outputs": [],
   "source": [
    "client.disconnect()"
   ]
  },
  {
   "cell_type": "code",
   "execution_count": 10,
   "id": "physical-veteran",
   "metadata": {},
   "outputs": [],
   "source": [
    "from integral_timber_joints.planning.robot_setup import GANTRY_ARM_GROUP, GANTRY_GROUP, BARE_ARM_GROUP\n",
    "from compas.robots import Joint\n",
    "import numpy as np\n",
    "\n",
    "joint_names = robot.get_configurable_joint_names(group=GANTRY_ARM_GROUP)\n",
    "joint_types = robot.get_joint_types_by_names(joint_names)\n",
    "# 0.1 rad = 5.7 deg\n",
    "joint_jump_threshold = {jt_name : np.pi/6 \\\n",
    "        if jt_type in [Joint.REVOLUTE, Joint.CONTINUOUS] else 0.1 \\\n",
    "        for jt_name, jt_type in zip(joint_names, joint_types)}"
   ]
  },
  {
   "cell_type": "markdown",
   "id": "swiss-gasoline",
   "metadata": {},
   "source": [
    "## Reset process and client"
   ]
  },
  {
   "cell_type": "code",
   "execution_count": 11,
   "id": "d6b67e38",
   "metadata": {},
   "outputs": [],
   "source": [
    "# ## remove all taught confs\n",
    "# for m in process.movements:\n",
    "#     start_scene = process.get_movement_start_scene(m)\n",
    "#     end_scene = process.get_movement_end_scene(m)\n",
    "#     start_scene[('robot', 'c')] = None\n",
    "#     end_scene[('robot', 'c')] = None"
   ]
  },
  {
   "cell_type": "code",
   "execution_count": 12,
   "id": "forward-relay",
   "metadata": {
    "collapsed": true,
    "jupyter": {
     "outputs_hidden": true
    }
   },
   "outputs": [
    {
     "name": "stdout",
     "output_type": "stream",
     "text": [
      "=====\n",
      "Summary:\n",
      "---\n",
      "(0) \u001b[46m\u001b[33mRoboticFreeMovement(#A355_M0, Free Move reach Storage Approach Frame of PG1500 ('g3'), to get tool., traj 0)\u001b[0m \n",
      "priority \u001b[35m0\u001b[0m | has start conf \u001b[31mFalse\u001b[0m, TCP \u001b[32mTrue\u001b[0m | has end conf \u001b[31mFalse\u001b[0m, TCP \u001b[32mTrue\u001b[0m | has traj \u001b[31mNone\u001b[0m\n",
      "---\n",
      "(1) \u001b[44m\u001b[37mRoboticLinearMovement(#A355_M1, Linear Advance to Storage Frame of PG1500 ('g3'), to get tool., traj 0)\u001b[0m \n",
      "priority \u001b[35m0\u001b[0m | has start conf \u001b[31mFalse\u001b[0m, TCP \u001b[32mTrue\u001b[0m | has end conf \u001b[31mFalse\u001b[0m, TCP \u001b[32mTrue\u001b[0m | has traj \u001b[31mNone\u001b[0m\n",
      "---\n",
      "(2) RoboticDigitalOutput(#A355_M2, Toolchanger Lock PG1500 ('g3')) \n",
      "priority \u001b[37m-1\u001b[0m | has start conf \u001b[31mFalse\u001b[0m, TCP \u001b[32mTrue\u001b[0m | has end conf \u001b[31mFalse\u001b[0m, TCP \u001b[32mTrue\u001b[0m\n",
      "---\n",
      "(3) RoboticDigitalOutput(#A355_M3, PG1500 ('g3') Open Gripper to release itself from storage pad.) \n",
      "priority \u001b[37m-1\u001b[0m | has start conf \u001b[31mFalse\u001b[0m, TCP \u001b[32mTrue\u001b[0m | has end conf \u001b[31mFalse\u001b[0m, TCP \u001b[32mTrue\u001b[0m\n",
      "---\n",
      "(4) \u001b[44m\u001b[37mRoboticLinearMovement(#A355_M4, Linear Retract after getting PG1500 ('g3') from storage., traj 0)\u001b[0m \n",
      "priority \u001b[35m0\u001b[0m | has start conf \u001b[31mFalse\u001b[0m, TCP \u001b[32mTrue\u001b[0m | has end conf \u001b[31mFalse\u001b[0m, TCP \u001b[32mTrue\u001b[0m | has traj \u001b[31mNone\u001b[0m\n",
      "---\n",
      "(5) \u001b[46m\u001b[33mRoboticFreeMovement(#A356_M0, Free Move to reach Pickup Approach Frame of Beam ('b26'), traj 0)\u001b[0m \n",
      "priority \u001b[35m0\u001b[0m | has start conf \u001b[31mFalse\u001b[0m, TCP \u001b[32mTrue\u001b[0m | has end conf \u001b[31mFalse\u001b[0m, TCP \u001b[32mTrue\u001b[0m | has traj \u001b[31mNone\u001b[0m\n",
      "---\n",
      "(6) RoboticDigitalOutput(#A356_M1, Gripper ('g3') Open Gripper before gripping Beam ('b26')) \n",
      "priority \u001b[37m-1\u001b[0m | has start conf \u001b[31mFalse\u001b[0m, TCP \u001b[32mTrue\u001b[0m | has end conf \u001b[31mFalse\u001b[0m, TCP \u001b[32mTrue\u001b[0m\n",
      "---\n",
      "(7) \u001b[44m\u001b[37mRoboticLinearMovement(#A356_M2, Linear Advance to Storage Frame of Beam ('b26'), traj 0)\u001b[0m \n",
      "priority \u001b[35m0\u001b[0m | has start conf \u001b[31mFalse\u001b[0m, TCP \u001b[32mTrue\u001b[0m | has end conf \u001b[31mFalse\u001b[0m, TCP \u001b[32mTrue\u001b[0m | has traj \u001b[31mNone\u001b[0m\n",
      "---\n",
      "(8) OperatorLoadBeamMovement(#A357_M0, Opeartor Load Beam (b26) to Pickup Location) \n",
      "priority \u001b[37m-1\u001b[0m | has start conf \u001b[31mFalse\u001b[0m, TCP \u001b[32mTrue\u001b[0m | has end conf \u001b[31mFalse\u001b[0m, TCP \u001b[32mTrue\u001b[0m\n",
      "---\n",
      "(9) RoboticDigitalOutput(#A358_M0, Gripper ('g3') Close Gripper to grip Beam ('b26')) \n",
      "priority \u001b[37m-1\u001b[0m | has start conf \u001b[31mFalse\u001b[0m, TCP \u001b[32mTrue\u001b[0m | has end conf \u001b[31mFalse\u001b[0m, TCP \u001b[32mTrue\u001b[0m\n",
      "---\n",
      "(10) \u001b[44m\u001b[37mRoboticLinearMovement(#A359_M0, Linear Move to lift up Beam ('b26'), traj 0)\u001b[0m \n",
      "priority \u001b[35m0\u001b[0m | has start conf \u001b[31mFalse\u001b[0m, TCP \u001b[32mTrue\u001b[0m | has end conf \u001b[31mFalse\u001b[0m, TCP \u001b[32mTrue\u001b[0m | has traj \u001b[31mNone\u001b[0m\n",
      "---\n",
      "(11) \u001b[46m\u001b[33mRoboticFreeMovement(#A359_M1, Free Move to reorient Beam ('b26'), traj 0)\u001b[0m \n",
      "priority \u001b[35m0\u001b[0m | has start conf \u001b[31mFalse\u001b[0m, TCP \u001b[32mTrue\u001b[0m | has end conf \u001b[31mFalse\u001b[0m, TCP \u001b[32mTrue\u001b[0m | has traj \u001b[31mNone\u001b[0m\n",
      "---\n",
      "(12) OperatorAttachToolMovement(#A360_M0, Opeartor Attach SL1 ('s1') to Joint (b15-b26) of Beam (b26).) \n",
      "priority \u001b[37m-1\u001b[0m | has start conf \u001b[31mFalse\u001b[0m, TCP \u001b[32mTrue\u001b[0m | has end conf \u001b[31mFalse\u001b[0m, TCP \u001b[32mTrue\u001b[0m\n",
      "---\n",
      "(13) OperatorAttachToolMovement(#A361_M0, Opeartor Attach SL1 ('s2') to Joint (b14-b26) of Beam (b26).) \n",
      "priority \u001b[37m-1\u001b[0m | has start conf \u001b[31mFalse\u001b[0m, TCP \u001b[32mTrue\u001b[0m | has end conf \u001b[31mFalse\u001b[0m, TCP \u001b[32mTrue\u001b[0m\n",
      "---\n",
      "(14) \u001b[46m\u001b[33mRoboticFreeMovement(#A362_M0, Free Move to bring Beam ('b26') to assemble_approach position on structure., traj 0)\u001b[0m \n",
      "priority \u001b[35m0\u001b[0m | has start conf \u001b[31mFalse\u001b[0m, TCP \u001b[32mTrue\u001b[0m | has end conf \u001b[31mFalse\u001b[0m, TCP \u001b[32mTrue\u001b[0m | has traj \u001b[31mNone\u001b[0m\n",
      "---\n",
      "(15) \u001b[44m\u001b[37mRoboticLinearMovement(#A362_M1, Linear Advance to bring Screwdriver tips to touch the predrilled hole., traj 0)\u001b[0m \n",
      "priority \u001b[35m0\u001b[0m | has start conf \u001b[31mFalse\u001b[0m, TCP \u001b[32mTrue\u001b[0m | has end conf \u001b[31mFalse\u001b[0m, TCP \u001b[32mTrue\u001b[0m | has traj \u001b[31mNone\u001b[0m\n",
      "---\n",
      "(16) \u001b[43m\u001b[31mRobotScrewdriverSyncLinearMovement(#A362_M2, Robot and Screwdrivers (['s1', 's2']) syncronously move to screw Beam ('b26'), traj 0)\u001b[0m \n",
      "priority \u001b[34m1\u001b[0m | has start conf \u001b[31mFalse\u001b[0m, TCP \u001b[32mTrue\u001b[0m | has end conf \u001b[31mFalse\u001b[0m, TCP \u001b[32mTrue\u001b[0m | has traj \u001b[31mNone\u001b[0m\n",
      "---\n",
      "(17) RoboticDigitalOutput(#A363_M0, Open Gripper ('g3') and let go of Beam ('b26')) \n",
      "priority \u001b[37m-1\u001b[0m | has start conf \u001b[31mFalse\u001b[0m, TCP \u001b[32mTrue\u001b[0m | has end conf \u001b[31mFalse\u001b[0m, TCP \u001b[32mTrue\u001b[0m\n",
      "---\n",
      "(18) \u001b[44m\u001b[37mRoboticLinearMovement(#A363_M1, Linear retract after placing Beam ('b26'), traj 0)\u001b[0m \n",
      "priority \u001b[35m0\u001b[0m | has start conf \u001b[31mFalse\u001b[0m, TCP \u001b[32mTrue\u001b[0m | has end conf \u001b[31mFalse\u001b[0m, TCP \u001b[32mTrue\u001b[0m | has traj \u001b[31mNone\u001b[0m\n",
      "---\n",
      "(19) \u001b[46m\u001b[33mRoboticFreeMovement(#A364_M0, Free Move to reach Storage Approach Frame of PG1500 ('g3'), to place tool in storage., traj 0)\u001b[0m \n",
      "priority \u001b[35m0\u001b[0m | has start conf \u001b[31mFalse\u001b[0m, TCP \u001b[32mTrue\u001b[0m | has end conf \u001b[31mFalse\u001b[0m, TCP \u001b[32mTrue\u001b[0m | has traj \u001b[31mNone\u001b[0m\n",
      "---\n",
      "(20) \u001b[44m\u001b[37mRoboticLinearMovement(#A364_M1, Linear Advance to Storage Frame of PG1500 ('g3'), to place tool in storage., traj 0)\u001b[0m \n",
      "priority \u001b[35m0\u001b[0m | has start conf \u001b[31mFalse\u001b[0m, TCP \u001b[32mTrue\u001b[0m | has end conf \u001b[31mFalse\u001b[0m, TCP \u001b[32mTrue\u001b[0m | has traj \u001b[31mNone\u001b[0m\n",
      "---\n",
      "(21) RoboticDigitalOutput(#A364_M2, PG1500 ('g3') Close Gripper to lock onto storage pad.) \n",
      "priority \u001b[37m-1\u001b[0m | has start conf \u001b[31mFalse\u001b[0m, TCP \u001b[32mTrue\u001b[0m | has end conf \u001b[31mFalse\u001b[0m, TCP \u001b[32mTrue\u001b[0m\n",
      "---\n",
      "(22) RoboticDigitalOutput(#A364_M3, Toolchanger Unlock PG1500 ('g3')) \n",
      "priority \u001b[37m-1\u001b[0m | has start conf \u001b[31mFalse\u001b[0m, TCP \u001b[32mTrue\u001b[0m | has end conf \u001b[31mFalse\u001b[0m, TCP \u001b[32mTrue\u001b[0m\n",
      "---\n",
      "(23) \u001b[44m\u001b[37mRoboticLinearMovement(#A364_M4, Linear Retract from storage after placing PG1500 ('g3') in storage, traj 0)\u001b[0m \n",
      "priority \u001b[35m0\u001b[0m | has start conf \u001b[31mFalse\u001b[0m, TCP \u001b[32mTrue\u001b[0m | has end conf \u001b[31mFalse\u001b[0m, TCP \u001b[32mTrue\u001b[0m | has traj \u001b[31mNone\u001b[0m\n",
      "---\n",
      "(24) \u001b[46m\u001b[33mRoboticFreeMovement(#A365_M0, Free Move to reach SL1 ('s2') on Beam ('b26') , traj 0)\u001b[0m \n",
      "priority \u001b[35m0\u001b[0m | has start conf \u001b[31mFalse\u001b[0m, TCP \u001b[32mTrue\u001b[0m | has end conf \u001b[31mFalse\u001b[0m, TCP \u001b[32mTrue\u001b[0m | has traj \u001b[31mNone\u001b[0m\n",
      "---\n",
      "(25) AcquireDockingOffset(#A365_M1, Visually acquire offset to Toolchanger of SL1 ('s2') and move to alignment.) \n",
      "priority \u001b[35m0\u001b[0m | has start conf \u001b[31mFalse\u001b[0m, TCP \u001b[32mTrue\u001b[0m | has end conf \u001b[31mFalse\u001b[0m, TCP \u001b[32mTrue\u001b[0m\n",
      "---\n",
      "(26) \u001b[44m\u001b[37mRoboticLinearMovement(#A365_M2, Linear Advance to dock toolchanger of SL1 ('s2')., traj 0)\u001b[0m \n",
      "priority \u001b[35m0\u001b[0m | has start conf \u001b[31mFalse\u001b[0m, TCP \u001b[32mTrue\u001b[0m | has end conf \u001b[31mFalse\u001b[0m, TCP \u001b[32mTrue\u001b[0m | has traj \u001b[31mNone\u001b[0m\n",
      "---\n",
      "(27) RoboticDigitalOutput(#A365_M3, Toolchanger Lock SL1 ('s2')) \n",
      "priority \u001b[37m-1\u001b[0m | has start conf \u001b[31mFalse\u001b[0m, TCP \u001b[32mTrue\u001b[0m | has end conf \u001b[31mFalse\u001b[0m, TCP \u001b[32mTrue\u001b[0m\n",
      "---\n",
      "(28) RoboticDigitalOutput(#A366_M0, Detach Screwdriver ('s2') from Beam ('b26')) \n",
      "priority \u001b[37m-1\u001b[0m | has start conf \u001b[31mFalse\u001b[0m, TCP \u001b[32mTrue\u001b[0m | has end conf \u001b[31mFalse\u001b[0m, TCP \u001b[32mTrue\u001b[0m\n",
      "---\n",
      "(29) \u001b[43m\u001b[31mRobotScrewdriverSyncLinearMovement(#A366_M1, Robot and Screwdriver (s2) syncronously move to retract from Beam ('b26'), traj 0)\u001b[0m \n",
      "priority \u001b[34m1\u001b[0m | has start conf \u001b[31mFalse\u001b[0m, TCP \u001b[32mTrue\u001b[0m | has end conf \u001b[31mFalse\u001b[0m, TCP \u001b[32mTrue\u001b[0m | has traj \u001b[31mNone\u001b[0m\n",
      "---\n",
      "(30) \u001b[44m\u001b[37mRoboticLinearMovement(#A366_M2, Linear retract after placing Beam ('b26'), traj 0)\u001b[0m \n",
      "priority \u001b[35m0\u001b[0m | has start conf \u001b[31mFalse\u001b[0m, TCP \u001b[32mTrue\u001b[0m | has end conf \u001b[31mFalse\u001b[0m, TCP \u001b[32mTrue\u001b[0m | has traj \u001b[31mNone\u001b[0m\n",
      "---\n",
      "(31) CancelRobotOffset(#A366_M3, Cancel Docking Offset) \n",
      "priority \u001b[35m0\u001b[0m | has start conf \u001b[31mFalse\u001b[0m, TCP \u001b[32mTrue\u001b[0m | has end conf \u001b[31mFalse\u001b[0m, TCP \u001b[32mTrue\u001b[0m\n",
      "---\n",
      "(32) \u001b[46m\u001b[33mRoboticFreeMovement(#A367_M0, Free Move to reach Storage Approach Frame of SL1 ('s2'), to place tool in storage., traj 0)\u001b[0m \n",
      "priority \u001b[35m0\u001b[0m | has start conf \u001b[31mFalse\u001b[0m, TCP \u001b[32mTrue\u001b[0m | has end conf \u001b[31mFalse\u001b[0m, TCP \u001b[32mTrue\u001b[0m | has traj \u001b[31mNone\u001b[0m\n",
      "---\n",
      "(33) \u001b[44m\u001b[37mRoboticLinearMovement(#A367_M1, Linear Advance 1 to approach Storage Frame of SL1 ('s2'), to place tool in storage., traj 0)\u001b[0m \n",
      "priority \u001b[35m0\u001b[0m | has start conf \u001b[31mFalse\u001b[0m, TCP \u001b[32mTrue\u001b[0m | has end conf \u001b[31mFalse\u001b[0m, TCP \u001b[32mTrue\u001b[0m | has traj \u001b[31mNone\u001b[0m\n",
      "---\n",
      "(34) \u001b[44m\u001b[37mRoboticLinearMovement(#A367_M2, Linear Advance 2 to Storage Frame of SL1 ('s2'), to place tool in storage., traj 0)\u001b[0m \n",
      "priority \u001b[35m0\u001b[0m | has start conf \u001b[31mFalse\u001b[0m, TCP \u001b[32mTrue\u001b[0m | has end conf \u001b[31mFalse\u001b[0m, TCP \u001b[32mTrue\u001b[0m | has traj \u001b[31mNone\u001b[0m\n",
      "---\n",
      "(35) RoboticDigitalOutput(#A367_M3, Toolchanger Unlock SL1 ('s2')) \n",
      "priority \u001b[37m-1\u001b[0m | has start conf \u001b[31mFalse\u001b[0m, TCP \u001b[32mTrue\u001b[0m | has end conf \u001b[31mFalse\u001b[0m, TCP \u001b[32mTrue\u001b[0m\n",
      "---\n",
      "(36) \u001b[44m\u001b[37mRoboticLinearMovement(#A367_M4, Linear Retract after placing SL1 ('s2') in storage, traj 0)\u001b[0m \n",
      "priority \u001b[35m0\u001b[0m | has start conf \u001b[31mFalse\u001b[0m, TCP \u001b[32mTrue\u001b[0m | has end conf \u001b[31mFalse\u001b[0m, TCP \u001b[32mTrue\u001b[0m | has traj \u001b[31mNone\u001b[0m\n",
      "---\n",
      "(37) \u001b[46m\u001b[33mRoboticFreeMovement(#A368_M0, Free Move to reach SL1 ('s1') on Beam ('b26') , traj 0)\u001b[0m \n",
      "priority \u001b[35m0\u001b[0m | has start conf \u001b[31mFalse\u001b[0m, TCP \u001b[32mTrue\u001b[0m | has end conf \u001b[31mFalse\u001b[0m, TCP \u001b[32mTrue\u001b[0m | has traj \u001b[31mNone\u001b[0m\n",
      "---\n",
      "(38) AcquireDockingOffset(#A368_M1, Visually acquire offset to Toolchanger of SL1 ('s1') and move to alignment.) \n",
      "priority \u001b[35m0\u001b[0m | has start conf \u001b[31mFalse\u001b[0m, TCP \u001b[32mTrue\u001b[0m | has end conf \u001b[31mFalse\u001b[0m, TCP \u001b[32mTrue\u001b[0m\n",
      "---\n",
      "(39) \u001b[44m\u001b[37mRoboticLinearMovement(#A368_M2, Linear Advance to dock toolchanger of SL1 ('s1')., traj 0)\u001b[0m \n",
      "priority \u001b[35m0\u001b[0m | has start conf \u001b[31mFalse\u001b[0m, TCP \u001b[32mTrue\u001b[0m | has end conf \u001b[31mFalse\u001b[0m, TCP \u001b[32mTrue\u001b[0m | has traj \u001b[31mNone\u001b[0m\n",
      "---\n",
      "(40) RoboticDigitalOutput(#A368_M3, Toolchanger Lock SL1 ('s1')) \n",
      "priority \u001b[37m-1\u001b[0m | has start conf \u001b[31mFalse\u001b[0m, TCP \u001b[32mTrue\u001b[0m | has end conf \u001b[31mFalse\u001b[0m, TCP \u001b[32mTrue\u001b[0m\n",
      "---\n",
      "(41) RoboticDigitalOutput(#A369_M0, Detach Screwdriver ('s1') from Beam ('b26')) \n",
      "priority \u001b[37m-1\u001b[0m | has start conf \u001b[31mFalse\u001b[0m, TCP \u001b[32mTrue\u001b[0m | has end conf \u001b[31mFalse\u001b[0m, TCP \u001b[32mTrue\u001b[0m\n",
      "---\n",
      "(42) \u001b[43m\u001b[31mRobotScrewdriverSyncLinearMovement(#A369_M1, Robot and Screwdriver (s1) syncronously move to retract from Beam ('b26'), traj 0)\u001b[0m \n",
      "priority \u001b[34m1\u001b[0m | has start conf \u001b[31mFalse\u001b[0m, TCP \u001b[32mTrue\u001b[0m | has end conf \u001b[31mFalse\u001b[0m, TCP \u001b[32mTrue\u001b[0m | has traj \u001b[31mNone\u001b[0m\n",
      "---\n",
      "(43) \u001b[44m\u001b[37mRoboticLinearMovement(#A369_M2, Linear retract after placing Beam ('b26'), traj 0)\u001b[0m \n",
      "priority \u001b[35m0\u001b[0m | has start conf \u001b[31mFalse\u001b[0m, TCP \u001b[32mTrue\u001b[0m | has end conf \u001b[31mFalse\u001b[0m, TCP \u001b[32mTrue\u001b[0m | has traj \u001b[31mNone\u001b[0m\n",
      "---\n",
      "(44) CancelRobotOffset(#A369_M3, Cancel Docking Offset) \n",
      "priority \u001b[35m0\u001b[0m | has start conf \u001b[31mFalse\u001b[0m, TCP \u001b[32mTrue\u001b[0m | has end conf \u001b[31mFalse\u001b[0m, TCP \u001b[32mTrue\u001b[0m\n",
      "---\n",
      "(45) \u001b[46m\u001b[33mRoboticFreeMovement(#A370_M0, Free Move to reach Storage Approach Frame of SL1 ('s1'), to place tool in storage., traj 0)\u001b[0m \n",
      "priority \u001b[35m0\u001b[0m | has start conf \u001b[31mFalse\u001b[0m, TCP \u001b[32mTrue\u001b[0m | has end conf \u001b[31mFalse\u001b[0m, TCP \u001b[32mTrue\u001b[0m | has traj \u001b[31mNone\u001b[0m\n",
      "---\n",
      "(46) \u001b[44m\u001b[37mRoboticLinearMovement(#A370_M1, Linear Advance 1 to approach Storage Frame of SL1 ('s1'), to place tool in storage., traj 0)\u001b[0m \n",
      "priority \u001b[35m0\u001b[0m | has start conf \u001b[31mFalse\u001b[0m, TCP \u001b[32mTrue\u001b[0m | has end conf \u001b[31mFalse\u001b[0m, TCP \u001b[32mTrue\u001b[0m | has traj \u001b[31mNone\u001b[0m\n",
      "---\n",
      "(47) \u001b[44m\u001b[37mRoboticLinearMovement(#A370_M2, Linear Advance 2 to Storage Frame of SL1 ('s1'), to place tool in storage., traj 0)\u001b[0m \n",
      "priority \u001b[35m0\u001b[0m | has start conf \u001b[31mFalse\u001b[0m, TCP \u001b[32mTrue\u001b[0m | has end conf \u001b[31mFalse\u001b[0m, TCP \u001b[32mTrue\u001b[0m | has traj \u001b[31mNone\u001b[0m\n",
      "---\n",
      "(48) RoboticDigitalOutput(#A370_M3, Toolchanger Unlock SL1 ('s1')) \n",
      "priority \u001b[37m-1\u001b[0m | has start conf \u001b[31mFalse\u001b[0m, TCP \u001b[32mTrue\u001b[0m | has end conf \u001b[31mFalse\u001b[0m, TCP \u001b[32mTrue\u001b[0m\n",
      "---\n",
      "(49) \u001b[44m\u001b[37mRoboticLinearMovement(#A370_M4, Linear Retract after placing SL1 ('s1') in storage, traj 0)\u001b[0m \n",
      "priority \u001b[35m0\u001b[0m | has start conf \u001b[31mFalse\u001b[0m, TCP \u001b[32mTrue\u001b[0m | has end conf \u001b[31mFalse\u001b[0m, TCP \u001b[32mTrue\u001b[0m | has traj \u001b[31mNone\u001b[0m\n"
     ]
    }
   ],
   "source": [
    "beam_id = 'b26' # 7, 12\n",
    "process.get_movement_summary_by_beam_id(beam_id)"
   ]
  },
  {
   "cell_type": "code",
   "execution_count": 22,
   "id": "urban-floor",
   "metadata": {},
   "outputs": [],
   "source": [
    "from integral_timber_joints.planning.robot_setup import load_RFL_world\n",
    "from integral_timber_joints.planning.run import set_initial_state\n",
    "\n",
    "client, robot, _ = load_RFL_world(viewer=1, verbose=False)\n",
    "set_initial_state(client, robot, process, disable_env=disable_env, reinit_tool=reinit_tool)"
   ]
  },
  {
   "cell_type": "code",
   "execution_count": 28,
   "id": "8cf9478c",
   "metadata": {},
   "outputs": [],
   "source": [
    "client.disconnect()"
   ]
  },
  {
   "cell_type": "code",
   "execution_count": 24,
   "id": "documented-holiday",
   "metadata": {},
   "outputs": [],
   "source": [
    "pp.remove_all_debug()\n",
    "# client.set_robot_configuration(robot, process.robot_initial_config)"
   ]
  },
  {
   "cell_type": "code",
   "execution_count": 11,
   "id": "simplified-seller",
   "metadata": {},
   "outputs": [],
   "source": [
    "from integral_timber_joints.planning.state import set_state\n",
    "set_state(client, robot, process, process.initial_state, initialize=False)"
   ]
  },
  {
   "cell_type": "markdown",
   "id": "249ee44b",
   "metadata": {},
   "source": [
    "## One test run"
   ]
  },
  {
   "cell_type": "code",
   "execution_count": 27,
   "id": "conservative-trinity",
   "metadata": {},
   "outputs": [
    {
     "name": "stdout",
     "output_type": "stream",
     "text": [
      "\u001b[33mComputing only for A362_M0\u001b[0m\n",
      "====================\n",
      "\n",
      "\n",
      "\n",
      "\u001b[1m\u001b[47m\u001b[34m* compute movement ids: ['A362_M0']\u001b[0m\n",
      "----------\n",
      "(1134)\n",
      "\u001b[36mRoboticFreeMovement(#A362_M0, Free Move to bring Beam ('b26') to assemble_approach position on structure., traj 0)\u001b[0m\n",
      "\u001b[33mFreeMovement: Robot start conf is NOT specified in RoboticFreeMovement(#A362_M0, Free Move to bring Beam ('b26') to assemble_approach position on structure., traj 0), we will sample an IK conf based on the given t0cp frame.\u001b[0m\n",
      "Start conf sample found after 0 gantry iters.\n",
      "\u001b[33mFreeMovement: Robot end conf is NOT specified in RoboticFreeMovement(#A362_M0, Free Move to bring Beam ('b26') to assemble_approach position on structure., traj 0), we will sample an IK conf based on the given t0cp frame.\u001b[0m\n",
      "End conf sample found after 0 gantry iters.\n",
      "Free motion | START linear buffer: trying retraction dist 0.0000 in [0, 0, 0]\n",
      "\u001b[32mStart 0.0 retraction dist along [0, 0, 0]\u001b[0m\n",
      "- Free motion | END linear buffer: trying retraction dist 0.0000 in [0, 0, 0]\n",
      "\u001b[32mEnd 0.0 retraction dist along [0, 0, 0]\u001b[0m\n"
     ]
    },
    {
     "ename": "KeyboardInterrupt",
     "evalue": "",
     "output_type": "error",
     "traceback": [
      "\u001b[1;31m---------------------------------------------------------------------------\u001b[0m",
      "\u001b[1;31mKeyboardInterrupt\u001b[0m                         Traceback (most recent call last)",
      "\u001b[1;32m<ipython-input-27-cfec242f4b38>\u001b[0m in \u001b[0;36m<module>\u001b[1;34m\u001b[0m\n\u001b[0;32m     37\u001b[0m \u001b[1;31m# options['movement_id_range'] = list(reversed(range(0, len(all_movements))))\u001b[0m\u001b[1;33m\u001b[0m\u001b[1;33m\u001b[0m\u001b[1;33m\u001b[0m\u001b[0m\n\u001b[0;32m     38\u001b[0m \u001b[1;33m\u001b[0m\u001b[0m\n\u001b[1;32m---> 39\u001b[1;33m \u001b[0msuccess\u001b[0m \u001b[1;33m=\u001b[0m \u001b[0mcompute_movements_for_beam_id\u001b[0m\u001b[1;33m(\u001b[0m\u001b[0mclient\u001b[0m\u001b[1;33m,\u001b[0m \u001b[0mrobot\u001b[0m\u001b[1;33m,\u001b[0m \u001b[0mprocess\u001b[0m\u001b[1;33m,\u001b[0m \u001b[0mbeam_id\u001b[0m\u001b[1;33m,\u001b[0m \u001b[0margs\u001b[0m\u001b[1;33m,\u001b[0m \u001b[0moptions\u001b[0m\u001b[1;33m=\u001b[0m\u001b[0moptions\u001b[0m\u001b[1;33m)\u001b[0m\u001b[1;33m\u001b[0m\u001b[1;33m\u001b[0m\u001b[0m\n\u001b[0m",
      "\u001b[1;32mc:\\users\\harry\\dropbox (mit)\\code_ws_dropbox\\itj_ws\\integral_timber_joints\\src\\integral_timber_joints\\planning\\run.py\u001b[0m in \u001b[0;36mcompute_movements_for_beam_id\u001b[1;34m(client, robot, process, beam_id, args, options)\u001b[0m\n\u001b[0;32m    191\u001b[0m \u001b[1;33m\u001b[0m\u001b[0m\n\u001b[0;32m    192\u001b[0m                 success, altered_ms = compute_selected_movements(client, robot, process, beam_id, 0, [],\n\u001b[1;32m--> 193\u001b[1;33m                     None, options=options, diagnosis=args.diagnosis)\n\u001b[0m\u001b[0;32m    194\u001b[0m                 \u001b[1;32mif\u001b[0m \u001b[1;32mnot\u001b[0m \u001b[0msuccess\u001b[0m\u001b[1;33m:\u001b[0m\u001b[1;33m\u001b[0m\u001b[1;33m\u001b[0m\u001b[0m\n\u001b[0;32m    195\u001b[0m                     \u001b[0mlogging\u001b[0m\u001b[1;33m.\u001b[0m\u001b[0minfo\u001b[0m\u001b[1;33m(\u001b[0m\u001b[1;34m'A plan NOT found for movement_id {}!'\u001b[0m\u001b[1;33m.\u001b[0m\u001b[0mformat\u001b[0m\u001b[1;33m(\u001b[0m\u001b[0margs\u001b[0m\u001b[1;33m.\u001b[0m\u001b[0mmovement_id\u001b[0m\u001b[1;33m)\u001b[0m\u001b[1;33m)\u001b[0m\u001b[1;33m\u001b[0m\u001b[1;33m\u001b[0m\u001b[0m\n",
      "\u001b[1;32mc:\\users\\harry\\dropbox (mit)\\code_ws_dropbox\\itj_ws\\integral_timber_joints\\src\\integral_timber_joints\\planning\\solve.py\u001b[0m in \u001b[0;36mcompute_selected_movements\u001b[1;34m(client, robot, process, beam_id, priority, movement_types, movement_statuses, options, viz_upon_found, diagnosis, check_type_only)\u001b[0m\n\u001b[0;32m    255\u001b[0m                     \u001b[1;31m#     print('Movement planning attempt {}'.format(attempt))\u001b[0m\u001b[1;33m\u001b[0m\u001b[1;33m\u001b[0m\u001b[1;33m\u001b[0m\u001b[0m\n\u001b[0;32m    256\u001b[0m                     \u001b[0mstart_time\u001b[0m \u001b[1;33m=\u001b[0m \u001b[0mtime\u001b[0m\u001b[1;33m.\u001b[0m\u001b[0mtime\u001b[0m\u001b[1;33m(\u001b[0m\u001b[1;33m)\u001b[0m\u001b[1;33m\u001b[0m\u001b[1;33m\u001b[0m\u001b[0m\n\u001b[1;32m--> 257\u001b[1;33m                     \u001b[0mplan_success\u001b[0m \u001b[1;33m=\u001b[0m \u001b[0mcompute_movement\u001b[0m\u001b[1;33m(\u001b[0m\u001b[0mclient\u001b[0m\u001b[1;33m,\u001b[0m \u001b[0mrobot\u001b[0m\u001b[1;33m,\u001b[0m \u001b[0mprocess\u001b[0m\u001b[1;33m,\u001b[0m \u001b[0mm\u001b[0m\u001b[1;33m,\u001b[0m \u001b[0moptions\u001b[0m\u001b[1;33m,\u001b[0m \u001b[0mdiagnosis\u001b[0m\u001b[1;33m)\u001b[0m\u001b[1;33m\u001b[0m\u001b[1;33m\u001b[0m\u001b[0m\n\u001b[0m\u001b[0;32m    258\u001b[0m                     \u001b[0mplan_time\u001b[0m \u001b[1;33m=\u001b[0m \u001b[0melapsed_time\u001b[0m\u001b[1;33m(\u001b[0m\u001b[0mstart_time\u001b[0m\u001b[1;33m)\u001b[0m\u001b[1;33m\u001b[0m\u001b[1;33m\u001b[0m\u001b[0m\n\u001b[0;32m    259\u001b[0m                     \u001b[1;32mif\u001b[0m \u001b[1;34m'profiles'\u001b[0m \u001b[1;32min\u001b[0m \u001b[0moptions\u001b[0m\u001b[1;33m:\u001b[0m\u001b[1;33m\u001b[0m\u001b[1;33m\u001b[0m\u001b[0m\n",
      "\u001b[1;32mc:\\users\\harry\\dropbox (mit)\\code_ws_dropbox\\itj_ws\\integral_timber_joints\\src\\integral_timber_joints\\planning\\solve.py\u001b[0m in \u001b[0;36mcompute_movement\u001b[1;34m(client, robot, process, movement, options, diagnosis)\u001b[0m\n\u001b[0;32m    164\u001b[0m             }\n\u001b[0;32m    165\u001b[0m         \u001b[0mfm_options\u001b[0m\u001b[1;33m.\u001b[0m\u001b[0mupdate\u001b[0m\u001b[1;33m(\u001b[0m\u001b[0moptions\u001b[0m\u001b[1;33m)\u001b[0m\u001b[1;33m\u001b[0m\u001b[1;33m\u001b[0m\u001b[0m\n\u001b[1;32m--> 166\u001b[1;33m         \u001b[0mtraj\u001b[0m \u001b[1;33m=\u001b[0m \u001b[0mcompute_free_movement\u001b[0m\u001b[1;33m(\u001b[0m\u001b[0mclient\u001b[0m\u001b[1;33m,\u001b[0m \u001b[0mrobot\u001b[0m\u001b[1;33m,\u001b[0m \u001b[0mprocess\u001b[0m\u001b[1;33m,\u001b[0m \u001b[0mmovement\u001b[0m\u001b[1;33m,\u001b[0m \u001b[0mfm_options\u001b[0m\u001b[1;33m,\u001b[0m \u001b[0mdiagnosis\u001b[0m\u001b[1;33m)\u001b[0m\u001b[1;33m\u001b[0m\u001b[1;33m\u001b[0m\u001b[0m\n\u001b[0m\u001b[0;32m    167\u001b[0m     \u001b[1;32melse\u001b[0m\u001b[1;33m:\u001b[0m\u001b[1;33m\u001b[0m\u001b[1;33m\u001b[0m\u001b[0m\n\u001b[0;32m    168\u001b[0m         \u001b[1;32mraise\u001b[0m \u001b[0mValueError\u001b[0m\u001b[1;33m(\u001b[0m\u001b[1;33m)\u001b[0m\u001b[1;33m\u001b[0m\u001b[1;33m\u001b[0m\u001b[0m\n",
      "\u001b[1;32mc:\\users\\harry\\dropbox (mit)\\code_ws_dropbox\\itj_ws\\integral_timber_joints\\src\\integral_timber_joints\\planning\\stream.py\u001b[0m in \u001b[0;36mcompute_free_movement\u001b[1;34m(client, robot, process, movement, options, diagnosis)\u001b[0m\n\u001b[0;32m    618\u001b[0m                         \u001b[1;31m#     d_options['diagnosis'] = True\u001b[0m\u001b[1;33m\u001b[0m\u001b[1;33m\u001b[0m\u001b[1;33m\u001b[0m\u001b[0m\n\u001b[0;32m    619\u001b[0m                         free_traj = client.plan_motion(robot, goal_constraints, start_configuration=new_start_conf,\n\u001b[1;32m--> 620\u001b[1;33m                             group=GANTRY_ARM_GROUP, options=d_options)\n\u001b[0m\u001b[0;32m    621\u001b[0m \u001b[1;33m\u001b[0m\u001b[0m\n\u001b[0;32m    622\u001b[0m                     \u001b[0mretraction_msg\u001b[0m \u001b[1;33m=\u001b[0m \u001b[1;34m\"(st {}|{:.4f} ; end {}|{:.4f})\"\u001b[0m\u001b[1;33m.\u001b[0m\u001b[0mformat\u001b[0m\u001b[1;33m(\u001b[0m\u001b[0mstart_v\u001b[0m\u001b[1;33m,\u001b[0m \u001b[0mstart_dist\u001b[0m\u001b[1;33m,\u001b[0m \u001b[0mend_v\u001b[0m\u001b[1;33m,\u001b[0m \u001b[0mend_dist\u001b[0m\u001b[1;33m)\u001b[0m\u001b[1;33m\u001b[0m\u001b[1;33m\u001b[0m\u001b[0m\n",
      "\u001b[1;32mc:\\users\\harry\\dropbox (mit)\\code_ws_dropbox\\itj_ws\\integral_timber_joints\\external\\compas_fab\\src\\compas_fab\\backends\\interfaces\\client.py\u001b[0m in \u001b[0;36mplan_motion\u001b[1;34m(self, *args, **kwargs)\u001b[0m\n\u001b[0;32m     37\u001b[0m     \u001b[1;32mdef\u001b[0m \u001b[0mplan_motion\u001b[0m\u001b[1;33m(\u001b[0m\u001b[0mself\u001b[0m\u001b[1;33m,\u001b[0m \u001b[1;33m*\u001b[0m\u001b[0margs\u001b[0m\u001b[1;33m,\u001b[0m \u001b[1;33m**\u001b[0m\u001b[0mkwargs\u001b[0m\u001b[1;33m)\u001b[0m\u001b[1;33m:\u001b[0m\u001b[1;33m\u001b[0m\u001b[1;33m\u001b[0m\u001b[0m\n\u001b[0;32m     38\u001b[0m         \u001b[1;34m\"\"\"Forwards call to appropriate method in the planner.\"\"\"\u001b[0m\u001b[1;33m\u001b[0m\u001b[1;33m\u001b[0m\u001b[0m\n\u001b[1;32m---> 39\u001b[1;33m         \u001b[1;32mreturn\u001b[0m \u001b[0mself\u001b[0m\u001b[1;33m.\u001b[0m\u001b[0mplanner\u001b[0m\u001b[1;33m.\u001b[0m\u001b[0mplan_motion\u001b[0m\u001b[1;33m(\u001b[0m\u001b[1;33m*\u001b[0m\u001b[0margs\u001b[0m\u001b[1;33m,\u001b[0m \u001b[1;33m**\u001b[0m\u001b[0mkwargs\u001b[0m\u001b[1;33m)\u001b[0m\u001b[1;33m\u001b[0m\u001b[1;33m\u001b[0m\u001b[0m\n\u001b[0m\u001b[0;32m     40\u001b[0m \u001b[1;33m\u001b[0m\u001b[0m\n\u001b[0;32m     41\u001b[0m     \u001b[1;31m# ==========================================================================\u001b[0m\u001b[1;33m\u001b[0m\u001b[1;33m\u001b[0m\u001b[1;33m\u001b[0m\u001b[0m\n",
      "\u001b[1;32mc:\\users\\harry\\dropbox (mit)\\code_ws_dropbox\\itj_ws\\integral_timber_joints\\external\\compas_fab_pychoreo\\src\\compas_fab_pychoreo\\planner.py\u001b[0m in \u001b[0;36mplan_motion\u001b[1;34m(self, *args, **kwargs)\u001b[0m\n\u001b[0;32m     35\u001b[0m \u001b[1;33m\u001b[0m\u001b[0m\n\u001b[0;32m     36\u001b[0m     \u001b[1;32mdef\u001b[0m \u001b[0mplan_motion\u001b[0m\u001b[1;33m(\u001b[0m\u001b[0mself\u001b[0m\u001b[1;33m,\u001b[0m \u001b[1;33m*\u001b[0m\u001b[0margs\u001b[0m\u001b[1;33m,\u001b[0m \u001b[1;33m**\u001b[0m\u001b[0mkwargs\u001b[0m\u001b[1;33m)\u001b[0m\u001b[1;33m:\u001b[0m\u001b[1;33m\u001b[0m\u001b[1;33m\u001b[0m\u001b[0m\n\u001b[1;32m---> 37\u001b[1;33m         \u001b[1;32mreturn\u001b[0m \u001b[0mPyChoreoPlanMotion\u001b[0m\u001b[1;33m(\u001b[0m\u001b[0mself\u001b[0m\u001b[1;33m.\u001b[0m\u001b[0mclient\u001b[0m\u001b[1;33m)\u001b[0m\u001b[1;33m(\u001b[0m\u001b[1;33m*\u001b[0m\u001b[0margs\u001b[0m\u001b[1;33m,\u001b[0m \u001b[1;33m**\u001b[0m\u001b[0mkwargs\u001b[0m\u001b[1;33m)\u001b[0m\u001b[1;33m\u001b[0m\u001b[1;33m\u001b[0m\u001b[0m\n\u001b[0m\u001b[0;32m     38\u001b[0m \u001b[1;33m\u001b[0m\u001b[0m\n\u001b[0;32m     39\u001b[0m     \u001b[1;31m###################################################\u001b[0m\u001b[1;33m\u001b[0m\u001b[1;33m\u001b[0m\u001b[1;33m\u001b[0m\u001b[0m\n",
      "\u001b[1;32mc:\\users\\harry\\dropbox (mit)\\code_ws_dropbox\\itj_ws\\integral_timber_joints\\external\\compas_fab\\src\\compas_fab\\backends\\interfaces\\backend_features.py\u001b[0m in \u001b[0;36m__call__\u001b[1;34m(self, robot, goal_constraints, start_configuration, group, options)\u001b[0m\n\u001b[0;32m     87\u001b[0m \u001b[1;33m\u001b[0m\u001b[0m\n\u001b[0;32m     88\u001b[0m     \u001b[1;32mdef\u001b[0m \u001b[0m__call__\u001b[0m\u001b[1;33m(\u001b[0m\u001b[0mself\u001b[0m\u001b[1;33m,\u001b[0m \u001b[0mrobot\u001b[0m\u001b[1;33m,\u001b[0m \u001b[0mgoal_constraints\u001b[0m\u001b[1;33m,\u001b[0m \u001b[0mstart_configuration\u001b[0m\u001b[1;33m=\u001b[0m\u001b[1;32mNone\u001b[0m\u001b[1;33m,\u001b[0m \u001b[0mgroup\u001b[0m\u001b[1;33m=\u001b[0m\u001b[1;32mNone\u001b[0m\u001b[1;33m,\u001b[0m \u001b[0moptions\u001b[0m\u001b[1;33m=\u001b[0m\u001b[1;32mNone\u001b[0m\u001b[1;33m)\u001b[0m\u001b[1;33m:\u001b[0m\u001b[1;33m\u001b[0m\u001b[1;33m\u001b[0m\u001b[0m\n\u001b[1;32m---> 89\u001b[1;33m         \u001b[1;32mreturn\u001b[0m \u001b[0mself\u001b[0m\u001b[1;33m.\u001b[0m\u001b[0mplan_motion\u001b[0m\u001b[1;33m(\u001b[0m\u001b[0mrobot\u001b[0m\u001b[1;33m,\u001b[0m \u001b[0mgoal_constraints\u001b[0m\u001b[1;33m,\u001b[0m \u001b[0mstart_configuration\u001b[0m\u001b[1;33m,\u001b[0m \u001b[0mgroup\u001b[0m\u001b[1;33m,\u001b[0m \u001b[0moptions\u001b[0m\u001b[1;33m)\u001b[0m\u001b[1;33m\u001b[0m\u001b[1;33m\u001b[0m\u001b[0m\n\u001b[0m\u001b[0;32m     90\u001b[0m \u001b[1;33m\u001b[0m\u001b[0m\n\u001b[0;32m     91\u001b[0m     \u001b[1;32mdef\u001b[0m \u001b[0mplan_motion\u001b[0m\u001b[1;33m(\u001b[0m\u001b[0mself\u001b[0m\u001b[1;33m,\u001b[0m \u001b[0mrobot\u001b[0m\u001b[1;33m,\u001b[0m \u001b[0mgoal_constraints\u001b[0m\u001b[1;33m,\u001b[0m \u001b[0mstart_configuration\u001b[0m\u001b[1;33m=\u001b[0m\u001b[1;32mNone\u001b[0m\u001b[1;33m,\u001b[0m \u001b[0mgroup\u001b[0m\u001b[1;33m=\u001b[0m\u001b[1;32mNone\u001b[0m\u001b[1;33m,\u001b[0m \u001b[0moptions\u001b[0m\u001b[1;33m=\u001b[0m\u001b[1;32mNone\u001b[0m\u001b[1;33m)\u001b[0m\u001b[1;33m:\u001b[0m\u001b[1;33m\u001b[0m\u001b[1;33m\u001b[0m\u001b[0m\n",
      "\u001b[1;32mc:\\users\\harry\\dropbox (mit)\\code_ws_dropbox\\itj_ws\\integral_timber_joints\\external\\compas_fab_pychoreo\\src\\compas_fab_pychoreo\\backend_features\\pychoreo_plan_motion.py\u001b[0m in \u001b[0;36mplan_motion\u001b[1;34m(self, robot, goal_constraints, start_configuration, group, options)\u001b[0m\n\u001b[0;32m    184\u001b[0m             path = solve_motion_plan(start_conf, end_conf, distance_fn, sample_fn, extend_fn, collision_fn,\n\u001b[0;32m    185\u001b[0m                 \u001b[0malgorithm\u001b[0m\u001b[1;33m=\u001b[0m\u001b[0malgorithm\u001b[0m\u001b[1;33m,\u001b[0m \u001b[0mmax_time\u001b[0m\u001b[1;33m=\u001b[0m\u001b[0mmax_time\u001b[0m\u001b[1;33m,\u001b[0m \u001b[0mmax_iterations\u001b[0m\u001b[1;33m=\u001b[0m\u001b[0mmax_iterations\u001b[0m\u001b[1;33m,\u001b[0m \u001b[0msmooth\u001b[0m\u001b[1;33m=\u001b[0m\u001b[0msmooth_iterations\u001b[0m\u001b[1;33m,\u001b[0m\u001b[1;33m\u001b[0m\u001b[1;33m\u001b[0m\u001b[0m\n\u001b[1;32m--> 186\u001b[1;33m                 **plan_options) #num_samples=num_samples,\n\u001b[0m\u001b[0;32m    187\u001b[0m \u001b[1;33m\u001b[0m\u001b[0m\n\u001b[0;32m    188\u001b[0m         \u001b[1;32mif\u001b[0m \u001b[0mpath\u001b[0m \u001b[1;32mis\u001b[0m \u001b[1;32mNone\u001b[0m\u001b[1;33m:\u001b[0m\u001b[1;33m\u001b[0m\u001b[1;33m\u001b[0m\u001b[0m\n",
      "\u001b[1;32mc:\\users\\harry\\dropbox (mit)\\code_ws_dropbox\\itj_ws\\integral_timber_joints\\external\\compas_fab_pychoreo\\external\\pybullet_planning\\src\\pybullet_planning\\motion_planners\\meta.py\u001b[0m in \u001b[0;36msolve_motion_plan\u001b[1;34m(start, goal, distance_fn, sample_fn, extend_fn, collision_fn, algorithm, max_time, max_iterations, num_samples, smooth, **kwargs)\u001b[0m\n\u001b[0;32m    140\u001b[0m         \u001b[1;31m# TODO: checks the straight-line twice\u001b[0m\u001b[1;33m\u001b[0m\u001b[1;33m\u001b[0m\u001b[1;33m\u001b[0m\u001b[0m\n\u001b[0;32m    141\u001b[0m         path = birrt(start, goal, distance_fn, sample_fn, extend_fn, collision_fn,\n\u001b[1;32m--> 142\u001b[1;33m                      max_iterations=max_iterations, max_time=max_time, smooth=None, **kwargs) # restarts=2\n\u001b[0m\u001b[0;32m    143\u001b[0m     \u001b[1;32melif\u001b[0m \u001b[0malgorithm\u001b[0m \u001b[1;33m==\u001b[0m \u001b[1;34m'rrt_star'\u001b[0m\u001b[1;33m:\u001b[0m\u001b[1;33m\u001b[0m\u001b[1;33m\u001b[0m\u001b[0m\n\u001b[0;32m    144\u001b[0m         path = rrt_star(start, goal, distance_fn, sample_fn, extend_fn, collision_fn, radius=1,\n",
      "\u001b[1;32mc:\\users\\harry\\dropbox (mit)\\code_ws_dropbox\\itj_ws\\integral_timber_joints\\external\\compas_fab_pychoreo\\external\\pybullet_planning\\src\\pybullet_planning\\motion_planners\\rrt_connect.py\u001b[0m in \u001b[0;36mbirrt\u001b[1;34m(start, goal, distance_fn, sample_fn, extend_fn, collision_fn, **kwargs)\u001b[0m\n\u001b[0;32m    105\u001b[0m     \u001b[1;32mfrom\u001b[0m \u001b[1;33m.\u001b[0m\u001b[0mmeta\u001b[0m \u001b[1;32mimport\u001b[0m \u001b[0mrandom_restarts\u001b[0m\u001b[1;33m\u001b[0m\u001b[1;33m\u001b[0m\u001b[0m\n\u001b[0;32m    106\u001b[0m     solutions = random_restarts(rrt_connect, start, goal, distance_fn, sample_fn, extend_fn, collision_fn,\n\u001b[1;32m--> 107\u001b[1;33m                                 max_solutions=1, **kwargs)\n\u001b[0m\u001b[0;32m    108\u001b[0m     \u001b[1;32mif\u001b[0m \u001b[1;32mnot\u001b[0m \u001b[0msolutions\u001b[0m\u001b[1;33m:\u001b[0m\u001b[1;33m\u001b[0m\u001b[1;33m\u001b[0m\u001b[0m\n\u001b[0;32m    109\u001b[0m         \u001b[1;32mreturn\u001b[0m \u001b[1;32mNone\u001b[0m\u001b[1;33m\u001b[0m\u001b[1;33m\u001b[0m\u001b[0m\n",
      "\u001b[1;32mc:\\users\\harry\\dropbox (mit)\\code_ws_dropbox\\itj_ws\\integral_timber_joints\\external\\compas_fab_pychoreo\\external\\pybullet_planning\\src\\pybullet_planning\\motion_planners\\meta.py\u001b[0m in \u001b[0;36mrandom_restarts\u001b[1;34m(solve_fn, start, goal, distance_fn, sample_fn, extend_fn, collision_fn, restarts, smooth, success_cost, max_time, max_solutions, verbose, **kwargs)\u001b[0m\n\u001b[0;32m     95\u001b[0m         \u001b[0mattempt_time\u001b[0m \u001b[1;33m=\u001b[0m \u001b[1;33m(\u001b[0m\u001b[0mmax_time\u001b[0m \u001b[1;33m-\u001b[0m \u001b[0melapsed_time\u001b[0m\u001b[1;33m(\u001b[0m\u001b[0mstart_time\u001b[0m\u001b[1;33m)\u001b[0m\u001b[1;33m)\u001b[0m\u001b[1;33m\u001b[0m\u001b[1;33m\u001b[0m\u001b[0m\n\u001b[0;32m     96\u001b[0m         path = solve_fn(start, goal, distance_fn, sample_fn, extend_fn, collision_fn,\n\u001b[1;32m---> 97\u001b[1;33m                         max_time=attempt_time, **kwargs)\n\u001b[0m\u001b[0;32m     98\u001b[0m         \u001b[1;32mif\u001b[0m \u001b[0mpath\u001b[0m \u001b[1;32mis\u001b[0m \u001b[1;32mNone\u001b[0m\u001b[1;33m:\u001b[0m\u001b[1;33m\u001b[0m\u001b[1;33m\u001b[0m\u001b[0m\n\u001b[0;32m     99\u001b[0m             \u001b[1;32mcontinue\u001b[0m\u001b[1;33m\u001b[0m\u001b[1;33m\u001b[0m\u001b[0m\n",
      "\u001b[1;32mc:\\users\\harry\\dropbox (mit)\\code_ws_dropbox\\itj_ws\\integral_timber_joints\\external\\compas_fab_pychoreo\\external\\pybullet_planning\\src\\pybullet_planning\\motion_planners\\rrt_connect.py\u001b[0m in \u001b[0;36mrrt_connect\u001b[1;34m(q1, q2, distance_fn, sample_fn, extend_fn, collision_fn, max_iterations, max_time, verbose, draw_fn, enforce_alternate, **kwargs)\u001b[0m\n\u001b[0;32m     78\u001b[0m         \u001b[1;32mif\u001b[0m \u001b[0mdraw_fn\u001b[0m\u001b[1;33m:\u001b[0m\u001b[1;33m\u001b[0m\u001b[1;33m\u001b[0m\u001b[0m\n\u001b[0;32m     79\u001b[0m             \u001b[1;32mfor\u001b[0m \u001b[0msp1\u001b[0m\u001b[1;33m,\u001b[0m \u001b[0msp2\u001b[0m \u001b[1;32min\u001b[0m \u001b[0mzip\u001b[0m\u001b[1;33m(\u001b[0m\u001b[0mtree1\u001b[0m\u001b[1;33m,\u001b[0m \u001b[0mtree2\u001b[0m\u001b[1;33m)\u001b[0m\u001b[1;33m:\u001b[0m\u001b[1;33m\u001b[0m\u001b[1;33m\u001b[0m\u001b[0m\n\u001b[1;32m---> 80\u001b[1;33m                 \u001b[0msp1\u001b[0m\u001b[1;33m.\u001b[0m\u001b[0mdraw\u001b[0m\u001b[1;33m(\u001b[0m\u001b[0mdraw_fn\u001b[0m\u001b[1;33m)\u001b[0m\u001b[1;33m\u001b[0m\u001b[1;33m\u001b[0m\u001b[0m\n\u001b[0m\u001b[0;32m     81\u001b[0m                 \u001b[0msp2\u001b[0m\u001b[1;33m.\u001b[0m\u001b[0mdraw\u001b[0m\u001b[1;33m(\u001b[0m\u001b[0mdraw_fn\u001b[0m\u001b[1;33m)\u001b[0m\u001b[1;33m\u001b[0m\u001b[1;33m\u001b[0m\u001b[0m\n\u001b[0;32m     82\u001b[0m \u001b[1;33m\u001b[0m\u001b[0m\n",
      "\u001b[1;32mc:\\users\\harry\\dropbox (mit)\\code_ws_dropbox\\itj_ws\\integral_timber_joints\\external\\compas_fab_pychoreo\\external\\pybullet_planning\\src\\pybullet_planning\\motion_planners\\rrt.py\u001b[0m in \u001b[0;36mdraw\u001b[1;34m(self, draw_fn, valid)\u001b[0m\n\u001b[0;32m     27\u001b[0m     \u001b[1;32mdef\u001b[0m \u001b[0mdraw\u001b[0m\u001b[1;33m(\u001b[0m\u001b[0mself\u001b[0m\u001b[1;33m,\u001b[0m \u001b[0mdraw_fn\u001b[0m\u001b[1;33m,\u001b[0m \u001b[0mvalid\u001b[0m\u001b[1;33m=\u001b[0m\u001b[1;32mTrue\u001b[0m\u001b[1;33m)\u001b[0m\u001b[1;33m:\u001b[0m\u001b[1;33m\u001b[0m\u001b[1;33m\u001b[0m\u001b[0m\n\u001b[0;32m     28\u001b[0m         \u001b[0msegment\u001b[0m \u001b[1;33m=\u001b[0m \u001b[1;33m[\u001b[0m\u001b[1;33m]\u001b[0m \u001b[1;32mif\u001b[0m \u001b[0mself\u001b[0m\u001b[1;33m.\u001b[0m\u001b[0mparent\u001b[0m \u001b[1;32mis\u001b[0m \u001b[1;32mNone\u001b[0m \u001b[1;32melse\u001b[0m \u001b[1;33m[\u001b[0m\u001b[0mself\u001b[0m\u001b[1;33m.\u001b[0m\u001b[0mconfig\u001b[0m\u001b[1;33m,\u001b[0m \u001b[0mself\u001b[0m\u001b[1;33m.\u001b[0m\u001b[0mparent\u001b[0m\u001b[1;33m.\u001b[0m\u001b[0mconfig\u001b[0m\u001b[1;33m]\u001b[0m\u001b[1;33m\u001b[0m\u001b[1;33m\u001b[0m\u001b[0m\n\u001b[1;32m---> 29\u001b[1;33m         \u001b[0mdraw_fn\u001b[0m\u001b[1;33m(\u001b[0m\u001b[0mself\u001b[0m\u001b[1;33m.\u001b[0m\u001b[0mconfig\u001b[0m\u001b[1;33m,\u001b[0m \u001b[0msegment\u001b[0m\u001b[1;33m,\u001b[0m \u001b[0mvalid\u001b[0m\u001b[1;33m,\u001b[0m \u001b[0mvalid\u001b[0m\u001b[1;33m)\u001b[0m\u001b[1;33m\u001b[0m\u001b[1;33m\u001b[0m\u001b[0m\n\u001b[0m\u001b[0;32m     30\u001b[0m         \u001b[1;31m# https://github.mit.edu/caelan/lis-openrave\u001b[0m\u001b[1;33m\u001b[0m\u001b[1;33m\u001b[0m\u001b[1;33m\u001b[0m\u001b[0m\n\u001b[0;32m     31\u001b[0m         \u001b[1;31m# from manipulation.primitives.display import draw_node, draw_edge\u001b[0m\u001b[1;33m\u001b[0m\u001b[1;33m\u001b[0m\u001b[1;33m\u001b[0m\u001b[0m\n",
      "\u001b[1;32mc:\\users\\harry\\dropbox (mit)\\code_ws_dropbox\\itj_ws\\integral_timber_joints\\external\\compas_fab_pychoreo\\src\\compas_fab_pychoreo\\backend_features\\pychoreo_plan_motion.py\u001b[0m in \u001b[0;36msegment_draw_fn\u001b[1;34m(q, q_segment, q_valid, segment_valid, remove_all)\u001b[0m\n\u001b[0;32m     43\u001b[0m     \u001b[1;32mdef\u001b[0m \u001b[0msegment_draw_fn\u001b[0m\u001b[1;33m(\u001b[0m\u001b[0mq\u001b[0m\u001b[1;33m,\u001b[0m \u001b[0mq_segment\u001b[0m\u001b[1;33m,\u001b[0m \u001b[0mq_valid\u001b[0m\u001b[1;33m=\u001b[0m\u001b[1;32mFalse\u001b[0m\u001b[1;33m,\u001b[0m \u001b[0msegment_valid\u001b[0m\u001b[1;33m=\u001b[0m\u001b[1;32mFalse\u001b[0m\u001b[1;33m,\u001b[0m \u001b[0mremove_all\u001b[0m\u001b[1;33m=\u001b[0m\u001b[1;32mFalse\u001b[0m\u001b[1;33m)\u001b[0m\u001b[1;33m:\u001b[0m\u001b[1;33m\u001b[0m\u001b[1;33m\u001b[0m\u001b[0m\n\u001b[0;32m     44\u001b[0m         \u001b[0mtool_poses\u001b[0m \u001b[1;33m=\u001b[0m \u001b[1;33m[\u001b[0m\u001b[1;33m]\u001b[0m\u001b[1;33m\u001b[0m\u001b[1;33m\u001b[0m\u001b[0m\n\u001b[1;32m---> 45\u001b[1;33m         \u001b[1;32mwith\u001b[0m \u001b[0mWorldSaver\u001b[0m\u001b[1;33m(\u001b[0m\u001b[1;33m)\u001b[0m\u001b[1;33m:\u001b[0m\u001b[1;33m\u001b[0m\u001b[1;33m\u001b[0m\u001b[0m\n\u001b[0m\u001b[0;32m     46\u001b[0m             \u001b[1;32mif\u001b[0m \u001b[0mq\u001b[0m\u001b[1;33m:\u001b[0m\u001b[1;33m\u001b[0m\u001b[1;33m\u001b[0m\u001b[0m\n\u001b[0;32m     47\u001b[0m                 \u001b[0mq_tp\u001b[0m \u001b[1;33m=\u001b[0m \u001b[0mget_tool_pose\u001b[0m\u001b[1;33m(\u001b[0m\u001b[0mrobot_uid\u001b[0m\u001b[1;33m,\u001b[0m \u001b[0mconf_joints\u001b[0m\u001b[1;33m,\u001b[0m \u001b[0mtool_link\u001b[0m\u001b[1;33m,\u001b[0m \u001b[0mq\u001b[0m\u001b[1;33m)\u001b[0m\u001b[1;33m\u001b[0m\u001b[1;33m\u001b[0m\u001b[0m\n",
      "\u001b[1;32mc:\\users\\harry\\dropbox (mit)\\code_ws_dropbox\\itj_ws\\integral_timber_joints\\external\\compas_fab_pychoreo\\external\\pybullet_planning\\src\\pybullet_planning\\interfaces\\env_manager\\savers.py\u001b[0m in \u001b[0;36m__init__\u001b[1;34m(self)\u001b[0m\n\u001b[0;32m     88\u001b[0m     \u001b[1;32mdef\u001b[0m \u001b[0m__init__\u001b[0m\u001b[1;33m(\u001b[0m\u001b[0mself\u001b[0m\u001b[1;33m)\u001b[0m\u001b[1;33m:\u001b[0m\u001b[1;33m\u001b[0m\u001b[1;33m\u001b[0m\u001b[0m\n\u001b[0;32m     89\u001b[0m         \u001b[1;32mfrom\u001b[0m \u001b[0mpybullet_planning\u001b[0m\u001b[1;33m.\u001b[0m\u001b[0minterfaces\u001b[0m\u001b[1;33m.\u001b[0m\u001b[0mrobots\u001b[0m\u001b[1;33m.\u001b[0m\u001b[0mbody\u001b[0m \u001b[1;32mimport\u001b[0m \u001b[0mget_bodies\u001b[0m\u001b[1;33m\u001b[0m\u001b[1;33m\u001b[0m\u001b[0m\n\u001b[1;32m---> 90\u001b[1;33m         \u001b[0mself\u001b[0m\u001b[1;33m.\u001b[0m\u001b[0mbody_savers\u001b[0m \u001b[1;33m=\u001b[0m \u001b[1;33m[\u001b[0m\u001b[0mBodySaver\u001b[0m\u001b[1;33m(\u001b[0m\u001b[0mbody\u001b[0m\u001b[1;33m)\u001b[0m \u001b[1;32mfor\u001b[0m \u001b[0mbody\u001b[0m \u001b[1;32min\u001b[0m \u001b[0mget_bodies\u001b[0m\u001b[1;33m(\u001b[0m\u001b[1;33m)\u001b[0m\u001b[1;33m]\u001b[0m\u001b[1;33m\u001b[0m\u001b[1;33m\u001b[0m\u001b[0m\n\u001b[0m\u001b[0;32m     91\u001b[0m         \u001b[1;31m# TODO: add/remove new bodies\u001b[0m\u001b[1;33m\u001b[0m\u001b[1;33m\u001b[0m\u001b[1;33m\u001b[0m\u001b[0m\n\u001b[0;32m     92\u001b[0m \u001b[1;33m\u001b[0m\u001b[0m\n",
      "\u001b[1;32mc:\\users\\harry\\dropbox (mit)\\code_ws_dropbox\\itj_ws\\integral_timber_joints\\external\\compas_fab_pychoreo\\external\\pybullet_planning\\src\\pybullet_planning\\interfaces\\env_manager\\savers.py\u001b[0m in \u001b[0;36m<listcomp>\u001b[1;34m(.0)\u001b[0m\n\u001b[0;32m     88\u001b[0m     \u001b[1;32mdef\u001b[0m \u001b[0m__init__\u001b[0m\u001b[1;33m(\u001b[0m\u001b[0mself\u001b[0m\u001b[1;33m)\u001b[0m\u001b[1;33m:\u001b[0m\u001b[1;33m\u001b[0m\u001b[1;33m\u001b[0m\u001b[0m\n\u001b[0;32m     89\u001b[0m         \u001b[1;32mfrom\u001b[0m \u001b[0mpybullet_planning\u001b[0m\u001b[1;33m.\u001b[0m\u001b[0minterfaces\u001b[0m\u001b[1;33m.\u001b[0m\u001b[0mrobots\u001b[0m\u001b[1;33m.\u001b[0m\u001b[0mbody\u001b[0m \u001b[1;32mimport\u001b[0m \u001b[0mget_bodies\u001b[0m\u001b[1;33m\u001b[0m\u001b[1;33m\u001b[0m\u001b[0m\n\u001b[1;32m---> 90\u001b[1;33m         \u001b[0mself\u001b[0m\u001b[1;33m.\u001b[0m\u001b[0mbody_savers\u001b[0m \u001b[1;33m=\u001b[0m \u001b[1;33m[\u001b[0m\u001b[0mBodySaver\u001b[0m\u001b[1;33m(\u001b[0m\u001b[0mbody\u001b[0m\u001b[1;33m)\u001b[0m \u001b[1;32mfor\u001b[0m \u001b[0mbody\u001b[0m \u001b[1;32min\u001b[0m \u001b[0mget_bodies\u001b[0m\u001b[1;33m(\u001b[0m\u001b[1;33m)\u001b[0m\u001b[1;33m]\u001b[0m\u001b[1;33m\u001b[0m\u001b[1;33m\u001b[0m\u001b[0m\n\u001b[0m\u001b[0;32m     91\u001b[0m         \u001b[1;31m# TODO: add/remove new bodies\u001b[0m\u001b[1;33m\u001b[0m\u001b[1;33m\u001b[0m\u001b[1;33m\u001b[0m\u001b[0m\n\u001b[0;32m     92\u001b[0m \u001b[1;33m\u001b[0m\u001b[0m\n",
      "\u001b[1;32mc:\\users\\harry\\dropbox (mit)\\code_ws_dropbox\\itj_ws\\integral_timber_joints\\external\\compas_fab_pychoreo\\external\\pybullet_planning\\src\\pybullet_planning\\interfaces\\env_manager\\savers.py\u001b[0m in \u001b[0;36m__init__\u001b[1;34m(self, body)\u001b[0m\n\u001b[0;32m     69\u001b[0m         \u001b[1;31m#    pose = get_pose(body)\u001b[0m\u001b[1;33m\u001b[0m\u001b[1;33m\u001b[0m\u001b[1;33m\u001b[0m\u001b[0m\n\u001b[0;32m     70\u001b[0m         \u001b[0mself\u001b[0m\u001b[1;33m.\u001b[0m\u001b[0mbody\u001b[0m \u001b[1;33m=\u001b[0m \u001b[0mbody\u001b[0m\u001b[1;33m\u001b[0m\u001b[1;33m\u001b[0m\u001b[0m\n\u001b[1;32m---> 71\u001b[1;33m         \u001b[0mself\u001b[0m\u001b[1;33m.\u001b[0m\u001b[0mpose_saver\u001b[0m \u001b[1;33m=\u001b[0m \u001b[0mPoseSaver\u001b[0m\u001b[1;33m(\u001b[0m\u001b[0mbody\u001b[0m\u001b[1;33m)\u001b[0m\u001b[1;33m\u001b[0m\u001b[1;33m\u001b[0m\u001b[0m\n\u001b[0m\u001b[0;32m     72\u001b[0m         \u001b[0mself\u001b[0m\u001b[1;33m.\u001b[0m\u001b[0mconf_saver\u001b[0m \u001b[1;33m=\u001b[0m \u001b[0mConfSaver\u001b[0m\u001b[1;33m(\u001b[0m\u001b[0mbody\u001b[0m\u001b[1;33m)\u001b[0m\u001b[1;33m\u001b[0m\u001b[1;33m\u001b[0m\u001b[0m\n\u001b[0;32m     73\u001b[0m         \u001b[0mself\u001b[0m\u001b[1;33m.\u001b[0m\u001b[0msavers\u001b[0m \u001b[1;33m=\u001b[0m \u001b[1;33m[\u001b[0m\u001b[0mself\u001b[0m\u001b[1;33m.\u001b[0m\u001b[0mpose_saver\u001b[0m\u001b[1;33m,\u001b[0m \u001b[0mself\u001b[0m\u001b[1;33m.\u001b[0m\u001b[0mconf_saver\u001b[0m\u001b[1;33m]\u001b[0m\u001b[1;33m\u001b[0m\u001b[1;33m\u001b[0m\u001b[0m\n",
      "\u001b[1;32mc:\\users\\harry\\dropbox (mit)\\code_ws_dropbox\\itj_ws\\integral_timber_joints\\external\\compas_fab_pychoreo\\external\\pybullet_planning\\src\\pybullet_planning\\interfaces\\env_manager\\savers.py\u001b[0m in \u001b[0;36m__init__\u001b[1;34m(self, body)\u001b[0m\n\u001b[0;32m     97\u001b[0m \u001b[1;32mclass\u001b[0m \u001b[0mPoseSaver\u001b[0m\u001b[1;33m(\u001b[0m\u001b[0mSaver\u001b[0m\u001b[1;33m)\u001b[0m\u001b[1;33m:\u001b[0m\u001b[1;33m\u001b[0m\u001b[1;33m\u001b[0m\u001b[0m\n\u001b[0;32m     98\u001b[0m     \u001b[1;32mdef\u001b[0m \u001b[0m__init__\u001b[0m\u001b[1;33m(\u001b[0m\u001b[0mself\u001b[0m\u001b[1;33m,\u001b[0m \u001b[0mbody\u001b[0m\u001b[1;33m)\u001b[0m\u001b[1;33m:\u001b[0m\u001b[1;33m\u001b[0m\u001b[1;33m\u001b[0m\u001b[0m\n\u001b[1;32m---> 99\u001b[1;33m         \u001b[1;32mfrom\u001b[0m \u001b[0mpybullet_planning\u001b[0m\u001b[1;33m.\u001b[0m\u001b[0minterfaces\u001b[0m\u001b[1;33m.\u001b[0m\u001b[0mrobots\u001b[0m\u001b[1;33m.\u001b[0m\u001b[0mbody\u001b[0m \u001b[1;32mimport\u001b[0m \u001b[0mget_pose\u001b[0m\u001b[1;33m,\u001b[0m \u001b[0mget_velocity\u001b[0m\u001b[1;33m\u001b[0m\u001b[1;33m\u001b[0m\u001b[0m\n\u001b[0m\u001b[0;32m    100\u001b[0m         \u001b[0mself\u001b[0m\u001b[1;33m.\u001b[0m\u001b[0mbody\u001b[0m \u001b[1;33m=\u001b[0m \u001b[0mbody\u001b[0m\u001b[1;33m\u001b[0m\u001b[1;33m\u001b[0m\u001b[0m\n\u001b[0;32m    101\u001b[0m         \u001b[0mself\u001b[0m\u001b[1;33m.\u001b[0m\u001b[0mpose\u001b[0m \u001b[1;33m=\u001b[0m \u001b[0mget_pose\u001b[0m\u001b[1;33m(\u001b[0m\u001b[0mself\u001b[0m\u001b[1;33m.\u001b[0m\u001b[0mbody\u001b[0m\u001b[1;33m)\u001b[0m\u001b[1;33m\u001b[0m\u001b[1;33m\u001b[0m\u001b[0m\n",
      "\u001b[1;31mKeyboardInterrupt\u001b[0m: "
     ]
    }
   ],
   "source": [
    "from integral_timber_joints.planning.run import compute_movements_for_beam_id\n",
    "\n",
    "debug = 0\n",
    "diagnosis = debug\n",
    "verbose = True\n",
    "\n",
    "beam_id = 'b26'\n",
    "options = {\n",
    "    'frame_jump_tolerance' : 0.0012,\n",
    "    'jump_threshold' : joint_jump_threshold,\n",
    "}\n",
    "options.update({\n",
    "    'debug' : debug,\n",
    "    'verbose' : verbose,\n",
    "    'diagnosis' : diagnosis,\n",
    "    'low_res' : 0,\n",
    "    'movement_planning_reattempts' : 1,\n",
    "    'solve_timeout' : 1800,\n",
    "    'ignore_taught_confs' : True,\n",
    "    'mp_algorithm' : 'birrt',\n",
    "    'prm_num_samples' : 200,\n",
    "    'draw_mp_exploration' : diagnosis,\n",
    "#     'retraction_vectors' : list(np.vstack([np.eye(3), -np.eye(3)])),\n",
    "#     'max_free_retraction_distances' : np.linspace(0, 0.1, 3),\n",
    "})\n",
    "\n",
    "# A38M0\n",
    "# PlanningArguments = namedtuple('PlanningArguments', ['problem', 'viewer', debug', 'diagnosis', 'movement_id', 'solve_mode', 'viz_upon_found', 'smooth',\n",
    "#                                              'save_now', 'write', 'plan_impacted', 'watch', 'step_sim', 'verbose'])\n",
    "\n",
    "# hypar reorient: A59_M1, A135_M1\n",
    "# hard one: A346_M0\n",
    "args = PlanningArguments(design_dir, problem, False, debug, diagnosis, 'A362_M0', 'movement_id', False, False, False, False, \n",
    "                         False, True, False, verbose)\n",
    "\n",
    "all_movements = process.get_movements_by_beam_id(beam_id)\n",
    "# options['movement_id_range'] = list(reversed(range(0, len(all_movements))))\n",
    "    \n",
    "success = compute_movements_for_beam_id(client, robot, process, beam_id, args, options=options)"
   ]
  },
  {
   "cell_type": "code",
   "execution_count": 23,
   "id": "acoustic-north",
   "metadata": {},
   "outputs": [
    {
     "name": "stdout",
     "output_type": "stream",
     "text": [
      "---\n",
      "\u001b[32m#72 movements written to c:\\users\\harry\\dropbox (mit)\\code_ws_dropbox\\itj_ws\\integral_timber_joints\\external\\itj_design_study\\210605_ScrewdriverTestProcess\\results\\movements\u001b[0m\n",
      "---\n",
      "\u001b[32mProcess written to c:\\users\\harry\\dropbox (mit)\\code_ws_dropbox\\itj_ws\\integral_timber_joints\\external\\itj_design_study\\210605_ScrewdriverTestProcess\\results\\nine_pieces_process.json\u001b[0m\n"
     ]
    }
   ],
   "source": [
    "from integral_timber_joints.planning.parsing import save_process_and_movements\n",
    "\n",
    "altered_movements = all_movements\n",
    "save_process_and_movements(design_dir, problem, process, altered_movements, overwrite=False,\n",
    "    include_traj_in_process=False, save_temp=False)"
   ]
  },
  {
   "cell_type": "code",
   "execution_count": 18,
   "id": "upset-winter",
   "metadata": {},
   "outputs": [],
   "source": [
    "# A30_M2\n",
    "# A34_M1\n",
    "\n",
    "m = process.get_movement_by_movement_id('A27_M1')"
   ]
  },
  {
   "cell_type": "code",
   "execution_count": 20,
   "id": "extensive-thailand",
   "metadata": {},
   "outputs": [
    {
     "data": {
      "text/plain": [
       "True"
      ]
     },
     "execution_count": 20,
     "metadata": {},
     "output_type": "execute_result"
    }
   ],
   "source": [
    "'reorient' in m.short_summary"
   ]
  },
  {
   "cell_type": "code",
   "execution_count": 20,
   "id": "treated-reform",
   "metadata": {},
   "outputs": [],
   "source": [
    "start_scene = process.get_movement_start_scene(m)\n",
    "end_scene = process.get_movement_end_scene(m)"
   ]
  },
  {
   "cell_type": "code",
   "execution_count": 21,
   "id": "thrown-ecology",
   "metadata": {
    "collapsed": true,
    "jupyter": {
     "outputs_hidden": true
    }
   },
   "outputs": [
    {
     "name": "stdout",
     "output_type": "stream",
     "text": [
      "('robot', 'c') JointTrajectoryPoint((16.450, -8.887, -4.750, -1.307, -1.465, -0.849, 1.373, 1.747, 2.350), (2, 2, 2, 0, 0, 0, 0, 0, 0), (0.000, 0.000, 0.000, 0.000, 0.000, 0.000, 0.000, 0.000, 0.000), (0.000, 0.000, 0.000, 0.000, 0.000, 0.000, 0.000, 0.000, 0.000), (0.000, 0.000, 0.000, 0.000, 0.000, 0.000, 0.000, 0.000, 0.000), Duration(6, 0))\n",
      "('b0', 'f') Frame(Point(19016.343, 9160.006, 279.218), Vector(0.000, 0.000, 1.000), Vector(-1.000, 0.000, 0.000))\n",
      "('b0', 'a') False\n",
      "('b1', 'f') Frame(Point(19016.343, 8260.006, 3361.742), Vector(0.000, 0.000, -1.000), Vector(-1.000, 0.000, -0.000))\n",
      "('b1', 'a') False\n",
      "('b2', 'f') Frame(Point(19016.343, 9455.953, 1810.165), Vector(-0.000, -0.986, -0.165), Vector(-1.000, 0.000, 0.000))\n",
      "('b2', 'a') False\n",
      "('b3', 'f') Frame(Point(18916.343, 6657.248, 2190.109), Vector(-0.000, 0.920, 0.391), Vector(-0.000, -0.391, 0.920))\n",
      "('b3', 'a') False\n",
      "('b5', 'f') Frame(Point(26002.853, 9379.582, -15.197), Vector(0.000, 1.000, 0.000), Vector(-1.000, 0.000, 0.000))\n",
      "('b5', 'a') False\n",
      "('b6', 'f') Frame(Point(26142.853, 9379.582, -15.197), Vector(0.000, 1.000, 0.000), Vector(-1.000, 0.000, 0.000))\n",
      "('b6', 'a') False\n",
      "('b7', 'f') Frame(Point(26282.853, 9379.582, -15.197), Vector(0.000, 1.000, 0.000), Vector(-1.000, 0.000, 0.000))\n",
      "('b7', 'a') False\n",
      "('b8', 'f') Frame(Point(26422.853, 9379.582, -15.197), Vector(0.000, 1.000, 0.000), Vector(-1.000, 0.000, 0.000))\n",
      "('b8', 'a') False\n",
      "('b4', 'f') Frame(Point(26562.853, 9379.582, -15.197), Vector(0.000, 1.000, 0.000), Vector(-1.000, 0.000, 0.000))\n",
      "('b4', 'a') False\n",
      "('c1', 'f') Frame(Point(20234.776, 3980.771, 942.706), Vector(-0.740, 0.258, -0.621), Vector(0.198, 0.966, 0.166))\n",
      "('c1', 'a') False\n",
      "('c1', 'c') {'clamp_jaw_position': 240.0, 'gripper_jaw_position': 0.0}\n",
      "('c2', 'f') Frame(Point(20684.776, 3980.771, 942.706), Vector(-0.740, 0.258, -0.621), Vector(0.198, 0.966, 0.166))\n",
      "('c2', 'a') False\n",
      "('c2', 'c') {'clamp_jaw_position': 240.0, 'gripper_jaw_position': 0.0}\n",
      "('c3', 'f') Frame(Point(21362.702, 3980.771, 942.705), Vector(0.199, -0.966, -0.167), Vector(-0.740, -0.260, 0.621))\n",
      "('c3', 'a') False\n",
      "('c3', 'c') {'clamp_jaw_position': 220, 'gripper_jaw_position': 0.0}\n",
      "('c4', 'f') Frame(Point(21812.702, 3980.771, 942.705), Vector(0.199, -0.966, -0.167), Vector(-0.740, -0.260, 0.621))\n",
      "('c4', 'a') False\n",
      "('c4', 'c') {'clamp_jaw_position': 220, 'gripper_jaw_position': 0.0}\n",
      "('s1', 'f') Frame(Point(18770.243, 8310.006, 2947.269), Vector(-0.000, -0.999, -0.053), Vector(-0.000, 0.053, -0.999))\n",
      "('s1', 'a') False\n",
      "('s1', 'c') {'gripper_jaw_position': 0.0, 'screw_position': 0}\n",
      "('s2', 'f') Frame(Point(18770.243, 9110.006, 3287.464), Vector(-0.000, -0.999, -0.053), Vector(-0.000, 0.053, -0.999))\n",
      "('s2', 'a') True\n",
      "('s2', 'c') {'gripper_jaw_position': 47.0, 'screw_position': 0}\n",
      "('s3', 'f') Frame(Point(21304.739, 4518.271, 1015.318), Vector(-0.940, -0.342, 0.000), Vector(-0.342, 0.940, 0.000))\n",
      "('s3', 'a') False\n",
      "('s3', 'c') {'gripper_jaw_position': 0.0, 'screw_position': 0}\n",
      "('s4', 'f') Frame(Point(21804.739, 4518.271, 1015.318), Vector(-0.940, -0.342, 0.000), Vector(-0.342, 0.940, 0.000))\n",
      "('s4', 'a') False\n",
      "('s4', 'c') {'gripper_jaw_position': 0.0, 'screw_position': 0}\n",
      "('g1', 'f') Frame(Point(23439.739, 4480.771, 990.818), Vector(-0.000, 1.000, 0.000), Vector(1.000, 0.000, -0.000))\n",
      "('g1', 'a') False\n",
      "('g1', 'c') {'gripper_jaw_position': 0.8}\n",
      "('g2', 'f') Frame(Point(23468.767, 4180.771, 990.818), Vector(-0.000, 1.000, 0.000), Vector(1.000, 0.000, -0.000))\n",
      "('g2', 'a') False\n",
      "('g2', 'c') {'gripper_jaw_position': 0.8}\n",
      "('g3', 'f') Frame(Point(23468.767, 3880.771, 990.818), Vector(-0.000, 1.000, 0.000), Vector(1.000, 0.000, -0.000))\n",
      "('g3', 'a') False\n",
      "('g3', 'c') {'gripper_jaw_position': 0.8}\n",
      "('tool_changer', 'f') Frame(Point(18703.893, 9110.006, 3287.464), Vector(-0.000, -0.999, -0.053), Vector(-0.000, 0.053, -0.999))\n",
      "('tool_changer', 'a') True\n",
      "('robot', 'f') Frame(Point(18703.893, 9110.006, 3287.464), Vector(-0.000, -0.999, -0.053), Vector(-0.000, 0.053, -0.999))\n"
     ]
    }
   ],
   "source": [
    "tmp_scene = start_scene\n",
    "\n",
    "for k, v in tmp_scene.object_state_dict.items():\n",
    "#     if k[1] != 'f':\n",
    "    print(k, v)"
   ]
  },
  {
   "cell_type": "code",
   "execution_count": 22,
   "id": "sapphire-piece",
   "metadata": {},
   "outputs": [
    {
     "data": {
      "text/plain": [
       "\"RobotScrewdriverSyncLinearMovement(#A34_M1, Robot and Screwdriver (s2) syncronously move to retract from Beam ('b3'), traj 0)\""
      ]
     },
     "execution_count": 22,
     "metadata": {},
     "output_type": "execute_result"
    }
   ],
   "source": [
    "m.short_summary"
   ]
  },
  {
   "cell_type": "code",
   "execution_count": 47,
   "id": "mechanical-forest",
   "metadata": {},
   "outputs": [
    {
     "data": {
      "text/plain": [
       "1"
      ]
     },
     "execution_count": 47,
     "metadata": {},
     "output_type": "execute_result"
    }
   ],
   "source": [
    "m.planning_priority"
   ]
  },
  {
   "cell_type": "code",
   "execution_count": 46,
   "id": "cooperative-excerpt",
   "metadata": {},
   "outputs": [
    {
     "data": {
      "text/plain": [
       "0"
      ]
     },
     "execution_count": 46,
     "metadata": {},
     "output_type": "execute_result"
    }
   ],
   "source": [
    "action = process.get_action_of_movement(m)\n",
    "action.seq_n"
   ]
  },
  {
   "cell_type": "code",
   "execution_count": 43,
   "id": "sacred-pavilion",
   "metadata": {},
   "outputs": [
    {
     "data": {
      "text/plain": [
       "'b0'"
      ]
     },
     "execution_count": 43,
     "metadata": {},
     "output_type": "execute_result"
    }
   ],
   "source": [
    "process.get_beam_id_of_movement(m)"
   ]
  },
  {
   "cell_type": "markdown",
   "id": "af274f7e",
   "metadata": {},
   "source": [
    "# Don't forget to change to `twelve_pieces` if running only for `b4` !"
   ]
  },
  {
   "cell_type": "code",
   "execution_count": 25,
   "id": "7af6e9e1",
   "metadata": {},
   "outputs": [],
   "source": [
    "full_seq_len = len(process.assembly.sequence)\n",
    "# beam_ids = [process.assembly.sequence[si] for si in range(32, full_seq_len)]\n",
    "\n",
    "beam_ids = ['b{}'.format(b) for b in [25]] #[4, 13, 32, 37, 38, 39]]\n",
    "# beam_ids = ['b4']"
   ]
  },
  {
   "cell_type": "code",
   "execution_count": 26,
   "id": "level-fellow",
   "metadata": {
    "collapsed": true,
    "jupyter": {
     "outputs_hidden": true
    }
   },
   "outputs": [
    {
     "name": "stdout",
     "output_type": "stream",
     "text": [
      "Beam b25 | Outer Trail nonlinear #0\n",
      "##########\n",
      "Beam b25 | nonlinear | Inner Trail #0 | time 0.00\n",
      "\u001b[31mReturn success: False\u001b[0m\n",
      "Restarting client/process takes 29.747271060943604 | total timeout inf\n",
      "##########\n",
      "Beam b25 | nonlinear | Inner Trail #1 | time 46.27\n",
      "\u001b[31mReturn success: False\u001b[0m\n",
      "Restarting client/process takes 22.154060125350952 | total timeout inf\n",
      "##########\n",
      "Beam b25 | nonlinear | Inner Trail #2 | time 104.08\n",
      "\u001b[31mReturn success: False\u001b[0m\n",
      "Restarting client/process takes 26.456228017807007 | total timeout inf\n",
      "##########\n",
      "Beam b25 | nonlinear | Inner Trail #3 | time 166.91\n",
      "\u001b[31mReturn success: False\u001b[0m\n",
      "Restarting client/process takes 28.77153968811035 | total timeout inf\n",
      "##########\n",
      "Beam b25 | nonlinear | Inner Trail #4 | time 210.81\n",
      "\u001b[31mReturn success: False\u001b[0m\n",
      "Restarting client/process takes 29.22124481201172 | total timeout inf\n",
      "##########\n",
      "Beam b25 | nonlinear | Inner Trail #5 | time 501.94\n",
      "\u001b[31mReturn success: False\u001b[0m\n",
      "Restarting client/process takes 28.80583119392395 | total timeout inf\n",
      "##########\n",
      "Beam b25 | nonlinear | Inner Trail #6 | time 550.54\n",
      "\u001b[31mReturn success: False\u001b[0m\n",
      "Restarting client/process takes 29.64447331428528 | total timeout inf\n",
      "##########\n",
      "Beam b25 | nonlinear | Inner Trail #7 | time 610.38\n",
      "\u001b[31mReturn success: False\u001b[0m\n",
      "Restarting client/process takes 28.731407403945923 | total timeout inf\n",
      "##########\n",
      "Beam b25 | nonlinear | Inner Trail #8 | time 657.43\n",
      "\u001b[32mReturn success: True\u001b[0m\n",
      "\u001b[32mRuntime data saved to figs/b25_runtime_data_w_TC_21-07-08_21-12-56.json\u001b[0m\n",
      "\u001b[32mDone\u001b[0m\n"
     ]
    }
   ],
   "source": [
    "import json\n",
    "from collections import defaultdict\n",
    "from integral_timber_joints.planning.run import compute_movements_for_beam_id, plan_for_beam_id_with_restart\n",
    "# beam_id = process.get_beam_id_from_movement_id(args.id_only)\n",
    "\n",
    "debug = 0\n",
    "diagnosis = debug\n",
    "verbose = False\n",
    "\n",
    "options = {\n",
    "    'frame_jump_tolerance' : 0.0012,\n",
    "    'jump_threshold' : joint_jump_threshold,\n",
    "}\n",
    "options.update({\n",
    "    'debug' : debug,\n",
    "    'verbose' : verbose,\n",
    "    'diagnosis' : diagnosis,\n",
    "    'low_res' : False,\n",
    "    'movement_planning_reattempts' : 1,\n",
    "    'max_free_retraction_distance' : np.linspace(0.1, 0, 4),\n",
    "    'ignore_taught_confs' : False,\n",
    "    'solve_timeout' : np.inf, # 1800\n",
    "    'solve_iters': 40,\n",
    "    'return_upon_success' : True,\n",
    "})\n",
    "\n",
    "# PlanningArguments = namedtuple('PlanningArguments', ['problem', 'viewer', debug', 'diagnosis', 'id_only', 'solve_mode', 'viz_upon_found', \n",
    "#                                              'save_now', 'write', 'plan_impacted', 'watch', 'step_sim', 'verbose'])\n",
    "\n",
    "num_trails = 1\n",
    "file_suffix = '{}_{}'.format('No_TC' if options['ignore_taught_confs'] else 'w_TC', pp.get_date())\n",
    "\n",
    "for beam_id in beam_ids:\n",
    "    runtime_data = {}\n",
    "    for solve_mode_ in ['nonlinear']: #'nonlinear', 'linear_forward', 'linear_backward'\n",
    "        args = PlanningArguments(problem, False, debug, diagnosis, None, solve_mode_.split('_')[0], False, False, False, \n",
    "                                 False, False, False, verbose)\n",
    "        all_movements = process.get_movements_by_beam_id(beam_id)\n",
    "\n",
    "        if solve_mode_ == 'linear_backward':\n",
    "            options['movement_id_range'] = list(reversed(range(0, len(all_movements))))\n",
    "        elif solve_mode_ == 'linear_forward':\n",
    "            options['movement_id_range'] = list(range(0, len(all_movements)))\n",
    "\n",
    "        runtime_data[solve_mode_] = {}\n",
    "        for attempt_i in range(num_trails):\n",
    "            print('Beam {} | Outer Trail {} #{}'.format(beam_id, solve_mode_, attempt_i))\n",
    "            process = deepcopy(unsolved_process)\n",
    "            if options['ignore_taught_confs']:\n",
    "                # remove all taught confs\n",
    "                for m in process.movements:\n",
    "                    m.end_state['robot'].kinematic_config = None\n",
    "            success, trial_data = plan_for_beam_id_with_restart(client, robot, process, beam_id, args, options=options)\n",
    "            runtime_data[solve_mode_][attempt_i] = trial_data\n",
    "#             cprint('Return success: {}'.format(success), 'green' if success else 'red')\n",
    "#             save_runtime_data(beam_id, runtime_data, suffix=file_suffix)\n",
    "        \n",
    "cprint('Done', 'green')\n",
    "client.disconnect()"
   ]
  },
  {
   "cell_type": "code",
   "execution_count": 19,
   "id": "liberal-today",
   "metadata": {
    "collapsed": true,
    "jupyter": {
     "outputs_hidden": true
    }
   },
   "outputs": [
    {
     "name": "stdout",
     "output_type": "stream",
     "text": [
      "====================\n",
      "#nonlinear-T#0:\n",
      "\u001b[32mTrue - BT 1 | time 59.41\u001b[0m\n",
      "---\n",
      "#nonlinear-T#1:\n",
      "\u001b[32mTrue - BT 5 | time 1632.84\u001b[0m\n",
      "---\n",
      "#nonlinear-T#2:\n",
      "\u001b[32mTrue - BT 1 | time 289.08\u001b[0m\n",
      "---\n",
      "#nonlinear-T#3:\n",
      "\u001b[32mTrue - BT 1 | time 56.22\u001b[0m\n",
      "---\n",
      "#nonlinear-T#4:\n",
      "\u001b[32mTrue - BT 3 | time 167.64\u001b[0m\n",
      "---\n",
      "#nonlinear-T#5:\n",
      "\u001b[32mTrue - BT 2 | time 491.24\u001b[0m\n",
      "---\n",
      "#nonlinear-T#6:\n",
      "\u001b[32mTrue - BT 1 | time 573.64\u001b[0m\n",
      "---\n",
      "#nonlinear-T#7:\n",
      "\u001b[32mTrue - BT 1 | time 40.16\u001b[0m\n",
      "---\n",
      "#nonlinear-T#8:\n",
      "\u001b[32mTrue - BT 2 | time 829.80\u001b[0m\n",
      "---\n",
      "#nonlinear-T#9:\n",
      "\u001b[32mTrue - BT 1 | time 462.31\u001b[0m\n",
      "---\n",
      "====================\n",
      "#linear_forward-T#0:\n",
      "\u001b[32mTrue - BT 1 | time 379.09\u001b[0m\n",
      "---\n",
      "#linear_forward-T#1:\n",
      "\u001b[32mTrue - BT 7 | time 1606.12\u001b[0m\n",
      "---\n",
      "#linear_forward-T#2:\n",
      "\u001b[32mTrue - BT 2 | time 420.30\u001b[0m\n",
      "---\n",
      "#linear_forward-T#3:\n",
      "\u001b[32mTrue - BT 8 | time 935.44\u001b[0m\n",
      "---\n",
      "#linear_forward-T#4:\n",
      "\u001b[32mTrue - BT 3 | time 144.78\u001b[0m\n",
      "---\n",
      "#linear_forward-T#5:\n",
      "\u001b[32mTrue - BT 4 | time 340.55\u001b[0m\n",
      "---\n",
      "#linear_forward-T#6:\n",
      "\u001b[32mTrue - BT 6 | time 1277.57\u001b[0m\n",
      "---\n",
      "#linear_forward-T#7:\n",
      "\u001b[31mFalse - BT 7 | time 1788.29\u001b[0m\n",
      "---\n",
      "#linear_forward-T#8:\n",
      "\u001b[32mTrue - BT 3 | time 668.03\u001b[0m\n",
      "---\n",
      "#linear_forward-T#9:\n",
      "\u001b[32mTrue - BT 3 | time 289.43\u001b[0m\n",
      "---\n",
      "====================\n"
     ]
    },
    {
     "ename": "KeyError",
     "evalue": "'linear_backward'",
     "output_type": "error",
     "traceback": [
      "\u001b[0;31m---------------------------------------------------------------------------\u001b[0m",
      "\u001b[0;31mKeyError\u001b[0m                                  Traceback (most recent call last)",
      "\u001b[0;32m/tmp/ipykernel_181342/2564414959.py\u001b[0m in \u001b[0;36m<module>\u001b[0;34m\u001b[0m\n\u001b[1;32m      1\u001b[0m \u001b[0;32mfor\u001b[0m \u001b[0msolve_mode_\u001b[0m \u001b[0;32min\u001b[0m \u001b[0;34m[\u001b[0m\u001b[0;34m'nonlinear'\u001b[0m\u001b[0;34m,\u001b[0m \u001b[0;34m'linear_forward'\u001b[0m\u001b[0;34m,\u001b[0m \u001b[0;34m'linear_backward'\u001b[0m\u001b[0;34m]\u001b[0m\u001b[0;34m:\u001b[0m\u001b[0;34m\u001b[0m\u001b[0;34m\u001b[0m\u001b[0m\n\u001b[1;32m      2\u001b[0m     \u001b[0mprint\u001b[0m\u001b[0;34m(\u001b[0m\u001b[0;34m'='\u001b[0m\u001b[0;34m*\u001b[0m\u001b[0;36m20\u001b[0m\u001b[0;34m)\u001b[0m\u001b[0;34m\u001b[0m\u001b[0;34m\u001b[0m\u001b[0m\n\u001b[0;32m----> 3\u001b[0;31m     \u001b[0;32mfor\u001b[0m \u001b[0mi\u001b[0m\u001b[0;34m,\u001b[0m \u001b[0mtdata\u001b[0m \u001b[0;32min\u001b[0m \u001b[0mruntime_data\u001b[0m\u001b[0;34m[\u001b[0m\u001b[0msolve_mode_\u001b[0m\u001b[0;34m]\u001b[0m\u001b[0;34m.\u001b[0m\u001b[0mitems\u001b[0m\u001b[0;34m(\u001b[0m\u001b[0;34m)\u001b[0m\u001b[0;34m:\u001b[0m\u001b[0;34m\u001b[0m\u001b[0;34m\u001b[0m\u001b[0m\n\u001b[0m\u001b[1;32m      4\u001b[0m         \u001b[0mprint\u001b[0m\u001b[0;34m(\u001b[0m\u001b[0;34m'#{}-T#{}:'\u001b[0m\u001b[0;34m.\u001b[0m\u001b[0mformat\u001b[0m\u001b[0;34m(\u001b[0m\u001b[0msolve_mode_\u001b[0m\u001b[0;34m,\u001b[0m \u001b[0mi\u001b[0m\u001b[0;34m)\u001b[0m\u001b[0;34m)\u001b[0m\u001b[0;34m\u001b[0m\u001b[0;34m\u001b[0m\u001b[0m\n\u001b[1;32m      5\u001b[0m         \u001b[0msc\u001b[0m \u001b[0;34m=\u001b[0m \u001b[0many\u001b[0m\u001b[0;34m(\u001b[0m\u001b[0;34m[\u001b[0m\u001b[0md\u001b[0m\u001b[0;34m[\u001b[0m\u001b[0;34m'success'\u001b[0m\u001b[0;34m]\u001b[0m \u001b[0;32mfor\u001b[0m \u001b[0mdi\u001b[0m\u001b[0;34m,\u001b[0m \u001b[0md\u001b[0m \u001b[0;32min\u001b[0m \u001b[0mtdata\u001b[0m\u001b[0;34m.\u001b[0m\u001b[0mitems\u001b[0m\u001b[0;34m(\u001b[0m\u001b[0;34m)\u001b[0m\u001b[0;34m]\u001b[0m\u001b[0;34m)\u001b[0m\u001b[0;34m\u001b[0m\u001b[0;34m\u001b[0m\u001b[0m\n",
      "\u001b[0;31mKeyError\u001b[0m: 'linear_backward'"
     ]
    }
   ],
   "source": [
    "for solve_mode_ in runtime_data:\n",
    "    print('='*20)\n",
    "    for i, tdata in runtime_data[solve_mode_].items():\n",
    "        print('#{}-T#{}:'.format(solve_mode_, i))\n",
    "        sc = any([d['success'] for di, d in tdata.items()])\n",
    "        \n",
    "        total_runtime = []\n",
    "        for i, trial_data in tdata.items():\n",
    "            trial_profiles = trial_data['profiles']\n",
    "            runtime_per_move = [sum(trial_profiles[mid]['plan_time']) for mid in trial_profiles]\n",
    "            total_runtime.append(sum(runtime_per_move))\n",
    "      \n",
    "        cprint('{} - BT {} | time {:.2f}'.format(sc, len(tdata), sum(total_runtime)), 'green' if sc else 'red')\n",
    "        print('---')"
   ]
  },
  {
   "cell_type": "markdown",
   "id": "b2df3a52",
   "metadata": {},
   "source": [
    "# Save movements"
   ]
  },
  {
   "cell_type": "code",
   "execution_count": 15,
   "id": "79fa8678",
   "metadata": {},
   "outputs": [
    {
     "name": "stdout",
     "output_type": "stream",
     "text": [
      "---\n",
      "\u001b[32m#72 movements written to /home/yijiangh/itj_ws/integral_timber_joints/external/itj_design_study/210128_RemodelFredPavilion/YJ_tmp/movements\u001b[0m\n",
      "---\n",
      "\u001b[32mProcess written to /home/yijiangh/itj_ws/integral_timber_joints/external/itj_design_study/210128_RemodelFredPavilion/YJ_tmp/twelve_pieces_process.json\u001b[0m\n"
     ]
    }
   ],
   "source": [
    "from integral_timber_joints.planning.parsing import save_process_and_movements\n",
    "\n",
    "beam_all_movements = process.get_movements_by_beam_id(beam_id)\n",
    "if 'movement_id_range' not in options:\n",
    "    altered_movements = beam_all_movements\n",
    "else:\n",
    "    altered_movements = [beam_all_movements[mid] for mid in options['movement_id_range']]\n",
    "save_process_and_movements(problem, process, altered_movements, save_temp=True)"
   ]
  },
  {
   "cell_type": "markdown",
   "id": "f8f0ecd8",
   "metadata": {},
   "source": [
    "# Visualize traj"
   ]
  },
  {
   "cell_type": "code",
   "execution_count": 12,
   "id": "a029ac3d",
   "metadata": {},
   "outputs": [
    {
     "name": "stdout",
     "output_type": "stream",
     "text": [
      "===\n",
      "Viz:\u001b[0m\n",
      "\u001b[32mRoboticFreeMovement(#A23_M0, Free Move reach Storage Approach Frame of PG1000 ('g2'), to get tool., traj 1)\u001b[0m\n",
      "===\n",
      "Viz:\u001b[0m\n",
      "\u001b[32mRoboticLinearMovement(#A23_M1, Linear Advance to Storage Frame of PG1000 ('g2'), to get tool., traj 1)\u001b[0m\n",
      "===\n",
      "Viz:\u001b[0m\n",
      "\u001b[32mRoboticLinearMovement(#A23_M4, Linear Retract after getting PG1000 ('g2') from storage., traj 1)\u001b[0m\n",
      "===\n",
      "Viz:\u001b[0m\n",
      "\u001b[32mRoboticFreeMovement(#A24_M0, Free Move to reach Pickup Approach Frame of Beam ('b3'), traj 1)\u001b[0m\n",
      "===\n",
      "Viz:\u001b[0m\n",
      "\u001b[32mRoboticLinearMovement(#A24_M2, Linear Advance to Storage Frame of Beam ('b3'), traj 1)\u001b[0m\n",
      "===\n",
      "Viz:\u001b[0m\n",
      "\u001b[32mRoboticLinearMovement(#A27_M0, Linear Move to lift up Beam ('b3'), traj 1)\u001b[0m\n",
      "===\n",
      "Viz:\u001b[0m\n",
      "\u001b[32mRoboticFreeMovement(#A27_M1, Free Move to reorient Beam ('b3'), traj 1)\u001b[0m\n",
      "===\n",
      "Viz:\u001b[0m\n",
      "\u001b[32mRoboticFreeMovement(#A30_M0, Free Move to bring Beam ('b3') to assemble_approach position on structure., traj 1)\u001b[0m\n",
      "===\n",
      "Viz:\u001b[0m\n",
      "\u001b[32mRoboticLinearMovement(#A30_M1, Linear Advance to bring Screwdriver tips to touch the predrilled hole., traj 1)\u001b[0m\n",
      "===\n",
      "Viz:\u001b[0m\n",
      "\u001b[32mRobotScrewdriverSyncLinearMovement(#A30_M2, Robot and Screwdrivers (['s1', 's2']) syncronously move to screw Beam ('b3'), traj 1)\u001b[0m\n",
      "===\n",
      "Viz:\u001b[0m\n",
      "\u001b[32mRoboticLinearMovement(#A31_M1, Linear retract after placing Beam ('b3'), traj 1)\u001b[0m\n",
      "===\n",
      "Viz:\u001b[0m\n",
      "\u001b[32mRoboticFreeMovement(#A32_M0, Free Move to reach Storage Approach Frame of PG1000 ('g2'), to place tool in storage., traj 1)\u001b[0m\n",
      "===\n",
      "Viz:\u001b[0m\n",
      "\u001b[32mRoboticLinearMovement(#A32_M1, Linear Advance to Storage Frame of PG1000 ('g2'), to place tool in storage., traj 1)\u001b[0m\n",
      "===\n",
      "Viz:\u001b[0m\n",
      "\u001b[32mRoboticLinearMovement(#A32_M4, Linear Retract from storage after placing PG1000 ('g2') in storage, traj 1)\u001b[0m\n",
      "===\n",
      "Viz:\u001b[0m\n",
      "\u001b[32mRoboticFreeMovement(#A33_M0, Free Move to reach SL1 ('s2') on Beam ('b3') , traj 1)\u001b[0m\n",
      "===\n",
      "Viz:\u001b[0m\n",
      "\u001b[32mRoboticLinearMovement(#A33_M2, Linear Advance to dock toolchanger of SL1 ('s2')., traj 1)\u001b[0m\n",
      "===\n",
      "Viz:\u001b[0m\n",
      "\u001b[32mRobotScrewdriverSyncLinearMovement(#A34_M1, Robot and Screwdriver (s2) syncronously move to retract from Beam ('b3'), traj 1)\u001b[0m\n",
      "===\n",
      "Viz:\u001b[0m\n",
      "\u001b[32mRoboticLinearMovement(#A34_M2, Linear retract after placing Beam ('b3'), traj 1)\u001b[0m\n",
      "===\n",
      "Viz:\u001b[0m\n",
      "\u001b[32mRoboticFreeMovement(#A35_M0, Free Move to reach Storage Approach Frame of SL1 ('s2'), to place tool in storage., traj 1)\u001b[0m\n",
      "===\n",
      "Viz:\u001b[0m\n",
      "\u001b[32mRoboticLinearMovement(#A35_M1, Linear Advance 1 to approach Storage Frame of SL1 ('s2'), to place tool in storage., traj 1)\u001b[0m\n",
      "===\n",
      "Viz:\u001b[0m\n",
      "\u001b[32mRoboticLinearMovement(#A35_M2, Linear Advance 2 to Storage Frame of SL1 ('s2'), to place tool in storage., traj 1)\u001b[0m\n",
      "===\n",
      "Viz:\u001b[0m\n",
      "\u001b[32mRoboticLinearMovement(#A35_M4, Linear Retract after placing SL1 ('s2') in storage, traj 1)\u001b[0m\n",
      "===\n",
      "Viz:\u001b[0m\n",
      "\u001b[32mRoboticFreeMovement(#A36_M0, Free Move to reach SL1 ('s1') on Beam ('b3') , traj 1)\u001b[0m\n",
      "===\n",
      "Viz:\u001b[0m\n",
      "\u001b[32mRoboticLinearMovement(#A36_M2, Linear Advance to dock toolchanger of SL1 ('s1')., traj 1)\u001b[0m\n",
      "===\n",
      "Viz:\u001b[0m\n",
      "\u001b[32mRobotScrewdriverSyncLinearMovement(#A37_M1, Robot and Screwdriver (s1) syncronously move to retract from Beam ('b3'), traj 1)\u001b[0m\n",
      "===\n",
      "Viz:\u001b[0m\n",
      "\u001b[32mRoboticLinearMovement(#A37_M2, Linear retract after placing Beam ('b3'), traj 1)\u001b[0m\n",
      "===\n",
      "Viz:\u001b[0m\n",
      "\u001b[32mRoboticFreeMovement(#A38_M0, Free Move to reach Storage Approach Frame of SL1 ('s1'), to place tool in storage., traj 1)\u001b[0m\n",
      "===\n",
      "Viz:\u001b[0m\n",
      "\u001b[32mRoboticLinearMovement(#A38_M1, Linear Advance 1 to approach Storage Frame of SL1 ('s1'), to place tool in storage., traj 1)\u001b[0m\n",
      "===\n",
      "Viz:\u001b[0m\n",
      "\u001b[32mRoboticLinearMovement(#A38_M2, Linear Advance 2 to Storage Frame of SL1 ('s1'), to place tool in storage., traj 1)\u001b[0m\n",
      "===\n",
      "Viz:\u001b[0m\n",
      "\u001b[32mRoboticLinearMovement(#A38_M4, Linear Retract after placing SL1 ('s1') in storage, traj 1)\u001b[0m\n"
     ]
    }
   ],
   "source": [
    "from integral_timber_joints.planning.state import set_state\n",
    "from integral_timber_joints.planning.visualization import visualize_movement_trajectory\n",
    "\n",
    "# altered_ms = [process.get_movement_by_movement_id('A43_M2')]\n",
    "altered_ms = process.get_movements_by_beam_id('b3')\n",
    "\n",
    "set_state(client, robot, process, process.initial_state)\n",
    "for altered_m in altered_ms:\n",
    "    visualize_movement_trajectory(client, robot, process, altered_m, \n",
    "                                  step_sim=False, step_duration=0.05)"
   ]
  },
  {
   "cell_type": "markdown",
   "id": "valid-blanket",
   "metadata": {},
   "source": [
    "# Diagram"
   ]
  },
  {
   "cell_type": "code",
   "execution_count": 77,
   "id": "ranking-moses",
   "metadata": {},
   "outputs": [],
   "source": [
    "from plotly.subplots import make_subplots\n",
    "import plotly.graph_objects as go\n",
    "from integral_timber_joints.process import RoboticFreeMovement, RoboticLinearMovement, RoboticClampSyncLinearMovement\n",
    "\n",
    "solve_mode_ = 'nonlinear' # linear_backward | linear_forward | nonlinear\n",
    "\n",
    "# total_rows = 0\n",
    "# for i, d in runtime_data[solve_mode_].items():\n",
    "#     total_rows += len(d)+1\n",
    "max_inner_loop_displayed = 6\n",
    "\n",
    "for attempt_i, s_rdata in runtime_data[solve_mode_].items():\n",
    "    if len(s_rdata) > max_inner_loop_displayed:\n",
    "        num_rows = max_inner_loop_displayed+1\n",
    "        half = int(max_inner_loop_displayed/2)\n",
    "        selected_inners = list(range(0,half)) + list(range(len(s_rdata)-half,len(s_rdata)))\n",
    "    else:\n",
    "        num_rows = len(s_rdata)+1\n",
    "        selected_inners = list(range(len(s_rdata)))\n",
    "    \n",
    "    fig = make_subplots(rows=num_rows, cols=2)\n",
    "    success = any([d['success'] for di, d in s_rdata.items()])\n",
    "    total_runtime = []\n",
    "    failed_m_id = []\n",
    "    for i in s_rdata.keys():\n",
    "        trial_data = s_rdata[i]\n",
    "        trial_profiles = trial_data['profiles']\n",
    "        mid_keys = sorted(trial_profiles.keys(), key=int)\n",
    "        runtime_per_move = [sum(trial_profiles[mid]['plan_time']) for mid in mid_keys]\n",
    "        total_runtime.append(sum(runtime_per_move))\n",
    "        \n",
    "        for mid in mid_keys:\n",
    "            if not any(trial_profiles[mid]['plan_success']):\n",
    "                movement = process.get_movement_by_movement_id(trial_profiles[mid]['movement_id'][0])\n",
    "                m_color = '#ff1b6b' if isinstance(movement, RoboticFreeMovement) else '#45caff'\n",
    "                failed_m_id.append((mid, movement.short_summary, m_color))\n",
    "                break\n",
    "        else:\n",
    "            failed_m_id.append((-1, 'success!', '#00ff87'))\n",
    "        \n",
    "        if i in selected_inners or int(i) in selected_inners:\n",
    "            success_colors = ['#99C24D' if any(trial_profiles[mid]['plan_success']) else '#F18F01' for mid in mid_keys]\n",
    "            row_id = selected_inners.index(int(i))+1\n",
    "            fig.append_trace(go.Scatter(x=mid_keys,\n",
    "                                    y=runtime_per_move,\n",
    "                                    mode='markers',\n",
    "                                    marker_color=success_colors,\n",
    "                                    text=[process.get_movement_by_movement_id(trial_profiles[mid]['movement_id'][0]).short_summary \\\n",
    "                                          for mid in mid_keys], # hover text goes here\n",
    "                                    name='#{}-feasibility'.format(i),\n",
    "                                    ),\n",
    "                          row=row_id, col=1\n",
    "                        )\n",
    "\n",
    "            fig.append_trace(go.Scatter(x=mid_keys,\n",
    "                                            y=runtime_per_move,\n",
    "                                            mode='markers',\n",
    "                                                marker=dict(\n",
    "                                                size=5,\n",
    "                                                color=[trial_profiles[mid]['sample_order'][0] for mid in mid_keys], #set color equal to a variable\n",
    "                                                colorscale='Viridis', # one of plotly colorscales\n",
    "                                                showscale=True\n",
    "                                            ),\n",
    "                                            text=['S#{}-{}'.format(trial_profiles[mid]['sample_order'][0], process.get_movement_by_movement_id(trial_profiles[mid]['movement_id'][0]).short_summary) \\\n",
    "                                                  for mid in mid_keys], # hover text goes here\n",
    "                                            name='#{}-sample order'.format(i),),\n",
    "                          row=row_id, col=2\n",
    "                            )\n",
    "            if row_id == 1:\n",
    "                fig.update_xaxes(title_text=\"m_id\",row=row_id, col=1)\n",
    "                fig.update_yaxes(title_text=\"runtime(s)\",row=row_id, col=1)\n",
    "\n",
    "    fig.append_trace(go.Scatter(x=list(range(len(s_rdata))),y=total_runtime), \n",
    "                     row=num_rows, col=1)\n",
    "    fig.update_xaxes(title_text=\"trials\",row=num_rows, col=1)\n",
    "    fig.update_yaxes(title_text=\"runtime(s)\",row=num_rows, col=1)\n",
    "    \n",
    "    fig.append_trace(go.Scatter(x=list(range(len(failed_m_id))),y=[tt[0] for tt in failed_m_id],\n",
    "                                mode='markers',\n",
    "                                marker_color=[tt[2] for tt in failed_m_id],\n",
    "                                text=[tt[1] for tt in failed_m_id],\n",
    "                               ), row=num_rows, col=2)\n",
    "    fig.update_xaxes(title_text=\"trials\",row=num_rows, col=2)\n",
    "    fig.update_yaxes(title_text=\"failed_movement_id\",row=num_rows, col=2)\n",
    "\n",
    "    \n",
    "    title = \"figs/{}-{}-trail_{}_success-{}_BT-{}_time-{:.1f}\".format(beam_id, solve_mode_, \n",
    "        attempt_i, success, len(s_rdata), sum(total_runtime))\n",
    "    fig.update_layout(title=title)\n",
    "    fig.write_html(title + \".html\")\n",
    "# fig.show()"
   ]
  },
  {
   "cell_type": "code",
   "execution_count": 41,
   "id": "inappropriate-vienna",
   "metadata": {},
   "outputs": [
    {
     "data": {
      "text/plain": [
       "207"
      ]
     },
     "execution_count": 41,
     "metadata": {},
     "output_type": "execute_result"
    }
   ],
   "source": [
    "len(failed_m_id)"
   ]
  },
  {
   "cell_type": "markdown",
   "id": "empty-heavy",
   "metadata": {},
   "source": [
    "# Save runtime data"
   ]
  },
  {
   "cell_type": "code",
   "execution_count": 106,
   "id": "funded-toddler",
   "metadata": {},
   "outputs": [
    {
     "data": {
      "text/plain": [
       "dict_keys(['linear', 'nonlinear'])"
      ]
     },
     "execution_count": 106,
     "metadata": {},
     "output_type": "execute_result"
    }
   ],
   "source": [
    "runtime_data.keys()"
   ]
  },
  {
   "cell_type": "markdown",
   "id": "graduate-middle",
   "metadata": {},
   "source": [
    "# Disconnect client"
   ]
  },
  {
   "cell_type": "code",
   "execution_count": 48,
   "id": "junior-standing",
   "metadata": {
    "collapsed": true,
    "jupyter": {
     "outputs_hidden": true
    }
   },
   "outputs": [],
   "source": [
    "client.disconnect()"
   ]
  },
  {
   "cell_type": "markdown",
   "id": "civil-partner",
   "metadata": {},
   "source": [
    "# Plan only one movement"
   ]
  },
  {
   "cell_type": "code",
   "execution_count": 29,
   "id": "ambient-calculator",
   "metadata": {},
   "outputs": [],
   "source": [
    "# if id_only:\n",
    "#     beam_id = process.get_beam_id_from_movement_id(id_only)\n",
    "#     process.get_movement_summary_by_beam_id(beam_id)"
   ]
  },
  {
   "cell_type": "code",
   "execution_count": 39,
   "id": "experienced-industry",
   "metadata": {},
   "outputs": [
    {
     "name": "stdout",
     "output_type": "stream",
     "text": [
      "\u001b[36mRoboticLinearMovement(#A2_M1, Linear Advance to Final Frame of Beam ('b0'), traj 1)\u001b[0m\n",
      "\u001b[33mend conf FK inconsistent (0.00005 m) with given current frame in end state.\u001b[0m\n",
      "\u001b[33mBoth start/end confs are pre-specified, problem might be too stiff to be solved.\u001b[0m\n",
      "\u001b[34mOne-sided Cartesian planning : start conf set, forward mode\u001b[0m\n",
      "\tcartesian trial #0\n",
      "\u001b[32mPlan found by IterativeIK! After 0 path failure (by IterativeIK) over 1 samples.\u001b[0m\n"
     ]
    },
    {
     "data": {
      "text/plain": [
       "True"
      ]
     },
     "execution_count": 39,
     "metadata": {},
     "output_type": "execute_result"
    }
   ],
   "source": [
    "from integral_timber_joints.planning.stream import compute_free_movement, compute_linear_movement\n",
    "from integral_timber_joints.planning.solve import compute_movement\n",
    "\n",
    "chosen_m = process.get_movement_by_movement_id(id_only)\n",
    "compute_movement(client, robot, process, chosen_m, options=lm_options, diagnosis=diagnosis)"
   ]
  },
  {
   "cell_type": "code",
   "execution_count": 40,
   "id": "british-conflict",
   "metadata": {},
   "outputs": [
    {
     "name": "stdout",
     "output_type": "stream",
     "text": [
      "===\n",
      "Viz:\u001b[0m\n",
      "\u001b[32mRoboticLinearMovement(#A2_M1, Linear Advance to Final Frame of Beam ('b0'), traj 1)\u001b[0m\n"
     ]
    },
    {
     "name": "stdin",
     "output_type": "stream",
     "text": [
      "Step conf. \n",
      "Step conf. \n",
      "Step conf. \n",
      "Step conf. \n",
      "Step conf. \n",
      "Step conf. \n",
      "Step conf. \n",
      "End state. \n"
     ]
    }
   ],
   "source": [
    "from integral_timber_joints.planning.visualization import visualize_movement_trajectory\n",
    "\n",
    "with pp.WorldSaver():\n",
    "    visualize_movement_trajectory(client, robot, process, chosen_m, step_sim=True)"
   ]
  },
  {
   "cell_type": "markdown",
   "id": "ba117a0a",
   "metadata": {},
   "source": [
    "# Debug"
   ]
  },
  {
   "cell_type": "code",
   "execution_count": 114,
   "id": "212fe87b",
   "metadata": {},
   "outputs": [
    {
     "name": "stdout",
     "output_type": "stream",
     "text": [
      "{\n",
      "    \"point\": [\n",
      "        16365.955352783203,\n",
      "        5373.7616539001465,\n",
      "        1185.3845119476318\n",
      "    ],\n",
      "    \"xaxis\": [\n",
      "        -0.2580321229101535,\n",
      "        0.6278875467781188,\n",
      "        0.7342864918731894\n",
      "    ],\n",
      "    \"yaxis\": [\n",
      "        -0.9661363350844321,\n",
      "        -0.1677526279329609,\n",
      "        -0.19606029136775213\n",
      "    ]\n",
      "}\n",
      "{\n",
      "    \"point\": [\n",
      "        16365.955352783203,\n",
      "        5373.7616539001465,\n",
      "        1185.3845119476318\n",
      "    ],\n",
      "    \"xaxis\": [\n",
      "        -0.25803212291015387,\n",
      "        0.6278875467781186,\n",
      "        0.7342864918731893\n",
      "    ],\n",
      "    \"yaxis\": [\n",
      "        -0.9661363350844319,\n",
      "        -0.16775262793296133,\n",
      "        -0.19606029136775227\n",
      "    ]\n",
      "}\n"
     ]
    }
   ],
   "source": [
    "prev_m = process.get_movement_by_movement_id('A40_M6')\n",
    "start_state = process.get_movement_start_state(prev_m)\n",
    "end_state = process.get_movement_end_state(prev_m)\n",
    "\n",
    "# v = end_state['robot'].current_frame.point - start_state['robot'].current_frame.point\n",
    "# list(v)\n",
    "set_state(client, robot, process, end_state)\n",
    "print(end_state['tool_changer'].current_frame)\n",
    "print(client.get_object_frame('^tool_changer$', scale=1e3)[75])"
   ]
  },
  {
   "cell_type": "code",
   "execution_count": 109,
   "id": "d29f18e6",
   "metadata": {},
   "outputs": [
    {
     "name": "stdout",
     "output_type": "stream",
     "text": [
      "{\n",
      "    \"point\": [\n",
      "        16365.961074829102,\n",
      "        5373.770236968994,\n",
      "        1185.3852272033691\n",
      "    ],\n",
      "    \"xaxis\": [\n",
      "        -0.2580321229101535,\n",
      "        0.6278875467781188,\n",
      "        0.7342864918731894\n",
      "    ],\n",
      "    \"yaxis\": [\n",
      "        -0.9661363350844321,\n",
      "        -0.1677526279329609,\n",
      "        -0.19606029136775213\n",
      "    ]\n",
      "}\n"
     ]
    }
   ],
   "source": [
    "client.set_robot_configuration(robot, end_state['robot'].kinematic_config)\n",
    "print(client.get_object_frame('^tool_changer$', scale=1e3)[75])"
   ]
  },
  {
   "cell_type": "code",
   "execution_count": 116,
   "id": "523cf3b0",
   "metadata": {},
   "outputs": [
    {
     "data": {
      "text/plain": [
       "False"
      ]
     },
     "execution_count": 116,
     "metadata": {},
     "output_type": "execute_result"
    }
   ],
   "source": [
    "from compas_fab_pychoreo.backend_features.pychoreo_configuration_collision_checker import PyChoreoConfigurationCollisionChecker\n",
    "\n",
    "set_state(client, robot, process, end_state, options=options)\n",
    "# set_state(client, robot, process, start_state, options=options)\n",
    "pychore_collision_fn = PyChoreoConfigurationCollisionChecker(client)\n",
    "# end_state['robot'].kinematic_config\n",
    "options['diagnosis'] = True\n",
    "pychore_collision_fn.check_collisions(robot, prev_m.trajectory.points[-2], options=options)"
   ]
  },
  {
   "cell_type": "code",
   "execution_count": 79,
   "id": "77ef66ba",
   "metadata": {},
   "outputs": [],
   "source": [
    "tc_body = client.pychoreo_attachments['tool_changer']"
   ]
  },
  {
   "cell_type": "code",
   "execution_count": 83,
   "id": "c16e0eb8",
   "metadata": {},
   "outputs": [
    {
     "data": {
      "text/plain": [
       "Frame(Point(0.016, 0.005, 0.001), Vector(-0.258, 0.628, 0.734), Vector(-0.966, -0.168, -0.196))"
      ]
     },
     "execution_count": 83,
     "metadata": {},
     "output_type": "execute_result"
    }
   ],
   "source": [
    "from compas_fab_pychoreo.conversions import pose_from_frame, frame_from_pose\n",
    "\n",
    "frame_from_pose(pp.get_pose(75))"
   ]
  },
  {
   "cell_type": "code",
   "execution_count": 75,
   "id": "28fe391c",
   "metadata": {},
   "outputs": [
    {
     "data": {
      "text/plain": [
       "{75: Frame(Point(16.366, 5.374, 1.185), Vector(-0.258, 0.628, 0.734), Vector(-0.966, -0.168, -0.196))}"
      ]
     },
     "execution_count": 75,
     "metadata": {},
     "output_type": "execute_result"
    }
   ],
   "source": [
    "client.get_object_frame('^tool_changer$')"
   ]
  },
  {
   "cell_type": "code",
   "execution_count": 44,
   "id": "f5062e22",
   "metadata": {},
   "outputs": [
    {
     "name": "stdout",
     "output_type": "stream",
     "text": [
      "State: current frame: {\n",
      "    \"point\": [\n",
      "        16365.989685058594,\n",
      "        5373.808860778809,\n",
      "        1185.4075193405151\n",
      "    ],\n",
      "    \"xaxis\": [\n",
      "        -0.25802939931448104,\n",
      "        0.6277901217809272,\n",
      "        0.7343707456616834\n",
      "    ],\n",
      "    \"yaxis\": [\n",
      "        -0.9661370648091927,\n",
      "        -0.16763997964096333,\n",
      "        -0.1961530250285612\n",
      "    ]\n",
      "} | config: JointTrajectoryPoint((15.468, -4.130, -2.020, 2.159, -0.587, -2.805, 0.492, -2.039, 0.908), (2, 2, 2, 0, 0, 0, 0, 0, 0), (0.000, 0.000, 0.000, 0.000, 0.000, 0.000, 0.000, 0.000, 0.000), (0.000, 0.000, 0.000, 0.000, 0.000, 0.000, 0.000, 0.000, 0.000), (0.000, 0.000, 0.000, 0.000, 0.000, 0.000, 0.000, 0.000, 0.000), Duration(11, 0)) | attached to robot: False\n",
      "State: current frame: {\n",
      "    \"point\": [\n",
      "        16366.001562499872,\n",
      "        5373.822840010225,\n",
      "        1185.408652972277\n",
      "    ],\n",
      "    \"xaxis\": [\n",
      "        -0.2580290176609404,\n",
      "        0.6277482599146081,\n",
      "        0.7344066640622972\n",
      "    ],\n",
      "    \"yaxis\": [\n",
      "        -0.9661371673033442,\n",
      "        -0.16765452393882985,\n",
      "        -0.19614008911467898\n",
      "    ]\n",
      "} | config: None | attached to robot: True\n"
     ]
    }
   ],
   "source": [
    "print(end_state['robot'])\n",
    "print(end_state['tool_changer'])"
   ]
  }
 ],
 "metadata": {
  "interpreter": {
   "hash": "e316c14abce5fba3fe9c4f8c619f8000a7b0c13889e51eb6196aed0ab3fd7ed0"
  },
  "kernelspec": {
   "display_name": "Python 3 (ipykernel)",
   "language": "python",
   "name": "python3"
  },
  "language_info": {
   "codemirror_mode": {
    "name": "ipython",
    "version": 3
   },
   "file_extension": ".py",
   "mimetype": "text/x-python",
   "name": "python",
   "nbconvert_exporter": "python",
   "pygments_lexer": "ipython3",
   "version": "3.7.9"
  }
 },
 "nbformat": 4,
 "nbformat_minor": 5
}
